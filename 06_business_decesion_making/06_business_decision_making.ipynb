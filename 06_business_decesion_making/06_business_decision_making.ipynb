{
 "cells": [
  {
   "cell_type": "markdown",
   "metadata": {},
   "source": [
    "# Analysing A/B test results, business decision-making"
   ]
  },
  {
   "cell_type": "markdown",
   "metadata": {},
   "source": [
    "This project is conducted with the marketing department of a large online shop.  \n",
    "\n",
    "**Project Purpose:**  \n",
    "The shop wants to increase the revenue, for a clear strategy a research is required.  \n",
    "  \n",
    "The research will involve the following steps:  \n",
    "- prioritisation of hypotheses,  \n",
    "- running an A/B test,\n",
    "- analysing the results of the test.  \n",
    "  \n",
    "**Description of data:**  \n",
    "Hypothesis.csv file  \n",
    "Hypothesis - a brief description of the hypothesis;  \n",
    "Reach - user reach on a 10-point scale;  \n",
    "Impact - impact on users on a 10-point scale;  \n",
    "Confidence - confidence in the hypothesis on a 10-point scale;  \n",
    "Efforts - resource costs for hypothesis testing on a 10-point scale (the higher the Efforts value, the more expensive the hypothesis testing).  \n",
    "  \n",
    "Orders.csv file  \n",
    "transactionId - order identifier;  \n",
    "visitorId - identifier of the user who made the order;  \n",
    "date - date when the order was made;  \n",
    "revenue - revenue from the order;  \n",
    "group - A/B-test group the order fell into.    \n",
    "  \n",
    "The visitors.csv file  \n",
    "date - date;  \n",
    "group - A/B-test group;  \n",
    "visitors - number of users in the specified date in the specified A/B-test group."
   ]
  },
  {
   "cell_type": "markdown",
   "metadata": {},
   "source": [
    "## Hypotheses prioritisation "
   ]
  },
  {
   "cell_type": "code",
   "execution_count": 1,
   "metadata": {},
   "outputs": [],
   "source": [
    "# libraries import\n",
    "import os\n",
    "import pandas as pd\n",
    "import datetime as dt\n",
    "import numpy as np\n",
    "import matplotlib.pyplot as plt\n",
    "from matplotlib.pyplot import figure\n",
    "import scipy.stats as stats"
   ]
  },
  {
   "cell_type": "code",
   "execution_count": 2,
   "metadata": {},
   "outputs": [],
   "source": [
    "# hide warnings\n",
    "import warnings\n",
    "warnings.filterwarnings('ignore')"
   ]
  },
  {
   "cell_type": "code",
   "execution_count": 53,
   "metadata": {},
   "outputs": [
    {
     "data": {
      "text/html": [
       "<style>.container { width:80% !important; }</style>"
      ],
      "text/plain": [
       "<IPython.core.display.HTML object>"
      ]
     },
     "metadata": {},
     "output_type": "display_data"
    },
    {
     "data": {
      "text/html": [
       "<style>#toc-wrapper{ position: relative; width: 20%; top: 130px; left: 0px; }</style>"
      ],
      "text/plain": [
       "<IPython.core.display.HTML object>"
      ]
     },
     "metadata": {},
     "output_type": "display_data"
    }
   ],
   "source": [
    "# widening the notebook display\n",
    "from IPython.core.display import display, HTML\n",
    "display(HTML(\"<style>.container { width:80% !important; }</style>\"))\n",
    "\n",
    "# returning full TOC\n",
    "display(HTML(\"<style>#toc-wrapper{ position: relative; width: 20%; top: 130px; left: 0px; }</style>\"))"
   ]
  },
  {
   "cell_type": "code",
   "execution_count": 4,
   "metadata": {},
   "outputs": [],
   "source": [
    "# plot size setting\n",
    "plt.rcParams[\"figure.figsize\"] = (15,10)"
   ]
  },
  {
   "cell_type": "markdown",
   "metadata": {},
   "source": [
    "### Files upload"
   ]
  },
  {
   "cell_type": "code",
   "execution_count": 5,
   "metadata": {},
   "outputs": [],
   "source": [
    "hypothesis = pd.read_csv('https://code.s3.yandex.net/datasets/hypothesis.csv', encoding='utf-8')\n",
    "orders = pd.read_csv('https://code.s3.yandex.net/datasets/orders.csv', parse_dates=['date'])\n",
    "visitors = pd.read_csv('https://code.s3.yandex.net/datasets/visitors.csv', parse_dates=['date'])"
   ]
  },
  {
   "cell_type": "markdown",
   "metadata": {},
   "source": [
    "#### Data check"
   ]
  },
  {
   "cell_type": "code",
   "execution_count": 6,
   "metadata": {},
   "outputs": [
    {
     "data": {
      "text/html": [
       "<div>\n",
       "<style scoped>\n",
       "    .dataframe tbody tr th:only-of-type {\n",
       "        vertical-align: middle;\n",
       "    }\n",
       "\n",
       "    .dataframe tbody tr th {\n",
       "        vertical-align: top;\n",
       "    }\n",
       "\n",
       "    .dataframe thead th {\n",
       "        text-align: right;\n",
       "    }\n",
       "</style>\n",
       "<table border=\"1\" class=\"dataframe\">\n",
       "  <thead>\n",
       "    <tr style=\"text-align: right;\">\n",
       "      <th></th>\n",
       "      <th>Hypothesis</th>\n",
       "      <th>Reach</th>\n",
       "      <th>Impact</th>\n",
       "      <th>Confidence</th>\n",
       "      <th>Efforts</th>\n",
       "    </tr>\n",
       "  </thead>\n",
       "  <tbody>\n",
       "    <tr>\n",
       "      <th>0</th>\n",
       "      <td>Добавить два новых канала привлечения трафика, что позволит привлекать на 30% больше пользователей</td>\n",
       "      <td>3</td>\n",
       "      <td>10</td>\n",
       "      <td>8</td>\n",
       "      <td>6</td>\n",
       "    </tr>\n",
       "    <tr>\n",
       "      <th>1</th>\n",
       "      <td>Запустить собственную службу доставки, что сократит срок доставки заказов</td>\n",
       "      <td>2</td>\n",
       "      <td>5</td>\n",
       "      <td>4</td>\n",
       "      <td>10</td>\n",
       "    </tr>\n",
       "    <tr>\n",
       "      <th>2</th>\n",
       "      <td>Добавить блоки рекомендаций товаров на сайт интернет магазина, чтобы повысить конверсию и средний чек заказа</td>\n",
       "      <td>8</td>\n",
       "      <td>3</td>\n",
       "      <td>7</td>\n",
       "      <td>3</td>\n",
       "    </tr>\n",
       "    <tr>\n",
       "      <th>3</th>\n",
       "      <td>Изменить структура категорий, что увеличит конверсию, т.к. пользователи быстрее найдут нужный товар</td>\n",
       "      <td>8</td>\n",
       "      <td>3</td>\n",
       "      <td>3</td>\n",
       "      <td>8</td>\n",
       "    </tr>\n",
       "    <tr>\n",
       "      <th>4</th>\n",
       "      <td>Изменить цвет фона главной страницы, чтобы увеличить вовлеченность пользователей</td>\n",
       "      <td>3</td>\n",
       "      <td>1</td>\n",
       "      <td>1</td>\n",
       "      <td>1</td>\n",
       "    </tr>\n",
       "    <tr>\n",
       "      <th>5</th>\n",
       "      <td>Добавить страницу отзывов клиентов о магазине, что позволит увеличить количество заказов</td>\n",
       "      <td>3</td>\n",
       "      <td>2</td>\n",
       "      <td>2</td>\n",
       "      <td>3</td>\n",
       "    </tr>\n",
       "    <tr>\n",
       "      <th>6</th>\n",
       "      <td>Показать на главной странице баннеры с актуальными акциями и распродажами, чтобы увеличить конверсию</td>\n",
       "      <td>5</td>\n",
       "      <td>3</td>\n",
       "      <td>8</td>\n",
       "      <td>3</td>\n",
       "    </tr>\n",
       "    <tr>\n",
       "      <th>7</th>\n",
       "      <td>Добавить форму подписки на все основные страницы, чтобы собрать базу клиентов для email-рассылок</td>\n",
       "      <td>10</td>\n",
       "      <td>7</td>\n",
       "      <td>8</td>\n",
       "      <td>5</td>\n",
       "    </tr>\n",
       "    <tr>\n",
       "      <th>8</th>\n",
       "      <td>Запустить акцию, дающую скидку на товар в день рождения</td>\n",
       "      <td>1</td>\n",
       "      <td>9</td>\n",
       "      <td>9</td>\n",
       "      <td>5</td>\n",
       "    </tr>\n",
       "  </tbody>\n",
       "</table>\n",
       "</div>"
      ],
      "text/plain": [
       "                                                                                                     Hypothesis  \\\n",
       "0            Добавить два новых канала привлечения трафика, что позволит привлекать на 30% больше пользователей   \n",
       "1                                     Запустить собственную службу доставки, что сократит срок доставки заказов   \n",
       "2  Добавить блоки рекомендаций товаров на сайт интернет магазина, чтобы повысить конверсию и средний чек заказа   \n",
       "3           Изменить структура категорий, что увеличит конверсию, т.к. пользователи быстрее найдут нужный товар   \n",
       "4                              Изменить цвет фона главной страницы, чтобы увеличить вовлеченность пользователей   \n",
       "5                      Добавить страницу отзывов клиентов о магазине, что позволит увеличить количество заказов   \n",
       "6          Показать на главной странице баннеры с актуальными акциями и распродажами, чтобы увеличить конверсию   \n",
       "7              Добавить форму подписки на все основные страницы, чтобы собрать базу клиентов для email-рассылок   \n",
       "8                                                       Запустить акцию, дающую скидку на товар в день рождения   \n",
       "\n",
       "   Reach  Impact  Confidence  Efforts  \n",
       "0      3      10           8        6  \n",
       "1      2       5           4       10  \n",
       "2      8       3           7        3  \n",
       "3      8       3           3        8  \n",
       "4      3       1           1        1  \n",
       "5      3       2           2        3  \n",
       "6      5       3           8        3  \n",
       "7     10       7           8        5  \n",
       "8      1       9           9        5  "
      ]
     },
     "execution_count": 6,
     "metadata": {},
     "output_type": "execute_result"
    }
   ],
   "source": [
    "# text wide column size setting\n",
    "pd.options.display.max_colwidth = 150\n",
    "# displaying df\n",
    "hypothesis"
   ]
  },
  {
   "cell_type": "markdown",
   "metadata": {},
   "source": [
    "We have a file with nine hypotheses with parameters:  \n",
    "**R** - Reach,  \n",
    "**I** - Impact,  \n",
    "**C** -Confidence,  \n",
    "**E** - Efforts.  \n",
    "  \n",
    "All data are given with a 10-point scale."
   ]
  },
  {
   "cell_type": "markdown",
   "metadata": {},
   "source": [
    "#### Let's apply the ICE framework to prioritise hypotheses:"
   ]
  },
  {
   "cell_type": "code",
   "execution_count": 7,
   "metadata": {},
   "outputs": [
    {
     "data": {
      "text/html": [
       "<div>\n",
       "<style scoped>\n",
       "    .dataframe tbody tr th:only-of-type {\n",
       "        vertical-align: middle;\n",
       "    }\n",
       "\n",
       "    .dataframe tbody tr th {\n",
       "        vertical-align: top;\n",
       "    }\n",
       "\n",
       "    .dataframe thead th {\n",
       "        text-align: right;\n",
       "    }\n",
       "</style>\n",
       "<table border=\"1\" class=\"dataframe\">\n",
       "  <thead>\n",
       "    <tr style=\"text-align: right;\">\n",
       "      <th></th>\n",
       "      <th>Hypothesis</th>\n",
       "      <th>Reach</th>\n",
       "      <th>Impact</th>\n",
       "      <th>Confidence</th>\n",
       "      <th>Efforts</th>\n",
       "      <th>ICE</th>\n",
       "    </tr>\n",
       "  </thead>\n",
       "  <tbody>\n",
       "    <tr>\n",
       "      <th>8</th>\n",
       "      <td>Запустить акцию, дающую скидку на товар в день рождения</td>\n",
       "      <td>1</td>\n",
       "      <td>9</td>\n",
       "      <td>9</td>\n",
       "      <td>5</td>\n",
       "      <td>16.20</td>\n",
       "    </tr>\n",
       "    <tr>\n",
       "      <th>0</th>\n",
       "      <td>Добавить два новых канала привлечения трафика, что позволит привлекать на 30% больше пользователей</td>\n",
       "      <td>3</td>\n",
       "      <td>10</td>\n",
       "      <td>8</td>\n",
       "      <td>6</td>\n",
       "      <td>13.33</td>\n",
       "    </tr>\n",
       "    <tr>\n",
       "      <th>7</th>\n",
       "      <td>Добавить форму подписки на все основные страницы, чтобы собрать базу клиентов для email-рассылок</td>\n",
       "      <td>10</td>\n",
       "      <td>7</td>\n",
       "      <td>8</td>\n",
       "      <td>5</td>\n",
       "      <td>11.20</td>\n",
       "    </tr>\n",
       "    <tr>\n",
       "      <th>6</th>\n",
       "      <td>Показать на главной странице баннеры с актуальными акциями и распродажами, чтобы увеличить конверсию</td>\n",
       "      <td>5</td>\n",
       "      <td>3</td>\n",
       "      <td>8</td>\n",
       "      <td>3</td>\n",
       "      <td>8.00</td>\n",
       "    </tr>\n",
       "    <tr>\n",
       "      <th>2</th>\n",
       "      <td>Добавить блоки рекомендаций товаров на сайт интернет магазина, чтобы повысить конверсию и средний чек заказа</td>\n",
       "      <td>8</td>\n",
       "      <td>3</td>\n",
       "      <td>7</td>\n",
       "      <td>3</td>\n",
       "      <td>7.00</td>\n",
       "    </tr>\n",
       "    <tr>\n",
       "      <th>1</th>\n",
       "      <td>Запустить собственную службу доставки, что сократит срок доставки заказов</td>\n",
       "      <td>2</td>\n",
       "      <td>5</td>\n",
       "      <td>4</td>\n",
       "      <td>10</td>\n",
       "      <td>2.00</td>\n",
       "    </tr>\n",
       "    <tr>\n",
       "      <th>5</th>\n",
       "      <td>Добавить страницу отзывов клиентов о магазине, что позволит увеличить количество заказов</td>\n",
       "      <td>3</td>\n",
       "      <td>2</td>\n",
       "      <td>2</td>\n",
       "      <td>3</td>\n",
       "      <td>1.33</td>\n",
       "    </tr>\n",
       "    <tr>\n",
       "      <th>3</th>\n",
       "      <td>Изменить структура категорий, что увеличит конверсию, т.к. пользователи быстрее найдут нужный товар</td>\n",
       "      <td>8</td>\n",
       "      <td>3</td>\n",
       "      <td>3</td>\n",
       "      <td>8</td>\n",
       "      <td>1.12</td>\n",
       "    </tr>\n",
       "    <tr>\n",
       "      <th>4</th>\n",
       "      <td>Изменить цвет фона главной страницы, чтобы увеличить вовлеченность пользователей</td>\n",
       "      <td>3</td>\n",
       "      <td>1</td>\n",
       "      <td>1</td>\n",
       "      <td>1</td>\n",
       "      <td>1.00</td>\n",
       "    </tr>\n",
       "  </tbody>\n",
       "</table>\n",
       "</div>"
      ],
      "text/plain": [
       "                                                                                                     Hypothesis  \\\n",
       "8                                                       Запустить акцию, дающую скидку на товар в день рождения   \n",
       "0            Добавить два новых канала привлечения трафика, что позволит привлекать на 30% больше пользователей   \n",
       "7              Добавить форму подписки на все основные страницы, чтобы собрать базу клиентов для email-рассылок   \n",
       "6          Показать на главной странице баннеры с актуальными акциями и распродажами, чтобы увеличить конверсию   \n",
       "2  Добавить блоки рекомендаций товаров на сайт интернет магазина, чтобы повысить конверсию и средний чек заказа   \n",
       "1                                     Запустить собственную службу доставки, что сократит срок доставки заказов   \n",
       "5                      Добавить страницу отзывов клиентов о магазине, что позволит увеличить количество заказов   \n",
       "3           Изменить структура категорий, что увеличит конверсию, т.к. пользователи быстрее найдут нужный товар   \n",
       "4                              Изменить цвет фона главной страницы, чтобы увеличить вовлеченность пользователей   \n",
       "\n",
       "   Reach  Impact  Confidence  Efforts    ICE  \n",
       "8      1       9           9        5  16.20  \n",
       "0      3      10           8        6  13.33  \n",
       "7     10       7           8        5  11.20  \n",
       "6      5       3           8        3   8.00  \n",
       "2      8       3           7        3   7.00  \n",
       "1      2       5           4       10   2.00  \n",
       "5      3       2           2        3   1.33  \n",
       "3      8       3           3        8   1.12  \n",
       "4      3       1           1        1   1.00  "
      ]
     },
     "execution_count": 7,
     "metadata": {},
     "output_type": "execute_result"
    }
   ],
   "source": [
    "hypothesis['ICE'] = hypothesis['Impact'] * hypothesis['Confidence'] / hypothesis['Efforts']\n",
    "hypothesis['ICE'] = hypothesis['ICE'].round(2)\n",
    "hypothesis.sort_values(by='ICE', ascending=False)"
   ]
  },
  {
   "cell_type": "markdown",
   "metadata": {},
   "source": [
    "According to the ICE indicator, using the 3 available criteria, we can highlight 3 hypotheses: 8, 0, 7."
   ]
  },
  {
   "cell_type": "markdown",
   "metadata": {},
   "source": [
    "#### Consider the RICE indicator for each hypothesis:"
   ]
  },
  {
   "cell_type": "code",
   "execution_count": 8,
   "metadata": {},
   "outputs": [
    {
     "data": {
      "text/html": [
       "<div>\n",
       "<style scoped>\n",
       "    .dataframe tbody tr th:only-of-type {\n",
       "        vertical-align: middle;\n",
       "    }\n",
       "\n",
       "    .dataframe tbody tr th {\n",
       "        vertical-align: top;\n",
       "    }\n",
       "\n",
       "    .dataframe thead th {\n",
       "        text-align: right;\n",
       "    }\n",
       "</style>\n",
       "<table border=\"1\" class=\"dataframe\">\n",
       "  <thead>\n",
       "    <tr style=\"text-align: right;\">\n",
       "      <th></th>\n",
       "      <th>Hypothesis</th>\n",
       "      <th>Reach</th>\n",
       "      <th>Impact</th>\n",
       "      <th>Confidence</th>\n",
       "      <th>Efforts</th>\n",
       "      <th>ICE</th>\n",
       "      <th>RICE</th>\n",
       "    </tr>\n",
       "  </thead>\n",
       "  <tbody>\n",
       "    <tr>\n",
       "      <th>7</th>\n",
       "      <td>Добавить форму подписки на все основные страницы, чтобы собрать базу клиентов для email-рассылок</td>\n",
       "      <td>10</td>\n",
       "      <td>7</td>\n",
       "      <td>8</td>\n",
       "      <td>5</td>\n",
       "      <td>11.20</td>\n",
       "      <td>112.0</td>\n",
       "    </tr>\n",
       "    <tr>\n",
       "      <th>2</th>\n",
       "      <td>Добавить блоки рекомендаций товаров на сайт интернет магазина, чтобы повысить конверсию и средний чек заказа</td>\n",
       "      <td>8</td>\n",
       "      <td>3</td>\n",
       "      <td>7</td>\n",
       "      <td>3</td>\n",
       "      <td>7.00</td>\n",
       "      <td>56.0</td>\n",
       "    </tr>\n",
       "    <tr>\n",
       "      <th>0</th>\n",
       "      <td>Добавить два новых канала привлечения трафика, что позволит привлекать на 30% больше пользователей</td>\n",
       "      <td>3</td>\n",
       "      <td>10</td>\n",
       "      <td>8</td>\n",
       "      <td>6</td>\n",
       "      <td>13.33</td>\n",
       "      <td>40.0</td>\n",
       "    </tr>\n",
       "    <tr>\n",
       "      <th>6</th>\n",
       "      <td>Показать на главной странице баннеры с актуальными акциями и распродажами, чтобы увеличить конверсию</td>\n",
       "      <td>5</td>\n",
       "      <td>3</td>\n",
       "      <td>8</td>\n",
       "      <td>3</td>\n",
       "      <td>8.00</td>\n",
       "      <td>40.0</td>\n",
       "    </tr>\n",
       "    <tr>\n",
       "      <th>8</th>\n",
       "      <td>Запустить акцию, дающую скидку на товар в день рождения</td>\n",
       "      <td>1</td>\n",
       "      <td>9</td>\n",
       "      <td>9</td>\n",
       "      <td>5</td>\n",
       "      <td>16.20</td>\n",
       "      <td>16.2</td>\n",
       "    </tr>\n",
       "    <tr>\n",
       "      <th>3</th>\n",
       "      <td>Изменить структура категорий, что увеличит конверсию, т.к. пользователи быстрее найдут нужный товар</td>\n",
       "      <td>8</td>\n",
       "      <td>3</td>\n",
       "      <td>3</td>\n",
       "      <td>8</td>\n",
       "      <td>1.12</td>\n",
       "      <td>9.0</td>\n",
       "    </tr>\n",
       "    <tr>\n",
       "      <th>1</th>\n",
       "      <td>Запустить собственную службу доставки, что сократит срок доставки заказов</td>\n",
       "      <td>2</td>\n",
       "      <td>5</td>\n",
       "      <td>4</td>\n",
       "      <td>10</td>\n",
       "      <td>2.00</td>\n",
       "      <td>4.0</td>\n",
       "    </tr>\n",
       "    <tr>\n",
       "      <th>5</th>\n",
       "      <td>Добавить страницу отзывов клиентов о магазине, что позволит увеличить количество заказов</td>\n",
       "      <td>3</td>\n",
       "      <td>2</td>\n",
       "      <td>2</td>\n",
       "      <td>3</td>\n",
       "      <td>1.33</td>\n",
       "      <td>4.0</td>\n",
       "    </tr>\n",
       "    <tr>\n",
       "      <th>4</th>\n",
       "      <td>Изменить цвет фона главной страницы, чтобы увеличить вовлеченность пользователей</td>\n",
       "      <td>3</td>\n",
       "      <td>1</td>\n",
       "      <td>1</td>\n",
       "      <td>1</td>\n",
       "      <td>1.00</td>\n",
       "      <td>3.0</td>\n",
       "    </tr>\n",
       "  </tbody>\n",
       "</table>\n",
       "</div>"
      ],
      "text/plain": [
       "                                                                                                     Hypothesis  \\\n",
       "7              Добавить форму подписки на все основные страницы, чтобы собрать базу клиентов для email-рассылок   \n",
       "2  Добавить блоки рекомендаций товаров на сайт интернет магазина, чтобы повысить конверсию и средний чек заказа   \n",
       "0            Добавить два новых канала привлечения трафика, что позволит привлекать на 30% больше пользователей   \n",
       "6          Показать на главной странице баннеры с актуальными акциями и распродажами, чтобы увеличить конверсию   \n",
       "8                                                       Запустить акцию, дающую скидку на товар в день рождения   \n",
       "3           Изменить структура категорий, что увеличит конверсию, т.к. пользователи быстрее найдут нужный товар   \n",
       "1                                     Запустить собственную службу доставки, что сократит срок доставки заказов   \n",
       "5                      Добавить страницу отзывов клиентов о магазине, что позволит увеличить количество заказов   \n",
       "4                              Изменить цвет фона главной страницы, чтобы увеличить вовлеченность пользователей   \n",
       "\n",
       "   Reach  Impact  Confidence  Efforts    ICE   RICE  \n",
       "7     10       7           8        5  11.20  112.0  \n",
       "2      8       3           7        3   7.00   56.0  \n",
       "0      3      10           8        6  13.33   40.0  \n",
       "6      5       3           8        3   8.00   40.0  \n",
       "8      1       9           9        5  16.20   16.2  \n",
       "3      8       3           3        8   1.12    9.0  \n",
       "1      2       5           4       10   2.00    4.0  \n",
       "5      3       2           2        3   1.33    4.0  \n",
       "4      3       1           1        1   1.00    3.0  "
      ]
     },
     "execution_count": 8,
     "metadata": {},
     "output_type": "execute_result"
    }
   ],
   "source": [
    "hypothesis['RICE'] = (hypothesis['Reach'] * hypothesis['Impact'] * hypothesis['Confidence'] / hypothesis['Efforts'])\n",
    "hypothesis['RICE'] = hypothesis['RICE'].round(2)\n",
    "hypothesis.sort_values(by='RICE', ascending=False)"
   ]
  },
  {
   "cell_type": "markdown",
   "metadata": {},
   "source": [
    "Considering 4 criteria, hypotheses 7, 2, 0, 6 stand out for this indicator."
   ]
  },
  {
   "cell_type": "markdown",
   "metadata": {},
   "source": [
    "### Analysis of the change in prioritisation, when RICE is applied instead of ICE:"
   ]
  },
  {
   "cell_type": "markdown",
   "metadata": {},
   "source": [
    "This analysis takes into account the rules of mathematical division and multiplication.\n",
    "When calculating ICE, the hypotheses with maximum I and C scores, and average E scores, came out in the lead.\n",
    "Adding the R score, the 7th hypothesis came to the lead with maximum R, the 8th hypothesis slipped lower with minimum R, the 2nd showed a good RICE score with decent R, the 0 and 6 hypotheses shared the 3rd place with average R and good combinations of I, C and E."
   ]
  },
  {
   "cell_type": "markdown",
   "metadata": {},
   "source": [
    "**Summary:**  \n",
    "Hypothesis testing often requires large investments (financial and resource). To maximise the result at minimum cost, hypothesis prioritisation is carried out. Having conducted popular methods of task prioritisation using ICE and RICE methods, we found that hypotheses 0 and 7 are leading in both methods. Also, hypothesis 8 is additionally prioritised in ICE, and hypotheses 2 and 6 in RICE."
   ]
  },
  {
   "cell_type": "markdown",
   "metadata": {},
   "source": [
    "## Analizing the A/B test results"
   ]
  },
  {
   "cell_type": "markdown",
   "metadata": {},
   "source": [
    "### Files `orders` и `visitors` store the results of the tests performed, let's take a look at the data:"
   ]
  },
  {
   "cell_type": "code",
   "execution_count": 9,
   "metadata": {},
   "outputs": [
    {
     "data": {
      "text/html": [
       "<div>\n",
       "<style scoped>\n",
       "    .dataframe tbody tr th:only-of-type {\n",
       "        vertical-align: middle;\n",
       "    }\n",
       "\n",
       "    .dataframe tbody tr th {\n",
       "        vertical-align: top;\n",
       "    }\n",
       "\n",
       "    .dataframe thead th {\n",
       "        text-align: right;\n",
       "    }\n",
       "</style>\n",
       "<table border=\"1\" class=\"dataframe\">\n",
       "  <thead>\n",
       "    <tr style=\"text-align: right;\">\n",
       "      <th></th>\n",
       "      <th>transactionId</th>\n",
       "      <th>visitorId</th>\n",
       "      <th>date</th>\n",
       "      <th>revenue</th>\n",
       "      <th>group</th>\n",
       "    </tr>\n",
       "  </thead>\n",
       "  <tbody>\n",
       "    <tr>\n",
       "      <th>0</th>\n",
       "      <td>3667963787</td>\n",
       "      <td>3312258926</td>\n",
       "      <td>2019-08-15</td>\n",
       "      <td>1650</td>\n",
       "      <td>B</td>\n",
       "    </tr>\n",
       "    <tr>\n",
       "      <th>1</th>\n",
       "      <td>2804400009</td>\n",
       "      <td>3642806036</td>\n",
       "      <td>2019-08-15</td>\n",
       "      <td>730</td>\n",
       "      <td>B</td>\n",
       "    </tr>\n",
       "    <tr>\n",
       "      <th>2</th>\n",
       "      <td>2961555356</td>\n",
       "      <td>4069496402</td>\n",
       "      <td>2019-08-15</td>\n",
       "      <td>400</td>\n",
       "      <td>A</td>\n",
       "    </tr>\n",
       "    <tr>\n",
       "      <th>3</th>\n",
       "      <td>3797467345</td>\n",
       "      <td>1196621759</td>\n",
       "      <td>2019-08-15</td>\n",
       "      <td>9759</td>\n",
       "      <td>B</td>\n",
       "    </tr>\n",
       "    <tr>\n",
       "      <th>4</th>\n",
       "      <td>2282983706</td>\n",
       "      <td>2322279887</td>\n",
       "      <td>2019-08-15</td>\n",
       "      <td>2308</td>\n",
       "      <td>B</td>\n",
       "    </tr>\n",
       "  </tbody>\n",
       "</table>\n",
       "</div>"
      ],
      "text/plain": [
       "   transactionId   visitorId       date  revenue group\n",
       "0     3667963787  3312258926 2019-08-15     1650     B\n",
       "1     2804400009  3642806036 2019-08-15      730     B\n",
       "2     2961555356  4069496402 2019-08-15      400     A\n",
       "3     3797467345  1196621759 2019-08-15     9759     B\n",
       "4     2282983706  2322279887 2019-08-15     2308     B"
      ]
     },
     "execution_count": 9,
     "metadata": {},
     "output_type": "execute_result"
    }
   ],
   "source": [
    "orders.head()"
   ]
  },
  {
   "cell_type": "code",
   "execution_count": 10,
   "metadata": {},
   "outputs": [
    {
     "name": "stdout",
     "output_type": "stream",
     "text": [
      "<class 'pandas.core.frame.DataFrame'>\n",
      "RangeIndex: 1197 entries, 0 to 1196\n",
      "Data columns (total 5 columns):\n",
      " #   Column         Non-Null Count  Dtype         \n",
      "---  ------         --------------  -----         \n",
      " 0   transactionId  1197 non-null   int64         \n",
      " 1   visitorId      1197 non-null   int64         \n",
      " 2   date           1197 non-null   datetime64[ns]\n",
      " 3   revenue        1197 non-null   int64         \n",
      " 4   group          1197 non-null   object        \n",
      "dtypes: datetime64[ns](1), int64(3), object(1)\n",
      "memory usage: 46.9+ KB\n"
     ]
    }
   ],
   "source": [
    "orders.info()"
   ]
  },
  {
   "cell_type": "code",
   "execution_count": 11,
   "metadata": {},
   "outputs": [
    {
     "data": {
      "text/html": [
       "<div>\n",
       "<style scoped>\n",
       "    .dataframe tbody tr th:only-of-type {\n",
       "        vertical-align: middle;\n",
       "    }\n",
       "\n",
       "    .dataframe tbody tr th {\n",
       "        vertical-align: top;\n",
       "    }\n",
       "\n",
       "    .dataframe thead th {\n",
       "        text-align: right;\n",
       "    }\n",
       "</style>\n",
       "<table border=\"1\" class=\"dataframe\">\n",
       "  <thead>\n",
       "    <tr style=\"text-align: right;\">\n",
       "      <th></th>\n",
       "      <th>date</th>\n",
       "      <th>group</th>\n",
       "      <th>visitors</th>\n",
       "    </tr>\n",
       "  </thead>\n",
       "  <tbody>\n",
       "    <tr>\n",
       "      <th>0</th>\n",
       "      <td>2019-08-01</td>\n",
       "      <td>A</td>\n",
       "      <td>719</td>\n",
       "    </tr>\n",
       "    <tr>\n",
       "      <th>1</th>\n",
       "      <td>2019-08-02</td>\n",
       "      <td>A</td>\n",
       "      <td>619</td>\n",
       "    </tr>\n",
       "    <tr>\n",
       "      <th>2</th>\n",
       "      <td>2019-08-03</td>\n",
       "      <td>A</td>\n",
       "      <td>507</td>\n",
       "    </tr>\n",
       "    <tr>\n",
       "      <th>3</th>\n",
       "      <td>2019-08-04</td>\n",
       "      <td>A</td>\n",
       "      <td>717</td>\n",
       "    </tr>\n",
       "    <tr>\n",
       "      <th>4</th>\n",
       "      <td>2019-08-05</td>\n",
       "      <td>A</td>\n",
       "      <td>756</td>\n",
       "    </tr>\n",
       "  </tbody>\n",
       "</table>\n",
       "</div>"
      ],
      "text/plain": [
       "        date group  visitors\n",
       "0 2019-08-01     A       719\n",
       "1 2019-08-02     A       619\n",
       "2 2019-08-03     A       507\n",
       "3 2019-08-04     A       717\n",
       "4 2019-08-05     A       756"
      ]
     },
     "execution_count": 11,
     "metadata": {},
     "output_type": "execute_result"
    }
   ],
   "source": [
    "visitors.head()"
   ]
  },
  {
   "cell_type": "code",
   "execution_count": 12,
   "metadata": {},
   "outputs": [
    {
     "name": "stdout",
     "output_type": "stream",
     "text": [
      "<class 'pandas.core.frame.DataFrame'>\n",
      "RangeIndex: 62 entries, 0 to 61\n",
      "Data columns (total 3 columns):\n",
      " #   Column    Non-Null Count  Dtype         \n",
      "---  ------    --------------  -----         \n",
      " 0   date      62 non-null     datetime64[ns]\n",
      " 1   group     62 non-null     object        \n",
      " 2   visitors  62 non-null     int64         \n",
      "dtypes: datetime64[ns](1), int64(1), object(1)\n",
      "memory usage: 1.6+ KB\n"
     ]
    }
   ],
   "source": [
    "visitors.info()"
   ]
  },
  {
   "cell_type": "markdown",
   "metadata": {},
   "source": [
    "#### Let's check the groups quantity:"
   ]
  },
  {
   "cell_type": "code",
   "execution_count": 13,
   "metadata": {},
   "outputs": [
    {
     "data": {
      "text/plain": [
       "array(['B', 'A'], dtype=object)"
      ]
     },
     "execution_count": 13,
     "metadata": {},
     "output_type": "execute_result"
    }
   ],
   "source": [
    "orders['group'].unique()"
   ]
  },
  {
   "cell_type": "markdown",
   "metadata": {},
   "source": [
    "The file has two groups data as expected"
   ]
  },
  {
   "cell_type": "markdown",
   "metadata": {},
   "source": [
    "#### Let's check the quantity of buyers in each group:"
   ]
  },
  {
   "cell_type": "code",
   "execution_count": 14,
   "metadata": {},
   "outputs": [
    {
     "name": "stdout",
     "output_type": "stream",
     "text": [
      "В группе А 557 покупателей.\n",
      "В группе B 640 покупателей.\n"
     ]
    }
   ],
   "source": [
    "ordersGrouped = orders.groupby('visitorId').apply(lambda x: x)\n",
    "ordersGroupedA = ordersGrouped[ordersGrouped['group'] == 'A']['visitorId']\n",
    "print('В группе А ' + str(len(ordersGroupedA)) + ' покупателей.')\n",
    "\n",
    "ordersGroupedB = ordersGrouped[ordersGrouped['group'] == 'B']['visitorId']\n",
    "print('В группе B ' + str(len(ordersGroupedB)) + ' покупателей.')"
   ]
  },
  {
   "cell_type": "markdown",
   "metadata": {},
   "source": [
    "#### Let's check the periiod of the tests:"
   ]
  },
  {
   "cell_type": "code",
   "execution_count": 15,
   "metadata": {},
   "outputs": [
    {
     "data": {
      "text/plain": [
       "Timestamp('2019-08-01 00:00:00')"
      ]
     },
     "metadata": {},
     "output_type": "display_data"
    },
    {
     "data": {
      "text/plain": [
       "Timestamp('2019-08-31 00:00:00')"
      ]
     },
     "metadata": {},
     "output_type": "display_data"
    }
   ],
   "source": [
    "display(min(orders['date']))\n",
    "display(max(orders['date']))"
   ]
  },
  {
   "cell_type": "markdown",
   "metadata": {},
   "source": [
    "We have data for August 2019."
   ]
  },
  {
   "cell_type": "markdown",
   "metadata": {},
   "source": [
    "**Let's make sure the data doesn't have blanks:**"
   ]
  },
  {
   "cell_type": "code",
   "execution_count": 16,
   "metadata": {},
   "outputs": [
    {
     "data": {
      "text/plain": [
       "transactionId    0\n",
       "visitorId        0\n",
       "date             0\n",
       "revenue          0\n",
       "group            0\n",
       "dtype: int64"
      ]
     },
     "execution_count": 16,
     "metadata": {},
     "output_type": "execute_result"
    }
   ],
   "source": [
    "orders.isna().sum()"
   ]
  },
  {
   "cell_type": "code",
   "execution_count": 17,
   "metadata": {},
   "outputs": [
    {
     "data": {
      "text/plain": [
       "date        0\n",
       "group       0\n",
       "visitors    0\n",
       "dtype: int64"
      ]
     },
     "execution_count": 17,
     "metadata": {},
     "output_type": "execute_result"
    }
   ],
   "source": [
    "visitors.isna().sum()"
   ]
  },
  {
   "cell_type": "markdown",
   "metadata": {},
   "source": [
    "No blanks"
   ]
  },
  {
   "cell_type": "markdown",
   "metadata": {},
   "source": [
    "**Checking duplicates:**"
   ]
  },
  {
   "cell_type": "code",
   "execution_count": 18,
   "metadata": {},
   "outputs": [
    {
     "data": {
      "text/plain": [
       "False    1197\n",
       "Name: count, dtype: int64"
      ]
     },
     "execution_count": 18,
     "metadata": {},
     "output_type": "execute_result"
    }
   ],
   "source": [
    "orders.value_counts(orders.duplicated())"
   ]
  },
  {
   "cell_type": "code",
   "execution_count": 19,
   "metadata": {},
   "outputs": [
    {
     "data": {
      "text/plain": [
       "False    62\n",
       "Name: count, dtype: int64"
      ]
     },
     "execution_count": 19,
     "metadata": {},
     "output_type": "execute_result"
    }
   ],
   "source": [
    "visitors.value_counts(visitors.duplicated())"
   ]
  },
  {
   "cell_type": "markdown",
   "metadata": {},
   "source": [
    "**Let's check the intersection of the participants in two groups:**"
   ]
  },
  {
   "cell_type": "code",
   "execution_count": 20,
   "metadata": {},
   "outputs": [
    {
     "data": {
      "text/html": [
       "<div>\n",
       "<style scoped>\n",
       "    .dataframe tbody tr th:only-of-type {\n",
       "        vertical-align: middle;\n",
       "    }\n",
       "\n",
       "    .dataframe tbody tr th {\n",
       "        vertical-align: top;\n",
       "    }\n",
       "\n",
       "    .dataframe thead th {\n",
       "        text-align: right;\n",
       "    }\n",
       "</style>\n",
       "<table border=\"1\" class=\"dataframe\">\n",
       "  <thead>\n",
       "    <tr style=\"text-align: right;\">\n",
       "      <th></th>\n",
       "      <th>group</th>\n",
       "    </tr>\n",
       "    <tr>\n",
       "      <th>visitorId</th>\n",
       "      <th></th>\n",
       "    </tr>\n",
       "  </thead>\n",
       "  <tbody>\n",
       "    <tr>\n",
       "      <th>8300375</th>\n",
       "      <td>[B, A]</td>\n",
       "    </tr>\n",
       "    <tr>\n",
       "      <th>199603092</th>\n",
       "      <td>[A, A, B, A, A]</td>\n",
       "    </tr>\n",
       "    <tr>\n",
       "      <th>232979603</th>\n",
       "      <td>[B, A]</td>\n",
       "    </tr>\n",
       "    <tr>\n",
       "      <th>237748145</th>\n",
       "      <td>[B, A, A, A, A]</td>\n",
       "    </tr>\n",
       "    <tr>\n",
       "      <th>276558944</th>\n",
       "      <td>[B, A]</td>\n",
       "    </tr>\n",
       "  </tbody>\n",
       "</table>\n",
       "</div>"
      ],
      "text/plain": [
       "                     group\n",
       "visitorId                 \n",
       "8300375             [B, A]\n",
       "199603092  [A, A, B, A, A]\n",
       "232979603           [B, A]\n",
       "237748145  [B, A, A, A, A]\n",
       "276558944           [B, A]"
      ]
     },
     "metadata": {},
     "output_type": "display_data"
    },
    {
     "data": {
      "text/plain": [
       "group    58\n",
       "dtype: int64"
      ]
     },
     "execution_count": 20,
     "metadata": {},
     "output_type": "execute_result"
    }
   ],
   "source": [
    "buyers = orders.query('revenue > 0')\n",
    "buyers = buyers[buyers.groupby('visitorId')['group'].transform('nunique') == buyers['group'].nunique()]\n",
    "buyersAB = buyers[['visitorId', 'group']]\n",
    "buyersAB = buyersAB[['visitorId', 'group']].groupby('visitorId').agg({'group': lambda x: list(x)})\n",
    "display(buyersAB.head())\n",
    "buyersAB.count()"
   ]
  },
  {
   "cell_type": "markdown",
   "metadata": {},
   "source": [
    "We see that 58 customers are in both groups at the same time. It is definitely not possible to move users between groups, as we will create an imbalance between the groups. Deleting them is not that bad, but the conversion rate will not be quite correct; if we keep them, it will also be not very correct, but less, so let's keep them."
   ]
  },
  {
   "cell_type": "markdown",
   "metadata": {},
   "source": [
    "#### Let's create an array of unique pairs of date and test group values:"
   ]
  },
  {
   "cell_type": "code",
   "execution_count": 21,
   "metadata": {},
   "outputs": [
    {
     "data": {
      "text/html": [
       "<div>\n",
       "<style scoped>\n",
       "    .dataframe tbody tr th:only-of-type {\n",
       "        vertical-align: middle;\n",
       "    }\n",
       "\n",
       "    .dataframe tbody tr th {\n",
       "        vertical-align: top;\n",
       "    }\n",
       "\n",
       "    .dataframe thead th {\n",
       "        text-align: right;\n",
       "    }\n",
       "</style>\n",
       "<table border=\"1\" class=\"dataframe\">\n",
       "  <thead>\n",
       "    <tr style=\"text-align: right;\">\n",
       "      <th></th>\n",
       "      <th>date</th>\n",
       "      <th>group</th>\n",
       "    </tr>\n",
       "  </thead>\n",
       "  <tbody>\n",
       "    <tr>\n",
       "      <th>0</th>\n",
       "      <td>2019-08-15</td>\n",
       "      <td>B</td>\n",
       "    </tr>\n",
       "    <tr>\n",
       "      <th>2</th>\n",
       "      <td>2019-08-15</td>\n",
       "      <td>A</td>\n",
       "    </tr>\n",
       "    <tr>\n",
       "      <th>45</th>\n",
       "      <td>2019-08-16</td>\n",
       "      <td>A</td>\n",
       "    </tr>\n",
       "    <tr>\n",
       "      <th>47</th>\n",
       "      <td>2019-08-16</td>\n",
       "      <td>B</td>\n",
       "    </tr>\n",
       "    <tr>\n",
       "      <th>55</th>\n",
       "      <td>2019-08-01</td>\n",
       "      <td>A</td>\n",
       "    </tr>\n",
       "  </tbody>\n",
       "</table>\n",
       "</div>"
      ],
      "text/plain": [
       "         date group\n",
       "0  2019-08-15     B\n",
       "2  2019-08-15     A\n",
       "45 2019-08-16     A\n",
       "47 2019-08-16     B\n",
       "55 2019-08-01     A"
      ]
     },
     "execution_count": 21,
     "metadata": {},
     "output_type": "execute_result"
    }
   ],
   "source": [
    "datesGroups = orders[['date','group']].drop_duplicates()\n",
    "datesGroups.head()"
   ]
  },
  {
   "cell_type": "markdown",
   "metadata": {},
   "source": [
    "#### Let's collect the aggregated values:"
   ]
  },
  {
   "cell_type": "markdown",
   "metadata": {},
   "source": [
    "##### Let's calculate the maximum date, the \"maximum\" group (so that the column is not missing from the output), the number of unique order id and unique user id, the sum of average cheques. Then sort by date and group."
   ]
  },
  {
   "cell_type": "code",
   "execution_count": 22,
   "metadata": {},
   "outputs": [
    {
     "data": {
      "text/html": [
       "<div>\n",
       "<style scoped>\n",
       "    .dataframe tbody tr th:only-of-type {\n",
       "        vertical-align: middle;\n",
       "    }\n",
       "\n",
       "    .dataframe tbody tr th {\n",
       "        vertical-align: top;\n",
       "    }\n",
       "\n",
       "    .dataframe thead th {\n",
       "        text-align: right;\n",
       "    }\n",
       "</style>\n",
       "<table border=\"1\" class=\"dataframe\">\n",
       "  <thead>\n",
       "    <tr style=\"text-align: right;\">\n",
       "      <th></th>\n",
       "      <th>date</th>\n",
       "      <th>group</th>\n",
       "      <th>transactionId</th>\n",
       "      <th>visitorId</th>\n",
       "      <th>revenue</th>\n",
       "    </tr>\n",
       "  </thead>\n",
       "  <tbody>\n",
       "    <tr>\n",
       "      <th>55</th>\n",
       "      <td>2019-08-01</td>\n",
       "      <td>A</td>\n",
       "      <td>24</td>\n",
       "      <td>20</td>\n",
       "      <td>148579</td>\n",
       "    </tr>\n",
       "    <tr>\n",
       "      <th>66</th>\n",
       "      <td>2019-08-01</td>\n",
       "      <td>B</td>\n",
       "      <td>21</td>\n",
       "      <td>20</td>\n",
       "      <td>101217</td>\n",
       "    </tr>\n",
       "    <tr>\n",
       "      <th>175</th>\n",
       "      <td>2019-08-02</td>\n",
       "      <td>A</td>\n",
       "      <td>44</td>\n",
       "      <td>38</td>\n",
       "      <td>242401</td>\n",
       "    </tr>\n",
       "    <tr>\n",
       "      <th>173</th>\n",
       "      <td>2019-08-02</td>\n",
       "      <td>B</td>\n",
       "      <td>45</td>\n",
       "      <td>43</td>\n",
       "      <td>266748</td>\n",
       "    </tr>\n",
       "    <tr>\n",
       "      <th>291</th>\n",
       "      <td>2019-08-03</td>\n",
       "      <td>A</td>\n",
       "      <td>68</td>\n",
       "      <td>62</td>\n",
       "      <td>354874</td>\n",
       "    </tr>\n",
       "  </tbody>\n",
       "</table>\n",
       "</div>"
      ],
      "text/plain": [
       "          date group  transactionId  visitorId  revenue\n",
       "55  2019-08-01     A             24         20   148579\n",
       "66  2019-08-01     B             21         20   101217\n",
       "175 2019-08-02     A             44         38   242401\n",
       "173 2019-08-02     B             45         43   266748\n",
       "291 2019-08-03     A             68         62   354874"
      ]
     },
     "execution_count": 22,
     "metadata": {},
     "output_type": "execute_result"
    }
   ],
   "source": [
    "ordersAggregated = datesGroups.apply(lambda x: orders[np.logical_and(orders['date'] <= x['date'], orders['group'] == x['group'])]\\\n",
    ".agg({'date' : 'max', 'group' : 'max', 'transactionId' : 'nunique', 'visitorId' : 'nunique', 'revenue' : 'sum'}), axis=1).sort_values(by=['date','group'])\n",
    "ordersAggregated.head()"
   ]
  },
  {
   "cell_type": "markdown",
   "metadata": {},
   "source": [
    "##### In the same way we will get the aggregated data about visitors accumulated by day:"
   ]
  },
  {
   "cell_type": "code",
   "execution_count": 23,
   "metadata": {},
   "outputs": [
    {
     "data": {
      "text/html": [
       "<div>\n",
       "<style scoped>\n",
       "    .dataframe tbody tr th:only-of-type {\n",
       "        vertical-align: middle;\n",
       "    }\n",
       "\n",
       "    .dataframe tbody tr th {\n",
       "        vertical-align: top;\n",
       "    }\n",
       "\n",
       "    .dataframe thead th {\n",
       "        text-align: right;\n",
       "    }\n",
       "</style>\n",
       "<table border=\"1\" class=\"dataframe\">\n",
       "  <thead>\n",
       "    <tr style=\"text-align: right;\">\n",
       "      <th></th>\n",
       "      <th>date</th>\n",
       "      <th>group</th>\n",
       "      <th>visitors</th>\n",
       "    </tr>\n",
       "  </thead>\n",
       "  <tbody>\n",
       "    <tr>\n",
       "      <th>55</th>\n",
       "      <td>2019-08-01</td>\n",
       "      <td>A</td>\n",
       "      <td>719</td>\n",
       "    </tr>\n",
       "    <tr>\n",
       "      <th>66</th>\n",
       "      <td>2019-08-01</td>\n",
       "      <td>B</td>\n",
       "      <td>713</td>\n",
       "    </tr>\n",
       "    <tr>\n",
       "      <th>175</th>\n",
       "      <td>2019-08-02</td>\n",
       "      <td>A</td>\n",
       "      <td>1338</td>\n",
       "    </tr>\n",
       "    <tr>\n",
       "      <th>173</th>\n",
       "      <td>2019-08-02</td>\n",
       "      <td>B</td>\n",
       "      <td>1294</td>\n",
       "    </tr>\n",
       "    <tr>\n",
       "      <th>291</th>\n",
       "      <td>2019-08-03</td>\n",
       "      <td>A</td>\n",
       "      <td>1845</td>\n",
       "    </tr>\n",
       "  </tbody>\n",
       "</table>\n",
       "</div>"
      ],
      "text/plain": [
       "          date group  visitors\n",
       "55  2019-08-01     A       719\n",
       "66  2019-08-01     B       713\n",
       "175 2019-08-02     A      1338\n",
       "173 2019-08-02     B      1294\n",
       "291 2019-08-03     A      1845"
      ]
     },
     "execution_count": 23,
     "metadata": {},
     "output_type": "execute_result"
    }
   ],
   "source": [
    "visitorsAggregated = datesGroups.apply(lambda x: visitors[np.logical_and(visitors['date'] <= x['date'], visitors['group'] == x['group'])].agg({'date' : 'max', 'group' : 'max', 'visitors' : 'sum'}), axis=1).sort_values(by=['date','group'])\n",
    "visitorsAggregated.head()"
   ]
  },
  {
   "cell_type": "markdown",
   "metadata": {},
   "source": [
    "#### Merging tables:"
   ]
  },
  {
   "cell_type": "code",
   "execution_count": 24,
   "metadata": {},
   "outputs": [
    {
     "data": {
      "text/html": [
       "<div>\n",
       "<style scoped>\n",
       "    .dataframe tbody tr th:only-of-type {\n",
       "        vertical-align: middle;\n",
       "    }\n",
       "\n",
       "    .dataframe tbody tr th {\n",
       "        vertical-align: top;\n",
       "    }\n",
       "\n",
       "    .dataframe thead th {\n",
       "        text-align: right;\n",
       "    }\n",
       "</style>\n",
       "<table border=\"1\" class=\"dataframe\">\n",
       "  <thead>\n",
       "    <tr style=\"text-align: right;\">\n",
       "      <th></th>\n",
       "      <th>date</th>\n",
       "      <th>group</th>\n",
       "      <th>transactionId</th>\n",
       "      <th>visitorId</th>\n",
       "      <th>revenue</th>\n",
       "      <th>visitors</th>\n",
       "    </tr>\n",
       "  </thead>\n",
       "  <tbody>\n",
       "    <tr>\n",
       "      <th>0</th>\n",
       "      <td>2019-08-01</td>\n",
       "      <td>A</td>\n",
       "      <td>24</td>\n",
       "      <td>20</td>\n",
       "      <td>148579</td>\n",
       "      <td>719</td>\n",
       "    </tr>\n",
       "    <tr>\n",
       "      <th>1</th>\n",
       "      <td>2019-08-01</td>\n",
       "      <td>B</td>\n",
       "      <td>21</td>\n",
       "      <td>20</td>\n",
       "      <td>101217</td>\n",
       "      <td>713</td>\n",
       "    </tr>\n",
       "    <tr>\n",
       "      <th>2</th>\n",
       "      <td>2019-08-02</td>\n",
       "      <td>A</td>\n",
       "      <td>44</td>\n",
       "      <td>38</td>\n",
       "      <td>242401</td>\n",
       "      <td>1338</td>\n",
       "    </tr>\n",
       "    <tr>\n",
       "      <th>3</th>\n",
       "      <td>2019-08-02</td>\n",
       "      <td>B</td>\n",
       "      <td>45</td>\n",
       "      <td>43</td>\n",
       "      <td>266748</td>\n",
       "      <td>1294</td>\n",
       "    </tr>\n",
       "    <tr>\n",
       "      <th>4</th>\n",
       "      <td>2019-08-03</td>\n",
       "      <td>A</td>\n",
       "      <td>68</td>\n",
       "      <td>62</td>\n",
       "      <td>354874</td>\n",
       "      <td>1845</td>\n",
       "    </tr>\n",
       "  </tbody>\n",
       "</table>\n",
       "</div>"
      ],
      "text/plain": [
       "        date group  transactionId  visitorId  revenue  visitors\n",
       "0 2019-08-01     A             24         20   148579       719\n",
       "1 2019-08-01     B             21         20   101217       713\n",
       "2 2019-08-02     A             44         38   242401      1338\n",
       "3 2019-08-02     B             45         43   266748      1294\n",
       "4 2019-08-03     A             68         62   354874      1845"
      ]
     },
     "execution_count": 24,
     "metadata": {},
     "output_type": "execute_result"
    }
   ],
   "source": [
    "cumulativeData = ordersAggregated.merge(visitorsAggregated, left_on=['date', 'group'], right_on=['date', 'group'])\n",
    "#cumulativeData.columns = ['date', 'group', 'orders', 'buyers', 'revenue', 'visitors']\n",
    "\n",
    "cumulativeData.head(5)"
   ]
  },
  {
   "cell_type": "markdown",
   "metadata": {},
   "source": [
    "#### Let's plot the cumulative revenue by group:"
   ]
  },
  {
   "cell_type": "code",
   "execution_count": 25,
   "metadata": {},
   "outputs": [
    {
     "data": {
      "text/html": [
       "<div>\n",
       "<style scoped>\n",
       "    .dataframe tbody tr th:only-of-type {\n",
       "        vertical-align: middle;\n",
       "    }\n",
       "\n",
       "    .dataframe tbody tr th {\n",
       "        vertical-align: top;\n",
       "    }\n",
       "\n",
       "    .dataframe thead th {\n",
       "        text-align: right;\n",
       "    }\n",
       "</style>\n",
       "<table border=\"1\" class=\"dataframe\">\n",
       "  <thead>\n",
       "    <tr style=\"text-align: right;\">\n",
       "      <th></th>\n",
       "      <th>date</th>\n",
       "      <th>revenue</th>\n",
       "      <th>transactionId</th>\n",
       "    </tr>\n",
       "  </thead>\n",
       "  <tbody>\n",
       "    <tr>\n",
       "      <th>0</th>\n",
       "      <td>2019-08-01</td>\n",
       "      <td>148579</td>\n",
       "      <td>24</td>\n",
       "    </tr>\n",
       "    <tr>\n",
       "      <th>2</th>\n",
       "      <td>2019-08-02</td>\n",
       "      <td>242401</td>\n",
       "      <td>44</td>\n",
       "    </tr>\n",
       "    <tr>\n",
       "      <th>4</th>\n",
       "      <td>2019-08-03</td>\n",
       "      <td>354874</td>\n",
       "      <td>68</td>\n",
       "    </tr>\n",
       "    <tr>\n",
       "      <th>6</th>\n",
       "      <td>2019-08-04</td>\n",
       "      <td>425699</td>\n",
       "      <td>84</td>\n",
       "    </tr>\n",
       "    <tr>\n",
       "      <th>8</th>\n",
       "      <td>2019-08-05</td>\n",
       "      <td>549917</td>\n",
       "      <td>109</td>\n",
       "    </tr>\n",
       "  </tbody>\n",
       "</table>\n",
       "</div>"
      ],
      "text/plain": [
       "        date  revenue  transactionId\n",
       "0 2019-08-01   148579             24\n",
       "2 2019-08-02   242401             44\n",
       "4 2019-08-03   354874             68\n",
       "6 2019-08-04   425699             84\n",
       "8 2019-08-05   549917            109"
      ]
     },
     "execution_count": 25,
     "metadata": {},
     "output_type": "execute_result"
    }
   ],
   "source": [
    "# dataframe with cumulative number of orders and cumulative revenue by day in group A\n",
    "cumulativeRevenueA = cumulativeData[cumulativeData['group']=='A'][['date','revenue', 'transactionId']]\n",
    "cumulativeRevenueA.head()\n"
   ]
  },
  {
   "cell_type": "code",
   "execution_count": 26,
   "metadata": {},
   "outputs": [
    {
     "data": {
      "text/html": [
       "<div>\n",
       "<style scoped>\n",
       "    .dataframe tbody tr th:only-of-type {\n",
       "        vertical-align: middle;\n",
       "    }\n",
       "\n",
       "    .dataframe tbody tr th {\n",
       "        vertical-align: top;\n",
       "    }\n",
       "\n",
       "    .dataframe thead th {\n",
       "        text-align: right;\n",
       "    }\n",
       "</style>\n",
       "<table border=\"1\" class=\"dataframe\">\n",
       "  <thead>\n",
       "    <tr style=\"text-align: right;\">\n",
       "      <th></th>\n",
       "      <th>date</th>\n",
       "      <th>revenue</th>\n",
       "      <th>transactionId</th>\n",
       "    </tr>\n",
       "  </thead>\n",
       "  <tbody>\n",
       "    <tr>\n",
       "      <th>1</th>\n",
       "      <td>2019-08-01</td>\n",
       "      <td>101217</td>\n",
       "      <td>21</td>\n",
       "    </tr>\n",
       "    <tr>\n",
       "      <th>3</th>\n",
       "      <td>2019-08-02</td>\n",
       "      <td>266748</td>\n",
       "      <td>45</td>\n",
       "    </tr>\n",
       "    <tr>\n",
       "      <th>5</th>\n",
       "      <td>2019-08-03</td>\n",
       "      <td>380996</td>\n",
       "      <td>61</td>\n",
       "    </tr>\n",
       "    <tr>\n",
       "      <th>7</th>\n",
       "      <td>2019-08-04</td>\n",
       "      <td>489567</td>\n",
       "      <td>78</td>\n",
       "    </tr>\n",
       "    <tr>\n",
       "      <th>9</th>\n",
       "      <td>2019-08-05</td>\n",
       "      <td>581995</td>\n",
       "      <td>101</td>\n",
       "    </tr>\n",
       "  </tbody>\n",
       "</table>\n",
       "</div>"
      ],
      "text/plain": [
       "        date  revenue  transactionId\n",
       "1 2019-08-01   101217             21\n",
       "3 2019-08-02   266748             45\n",
       "5 2019-08-03   380996             61\n",
       "7 2019-08-04   489567             78\n",
       "9 2019-08-05   581995            101"
      ]
     },
     "execution_count": 26,
     "metadata": {},
     "output_type": "execute_result"
    }
   ],
   "source": [
    "# dataframe with cumulative number of orders and cumulative revenue by day in group B\n",
    "cumulativeRevenueB = cumulativeData[cumulativeData['group']=='B'][['date','revenue', 'transactionId']]\n",
    "cumulativeRevenueB.head()"
   ]
  },
  {
   "cell_type": "code",
   "execution_count": 27,
   "metadata": {},
   "outputs": [
    {
     "data": {
      "image/png": "[encoded data removed]",
      "text/plain": [
       "<Figure size 1500x1000 with 1 Axes>"
      ]
     },
     "metadata": {},
     "output_type": "display_data"
    }
   ],
   "source": [
    "plt.ticklabel_format(style='plain')\n",
    "\n",
    "plt.plot(cumulativeRevenueA['date'], cumulativeRevenueA['revenue'], label='A', linewidth=3, color='gold')\n",
    "plt.plot(cumulativeRevenueB['date'], cumulativeRevenueB['revenue'], label='B', linewidth=3, color='blue')\n",
    "\n",
    "plt.xticks(rotation=25)\n",
    "\n",
    "plt.title('Cummulative revenue by group', fontsize=25)\n",
    "plt.xlabel('Date', fontsize=20)\n",
    "plt.ylabel('Revenue', fontsize=20)\n",
    "\n",
    "plt.legend(fontsize=20);"
   ]
  },
  {
   "cell_type": "markdown",
   "metadata": {},
   "source": [
    "**Summary:**  \n",
    "In the first days of the test, the revenue was almost the same in both groups, then the revenue of group B started to grow. The revenue of both groups once again became equal, but later the revenue of group B started growing better again. There is also a sharp increase in group B in the middle of the test, which indicates that there is an outlier in this group in the study period, due to which the revenue of group B is much higher in the end. This is probably the emergence of some new successful high demand product."
   ]
  },
  {
   "cell_type": "markdown",
   "metadata": {},
   "source": [
    "### Let's plot the cumulative average receipt by group:"
   ]
  },
  {
   "cell_type": "code",
   "execution_count": 28,
   "metadata": {},
   "outputs": [
    {
     "data": {
      "image/png": "[encoded data removed]",
      "text/plain": [
       "<Figure size 1500x1000 with 1 Axes>"
      ]
     },
     "metadata": {},
     "output_type": "display_data"
    }
   ],
   "source": [
    "plt.plot(cumulativeRevenueA['date'], cumulativeRevenueA['revenue']/cumulativeRevenueA['transactionId'], label='A', linewidth=3, color='gold')\n",
    "plt.plot(cumulativeRevenueB['date'], cumulativeRevenueB['revenue']/cumulativeRevenueB['transactionId'], label='B', linewidth=3, color='blue')\n",
    "\n",
    "plt.xticks(rotation=25)\n",
    "\n",
    "plt.title('Cumulative average receipt size by group', fontsize=25)\n",
    "plt.xlabel('Date', fontsize=20)\n",
    "plt.ylabel('Average receipt size', fontsize=20)\n",
    "\n",
    "plt.legend(fontsize=20);"
   ]
  },
  {
   "cell_type": "markdown",
   "metadata": {},
   "source": [
    "**Summary:**  \n",
    "The dynamics of the average receipt are very diverse, with more obvious outliers appearing at the beginning of the test. In general, we can conclude that group B receipts were greater during the test, but we also see an outlier at the same point in time as the outlier on revenue. There is no sharp decline back, i.e. the outlier is not a one-day thing, perhaps some new high-priced product appeared, which had a success but then the interest slightly decreased."
   ]
  },
  {
   "cell_type": "markdown",
   "metadata": {},
   "source": [
    "### Let's plot the relative change in the cumulative average receipt of group B to group A:"
   ]
  },
  {
   "cell_type": "code",
   "execution_count": 29,
   "metadata": {},
   "outputs": [
    {
     "data": {
      "image/png": "[encoded data removed]",
      "text/plain": [
       "<Figure size 1500x1000 with 1 Axes>"
      ]
     },
     "metadata": {},
     "output_type": "display_data"
    }
   ],
   "source": [
    "# collect data in one dataframe\n",
    "mergedCumulativeRevenue = cumulativeRevenueA.merge(cumulativeRevenueB, left_on='date', right_on='date', how='left', suffixes=['A', 'B'])\n",
    "\n",
    "# plot the ratio of average receipts\n",
    "plt.plot(mergedCumulativeRevenue['date'], (mergedCumulativeRevenue['revenueB']/mergedCumulativeRevenue['transactionIdB'])/(mergedCumulativeRevenue['revenueA']/mergedCumulativeRevenue['transactionIdA'])-1, linewidth=3, color='green')\n",
    "\n",
    "# add the X axis\n",
    "plt.axhline(y=0, color='black', linestyle='--')\n",
    "\n",
    "plt.title('Cumulative average receipt size Dynamics', fontsize=25)\n",
    "plt.xlabel('Date', fontsize=20)\n",
    "plt.ylabel('Difference', fontsize=20)\n",
    "\n",
    "plt.xticks(rotation=25);\n"
   ]
  },
  {
   "cell_type": "markdown",
   "metadata": {},
   "source": [
    "**Summary:**  \n",
    "Our guess about outliers is confirmed, we see fluctuations relative to 0 at the beginning of the test and in the middle to the end of the test."
   ]
  },
  {
   "cell_type": "markdown",
   "metadata": {},
   "source": [
    "### Let's plot the cumulative average number of orders per visitor by group:"
   ]
  },
  {
   "cell_type": "code",
   "execution_count": 30,
   "metadata": {},
   "outputs": [
    {
     "data": {
      "image/png": "[encoded data removed]",
      "text/plain": [
       "<Figure size 1500x1000 with 1 Axes>"
      ]
     },
     "metadata": {},
     "output_type": "display_data"
    }
   ],
   "source": [
    "# calculate the cumulative average of orders per visitor\n",
    "cumulativeData['ordersAvg'] = cumulativeData['transactionId']/cumulativeData['visitors']\n",
    "\n",
    "# separate group A data\n",
    "cumulativeDataA = cumulativeData[cumulativeData['group']=='A']\n",
    "\n",
    "# separate group B data\n",
    "cumulativeDataB = cumulativeData[cumulativeData['group']=='B']\n",
    "\n",
    "# plot the graphs\n",
    "plt.plot(cumulativeDataA['date'], cumulativeDataA['ordersAvg'], label='A', linewidth=3, color='gold')\n",
    "plt.plot(cumulativeDataB['date'], cumulativeDataB['ordersAvg'], label='B', linewidth=3, color='blue')\n",
    "\n",
    "plt.title('Cumulative average number of orders per user by group', fontsize=25)\n",
    "plt.xlabel('Date', fontsize=20)\n",
    "plt.ylabel('Share', fontsize=20)\n",
    "\n",
    "plt.xticks(rotation=25)\n",
    "plt.legend(fontsize=20);\n",
    "\n",
    "# set the scale of axes\n",
    "#plt.axis([\"2019-09-01\", '2019-08-01', 0, 0.015]);\n"
   ]
  },
  {
   "cell_type": "markdown",
   "metadata": {},
   "source": [
    "**Summary:**  \n",
    "Group A was leading by average number of orders at first, we remember that they had higher revenue and average receipt at the beginning of the test, but soon the accumulated average of orders of group B overtook group A and stayed in the lead until the end."
   ]
  },
  {
   "cell_type": "markdown",
   "metadata": {},
   "source": [
    "### Let's plot the relative change in the cumulative average number of orders per visitor from group B to group A:"
   ]
  },
  {
   "cell_type": "code",
   "execution_count": 31,
   "metadata": {},
   "outputs": [
    {
     "data": {
      "image/png": "[encoded data removed]",
      "text/plain": [
       "<Figure size 1500x1000 with 1 Axes>"
      ]
     },
     "metadata": {},
     "output_type": "display_data"
    }
   ],
   "source": [
    "mergedCumulativeConversions = cumulativeDataA[['date','ordersAvg']].merge(cumulativeDataB[['date','ordersAvg']], left_on='date', right_on='date', how='left', suffixes=['A', 'B'])\n",
    "\n",
    "plt.plot(mergedCumulativeConversions['date'], mergedCumulativeConversions['ordersAvgB']/mergedCumulativeConversions['ordersAvgA']-1, linewidth=3, color='green')\n",
    "\n",
    "plt.axhline(y=0, color='black', linestyle='--')\n",
    "plt.axhline(y=0.1, color='grey', linestyle='--')\n",
    "\n",
    "plt.title('Relative change in the cumulative average of orders B/A', fontsize=25)\n",
    "plt.xlabel('Date', fontsize=20)\n",
    "plt.ylabel('Share', fontsize=20)\n",
    "\n",
    "plt.xticks(rotation=25);"
   ]
  },
  {
   "cell_type": "markdown",
   "metadata": {},
   "source": [
    "**Summary:**  \n",
    "We can see that at the beginning of the test there was a struggle between groups A and B. Later, group B managed to get ahead, to lead well, then to relax a little, but to stay above by more than 1%."
   ]
  },
  {
   "cell_type": "markdown",
   "metadata": {},
   "source": [
    "### Let's build a scatter plot of the number of orders by user:"
   ]
  },
  {
   "cell_type": "markdown",
   "metadata": {},
   "source": [
    "#### Let's create a dataframe with orders:"
   ]
  },
  {
   "cell_type": "code",
   "execution_count": 32,
   "metadata": {},
   "outputs": [
    {
     "data": {
      "text/html": [
       "<div>\n",
       "<style scoped>\n",
       "    .dataframe tbody tr th:only-of-type {\n",
       "        vertical-align: middle;\n",
       "    }\n",
       "\n",
       "    .dataframe tbody tr th {\n",
       "        vertical-align: top;\n",
       "    }\n",
       "\n",
       "    .dataframe thead th {\n",
       "        text-align: right;\n",
       "    }\n",
       "</style>\n",
       "<table border=\"1\" class=\"dataframe\">\n",
       "  <thead>\n",
       "    <tr style=\"text-align: right;\">\n",
       "      <th></th>\n",
       "      <th>visitorId</th>\n",
       "      <th>transactionId</th>\n",
       "    </tr>\n",
       "  </thead>\n",
       "  <tbody>\n",
       "    <tr>\n",
       "      <th>1023</th>\n",
       "      <td>4256040402</td>\n",
       "      <td>11</td>\n",
       "    </tr>\n",
       "    <tr>\n",
       "      <th>591</th>\n",
       "      <td>2458001652</td>\n",
       "      <td>11</td>\n",
       "    </tr>\n",
       "    <tr>\n",
       "      <th>569</th>\n",
       "      <td>2378935119</td>\n",
       "      <td>9</td>\n",
       "    </tr>\n",
       "    <tr>\n",
       "      <th>487</th>\n",
       "      <td>2038680547</td>\n",
       "      <td>8</td>\n",
       "    </tr>\n",
       "    <tr>\n",
       "      <th>44</th>\n",
       "      <td>199603092</td>\n",
       "      <td>5</td>\n",
       "    </tr>\n",
       "  </tbody>\n",
       "</table>\n",
       "</div>"
      ],
      "text/plain": [
       "       visitorId  transactionId\n",
       "1023  4256040402             11\n",
       "591   2458001652             11\n",
       "569   2378935119              9\n",
       "487   2038680547              8\n",
       "44     199603092              5"
      ]
     },
     "execution_count": 32,
     "metadata": {},
     "output_type": "execute_result"
    }
   ],
   "source": [
    "ordersByUsers = orders.groupby('visitorId', as_index=False).agg({'transactionId': 'nunique'})\n",
    "ordersByUsers.sort_values(by='transactionId', ascending=False).head()"
   ]
  },
  {
   "cell_type": "code",
   "execution_count": 33,
   "metadata": {},
   "outputs": [
    {
     "data": {
      "image/png": "[encoded data removed]",
      "text/plain": [
       "<Figure size 1500x1000 with 1 Axes>"
      ]
     },
     "metadata": {},
     "output_type": "display_data"
    }
   ],
   "source": [
    "x_values = pd.Series(range(0,len(ordersByUsers)))\n",
    "\n",
    "plt.scatter(x_values, ordersByUsers['transactionId'], color = 'lightcoral', s=300)\n",
    "plt.title('Number of orders per user', fontsize=25)\n",
    "plt.xlabel('User id', fontsize=20)\n",
    "plt.ylabel('Number of orders', fontsize=20);"
   ]
  },
  {
   "cell_type": "markdown",
   "metadata": {},
   "source": [
    "**Summary:**  \n",
    "The graph clearly shows the predominance of users with 1 order, followed by users with 2 orders. And so it gets smaller and smaller. No one made 6-7 orders. We also see isolated cases of 8-11 orders, which is likely to be anomalies for us. A deeper study is needed to understand how many orders are anomalies."
   ]
  },
  {
   "cell_type": "markdown",
   "metadata": {},
   "source": [
    "### Let's count the 95th and 99th persentiles of the number of orders per user:"
   ]
  },
  {
   "cell_type": "code",
   "execution_count": 34,
   "metadata": {},
   "outputs": [
    {
     "data": {
      "text/plain": [
       "array([2., 4.])"
      ]
     },
     "execution_count": 34,
     "metadata": {},
     "output_type": "execute_result"
    }
   ],
   "source": [
    "np.percentile(ordersByUsers['transactionId'], [95, 99])"
   ]
  },
  {
   "cell_type": "markdown",
   "metadata": {},
   "source": [
    "**Summary:**  \n",
    "No more than 5% have placed more than 2 orders and no more than 1% have placed more than 4 orders. It can be assumed that the indicator of more than 3 orders can be considered as an anomaly and such users can be excluded."
   ]
  },
  {
   "cell_type": "markdown",
   "metadata": {},
   "source": [
    "### Let's construct a scatter plot of order costs:"
   ]
  },
  {
   "cell_type": "code",
   "execution_count": 35,
   "metadata": {},
   "outputs": [
    {
     "data": {
      "image/png": "[encoded data removed]",
      "text/plain": [
       "<Figure size 1500x1000 with 1 Axes>"
      ]
     },
     "metadata": {},
     "output_type": "display_data"
    }
   ],
   "source": [
    "x_values = pd.Series(range(0,len(orders['revenue'])))\n",
    "plt.scatter(x_values, orders['revenue'], color = 'mediumslateblue', s=300)\n",
    "plt.ticklabel_format(style='plain')\n",
    "plt.title('Order price', fontsize=25)\n",
    "plt.xlabel('User id', fontsize=20)\n",
    "plt.ylabel('Price', fontsize=20);"
   ]
  },
  {
   "cell_type": "markdown",
   "metadata": {},
   "source": [
    "We see a concentration of order values below 100 000 moneys. Let's take a closer look:"
   ]
  },
  {
   "cell_type": "code",
   "execution_count": 36,
   "metadata": {},
   "outputs": [
    {
     "data": {
      "image/png": "[encoded data removed]",
      "text/plain": [
       "<Figure size 1500x1000 with 1 Axes>"
      ]
     },
     "metadata": {},
     "output_type": "display_data"
    }
   ],
   "source": [
    "x_values = pd.Series(range(0,len(orders['revenue'])))\n",
    "plt.scatter(x_values, orders['revenue'], color = 'mediumslateblue', s=300)\n",
    "plt.ticklabel_format(style='plain')\n",
    "plt.title('Order price', fontsize=25)\n",
    "plt.xlabel('User id', fontsize=20)\n",
    "plt.ylabel('Price', fontsize=20)\n",
    "plt.ylim(1, 100000);"
   ]
  },
  {
   "cell_type": "markdown",
   "metadata": {},
   "source": [
    "And a little bit more detailed:"
   ]
  },
  {
   "cell_type": "code",
   "execution_count": 37,
   "metadata": {},
   "outputs": [
    {
     "data": {
      "image/png": "[encoded data removed]",
      "text/plain": [
       "<Figure size 1500x1000 with 1 Axes>"
      ]
     },
     "metadata": {},
     "output_type": "display_data"
    }
   ],
   "source": [
    "x_values = pd.Series(range(0,len(orders['revenue'])))\n",
    "plt.scatter(x_values, orders['revenue'], color = 'mediumslateblue', s=300)\n",
    "plt.ticklabel_format(style='plain')\n",
    "plt.title('Order price', fontsize=25)\n",
    "plt.xlabel('User id', fontsize=20)\n",
    "plt.ylabel('Price', fontsize=20)\n",
    "plt.ylim(1, 60000);"
   ]
  },
  {
   "cell_type": "markdown",
   "metadata": {},
   "source": [
    "**Summary:**\n",
    "A huge number of orders have a price below 10 000 moneys. But the concentration up to 20 000 moneys is also large. Let's look at the order value percentiles below to make a final judgement."
   ]
  },
  {
   "cell_type": "markdown",
   "metadata": {},
   "source": [
    "### Let's calculate the percentiles of the order price:"
   ]
  },
  {
   "cell_type": "code",
   "execution_count": 38,
   "metadata": {},
   "outputs": [
    {
     "data": {
      "text/plain": [
       "array([28000. , 58233.2])"
      ]
     },
     "execution_count": 38,
     "metadata": {},
     "output_type": "execute_result"
    }
   ],
   "source": [
    "np.percentile(orders['revenue'], [95, 99])\n"
   ]
  },
  {
   "cell_type": "markdown",
   "metadata": {},
   "source": [
    "**Summary:**  \n",
    "No more than 5% of orders are more expensive than 28 000 moneys, no more than 1% are more expensive than 58 234 moneys.  \n",
    "Knowing that it is common to screen out 1-5% of extreme values, it is recommended to neglect orders priced above 30 000 moneys."
   ]
  },
  {
   "cell_type": "markdown",
   "metadata": {},
   "source": [
    "### Let's calculate the statistical significance of differences in the average number of orders per visitor between groups using the raw data:"
   ]
  },
  {
   "cell_type": "markdown",
   "metadata": {},
   "source": [
    "Let us take as a **null hypothesis** the absence of statistically significant differences in the average number of orders per visitor between the test groups. The **alternative hypothesis** is that there are statistically significant differences in the average number of orders per visitor."
   ]
  },
  {
   "cell_type": "markdown",
   "metadata": {},
   "source": [
    "To calculate the metric, we will use the Mann-Whitney test. In the case when there are large (compared to the normal distribution) outliers in the data, we need to use a test based on the structural approach, or nonparametric, just Mann-Whitney."
   ]
  },
  {
   "cell_type": "markdown",
   "metadata": {},
   "source": [
    "#### Let's create a dataframe with visitors by day for each group:"
   ]
  },
  {
   "cell_type": "code",
   "execution_count": 39,
   "metadata": {},
   "outputs": [],
   "source": [
    "# group А\n",
    "visitorsADaily = visitors[visitors['group'] == 'A'][['date', 'visitors']]\n",
    "visitorsADaily.columns = ['date', 'visitorsPerDayA']\n",
    "\n",
    "# group В\n",
    "visitorsBDaily = visitors[visitors['group'] == 'B'][['date', 'visitors']]\n",
    "visitorsBDaily.columns = ['date', 'visitorsPerDayB']"
   ]
  },
  {
   "cell_type": "markdown",
   "metadata": {},
   "source": [
    "#### Create a dataframe with cumulative daily data on the number of users:"
   ]
  },
  {
   "cell_type": "code",
   "execution_count": 40,
   "metadata": {},
   "outputs": [],
   "source": [
    "# group A\n",
    "visitorsACummulative = visitorsADaily.apply(\n",
    "    lambda x: visitorsADaily[visitorsADaily['date'] <= x['date']].agg(\n",
    "        {'date': 'max', 'visitorsPerDayA': 'sum'}\n",
    "    ),\n",
    "    axis=1,\n",
    ")\n",
    "visitorsACummulative.columns = ['date', 'visitorsCummulativeA']\n",
    "\n",
    "# group В\n",
    "visitorsBCummulative = visitorsBDaily.apply(\n",
    "    lambda x: visitorsBDaily[visitorsBDaily['date'] <= x['date']].agg(\n",
    "        {'date': 'max', 'visitorsPerDayB': 'sum'}\n",
    "    ),\n",
    "    axis=1,\n",
    ")\n",
    "visitorsBCummulative.columns = ['date', 'visitorsCummulativeB']"
   ]
  },
  {
   "cell_type": "markdown",
   "metadata": {},
   "source": [
    "#### Let's collect data on the number of orders and total daily revenue for each group:"
   ]
  },
  {
   "cell_type": "code",
   "execution_count": 41,
   "metadata": {},
   "outputs": [],
   "source": [
    "# group А\n",
    "ordersADaily = (\n",
    "    orders[orders['group'] == 'A'][['date', 'transactionId', 'visitorId', 'revenue']]\n",
    "    .groupby('date', as_index=False)\n",
    "    .agg({'visitorId': pd.Series.nunique, 'revenue': 'sum'})\n",
    ")\n",
    "ordersADaily.columns = ['date', 'ordersPerDayA', 'revenuePerDayA']\n",
    "\n",
    "ordersACummulative = ordersADaily.apply(\n",
    "    lambda x: ordersADaily[ordersADaily['date'] <= x['date']].agg(\n",
    "        {'date': 'max', 'ordersPerDayA': 'sum', 'revenuePerDayA': 'sum'}\n",
    "    ),\n",
    "    axis=1,\n",
    ").sort_values(by=['date'])\n",
    "ordersACummulative.columns = [\n",
    "    'date',\n",
    "    'ordersCummulativeA',\n",
    "    'revenueCummulativeA',\n",
    "]\n",
    "\n",
    "# group В\n",
    "ordersBDaily = (\n",
    "    orders[orders['group'] == 'B'][['date', 'transactionId', 'visitorId', 'revenue']]\n",
    "    .groupby('date', as_index=False)\n",
    "    .agg({'visitorId': pd.Series.nunique, 'revenue': 'sum'})\n",
    ")\n",
    "ordersBDaily.columns = ['date', 'ordersPerDayB', 'revenuePerDayB']\n",
    "\n",
    "ordersBCummulative = ordersBDaily.apply(\n",
    "    lambda x: ordersBDaily[ordersBDaily['date'] <= x['date']].agg(\n",
    "        {'date': 'max', 'ordersPerDayB': 'sum', 'revenuePerDayB': 'sum'}\n",
    "    ),\n",
    "    axis=1,\n",
    ").sort_values(by=['date'])\n",
    "ordersBCummulative.columns = [\n",
    "    'date',\n",
    "    'ordersCummulativeB',\n",
    "    'revenueCummulativeB',\n",
    "]\n"
   ]
  },
  {
   "cell_type": "markdown",
   "metadata": {},
   "source": [
    "#### Let's merge the data into one dataframe: "
   ]
  },
  {
   "cell_type": "code",
   "execution_count": 42,
   "metadata": {},
   "outputs": [
    {
     "data": {
      "text/html": [
       "<div>\n",
       "<style scoped>\n",
       "    .dataframe tbody tr th:only-of-type {\n",
       "        vertical-align: middle;\n",
       "    }\n",
       "\n",
       "    .dataframe tbody tr th {\n",
       "        vertical-align: top;\n",
       "    }\n",
       "\n",
       "    .dataframe thead th {\n",
       "        text-align: right;\n",
       "    }\n",
       "</style>\n",
       "<table border=\"1\" class=\"dataframe\">\n",
       "  <thead>\n",
       "    <tr style=\"text-align: right;\">\n",
       "      <th></th>\n",
       "      <th>date</th>\n",
       "      <th>ordersPerDayA</th>\n",
       "      <th>revenuePerDayA</th>\n",
       "      <th>ordersPerDayB</th>\n",
       "      <th>revenuePerDayB</th>\n",
       "      <th>ordersCummulativeA</th>\n",
       "      <th>revenueCummulativeA</th>\n",
       "      <th>ordersCummulativeB</th>\n",
       "      <th>revenueCummulativeB</th>\n",
       "      <th>visitorsPerDayA</th>\n",
       "      <th>visitorsPerDayB</th>\n",
       "      <th>visitorsCummulativeA</th>\n",
       "      <th>visitorsCummulativeB</th>\n",
       "    </tr>\n",
       "  </thead>\n",
       "  <tbody>\n",
       "    <tr>\n",
       "      <th>0</th>\n",
       "      <td>2019-08-01</td>\n",
       "      <td>20</td>\n",
       "      <td>148579</td>\n",
       "      <td>20</td>\n",
       "      <td>101217</td>\n",
       "      <td>20</td>\n",
       "      <td>148579</td>\n",
       "      <td>20</td>\n",
       "      <td>101217</td>\n",
       "      <td>719</td>\n",
       "      <td>713</td>\n",
       "      <td>719</td>\n",
       "      <td>713</td>\n",
       "    </tr>\n",
       "    <tr>\n",
       "      <th>1</th>\n",
       "      <td>2019-08-02</td>\n",
       "      <td>19</td>\n",
       "      <td>93822</td>\n",
       "      <td>23</td>\n",
       "      <td>165531</td>\n",
       "      <td>39</td>\n",
       "      <td>242401</td>\n",
       "      <td>43</td>\n",
       "      <td>266748</td>\n",
       "      <td>619</td>\n",
       "      <td>581</td>\n",
       "      <td>1338</td>\n",
       "      <td>1294</td>\n",
       "    </tr>\n",
       "    <tr>\n",
       "      <th>2</th>\n",
       "      <td>2019-08-03</td>\n",
       "      <td>24</td>\n",
       "      <td>112473</td>\n",
       "      <td>16</td>\n",
       "      <td>114248</td>\n",
       "      <td>63</td>\n",
       "      <td>354874</td>\n",
       "      <td>59</td>\n",
       "      <td>380996</td>\n",
       "      <td>507</td>\n",
       "      <td>509</td>\n",
       "      <td>1845</td>\n",
       "      <td>1803</td>\n",
       "    </tr>\n",
       "    <tr>\n",
       "      <th>3</th>\n",
       "      <td>2019-08-04</td>\n",
       "      <td>15</td>\n",
       "      <td>70825</td>\n",
       "      <td>16</td>\n",
       "      <td>108571</td>\n",
       "      <td>78</td>\n",
       "      <td>425699</td>\n",
       "      <td>75</td>\n",
       "      <td>489567</td>\n",
       "      <td>717</td>\n",
       "      <td>770</td>\n",
       "      <td>2562</td>\n",
       "      <td>2573</td>\n",
       "    </tr>\n",
       "    <tr>\n",
       "      <th>4</th>\n",
       "      <td>2019-08-05</td>\n",
       "      <td>25</td>\n",
       "      <td>124218</td>\n",
       "      <td>23</td>\n",
       "      <td>92428</td>\n",
       "      <td>103</td>\n",
       "      <td>549917</td>\n",
       "      <td>98</td>\n",
       "      <td>581995</td>\n",
       "      <td>756</td>\n",
       "      <td>707</td>\n",
       "      <td>3318</td>\n",
       "      <td>3280</td>\n",
       "    </tr>\n",
       "  </tbody>\n",
       "</table>\n",
       "</div>"
      ],
      "text/plain": [
       "        date  ordersPerDayA  revenuePerDayA  ordersPerDayB  revenuePerDayB  \\\n",
       "0 2019-08-01             20          148579             20          101217   \n",
       "1 2019-08-02             19           93822             23          165531   \n",
       "2 2019-08-03             24          112473             16          114248   \n",
       "3 2019-08-04             15           70825             16          108571   \n",
       "4 2019-08-05             25          124218             23           92428   \n",
       "\n",
       "   ordersCummulativeA  revenueCummulativeA  ordersCummulativeB  \\\n",
       "0                  20               148579                  20   \n",
       "1                  39               242401                  43   \n",
       "2                  63               354874                  59   \n",
       "3                  78               425699                  75   \n",
       "4                 103               549917                  98   \n",
       "\n",
       "   revenueCummulativeB  visitorsPerDayA  visitorsPerDayB  \\\n",
       "0               101217              719              713   \n",
       "1               266748              619              581   \n",
       "2               380996              507              509   \n",
       "3               489567              717              770   \n",
       "4               581995              756              707   \n",
       "\n",
       "   visitorsCummulativeA  visitorsCummulativeB  \n",
       "0                   719                   713  \n",
       "1                  1338                  1294  \n",
       "2                  1845                  1803  \n",
       "3                  2562                  2573  \n",
       "4                  3318                  3280  "
      ]
     },
     "execution_count": 42,
     "metadata": {},
     "output_type": "execute_result"
    }
   ],
   "source": [
    "significativity = (\n",
    "    ordersADaily.merge(\n",
    "        ordersBDaily, left_on='date', right_on='date', how='left'\n",
    "    )\n",
    "    .merge(ordersACummulative, left_on='date', right_on='date', how='left')\n",
    "    .merge(ordersBCummulative, left_on='date', right_on='date', how='left')\n",
    "    .merge(visitorsADaily, left_on='date', right_on='date', how='left')\n",
    "    .merge(visitorsBDaily, left_on='date', right_on='date', how='left')\n",
    "    .merge(visitorsACummulative, left_on='date', right_on='date', how='left')\n",
    "    .merge(visitorsBCummulative, left_on='date', right_on='date', how='left')\n",
    ")\n",
    "significativity.head()"
   ]
  },
  {
   "cell_type": "markdown",
   "metadata": {},
   "source": [
    "#### Let's divide the dataframe with orders into dataframes by groups:"
   ]
  },
  {
   "cell_type": "code",
   "execution_count": 43,
   "metadata": {},
   "outputs": [
    {
     "data": {
      "text/html": [
       "<div>\n",
       "<style scoped>\n",
       "    .dataframe tbody tr th:only-of-type {\n",
       "        vertical-align: middle;\n",
       "    }\n",
       "\n",
       "    .dataframe tbody tr th {\n",
       "        vertical-align: top;\n",
       "    }\n",
       "\n",
       "    .dataframe thead th {\n",
       "        text-align: right;\n",
       "    }\n",
       "</style>\n",
       "<table border=\"1\" class=\"dataframe\">\n",
       "  <thead>\n",
       "    <tr style=\"text-align: right;\">\n",
       "      <th></th>\n",
       "      <th>visitorId</th>\n",
       "      <th>transactionId</th>\n",
       "    </tr>\n",
       "  </thead>\n",
       "  <tbody>\n",
       "    <tr>\n",
       "      <th>499</th>\n",
       "      <td>4256040402</td>\n",
       "      <td>7</td>\n",
       "    </tr>\n",
       "    <tr>\n",
       "      <th>227</th>\n",
       "      <td>2038680547</td>\n",
       "      <td>5</td>\n",
       "    </tr>\n",
       "    <tr>\n",
       "      <th>278</th>\n",
       "      <td>2458001652</td>\n",
       "      <td>5</td>\n",
       "    </tr>\n",
       "    <tr>\n",
       "      <th>269</th>\n",
       "      <td>2378935119</td>\n",
       "      <td>4</td>\n",
       "    </tr>\n",
       "    <tr>\n",
       "      <th>18</th>\n",
       "      <td>199603092</td>\n",
       "      <td>4</td>\n",
       "    </tr>\n",
       "  </tbody>\n",
       "</table>\n",
       "</div>"
      ],
      "text/plain": [
       "      visitorId  transactionId\n",
       "499  4256040402              7\n",
       "227  2038680547              5\n",
       "278  2458001652              5\n",
       "269  2378935119              4\n",
       "18    199603092              4"
      ]
     },
     "execution_count": 43,
     "metadata": {},
     "output_type": "execute_result"
    }
   ],
   "source": [
    "# group А\n",
    "ordersByUsersA = orders[orders['group']=='A'].groupby('visitorId', as_index=False).agg({'transactionId': 'nunique'})\n",
    "ordersByUsersA.sort_values(by='transactionId', ascending=False).head()"
   ]
  },
  {
   "cell_type": "code",
   "execution_count": 44,
   "metadata": {},
   "outputs": [
    {
     "data": {
      "text/html": [
       "<div>\n",
       "<style scoped>\n",
       "    .dataframe tbody tr th:only-of-type {\n",
       "        vertical-align: middle;\n",
       "    }\n",
       "\n",
       "    .dataframe tbody tr th {\n",
       "        vertical-align: top;\n",
       "    }\n",
       "\n",
       "    .dataframe thead th {\n",
       "        text-align: right;\n",
       "    }\n",
       "</style>\n",
       "<table border=\"1\" class=\"dataframe\">\n",
       "  <thead>\n",
       "    <tr style=\"text-align: right;\">\n",
       "      <th></th>\n",
       "      <th>visitorId</th>\n",
       "      <th>transactionId</th>\n",
       "    </tr>\n",
       "  </thead>\n",
       "  <tbody>\n",
       "    <tr>\n",
       "      <th>340</th>\n",
       "      <td>2458001652</td>\n",
       "      <td>6</td>\n",
       "    </tr>\n",
       "    <tr>\n",
       "      <th>326</th>\n",
       "      <td>2378935119</td>\n",
       "      <td>5</td>\n",
       "    </tr>\n",
       "    <tr>\n",
       "      <th>501</th>\n",
       "      <td>3717692402</td>\n",
       "      <td>4</td>\n",
       "    </tr>\n",
       "    <tr>\n",
       "      <th>514</th>\n",
       "      <td>3803269165</td>\n",
       "      <td>4</td>\n",
       "    </tr>\n",
       "    <tr>\n",
       "      <th>580</th>\n",
       "      <td>4256040402</td>\n",
       "      <td>4</td>\n",
       "    </tr>\n",
       "  </tbody>\n",
       "</table>\n",
       "</div>"
      ],
      "text/plain": [
       "      visitorId  transactionId\n",
       "340  2458001652              6\n",
       "326  2378935119              5\n",
       "501  3717692402              4\n",
       "514  3803269165              4\n",
       "580  4256040402              4"
      ]
     },
     "execution_count": 44,
     "metadata": {},
     "output_type": "execute_result"
    }
   ],
   "source": [
    "# group В \n",
    "ordersByUsersB = orders[orders['group']=='B'].groupby('visitorId', as_index=False).agg({'transactionId': 'nunique'})\n",
    "ordersByUsersB.sort_values(by='transactionId', ascending=False).head()"
   ]
  },
  {
   "cell_type": "markdown",
   "metadata": {},
   "source": [
    "#### Define variables sampleA and sampleB, in which users from different groups will have the number of orders. Those who have not ordered anything will be set to zeros"
   ]
  },
  {
   "cell_type": "code",
   "execution_count": 45,
   "metadata": {},
   "outputs": [],
   "source": [
    "# group А\n",
    "sampleA = pd.concat([ordersByUsersA['transactionId'],pd.Series(0, index=np.arange(significativity['visitorsPerDayA'].sum() - len(ordersByUsersA['transactionId'])), name='orders')],axis=0)\n",
    "# group В\n",
    "sampleB = pd.concat([ordersByUsersB['transactionId'],pd.Series(0, index=np.arange(significativity['visitorsPerDayB'].sum() - len(ordersByUsersB['transactionId'])), name='orders')],axis=0) "
   ]
  },
  {
   "cell_type": "code",
   "execution_count": 46,
   "metadata": {},
   "outputs": [
    {
     "name": "stdout",
     "output_type": "stream",
     "text": [
      "P-value: 0.017\n",
      "Относительная разница составила 0.138\n"
     ]
    }
   ],
   "source": [
    "print('P-value: {0:.3f}'.format(stats.mannwhitneyu(sampleA, sampleB)[1]))\n",
    "\n",
    "print('Относительная разница составила {0:.3f}'.format(sampleB.mean() / sampleA.mean() - 1))"
   ]
  },
  {
   "cell_type": "markdown",
   "metadata": {},
   "source": [
    "**Summary:**  \n",
    "From the calculation we see that with raw data p-value is less than the taken statistical significance, so we reject our null hypothesis and conclude that the average number of orders per visitor of the two groups has statistically significant differences.  \n",
    "The relative gain of group B by the average number of orders is 13.8%."
   ]
  },
  {
   "cell_type": "markdown",
   "metadata": {},
   "source": [
    "### Let's calculate the statistical significance of differences in the average order receipt between groups using raw data:"
   ]
  },
  {
   "cell_type": "markdown",
   "metadata": {},
   "source": [
    "We accept the **null hypothesis** that there are no differences in the average receipt between the groups. The **alternative hypothesis** is that there are differences in the average receipt between the groups."
   ]
  },
  {
   "cell_type": "code",
   "execution_count": 47,
   "metadata": {},
   "outputs": [
    {
     "name": "stdout",
     "output_type": "stream",
     "text": [
      "P-value: 0.729\n",
      "Относительная разница составила 0.259\n"
     ]
    }
   ],
   "source": [
    "print('P-value: {0:.3f}'.format(stats.mannwhitneyu(orders[orders['group']=='A']['revenue'], orders[orders['group']=='B']['revenue'])[1]))\n",
    "print('Относительная разница составила {0:.3f}'.format(orders[orders['group']=='B']['revenue'].mean()/orders[orders['group']=='A']['revenue'].mean()-1)) "
   ]
  },
  {
   "cell_type": "markdown",
   "metadata": {},
   "source": [
    "**Summary:**  \n",
    "According to the raw data we can see that because of p-value greater than 0.05 there is no statistically significant difference in receipt between the groups, despite the difference in average receipt of 25.9% in favour of group B.  \n",
    "It is worth pointing out that despite the large relative difference in average receipts, the test shows that there are no statistically significant differences - this is just a clear example of the fact that existing differences can be randomly obtained."
   ]
  },
  {
   "cell_type": "markdown",
   "metadata": {},
   "source": [
    "### Let's calculate the statistical significance of differences in the average number of orders per visitor between groups on clean data:"
   ]
  },
  {
   "cell_type": "markdown",
   "metadata": {},
   "source": [
    "Let's check the anomalies and their number, and perform the calculation of indicators on the anomalous data to assess their impact on the A/B test results."
   ]
  },
  {
   "cell_type": "markdown",
   "metadata": {},
   "source": [
    "#### Let's prepare samples of the number of orders by users of different groups:"
   ]
  },
  {
   "cell_type": "code",
   "execution_count": 48,
   "metadata": {},
   "outputs": [
    {
     "name": "stdout",
     "output_type": "stream",
     "text": [
      "1099    148427295\n",
      "18      199603092\n",
      "928     204675465\n",
      "23      237748145\n",
      "37      249864742\n",
      "Name: visitorId, dtype: int64\n",
      "74\n"
     ]
    }
   ],
   "source": [
    "usersWithManyOrders = pd.concat(\n",
    "    [\n",
    "        ordersByUsersA[ordersByUsersA['transactionId'] > np.percentile(ordersByUsers['transactionId'], 95)]['visitorId'],\n",
    "        ordersByUsersB[ordersByUsersB['transactionId'] > np.percentile(ordersByUsers['transactionId'], 95)]['visitorId'],\n",
    "    ],\n",
    "    axis=0,\n",
    ")\n",
    "usersWithExpensiveOrders = orders[orders['revenue'] > np.percentile(orders['revenue'], 95)]['visitorId']\n",
    "abnormalUsers = (\n",
    "    pd.concat([usersWithManyOrders, usersWithExpensiveOrders], axis=0)\n",
    "    .drop_duplicates()\n",
    "    .sort_values()\n",
    ")\n",
    "print(abnormalUsers.head(5))\n",
    "print(abnormalUsers.shape[0]) \n"
   ]
  },
  {
   "cell_type": "markdown",
   "metadata": {},
   "source": [
    "**We found 74 anomalous cases where orders cost more than 28 000 money and there were more than 2 orders made in a day, which we chose when counting 95% of persentiles.**"
   ]
  },
  {
   "cell_type": "markdown",
   "metadata": {},
   "source": [
    "Let's calculate the relative loss of users during the filtering process:"
   ]
  },
  {
   "cell_type": "code",
   "execution_count": 49,
   "metadata": {},
   "outputs": [
    {
     "name": "stdout",
     "output_type": "stream",
     "text": [
      "В относительном выражении вы теряем 6.2% пользователей.\n"
     ]
    }
   ],
   "source": [
    "percLoss = abnormalUsers.shape[0] / len(ordersGrouped)\n",
    "print('В относительном выражении вы теряем ' + str(round(percLoss*100, 1)) + '% пользователей.')"
   ]
  },
  {
   "cell_type": "markdown",
   "metadata": {},
   "source": [
    "#### Prepare samples of the number of orders by user by test group:"
   ]
  },
  {
   "cell_type": "code",
   "execution_count": 50,
   "metadata": {},
   "outputs": [],
   "source": [
    "sampleAFiltered = pd.concat(\n",
    "    [\n",
    "        ordersByUsersA[\n",
    "            np.logical_not(ordersByUsersA['visitorId'].isin(abnormalUsers))\n",
    "        ]['transactionId'],\n",
    "        pd.Series(\n",
    "            0,\n",
    "            index=np.arange(\n",
    "                significativity['visitorsPerDayA'].sum() - len(ordersByUsersA['transactionId'])\n",
    "            ),\n",
    "            name='orders',\n",
    "        ),\n",
    "    ],\n",
    "    axis=0,\n",
    ")\n",
    "\n",
    "sampleBFiltered = pd.concat(\n",
    "    [\n",
    "        ordersByUsersB[\n",
    "            np.logical_not(ordersByUsersB['visitorId'].isin(abnormalUsers))\n",
    "        ]['transactionId'],\n",
    "        pd.Series(\n",
    "            0,\n",
    "            index=np.arange(\n",
    "                significativity['visitorsPerDayB'].sum() - len(ordersByUsersB['transactionId'])\n",
    "            ),\n",
    "            name='orders',\n",
    "        ),\n",
    "    ],\n",
    "    axis=0,\n",
    ") "
   ]
  },
  {
   "cell_type": "markdown",
   "metadata": {},
   "source": [
    "#### Let's apply the Mann-Whitney statistical criterion to the received samples:"
   ]
  },
  {
   "cell_type": "code",
   "execution_count": 51,
   "metadata": {},
   "outputs": [
    {
     "name": "stdout",
     "output_type": "stream",
     "text": [
      "P-value: 0.013\n",
      "Относительная разница групп равна 0.173\n"
     ]
    }
   ],
   "source": [
    "print('P-value: {0:.3f}'.format(stats.mannwhitneyu(sampleAFiltered, sampleBFiltered)[1]))\n",
    "print('Относительная разница групп равна {0:.3f}'.format(sampleBFiltered.mean()/sampleAFiltered.mean()-1)) "
   ]
  },
  {
   "cell_type": "markdown",
   "metadata": {},
   "source": [
    "**Summary:**  \n",
    "The p-value on the clean data differs from the raw data by 0.04 and is also less than the accepted statistical significance of 0.05. We reject the null hypothesis and assume that the average number of orders of the two groups has statistically significant differences.  \n",
    "The relative advantage of group B by the average number of orders is 17.3%."
   ]
  },
  {
   "cell_type": "markdown",
   "metadata": {},
   "source": [
    "### Let's calculate the statistical significance of differences in average order receipt between groups using the clean data:"
   ]
  },
  {
   "cell_type": "code",
   "execution_count": 52,
   "metadata": {},
   "outputs": [
    {
     "name": "stdout",
     "output_type": "stream",
     "text": [
      "P-value: 0.738\n",
      "Относительная разница составила -0.020\n"
     ]
    }
   ],
   "source": [
    "print('P-value: ' +\n",
    "    '{0:.3f}'.format(\n",
    "        stats.mannwhitneyu(\n",
    "            orders[\n",
    "                np.logical_and(\n",
    "                    orders['group'] == 'A',\n",
    "                    np.logical_not(orders['visitorId'].isin(abnormalUsers)),\n",
    "                )\n",
    "            ]['revenue'],\n",
    "            orders[\n",
    "                np.logical_and(\n",
    "                    orders['group'] == 'B',\n",
    "                    np.logical_not(orders['visitorId'].isin(abnormalUsers)),\n",
    "                )\n",
    "            ]['revenue'],\n",
    "        )[1]\n",
    "    )\n",
    ")\n",
    "\n",
    "print('Относительная разница составила ' +\n",
    "    '{0:.3f}'.format(\n",
    "        orders[\n",
    "            np.logical_and(\n",
    "                orders['group'] == 'B',\n",
    "                np.logical_not(orders['visitorId'].isin(abnormalUsers)),\n",
    "            )\n",
    "        ]['revenue'].mean()\n",
    "        / orders[\n",
    "            np.logical_and(\n",
    "                orders['group'] == 'A',\n",
    "                np.logical_not(orders['visitorId'].isin(abnormalUsers)),\n",
    "            )\n",
    "        ]['revenue'].mean()\n",
    "        - 1\n",
    "    )\n",
    ") \n"
   ]
  },
  {
   "cell_type": "markdown",
   "metadata": {},
   "source": [
    "**Summary:**  \n",
    "The p-value increased even more and the difference in average receipt went to the side of group A and became equal to 2%. There are still no significant differences in the receipts between the groups."
   ]
  },
  {
   "cell_type": "markdown",
   "metadata": {},
   "source": [
    "**General summary:**  \n",
    "Having analysed the results of the A/B test, we have the following:  \n",
    "- P-value on average number of orders on raw data did not reach statistical significance - statistically significant differences are present (we reject the null hypothesis). We also know that the benefit on the average number of orders of group B is 13.8%.  \n",
    "- The P-value of the average cheque on the raw data is strongly greater than 0.05, so there are no stat. significant differences. However, it is worth bearing in mind that the average receipt of group B is larger than the average receipt of group A by 25.9%.\n",
    "- Taking into account the anomalous data, we can conclude that even the statistical significance on the average number of orders reports the presence of important statistical deviations. In the cleaned data, the average number of orders per visitor of group B is greater than the average number of orders per visitor of group A by 14.8%.\n",
    "- Anomalies in the average receipt do not report the presence of important statistically significant differences, but in average receipts over 30 000 moneys the advantage is on the side of group A by 2%.\n",
    "\n",
    "The graph of differences in average order quantity indicates the good data of group B and the continuation of its upward trend.  \n",
    "\n",
    "The average receipt difference graph showed the dominance of the size of the average receipt by group B, especially if anomalies are not taken into account. The trend goes down towards the end of the test, but still at a good level of 25.9%.  \n",
    "\n",
    "The decision is to stop the test and admit the victory of group B.  "
   ]
  },
  {
   "cell_type": "markdown",
   "metadata": {},
   "source": [
    "The marketing department will be given priority hypotheses and advised to implement them, these are the following hypotheses:\n",
    "- Add a subscription form to all main pages to gather a customer base for email newsletters.\n",
    "- Add two new channels to attract traffic, which will attract 30% more users.\n",
    "- Launch a promotion that gives a discount on a product on its birthday.\n",
    "- Add product recommendation blocks to the website of the online shop to increase conversion rate and average order receipt.\n",
    "- Show banners with current promotions and sales on the homepage to increase conversion rates."
   ]
  }
 ],
 "metadata": {
  "ExecuteTimeLog": [
   {
    "duration": 70,
    "start_time": "2023-10-09T18:52:06.930Z"
   },
   {
    "duration": 553,
    "start_time": "2023-10-09T19:13:06.924Z"
   },
   {
    "duration": 243,
    "start_time": "2023-10-09T19:13:07.479Z"
   },
   {
    "duration": 124,
    "start_time": "2023-10-09T19:13:33.575Z"
   },
   {
    "duration": 12,
    "start_time": "2023-10-09T19:15:48.527Z"
   },
   {
    "duration": 5,
    "start_time": "2023-10-09T19:16:02.811Z"
   },
   {
    "duration": 7,
    "start_time": "2023-10-09T19:16:10.331Z"
   },
   {
    "duration": 28,
    "start_time": "2023-10-09T19:16:21.870Z"
   },
   {
    "duration": 22,
    "start_time": "2023-10-09T19:16:33.075Z"
   },
   {
    "duration": 7,
    "start_time": "2023-10-09T19:16:40.202Z"
   },
   {
    "duration": 8,
    "start_time": "2023-10-09T19:26:34.801Z"
   },
   {
    "duration": 30,
    "start_time": "2023-10-09T19:47:06.398Z"
   },
   {
    "duration": 13,
    "start_time": "2023-10-09T19:47:20.773Z"
   },
   {
    "duration": 100,
    "start_time": "2023-10-09T19:47:36.505Z"
   },
   {
    "duration": 9,
    "start_time": "2023-10-09T19:47:40.675Z"
   },
   {
    "duration": 8,
    "start_time": "2023-10-09T19:47:43.730Z"
   },
   {
    "duration": 13,
    "start_time": "2023-10-09T19:48:20.961Z"
   },
   {
    "duration": 24,
    "start_time": "2023-10-09T19:48:28.848Z"
   },
   {
    "duration": 1990,
    "start_time": "2023-10-09T19:48:48.913Z"
   },
   {
    "duration": 17,
    "start_time": "2023-10-09T19:49:04.157Z"
   },
   {
    "duration": 13,
    "start_time": "2023-10-09T19:49:34.283Z"
   },
   {
    "duration": 14,
    "start_time": "2023-10-09T19:53:25.695Z"
   },
   {
    "duration": 9,
    "start_time": "2023-10-09T20:06:48.191Z"
   },
   {
    "duration": 8,
    "start_time": "2023-10-09T20:25:38.546Z"
   },
   {
    "duration": 18,
    "start_time": "2023-10-09T20:26:05.569Z"
   },
   {
    "duration": 26,
    "start_time": "2023-10-09T20:26:12.785Z"
   },
   {
    "duration": 22,
    "start_time": "2023-10-09T20:26:45.677Z"
   },
   {
    "duration": 681,
    "start_time": "2023-10-09T20:27:58.110Z"
   },
   {
    "duration": 789,
    "start_time": "2023-10-09T20:29:39.207Z"
   },
   {
    "duration": 9,
    "start_time": "2023-10-09T20:33:02.279Z"
   },
   {
    "duration": 8,
    "start_time": "2023-10-09T20:33:18.206Z"
   },
   {
    "duration": 13,
    "start_time": "2023-10-09T20:33:22.072Z"
   },
   {
    "duration": 21,
    "start_time": "2023-10-09T20:33:25.974Z"
   },
   {
    "duration": 612,
    "start_time": "2023-10-09T20:34:27.463Z"
   },
   {
    "duration": 687,
    "start_time": "2023-10-09T20:34:44.925Z"
   },
   {
    "duration": 5,
    "start_time": "2023-10-09T20:37:13.878Z"
   },
   {
    "duration": 3,
    "start_time": "2023-10-09T20:37:21.221Z"
   },
   {
    "duration": 19,
    "start_time": "2023-10-09T21:23:02.414Z"
   },
   {
    "duration": 2,
    "start_time": "2023-10-09T21:23:03.438Z"
   },
   {
    "duration": 3,
    "start_time": "2023-10-09T21:23:03.907Z"
   },
   {
    "duration": 685,
    "start_time": "2023-10-09T21:23:04.640Z"
   },
   {
    "duration": 7,
    "start_time": "2023-10-09T21:23:15.092Z"
   },
   {
    "duration": 130,
    "start_time": "2023-10-09T21:23:15.102Z"
   },
   {
    "duration": 21,
    "start_time": "2023-10-09T21:23:15.234Z"
   },
   {
    "duration": 34,
    "start_time": "2023-10-09T21:23:15.266Z"
   },
   {
    "duration": 20,
    "start_time": "2023-10-09T21:23:15.305Z"
   },
   {
    "duration": 30,
    "start_time": "2023-10-09T21:23:15.328Z"
   },
   {
    "duration": 33,
    "start_time": "2023-10-09T21:23:15.361Z"
   },
   {
    "duration": 18,
    "start_time": "2023-10-09T21:23:15.396Z"
   },
   {
    "duration": 20,
    "start_time": "2023-10-09T21:23:15.416Z"
   },
   {
    "duration": 33,
    "start_time": "2023-10-09T21:23:15.439Z"
   },
   {
    "duration": 6,
    "start_time": "2023-10-09T21:23:15.481Z"
   },
   {
    "duration": 7,
    "start_time": "2023-10-09T21:23:15.495Z"
   },
   {
    "duration": 32,
    "start_time": "2023-10-09T21:23:15.504Z"
   },
   {
    "duration": 14,
    "start_time": "2023-10-09T21:23:38.395Z"
   },
   {
    "duration": 15,
    "start_time": "2023-10-09T21:27:42.598Z"
   },
   {
    "duration": 8,
    "start_time": "2023-10-09T21:27:52.734Z"
   },
   {
    "duration": 18,
    "start_time": "2023-10-09T21:31:43.875Z"
   },
   {
    "duration": 14,
    "start_time": "2023-10-09T21:32:00.869Z"
   },
   {
    "duration": 27,
    "start_time": "2023-10-09T21:33:50.469Z"
   },
   {
    "duration": 254,
    "start_time": "2023-10-09T21:35:14.189Z"
   },
   {
    "duration": 212,
    "start_time": "2023-10-09T21:35:32.627Z"
   },
   {
    "duration": 205,
    "start_time": "2023-10-09T21:36:01.693Z"
   },
   {
    "duration": 221,
    "start_time": "2023-10-09T21:36:07.601Z"
   },
   {
    "duration": 1671,
    "start_time": "2023-10-09T21:40:23.247Z"
   },
   {
    "duration": 1759,
    "start_time": "2023-10-09T21:40:27.753Z"
   },
   {
    "duration": 3,
    "start_time": "2023-10-09T21:40:34.640Z"
   },
   {
    "duration": 97,
    "start_time": "2023-10-09T21:40:34.645Z"
   },
   {
    "duration": 13,
    "start_time": "2023-10-09T21:40:34.744Z"
   },
   {
    "duration": 25,
    "start_time": "2023-10-09T21:40:34.760Z"
   },
   {
    "duration": 1588,
    "start_time": "2023-10-09T21:40:34.787Z"
   },
   {
    "duration": 0,
    "start_time": "2023-10-09T21:40:36.378Z"
   },
   {
    "duration": 0,
    "start_time": "2023-10-09T21:40:36.379Z"
   },
   {
    "duration": 0,
    "start_time": "2023-10-09T21:40:36.381Z"
   },
   {
    "duration": 0,
    "start_time": "2023-10-09T21:40:36.383Z"
   },
   {
    "duration": 0,
    "start_time": "2023-10-09T21:40:36.384Z"
   },
   {
    "duration": 0,
    "start_time": "2023-10-09T21:40:36.386Z"
   },
   {
    "duration": 0,
    "start_time": "2023-10-09T21:40:36.388Z"
   },
   {
    "duration": 0,
    "start_time": "2023-10-09T21:40:36.390Z"
   },
   {
    "duration": 20,
    "start_time": "2023-10-09T21:40:58.471Z"
   },
   {
    "duration": 14,
    "start_time": "2023-10-09T21:41:02.545Z"
   },
   {
    "duration": 15,
    "start_time": "2023-10-09T21:41:02.826Z"
   },
   {
    "duration": 12,
    "start_time": "2023-10-09T21:41:03.551Z"
   },
   {
    "duration": 12,
    "start_time": "2023-10-09T21:41:04.368Z"
   },
   {
    "duration": 22,
    "start_time": "2023-10-09T21:41:05.556Z"
   },
   {
    "duration": 12,
    "start_time": "2023-10-09T21:41:06.113Z"
   },
   {
    "duration": 205,
    "start_time": "2023-10-09T21:41:07.805Z"
   },
   {
    "duration": 159,
    "start_time": "2023-10-09T21:41:11.089Z"
   },
   {
    "duration": 21,
    "start_time": "2023-10-09T21:41:43.799Z"
   },
   {
    "duration": 165,
    "start_time": "2023-10-09T21:42:34.528Z"
   },
   {
    "duration": 158,
    "start_time": "2023-10-09T21:42:54.905Z"
   },
   {
    "duration": 15,
    "start_time": "2023-10-09T21:44:23.230Z"
   },
   {
    "duration": 29,
    "start_time": "2023-10-09T21:45:58.886Z"
   },
   {
    "duration": 18,
    "start_time": "2023-10-09T21:47:27.745Z"
   },
   {
    "duration": 479,
    "start_time": "2023-10-09T21:50:54.240Z"
   },
   {
    "duration": 24,
    "start_time": "2023-10-09T21:51:21.571Z"
   },
   {
    "duration": 31,
    "start_time": "2023-10-09T21:51:48.243Z"
   },
   {
    "duration": 10,
    "start_time": "2023-10-09T21:52:02.103Z"
   },
   {
    "duration": 16,
    "start_time": "2023-10-09T21:52:20.170Z"
   },
   {
    "duration": 10,
    "start_time": "2023-10-09T21:52:31.500Z"
   },
   {
    "duration": 18,
    "start_time": "2023-10-09T21:52:53.836Z"
   },
   {
    "duration": 10,
    "start_time": "2023-10-09T21:53:03.302Z"
   },
   {
    "duration": 337,
    "start_time": "2023-10-09T21:53:28.784Z"
   },
   {
    "duration": 285,
    "start_time": "2023-10-09T21:53:33.146Z"
   },
   {
    "duration": 322,
    "start_time": "2023-10-09T21:54:25.675Z"
   },
   {
    "duration": 218,
    "start_time": "2023-10-09T21:54:36.098Z"
   },
   {
    "duration": 325,
    "start_time": "2023-10-09T21:54:41.078Z"
   },
   {
    "duration": 97,
    "start_time": "2023-10-09T21:55:38.142Z"
   },
   {
    "duration": 377,
    "start_time": "2023-10-09T21:55:43.768Z"
   },
   {
    "duration": 465,
    "start_time": "2023-10-09T21:55:59.674Z"
   },
   {
    "duration": 221,
    "start_time": "2023-10-09T21:59:42.340Z"
   },
   {
    "duration": 4,
    "start_time": "2023-10-09T22:01:19.130Z"
   },
   {
    "duration": 460,
    "start_time": "2023-10-09T22:01:24.419Z"
   },
   {
    "duration": 222,
    "start_time": "2023-10-09T22:01:32.284Z"
   },
   {
    "duration": 4,
    "start_time": "2023-10-09T22:09:35.334Z"
   },
   {
    "duration": 103,
    "start_time": "2023-10-09T22:09:35.341Z"
   },
   {
    "duration": 16,
    "start_time": "2023-10-09T22:09:35.450Z"
   },
   {
    "duration": 15,
    "start_time": "2023-10-09T22:09:35.469Z"
   },
   {
    "duration": 50,
    "start_time": "2023-10-09T22:09:35.486Z"
   },
   {
    "duration": 48,
    "start_time": "2023-10-09T22:09:35.539Z"
   },
   {
    "duration": 26,
    "start_time": "2023-10-09T22:09:35.589Z"
   },
   {
    "duration": 47,
    "start_time": "2023-10-09T22:09:35.617Z"
   },
   {
    "duration": 34,
    "start_time": "2023-10-09T22:09:35.667Z"
   },
   {
    "duration": 71,
    "start_time": "2023-10-09T22:09:35.702Z"
   },
   {
    "duration": 33,
    "start_time": "2023-10-09T22:09:35.776Z"
   },
   {
    "duration": 240,
    "start_time": "2023-10-09T22:09:35.810Z"
   },
   {
    "duration": 152,
    "start_time": "2023-10-09T22:09:36.061Z"
   },
   {
    "duration": 13,
    "start_time": "2023-10-09T22:09:36.215Z"
   },
   {
    "duration": 41,
    "start_time": "2023-10-09T22:09:36.229Z"
   },
   {
    "duration": 42,
    "start_time": "2023-10-09T22:09:36.273Z"
   },
   {
    "duration": 236,
    "start_time": "2023-10-09T22:09:36.317Z"
   },
   {
    "duration": 197,
    "start_time": "2023-10-09T22:10:51.629Z"
   },
   {
    "duration": 543,
    "start_time": "2023-10-09T22:11:01.379Z"
   },
   {
    "duration": 405,
    "start_time": "2023-10-09T22:11:27.190Z"
   },
   {
    "duration": 405,
    "start_time": "2023-10-09T22:11:37.140Z"
   },
   {
    "duration": 375,
    "start_time": "2023-10-09T22:13:26.142Z"
   },
   {
    "duration": 379,
    "start_time": "2023-10-09T22:13:30.790Z"
   },
   {
    "duration": 412,
    "start_time": "2023-10-09T22:13:34.153Z"
   },
   {
    "duration": 383,
    "start_time": "2023-10-09T22:13:57.826Z"
   },
   {
    "duration": 380,
    "start_time": "2023-10-09T22:14:04.572Z"
   },
   {
    "duration": 358,
    "start_time": "2023-10-09T22:15:12.193Z"
   },
   {
    "duration": 401,
    "start_time": "2023-10-09T22:15:21.731Z"
   },
   {
    "duration": 356,
    "start_time": "2023-10-09T22:15:28.385Z"
   },
   {
    "duration": 501,
    "start_time": "2023-10-09T22:15:50.890Z"
   },
   {
    "duration": 432,
    "start_time": "2023-10-09T22:15:55.866Z"
   },
   {
    "duration": 388,
    "start_time": "2023-10-09T22:16:44.069Z"
   },
   {
    "duration": 398,
    "start_time": "2023-10-09T22:16:52.502Z"
   },
   {
    "duration": 385,
    "start_time": "2023-10-09T22:17:12.854Z"
   },
   {
    "duration": 410,
    "start_time": "2023-10-09T22:19:04.751Z"
   },
   {
    "duration": 408,
    "start_time": "2023-10-09T22:19:33.936Z"
   },
   {
    "duration": 413,
    "start_time": "2023-10-09T22:21:11.413Z"
   },
   {
    "duration": 392,
    "start_time": "2023-10-09T22:21:57.109Z"
   },
   {
    "duration": 10,
    "start_time": "2023-10-09T22:23:01.668Z"
   },
   {
    "duration": 11,
    "start_time": "2023-10-09T22:23:09.599Z"
   },
   {
    "duration": 4,
    "start_time": "2023-10-09T22:23:14.469Z"
   },
   {
    "duration": 367,
    "start_time": "2023-10-09T22:23:41.702Z"
   },
   {
    "duration": 3,
    "start_time": "2023-10-09T22:23:51.589Z"
   },
   {
    "duration": 110,
    "start_time": "2023-10-09T22:23:51.594Z"
   },
   {
    "duration": 9,
    "start_time": "2023-10-09T22:23:51.706Z"
   },
   {
    "duration": 29,
    "start_time": "2023-10-09T22:23:51.718Z"
   },
   {
    "duration": 32,
    "start_time": "2023-10-09T22:23:51.749Z"
   },
   {
    "duration": 41,
    "start_time": "2023-10-09T22:23:51.783Z"
   },
   {
    "duration": 84,
    "start_time": "2023-10-09T22:23:51.826Z"
   },
   {
    "duration": 46,
    "start_time": "2023-10-09T22:23:51.911Z"
   },
   {
    "duration": 55,
    "start_time": "2023-10-09T22:23:51.961Z"
   },
   {
    "duration": 66,
    "start_time": "2023-10-09T22:23:52.018Z"
   },
   {
    "duration": 39,
    "start_time": "2023-10-09T22:23:52.086Z"
   },
   {
    "duration": 238,
    "start_time": "2023-10-09T22:23:52.126Z"
   },
   {
    "duration": 155,
    "start_time": "2023-10-09T22:23:52.366Z"
   },
   {
    "duration": 38,
    "start_time": "2023-10-09T22:23:52.523Z"
   },
   {
    "duration": 19,
    "start_time": "2023-10-09T22:23:52.563Z"
   },
   {
    "duration": 40,
    "start_time": "2023-10-09T22:23:52.584Z"
   },
   {
    "duration": 449,
    "start_time": "2023-10-09T22:23:52.626Z"
   },
   {
    "duration": 363,
    "start_time": "2023-10-09T22:24:25.120Z"
   },
   {
    "duration": 206,
    "start_time": "2023-10-09T22:24:46.789Z"
   },
   {
    "duration": 219,
    "start_time": "2023-10-09T22:24:51.145Z"
   },
   {
    "duration": 214,
    "start_time": "2023-10-09T22:24:54.270Z"
   },
   {
    "duration": 249,
    "start_time": "2023-10-09T22:26:23.455Z"
   },
   {
    "duration": 192,
    "start_time": "2023-10-09T22:28:29.270Z"
   },
   {
    "duration": 199,
    "start_time": "2023-10-09T22:29:09.982Z"
   },
   {
    "duration": 194,
    "start_time": "2023-10-09T22:29:21.368Z"
   },
   {
    "duration": 235,
    "start_time": "2023-10-09T22:30:05.038Z"
   },
   {
    "duration": 212,
    "start_time": "2023-10-09T22:30:20.780Z"
   },
   {
    "duration": 215,
    "start_time": "2023-10-09T22:31:09.885Z"
   },
   {
    "duration": 293,
    "start_time": "2023-10-09T22:31:23.562Z"
   },
   {
    "duration": 220,
    "start_time": "2023-10-09T22:31:31.902Z"
   },
   {
    "duration": 218,
    "start_time": "2023-10-09T22:31:35.285Z"
   },
   {
    "duration": 266,
    "start_time": "2023-10-09T22:31:45.210Z"
   },
   {
    "duration": 403,
    "start_time": "2023-10-09T22:32:06.677Z"
   },
   {
    "duration": 200,
    "start_time": "2023-10-09T22:32:17.973Z"
   },
   {
    "duration": 211,
    "start_time": "2023-10-09T22:33:07.146Z"
   },
   {
    "duration": 216,
    "start_time": "2023-10-09T22:33:13.043Z"
   },
   {
    "duration": 215,
    "start_time": "2023-10-09T22:33:17.087Z"
   },
   {
    "duration": 206,
    "start_time": "2023-10-09T22:33:49.807Z"
   },
   {
    "duration": 221,
    "start_time": "2023-10-09T22:33:55.507Z"
   },
   {
    "duration": 298,
    "start_time": "2023-10-09T22:34:05.832Z"
   },
   {
    "duration": 200,
    "start_time": "2023-10-09T22:34:13.135Z"
   },
   {
    "duration": 239,
    "start_time": "2023-10-09T22:35:16.019Z"
   },
   {
    "duration": 224,
    "start_time": "2023-10-09T22:35:29.275Z"
   },
   {
    "duration": 243,
    "start_time": "2023-10-09T22:36:05.435Z"
   },
   {
    "duration": 258,
    "start_time": "2023-10-09T22:36:29.437Z"
   },
   {
    "duration": 205,
    "start_time": "2023-10-09T22:36:32.895Z"
   },
   {
    "duration": 222,
    "start_time": "2023-10-09T22:36:37.377Z"
   },
   {
    "duration": 1771,
    "start_time": "2023-10-09T22:47:40.743Z"
   },
   {
    "duration": 231,
    "start_time": "2023-10-09T22:48:06.643Z"
   },
   {
    "duration": 1484,
    "start_time": "2023-10-09T22:48:14.324Z"
   },
   {
    "duration": 216,
    "start_time": "2023-10-09T22:48:59.770Z"
   },
   {
    "duration": 192,
    "start_time": "2023-10-09T22:49:38.371Z"
   },
   {
    "duration": 287,
    "start_time": "2023-10-09T22:49:55.464Z"
   },
   {
    "duration": 226,
    "start_time": "2023-10-09T22:50:02.108Z"
   },
   {
    "duration": 216,
    "start_time": "2023-10-09T22:50:08.643Z"
   },
   {
    "duration": 185,
    "start_time": "2023-10-09T22:57:01.406Z"
   },
   {
    "duration": 184,
    "start_time": "2023-10-09T22:57:29.500Z"
   },
   {
    "duration": 193,
    "start_time": "2023-10-09T22:57:54.658Z"
   },
   {
    "duration": 1843,
    "start_time": "2023-10-09T22:59:52.134Z"
   },
   {
    "duration": 13,
    "start_time": "2023-10-09T23:00:57.120Z"
   },
   {
    "duration": 314,
    "start_time": "2023-10-09T23:01:59.166Z"
   },
   {
    "duration": 316,
    "start_time": "2023-10-09T23:02:10.025Z"
   },
   {
    "duration": 272,
    "start_time": "2023-10-09T23:02:23.076Z"
   },
   {
    "duration": 283,
    "start_time": "2023-10-09T23:02:28.009Z"
   },
   {
    "duration": 284,
    "start_time": "2023-10-09T23:02:42.864Z"
   },
   {
    "duration": 281,
    "start_time": "2023-10-09T23:03:24.704Z"
   },
   {
    "duration": 302,
    "start_time": "2023-10-09T23:03:40.447Z"
   },
   {
    "duration": 193,
    "start_time": "2023-10-09T23:15:14.039Z"
   },
   {
    "duration": 208,
    "start_time": "2023-10-09T23:17:44.246Z"
   },
   {
    "duration": 209,
    "start_time": "2023-10-09T23:17:51.015Z"
   },
   {
    "duration": 213,
    "start_time": "2023-10-09T23:17:56.370Z"
   },
   {
    "duration": 208,
    "start_time": "2023-10-09T23:18:05.786Z"
   },
   {
    "duration": 100,
    "start_time": "2023-10-09T23:18:34.779Z"
   },
   {
    "duration": 208,
    "start_time": "2023-10-09T23:18:46.050Z"
   },
   {
    "duration": 117,
    "start_time": "2023-10-09T23:19:14.855Z"
   },
   {
    "duration": 284,
    "start_time": "2023-10-09T23:19:18.484Z"
   },
   {
    "duration": 210,
    "start_time": "2023-10-09T23:19:49.616Z"
   },
   {
    "duration": 274,
    "start_time": "2023-10-09T23:26:28.302Z"
   },
   {
    "duration": 381,
    "start_time": "2023-10-09T23:27:41.981Z"
   },
   {
    "duration": 293,
    "start_time": "2023-10-09T23:28:09.165Z"
   },
   {
    "duration": 11,
    "start_time": "2023-10-09T23:30:34.217Z"
   },
   {
    "duration": 3617,
    "start_time": "2023-10-09T23:33:04.855Z"
   },
   {
    "duration": 179,
    "start_time": "2023-10-09T23:33:18.199Z"
   },
   {
    "duration": 2083,
    "start_time": "2023-10-09T23:33:40.683Z"
   },
   {
    "duration": 11,
    "start_time": "2023-10-09T23:34:35.648Z"
   },
   {
    "duration": 3602,
    "start_time": "2023-10-09T23:34:50.637Z"
   },
   {
    "duration": 210,
    "start_time": "2023-10-09T23:40:34.337Z"
   },
   {
    "duration": 220,
    "start_time": "2023-10-09T23:41:41.378Z"
   },
   {
    "duration": 208,
    "start_time": "2023-10-09T23:41:54.912Z"
   },
   {
    "duration": 191,
    "start_time": "2023-10-09T23:42:20.400Z"
   },
   {
    "duration": 207,
    "start_time": "2023-10-09T23:43:44.389Z"
   },
   {
    "duration": 293,
    "start_time": "2023-10-09T23:44:14.371Z"
   },
   {
    "duration": 211,
    "start_time": "2023-10-09T23:45:07.653Z"
   },
   {
    "duration": 234,
    "start_time": "2023-10-09T23:46:59.014Z"
   },
   {
    "duration": 244,
    "start_time": "2023-10-09T23:48:12.299Z"
   },
   {
    "duration": 236,
    "start_time": "2023-10-09T23:49:45.843Z"
   },
   {
    "duration": 228,
    "start_time": "2023-10-09T23:50:00.734Z"
   },
   {
    "duration": 219,
    "start_time": "2023-10-09T23:50:13.547Z"
   },
   {
    "duration": 235,
    "start_time": "2023-10-09T23:53:00.752Z"
   },
   {
    "duration": 53,
    "start_time": "2023-10-10T11:55:53.578Z"
   },
   {
    "duration": 1044,
    "start_time": "2023-10-10T11:56:10.451Z"
   },
   {
    "duration": 296,
    "start_time": "2023-10-10T11:56:11.499Z"
   },
   {
    "duration": 13,
    "start_time": "2023-10-10T11:56:11.797Z"
   },
   {
    "duration": 67,
    "start_time": "2023-10-10T11:56:11.813Z"
   },
   {
    "duration": 11,
    "start_time": "2023-10-10T11:56:11.882Z"
   },
   {
    "duration": 37,
    "start_time": "2023-10-10T11:56:11.895Z"
   },
   {
    "duration": 21,
    "start_time": "2023-10-10T11:56:11.934Z"
   },
   {
    "duration": 20,
    "start_time": "2023-10-10T11:56:11.957Z"
   },
   {
    "duration": 22,
    "start_time": "2023-10-10T11:56:11.979Z"
   },
   {
    "duration": 66,
    "start_time": "2023-10-10T11:56:12.004Z"
   },
   {
    "duration": 17,
    "start_time": "2023-10-10T11:56:12.072Z"
   },
   {
    "duration": 244,
    "start_time": "2023-10-10T11:56:12.090Z"
   },
   {
    "duration": 149,
    "start_time": "2023-10-10T11:56:12.337Z"
   },
   {
    "duration": 107,
    "start_time": "2023-10-10T11:56:12.488Z"
   },
   {
    "duration": 293,
    "start_time": "2023-10-10T11:56:12.596Z"
   },
   {
    "duration": 77,
    "start_time": "2023-10-10T11:56:12.890Z"
   },
   {
    "duration": 431,
    "start_time": "2023-10-10T11:56:12.969Z"
   },
   {
    "duration": 260,
    "start_time": "2023-10-10T11:56:13.402Z"
   },
   {
    "duration": 352,
    "start_time": "2023-10-10T11:56:13.664Z"
   },
   {
    "duration": 328,
    "start_time": "2023-10-10T11:56:14.018Z"
   },
   {
    "duration": 426,
    "start_time": "2023-10-10T11:56:14.348Z"
   },
   {
    "duration": 381,
    "start_time": "2023-10-10T11:56:36.615Z"
   },
   {
    "duration": 409,
    "start_time": "2023-10-10T11:56:44.440Z"
   },
   {
    "duration": 352,
    "start_time": "2023-10-10T11:56:50.051Z"
   },
   {
    "duration": 327,
    "start_time": "2023-10-10T11:57:14.554Z"
   },
   {
    "duration": 402,
    "start_time": "2023-10-10T12:08:35.993Z"
   },
   {
    "duration": 402,
    "start_time": "2023-10-10T12:08:54.382Z"
   },
   {
    "duration": 388,
    "start_time": "2023-10-10T12:10:45.410Z"
   },
   {
    "duration": 384,
    "start_time": "2023-10-10T12:10:57.705Z"
   },
   {
    "duration": 267,
    "start_time": "2023-10-10T12:11:19.870Z"
   },
   {
    "duration": 434,
    "start_time": "2023-10-10T12:11:31.861Z"
   },
   {
    "duration": 324,
    "start_time": "2023-10-10T12:11:57.755Z"
   },
   {
    "duration": 382,
    "start_time": "2023-10-10T12:12:08.452Z"
   },
   {
    "duration": 371,
    "start_time": "2023-10-10T15:28:12.518Z"
   },
   {
    "duration": 178,
    "start_time": "2023-10-10T15:34:00.332Z"
   },
   {
    "duration": 14,
    "start_time": "2023-10-10T15:34:11.476Z"
   },
   {
    "duration": 7,
    "start_time": "2023-10-10T15:34:27.143Z"
   },
   {
    "duration": 15,
    "start_time": "2023-10-10T15:34:42.643Z"
   },
   {
    "duration": 11,
    "start_time": "2023-10-10T15:36:12.252Z"
   },
   {
    "duration": 11,
    "start_time": "2023-10-10T15:36:19.782Z"
   },
   {
    "duration": 1695,
    "start_time": "2023-10-10T15:36:45.111Z"
   },
   {
    "duration": 172,
    "start_time": "2023-10-10T15:37:00.822Z"
   },
   {
    "duration": 107,
    "start_time": "2023-10-10T15:40:36.209Z"
   },
   {
    "duration": 113,
    "start_time": "2023-10-10T15:40:44.492Z"
   },
   {
    "duration": 117,
    "start_time": "2023-10-10T15:41:30.440Z"
   },
   {
    "duration": 111,
    "start_time": "2023-10-10T15:42:08.269Z"
   },
   {
    "duration": 118,
    "start_time": "2023-10-10T15:42:28.462Z"
   },
   {
    "duration": 109,
    "start_time": "2023-10-10T15:42:33.290Z"
   },
   {
    "duration": 202,
    "start_time": "2023-10-10T15:43:53.793Z"
   },
   {
    "duration": 127,
    "start_time": "2023-10-10T15:44:10.513Z"
   },
   {
    "duration": 123,
    "start_time": "2023-10-10T15:44:27.353Z"
   },
   {
    "duration": 1679,
    "start_time": "2023-10-10T16:02:37.772Z"
   },
   {
    "duration": 6,
    "start_time": "2023-10-10T16:02:50.387Z"
   },
   {
    "duration": 9,
    "start_time": "2023-10-10T16:08:29.839Z"
   },
   {
    "duration": 97,
    "start_time": "2023-10-10T16:09:24.568Z"
   },
   {
    "duration": 157,
    "start_time": "2023-10-10T16:10:37.420Z"
   },
   {
    "duration": 163,
    "start_time": "2023-10-10T16:10:59.685Z"
   },
   {
    "duration": 140,
    "start_time": "2023-10-10T16:12:47.133Z"
   },
   {
    "duration": 165,
    "start_time": "2023-10-10T16:13:23.052Z"
   },
   {
    "duration": 166,
    "start_time": "2023-10-10T16:13:39.215Z"
   },
   {
    "duration": 168,
    "start_time": "2023-10-10T16:14:02.499Z"
   },
   {
    "duration": 147,
    "start_time": "2023-10-10T16:14:38.668Z"
   },
   {
    "duration": 173,
    "start_time": "2023-10-10T16:15:00.806Z"
   },
   {
    "duration": 259,
    "start_time": "2023-10-10T16:15:16.614Z"
   },
   {
    "duration": 160,
    "start_time": "2023-10-10T16:15:23.246Z"
   },
   {
    "duration": 144,
    "start_time": "2023-10-10T16:20:46.708Z"
   },
   {
    "duration": 141,
    "start_time": "2023-10-10T16:21:02.953Z"
   },
   {
    "duration": 6,
    "start_time": "2023-10-10T16:25:29.776Z"
   },
   {
    "duration": 5,
    "start_time": "2023-10-10T16:25:34.950Z"
   },
   {
    "duration": 6,
    "start_time": "2023-10-10T16:25:46.958Z"
   },
   {
    "duration": 3,
    "start_time": "2023-10-10T16:51:22.366Z"
   },
   {
    "duration": 10,
    "start_time": "2023-10-10T16:51:34.195Z"
   },
   {
    "duration": 5,
    "start_time": "2023-10-10T16:51:39.783Z"
   },
   {
    "duration": 8,
    "start_time": "2023-10-10T16:55:08.202Z"
   },
   {
    "duration": 5,
    "start_time": "2023-10-10T16:57:40.123Z"
   },
   {
    "duration": 5,
    "start_time": "2023-10-10T17:05:49.376Z"
   },
   {
    "duration": 8,
    "start_time": "2023-10-10T17:07:32.589Z"
   },
   {
    "duration": 6,
    "start_time": "2023-10-10T17:08:48.720Z"
   },
   {
    "duration": 5,
    "start_time": "2023-10-10T17:08:56.704Z"
   },
   {
    "duration": 5,
    "start_time": "2023-10-10T17:09:06.485Z"
   },
   {
    "duration": 3,
    "start_time": "2023-10-10T17:12:00.417Z"
   },
   {
    "duration": 5,
    "start_time": "2023-10-10T17:12:05.230Z"
   },
   {
    "duration": 5,
    "start_time": "2023-10-10T23:42:05.667Z"
   },
   {
    "duration": 6,
    "start_time": "2023-10-10T23:42:54.356Z"
   },
   {
    "duration": 120,
    "start_time": "2023-10-10T23:49:24.682Z"
   },
   {
    "duration": 7,
    "start_time": "2023-10-11T00:02:05.974Z"
   },
   {
    "duration": 12,
    "start_time": "2023-10-11T00:02:21.754Z"
   },
   {
    "duration": 12,
    "start_time": "2023-10-11T00:02:41.457Z"
   },
   {
    "duration": 6,
    "start_time": "2023-10-11T00:02:56.341Z"
   },
   {
    "duration": 7,
    "start_time": "2023-10-11T00:04:41.760Z"
   },
   {
    "duration": 20,
    "start_time": "2023-10-11T00:05:33.355Z"
   },
   {
    "duration": 87,
    "start_time": "2023-10-11T00:06:02.362Z"
   },
   {
    "duration": 7,
    "start_time": "2023-10-11T00:06:17.635Z"
   },
   {
    "duration": 16,
    "start_time": "2023-10-11T00:09:36.498Z"
   },
   {
    "duration": 16,
    "start_time": "2023-10-11T00:10:27.470Z"
   },
   {
    "duration": 17,
    "start_time": "2023-10-11T00:11:34.355Z"
   },
   {
    "duration": 17,
    "start_time": "2023-10-11T00:11:48.805Z"
   },
   {
    "duration": 33,
    "start_time": "2023-10-11T00:12:09.994Z"
   },
   {
    "duration": 112,
    "start_time": "2023-10-11T00:12:35.941Z"
   },
   {
    "duration": 9,
    "start_time": "2023-10-11T00:12:52.951Z"
   },
   {
    "duration": 8,
    "start_time": "2023-10-11T00:17:22.731Z"
   },
   {
    "duration": 22,
    "start_time": "2023-10-11T00:17:27.027Z"
   },
   {
    "duration": 26,
    "start_time": "2023-10-11T00:17:42.288Z"
   },
   {
    "duration": 11,
    "start_time": "2023-10-11T00:24:45.081Z"
   },
   {
    "duration": 14,
    "start_time": "2023-10-11T00:25:07.534Z"
   },
   {
    "duration": 17,
    "start_time": "2023-10-11T00:25:31.327Z"
   },
   {
    "duration": 11,
    "start_time": "2023-10-11T00:25:38.649Z"
   },
   {
    "duration": 2091,
    "start_time": "2023-10-11T00:28:22.442Z"
   },
   {
    "duration": 9,
    "start_time": "2023-10-11T00:28:56.566Z"
   },
   {
    "duration": 1866,
    "start_time": "2023-10-11T00:29:45.576Z"
   },
   {
    "duration": 6,
    "start_time": "2023-10-11T00:30:21.351Z"
   },
   {
    "duration": 8,
    "start_time": "2023-10-11T00:30:40.861Z"
   },
   {
    "duration": 10,
    "start_time": "2023-10-11T00:31:27.025Z"
   },
   {
    "duration": 14,
    "start_time": "2023-10-11T00:31:32.158Z"
   },
   {
    "duration": 6,
    "start_time": "2023-10-11T00:31:42.255Z"
   },
   {
    "duration": 8,
    "start_time": "2023-10-11T00:32:55.343Z"
   },
   {
    "duration": 508,
    "start_time": "2023-10-11T00:33:36.800Z"
   },
   {
    "duration": 26,
    "start_time": "2023-10-11T00:33:39.071Z"
   },
   {
    "duration": 10,
    "start_time": "2023-10-11T00:52:27.156Z"
   },
   {
    "duration": 8,
    "start_time": "2023-10-11T01:08:22.783Z"
   },
   {
    "duration": 34,
    "start_time": "2023-10-11T01:12:47.983Z"
   },
   {
    "duration": 14,
    "start_time": "2023-10-11T01:13:40.001Z"
   },
   {
    "duration": 14,
    "start_time": "2023-10-11T01:13:59.482Z"
   },
   {
    "duration": 11,
    "start_time": "2023-10-11T01:14:03.563Z"
   },
   {
    "duration": 8,
    "start_time": "2023-10-11T01:14:09.853Z"
   },
   {
    "duration": 24,
    "start_time": "2023-10-11T01:14:45.575Z"
   },
   {
    "duration": 14,
    "start_time": "2023-10-11T01:23:32.011Z"
   },
   {
    "duration": 62,
    "start_time": "2023-10-11T08:20:50.534Z"
   },
   {
    "duration": 1596,
    "start_time": "2023-10-11T08:20:56.499Z"
   },
   {
    "duration": 250,
    "start_time": "2023-10-11T08:20:58.098Z"
   },
   {
    "duration": 15,
    "start_time": "2023-10-11T08:20:58.350Z"
   },
   {
    "duration": 25,
    "start_time": "2023-10-11T08:20:58.367Z"
   },
   {
    "duration": 84,
    "start_time": "2023-10-11T08:20:58.394Z"
   },
   {
    "duration": 0,
    "start_time": "2023-10-11T08:20:58.481Z"
   },
   {
    "duration": 0,
    "start_time": "2023-10-11T08:20:58.482Z"
   },
   {
    "duration": 0,
    "start_time": "2023-10-11T08:20:58.483Z"
   },
   {
    "duration": 0,
    "start_time": "2023-10-11T08:20:58.485Z"
   },
   {
    "duration": 0,
    "start_time": "2023-10-11T08:20:58.486Z"
   },
   {
    "duration": 0,
    "start_time": "2023-10-11T08:20:58.487Z"
   },
   {
    "duration": 0,
    "start_time": "2023-10-11T08:20:58.488Z"
   },
   {
    "duration": 0,
    "start_time": "2023-10-11T08:20:58.489Z"
   },
   {
    "duration": 0,
    "start_time": "2023-10-11T08:20:58.506Z"
   },
   {
    "duration": 0,
    "start_time": "2023-10-11T08:20:58.507Z"
   },
   {
    "duration": 0,
    "start_time": "2023-10-11T08:20:58.508Z"
   },
   {
    "duration": 0,
    "start_time": "2023-10-11T08:20:58.509Z"
   },
   {
    "duration": 1,
    "start_time": "2023-10-11T08:20:58.509Z"
   },
   {
    "duration": 0,
    "start_time": "2023-10-11T08:20:58.510Z"
   },
   {
    "duration": 0,
    "start_time": "2023-10-11T08:20:58.511Z"
   },
   {
    "duration": 0,
    "start_time": "2023-10-11T08:20:58.512Z"
   },
   {
    "duration": 0,
    "start_time": "2023-10-11T08:20:58.512Z"
   },
   {
    "duration": 0,
    "start_time": "2023-10-11T08:20:58.513Z"
   },
   {
    "duration": 0,
    "start_time": "2023-10-11T08:20:58.514Z"
   },
   {
    "duration": 0,
    "start_time": "2023-10-11T08:20:58.514Z"
   },
   {
    "duration": 0,
    "start_time": "2023-10-11T08:20:58.515Z"
   },
   {
    "duration": 0,
    "start_time": "2023-10-11T08:20:58.516Z"
   },
   {
    "duration": 0,
    "start_time": "2023-10-11T08:20:58.517Z"
   },
   {
    "duration": 0,
    "start_time": "2023-10-11T08:20:58.517Z"
   },
   {
    "duration": 0,
    "start_time": "2023-10-11T08:20:58.518Z"
   },
   {
    "duration": 0,
    "start_time": "2023-10-11T08:20:58.519Z"
   },
   {
    "duration": 0,
    "start_time": "2023-10-11T08:20:58.519Z"
   },
   {
    "duration": 0,
    "start_time": "2023-10-11T08:20:58.521Z"
   },
   {
    "duration": 0,
    "start_time": "2023-10-11T08:20:58.524Z"
   },
   {
    "duration": 0,
    "start_time": "2023-10-11T08:20:58.525Z"
   },
   {
    "duration": 0,
    "start_time": "2023-10-11T08:20:58.526Z"
   },
   {
    "duration": 0,
    "start_time": "2023-10-11T08:20:58.527Z"
   },
   {
    "duration": 0,
    "start_time": "2023-10-11T08:20:58.529Z"
   },
   {
    "duration": 0,
    "start_time": "2023-10-11T08:20:58.530Z"
   },
   {
    "duration": 0,
    "start_time": "2023-10-11T08:20:58.531Z"
   },
   {
    "duration": 0,
    "start_time": "2023-10-11T08:20:58.532Z"
   },
   {
    "duration": 20,
    "start_time": "2023-10-11T08:21:39.318Z"
   },
   {
    "duration": 3,
    "start_time": "2023-10-11T12:02:41.591Z"
   },
   {
    "duration": 178,
    "start_time": "2023-10-11T12:02:41.596Z"
   },
   {
    "duration": 8,
    "start_time": "2023-10-11T12:02:41.776Z"
   },
   {
    "duration": 54,
    "start_time": "2023-10-11T12:02:41.785Z"
   },
   {
    "duration": 13,
    "start_time": "2023-10-11T12:02:41.843Z"
   },
   {
    "duration": 24,
    "start_time": "2023-10-11T12:02:41.857Z"
   },
   {
    "duration": 28,
    "start_time": "2023-10-11T12:02:41.883Z"
   },
   {
    "duration": 24,
    "start_time": "2023-10-11T12:02:41.922Z"
   },
   {
    "duration": 21,
    "start_time": "2023-10-11T12:02:41.948Z"
   },
   {
    "duration": 20,
    "start_time": "2023-10-11T12:02:41.971Z"
   },
   {
    "duration": 24,
    "start_time": "2023-10-11T12:02:41.993Z"
   },
   {
    "duration": 215,
    "start_time": "2023-10-11T12:02:42.019Z"
   },
   {
    "duration": 153,
    "start_time": "2023-10-11T12:02:42.235Z"
   },
   {
    "duration": 42,
    "start_time": "2023-10-11T12:02:42.390Z"
   },
   {
    "duration": 37,
    "start_time": "2023-10-11T12:02:42.440Z"
   },
   {
    "duration": 21,
    "start_time": "2023-10-11T12:02:42.479Z"
   },
   {
    "duration": 373,
    "start_time": "2023-10-11T12:02:42.509Z"
   },
   {
    "duration": 263,
    "start_time": "2023-10-11T12:02:42.884Z"
   },
   {
    "duration": 341,
    "start_time": "2023-10-11T12:02:43.150Z"
   },
   {
    "duration": 257,
    "start_time": "2023-10-11T12:02:43.492Z"
   },
   {
    "duration": 323,
    "start_time": "2023-10-11T12:02:43.752Z"
   },
   {
    "duration": 11,
    "start_time": "2023-10-11T12:02:44.077Z"
   },
   {
    "duration": 198,
    "start_time": "2023-10-11T12:02:44.090Z"
   },
   {
    "duration": 7,
    "start_time": "2023-10-11T12:02:44.290Z"
   },
   {
    "duration": 203,
    "start_time": "2023-10-11T12:02:44.301Z"
   },
   {
    "duration": 217,
    "start_time": "2023-10-11T12:02:44.506Z"
   },
   {
    "duration": 320,
    "start_time": "2023-10-11T12:02:44.729Z"
   },
   {
    "duration": 7,
    "start_time": "2023-10-11T12:02:45.052Z"
   },
   {
    "duration": 80,
    "start_time": "2023-10-11T12:02:45.064Z"
   },
   {
    "duration": 149,
    "start_time": "2023-10-11T12:02:45.147Z"
   },
   {
    "duration": 180,
    "start_time": "2023-10-11T12:02:45.298Z"
   },
   {
    "duration": 61,
    "start_time": "2023-10-11T12:02:45.480Z"
   },
   {
    "duration": 26,
    "start_time": "2023-10-11T12:02:45.543Z"
   },
   {
    "duration": 83,
    "start_time": "2023-10-11T12:02:45.571Z"
   },
   {
    "duration": 56,
    "start_time": "2023-10-11T12:02:45.657Z"
   },
   {
    "duration": 41,
    "start_time": "2023-10-11T12:02:45.715Z"
   },
   {
    "duration": 10,
    "start_time": "2023-10-11T12:02:45.758Z"
   },
   {
    "duration": 23,
    "start_time": "2023-10-11T12:02:45.770Z"
   },
   {
    "duration": 66,
    "start_time": "2023-10-11T12:02:45.794Z"
   },
   {
    "duration": 61,
    "start_time": "2023-10-11T12:02:45.862Z"
   },
   {
    "duration": 21,
    "start_time": "2023-10-11T12:02:45.926Z"
   },
   {
    "duration": 4,
    "start_time": "2023-10-11T12:08:35.637Z"
   },
   {
    "duration": 11,
    "start_time": "2023-10-11T12:08:45.840Z"
   },
   {
    "duration": 5,
    "start_time": "2023-10-11T12:10:37.079Z"
   },
   {
    "duration": 11,
    "start_time": "2023-10-11T12:13:55.024Z"
   },
   {
    "duration": 13,
    "start_time": "2023-10-11T12:14:48.872Z"
   },
   {
    "duration": 15,
    "start_time": "2023-10-11T12:14:52.733Z"
   },
   {
    "duration": 11,
    "start_time": "2023-10-11T12:15:07.091Z"
   },
   {
    "duration": 12,
    "start_time": "2023-10-11T12:17:54.263Z"
   },
   {
    "duration": 8,
    "start_time": "2023-10-11T12:18:09.477Z"
   },
   {
    "duration": 18,
    "start_time": "2023-10-11T12:18:32.590Z"
   },
   {
    "duration": 15,
    "start_time": "2023-10-11T12:18:53.893Z"
   },
   {
    "duration": 10,
    "start_time": "2023-10-11T12:19:05.767Z"
   },
   {
    "duration": 18,
    "start_time": "2023-10-11T12:19:15.332Z"
   },
   {
    "duration": 5,
    "start_time": "2023-10-11T12:21:56.250Z"
   },
   {
    "duration": 6,
    "start_time": "2023-10-11T12:22:07.692Z"
   },
   {
    "duration": 7,
    "start_time": "2023-10-11T12:22:23.876Z"
   },
   {
    "duration": 9,
    "start_time": "2023-10-11T12:26:07.780Z"
   },
   {
    "duration": 9,
    "start_time": "2023-10-11T12:26:13.260Z"
   },
   {
    "duration": 145,
    "start_time": "2023-10-11T13:05:51.251Z"
   },
   {
    "duration": 14,
    "start_time": "2023-10-11T13:05:56.780Z"
   },
   {
    "duration": 25,
    "start_time": "2023-10-11T13:06:16.800Z"
   },
   {
    "duration": 138,
    "start_time": "2023-10-11T13:06:26.460Z"
   },
   {
    "duration": 15,
    "start_time": "2023-10-11T13:06:43.176Z"
   },
   {
    "duration": 40,
    "start_time": "2023-10-11T13:07:49.836Z"
   },
   {
    "duration": 12,
    "start_time": "2023-10-11T13:08:33.429Z"
   },
   {
    "duration": 15,
    "start_time": "2023-10-11T13:08:57.960Z"
   },
   {
    "duration": 29,
    "start_time": "2023-10-11T13:09:32.125Z"
   },
   {
    "duration": 31,
    "start_time": "2023-10-11T13:09:56.251Z"
   },
   {
    "duration": 18,
    "start_time": "2023-10-11T13:11:58.876Z"
   },
   {
    "duration": 12,
    "start_time": "2023-10-11T13:12:59.645Z"
   },
   {
    "duration": 8,
    "start_time": "2023-10-11T13:13:40.850Z"
   },
   {
    "duration": 9,
    "start_time": "2023-10-11T13:14:57.833Z"
   },
   {
    "duration": 18,
    "start_time": "2023-10-11T13:15:04.356Z"
   },
   {
    "duration": 27,
    "start_time": "2023-10-11T13:15:05.298Z"
   },
   {
    "duration": 15,
    "start_time": "2023-10-11T13:15:47.487Z"
   },
   {
    "duration": 19,
    "start_time": "2023-10-11T13:16:01.736Z"
   },
   {
    "duration": 6,
    "start_time": "2023-10-11T13:16:17.875Z"
   },
   {
    "duration": 2360,
    "start_time": "2023-10-11T13:16:49.505Z"
   },
   {
    "duration": 3409,
    "start_time": "2023-10-11T13:17:15.524Z"
   },
   {
    "duration": 2408,
    "start_time": "2023-10-11T13:17:26.048Z"
   },
   {
    "duration": 8,
    "start_time": "2023-10-11T13:18:10.281Z"
   },
   {
    "duration": 27,
    "start_time": "2023-10-11T13:18:15.796Z"
   },
   {
    "duration": 11,
    "start_time": "2023-10-11T13:18:25.177Z"
   },
   {
    "duration": 3119,
    "start_time": "2023-10-11T13:18:25.766Z"
   },
   {
    "duration": 24,
    "start_time": "2023-10-11T13:18:39.428Z"
   },
   {
    "duration": 1996,
    "start_time": "2023-10-11T13:18:59.476Z"
   },
   {
    "duration": 26,
    "start_time": "2023-10-11T13:20:08.541Z"
   },
   {
    "duration": 11,
    "start_time": "2023-10-11T13:22:09.233Z"
   },
   {
    "duration": 29,
    "start_time": "2023-10-11T13:22:26.350Z"
   },
   {
    "duration": 15,
    "start_time": "2023-10-11T13:22:37.131Z"
   },
   {
    "duration": 12,
    "start_time": "2023-10-11T13:22:55.042Z"
   },
   {
    "duration": 5,
    "start_time": "2023-10-11T13:23:31.136Z"
   },
   {
    "duration": 23,
    "start_time": "2023-10-11T13:23:54.302Z"
   },
   {
    "duration": 9,
    "start_time": "2023-10-11T14:25:46.877Z"
   },
   {
    "duration": 8,
    "start_time": "2023-10-11T14:25:50.712Z"
   },
   {
    "duration": 16,
    "start_time": "2023-10-11T14:33:30.530Z"
   },
   {
    "duration": 10,
    "start_time": "2023-10-11T14:33:34.220Z"
   },
   {
    "duration": 105,
    "start_time": "2023-10-11T14:33:48.694Z"
   },
   {
    "duration": 11,
    "start_time": "2023-10-11T14:33:57.177Z"
   },
   {
    "duration": 26,
    "start_time": "2023-10-11T14:35:48.736Z"
   },
   {
    "duration": 7,
    "start_time": "2023-10-11T14:36:18.687Z"
   },
   {
    "duration": 101,
    "start_time": "2023-10-11T14:37:46.511Z"
   },
   {
    "duration": 10,
    "start_time": "2023-10-11T14:37:53.699Z"
   },
   {
    "duration": 7,
    "start_time": "2023-10-11T14:39:09.103Z"
   },
   {
    "duration": 6,
    "start_time": "2023-10-11T14:39:15.590Z"
   },
   {
    "duration": 3,
    "start_time": "2023-10-11T14:45:09.563Z"
   },
   {
    "duration": 134,
    "start_time": "2023-10-11T14:45:09.572Z"
   },
   {
    "duration": 9,
    "start_time": "2023-10-11T14:45:09.708Z"
   },
   {
    "duration": 29,
    "start_time": "2023-10-11T14:45:09.719Z"
   },
   {
    "duration": 124,
    "start_time": "2023-10-11T14:45:09.750Z"
   },
   {
    "duration": 31,
    "start_time": "2023-10-11T14:45:09.875Z"
   },
   {
    "duration": 35,
    "start_time": "2023-10-11T14:45:09.908Z"
   },
   {
    "duration": 109,
    "start_time": "2023-10-11T14:45:09.945Z"
   },
   {
    "duration": 74,
    "start_time": "2023-10-11T14:45:10.056Z"
   },
   {
    "duration": 41,
    "start_time": "2023-10-11T14:45:10.132Z"
   },
   {
    "duration": 107,
    "start_time": "2023-10-11T14:45:10.176Z"
   },
   {
    "duration": 72,
    "start_time": "2023-10-11T14:45:10.284Z"
   },
   {
    "duration": 168,
    "start_time": "2023-10-11T14:45:10.358Z"
   },
   {
    "duration": 30,
    "start_time": "2023-10-11T14:45:10.528Z"
   },
   {
    "duration": 98,
    "start_time": "2023-10-11T14:45:10.560Z"
   },
   {
    "duration": 255,
    "start_time": "2023-10-11T14:45:10.660Z"
   },
   {
    "duration": 138,
    "start_time": "2023-10-11T14:45:10.917Z"
   },
   {
    "duration": 123,
    "start_time": "2023-10-11T14:45:11.057Z"
   },
   {
    "duration": 180,
    "start_time": "2023-10-11T14:45:11.182Z"
   },
   {
    "duration": 43,
    "start_time": "2023-10-11T14:45:11.364Z"
   },
   {
    "duration": 239,
    "start_time": "2023-10-11T14:45:11.409Z"
   },
   {
    "duration": 222,
    "start_time": "2023-10-11T14:45:11.650Z"
   },
   {
    "duration": 349,
    "start_time": "2023-10-11T14:45:11.874Z"
   },
   {
    "duration": 220,
    "start_time": "2023-10-11T14:45:12.225Z"
   },
   {
    "duration": 296,
    "start_time": "2023-10-11T14:45:12.446Z"
   },
   {
    "duration": 12,
    "start_time": "2023-10-11T14:45:12.743Z"
   },
   {
    "duration": 151,
    "start_time": "2023-10-11T14:45:12.756Z"
   },
   {
    "duration": 8,
    "start_time": "2023-10-11T14:45:12.909Z"
   },
   {
    "duration": 176,
    "start_time": "2023-10-11T14:45:12.921Z"
   },
   {
    "duration": 154,
    "start_time": "2023-10-11T14:45:13.101Z"
   },
   {
    "duration": 168,
    "start_time": "2023-10-11T14:45:13.258Z"
   },
   {
    "duration": 28,
    "start_time": "2023-10-11T14:45:13.428Z"
   },
   {
    "duration": 48,
    "start_time": "2023-10-11T14:45:13.458Z"
   },
   {
    "duration": 216,
    "start_time": "2023-10-11T14:45:13.508Z"
   },
   {
    "duration": 172,
    "start_time": "2023-10-11T14:45:13.726Z"
   },
   {
    "duration": 31,
    "start_time": "2023-10-11T14:45:13.900Z"
   },
   {
    "duration": 62,
    "start_time": "2023-10-11T14:45:13.933Z"
   },
   {
    "duration": 47,
    "start_time": "2023-10-11T14:45:13.996Z"
   },
   {
    "duration": 71,
    "start_time": "2023-10-11T14:45:14.045Z"
   },
   {
    "duration": 174,
    "start_time": "2023-10-11T14:45:14.117Z"
   },
   {
    "duration": 35,
    "start_time": "2023-10-11T14:45:14.293Z"
   },
   {
    "duration": 30,
    "start_time": "2023-10-11T14:45:14.330Z"
   },
   {
    "duration": 53,
    "start_time": "2023-10-11T14:45:14.361Z"
   },
   {
    "duration": 54,
    "start_time": "2023-10-11T14:45:14.416Z"
   },
   {
    "duration": 45,
    "start_time": "2023-10-11T14:45:14.472Z"
   },
   {
    "duration": 103,
    "start_time": "2023-10-11T14:52:33.224Z"
   },
   {
    "duration": 12,
    "start_time": "2023-10-11T14:53:26.680Z"
   },
   {
    "duration": 15,
    "start_time": "2023-10-11T14:53:41.374Z"
   },
   {
    "duration": 15,
    "start_time": "2023-10-11T14:55:23.723Z"
   },
   {
    "duration": 13,
    "start_time": "2023-10-11T14:55:31.234Z"
   },
   {
    "duration": 13,
    "start_time": "2023-10-11T14:55:52.130Z"
   },
   {
    "duration": 14,
    "start_time": "2023-10-11T14:56:22.400Z"
   },
   {
    "duration": 20,
    "start_time": "2023-10-11T14:56:31.971Z"
   },
   {
    "duration": 142,
    "start_time": "2023-10-11T15:02:41.323Z"
   },
   {
    "duration": 17,
    "start_time": "2023-10-11T15:02:52.720Z"
   },
   {
    "duration": 5,
    "start_time": "2023-10-11T21:29:08.903Z"
   },
   {
    "duration": 4,
    "start_time": "2023-10-11T21:29:12.087Z"
   },
   {
    "duration": 98,
    "start_time": "2023-10-11T21:29:12.099Z"
   },
   {
    "duration": 16,
    "start_time": "2023-10-11T21:29:12.199Z"
   },
   {
    "duration": 28,
    "start_time": "2023-10-11T21:29:12.217Z"
   },
   {
    "duration": 20,
    "start_time": "2023-10-11T21:29:12.247Z"
   },
   {
    "duration": 10,
    "start_time": "2023-10-11T21:29:12.270Z"
   },
   {
    "duration": 26,
    "start_time": "2023-10-11T21:29:12.282Z"
   },
   {
    "duration": 25,
    "start_time": "2023-10-11T21:29:12.310Z"
   },
   {
    "duration": 11,
    "start_time": "2023-10-11T21:29:12.337Z"
   },
   {
    "duration": 26,
    "start_time": "2023-10-11T21:29:12.349Z"
   },
   {
    "duration": 25,
    "start_time": "2023-10-11T21:29:12.377Z"
   },
   {
    "duration": 23,
    "start_time": "2023-10-11T21:29:12.404Z"
   },
   {
    "duration": 11,
    "start_time": "2023-10-11T21:29:12.431Z"
   },
   {
    "duration": 30,
    "start_time": "2023-10-11T21:29:12.444Z"
   },
   {
    "duration": 18,
    "start_time": "2023-10-11T21:29:12.478Z"
   },
   {
    "duration": 15,
    "start_time": "2023-10-11T21:29:12.498Z"
   },
   {
    "duration": 224,
    "start_time": "2023-10-11T21:29:12.515Z"
   },
   {
    "duration": 148,
    "start_time": "2023-10-11T21:29:12.741Z"
   },
   {
    "duration": 23,
    "start_time": "2023-10-11T21:29:12.891Z"
   },
   {
    "duration": 22,
    "start_time": "2023-10-11T21:29:12.915Z"
   },
   {
    "duration": 15,
    "start_time": "2023-10-11T21:29:12.938Z"
   },
   {
    "duration": 312,
    "start_time": "2023-10-11T21:29:12.955Z"
   },
   {
    "duration": 352,
    "start_time": "2023-10-11T21:29:13.269Z"
   },
   {
    "duration": 384,
    "start_time": "2023-10-11T21:29:13.622Z"
   },
   {
    "duration": 370,
    "start_time": "2023-10-11T21:29:14.008Z"
   },
   {
    "duration": 511,
    "start_time": "2023-10-11T21:29:14.381Z"
   },
   {
    "duration": 14,
    "start_time": "2023-10-11T21:29:14.894Z"
   },
   {
    "duration": 218,
    "start_time": "2023-10-11T21:29:14.914Z"
   },
   {
    "duration": 6,
    "start_time": "2023-10-11T21:29:15.138Z"
   },
   {
    "duration": 223,
    "start_time": "2023-10-11T21:29:15.145Z"
   },
   {
    "duration": 212,
    "start_time": "2023-10-11T21:29:15.370Z"
   },
   {
    "duration": 229,
    "start_time": "2023-10-11T21:29:15.584Z"
   },
   {
    "duration": 7,
    "start_time": "2023-10-11T21:29:15.816Z"
   },
   {
    "duration": 21,
    "start_time": "2023-10-11T21:29:15.825Z"
   },
   {
    "duration": 116,
    "start_time": "2023-10-11T21:29:15.847Z"
   },
   {
    "duration": 128,
    "start_time": "2023-10-11T21:29:15.965Z"
   },
   {
    "duration": 43,
    "start_time": "2023-10-11T21:29:16.094Z"
   },
   {
    "duration": 12,
    "start_time": "2023-10-11T21:29:16.139Z"
   },
   {
    "duration": 18,
    "start_time": "2023-10-11T21:29:16.153Z"
   },
   {
    "duration": 21,
    "start_time": "2023-10-11T21:29:16.173Z"
   },
   {
    "duration": 50,
    "start_time": "2023-10-11T21:29:16.201Z"
   },
   {
    "duration": 11,
    "start_time": "2023-10-11T21:29:16.254Z"
   },
   {
    "duration": 13,
    "start_time": "2023-10-11T21:29:16.267Z"
   },
   {
    "duration": 28,
    "start_time": "2023-10-11T21:29:16.281Z"
   },
   {
    "duration": 34,
    "start_time": "2023-10-11T21:29:16.311Z"
   },
   {
    "duration": 16,
    "start_time": "2023-10-11T21:29:16.347Z"
   },
   {
    "duration": 302,
    "start_time": "2023-10-11T21:30:45.328Z"
   },
   {
    "duration": 408,
    "start_time": "2023-10-11T21:30:53.765Z"
   },
   {
    "duration": 319,
    "start_time": "2023-10-11T21:30:59.994Z"
   },
   {
    "duration": 316,
    "start_time": "2023-10-11T21:31:12.051Z"
   },
   {
    "duration": 296,
    "start_time": "2023-10-11T21:31:21.079Z"
   },
   {
    "duration": 322,
    "start_time": "2023-10-11T21:32:44.332Z"
   },
   {
    "duration": 305,
    "start_time": "2023-10-11T21:33:05.791Z"
   },
   {
    "duration": 392,
    "start_time": "2023-10-11T21:33:28.991Z"
   },
   {
    "duration": 300,
    "start_time": "2023-10-11T21:33:55.726Z"
   },
   {
    "duration": 338,
    "start_time": "2023-10-11T21:35:23.002Z"
   },
   {
    "duration": 315,
    "start_time": "2023-10-11T21:35:29.087Z"
   },
   {
    "duration": 436,
    "start_time": "2023-10-11T21:38:27.935Z"
   },
   {
    "duration": 510,
    "start_time": "2023-10-11T21:39:10.730Z"
   },
   {
    "duration": 448,
    "start_time": "2023-10-11T21:39:25.327Z"
   },
   {
    "duration": 256,
    "start_time": "2023-10-11T21:39:54.329Z"
   },
   {
    "duration": 211,
    "start_time": "2023-10-11T21:40:56.291Z"
   },
   {
    "duration": 204,
    "start_time": "2023-10-11T21:42:32.799Z"
   },
   {
    "duration": 211,
    "start_time": "2023-10-11T21:42:36.357Z"
   },
   {
    "duration": 205,
    "start_time": "2023-10-11T21:42:42.745Z"
   },
   {
    "duration": 215,
    "start_time": "2023-10-11T21:42:46.655Z"
   },
   {
    "duration": 223,
    "start_time": "2023-10-11T21:42:53.587Z"
   },
   {
    "duration": 228,
    "start_time": "2023-10-11T21:43:16.938Z"
   },
   {
    "duration": 225,
    "start_time": "2023-10-11T21:43:36.830Z"
   },
   {
    "duration": 225,
    "start_time": "2023-10-11T21:43:52.961Z"
   },
   {
    "duration": 26,
    "start_time": "2023-10-11T21:56:07.948Z"
   },
   {
    "duration": 12,
    "start_time": "2023-10-11T21:57:13.793Z"
   },
   {
    "duration": 97,
    "start_time": "2023-10-11T21:57:42.670Z"
   },
   {
    "duration": 47,
    "start_time": "2023-10-11T21:57:46.296Z"
   },
   {
    "duration": 40,
    "start_time": "2023-10-11T22:01:33.034Z"
   },
   {
    "duration": 35,
    "start_time": "2023-10-11T22:02:08.028Z"
   },
   {
    "duration": 12,
    "start_time": "2023-10-11T22:02:23.439Z"
   },
   {
    "duration": 9,
    "start_time": "2023-10-11T22:04:55.027Z"
   },
   {
    "duration": 7,
    "start_time": "2023-10-11T22:05:25.491Z"
   },
   {
    "duration": 18,
    "start_time": "2023-10-11T22:05:41.946Z"
   },
   {
    "duration": 29,
    "start_time": "2023-10-11T22:05:53.197Z"
   },
   {
    "duration": 20,
    "start_time": "2023-10-11T22:06:20.722Z"
   },
   {
    "duration": 108,
    "start_time": "2023-10-11T22:07:35.439Z"
   },
   {
    "duration": 22,
    "start_time": "2023-10-11T22:07:41.196Z"
   },
   {
    "duration": 16,
    "start_time": "2023-10-11T22:08:00.498Z"
   },
   {
    "duration": 16,
    "start_time": "2023-10-11T22:08:53.681Z"
   },
   {
    "duration": 15,
    "start_time": "2023-10-11T22:09:01.085Z"
   },
   {
    "duration": 7,
    "start_time": "2023-10-11T22:10:13.326Z"
   },
   {
    "duration": 140,
    "start_time": "2023-10-11T22:10:31.047Z"
   },
   {
    "duration": 14,
    "start_time": "2023-10-11T22:11:45.218Z"
   },
   {
    "duration": 9,
    "start_time": "2023-10-11T22:12:24.428Z"
   },
   {
    "duration": 14,
    "start_time": "2023-10-11T22:12:50.176Z"
   },
   {
    "duration": 12,
    "start_time": "2023-10-11T22:12:59.535Z"
   },
   {
    "duration": 16,
    "start_time": "2023-10-11T22:21:54.227Z"
   },
   {
    "duration": 16,
    "start_time": "2023-10-11T22:27:22.080Z"
   },
   {
    "duration": 19,
    "start_time": "2023-10-11T22:27:26.116Z"
   },
   {
    "duration": 13,
    "start_time": "2023-10-11T22:30:20.751Z"
   },
   {
    "duration": 20,
    "start_time": "2023-10-11T22:31:02.479Z"
   },
   {
    "duration": 12,
    "start_time": "2023-10-11T22:32:39.786Z"
   },
   {
    "duration": 17,
    "start_time": "2023-10-11T22:32:52.650Z"
   },
   {
    "duration": 19,
    "start_time": "2023-10-11T22:34:36.124Z"
   },
   {
    "duration": 28,
    "start_time": "2023-10-11T22:35:01.519Z"
   },
   {
    "duration": 26,
    "start_time": "2023-10-11T22:35:08.397Z"
   },
   {
    "duration": 18,
    "start_time": "2023-10-11T22:35:21.792Z"
   },
   {
    "duration": 4,
    "start_time": "2023-10-11T22:35:30.888Z"
   },
   {
    "duration": 172,
    "start_time": "2023-10-11T22:35:30.896Z"
   },
   {
    "duration": 79,
    "start_time": "2023-10-11T22:35:31.070Z"
   },
   {
    "duration": 144,
    "start_time": "2023-10-11T22:35:31.150Z"
   },
   {
    "duration": 53,
    "start_time": "2023-10-11T22:35:31.296Z"
   },
   {
    "duration": 36,
    "start_time": "2023-10-11T22:35:31.351Z"
   },
   {
    "duration": 53,
    "start_time": "2023-10-11T22:35:31.389Z"
   },
   {
    "duration": 71,
    "start_time": "2023-10-11T22:35:31.445Z"
   },
   {
    "duration": 48,
    "start_time": "2023-10-11T22:35:31.520Z"
   },
   {
    "duration": 67,
    "start_time": "2023-10-11T22:35:31.570Z"
   },
   {
    "duration": 34,
    "start_time": "2023-10-11T22:35:31.646Z"
   },
   {
    "duration": 51,
    "start_time": "2023-10-11T22:35:31.682Z"
   },
   {
    "duration": 39,
    "start_time": "2023-10-11T22:35:31.735Z"
   },
   {
    "duration": 57,
    "start_time": "2023-10-11T22:35:31.777Z"
   },
   {
    "duration": 63,
    "start_time": "2023-10-11T22:35:31.836Z"
   },
   {
    "duration": 60,
    "start_time": "2023-10-11T22:35:31.901Z"
   },
   {
    "duration": 292,
    "start_time": "2023-10-11T22:35:31.963Z"
   },
   {
    "duration": 182,
    "start_time": "2023-10-11T22:35:32.257Z"
   },
   {
    "duration": 19,
    "start_time": "2023-10-11T22:35:32.446Z"
   },
   {
    "duration": 75,
    "start_time": "2023-10-11T22:35:32.467Z"
   },
   {
    "duration": 18,
    "start_time": "2023-10-11T22:35:32.545Z"
   },
   {
    "duration": 436,
    "start_time": "2023-10-11T22:35:32.565Z"
   },
   {
    "duration": 311,
    "start_time": "2023-10-11T22:35:33.002Z"
   },
   {
    "duration": 394,
    "start_time": "2023-10-11T22:35:33.314Z"
   },
   {
    "duration": 333,
    "start_time": "2023-10-11T22:35:33.712Z"
   },
   {
    "duration": 438,
    "start_time": "2023-10-11T22:35:34.047Z"
   },
   {
    "duration": 25,
    "start_time": "2023-10-11T22:35:34.487Z"
   },
   {
    "duration": 266,
    "start_time": "2023-10-11T22:35:34.514Z"
   },
   {
    "duration": 6,
    "start_time": "2023-10-11T22:35:34.785Z"
   },
   {
    "duration": 290,
    "start_time": "2023-10-11T22:35:34.806Z"
   },
   {
    "duration": 257,
    "start_time": "2023-10-11T22:35:35.106Z"
   },
   {
    "duration": 264,
    "start_time": "2023-10-11T22:35:35.365Z"
   },
   {
    "duration": 8,
    "start_time": "2023-10-11T22:35:35.631Z"
   },
   {
    "duration": 24,
    "start_time": "2023-10-11T22:35:35.647Z"
   },
   {
    "duration": 125,
    "start_time": "2023-10-11T22:35:35.673Z"
   },
   {
    "duration": 139,
    "start_time": "2023-10-11T22:35:35.799Z"
   },
   {
    "duration": 35,
    "start_time": "2023-10-11T22:35:35.939Z"
   },
   {
    "duration": 80,
    "start_time": "2023-10-11T22:35:35.975Z"
   },
   {
    "duration": 187,
    "start_time": "2023-10-11T22:35:36.057Z"
   },
   {
    "duration": 20,
    "start_time": "2023-10-11T22:35:36.247Z"
   },
   {
    "duration": 89,
    "start_time": "2023-10-11T22:35:36.268Z"
   },
   {
    "duration": 12,
    "start_time": "2023-10-11T22:35:36.358Z"
   },
   {
    "duration": 444,
    "start_time": "2023-10-11T22:35:36.371Z"
   },
   {
    "duration": 282,
    "start_time": "2023-10-11T22:35:36.817Z"
   },
   {
    "duration": 45,
    "start_time": "2023-10-11T22:35:37.105Z"
   },
   {
    "duration": 15,
    "start_time": "2023-10-11T22:35:37.152Z"
   },
   {
    "duration": 13,
    "start_time": "2023-10-11T22:35:51.263Z"
   },
   {
    "duration": 6,
    "start_time": "2023-10-11T22:37:42.361Z"
   },
   {
    "duration": 428,
    "start_time": "2023-10-11T22:39:57.021Z"
   },
   {
    "duration": 109,
    "start_time": "2023-10-11T22:40:11.494Z"
   },
   {
    "duration": 380,
    "start_time": "2023-10-11T22:40:19.225Z"
   },
   {
    "duration": 337,
    "start_time": "2023-10-11T22:40:40.157Z"
   },
   {
    "duration": 1408,
    "start_time": "2023-10-15T15:43:55.016Z"
   },
   {
    "duration": 3,
    "start_time": "2023-10-15T15:43:56.426Z"
   },
   {
    "duration": 254,
    "start_time": "2023-10-15T15:43:56.430Z"
   },
   {
    "duration": 11,
    "start_time": "2023-10-15T15:43:56.686Z"
   },
   {
    "duration": 14,
    "start_time": "2023-10-15T15:43:56.700Z"
   },
   {
    "duration": 18,
    "start_time": "2023-10-15T15:43:56.716Z"
   },
   {
    "duration": 24,
    "start_time": "2023-10-15T15:43:56.736Z"
   },
   {
    "duration": 34,
    "start_time": "2023-10-15T15:43:56.762Z"
   },
   {
    "duration": 12,
    "start_time": "2023-10-15T15:43:56.797Z"
   },
   {
    "duration": 21,
    "start_time": "2023-10-15T15:43:56.811Z"
   },
   {
    "duration": 6,
    "start_time": "2023-10-15T15:43:56.834Z"
   },
   {
    "duration": 292,
    "start_time": "2023-10-15T15:43:56.841Z"
   },
   {
    "duration": 16,
    "start_time": "2023-10-15T15:43:57.135Z"
   },
   {
    "duration": 12,
    "start_time": "2023-10-15T15:43:57.156Z"
   },
   {
    "duration": 20,
    "start_time": "2023-10-15T15:43:57.170Z"
   },
   {
    "duration": 21,
    "start_time": "2023-10-15T15:43:57.192Z"
   },
   {
    "duration": 36,
    "start_time": "2023-10-15T15:43:57.215Z"
   },
   {
    "duration": 12,
    "start_time": "2023-10-15T15:43:57.252Z"
   },
   {
    "duration": 182,
    "start_time": "2023-10-15T15:43:57.265Z"
   },
   {
    "duration": 125,
    "start_time": "2023-10-15T15:43:57.454Z"
   },
   {
    "duration": 13,
    "start_time": "2023-10-15T15:43:57.581Z"
   },
   {
    "duration": 14,
    "start_time": "2023-10-15T15:43:57.596Z"
   },
   {
    "duration": 43,
    "start_time": "2023-10-15T15:43:57.612Z"
   },
   {
    "duration": 358,
    "start_time": "2023-10-15T15:43:57.659Z"
   },
   {
    "duration": 339,
    "start_time": "2023-10-15T15:43:58.019Z"
   },
   {
    "duration": 403,
    "start_time": "2023-10-15T15:43:58.361Z"
   },
   {
    "duration": 333,
    "start_time": "2023-10-15T15:43:58.766Z"
   },
   {
    "duration": 339,
    "start_time": "2023-10-15T15:43:59.101Z"
   },
   {
    "duration": 22,
    "start_time": "2023-10-15T15:43:59.443Z"
   },
   {
    "duration": 203,
    "start_time": "2023-10-15T15:43:59.467Z"
   },
   {
    "duration": 4,
    "start_time": "2023-10-15T15:43:59.672Z"
   },
   {
    "duration": 208,
    "start_time": "2023-10-15T15:43:59.678Z"
   },
   {
    "duration": 203,
    "start_time": "2023-10-15T15:43:59.887Z"
   },
   {
    "duration": 224,
    "start_time": "2023-10-15T15:44:00.092Z"
   },
   {
    "duration": 16,
    "start_time": "2023-10-15T15:44:00.318Z"
   },
   {
    "duration": 45,
    "start_time": "2023-10-15T15:44:00.336Z"
   },
   {
    "duration": 145,
    "start_time": "2023-10-15T15:44:00.383Z"
   },
   {
    "duration": 129,
    "start_time": "2023-10-15T15:44:00.529Z"
   },
   {
    "duration": 75,
    "start_time": "2023-10-15T15:44:00.660Z"
   },
   {
    "duration": 31,
    "start_time": "2023-10-15T15:44:00.737Z"
   },
   {
    "duration": 119,
    "start_time": "2023-10-15T15:44:00.771Z"
   },
   {
    "duration": 58,
    "start_time": "2023-10-15T15:44:00.892Z"
   },
   {
    "duration": 68,
    "start_time": "2023-10-15T15:44:00.952Z"
   },
   {
    "duration": 239,
    "start_time": "2023-10-15T15:44:01.022Z"
   },
   {
    "duration": 157,
    "start_time": "2023-10-15T15:44:01.263Z"
   },
   {
    "duration": 61,
    "start_time": "2023-10-15T15:44:01.421Z"
   },
   {
    "duration": 107,
    "start_time": "2023-10-15T15:44:01.484Z"
   },
   {
    "duration": 82,
    "start_time": "2023-10-15T15:44:01.593Z"
   },
   {
    "duration": 54,
    "start_time": "2023-10-15T15:44:01.677Z"
   },
   {
    "duration": 6,
    "start_time": "2023-10-15T15:44:50.184Z"
   },
   {
    "duration": 45,
    "start_time": "2023-10-15T17:27:39.912Z"
   },
   {
    "duration": 1186,
    "start_time": "2023-10-15T17:27:43.972Z"
   },
   {
    "duration": 2,
    "start_time": "2023-10-15T17:27:45.160Z"
   },
   {
    "duration": 236,
    "start_time": "2023-10-15T17:27:45.163Z"
   },
   {
    "duration": 11,
    "start_time": "2023-10-15T17:27:45.400Z"
   },
   {
    "duration": 36,
    "start_time": "2023-10-15T17:27:45.412Z"
   },
   {
    "duration": 24,
    "start_time": "2023-10-15T17:27:45.449Z"
   },
   {
    "duration": 69,
    "start_time": "2023-10-15T17:27:45.475Z"
   },
   {
    "duration": 30,
    "start_time": "2023-10-15T17:27:45.546Z"
   },
   {
    "duration": 23,
    "start_time": "2023-10-15T17:27:45.578Z"
   },
   {
    "duration": 24,
    "start_time": "2023-10-15T17:27:45.602Z"
   },
   {
    "duration": 25,
    "start_time": "2023-10-15T17:27:45.628Z"
   },
   {
    "duration": 301,
    "start_time": "2023-10-15T17:27:45.654Z"
   },
   {
    "duration": 6,
    "start_time": "2023-10-15T17:27:45.957Z"
   },
   {
    "duration": 57,
    "start_time": "2023-10-15T17:27:45.965Z"
   },
   {
    "duration": 54,
    "start_time": "2023-10-15T17:27:46.024Z"
   },
   {
    "duration": 15,
    "start_time": "2023-10-15T17:27:46.080Z"
   },
   {
    "duration": 27,
    "start_time": "2023-10-15T17:27:46.096Z"
   },
   {
    "duration": 17,
    "start_time": "2023-10-15T17:27:46.124Z"
   },
   {
    "duration": 181,
    "start_time": "2023-10-15T17:27:46.142Z"
   },
   {
    "duration": 129,
    "start_time": "2023-10-15T17:27:46.324Z"
   },
   {
    "duration": 13,
    "start_time": "2023-10-15T17:27:46.455Z"
   },
   {
    "duration": 8,
    "start_time": "2023-10-15T17:27:46.469Z"
   },
   {
    "duration": 20,
    "start_time": "2023-10-15T17:27:46.479Z"
   },
   {
    "duration": 376,
    "start_time": "2023-10-15T17:27:46.500Z"
   },
   {
    "duration": 229,
    "start_time": "2023-10-15T17:27:46.878Z"
   },
   {
    "duration": 392,
    "start_time": "2023-10-15T17:27:47.109Z"
   },
   {
    "duration": 262,
    "start_time": "2023-10-15T17:27:47.503Z"
   },
   {
    "duration": 309,
    "start_time": "2023-10-15T17:27:47.767Z"
   },
   {
    "duration": 10,
    "start_time": "2023-10-15T17:27:48.077Z"
   },
   {
    "duration": 181,
    "start_time": "2023-10-15T17:27:48.088Z"
   },
   {
    "duration": 4,
    "start_time": "2023-10-15T17:27:48.270Z"
   },
   {
    "duration": 174,
    "start_time": "2023-10-15T17:27:48.276Z"
   },
   {
    "duration": 173,
    "start_time": "2023-10-15T17:27:48.451Z"
   },
   {
    "duration": 183,
    "start_time": "2023-10-15T17:27:48.625Z"
   },
   {
    "duration": 5,
    "start_time": "2023-10-15T17:27:48.809Z"
   },
   {
    "duration": 29,
    "start_time": "2023-10-15T17:27:48.816Z"
   },
   {
    "duration": 118,
    "start_time": "2023-10-15T17:27:48.847Z"
   },
   {
    "duration": 141,
    "start_time": "2023-10-15T17:27:48.966Z"
   },
   {
    "duration": 37,
    "start_time": "2023-10-15T17:27:49.109Z"
   },
   {
    "duration": 25,
    "start_time": "2023-10-15T17:27:49.147Z"
   },
   {
    "duration": 17,
    "start_time": "2023-10-15T17:27:49.176Z"
   },
   {
    "duration": 19,
    "start_time": "2023-10-15T17:27:49.195Z"
   },
   {
    "duration": 49,
    "start_time": "2023-10-15T17:27:49.216Z"
   },
   {
    "duration": 15,
    "start_time": "2023-10-15T17:27:49.267Z"
   },
   {
    "duration": 42,
    "start_time": "2023-10-15T17:27:49.283Z"
   },
   {
    "duration": 38,
    "start_time": "2023-10-15T17:27:49.326Z"
   },
   {
    "duration": 26,
    "start_time": "2023-10-15T17:27:49.365Z"
   },
   {
    "duration": 28,
    "start_time": "2023-10-15T17:27:49.392Z"
   },
   {
    "duration": 14,
    "start_time": "2023-10-15T17:27:49.422Z"
   },
   {
    "duration": 5,
    "start_time": "2023-10-15T18:12:43.794Z"
   },
   {
    "duration": 5,
    "start_time": "2023-10-15T18:13:00.499Z"
   },
   {
    "duration": 6,
    "start_time": "2023-10-15T18:15:27.666Z"
   },
   {
    "duration": 7,
    "start_time": "2023-10-15T18:15:51.668Z"
   },
   {
    "duration": 2,
    "start_time": "2023-10-15T18:19:40.013Z"
   },
   {
    "duration": 2,
    "start_time": "2023-10-15T18:19:51.061Z"
   },
   {
    "duration": 2,
    "start_time": "2023-10-15T18:19:59.703Z"
   },
   {
    "duration": 2,
    "start_time": "2023-10-15T18:20:11.518Z"
   },
   {
    "duration": 51,
    "start_time": "2023-10-16T08:32:45.466Z"
   },
   {
    "duration": 48,
    "start_time": "2023-10-16T08:32:51.099Z"
   },
   {
    "duration": 76,
    "start_time": "2023-10-16T08:33:59.912Z"
   }
  ],
  "kernelspec": {
   "display_name": "Python 3 (ipykernel)",
   "language": "python",
   "name": "python3"
  },
  "language_info": {
   "codemirror_mode": {
    "name": "ipython",
    "version": 3
   },
   "file_extension": ".py",
   "mimetype": "text/x-python",
   "name": "python",
   "nbconvert_exporter": "python",
   "pygments_lexer": "ipython3",
   "version": "3.11.5"
  },
  "toc": {
   "base_numbering": 1,
   "nav_menu": {},
   "number_sections": true,
   "sideBar": true,
   "skip_h1_title": true,
   "title_cell": "Table of Contents",
   "title_sidebar": "Contents",
   "toc_cell": false,
   "toc_position": {
    "height": "calc(100% - 180px)",
    "left": "10px",
    "top": "150px",
    "width": "353px"
   },
   "toc_section_display": true,
   "toc_window_display": true
  }
 },
 "nbformat": 4,
 "nbformat_minor": 2
}
