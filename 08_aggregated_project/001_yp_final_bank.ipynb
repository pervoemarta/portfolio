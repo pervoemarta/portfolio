{
 "cells": [
  {
   "cell_type": "markdown",
   "id": "d2e887c1",
   "metadata": {},
   "source": [
    "# Analysing the bank's customer churn \n",
    "**Task:**  \n",
    "Analyse the customers of a regional bank and identify the customer segments who tend to quit the bank:\n",
    "- exploratory analysis,  \n",
    "- customer segmentation\n",
    "- hypothesis formulation and testing.  \n",
    "  \n",
    "1. Data Examination, \n",
    "2. Data Pre-processing,\n",
    "2. Exploratory Data Analysis (distributions of probability of customers leaving by attributes):\n",
    "    + analysing customer activity (payment amounts, age of purchases, number of products used),\n",
    "    + analysis of customer churn by attributes (gender, age, etc.),\n",
    "    + segmentation by combined attributes (based on probability distributions of leaving)\n",
    "3. Statistical Analysis:\n",
    "    + hypothesis generation and testing,\n",
    "4. Summary."
   ]
  },
  {
   "cell_type": "code",
   "execution_count": 1,
   "id": "47254d92",
   "metadata": {},
   "outputs": [],
   "source": [
    "# libraries import\n",
    "import pandas as pd\n",
    "import numpy as np\n",
    "import seaborn as sns\n",
    "import matplotlib.pyplot as plt\n",
    "import sys\n",
    "\n",
    "# phik install if heeded\n",
    "#!\"{sys.executable}\" -m pip install phik\n",
    "\n",
    "import phik\n",
    "from phik.report import plot_correlation_matrix\n",
    "from phik import report\n",
    "from scipy import stats as st\n",
    "#from sklearn.metrics import plot_confusion_matrix"
   ]
  },
  {
   "cell_type": "code",
   "execution_count": 2,
   "id": "1a8acd01",
   "metadata": {},
   "outputs": [
    {
     "data": {
      "text/html": [
       "<style>.container { width:80% !important; }</style>"
      ],
      "text/plain": [
       "<IPython.core.display.HTML object>"
      ]
     },
     "metadata": {},
     "output_type": "display_data"
    },
    {
     "data": {
      "text/html": [
       "<style>#toc-wrapper{ position: relative; width: 20%; top: 130px; left: 0px; }</style>"
      ],
      "text/plain": [
       "<IPython.core.display.HTML object>"
      ]
     },
     "metadata": {},
     "output_type": "display_data"
    }
   ],
   "source": [
    "# hiding warnings\n",
    "import warnings\n",
    "warnings.filterwarnings(\"ignore\")\n",
    "\n",
    "# widening the notebook display\n",
    "from IPython.core.display import display, HTML\n",
    "display(HTML(\"<style>.container { width:80% !important; }</style>\"))\n",
    "# TOC setting\n",
    "display(HTML(\"<style>#toc-wrapper{ position: relative; width: 20%; top: 130px; left: 0px; }</style>\"))\n",
    "\n",
    "# plot size setting\n",
    "plt.rcParams[\"figure.figsize\"] = (15,10)"
   ]
  },
  {
   "cell_type": "markdown",
   "id": "209fdd0d",
   "metadata": {},
   "source": [
    "## Open the data file and examine the general information"
   ]
  },
  {
   "cell_type": "code",
   "execution_count": 3,
   "id": "584f9b45",
   "metadata": {},
   "outputs": [],
   "source": [
    "bank = pd.read_csv('https://code.s3.yandex.net/datasets/bank_scrooge.csv')"
   ]
  },
  {
   "cell_type": "code",
   "execution_count": 4,
   "id": "afa965e3",
   "metadata": {},
   "outputs": [
    {
     "data": {
      "text/html": [
       "<div>\n",
       "<style scoped>\n",
       "    .dataframe tbody tr th:only-of-type {\n",
       "        vertical-align: middle;\n",
       "    }\n",
       "\n",
       "    .dataframe tbody tr th {\n",
       "        vertical-align: top;\n",
       "    }\n",
       "\n",
       "    .dataframe thead th {\n",
       "        text-align: right;\n",
       "    }\n",
       "</style>\n",
       "<table border=\"1\" class=\"dataframe\">\n",
       "  <thead>\n",
       "    <tr style=\"text-align: right;\">\n",
       "      <th></th>\n",
       "      <th>USERID</th>\n",
       "      <th>score</th>\n",
       "      <th>city</th>\n",
       "      <th>gender</th>\n",
       "      <th>age</th>\n",
       "      <th>equity</th>\n",
       "      <th>balance</th>\n",
       "      <th>products</th>\n",
       "      <th>credit_card</th>\n",
       "      <th>last_activity</th>\n",
       "      <th>EST_SALARY</th>\n",
       "      <th>churn</th>\n",
       "    </tr>\n",
       "  </thead>\n",
       "  <tbody>\n",
       "    <tr>\n",
       "      <th>0</th>\n",
       "      <td>183012</td>\n",
       "      <td>850.0</td>\n",
       "      <td>Рыбинск</td>\n",
       "      <td>Ж</td>\n",
       "      <td>25.0</td>\n",
       "      <td>1</td>\n",
       "      <td>59214.82</td>\n",
       "      <td>2</td>\n",
       "      <td>0</td>\n",
       "      <td>1</td>\n",
       "      <td>75719.14</td>\n",
       "      <td>1</td>\n",
       "    </tr>\n",
       "    <tr>\n",
       "      <th>1</th>\n",
       "      <td>146556</td>\n",
       "      <td>861.0</td>\n",
       "      <td>Рыбинск</td>\n",
       "      <td>Ж</td>\n",
       "      <td>37.0</td>\n",
       "      <td>5</td>\n",
       "      <td>850594.33</td>\n",
       "      <td>3</td>\n",
       "      <td>1</td>\n",
       "      <td>0</td>\n",
       "      <td>86621.77</td>\n",
       "      <td>0</td>\n",
       "    </tr>\n",
       "    <tr>\n",
       "      <th>2</th>\n",
       "      <td>120722</td>\n",
       "      <td>892.0</td>\n",
       "      <td>Рыбинск</td>\n",
       "      <td>Ж</td>\n",
       "      <td>30.0</td>\n",
       "      <td>0</td>\n",
       "      <td>NaN</td>\n",
       "      <td>1</td>\n",
       "      <td>1</td>\n",
       "      <td>1</td>\n",
       "      <td>107683.34</td>\n",
       "      <td>0</td>\n",
       "    </tr>\n",
       "    <tr>\n",
       "      <th>3</th>\n",
       "      <td>225363</td>\n",
       "      <td>866.0</td>\n",
       "      <td>Ярославль</td>\n",
       "      <td>Ж</td>\n",
       "      <td>51.0</td>\n",
       "      <td>5</td>\n",
       "      <td>1524746.26</td>\n",
       "      <td>2</td>\n",
       "      <td>0</td>\n",
       "      <td>1</td>\n",
       "      <td>174423.53</td>\n",
       "      <td>1</td>\n",
       "    </tr>\n",
       "    <tr>\n",
       "      <th>4</th>\n",
       "      <td>157978</td>\n",
       "      <td>730.0</td>\n",
       "      <td>Ярославль</td>\n",
       "      <td>М</td>\n",
       "      <td>34.0</td>\n",
       "      <td>5</td>\n",
       "      <td>174.00</td>\n",
       "      <td>1</td>\n",
       "      <td>1</td>\n",
       "      <td>0</td>\n",
       "      <td>67353.16</td>\n",
       "      <td>1</td>\n",
       "    </tr>\n",
       "    <tr>\n",
       "      <th>...</th>\n",
       "      <td>...</td>\n",
       "      <td>...</td>\n",
       "      <td>...</td>\n",
       "      <td>...</td>\n",
       "      <td>...</td>\n",
       "      <td>...</td>\n",
       "      <td>...</td>\n",
       "      <td>...</td>\n",
       "      <td>...</td>\n",
       "      <td>...</td>\n",
       "      <td>...</td>\n",
       "      <td>...</td>\n",
       "    </tr>\n",
       "    <tr>\n",
       "      <th>9995</th>\n",
       "      <td>120553</td>\n",
       "      <td>814.0</td>\n",
       "      <td>Рыбинск</td>\n",
       "      <td>М</td>\n",
       "      <td>27.0</td>\n",
       "      <td>1</td>\n",
       "      <td>78144.65</td>\n",
       "      <td>1</td>\n",
       "      <td>0</td>\n",
       "      <td>1</td>\n",
       "      <td>18943.64</td>\n",
       "      <td>0</td>\n",
       "    </tr>\n",
       "    <tr>\n",
       "      <th>9996</th>\n",
       "      <td>139170</td>\n",
       "      <td>894.0</td>\n",
       "      <td>Ярославль</td>\n",
       "      <td>М</td>\n",
       "      <td>46.0</td>\n",
       "      <td>0</td>\n",
       "      <td>NaN</td>\n",
       "      <td>1</td>\n",
       "      <td>1</td>\n",
       "      <td>0</td>\n",
       "      <td>196898.29</td>\n",
       "      <td>0</td>\n",
       "    </tr>\n",
       "    <tr>\n",
       "      <th>9997</th>\n",
       "      <td>115639</td>\n",
       "      <td>903.0</td>\n",
       "      <td>Ярославль</td>\n",
       "      <td>М</td>\n",
       "      <td>24.0</td>\n",
       "      <td>0</td>\n",
       "      <td>NaN</td>\n",
       "      <td>2</td>\n",
       "      <td>1</td>\n",
       "      <td>1</td>\n",
       "      <td>108905.09</td>\n",
       "      <td>0</td>\n",
       "    </tr>\n",
       "    <tr>\n",
       "      <th>9998</th>\n",
       "      <td>148700</td>\n",
       "      <td>777.0</td>\n",
       "      <td>Ярославль</td>\n",
       "      <td>Ж</td>\n",
       "      <td>68.0</td>\n",
       "      <td>3</td>\n",
       "      <td>865457.97</td>\n",
       "      <td>3</td>\n",
       "      <td>0</td>\n",
       "      <td>1</td>\n",
       "      <td>86874.90</td>\n",
       "      <td>0</td>\n",
       "    </tr>\n",
       "    <tr>\n",
       "      <th>9999</th>\n",
       "      <td>96267</td>\n",
       "      <td>828.0</td>\n",
       "      <td>Рыбинск</td>\n",
       "      <td>Ж</td>\n",
       "      <td>58.0</td>\n",
       "      <td>3</td>\n",
       "      <td>1180886.70</td>\n",
       "      <td>4</td>\n",
       "      <td>0</td>\n",
       "      <td>1</td>\n",
       "      <td>21422.37</td>\n",
       "      <td>0</td>\n",
       "    </tr>\n",
       "  </tbody>\n",
       "</table>\n",
       "<p>10000 rows × 12 columns</p>\n",
       "</div>"
      ],
      "text/plain": [
       "      USERID  score       city gender   age  equity     balance  products  \\\n",
       "0     183012  850.0    Рыбинск      Ж  25.0       1    59214.82         2   \n",
       "1     146556  861.0    Рыбинск      Ж  37.0       5   850594.33         3   \n",
       "2     120722  892.0    Рыбинск      Ж  30.0       0         NaN         1   \n",
       "3     225363  866.0  Ярославль      Ж  51.0       5  1524746.26         2   \n",
       "4     157978  730.0  Ярославль      М  34.0       5      174.00         1   \n",
       "...      ...    ...        ...    ...   ...     ...         ...       ...   \n",
       "9995  120553  814.0    Рыбинск      М  27.0       1    78144.65         1   \n",
       "9996  139170  894.0  Ярославль      М  46.0       0         NaN         1   \n",
       "9997  115639  903.0  Ярославль      М  24.0       0         NaN         2   \n",
       "9998  148700  777.0  Ярославль      Ж  68.0       3   865457.97         3   \n",
       "9999   96267  828.0    Рыбинск      Ж  58.0       3  1180886.70         4   \n",
       "\n",
       "      credit_card  last_activity  EST_SALARY  churn  \n",
       "0               0              1    75719.14      1  \n",
       "1               1              0    86621.77      0  \n",
       "2               1              1   107683.34      0  \n",
       "3               0              1   174423.53      1  \n",
       "4               1              0    67353.16      1  \n",
       "...           ...            ...         ...    ...  \n",
       "9995            0              1    18943.64      0  \n",
       "9996            1              0   196898.29      0  \n",
       "9997            1              1   108905.09      0  \n",
       "9998            0              1    86874.90      0  \n",
       "9999            0              1    21422.37      0  \n",
       "\n",
       "[10000 rows x 12 columns]"
      ]
     },
     "execution_count": 4,
     "metadata": {},
     "output_type": "execute_result"
    }
   ],
   "source": [
    "bank"
   ]
  },
  {
   "cell_type": "markdown",
   "id": "6de306a8",
   "metadata": {},
   "source": [
    "**Columns:**  \n",
    "USERID - user identifier,  \n",
    "score - credit scoring points,  \n",
    "city,  \n",
    "gender,  \n",
    "age,  \n",
    "equity - ownership score,  \n",
    "balance - last minute account balance,  \n",
    "products - number of products used by the client,  \n",
    "credit_card - credit card existence,  \n",
    "last_activity - activity of the client,  \n",
    "EST_SALARY - estimated income of the client,  \n",
    "churn - sign of churn."
   ]
  },
  {
   "cell_type": "code",
   "execution_count": 5,
   "id": "c9a54b8d",
   "metadata": {},
   "outputs": [
    {
     "name": "stdout",
     "output_type": "stream",
     "text": [
      "<class 'pandas.core.frame.DataFrame'>\n",
      "RangeIndex: 10000 entries, 0 to 9999\n",
      "Data columns (total 12 columns):\n",
      " #   Column         Non-Null Count  Dtype  \n",
      "---  ------         --------------  -----  \n",
      " 0   USERID         10000 non-null  int64  \n",
      " 1   score          10000 non-null  float64\n",
      " 2   city           10000 non-null  object \n",
      " 3   gender         10000 non-null  object \n",
      " 4   age            9974 non-null   float64\n",
      " 5   equity         10000 non-null  int64  \n",
      " 6   balance        7705 non-null   float64\n",
      " 7   products       10000 non-null  int64  \n",
      " 8   credit_card    10000 non-null  int64  \n",
      " 9   last_activity  10000 non-null  int64  \n",
      " 10  EST_SALARY     10000 non-null  float64\n",
      " 11  churn          10000 non-null  int64  \n",
      "dtypes: float64(4), int64(6), object(2)\n",
      "memory usage: 937.6+ KB\n"
     ]
    }
   ],
   "source": [
    "bank.info()"
   ]
  },
  {
   "cell_type": "code",
   "execution_count": 6,
   "id": "278a2d0d",
   "metadata": {},
   "outputs": [
    {
     "data": {
      "text/plain": [
       "USERID              0\n",
       "score               0\n",
       "city                0\n",
       "gender              0\n",
       "age                26\n",
       "equity              0\n",
       "balance          2295\n",
       "products            0\n",
       "credit_card         0\n",
       "last_activity       0\n",
       "EST_SALARY          0\n",
       "churn               0\n",
       "dtype: int64"
      ]
     },
     "execution_count": 6,
     "metadata": {},
     "output_type": "execute_result"
    }
   ],
   "source": [
    "bank.isnull().sum()"
   ]
  },
  {
   "cell_type": "markdown",
   "id": "bb01ea25",
   "metadata": {},
   "source": [
    "There are a few blanks in the client's balance data and quite a few blanks in the age column. It will be adequate to leave the existing blanks, as it is impossible to replace neither age nor balance, it can be absolutely any values."
   ]
  },
  {
   "cell_type": "code",
   "execution_count": 7,
   "id": "01f96d7d",
   "metadata": {},
   "outputs": [
    {
     "data": {
      "text/html": [
       "<style type=\"text/css\">\n",
       "</style>\n",
       "<table id=\"T_df87c\">\n",
       "  <thead>\n",
       "    <tr>\n",
       "      <th class=\"blank level0\" >&nbsp;</th>\n",
       "      <th id=\"T_df87c_level0_col0\" class=\"col_heading level0 col0\" >USERID</th>\n",
       "      <th id=\"T_df87c_level0_col1\" class=\"col_heading level0 col1\" >score</th>\n",
       "      <th id=\"T_df87c_level0_col2\" class=\"col_heading level0 col2\" >age</th>\n",
       "      <th id=\"T_df87c_level0_col3\" class=\"col_heading level0 col3\" >equity</th>\n",
       "      <th id=\"T_df87c_level0_col4\" class=\"col_heading level0 col4\" >balance</th>\n",
       "      <th id=\"T_df87c_level0_col5\" class=\"col_heading level0 col5\" >products</th>\n",
       "      <th id=\"T_df87c_level0_col6\" class=\"col_heading level0 col6\" >credit_card</th>\n",
       "      <th id=\"T_df87c_level0_col7\" class=\"col_heading level0 col7\" >last_activity</th>\n",
       "      <th id=\"T_df87c_level0_col8\" class=\"col_heading level0 col8\" >EST_SALARY</th>\n",
       "      <th id=\"T_df87c_level0_col9\" class=\"col_heading level0 col9\" >churn</th>\n",
       "    </tr>\n",
       "  </thead>\n",
       "  <tbody>\n",
       "    <tr>\n",
       "      <th id=\"T_df87c_level0_row0\" class=\"row_heading level0 row0\" >count</th>\n",
       "      <td id=\"T_df87c_row0_col0\" class=\"data row0 col0\" >10000.000000</td>\n",
       "      <td id=\"T_df87c_row0_col1\" class=\"data row0 col1\" >10000.000000</td>\n",
       "      <td id=\"T_df87c_row0_col2\" class=\"data row0 col2\" >9974.000000</td>\n",
       "      <td id=\"T_df87c_row0_col3\" class=\"data row0 col3\" >10000.000000</td>\n",
       "      <td id=\"T_df87c_row0_col4\" class=\"data row0 col4\" >7705.00</td>\n",
       "      <td id=\"T_df87c_row0_col5\" class=\"data row0 col5\" >10000.000000</td>\n",
       "      <td id=\"T_df87c_row0_col6\" class=\"data row0 col6\" >10000.000000</td>\n",
       "      <td id=\"T_df87c_row0_col7\" class=\"data row0 col7\" >10000.000000</td>\n",
       "      <td id=\"T_df87c_row0_col8\" class=\"data row0 col8\" >10000.000000</td>\n",
       "      <td id=\"T_df87c_row0_col9\" class=\"data row0 col9\" >10000.000000</td>\n",
       "    </tr>\n",
       "    <tr>\n",
       "      <th id=\"T_df87c_level0_row1\" class=\"row_heading level0 row1\" >mean</th>\n",
       "      <td id=\"T_df87c_row1_col0\" class=\"data row1 col0\" >171814.712600</td>\n",
       "      <td id=\"T_df87c_row1_col1\" class=\"data row1 col1\" >848.699400</td>\n",
       "      <td id=\"T_df87c_row1_col2\" class=\"data row1 col2\" >42.734409</td>\n",
       "      <td id=\"T_df87c_row1_col3\" class=\"data row1 col3\" >2.627600</td>\n",
       "      <td id=\"T_df87c_row1_col4\" class=\"data row1 col4\" >827794.31</td>\n",
       "      <td id=\"T_df87c_row1_col5\" class=\"data row1 col5\" >1.870100</td>\n",
       "      <td id=\"T_df87c_row1_col6\" class=\"data row1 col6\" >0.680400</td>\n",
       "      <td id=\"T_df87c_row1_col7\" class=\"data row1 col7\" >0.523500</td>\n",
       "      <td id=\"T_df87c_row1_col8\" class=\"data row1 col8\" >147866.885544</td>\n",
       "      <td id=\"T_df87c_row1_col9\" class=\"data row1 col9\" >0.182000</td>\n",
       "    </tr>\n",
       "    <tr>\n",
       "      <th id=\"T_df87c_level0_row2\" class=\"row_heading level0 row2\" >std</th>\n",
       "      <td id=\"T_df87c_row2_col0\" class=\"data row2 col0\" >33708.238120</td>\n",
       "      <td id=\"T_df87c_row2_col1\" class=\"data row2 col1\" >65.448519</td>\n",
       "      <td id=\"T_df87c_row2_col2\" class=\"data row2 col2\" >12.179971</td>\n",
       "      <td id=\"T_df87c_row2_col3\" class=\"data row2 col3\" >1.980836</td>\n",
       "      <td id=\"T_df87c_row2_col4\" class=\"data row2 col4\" >1980614.15</td>\n",
       "      <td id=\"T_df87c_row2_col5\" class=\"data row2 col5\" >0.792647</td>\n",
       "      <td id=\"T_df87c_row2_col6\" class=\"data row2 col6\" >0.466345</td>\n",
       "      <td id=\"T_df87c_row2_col7\" class=\"data row2 col7\" >0.499472</td>\n",
       "      <td id=\"T_df87c_row2_col8\" class=\"data row2 col8\" >139388.510832</td>\n",
       "      <td id=\"T_df87c_row2_col9\" class=\"data row2 col9\" >0.385864</td>\n",
       "    </tr>\n",
       "    <tr>\n",
       "      <th id=\"T_df87c_level0_row3\" class=\"row_heading level0 row3\" >min</th>\n",
       "      <td id=\"T_df87c_row3_col0\" class=\"data row3 col0\" >94561.000000</td>\n",
       "      <td id=\"T_df87c_row3_col1\" class=\"data row3 col1\" >642.000000</td>\n",
       "      <td id=\"T_df87c_row3_col2\" class=\"data row3 col2\" >18.000000</td>\n",
       "      <td id=\"T_df87c_row3_col3\" class=\"data row3 col3\" >0.000000</td>\n",
       "      <td id=\"T_df87c_row3_col4\" class=\"data row3 col4\" >0.00</td>\n",
       "      <td id=\"T_df87c_row3_col5\" class=\"data row3 col5\" >0.000000</td>\n",
       "      <td id=\"T_df87c_row3_col6\" class=\"data row3 col6\" >0.000000</td>\n",
       "      <td id=\"T_df87c_row3_col7\" class=\"data row3 col7\" >0.000000</td>\n",
       "      <td id=\"T_df87c_row3_col8\" class=\"data row3 col8\" >2546.300000</td>\n",
       "      <td id=\"T_df87c_row3_col9\" class=\"data row3 col9\" >0.000000</td>\n",
       "    </tr>\n",
       "    <tr>\n",
       "      <th id=\"T_df87c_level0_row4\" class=\"row_heading level0 row4\" >25%</th>\n",
       "      <td id=\"T_df87c_row4_col0\" class=\"data row4 col0\" >142810.250000</td>\n",
       "      <td id=\"T_df87c_row4_col1\" class=\"data row4 col1\" >802.000000</td>\n",
       "      <td id=\"T_df87c_row4_col2\" class=\"data row4 col2\" >33.000000</td>\n",
       "      <td id=\"T_df87c_row4_col3\" class=\"data row4 col3\" >0.000000</td>\n",
       "      <td id=\"T_df87c_row4_col4\" class=\"data row4 col4\" >295554.16</td>\n",
       "      <td id=\"T_df87c_row4_col5\" class=\"data row4 col5\" >1.000000</td>\n",
       "      <td id=\"T_df87c_row4_col6\" class=\"data row4 col6\" >0.000000</td>\n",
       "      <td id=\"T_df87c_row4_col7\" class=\"data row4 col7\" >0.000000</td>\n",
       "      <td id=\"T_df87c_row4_col8\" class=\"data row4 col8\" >75251.900000</td>\n",
       "      <td id=\"T_df87c_row4_col9\" class=\"data row4 col9\" >0.000000</td>\n",
       "    </tr>\n",
       "    <tr>\n",
       "      <th id=\"T_df87c_level0_row5\" class=\"row_heading level0 row5\" >50%</th>\n",
       "      <td id=\"T_df87c_row5_col0\" class=\"data row5 col0\" >172728.000000</td>\n",
       "      <td id=\"T_df87c_row5_col1\" class=\"data row5 col1\" >853.000000</td>\n",
       "      <td id=\"T_df87c_row5_col2\" class=\"data row5 col2\" >40.000000</td>\n",
       "      <td id=\"T_df87c_row5_col3\" class=\"data row5 col3\" >3.000000</td>\n",
       "      <td id=\"T_df87c_row5_col4\" class=\"data row5 col4\" >524272.20</td>\n",
       "      <td id=\"T_df87c_row5_col5\" class=\"data row5 col5\" >2.000000</td>\n",
       "      <td id=\"T_df87c_row5_col6\" class=\"data row5 col6\" >1.000000</td>\n",
       "      <td id=\"T_df87c_row5_col7\" class=\"data row5 col7\" >1.000000</td>\n",
       "      <td id=\"T_df87c_row5_col8\" class=\"data row5 col8\" >119658.105000</td>\n",
       "      <td id=\"T_df87c_row5_col9\" class=\"data row5 col9\" >0.000000</td>\n",
       "    </tr>\n",
       "    <tr>\n",
       "      <th id=\"T_df87c_level0_row6\" class=\"row_heading level0 row6\" >75%</th>\n",
       "      <td id=\"T_df87c_row6_col0\" class=\"data row6 col0\" >201261.750000</td>\n",
       "      <td id=\"T_df87c_row6_col1\" class=\"data row6 col1\" >900.000000</td>\n",
       "      <td id=\"T_df87c_row6_col2\" class=\"data row6 col2\" >51.000000</td>\n",
       "      <td id=\"T_df87c_row6_col3\" class=\"data row6 col3\" >4.000000</td>\n",
       "      <td id=\"T_df87c_row6_col4\" class=\"data row6 col4\" >980705.85</td>\n",
       "      <td id=\"T_df87c_row6_col5\" class=\"data row6 col5\" >2.000000</td>\n",
       "      <td id=\"T_df87c_row6_col6\" class=\"data row6 col6\" >1.000000</td>\n",
       "      <td id=\"T_df87c_row6_col7\" class=\"data row6 col7\" >1.000000</td>\n",
       "      <td id=\"T_df87c_row6_col8\" class=\"data row6 col8\" >174500.542500</td>\n",
       "      <td id=\"T_df87c_row6_col9\" class=\"data row6 col9\" >0.000000</td>\n",
       "    </tr>\n",
       "    <tr>\n",
       "      <th id=\"T_df87c_level0_row7\" class=\"row_heading level0 row7\" >max</th>\n",
       "      <td id=\"T_df87c_row7_col0\" class=\"data row7 col0\" >229145.000000</td>\n",
       "      <td id=\"T_df87c_row7_col1\" class=\"data row7 col1\" >1000.000000</td>\n",
       "      <td id=\"T_df87c_row7_col2\" class=\"data row7 col2\" >86.000000</td>\n",
       "      <td id=\"T_df87c_row7_col3\" class=\"data row7 col3\" >9.000000</td>\n",
       "      <td id=\"T_df87c_row7_col4\" class=\"data row7 col4\" >119113552.01</td>\n",
       "      <td id=\"T_df87c_row7_col5\" class=\"data row7 col5\" >5.000000</td>\n",
       "      <td id=\"T_df87c_row7_col6\" class=\"data row7 col6\" >1.000000</td>\n",
       "      <td id=\"T_df87c_row7_col7\" class=\"data row7 col7\" >1.000000</td>\n",
       "      <td id=\"T_df87c_row7_col8\" class=\"data row7 col8\" >1395064.450000</td>\n",
       "      <td id=\"T_df87c_row7_col9\" class=\"data row7 col9\" >1.000000</td>\n",
       "    </tr>\n",
       "  </tbody>\n",
       "</table>\n"
      ],
      "text/plain": [
       "<pandas.io.formats.style.Styler at 0x224f4bf66d0>"
      ]
     },
     "execution_count": 7,
     "metadata": {},
     "output_type": "execute_result"
    }
   ],
   "source": [
    "bank.describe().style.format({'balance': '{:.2f}'})"
   ]
  },
  {
   "cell_type": "markdown",
   "id": "28beb260",
   "metadata": {},
   "source": [
    "The numerical data looks good.  \n",
    "At first, huge numbers in the balance and salary may actually exist, a salary of a few thousand may also be, because the client may have a dark salary, or it may be a pension, subsidies, allowances, whatever. \n",
    "It is also necessary to study 0 in clients' balances and products (because if a person is a client, he uses something)."
   ]
  },
  {
   "cell_type": "code",
   "execution_count": 8,
   "id": "e8942780",
   "metadata": {},
   "outputs": [
    {
     "data": {
      "text/plain": [
       "USERID             int64\n",
       "score            float64\n",
       "city              object\n",
       "gender            object\n",
       "age              float64\n",
       "equity             int64\n",
       "balance          float64\n",
       "products           int64\n",
       "credit_card        int64\n",
       "last_activity      int64\n",
       "EST_SALARY       float64\n",
       "churn              int64\n",
       "dtype: object"
      ]
     },
     "execution_count": 8,
     "metadata": {},
     "output_type": "execute_result"
    }
   ],
   "source": [
    "bank.dtypes"
   ]
  },
  {
   "cell_type": "markdown",
   "id": "982fa820",
   "metadata": {},
   "source": [
    "The data types match the information in the columns. We could replace age and score with integer values, but then there will be zeros, because there are blanks in these columns. Let's leave them as they are."
   ]
  },
  {
   "cell_type": "markdown",
   "id": "9159864f",
   "metadata": {},
   "source": [
    "## Data pre-processing"
   ]
  },
  {
   "cell_type": "code",
   "execution_count": 9,
   "id": "6b50012a",
   "metadata": {},
   "outputs": [],
   "source": [
    "# Let's bring the column names to the lower snake case\n",
    "bank.columns = (bank.columns\n",
    "                .str.lower()\n",
    "             )\n",
    "bank = bank.rename(columns={\"userid\": \"user_id\"})"
   ]
  },
  {
   "cell_type": "code",
   "execution_count": 10,
   "id": "bc353a4a",
   "metadata": {},
   "outputs": [
    {
     "data": {
      "text/plain": [
       "0"
      ]
     },
     "execution_count": 10,
     "metadata": {},
     "output_type": "execute_result"
    }
   ],
   "source": [
    "# checking duplicates\n",
    "bank.duplicated().sum()"
   ]
  },
  {
   "cell_type": "code",
   "execution_count": 11,
   "id": "36f2e284",
   "metadata": {},
   "outputs": [
    {
     "name": "stdout",
     "output_type": "stream",
     "text": [
      "Duplicated user_id: 73 out of 146 lines\n"
     ]
    },
    {
     "data": {
      "text/html": [
       "<div>\n",
       "<style scoped>\n",
       "    .dataframe tbody tr th:only-of-type {\n",
       "        vertical-align: middle;\n",
       "    }\n",
       "\n",
       "    .dataframe tbody tr th {\n",
       "        vertical-align: top;\n",
       "    }\n",
       "\n",
       "    .dataframe thead th {\n",
       "        text-align: right;\n",
       "    }\n",
       "</style>\n",
       "<table border=\"1\" class=\"dataframe\">\n",
       "  <thead>\n",
       "    <tr style=\"text-align: right;\">\n",
       "      <th></th>\n",
       "      <th>user_id</th>\n",
       "      <th>score</th>\n",
       "      <th>city</th>\n",
       "      <th>gender</th>\n",
       "      <th>age</th>\n",
       "      <th>equity</th>\n",
       "      <th>balance</th>\n",
       "      <th>products</th>\n",
       "      <th>credit_card</th>\n",
       "      <th>last_activity</th>\n",
       "      <th>est_salary</th>\n",
       "      <th>churn</th>\n",
       "    </tr>\n",
       "  </thead>\n",
       "  <tbody>\n",
       "    <tr>\n",
       "      <th>1893</th>\n",
       "      <td>116540</td>\n",
       "      <td>883.0</td>\n",
       "      <td>Рыбинск</td>\n",
       "      <td>Ж</td>\n",
       "      <td>55.0</td>\n",
       "      <td>1</td>\n",
       "      <td>362756.49</td>\n",
       "      <td>3</td>\n",
       "      <td>0</td>\n",
       "      <td>1</td>\n",
       "      <td>175920.48</td>\n",
       "      <td>1</td>\n",
       "    </tr>\n",
       "    <tr>\n",
       "      <th>7694</th>\n",
       "      <td>116540</td>\n",
       "      <td>887.0</td>\n",
       "      <td>Ярославль</td>\n",
       "      <td>Ж</td>\n",
       "      <td>38.0</td>\n",
       "      <td>0</td>\n",
       "      <td>NaN</td>\n",
       "      <td>1</td>\n",
       "      <td>0</td>\n",
       "      <td>1</td>\n",
       "      <td>119247.61</td>\n",
       "      <td>0</td>\n",
       "    </tr>\n",
       "    <tr>\n",
       "      <th>7542</th>\n",
       "      <td>117943</td>\n",
       "      <td>880.0</td>\n",
       "      <td>Ярославль</td>\n",
       "      <td>Ж</td>\n",
       "      <td>40.0</td>\n",
       "      <td>0</td>\n",
       "      <td>NaN</td>\n",
       "      <td>1</td>\n",
       "      <td>1</td>\n",
       "      <td>0</td>\n",
       "      <td>137718.93</td>\n",
       "      <td>0</td>\n",
       "    </tr>\n",
       "    <tr>\n",
       "      <th>4866</th>\n",
       "      <td>117943</td>\n",
       "      <td>855.0</td>\n",
       "      <td>Рыбинск</td>\n",
       "      <td>Ж</td>\n",
       "      <td>32.0</td>\n",
       "      <td>6</td>\n",
       "      <td>1036832.93</td>\n",
       "      <td>4</td>\n",
       "      <td>1</td>\n",
       "      <td>1</td>\n",
       "      <td>107792.71</td>\n",
       "      <td>1</td>\n",
       "    </tr>\n",
       "    <tr>\n",
       "      <th>5896</th>\n",
       "      <td>120258</td>\n",
       "      <td>905.0</td>\n",
       "      <td>Ярославль</td>\n",
       "      <td>М</td>\n",
       "      <td>30.0</td>\n",
       "      <td>0</td>\n",
       "      <td>NaN</td>\n",
       "      <td>1</td>\n",
       "      <td>1</td>\n",
       "      <td>1</td>\n",
       "      <td>146427.96</td>\n",
       "      <td>0</td>\n",
       "    </tr>\n",
       "    <tr>\n",
       "      <th>5863</th>\n",
       "      <td>120258</td>\n",
       "      <td>908.0</td>\n",
       "      <td>Рыбинск</td>\n",
       "      <td>Ж</td>\n",
       "      <td>38.0</td>\n",
       "      <td>4</td>\n",
       "      <td>2213581.63</td>\n",
       "      <td>2</td>\n",
       "      <td>0</td>\n",
       "      <td>1</td>\n",
       "      <td>160327.77</td>\n",
       "      <td>1</td>\n",
       "    </tr>\n",
       "    <tr>\n",
       "      <th>1411</th>\n",
       "      <td>123461</td>\n",
       "      <td>829.0</td>\n",
       "      <td>Ярославль</td>\n",
       "      <td>Ж</td>\n",
       "      <td>59.0</td>\n",
       "      <td>0</td>\n",
       "      <td>96222.44</td>\n",
       "      <td>2</td>\n",
       "      <td>0</td>\n",
       "      <td>1</td>\n",
       "      <td>102771.55</td>\n",
       "      <td>1</td>\n",
       "    </tr>\n",
       "    <tr>\n",
       "      <th>8638</th>\n",
       "      <td>123461</td>\n",
       "      <td>934.0</td>\n",
       "      <td>Рыбинск</td>\n",
       "      <td>М</td>\n",
       "      <td>34.0</td>\n",
       "      <td>0</td>\n",
       "      <td>NaN</td>\n",
       "      <td>2</td>\n",
       "      <td>1</td>\n",
       "      <td>0</td>\n",
       "      <td>291619.27</td>\n",
       "      <td>0</td>\n",
       "    </tr>\n",
       "    <tr>\n",
       "      <th>8164</th>\n",
       "      <td>124450</td>\n",
       "      <td>859.0</td>\n",
       "      <td>Ярославль</td>\n",
       "      <td>Ж</td>\n",
       "      <td>38.0</td>\n",
       "      <td>6</td>\n",
       "      <td>516811.20</td>\n",
       "      <td>1</td>\n",
       "      <td>1</td>\n",
       "      <td>1</td>\n",
       "      <td>95144.63</td>\n",
       "      <td>1</td>\n",
       "    </tr>\n",
       "    <tr>\n",
       "      <th>9775</th>\n",
       "      <td>124450</td>\n",
       "      <td>758.0</td>\n",
       "      <td>Рыбинск</td>\n",
       "      <td>Ж</td>\n",
       "      <td>36.0</td>\n",
       "      <td>0</td>\n",
       "      <td>73574.07</td>\n",
       "      <td>2</td>\n",
       "      <td>0</td>\n",
       "      <td>1</td>\n",
       "      <td>79963.59</td>\n",
       "      <td>0</td>\n",
       "    </tr>\n",
       "  </tbody>\n",
       "</table>\n",
       "</div>"
      ],
      "text/plain": [
       "      user_id  score       city gender   age  equity     balance  products  \\\n",
       "1893   116540  883.0    Рыбинск      Ж  55.0       1   362756.49         3   \n",
       "7694   116540  887.0  Ярославль      Ж  38.0       0         NaN         1   \n",
       "7542   117943  880.0  Ярославль      Ж  40.0       0         NaN         1   \n",
       "4866   117943  855.0    Рыбинск      Ж  32.0       6  1036832.93         4   \n",
       "5896   120258  905.0  Ярославль      М  30.0       0         NaN         1   \n",
       "5863   120258  908.0    Рыбинск      Ж  38.0       4  2213581.63         2   \n",
       "1411   123461  829.0  Ярославль      Ж  59.0       0    96222.44         2   \n",
       "8638   123461  934.0    Рыбинск      М  34.0       0         NaN         2   \n",
       "8164   124450  859.0  Ярославль      Ж  38.0       6   516811.20         1   \n",
       "9775   124450  758.0    Рыбинск      Ж  36.0       0    73574.07         2   \n",
       "\n",
       "      credit_card  last_activity  est_salary  churn  \n",
       "1893            0              1   175920.48      1  \n",
       "7694            0              1   119247.61      0  \n",
       "7542            1              0   137718.93      0  \n",
       "4866            1              1   107792.71      1  \n",
       "5896            1              1   146427.96      0  \n",
       "5863            0              1   160327.77      1  \n",
       "1411            0              1   102771.55      1  \n",
       "8638            1              0   291619.27      0  \n",
       "8164            1              1    95144.63      1  \n",
       "9775            0              1    79963.59      0  "
      ]
     },
     "execution_count": 11,
     "metadata": {},
     "output_type": "execute_result"
    }
   ],
   "source": [
    "bank_user_dups = bank[bank.duplicated('user_id', keep=False) == True]\n",
    "print('Duplicated user_id: ' + str(bank_user_dups['user_id'].nunique()) + ' out of ' + str(bank_user_dups['user_id'].count()) + ' lines')\n",
    "bank_user_dups.sort_values(by='user_id').head(10)"
   ]
  },
  {
   "cell_type": "code",
   "execution_count": 12,
   "id": "081e9818",
   "metadata": {},
   "outputs": [
    {
     "data": {
      "text/plain": [
       "user_id          50\n",
       "score            50\n",
       "city             50\n",
       "gender           50\n",
       "age              50\n",
       "equity           50\n",
       "balance          50\n",
       "products         50\n",
       "credit_card      50\n",
       "last_activity    50\n",
       "est_salary       50\n",
       "churn            50\n",
       "dtype: int64"
      ]
     },
     "execution_count": 12,
     "metadata": {},
     "output_type": "execute_result"
    }
   ],
   "source": [
    "bank_user_dups.sort_values(by='user_id').query('churn == 1').count()"
   ]
  },
  {
   "cell_type": "markdown",
   "id": "5b1e85dc",
   "metadata": {},
   "source": [
    "We see that 73 user_id are duplicated. \n",
    "Most of the duplicates are due to the user leaving and linking the old id to the new client, however, not everywhere.  \n",
    "It seems that some of the duplicate user_ids were assigned by mistake (e.g. technical). Two records with the same user_id can have different gender, age and other values. You can't delete such duplicates.\n",
    "  \n",
    "I think it is better to create a new numeration and use it for analysis, because all users are important:"
   ]
  },
  {
   "cell_type": "code",
   "execution_count": 13,
   "id": "c2de217c",
   "metadata": {},
   "outputs": [
    {
     "data": {
      "text/html": [
       "<div>\n",
       "<style scoped>\n",
       "    .dataframe tbody tr th:only-of-type {\n",
       "        vertical-align: middle;\n",
       "    }\n",
       "\n",
       "    .dataframe tbody tr th {\n",
       "        vertical-align: top;\n",
       "    }\n",
       "\n",
       "    .dataframe thead th {\n",
       "        text-align: right;\n",
       "    }\n",
       "</style>\n",
       "<table border=\"1\" class=\"dataframe\">\n",
       "  <thead>\n",
       "    <tr style=\"text-align: right;\">\n",
       "      <th></th>\n",
       "      <th>user_id</th>\n",
       "      <th>score</th>\n",
       "      <th>city</th>\n",
       "      <th>gender</th>\n",
       "      <th>age</th>\n",
       "      <th>equity</th>\n",
       "      <th>balance</th>\n",
       "      <th>products</th>\n",
       "      <th>credit_card</th>\n",
       "      <th>last_activity</th>\n",
       "      <th>est_salary</th>\n",
       "      <th>churn</th>\n",
       "      <th>index_id</th>\n",
       "    </tr>\n",
       "  </thead>\n",
       "  <tbody>\n",
       "    <tr>\n",
       "      <th>1893</th>\n",
       "      <td>116540</td>\n",
       "      <td>883.0</td>\n",
       "      <td>Рыбинск</td>\n",
       "      <td>Ж</td>\n",
       "      <td>55.0</td>\n",
       "      <td>1</td>\n",
       "      <td>362756.49</td>\n",
       "      <td>3</td>\n",
       "      <td>0</td>\n",
       "      <td>1</td>\n",
       "      <td>175920.48</td>\n",
       "      <td>1</td>\n",
       "      <td>1893</td>\n",
       "    </tr>\n",
       "    <tr>\n",
       "      <th>7694</th>\n",
       "      <td>116540</td>\n",
       "      <td>887.0</td>\n",
       "      <td>Ярославль</td>\n",
       "      <td>Ж</td>\n",
       "      <td>38.0</td>\n",
       "      <td>0</td>\n",
       "      <td>NaN</td>\n",
       "      <td>1</td>\n",
       "      <td>0</td>\n",
       "      <td>1</td>\n",
       "      <td>119247.61</td>\n",
       "      <td>0</td>\n",
       "      <td>7694</td>\n",
       "    </tr>\n",
       "    <tr>\n",
       "      <th>7542</th>\n",
       "      <td>117943</td>\n",
       "      <td>880.0</td>\n",
       "      <td>Ярославль</td>\n",
       "      <td>Ж</td>\n",
       "      <td>40.0</td>\n",
       "      <td>0</td>\n",
       "      <td>NaN</td>\n",
       "      <td>1</td>\n",
       "      <td>1</td>\n",
       "      <td>0</td>\n",
       "      <td>137718.93</td>\n",
       "      <td>0</td>\n",
       "      <td>7542</td>\n",
       "    </tr>\n",
       "    <tr>\n",
       "      <th>4866</th>\n",
       "      <td>117943</td>\n",
       "      <td>855.0</td>\n",
       "      <td>Рыбинск</td>\n",
       "      <td>Ж</td>\n",
       "      <td>32.0</td>\n",
       "      <td>6</td>\n",
       "      <td>1036832.93</td>\n",
       "      <td>4</td>\n",
       "      <td>1</td>\n",
       "      <td>1</td>\n",
       "      <td>107792.71</td>\n",
       "      <td>1</td>\n",
       "      <td>4866</td>\n",
       "    </tr>\n",
       "    <tr>\n",
       "      <th>5896</th>\n",
       "      <td>120258</td>\n",
       "      <td>905.0</td>\n",
       "      <td>Ярославль</td>\n",
       "      <td>М</td>\n",
       "      <td>30.0</td>\n",
       "      <td>0</td>\n",
       "      <td>NaN</td>\n",
       "      <td>1</td>\n",
       "      <td>1</td>\n",
       "      <td>1</td>\n",
       "      <td>146427.96</td>\n",
       "      <td>0</td>\n",
       "      <td>5896</td>\n",
       "    </tr>\n",
       "    <tr>\n",
       "      <th>...</th>\n",
       "      <td>...</td>\n",
       "      <td>...</td>\n",
       "      <td>...</td>\n",
       "      <td>...</td>\n",
       "      <td>...</td>\n",
       "      <td>...</td>\n",
       "      <td>...</td>\n",
       "      <td>...</td>\n",
       "      <td>...</td>\n",
       "      <td>...</td>\n",
       "      <td>...</td>\n",
       "      <td>...</td>\n",
       "      <td>...</td>\n",
       "    </tr>\n",
       "    <tr>\n",
       "      <th>2597</th>\n",
       "      <td>226719</td>\n",
       "      <td>990.0</td>\n",
       "      <td>Ярославль</td>\n",
       "      <td>М</td>\n",
       "      <td>37.0</td>\n",
       "      <td>4</td>\n",
       "      <td>14648692.14</td>\n",
       "      <td>2</td>\n",
       "      <td>0</td>\n",
       "      <td>0</td>\n",
       "      <td>934412.61</td>\n",
       "      <td>1</td>\n",
       "      <td>2597</td>\n",
       "    </tr>\n",
       "    <tr>\n",
       "      <th>8205</th>\n",
       "      <td>227795</td>\n",
       "      <td>840.0</td>\n",
       "      <td>Рыбинск</td>\n",
       "      <td>М</td>\n",
       "      <td>34.0</td>\n",
       "      <td>2</td>\n",
       "      <td>350768.03</td>\n",
       "      <td>1</td>\n",
       "      <td>1</td>\n",
       "      <td>0</td>\n",
       "      <td>102036.14</td>\n",
       "      <td>1</td>\n",
       "      <td>8205</td>\n",
       "    </tr>\n",
       "    <tr>\n",
       "      <th>8497</th>\n",
       "      <td>227795</td>\n",
       "      <td>839.0</td>\n",
       "      <td>Ярославль</td>\n",
       "      <td>М</td>\n",
       "      <td>34.0</td>\n",
       "      <td>2</td>\n",
       "      <td>326593.14</td>\n",
       "      <td>2</td>\n",
       "      <td>1</td>\n",
       "      <td>0</td>\n",
       "      <td>103314.92</td>\n",
       "      <td>0</td>\n",
       "      <td>8497</td>\n",
       "    </tr>\n",
       "    <tr>\n",
       "      <th>6457</th>\n",
       "      <td>228075</td>\n",
       "      <td>839.0</td>\n",
       "      <td>Рыбинск</td>\n",
       "      <td>М</td>\n",
       "      <td>39.0</td>\n",
       "      <td>5</td>\n",
       "      <td>507199.85</td>\n",
       "      <td>3</td>\n",
       "      <td>0</td>\n",
       "      <td>1</td>\n",
       "      <td>85195.80</td>\n",
       "      <td>0</td>\n",
       "      <td>6457</td>\n",
       "    </tr>\n",
       "    <tr>\n",
       "      <th>1247</th>\n",
       "      <td>228075</td>\n",
       "      <td>932.0</td>\n",
       "      <td>Ярославль</td>\n",
       "      <td>М</td>\n",
       "      <td>NaN</td>\n",
       "      <td>5</td>\n",
       "      <td>7601719.20</td>\n",
       "      <td>2</td>\n",
       "      <td>1</td>\n",
       "      <td>1</td>\n",
       "      <td>408121.16</td>\n",
       "      <td>0</td>\n",
       "      <td>1247</td>\n",
       "    </tr>\n",
       "  </tbody>\n",
       "</table>\n",
       "<p>146 rows × 13 columns</p>\n",
       "</div>"
      ],
      "text/plain": [
       "      user_id  score       city gender   age  equity      balance  products  \\\n",
       "1893   116540  883.0    Рыбинск      Ж  55.0       1    362756.49         3   \n",
       "7694   116540  887.0  Ярославль      Ж  38.0       0          NaN         1   \n",
       "7542   117943  880.0  Ярославль      Ж  40.0       0          NaN         1   \n",
       "4866   117943  855.0    Рыбинск      Ж  32.0       6   1036832.93         4   \n",
       "5896   120258  905.0  Ярославль      М  30.0       0          NaN         1   \n",
       "...       ...    ...        ...    ...   ...     ...          ...       ...   \n",
       "2597   226719  990.0  Ярославль      М  37.0       4  14648692.14         2   \n",
       "8205   227795  840.0    Рыбинск      М  34.0       2    350768.03         1   \n",
       "8497   227795  839.0  Ярославль      М  34.0       2    326593.14         2   \n",
       "6457   228075  839.0    Рыбинск      М  39.0       5    507199.85         3   \n",
       "1247   228075  932.0  Ярославль      М   NaN       5   7601719.20         2   \n",
       "\n",
       "      credit_card  last_activity  est_salary  churn  index_id  \n",
       "1893            0              1   175920.48      1      1893  \n",
       "7694            0              1   119247.61      0      7694  \n",
       "7542            1              0   137718.93      0      7542  \n",
       "4866            1              1   107792.71      1      4866  \n",
       "5896            1              1   146427.96      0      5896  \n",
       "...           ...            ...         ...    ...       ...  \n",
       "2597            0              0   934412.61      1      2597  \n",
       "8205            1              0   102036.14      1      8205  \n",
       "8497            1              0   103314.92      0      8497  \n",
       "6457            0              1    85195.80      0      6457  \n",
       "1247            1              1   408121.16      0      1247  \n",
       "\n",
       "[146 rows x 13 columns]"
      ]
     },
     "execution_count": 13,
     "metadata": {},
     "output_type": "execute_result"
    }
   ],
   "source": [
    "bank['index_id'] = bank.index\n",
    "bank[bank.duplicated('user_id', keep=False) == True].sort_values(by='user_id')"
   ]
  },
  {
   "cell_type": "code",
   "execution_count": 14,
   "id": "8d91033d",
   "metadata": {},
   "outputs": [
    {
     "data": {
      "text/plain": [
       "['index_id',\n",
       " 'user_id',\n",
       " 'score',\n",
       " 'city',\n",
       " 'gender',\n",
       " 'age',\n",
       " 'equity',\n",
       " 'balance',\n",
       " 'products',\n",
       " 'credit_card',\n",
       " 'last_activity',\n",
       " 'est_salary',\n",
       " 'churn']"
      ]
     },
     "execution_count": 14,
     "metadata": {},
     "output_type": "execute_result"
    }
   ],
   "source": [
    "# making the new column first\n",
    "cols = bank.columns.tolist()\n",
    "cols = cols[-1:] + cols[:-1]\n",
    "cols"
   ]
  },
  {
   "cell_type": "code",
   "execution_count": 15,
   "id": "e62c09a3",
   "metadata": {},
   "outputs": [
    {
     "data": {
      "text/html": [
       "<div>\n",
       "<style scoped>\n",
       "    .dataframe tbody tr th:only-of-type {\n",
       "        vertical-align: middle;\n",
       "    }\n",
       "\n",
       "    .dataframe tbody tr th {\n",
       "        vertical-align: top;\n",
       "    }\n",
       "\n",
       "    .dataframe thead th {\n",
       "        text-align: right;\n",
       "    }\n",
       "</style>\n",
       "<table border=\"1\" class=\"dataframe\">\n",
       "  <thead>\n",
       "    <tr style=\"text-align: right;\">\n",
       "      <th></th>\n",
       "      <th>index_id</th>\n",
       "      <th>user_id</th>\n",
       "      <th>score</th>\n",
       "      <th>city</th>\n",
       "      <th>gender</th>\n",
       "      <th>age</th>\n",
       "      <th>equity</th>\n",
       "      <th>balance</th>\n",
       "      <th>products</th>\n",
       "      <th>credit_card</th>\n",
       "      <th>last_activity</th>\n",
       "      <th>est_salary</th>\n",
       "      <th>churn</th>\n",
       "    </tr>\n",
       "  </thead>\n",
       "  <tbody>\n",
       "    <tr>\n",
       "      <th>0</th>\n",
       "      <td>0</td>\n",
       "      <td>183012</td>\n",
       "      <td>850.0</td>\n",
       "      <td>Рыбинск</td>\n",
       "      <td>Ж</td>\n",
       "      <td>25.0</td>\n",
       "      <td>1</td>\n",
       "      <td>59214.82</td>\n",
       "      <td>2</td>\n",
       "      <td>0</td>\n",
       "      <td>1</td>\n",
       "      <td>75719.14</td>\n",
       "      <td>1</td>\n",
       "    </tr>\n",
       "    <tr>\n",
       "      <th>1</th>\n",
       "      <td>1</td>\n",
       "      <td>146556</td>\n",
       "      <td>861.0</td>\n",
       "      <td>Рыбинск</td>\n",
       "      <td>Ж</td>\n",
       "      <td>37.0</td>\n",
       "      <td>5</td>\n",
       "      <td>850594.33</td>\n",
       "      <td>3</td>\n",
       "      <td>1</td>\n",
       "      <td>0</td>\n",
       "      <td>86621.77</td>\n",
       "      <td>0</td>\n",
       "    </tr>\n",
       "    <tr>\n",
       "      <th>2</th>\n",
       "      <td>2</td>\n",
       "      <td>120722</td>\n",
       "      <td>892.0</td>\n",
       "      <td>Рыбинск</td>\n",
       "      <td>Ж</td>\n",
       "      <td>30.0</td>\n",
       "      <td>0</td>\n",
       "      <td>NaN</td>\n",
       "      <td>1</td>\n",
       "      <td>1</td>\n",
       "      <td>1</td>\n",
       "      <td>107683.34</td>\n",
       "      <td>0</td>\n",
       "    </tr>\n",
       "    <tr>\n",
       "      <th>3</th>\n",
       "      <td>3</td>\n",
       "      <td>225363</td>\n",
       "      <td>866.0</td>\n",
       "      <td>Ярославль</td>\n",
       "      <td>Ж</td>\n",
       "      <td>51.0</td>\n",
       "      <td>5</td>\n",
       "      <td>1524746.26</td>\n",
       "      <td>2</td>\n",
       "      <td>0</td>\n",
       "      <td>1</td>\n",
       "      <td>174423.53</td>\n",
       "      <td>1</td>\n",
       "    </tr>\n",
       "    <tr>\n",
       "      <th>4</th>\n",
       "      <td>4</td>\n",
       "      <td>157978</td>\n",
       "      <td>730.0</td>\n",
       "      <td>Ярославль</td>\n",
       "      <td>М</td>\n",
       "      <td>34.0</td>\n",
       "      <td>5</td>\n",
       "      <td>174.00</td>\n",
       "      <td>1</td>\n",
       "      <td>1</td>\n",
       "      <td>0</td>\n",
       "      <td>67353.16</td>\n",
       "      <td>1</td>\n",
       "    </tr>\n",
       "  </tbody>\n",
       "</table>\n",
       "</div>"
      ],
      "text/plain": [
       "   index_id  user_id  score       city gender   age  equity     balance  \\\n",
       "0         0   183012  850.0    Рыбинск      Ж  25.0       1    59214.82   \n",
       "1         1   146556  861.0    Рыбинск      Ж  37.0       5   850594.33   \n",
       "2         2   120722  892.0    Рыбинск      Ж  30.0       0         NaN   \n",
       "3         3   225363  866.0  Ярославль      Ж  51.0       5  1524746.26   \n",
       "4         4   157978  730.0  Ярославль      М  34.0       5      174.00   \n",
       "\n",
       "   products  credit_card  last_activity  est_salary  churn  \n",
       "0         2            0              1    75719.14      1  \n",
       "1         3            1              0    86621.77      0  \n",
       "2         1            1              1   107683.34      0  \n",
       "3         2            0              1   174423.53      1  \n",
       "4         1            1              0    67353.16      1  "
      ]
     },
     "execution_count": 15,
     "metadata": {},
     "output_type": "execute_result"
    }
   ],
   "source": [
    "bank = bank[cols]\n",
    "bank.head()"
   ]
  },
  {
   "cell_type": "code",
   "execution_count": 16,
   "id": "62cfb0f9",
   "metadata": {},
   "outputs": [
    {
     "data": {
      "text/plain": [
       "array(['Рыбинск', 'Ярославль', 'Ростов'], dtype=object)"
      ]
     },
     "execution_count": 16,
     "metadata": {},
     "output_type": "execute_result"
    }
   ],
   "source": [
    "# checking errors/typos in city names\n",
    "bank['city'].unique()"
   ]
  },
  {
   "cell_type": "code",
   "execution_count": 17,
   "id": "da27f2e5",
   "metadata": {},
   "outputs": [
    {
     "data": {
      "text/plain": [
       "array(['Ж', 'М'], dtype=object)"
      ]
     },
     "execution_count": 17,
     "metadata": {},
     "output_type": "execute_result"
    }
   ],
   "source": [
    "# checking for errors in the gender column\n",
    "bank['gender'].unique()"
   ]
  },
  {
   "cell_type": "code",
   "execution_count": 18,
   "id": "91c580be",
   "metadata": {},
   "outputs": [
    {
     "data": {
      "text/html": [
       "<div>\n",
       "<style scoped>\n",
       "    .dataframe tbody tr th:only-of-type {\n",
       "        vertical-align: middle;\n",
       "    }\n",
       "\n",
       "    .dataframe tbody tr th {\n",
       "        vertical-align: top;\n",
       "    }\n",
       "\n",
       "    .dataframe thead th {\n",
       "        text-align: right;\n",
       "    }\n",
       "</style>\n",
       "<table border=\"1\" class=\"dataframe\">\n",
       "  <thead>\n",
       "    <tr style=\"text-align: right;\">\n",
       "      <th></th>\n",
       "      <th>index_id</th>\n",
       "      <th>user_id</th>\n",
       "      <th>score</th>\n",
       "      <th>city</th>\n",
       "      <th>gender</th>\n",
       "      <th>age</th>\n",
       "      <th>equity</th>\n",
       "      <th>balance</th>\n",
       "      <th>products</th>\n",
       "      <th>credit_card</th>\n",
       "      <th>last_activity</th>\n",
       "      <th>est_salary</th>\n",
       "      <th>churn</th>\n",
       "    </tr>\n",
       "  </thead>\n",
       "  <tbody>\n",
       "    <tr>\n",
       "      <th>3900</th>\n",
       "      <td>3900</td>\n",
       "      <td>179831</td>\n",
       "      <td>730.0</td>\n",
       "      <td>Ярославль</td>\n",
       "      <td>М</td>\n",
       "      <td>18.0</td>\n",
       "      <td>0</td>\n",
       "      <td>0.0</td>\n",
       "      <td>2</td>\n",
       "      <td>1</td>\n",
       "      <td>1</td>\n",
       "      <td>64548.33</td>\n",
       "      <td>0</td>\n",
       "    </tr>\n",
       "    <tr>\n",
       "      <th>6757</th>\n",
       "      <td>6757</td>\n",
       "      <td>148456</td>\n",
       "      <td>813.0</td>\n",
       "      <td>Ярославль</td>\n",
       "      <td>М</td>\n",
       "      <td>20.0</td>\n",
       "      <td>2</td>\n",
       "      <td>0.0</td>\n",
       "      <td>2</td>\n",
       "      <td>1</td>\n",
       "      <td>0</td>\n",
       "      <td>23876.51</td>\n",
       "      <td>0</td>\n",
       "    </tr>\n",
       "  </tbody>\n",
       "</table>\n",
       "</div>"
      ],
      "text/plain": [
       "      index_id  user_id  score       city gender   age  equity  balance  \\\n",
       "3900      3900   179831  730.0  Ярославль      М  18.0       0      0.0   \n",
       "6757      6757   148456  813.0  Ярославль      М  20.0       2      0.0   \n",
       "\n",
       "      products  credit_card  last_activity  est_salary  churn  \n",
       "3900         2            1              1    64548.33      0  \n",
       "6757         2            1              0    23876.51      0  "
      ]
     },
     "execution_count": 18,
     "metadata": {},
     "output_type": "execute_result"
    }
   ],
   "source": [
    "# checking zero balances\n",
    "bank.query('balance == 0')"
   ]
  },
  {
   "cell_type": "code",
   "execution_count": 19,
   "id": "9f651fcb",
   "metadata": {},
   "outputs": [
    {
     "name": "stdout",
     "output_type": "stream",
     "text": [
      "2295\n"
     ]
    },
    {
     "data": {
      "text/html": [
       "<div>\n",
       "<style scoped>\n",
       "    .dataframe tbody tr th:only-of-type {\n",
       "        vertical-align: middle;\n",
       "    }\n",
       "\n",
       "    .dataframe tbody tr th {\n",
       "        vertical-align: top;\n",
       "    }\n",
       "\n",
       "    .dataframe thead th {\n",
       "        text-align: right;\n",
       "    }\n",
       "</style>\n",
       "<table border=\"1\" class=\"dataframe\">\n",
       "  <thead>\n",
       "    <tr style=\"text-align: right;\">\n",
       "      <th></th>\n",
       "      <th>index_id</th>\n",
       "      <th>user_id</th>\n",
       "      <th>score</th>\n",
       "      <th>city</th>\n",
       "      <th>gender</th>\n",
       "      <th>age</th>\n",
       "      <th>equity</th>\n",
       "      <th>balance</th>\n",
       "      <th>products</th>\n",
       "      <th>credit_card</th>\n",
       "      <th>last_activity</th>\n",
       "      <th>est_salary</th>\n",
       "      <th>churn</th>\n",
       "    </tr>\n",
       "  </thead>\n",
       "  <tbody>\n",
       "    <tr>\n",
       "      <th>2</th>\n",
       "      <td>2</td>\n",
       "      <td>120722</td>\n",
       "      <td>892.0</td>\n",
       "      <td>Рыбинск</td>\n",
       "      <td>Ж</td>\n",
       "      <td>30.0</td>\n",
       "      <td>0</td>\n",
       "      <td>NaN</td>\n",
       "      <td>1</td>\n",
       "      <td>1</td>\n",
       "      <td>1</td>\n",
       "      <td>107683.34</td>\n",
       "      <td>0</td>\n",
       "    </tr>\n",
       "    <tr>\n",
       "      <th>9</th>\n",
       "      <td>9</td>\n",
       "      <td>133130</td>\n",
       "      <td>906.0</td>\n",
       "      <td>Ярославль</td>\n",
       "      <td>Ж</td>\n",
       "      <td>67.0</td>\n",
       "      <td>0</td>\n",
       "      <td>NaN</td>\n",
       "      <td>1</td>\n",
       "      <td>0</td>\n",
       "      <td>1</td>\n",
       "      <td>238055.53</td>\n",
       "      <td>0</td>\n",
       "    </tr>\n",
       "    <tr>\n",
       "      <th>10</th>\n",
       "      <td>10</td>\n",
       "      <td>148929</td>\n",
       "      <td>927.0</td>\n",
       "      <td>Ростов</td>\n",
       "      <td>М</td>\n",
       "      <td>52.0</td>\n",
       "      <td>0</td>\n",
       "      <td>NaN</td>\n",
       "      <td>1</td>\n",
       "      <td>1</td>\n",
       "      <td>1</td>\n",
       "      <td>196820.07</td>\n",
       "      <td>0</td>\n",
       "    </tr>\n",
       "    <tr>\n",
       "      <th>11</th>\n",
       "      <td>11</td>\n",
       "      <td>172184</td>\n",
       "      <td>921.0</td>\n",
       "      <td>Ростов</td>\n",
       "      <td>М</td>\n",
       "      <td>41.0</td>\n",
       "      <td>0</td>\n",
       "      <td>NaN</td>\n",
       "      <td>1</td>\n",
       "      <td>1</td>\n",
       "      <td>1</td>\n",
       "      <td>217469.48</td>\n",
       "      <td>0</td>\n",
       "    </tr>\n",
       "    <tr>\n",
       "      <th>19</th>\n",
       "      <td>19</td>\n",
       "      <td>127034</td>\n",
       "      <td>922.0</td>\n",
       "      <td>Рыбинск</td>\n",
       "      <td>Ж</td>\n",
       "      <td>53.0</td>\n",
       "      <td>0</td>\n",
       "      <td>NaN</td>\n",
       "      <td>1</td>\n",
       "      <td>0</td>\n",
       "      <td>0</td>\n",
       "      <td>147094.82</td>\n",
       "      <td>0</td>\n",
       "    </tr>\n",
       "  </tbody>\n",
       "</table>\n",
       "</div>"
      ],
      "text/plain": [
       "    index_id  user_id  score       city gender   age  equity  balance  \\\n",
       "2          2   120722  892.0    Рыбинск      Ж  30.0       0      NaN   \n",
       "9          9   133130  906.0  Ярославль      Ж  67.0       0      NaN   \n",
       "10        10   148929  927.0     Ростов      М  52.0       0      NaN   \n",
       "11        11   172184  921.0     Ростов      М  41.0       0      NaN   \n",
       "19        19   127034  922.0    Рыбинск      Ж  53.0       0      NaN   \n",
       "\n",
       "    products  credit_card  last_activity  est_salary  churn  \n",
       "2          1            1              1   107683.34      0  \n",
       "9          1            0              1   238055.53      0  \n",
       "10         1            1              1   196820.07      0  \n",
       "11         1            1              1   217469.48      0  \n",
       "19         1            0              0   147094.82      0  "
      ]
     },
     "metadata": {},
     "output_type": "display_data"
    }
   ],
   "source": [
    "# checking null balances\n",
    "print(bank['balance'].isnull().sum())\n",
    "display(bank.query('balance.isnull()').head().sort_values(by='index_id'))"
   ]
  },
  {
   "cell_type": "markdown",
   "id": "da394d55",
   "metadata": {},
   "source": [
    "Unavailable balance with a valid client is odd, let's find out more information about these cells:"
   ]
  },
  {
   "cell_type": "code",
   "execution_count": 20,
   "id": "0e92a43d",
   "metadata": {},
   "outputs": [
    {
     "data": {
      "text/html": [
       "<style type=\"text/css\">\n",
       "</style>\n",
       "<table id=\"T_8532d\">\n",
       "  <thead>\n",
       "    <tr>\n",
       "      <th class=\"blank level0\" >&nbsp;</th>\n",
       "      <th id=\"T_8532d_level0_col0\" class=\"col_heading level0 col0\" >index_id</th>\n",
       "      <th id=\"T_8532d_level0_col1\" class=\"col_heading level0 col1\" >user_id</th>\n",
       "      <th id=\"T_8532d_level0_col2\" class=\"col_heading level0 col2\" >score</th>\n",
       "      <th id=\"T_8532d_level0_col3\" class=\"col_heading level0 col3\" >age</th>\n",
       "      <th id=\"T_8532d_level0_col4\" class=\"col_heading level0 col4\" >equity</th>\n",
       "      <th id=\"T_8532d_level0_col5\" class=\"col_heading level0 col5\" >balance</th>\n",
       "      <th id=\"T_8532d_level0_col6\" class=\"col_heading level0 col6\" >products</th>\n",
       "      <th id=\"T_8532d_level0_col7\" class=\"col_heading level0 col7\" >credit_card</th>\n",
       "      <th id=\"T_8532d_level0_col8\" class=\"col_heading level0 col8\" >last_activity</th>\n",
       "      <th id=\"T_8532d_level0_col9\" class=\"col_heading level0 col9\" >est_salary</th>\n",
       "      <th id=\"T_8532d_level0_col10\" class=\"col_heading level0 col10\" >churn</th>\n",
       "    </tr>\n",
       "  </thead>\n",
       "  <tbody>\n",
       "    <tr>\n",
       "      <th id=\"T_8532d_level0_row0\" class=\"row_heading level0 row0\" >count</th>\n",
       "      <td id=\"T_8532d_row0_col0\" class=\"data row0 col0\" >2295.000000</td>\n",
       "      <td id=\"T_8532d_row0_col1\" class=\"data row0 col1\" >2295.000000</td>\n",
       "      <td id=\"T_8532d_row0_col2\" class=\"data row0 col2\" >2295.000000</td>\n",
       "      <td id=\"T_8532d_row0_col3\" class=\"data row0 col3\" >2279.000000</td>\n",
       "      <td id=\"T_8532d_row0_col4\" class=\"data row0 col4\" >2295.000000</td>\n",
       "      <td id=\"T_8532d_row0_col5\" class=\"data row0 col5\" >0.000000</td>\n",
       "      <td id=\"T_8532d_row0_col6\" class=\"data row0 col6\" >2295.000000</td>\n",
       "      <td id=\"T_8532d_row0_col7\" class=\"data row0 col7\" >2295.000000</td>\n",
       "      <td id=\"T_8532d_row0_col8\" class=\"data row0 col8\" >2295.000000</td>\n",
       "      <td id=\"T_8532d_row0_col9\" class=\"data row0 col9\" >2295.000000</td>\n",
       "      <td id=\"T_8532d_row0_col10\" class=\"data row0 col10\" >2295.000000</td>\n",
       "    </tr>\n",
       "    <tr>\n",
       "      <th id=\"T_8532d_level0_row1\" class=\"row_heading level0 row1\" >mean</th>\n",
       "      <td id=\"T_8532d_row1_col0\" class=\"data row1 col0\" >4981.598693</td>\n",
       "      <td id=\"T_8532d_row1_col1\" class=\"data row1 col1\" >172069.447930</td>\n",
       "      <td id=\"T_8532d_row1_col2\" class=\"data row1 col2\" >865.352070</td>\n",
       "      <td id=\"T_8532d_row1_col3\" class=\"data row1 col3\" >42.093023</td>\n",
       "      <td id=\"T_8532d_row1_col4\" class=\"data row1 col4\" >0.050980</td>\n",
       "      <td id=\"T_8532d_row1_col5\" class=\"data row1 col5\" >nan</td>\n",
       "      <td id=\"T_8532d_row1_col6\" class=\"data row1 col6\" >1.162092</td>\n",
       "      <td id=\"T_8532d_row1_col7\" class=\"data row1 col7\" >0.815686</td>\n",
       "      <td id=\"T_8532d_row1_col8\" class=\"data row1 col8\" >0.549455</td>\n",
       "      <td id=\"T_8532d_row1_col9\" class=\"data row1 col9\" >226310.208654</td>\n",
       "      <td id=\"T_8532d_row1_col10\" class=\"data row1 col10\" >0.005664</td>\n",
       "    </tr>\n",
       "    <tr>\n",
       "      <th id=\"T_8532d_level0_row2\" class=\"row_heading level0 row2\" >std</th>\n",
       "      <td id=\"T_8532d_row2_col0\" class=\"data row2 col0\" >2881.329159</td>\n",
       "      <td id=\"T_8532d_row2_col1\" class=\"data row2 col1\" >33337.084589</td>\n",
       "      <td id=\"T_8532d_row2_col2\" class=\"data row2 col2\" >89.603091</td>\n",
       "      <td id=\"T_8532d_row2_col3\" class=\"data row2 col3\" >11.941551</td>\n",
       "      <td id=\"T_8532d_row2_col4\" class=\"data row2 col4\" >0.225872</td>\n",
       "      <td id=\"T_8532d_row2_col5\" class=\"data row2 col5\" >nan</td>\n",
       "      <td id=\"T_8532d_row2_col6\" class=\"data row2 col6\" >0.402532</td>\n",
       "      <td id=\"T_8532d_row2_col7\" class=\"data row2 col7\" >0.387824</td>\n",
       "      <td id=\"T_8532d_row2_col8\" class=\"data row2 col8\" >0.497657</td>\n",
       "      <td id=\"T_8532d_row2_col9\" class=\"data row2 col9\" >199771.793737</td>\n",
       "      <td id=\"T_8532d_row2_col10\" class=\"data row2 col10\" >0.075066</td>\n",
       "    </tr>\n",
       "    <tr>\n",
       "      <th id=\"T_8532d_level0_row3\" class=\"row_heading level0 row3\" >min</th>\n",
       "      <td id=\"T_8532d_row3_col0\" class=\"data row3 col0\" >2.000000</td>\n",
       "      <td id=\"T_8532d_row3_col1\" class=\"data row3 col1\" >114182.000000</td>\n",
       "      <td id=\"T_8532d_row3_col2\" class=\"data row3 col2\" >642.000000</td>\n",
       "      <td id=\"T_8532d_row3_col3\" class=\"data row3 col3\" >18.000000</td>\n",
       "      <td id=\"T_8532d_row3_col4\" class=\"data row3 col4\" >0.000000</td>\n",
       "      <td id=\"T_8532d_row3_col5\" class=\"data row3 col5\" >nan</td>\n",
       "      <td id=\"T_8532d_row3_col6\" class=\"data row3 col6\" >0.000000</td>\n",
       "      <td id=\"T_8532d_row3_col7\" class=\"data row3 col7\" >0.000000</td>\n",
       "      <td id=\"T_8532d_row3_col8\" class=\"data row3 col8\" >0.000000</td>\n",
       "      <td id=\"T_8532d_row3_col9\" class=\"data row3 col9\" >20274.030000</td>\n",
       "      <td id=\"T_8532d_row3_col10\" class=\"data row3 col10\" >0.000000</td>\n",
       "    </tr>\n",
       "    <tr>\n",
       "      <th id=\"T_8532d_level0_row4\" class=\"row_heading level0 row4\" >25%</th>\n",
       "      <td id=\"T_8532d_row4_col0\" class=\"data row4 col0\" >2503.000000</td>\n",
       "      <td id=\"T_8532d_row4_col1\" class=\"data row4 col1\" >143095.500000</td>\n",
       "      <td id=\"T_8532d_row4_col2\" class=\"data row4 col2\" >871.000000</td>\n",
       "      <td id=\"T_8532d_row4_col3\" class=\"data row4 col3\" >33.000000</td>\n",
       "      <td id=\"T_8532d_row4_col4\" class=\"data row4 col4\" >0.000000</td>\n",
       "      <td id=\"T_8532d_row4_col5\" class=\"data row4 col5\" >nan</td>\n",
       "      <td id=\"T_8532d_row4_col6\" class=\"data row4 col6\" >1.000000</td>\n",
       "      <td id=\"T_8532d_row4_col7\" class=\"data row4 col7\" >1.000000</td>\n",
       "      <td id=\"T_8532d_row4_col8\" class=\"data row4 col8\" >0.000000</td>\n",
       "      <td id=\"T_8532d_row4_col9\" class=\"data row4 col9\" >120347.700000</td>\n",
       "      <td id=\"T_8532d_row4_col10\" class=\"data row4 col10\" >0.000000</td>\n",
       "    </tr>\n",
       "    <tr>\n",
       "      <th id=\"T_8532d_level0_row5\" class=\"row_heading level0 row5\" >50%</th>\n",
       "      <td id=\"T_8532d_row5_col0\" class=\"data row5 col0\" >4900.000000</td>\n",
       "      <td id=\"T_8532d_row5_col1\" class=\"data row5 col1\" >172659.000000</td>\n",
       "      <td id=\"T_8532d_row5_col2\" class=\"data row5 col2\" >903.000000</td>\n",
       "      <td id=\"T_8532d_row5_col3\" class=\"data row5 col3\" >40.000000</td>\n",
       "      <td id=\"T_8532d_row5_col4\" class=\"data row5 col4\" >0.000000</td>\n",
       "      <td id=\"T_8532d_row5_col5\" class=\"data row5 col5\" >nan</td>\n",
       "      <td id=\"T_8532d_row5_col6\" class=\"data row5 col6\" >1.000000</td>\n",
       "      <td id=\"T_8532d_row5_col7\" class=\"data row5 col7\" >1.000000</td>\n",
       "      <td id=\"T_8532d_row5_col8\" class=\"data row5 col8\" >1.000000</td>\n",
       "      <td id=\"T_8532d_row5_col9\" class=\"data row5 col9\" >174160.680000</td>\n",
       "      <td id=\"T_8532d_row5_col10\" class=\"data row5 col10\" >0.000000</td>\n",
       "    </tr>\n",
       "    <tr>\n",
       "      <th id=\"T_8532d_level0_row6\" class=\"row_heading level0 row6\" >75%</th>\n",
       "      <td id=\"T_8532d_row6_col0\" class=\"data row6 col0\" >7464.500000</td>\n",
       "      <td id=\"T_8532d_row6_col1\" class=\"data row6 col1\" >201551.000000</td>\n",
       "      <td id=\"T_8532d_row6_col2\" class=\"data row6 col2\" >922.000000</td>\n",
       "      <td id=\"T_8532d_row6_col3\" class=\"data row6 col3\" >49.000000</td>\n",
       "      <td id=\"T_8532d_row6_col4\" class=\"data row6 col4\" >0.000000</td>\n",
       "      <td id=\"T_8532d_row6_col5\" class=\"data row6 col5\" >nan</td>\n",
       "      <td id=\"T_8532d_row6_col6\" class=\"data row6 col6\" >1.000000</td>\n",
       "      <td id=\"T_8532d_row6_col7\" class=\"data row6 col7\" >1.000000</td>\n",
       "      <td id=\"T_8532d_row6_col8\" class=\"data row6 col8\" >1.000000</td>\n",
       "      <td id=\"T_8532d_row6_col9\" class=\"data row6 col9\" >240014.995000</td>\n",
       "      <td id=\"T_8532d_row6_col10\" class=\"data row6 col10\" >0.000000</td>\n",
       "    </tr>\n",
       "    <tr>\n",
       "      <th id=\"T_8532d_level0_row7\" class=\"row_heading level0 row7\" >max</th>\n",
       "      <td id=\"T_8532d_row7_col0\" class=\"data row7 col0\" >9997.000000</td>\n",
       "      <td id=\"T_8532d_row7_col1\" class=\"data row7 col1\" >229145.000000</td>\n",
       "      <td id=\"T_8532d_row7_col2\" class=\"data row7 col2\" >990.000000</td>\n",
       "      <td id=\"T_8532d_row7_col3\" class=\"data row7 col3\" >86.000000</td>\n",
       "      <td id=\"T_8532d_row7_col4\" class=\"data row7 col4\" >3.000000</td>\n",
       "      <td id=\"T_8532d_row7_col5\" class=\"data row7 col5\" >nan</td>\n",
       "      <td id=\"T_8532d_row7_col6\" class=\"data row7 col6\" >3.000000</td>\n",
       "      <td id=\"T_8532d_row7_col7\" class=\"data row7 col7\" >1.000000</td>\n",
       "      <td id=\"T_8532d_row7_col8\" class=\"data row7 col8\" >1.000000</td>\n",
       "      <td id=\"T_8532d_row7_col9\" class=\"data row7 col9\" >1333687.360000</td>\n",
       "      <td id=\"T_8532d_row7_col10\" class=\"data row7 col10\" >1.000000</td>\n",
       "    </tr>\n",
       "  </tbody>\n",
       "</table>\n"
      ],
      "text/plain": [
       "<pandas.io.formats.style.Styler at 0x224f58e0250>"
      ]
     },
     "execution_count": 20,
     "metadata": {},
     "output_type": "execute_result"
    }
   ],
   "source": [
    "bank.query('balance.isnull()').describe().style.format({'est_salsry': '{:.2f}'})"
   ]
  },
  {
   "cell_type": "markdown",
   "id": "ab7f35e9",
   "metadata": {},
   "source": [
    "Such indicators as `equity` (number of ownership points), `products` (number of products used by the client) are lower for clients with nan balance. They use `credit cards` more often on average, and their `est_salary` (client's estimated income) is higher.\n",
    "Client's leaving is not related to balance blanks.  \n",
    "There is no reason to drop such records."
   ]
  },
  {
   "cell_type": "code",
   "execution_count": 21,
   "id": "e427e654",
   "metadata": {},
   "outputs": [
    {
     "data": {
      "text/html": [
       "<div>\n",
       "<style scoped>\n",
       "    .dataframe tbody tr th:only-of-type {\n",
       "        vertical-align: middle;\n",
       "    }\n",
       "\n",
       "    .dataframe tbody tr th {\n",
       "        vertical-align: top;\n",
       "    }\n",
       "\n",
       "    .dataframe thead th {\n",
       "        text-align: right;\n",
       "    }\n",
       "</style>\n",
       "<table border=\"1\" class=\"dataframe\">\n",
       "  <thead>\n",
       "    <tr style=\"text-align: right;\">\n",
       "      <th></th>\n",
       "      <th>index_id</th>\n",
       "      <th>user_id</th>\n",
       "      <th>score</th>\n",
       "      <th>city</th>\n",
       "      <th>gender</th>\n",
       "      <th>age</th>\n",
       "      <th>equity</th>\n",
       "      <th>balance</th>\n",
       "      <th>products</th>\n",
       "      <th>credit_card</th>\n",
       "      <th>last_activity</th>\n",
       "      <th>est_salary</th>\n",
       "      <th>churn</th>\n",
       "    </tr>\n",
       "  </thead>\n",
       "  <tbody>\n",
       "    <tr>\n",
       "      <th>8957</th>\n",
       "      <td>8957</td>\n",
       "      <td>147837</td>\n",
       "      <td>962.0</td>\n",
       "      <td>Рыбинск</td>\n",
       "      <td>Ж</td>\n",
       "      <td>79.0</td>\n",
       "      <td>3</td>\n",
       "      <td>NaN</td>\n",
       "      <td>0</td>\n",
       "      <td>0</td>\n",
       "      <td>0</td>\n",
       "      <td>25063.96</td>\n",
       "      <td>1</td>\n",
       "    </tr>\n",
       "  </tbody>\n",
       "</table>\n",
       "</div>"
      ],
      "text/plain": [
       "      index_id  user_id  score     city gender   age  equity  balance  \\\n",
       "8957      8957   147837  962.0  Рыбинск      Ж  79.0       3      NaN   \n",
       "\n",
       "      products  credit_card  last_activity  est_salary  churn  \n",
       "8957         0            0              0    25063.96      1  "
      ]
     },
     "execution_count": 21,
     "metadata": {},
     "output_type": "execute_result"
    }
   ],
   "source": [
    "# checking clients with 0 products\n",
    "bank.query('products == 0')"
   ]
  },
  {
   "cell_type": "markdown",
   "id": "ac09be89",
   "metadata": {},
   "source": [
    "We see that the customer with 0 products is old enough and has left the bank, it would be reasonable to remove him. "
   ]
  },
  {
   "cell_type": "code",
   "execution_count": 22,
   "id": "ad4d865f",
   "metadata": {},
   "outputs": [],
   "source": [
    "bank = bank.drop(index=8957)"
   ]
  },
  {
   "cell_type": "code",
   "execution_count": 23,
   "id": "5a62d9f8",
   "metadata": {},
   "outputs": [
    {
     "data": {
      "text/html": [
       "<div>\n",
       "<style scoped>\n",
       "    .dataframe tbody tr th:only-of-type {\n",
       "        vertical-align: middle;\n",
       "    }\n",
       "\n",
       "    .dataframe tbody tr th {\n",
       "        vertical-align: top;\n",
       "    }\n",
       "\n",
       "    .dataframe thead th {\n",
       "        text-align: right;\n",
       "    }\n",
       "</style>\n",
       "<table border=\"1\" class=\"dataframe\">\n",
       "  <thead>\n",
       "    <tr style=\"text-align: right;\">\n",
       "      <th></th>\n",
       "      <th>index_id</th>\n",
       "      <th>user_id</th>\n",
       "      <th>score</th>\n",
       "      <th>city</th>\n",
       "      <th>gender</th>\n",
       "      <th>age</th>\n",
       "      <th>equity</th>\n",
       "      <th>balance</th>\n",
       "      <th>products</th>\n",
       "      <th>credit_card</th>\n",
       "      <th>last_activity</th>\n",
       "      <th>est_salary</th>\n",
       "      <th>churn</th>\n",
       "    </tr>\n",
       "  </thead>\n",
       "  <tbody>\n",
       "  </tbody>\n",
       "</table>\n",
       "</div>"
      ],
      "text/plain": [
       "Empty DataFrame\n",
       "Columns: [index_id, user_id, score, city, gender, age, equity, balance, products, credit_card, last_activity, est_salary, churn]\n",
       "Index: []"
      ]
     },
     "execution_count": 23,
     "metadata": {},
     "output_type": "execute_result"
    }
   ],
   "source": [
    "# check\n",
    "bank.query('products == 0')"
   ]
  },
  {
   "cell_type": "code",
   "execution_count": 24,
   "id": "b0d3c429",
   "metadata": {},
   "outputs": [
    {
     "data": {
      "text/html": [
       "<div>\n",
       "<style scoped>\n",
       "    .dataframe tbody tr th:only-of-type {\n",
       "        vertical-align: middle;\n",
       "    }\n",
       "\n",
       "    .dataframe tbody tr th {\n",
       "        vertical-align: top;\n",
       "    }\n",
       "\n",
       "    .dataframe thead th {\n",
       "        text-align: right;\n",
       "    }\n",
       "</style>\n",
       "<table border=\"1\" class=\"dataframe\">\n",
       "  <thead>\n",
       "    <tr style=\"text-align: right;\">\n",
       "      <th></th>\n",
       "      <th>index_id</th>\n",
       "      <th>user_id</th>\n",
       "      <th>score</th>\n",
       "      <th>city</th>\n",
       "      <th>gender</th>\n",
       "      <th>age</th>\n",
       "      <th>equity</th>\n",
       "      <th>balance</th>\n",
       "      <th>products</th>\n",
       "      <th>credit_card</th>\n",
       "      <th>last_activity</th>\n",
       "      <th>est_salary</th>\n",
       "      <th>churn</th>\n",
       "    </tr>\n",
       "  </thead>\n",
       "  <tbody>\n",
       "    <tr>\n",
       "      <th>1753</th>\n",
       "      <td>1753</td>\n",
       "      <td>161271</td>\n",
       "      <td>836.0</td>\n",
       "      <td>Ярославль</td>\n",
       "      <td>Ж</td>\n",
       "      <td>19.0</td>\n",
       "      <td>4</td>\n",
       "      <td>7703.05</td>\n",
       "      <td>4</td>\n",
       "      <td>1</td>\n",
       "      <td>1</td>\n",
       "      <td>5043.14</td>\n",
       "      <td>0</td>\n",
       "    </tr>\n",
       "    <tr>\n",
       "      <th>2186</th>\n",
       "      <td>2186</td>\n",
       "      <td>201407</td>\n",
       "      <td>938.0</td>\n",
       "      <td>Рыбинск</td>\n",
       "      <td>Ж</td>\n",
       "      <td>69.0</td>\n",
       "      <td>1</td>\n",
       "      <td>325483.52</td>\n",
       "      <td>3</td>\n",
       "      <td>0</td>\n",
       "      <td>1</td>\n",
       "      <td>3487.33</td>\n",
       "      <td>0</td>\n",
       "    </tr>\n",
       "    <tr>\n",
       "      <th>4860</th>\n",
       "      <td>4860</td>\n",
       "      <td>193417</td>\n",
       "      <td>823.0</td>\n",
       "      <td>Ростов</td>\n",
       "      <td>Ж</td>\n",
       "      <td>64.0</td>\n",
       "      <td>2</td>\n",
       "      <td>277249.69</td>\n",
       "      <td>2</td>\n",
       "      <td>0</td>\n",
       "      <td>0</td>\n",
       "      <td>5341.50</td>\n",
       "      <td>0</td>\n",
       "    </tr>\n",
       "    <tr>\n",
       "      <th>8783</th>\n",
       "      <td>8783</td>\n",
       "      <td>114221</td>\n",
       "      <td>948.0</td>\n",
       "      <td>Ярославль</td>\n",
       "      <td>Ж</td>\n",
       "      <td>26.0</td>\n",
       "      <td>1</td>\n",
       "      <td>77092.89</td>\n",
       "      <td>1</td>\n",
       "      <td>1</td>\n",
       "      <td>0</td>\n",
       "      <td>2546.30</td>\n",
       "      <td>0</td>\n",
       "    </tr>\n",
       "  </tbody>\n",
       "</table>\n",
       "</div>"
      ],
      "text/plain": [
       "      index_id  user_id  score       city gender   age  equity    balance  \\\n",
       "1753      1753   161271  836.0  Ярославль      Ж  19.0       4    7703.05   \n",
       "2186      2186   201407  938.0    Рыбинск      Ж  69.0       1  325483.52   \n",
       "4860      4860   193417  823.0     Ростов      Ж  64.0       2  277249.69   \n",
       "8783      8783   114221  948.0  Ярославль      Ж  26.0       1   77092.89   \n",
       "\n",
       "      products  credit_card  last_activity  est_salary  churn  \n",
       "1753         4            1              1     5043.14      0  \n",
       "2186         3            0              1     3487.33      0  \n",
       "4860         2            0              0     5341.50      0  \n",
       "8783         1            1              0     2546.30      0  "
      ]
     },
     "execution_count": 24,
     "metadata": {},
     "output_type": "execute_result"
    }
   ],
   "source": [
    "# checking clients with a rather small salary\n",
    "bank.query('est_salary < 7000')"
   ]
  },
  {
   "cell_type": "markdown",
   "id": "e826b704",
   "metadata": {},
   "source": [
    "Well, it is interesting, by age half of users with income less than 7000 rubles are not retirees, women of retirement age have a decent amount on the balance, but the question with income is unanswered. The income of the younger ones in theory can be an increased scholarship or a part-time job.  \n",
    "I don't see the point in removing them, they use different products, younger ones have a credit card, older ones have several products."
   ]
  },
  {
   "cell_type": "markdown",
   "id": "83a2552c",
   "metadata": {},
   "source": [
    "## Exploratory Data Analysis"
   ]
  },
  {
   "cell_type": "markdown",
   "id": "56625d6e",
   "metadata": {},
   "source": [
    "Let's start with general churn:"
   ]
  },
  {
   "cell_type": "code",
   "execution_count": 25,
   "id": "25d1693d",
   "metadata": {},
   "outputs": [
    {
     "data": {
      "text/html": [
       "<div>\n",
       "<style scoped>\n",
       "    .dataframe tbody tr th:only-of-type {\n",
       "        vertical-align: middle;\n",
       "    }\n",
       "\n",
       "    .dataframe tbody tr th {\n",
       "        vertical-align: top;\n",
       "    }\n",
       "\n",
       "    .dataframe thead th {\n",
       "        text-align: right;\n",
       "    }\n",
       "</style>\n",
       "<table border=\"1\" class=\"dataframe\">\n",
       "  <thead>\n",
       "    <tr style=\"text-align: right;\">\n",
       "      <th></th>\n",
       "      <th>index_id</th>\n",
       "      <th>user_id</th>\n",
       "      <th>score</th>\n",
       "      <th>city</th>\n",
       "      <th>gender</th>\n",
       "      <th>age</th>\n",
       "      <th>equity</th>\n",
       "      <th>balance</th>\n",
       "      <th>products</th>\n",
       "      <th>credit_card</th>\n",
       "      <th>last_activity</th>\n",
       "      <th>est_salary</th>\n",
       "      <th>churn</th>\n",
       "    </tr>\n",
       "  </thead>\n",
       "  <tbody>\n",
       "    <tr>\n",
       "      <th>0</th>\n",
       "      <td>0</td>\n",
       "      <td>183012</td>\n",
       "      <td>850.0</td>\n",
       "      <td>Рыбинск</td>\n",
       "      <td>Ж</td>\n",
       "      <td>25.0</td>\n",
       "      <td>1</td>\n",
       "      <td>59214.82</td>\n",
       "      <td>2</td>\n",
       "      <td>0</td>\n",
       "      <td>1</td>\n",
       "      <td>75719.14</td>\n",
       "      <td>1</td>\n",
       "    </tr>\n",
       "    <tr>\n",
       "      <th>3</th>\n",
       "      <td>3</td>\n",
       "      <td>225363</td>\n",
       "      <td>866.0</td>\n",
       "      <td>Ярославль</td>\n",
       "      <td>Ж</td>\n",
       "      <td>51.0</td>\n",
       "      <td>5</td>\n",
       "      <td>1524746.26</td>\n",
       "      <td>2</td>\n",
       "      <td>0</td>\n",
       "      <td>1</td>\n",
       "      <td>174423.53</td>\n",
       "      <td>1</td>\n",
       "    </tr>\n",
       "    <tr>\n",
       "      <th>4</th>\n",
       "      <td>4</td>\n",
       "      <td>157978</td>\n",
       "      <td>730.0</td>\n",
       "      <td>Ярославль</td>\n",
       "      <td>М</td>\n",
       "      <td>34.0</td>\n",
       "      <td>5</td>\n",
       "      <td>174.00</td>\n",
       "      <td>1</td>\n",
       "      <td>1</td>\n",
       "      <td>0</td>\n",
       "      <td>67353.16</td>\n",
       "      <td>1</td>\n",
       "    </tr>\n",
       "    <tr>\n",
       "      <th>12</th>\n",
       "      <td>12</td>\n",
       "      <td>132970</td>\n",
       "      <td>845.0</td>\n",
       "      <td>Ярославль</td>\n",
       "      <td>Ж</td>\n",
       "      <td>31.0</td>\n",
       "      <td>3</td>\n",
       "      <td>591928.52</td>\n",
       "      <td>2</td>\n",
       "      <td>1</td>\n",
       "      <td>1</td>\n",
       "      <td>112697.16</td>\n",
       "      <td>1</td>\n",
       "    </tr>\n",
       "    <tr>\n",
       "      <th>40</th>\n",
       "      <td>40</td>\n",
       "      <td>129705</td>\n",
       "      <td>811.0</td>\n",
       "      <td>Рыбинск</td>\n",
       "      <td>М</td>\n",
       "      <td>34.0</td>\n",
       "      <td>2</td>\n",
       "      <td>129799.35</td>\n",
       "      <td>1</td>\n",
       "      <td>0</td>\n",
       "      <td>0</td>\n",
       "      <td>96242.71</td>\n",
       "      <td>1</td>\n",
       "    </tr>\n",
       "  </tbody>\n",
       "</table>\n",
       "</div>"
      ],
      "text/plain": [
       "    index_id  user_id  score       city gender   age  equity     balance  \\\n",
       "0          0   183012  850.0    Рыбинск      Ж  25.0       1    59214.82   \n",
       "3          3   225363  866.0  Ярославль      Ж  51.0       5  1524746.26   \n",
       "4          4   157978  730.0  Ярославль      М  34.0       5      174.00   \n",
       "12        12   132970  845.0  Ярославль      Ж  31.0       3   591928.52   \n",
       "40        40   129705  811.0    Рыбинск      М  34.0       2   129799.35   \n",
       "\n",
       "    products  credit_card  last_activity  est_salary  churn  \n",
       "0          2            0              1    75719.14      1  \n",
       "3          2            0              1   174423.53      1  \n",
       "4          1            1              0    67353.16      1  \n",
       "12         2            1              1   112697.16      1  \n",
       "40         1            0              0    96242.71      1  "
      ]
     },
     "metadata": {},
     "output_type": "display_data"
    },
    {
     "name": "stdout",
     "output_type": "stream",
     "text": [
      "Clients left: 1819 out of 9999.\n",
      "Churn share: 18.2%.\n"
     ]
    }
   ],
   "source": [
    "# picking off the clients who've left\n",
    "churn = bank.query('churn == 1')\n",
    "display(churn.head())\n",
    "\n",
    "churn_cnt = churn['index_id'].count()\n",
    "\n",
    "user_cnt = bank['churn'].count()\n",
    "\n",
    "print('Clients left: ' + str(churn_cnt) + ' out of ' + str(user_cnt) + '.')\n",
    "print('Churn share: ' + str(round(churn_cnt / user_cnt * 100, 1)) + '%.')"
   ]
  },
  {
   "cell_type": "markdown",
   "id": "2ba24e8c",
   "metadata": {},
   "source": [
    "Let's look at the distribution of probability density to determine the churn values of the remaining quantitative characteristics:"
   ]
  },
  {
   "cell_type": "code",
   "execution_count": 26,
   "id": "816e2d9e",
   "metadata": {},
   "outputs": [
    {
     "data": {
      "image/png": "[encoded data removed]",
      "text/plain": [
       "<Figure size 2000x1000 with 1 Axes>"
      ]
     },
     "metadata": {},
     "output_type": "display_data"
    }
   ],
   "source": [
    "plt.figure(figsize=(20, 10))\n",
    "ax=sns.histplot(data=bank, x='score', hue='churn', stat='density', common_norm=False, palette='cool')\n",
    "plt.title(f'Distribution of churn and non-churn customers by score')\n",
    "plt.show()"
   ]
  },
  {
   "cell_type": "code",
   "execution_count": 27,
   "id": "1a3127c8",
   "metadata": {},
   "outputs": [
    {
     "data": {
      "image/png": "[encoded data removed]",
      "text/plain": [
       "<Figure size 2000x1000 with 1 Axes>"
      ]
     },
     "metadata": {},
     "output_type": "display_data"
    }
   ],
   "source": [
    "plt.figure(figsize=(20, 10))\n",
    "ax=sns.histplot(data=bank, x='age', hue='churn', stat='density', common_norm=False, palette='cool')\n",
    "plt.title(f'Distribution of churn and non-churn customers by age')\n",
    "plt.show()"
   ]
  },
  {
   "cell_type": "code",
   "execution_count": 28,
   "id": "4d9342e6",
   "metadata": {},
   "outputs": [
    {
     "data": {
      "image/png": "[encoded data removed]",
      "text/plain": [
       "<Figure size 2000x1000 with 1 Axes>"
      ]
     },
     "metadata": {},
     "output_type": "display_data"
    }
   ],
   "source": [
    "plt.figure(figsize=(20, 10))\n",
    "ax=sns.histplot(data=bank, x='balance', hue='churn', stat='density', common_norm=False, palette='cool')\n",
    "plt.title(f'Distribution of churn and non-churn customers by balance')\n",
    "plt.ticklabel_format(style='plain')\n",
    "plt.xlim(0, 4000000)\n",
    "plt.show()"
   ]
  },
  {
   "cell_type": "code",
   "execution_count": 29,
   "id": "d1af14cb",
   "metadata": {},
   "outputs": [
    {
     "data": {
      "image/png": "[encoded data removed]",
      "text/plain": [
       "<Figure size 2000x1000 with 1 Axes>"
      ]
     },
     "metadata": {},
     "output_type": "display_data"
    }
   ],
   "source": [
    "plt.figure(figsize=(20, 10))\n",
    "ax=sns.histplot(data=bank, x='est_salary', hue='churn', stat='density', common_norm=False, palette='cool')\n",
    "plt.title(f'Distribution of churn and non-churn customers by est_salary')\n",
    "plt.ticklabel_format(style='plain')\n",
    "plt.xlim(0, 400000)\n",
    "plt.show()"
   ]
  },
  {
   "cell_type": "markdown",
   "id": "0252da26",
   "metadata": {},
   "source": [
    "**Summary:**  \n",
    "Thanks to the distribution, we can notice:  \n",
    "- a rather large dependence of the clients' outflow on the score criterion,   \n",
    "- in terms of age, the dependence is not so strong, but we can distinguish the outflow at the age of 25-35 and 50-60 years old,  \n",
    "- by balance criterion, clients with average balance leave more,  \n",
    "- est_salary criterion is not significant."
   ]
  },
  {
   "cell_type": "markdown",
   "id": "5f3970fc",
   "metadata": {},
   "source": [
    "**Using the Phik library, let's see the correlation of churn customers by categorical attributes:**"
   ]
  },
  {
   "cell_type": "markdown",
   "id": "b064b341",
   "metadata": {},
   "source": [
    "Let's set only appropriate columns for correlation:"
   ]
  },
  {
   "cell_type": "code",
   "execution_count": 30,
   "id": "1f6c3771",
   "metadata": {
    "scrolled": false
   },
   "outputs": [
    {
     "name": "stdout",
     "output_type": "stream",
     "text": [
      "interval columns not set, guessing: ['score', 'age', 'equity', 'balance', 'products', 'credit_card', 'last_activity', 'est_salary', 'churn']\n"
     ]
    },
    {
     "data": {
      "text/html": [
       "<div>\n",
       "<style scoped>\n",
       "    .dataframe tbody tr th:only-of-type {\n",
       "        vertical-align: middle;\n",
       "    }\n",
       "\n",
       "    .dataframe tbody tr th {\n",
       "        vertical-align: top;\n",
       "    }\n",
       "\n",
       "    .dataframe thead th {\n",
       "        text-align: right;\n",
       "    }\n",
       "</style>\n",
       "<table border=\"1\" class=\"dataframe\">\n",
       "  <thead>\n",
       "    <tr style=\"text-align: right;\">\n",
       "      <th></th>\n",
       "      <th>score</th>\n",
       "      <th>city</th>\n",
       "      <th>gender</th>\n",
       "      <th>age</th>\n",
       "      <th>equity</th>\n",
       "      <th>balance</th>\n",
       "      <th>products</th>\n",
       "      <th>credit_card</th>\n",
       "      <th>last_activity</th>\n",
       "      <th>est_salary</th>\n",
       "      <th>churn</th>\n",
       "    </tr>\n",
       "  </thead>\n",
       "  <tbody>\n",
       "    <tr>\n",
       "      <th>score</th>\n",
       "      <td>1.00</td>\n",
       "      <td>0.09</td>\n",
       "      <td>0.07</td>\n",
       "      <td>0.04</td>\n",
       "      <td>0.53</td>\n",
       "      <td>0.17</td>\n",
       "      <td>0.42</td>\n",
       "      <td>0.21</td>\n",
       "      <td>0.05</td>\n",
       "      <td>0.40</td>\n",
       "      <td>0.23</td>\n",
       "    </tr>\n",
       "    <tr>\n",
       "      <th>city</th>\n",
       "      <td>0.09</td>\n",
       "      <td>1.00</td>\n",
       "      <td>0.01</td>\n",
       "      <td>0.09</td>\n",
       "      <td>0.06</td>\n",
       "      <td>0.04</td>\n",
       "      <td>0.12</td>\n",
       "      <td>0.07</td>\n",
       "      <td>0.03</td>\n",
       "      <td>0.17</td>\n",
       "      <td>0.02</td>\n",
       "    </tr>\n",
       "    <tr>\n",
       "      <th>gender</th>\n",
       "      <td>0.07</td>\n",
       "      <td>0.01</td>\n",
       "      <td>1.00</td>\n",
       "      <td>0.29</td>\n",
       "      <td>0.06</td>\n",
       "      <td>0.05</td>\n",
       "      <td>0.07</td>\n",
       "      <td>0.20</td>\n",
       "      <td>0.01</td>\n",
       "      <td>0.14</td>\n",
       "      <td>0.22</td>\n",
       "    </tr>\n",
       "    <tr>\n",
       "      <th>age</th>\n",
       "      <td>0.04</td>\n",
       "      <td>0.09</td>\n",
       "      <td>0.29</td>\n",
       "      <td>1.00</td>\n",
       "      <td>0.04</td>\n",
       "      <td>0.02</td>\n",
       "      <td>0.14</td>\n",
       "      <td>0.16</td>\n",
       "      <td>0.09</td>\n",
       "      <td>0.36</td>\n",
       "      <td>0.18</td>\n",
       "    </tr>\n",
       "    <tr>\n",
       "      <th>equity</th>\n",
       "      <td>0.53</td>\n",
       "      <td>0.06</td>\n",
       "      <td>0.06</td>\n",
       "      <td>0.04</td>\n",
       "      <td>1.00</td>\n",
       "      <td>0.00</td>\n",
       "      <td>0.58</td>\n",
       "      <td>0.22</td>\n",
       "      <td>0.05</td>\n",
       "      <td>0.29</td>\n",
       "      <td>0.35</td>\n",
       "    </tr>\n",
       "    <tr>\n",
       "      <th>balance</th>\n",
       "      <td>0.17</td>\n",
       "      <td>0.04</td>\n",
       "      <td>0.05</td>\n",
       "      <td>0.02</td>\n",
       "      <td>0.00</td>\n",
       "      <td>1.00</td>\n",
       "      <td>0.00</td>\n",
       "      <td>0.00</td>\n",
       "      <td>0.00</td>\n",
       "      <td>0.37</td>\n",
       "      <td>0.02</td>\n",
       "    </tr>\n",
       "    <tr>\n",
       "      <th>products</th>\n",
       "      <td>0.42</td>\n",
       "      <td>0.12</td>\n",
       "      <td>0.07</td>\n",
       "      <td>0.14</td>\n",
       "      <td>0.58</td>\n",
       "      <td>0.00</td>\n",
       "      <td>1.00</td>\n",
       "      <td>0.27</td>\n",
       "      <td>0.11</td>\n",
       "      <td>0.22</td>\n",
       "      <td>0.26</td>\n",
       "    </tr>\n",
       "    <tr>\n",
       "      <th>credit_card</th>\n",
       "      <td>0.21</td>\n",
       "      <td>0.07</td>\n",
       "      <td>0.20</td>\n",
       "      <td>0.16</td>\n",
       "      <td>0.22</td>\n",
       "      <td>0.00</td>\n",
       "      <td>0.27</td>\n",
       "      <td>1.00</td>\n",
       "      <td>0.05</td>\n",
       "      <td>0.04</td>\n",
       "      <td>0.20</td>\n",
       "    </tr>\n",
       "    <tr>\n",
       "      <th>last_activity</th>\n",
       "      <td>0.05</td>\n",
       "      <td>0.03</td>\n",
       "      <td>0.01</td>\n",
       "      <td>0.09</td>\n",
       "      <td>0.05</td>\n",
       "      <td>0.00</td>\n",
       "      <td>0.11</td>\n",
       "      <td>0.05</td>\n",
       "      <td>1.00</td>\n",
       "      <td>0.05</td>\n",
       "      <td>0.26</td>\n",
       "    </tr>\n",
       "    <tr>\n",
       "      <th>est_salary</th>\n",
       "      <td>0.40</td>\n",
       "      <td>0.17</td>\n",
       "      <td>0.14</td>\n",
       "      <td>0.36</td>\n",
       "      <td>0.29</td>\n",
       "      <td>0.37</td>\n",
       "      <td>0.22</td>\n",
       "      <td>0.04</td>\n",
       "      <td>0.05</td>\n",
       "      <td>1.00</td>\n",
       "      <td>0.05</td>\n",
       "    </tr>\n",
       "    <tr>\n",
       "      <th>churn</th>\n",
       "      <td>0.23</td>\n",
       "      <td>0.02</td>\n",
       "      <td>0.22</td>\n",
       "      <td>0.18</td>\n",
       "      <td>0.35</td>\n",
       "      <td>0.02</td>\n",
       "      <td>0.26</td>\n",
       "      <td>0.20</td>\n",
       "      <td>0.26</td>\n",
       "      <td>0.05</td>\n",
       "      <td>1.00</td>\n",
       "    </tr>\n",
       "  </tbody>\n",
       "</table>\n",
       "</div>"
      ],
      "text/plain": [
       "               score  city  gender   age  equity  balance  products  \\\n",
       "score           1.00  0.09    0.07  0.04    0.53     0.17      0.42   \n",
       "city            0.09  1.00    0.01  0.09    0.06     0.04      0.12   \n",
       "gender          0.07  0.01    1.00  0.29    0.06     0.05      0.07   \n",
       "age             0.04  0.09    0.29  1.00    0.04     0.02      0.14   \n",
       "equity          0.53  0.06    0.06  0.04    1.00     0.00      0.58   \n",
       "balance         0.17  0.04    0.05  0.02    0.00     1.00      0.00   \n",
       "products        0.42  0.12    0.07  0.14    0.58     0.00      1.00   \n",
       "credit_card     0.21  0.07    0.20  0.16    0.22     0.00      0.27   \n",
       "last_activity   0.05  0.03    0.01  0.09    0.05     0.00      0.11   \n",
       "est_salary      0.40  0.17    0.14  0.36    0.29     0.37      0.22   \n",
       "churn           0.23  0.02    0.22  0.18    0.35     0.02      0.26   \n",
       "\n",
       "               credit_card  last_activity  est_salary  churn  \n",
       "score                 0.21           0.05        0.40   0.23  \n",
       "city                  0.07           0.03        0.17   0.02  \n",
       "gender                0.20           0.01        0.14   0.22  \n",
       "age                   0.16           0.09        0.36   0.18  \n",
       "equity                0.22           0.05        0.29   0.35  \n",
       "balance               0.00           0.00        0.37   0.02  \n",
       "products              0.27           0.11        0.22   0.26  \n",
       "credit_card           1.00           0.05        0.04   0.20  \n",
       "last_activity         0.05           1.00        0.05   0.26  \n",
       "est_salary            0.04           0.05        1.00   0.05  \n",
       "churn                 0.20           0.26        0.05   1.00  "
      ]
     },
     "execution_count": 30,
     "metadata": {},
     "output_type": "execute_result"
    }
   ],
   "source": [
    "phik_overview = bank.drop(columns=['index_id','user_id']).phik_matrix()\n",
    "phik_overview.round(2)"
   ]
  },
  {
   "cell_type": "code",
   "execution_count": 31,
   "id": "74951390",
   "metadata": {},
   "outputs": [
    {
     "data": {
      "image/png": "[encoded data removed]",
      "text/plain": [
       "<Figure size 1500x1000 with 2 Axes>"
      ]
     },
     "metadata": {},
     "output_type": "display_data"
    }
   ],
   "source": [
    "# plotting heatmap\n",
    "plot_correlation_matrix(phik_overview.values, \n",
    "                        x_labels=phik_overview.columns, \n",
    "                        y_labels=phik_overview.index, \n",
    "                        vmin=0, vmax=1, color_map='cool', \n",
    "                        title = 'Correlation matrix by Phik', \n",
    "                        figsize=(15, 10))\n",
    "plt.xticks(rotation = 45)\n",
    "plt.tight_layout();"
   ]
  },
  {
   "cell_type": "markdown",
   "id": "dc2905c1",
   "metadata": {},
   "source": [
    "The dependence of customer churn on the following indicators (in descending order) is tracked:  \n",
    "- equity (number of ownership points),\n",
    "- products (bank products used),\n",
    "- last_activity (user activity),  \n",
    "- score (credit scoring points),\n",
    "- gender,  \n",
    "- credit_card,  \n",
    "- age."
   ]
  },
  {
   "cell_type": "markdown",
   "id": "17f2f3ce",
   "metadata": {},
   "source": [
    "### Let's look at each indicator separately"
   ]
  },
  {
   "cell_type": "code",
   "execution_count": 32,
   "id": "23e93898",
   "metadata": {},
   "outputs": [
    {
     "data": {
      "text/html": [
       "<div>\n",
       "<style scoped>\n",
       "    .dataframe tbody tr th:only-of-type {\n",
       "        vertical-align: middle;\n",
       "    }\n",
       "\n",
       "    .dataframe tbody tr th {\n",
       "        vertical-align: top;\n",
       "    }\n",
       "\n",
       "    .dataframe thead th {\n",
       "        text-align: right;\n",
       "    }\n",
       "</style>\n",
       "<table border=\"1\" class=\"dataframe\">\n",
       "  <thead>\n",
       "    <tr style=\"text-align: right;\">\n",
       "      <th></th>\n",
       "      <th>sum_churn</th>\n",
       "      <th>count_churn</th>\n",
       "      <th>pct</th>\n",
       "    </tr>\n",
       "    <tr>\n",
       "      <th>equity</th>\n",
       "      <th></th>\n",
       "      <th></th>\n",
       "      <th></th>\n",
       "    </tr>\n",
       "  </thead>\n",
       "  <tbody>\n",
       "    <tr>\n",
       "      <th>9</th>\n",
       "      <td>7</td>\n",
       "      <td>13</td>\n",
       "      <td>53.8</td>\n",
       "    </tr>\n",
       "    <tr>\n",
       "      <th>7</th>\n",
       "      <td>37</td>\n",
       "      <td>80</td>\n",
       "      <td>46.2</td>\n",
       "    </tr>\n",
       "    <tr>\n",
       "      <th>6</th>\n",
       "      <td>58</td>\n",
       "      <td>161</td>\n",
       "      <td>36.0</td>\n",
       "    </tr>\n",
       "    <tr>\n",
       "      <th>8</th>\n",
       "      <td>6</td>\n",
       "      <td>17</td>\n",
       "      <td>35.3</td>\n",
       "    </tr>\n",
       "    <tr>\n",
       "      <th>5</th>\n",
       "      <td>577</td>\n",
       "      <td>1918</td>\n",
       "      <td>30.1</td>\n",
       "    </tr>\n",
       "    <tr>\n",
       "      <th>4</th>\n",
       "      <td>464</td>\n",
       "      <td>1850</td>\n",
       "      <td>25.1</td>\n",
       "    </tr>\n",
       "    <tr>\n",
       "      <th>3</th>\n",
       "      <td>321</td>\n",
       "      <td>1542</td>\n",
       "      <td>20.8</td>\n",
       "    </tr>\n",
       "    <tr>\n",
       "      <th>2</th>\n",
       "      <td>166</td>\n",
       "      <td>1052</td>\n",
       "      <td>15.8</td>\n",
       "    </tr>\n",
       "    <tr>\n",
       "      <th>1</th>\n",
       "      <td>93</td>\n",
       "      <td>774</td>\n",
       "      <td>12.0</td>\n",
       "    </tr>\n",
       "    <tr>\n",
       "      <th>0</th>\n",
       "      <td>90</td>\n",
       "      <td>2592</td>\n",
       "      <td>3.5</td>\n",
       "    </tr>\n",
       "  </tbody>\n",
       "</table>\n",
       "</div>"
      ],
      "text/plain": [
       "        sum_churn  count_churn   pct\n",
       "equity                              \n",
       "9               7           13  53.8\n",
       "7              37           80  46.2\n",
       "6              58          161  36.0\n",
       "8               6           17  35.3\n",
       "5             577         1918  30.1\n",
       "4             464         1850  25.1\n",
       "3             321         1542  20.8\n",
       "2             166         1052  15.8\n",
       "1              93          774  12.0\n",
       "0              90         2592   3.5"
      ]
     },
     "execution_count": 32,
     "metadata": {},
     "output_type": "execute_result"
    }
   ],
   "source": [
    "# equity (number of ownership points)\n",
    "churn_by_equity = bank.pivot_table(index='equity', values='churn', aggfunc=['sum', 'count'])\n",
    "churn_by_equity.columns = churn_by_equity.columns.map(lambda index: f'{index[0]}_{index[1]}')\n",
    "churn_by_equity['pct'] = round(churn_by_equity['sum_churn']/churn_by_equity['count_churn']*100, 1)\n",
    "churn_by_equity.sort_values('pct', ascending=False)"
   ]
  },
  {
   "cell_type": "code",
   "execution_count": 33,
   "id": "18ec5708",
   "metadata": {},
   "outputs": [
    {
     "data": {
      "image/png": "[encoded data removed]",
      "text/plain": [
       "<Figure size 1500x1000 with 1 Axes>"
      ]
     },
     "metadata": {},
     "output_type": "display_data"
    }
   ],
   "source": [
    "# plotting the churn visualisation depending on the number of property points\n",
    "churn_by_equity['pct'].sort_values(ascending=False).plot(\n",
    "        kind='bar', color='magenta', title='% churn on equity')\n",
    "plt.xticks(rotation=0)\n",
    "plt.xlabel('Property points')\n",
    "plt.ylabel('Number of clients quit')\n",
    "\n",
    "plt.legend('%');"
   ]
  },
  {
   "cell_type": "markdown",
   "id": "953e2ba7",
   "metadata": {},
   "source": [
    "The graph shows an almost direct correlation between the probability of client churn depending on the number of ownership points:  \n",
    "- the number of churned customers with 9 ownership points 53.8% (overall, the share is small),  \n",
    "- the largest share of users with 5 ownership points, churn rate 30.1%,  \n",
    "- the least churn rate is given by clients with 0 ownership points, 3.5% (the share is relatively small)"
   ]
  },
  {
   "cell_type": "code",
   "execution_count": 34,
   "id": "7d6adb31",
   "metadata": {},
   "outputs": [
    {
     "data": {
      "text/html": [
       "<div>\n",
       "<style scoped>\n",
       "    .dataframe tbody tr th:only-of-type {\n",
       "        vertical-align: middle;\n",
       "    }\n",
       "\n",
       "    .dataframe tbody tr th {\n",
       "        vertical-align: top;\n",
       "    }\n",
       "\n",
       "    .dataframe thead th {\n",
       "        text-align: right;\n",
       "    }\n",
       "</style>\n",
       "<table border=\"1\" class=\"dataframe\">\n",
       "  <thead>\n",
       "    <tr style=\"text-align: right;\">\n",
       "      <th></th>\n",
       "      <th>sum_churn</th>\n",
       "      <th>count_churn</th>\n",
       "      <th>pct</th>\n",
       "    </tr>\n",
       "    <tr>\n",
       "      <th>products</th>\n",
       "      <th></th>\n",
       "      <th></th>\n",
       "      <th></th>\n",
       "    </tr>\n",
       "  </thead>\n",
       "  <tbody>\n",
       "    <tr>\n",
       "      <th>4</th>\n",
       "      <td>300</td>\n",
       "      <td>474</td>\n",
       "      <td>63.3</td>\n",
       "    </tr>\n",
       "    <tr>\n",
       "      <th>5</th>\n",
       "      <td>8</td>\n",
       "      <td>19</td>\n",
       "      <td>42.1</td>\n",
       "    </tr>\n",
       "    <tr>\n",
       "      <th>3</th>\n",
       "      <td>297</td>\n",
       "      <td>1039</td>\n",
       "      <td>28.6</td>\n",
       "    </tr>\n",
       "    <tr>\n",
       "      <th>2</th>\n",
       "      <td>979</td>\n",
       "      <td>5126</td>\n",
       "      <td>19.1</td>\n",
       "    </tr>\n",
       "    <tr>\n",
       "      <th>1</th>\n",
       "      <td>235</td>\n",
       "      <td>3341</td>\n",
       "      <td>7.0</td>\n",
       "    </tr>\n",
       "  </tbody>\n",
       "</table>\n",
       "</div>"
      ],
      "text/plain": [
       "          sum_churn  count_churn   pct\n",
       "products                              \n",
       "4               300          474  63.3\n",
       "5                 8           19  42.1\n",
       "3               297         1039  28.6\n",
       "2               979         5126  19.1\n",
       "1               235         3341   7.0"
      ]
     },
     "execution_count": 34,
     "metadata": {},
     "output_type": "execute_result"
    }
   ],
   "source": [
    "# products (bank products used)\n",
    "churn_by_product = bank.pivot_table(index='products', values='churn', aggfunc=['sum', 'count'])\n",
    "churn_by_product.columns = churn_by_product.columns.map(lambda index: f'{index[0]}_{index[1]}')\n",
    "churn_by_product['pct'] = round(churn_by_product['sum_churn']/churn_by_product['count_churn']*100, 1)\n",
    "churn_by_product.sort_values('pct', ascending=False)"
   ]
  },
  {
   "cell_type": "code",
   "execution_count": 35,
   "id": "71741401",
   "metadata": {
    "scrolled": false
   },
   "outputs": [
    {
     "data": {
      "image/png": "[encoded data removed]",
      "text/plain": [
       "<Figure size 1500x1000 with 1 Axes>"
      ]
     },
     "metadata": {},
     "output_type": "display_data"
    }
   ],
   "source": [
    "# # plotting the churn visualisation depending on the number of products used\n",
    "churn_by_product['pct'].sort_values(ascending=False).plot(\n",
    "        kind='bar', color='magenta', title='% churn on products')\n",
    "plt.xticks(rotation=0)\n",
    "plt.xlabel('Number of products')\n",
    "plt.ylabel('Number of clients quit')\n",
    "\n",
    "plt.legend('%');"
   ]
  },
  {
   "cell_type": "markdown",
   "id": "0da48179",
   "metadata": {},
   "source": [
    "The graph shows the probability of customer churn depending on the number of opened products in the bank:  \n",
    "- the highest percentage of customers leave if they have 4 products (63.3%),  \n",
    "- followed by users with 5 products, 42.1% (but their share is the lowest),  \n",
    "- users with 3 opened products leave in 28.6% of cases,  \n",
    "- the share of those who left with 2 products is 19.1%,  \n",
    "- with one product - only 7.0%."
   ]
  },
  {
   "cell_type": "code",
   "execution_count": 36,
   "id": "f209db05",
   "metadata": {},
   "outputs": [
    {
     "data": {
      "text/html": [
       "<div>\n",
       "<style scoped>\n",
       "    .dataframe tbody tr th:only-of-type {\n",
       "        vertical-align: middle;\n",
       "    }\n",
       "\n",
       "    .dataframe tbody tr th {\n",
       "        vertical-align: top;\n",
       "    }\n",
       "\n",
       "    .dataframe thead th {\n",
       "        text-align: right;\n",
       "    }\n",
       "</style>\n",
       "<table border=\"1\" class=\"dataframe\">\n",
       "  <thead>\n",
       "    <tr style=\"text-align: right;\">\n",
       "      <th></th>\n",
       "      <th>sum_churn</th>\n",
       "      <th>count_churn</th>\n",
       "      <th>pct</th>\n",
       "    </tr>\n",
       "    <tr>\n",
       "      <th>last_activity</th>\n",
       "      <th></th>\n",
       "      <th></th>\n",
       "      <th></th>\n",
       "    </tr>\n",
       "  </thead>\n",
       "  <tbody>\n",
       "    <tr>\n",
       "      <th>active</th>\n",
       "      <td>1278</td>\n",
       "      <td>5235</td>\n",
       "      <td>24.4</td>\n",
       "    </tr>\n",
       "    <tr>\n",
       "      <th>not active</th>\n",
       "      <td>541</td>\n",
       "      <td>4764</td>\n",
       "      <td>11.4</td>\n",
       "    </tr>\n",
       "  </tbody>\n",
       "</table>\n",
       "</div>"
      ],
      "text/plain": [
       "               sum_churn  count_churn   pct\n",
       "last_activity                              \n",
       "active              1278         5235  24.4\n",
       "not active           541         4764  11.4"
      ]
     },
     "execution_count": 36,
     "metadata": {},
     "output_type": "execute_result"
    }
   ],
   "source": [
    "# last activity\n",
    "churn_by_activity = bank.pivot_table(index='last_activity', values='churn', aggfunc=['sum', 'count'])\n",
    "churn_by_activity.columns = churn_by_activity.columns.map(lambda index: f'{index[0]}_{index[1]}')\n",
    "churn_by_activity['pct'] = round(churn_by_activity['sum_churn']/churn_by_activity['count_churn']*100, 1)\n",
    "\n",
    "churn_by_activity = churn_by_activity.reset_index()\n",
    "churn_by_activity['last_activity'] = churn_by_activity['last_activity'].replace(0, 'not active')\n",
    "churn_by_activity['last_activity'] = churn_by_activity['last_activity'].replace(1, 'active')\n",
    "churn_by_activity = churn_by_activity.set_index('last_activity')\n",
    "churn_by_activity.sort_values('pct', ascending=False)"
   ]
  },
  {
   "cell_type": "code",
   "execution_count": 37,
   "id": "4395cdc4",
   "metadata": {},
   "outputs": [
    {
     "data": {
      "image/png": "[encoded data removed]",
      "text/plain": [
       "<Figure size 1500x1000 with 1 Axes>"
      ]
     },
     "metadata": {},
     "output_type": "display_data"
    }
   ],
   "source": [
    "# churn by last activity visualization\n",
    "churn_by_activity['pct'].sort_values(ascending=False).plot(\n",
    "        kind='bar', color='magenta', title='% of churn on last activity')\n",
    "plt.xticks(rotation=0)\n",
    "plt.xlabel('Last activity')\n",
    "plt.ylabel('Number of clients quit')\n",
    "\n",
    "plt.legend('%');"
   ]
  },
  {
   "cell_type": "code",
   "execution_count": 38,
   "id": "27ccb9d7",
   "metadata": {},
   "outputs": [
    {
     "data": {
      "text/html": [
       "<div>\n",
       "<style scoped>\n",
       "    .dataframe tbody tr th:only-of-type {\n",
       "        vertical-align: middle;\n",
       "    }\n",
       "\n",
       "    .dataframe tbody tr th {\n",
       "        vertical-align: top;\n",
       "    }\n",
       "\n",
       "    .dataframe thead th {\n",
       "        text-align: right;\n",
       "    }\n",
       "</style>\n",
       "<table border=\"1\" class=\"dataframe\">\n",
       "  <thead>\n",
       "    <tr style=\"text-align: right;\">\n",
       "      <th></th>\n",
       "      <th>sum_churn</th>\n",
       "      <th>count_churn</th>\n",
       "      <th>pct</th>\n",
       "    </tr>\n",
       "    <tr>\n",
       "      <th>score</th>\n",
       "      <th></th>\n",
       "      <th></th>\n",
       "      <th></th>\n",
       "    </tr>\n",
       "  </thead>\n",
       "  <tbody>\n",
       "    <tr>\n",
       "      <th>998.0</th>\n",
       "      <td>0</td>\n",
       "      <td>1</td>\n",
       "      <td>0.0</td>\n",
       "    </tr>\n",
       "    <tr>\n",
       "      <th>997.0</th>\n",
       "      <td>0</td>\n",
       "      <td>2</td>\n",
       "      <td>0.0</td>\n",
       "    </tr>\n",
       "    <tr>\n",
       "      <th>996.0</th>\n",
       "      <td>0</td>\n",
       "      <td>2</td>\n",
       "      <td>0.0</td>\n",
       "    </tr>\n",
       "    <tr>\n",
       "      <th>995.0</th>\n",
       "      <td>0</td>\n",
       "      <td>1</td>\n",
       "      <td>0.0</td>\n",
       "    </tr>\n",
       "    <tr>\n",
       "      <th>994.0</th>\n",
       "      <td>0</td>\n",
       "      <td>2</td>\n",
       "      <td>0.0</td>\n",
       "    </tr>\n",
       "    <tr>\n",
       "      <th>...</th>\n",
       "      <td>...</td>\n",
       "      <td>...</td>\n",
       "      <td>...</td>\n",
       "    </tr>\n",
       "    <tr>\n",
       "      <th>650.0</th>\n",
       "      <td>0</td>\n",
       "      <td>2</td>\n",
       "      <td>0.0</td>\n",
       "    </tr>\n",
       "    <tr>\n",
       "      <th>649.0</th>\n",
       "      <td>0</td>\n",
       "      <td>7</td>\n",
       "      <td>0.0</td>\n",
       "    </tr>\n",
       "    <tr>\n",
       "      <th>648.0</th>\n",
       "      <td>0</td>\n",
       "      <td>2</td>\n",
       "      <td>0.0</td>\n",
       "    </tr>\n",
       "    <tr>\n",
       "      <th>646.0</th>\n",
       "      <td>0</td>\n",
       "      <td>2</td>\n",
       "      <td>0.0</td>\n",
       "    </tr>\n",
       "    <tr>\n",
       "      <th>642.0</th>\n",
       "      <td>0</td>\n",
       "      <td>2</td>\n",
       "      <td>0.0</td>\n",
       "    </tr>\n",
       "  </tbody>\n",
       "</table>\n",
       "<p>105 rows × 3 columns</p>\n",
       "</div>"
      ],
      "text/plain": [
       "       sum_churn  count_churn  pct\n",
       "score                             \n",
       "998.0          0            1  0.0\n",
       "997.0          0            2  0.0\n",
       "996.0          0            2  0.0\n",
       "995.0          0            1  0.0\n",
       "994.0          0            2  0.0\n",
       "...          ...          ...  ...\n",
       "650.0          0            2  0.0\n",
       "649.0          0            7  0.0\n",
       "648.0          0            2  0.0\n",
       "646.0          0            2  0.0\n",
       "642.0          0            2  0.0\n",
       "\n",
       "[105 rows x 3 columns]"
      ]
     },
     "metadata": {},
     "output_type": "display_data"
    },
    {
     "data": {
      "text/html": [
       "<div>\n",
       "<style scoped>\n",
       "    .dataframe tbody tr th:only-of-type {\n",
       "        vertical-align: middle;\n",
       "    }\n",
       "\n",
       "    .dataframe tbody tr th {\n",
       "        vertical-align: top;\n",
       "    }\n",
       "\n",
       "    .dataframe thead th {\n",
       "        text-align: right;\n",
       "    }\n",
       "</style>\n",
       "<table border=\"1\" class=\"dataframe\">\n",
       "  <thead>\n",
       "    <tr style=\"text-align: right;\">\n",
       "      <th></th>\n",
       "      <th>sum_churn</th>\n",
       "      <th>count_churn</th>\n",
       "      <th>pct</th>\n",
       "    </tr>\n",
       "    <tr>\n",
       "      <th>score</th>\n",
       "      <th></th>\n",
       "      <th></th>\n",
       "      <th></th>\n",
       "    </tr>\n",
       "  </thead>\n",
       "  <tbody>\n",
       "    <tr>\n",
       "      <th>987.0</th>\n",
       "      <td>2</td>\n",
       "      <td>3</td>\n",
       "      <td>66.7</td>\n",
       "    </tr>\n",
       "    <tr>\n",
       "      <th>999.0</th>\n",
       "      <td>1</td>\n",
       "      <td>2</td>\n",
       "      <td>50.0</td>\n",
       "    </tr>\n",
       "    <tr>\n",
       "      <th>866.0</th>\n",
       "      <td>24</td>\n",
       "      <td>50</td>\n",
       "      <td>48.0</td>\n",
       "    </tr>\n",
       "    <tr>\n",
       "      <th>868.0</th>\n",
       "      <td>21</td>\n",
       "      <td>47</td>\n",
       "      <td>44.7</td>\n",
       "    </tr>\n",
       "    <tr>\n",
       "      <th>993.0</th>\n",
       "      <td>3</td>\n",
       "      <td>7</td>\n",
       "      <td>42.9</td>\n",
       "    </tr>\n",
       "    <tr>\n",
       "      <th>877.0</th>\n",
       "      <td>17</td>\n",
       "      <td>40</td>\n",
       "      <td>42.5</td>\n",
       "    </tr>\n",
       "    <tr>\n",
       "      <th>870.0</th>\n",
       "      <td>18</td>\n",
       "      <td>45</td>\n",
       "      <td>40.0</td>\n",
       "    </tr>\n",
       "    <tr>\n",
       "      <th>862.0</th>\n",
       "      <td>20</td>\n",
       "      <td>53</td>\n",
       "      <td>37.7</td>\n",
       "    </tr>\n",
       "    <tr>\n",
       "      <th>869.0</th>\n",
       "      <td>19</td>\n",
       "      <td>54</td>\n",
       "      <td>35.2</td>\n",
       "    </tr>\n",
       "    <tr>\n",
       "      <th>853.0</th>\n",
       "      <td>20</td>\n",
       "      <td>57</td>\n",
       "      <td>35.1</td>\n",
       "    </tr>\n",
       "    <tr>\n",
       "      <th>874.0</th>\n",
       "      <td>17</td>\n",
       "      <td>49</td>\n",
       "      <td>34.7</td>\n",
       "    </tr>\n",
       "    <tr>\n",
       "      <th>984.0</th>\n",
       "      <td>1</td>\n",
       "      <td>3</td>\n",
       "      <td>33.3</td>\n",
       "    </tr>\n",
       "    <tr>\n",
       "      <th>978.0</th>\n",
       "      <td>2</td>\n",
       "      <td>6</td>\n",
       "      <td>33.3</td>\n",
       "    </tr>\n",
       "    <tr>\n",
       "      <th>957.0</th>\n",
       "      <td>2</td>\n",
       "      <td>6</td>\n",
       "      <td>33.3</td>\n",
       "    </tr>\n",
       "    <tr>\n",
       "      <th>878.0</th>\n",
       "      <td>16</td>\n",
       "      <td>48</td>\n",
       "      <td>33.3</td>\n",
       "    </tr>\n",
       "    <tr>\n",
       "      <th>857.0</th>\n",
       "      <td>15</td>\n",
       "      <td>45</td>\n",
       "      <td>33.3</td>\n",
       "    </tr>\n",
       "    <tr>\n",
       "      <th>860.0</th>\n",
       "      <td>16</td>\n",
       "      <td>49</td>\n",
       "      <td>32.7</td>\n",
       "    </tr>\n",
       "    <tr>\n",
       "      <th>881.0</th>\n",
       "      <td>18</td>\n",
       "      <td>56</td>\n",
       "      <td>32.1</td>\n",
       "    </tr>\n",
       "    <tr>\n",
       "      <th>802.0</th>\n",
       "      <td>12</td>\n",
       "      <td>38</td>\n",
       "      <td>31.6</td>\n",
       "    </tr>\n",
       "    <tr>\n",
       "      <th>865.0</th>\n",
       "      <td>11</td>\n",
       "      <td>35</td>\n",
       "      <td>31.4</td>\n",
       "    </tr>\n",
       "    <tr>\n",
       "      <th>896.0</th>\n",
       "      <td>21</td>\n",
       "      <td>67</td>\n",
       "      <td>31.3</td>\n",
       "    </tr>\n",
       "    <tr>\n",
       "      <th>933.0</th>\n",
       "      <td>10</td>\n",
       "      <td>32</td>\n",
       "      <td>31.2</td>\n",
       "    </tr>\n",
       "    <tr>\n",
       "      <th>827.0</th>\n",
       "      <td>15</td>\n",
       "      <td>48</td>\n",
       "      <td>31.2</td>\n",
       "    </tr>\n",
       "    <tr>\n",
       "      <th>867.0</th>\n",
       "      <td>14</td>\n",
       "      <td>45</td>\n",
       "      <td>31.1</td>\n",
       "    </tr>\n",
       "    <tr>\n",
       "      <th>872.0</th>\n",
       "      <td>12</td>\n",
       "      <td>40</td>\n",
       "      <td>30.0</td>\n",
       "    </tr>\n",
       "  </tbody>\n",
       "</table>\n",
       "</div>"
      ],
      "text/plain": [
       "       sum_churn  count_churn   pct\n",
       "score                              \n",
       "987.0          2            3  66.7\n",
       "999.0          1            2  50.0\n",
       "866.0         24           50  48.0\n",
       "868.0         21           47  44.7\n",
       "993.0          3            7  42.9\n",
       "877.0         17           40  42.5\n",
       "870.0         18           45  40.0\n",
       "862.0         20           53  37.7\n",
       "869.0         19           54  35.2\n",
       "853.0         20           57  35.1\n",
       "874.0         17           49  34.7\n",
       "984.0          1            3  33.3\n",
       "978.0          2            6  33.3\n",
       "957.0          2            6  33.3\n",
       "878.0         16           48  33.3\n",
       "857.0         15           45  33.3\n",
       "860.0         16           49  32.7\n",
       "881.0         18           56  32.1\n",
       "802.0         12           38  31.6\n",
       "865.0         11           35  31.4\n",
       "896.0         21           67  31.3\n",
       "933.0         10           32  31.2\n",
       "827.0         15           48  31.2\n",
       "867.0         14           45  31.1\n",
       "872.0         12           40  30.0"
      ]
     },
     "metadata": {},
     "output_type": "display_data"
    }
   ],
   "source": [
    "# credit scoring points\n",
    "churn_by_score = bank.pivot_table(index='score', values='churn', aggfunc=['sum', 'count'])\n",
    "churn_by_score.columns = churn_by_score.columns.map(lambda index: f'{index[0]}_{index[1]}')\n",
    "churn_by_score['pct'] = round(churn_by_score['sum_churn']/churn_by_score['count_churn']*100, 1)\n",
    "churn_score_zero = churn_by_score.query('pct == 0')\n",
    "churn_by_score_30 = churn_by_score.query('pct >= 30')\n",
    "display(churn_score_zero.sort_values('score', ascending=False))\n",
    "display(churn_by_score_30.sort_values(['pct','score'], ascending=False))"
   ]
  },
  {
   "cell_type": "code",
   "execution_count": 39,
   "id": "cc88386d",
   "metadata": {},
   "outputs": [
    {
     "data": {
      "image/png": "[encoded data removed]",
      "text/plain": [
       "<Figure size 1500x1000 with 1 Axes>"
      ]
     },
     "metadata": {},
     "output_type": "display_data"
    }
   ],
   "source": [
    "# churn on credit scoring points visualozation\n",
    "churn_by_score_30['pct'].sort_values(ascending=False).plot(\n",
    "        kind='bar', color='magenta', title='% churn on credit scoring points')\n",
    "plt.xticks(rotation=45)\n",
    "plt.xlabel('Credit scoring points')\n",
    "plt.ylabel('Number of clients quit')\n",
    "#plt.xlim(100, 400)\n",
    "plt.legend('%');"
   ]
  },
  {
   "cell_type": "markdown",
   "id": "48021573",
   "metadata": {},
   "source": [
    "There is a roughly direct relationship between the quit rate and the scoring points. Clients with a high score are more likely to leave. We should not forget that there are clients with high scores who do not leave.   \n",
    "We also see that users with scoring below 642 do not leave the bank at all.\n",
    "This is probably due to the fact that the better the client's credit history, the more likely it is that he will, for example, repay the loan and leave. And users with a poor credit score take longer to repay."
   ]
  },
  {
   "cell_type": "code",
   "execution_count": 40,
   "id": "04208bac",
   "metadata": {},
   "outputs": [
    {
     "data": {
      "text/html": [
       "<div>\n",
       "<style scoped>\n",
       "    .dataframe tbody tr th:only-of-type {\n",
       "        vertical-align: middle;\n",
       "    }\n",
       "\n",
       "    .dataframe tbody tr th {\n",
       "        vertical-align: top;\n",
       "    }\n",
       "\n",
       "    .dataframe thead th {\n",
       "        text-align: right;\n",
       "    }\n",
       "</style>\n",
       "<table border=\"1\" class=\"dataframe\">\n",
       "  <thead>\n",
       "    <tr style=\"text-align: right;\">\n",
       "      <th></th>\n",
       "      <th>sum_churn</th>\n",
       "      <th>count_churn</th>\n",
       "      <th>pct</th>\n",
       "    </tr>\n",
       "    <tr>\n",
       "      <th>gender</th>\n",
       "      <th></th>\n",
       "      <th></th>\n",
       "      <th></th>\n",
       "    </tr>\n",
       "  </thead>\n",
       "  <tbody>\n",
       "    <tr>\n",
       "      <th>M</th>\n",
       "      <td>1183</td>\n",
       "      <td>5005</td>\n",
       "      <td>23.6</td>\n",
       "    </tr>\n",
       "    <tr>\n",
       "      <th>F</th>\n",
       "      <td>636</td>\n",
       "      <td>4994</td>\n",
       "      <td>12.7</td>\n",
       "    </tr>\n",
       "  </tbody>\n",
       "</table>\n",
       "</div>"
      ],
      "text/plain": [
       "        sum_churn  count_churn   pct\n",
       "gender                              \n",
       "M            1183         5005  23.6\n",
       "F             636         4994  12.7"
      ]
     },
     "execution_count": 40,
     "metadata": {},
     "output_type": "execute_result"
    }
   ],
   "source": [
    "# churn on gender\n",
    "churn_by_gender = bank.pivot_table(index='gender', values='churn', aggfunc=['sum', 'count'])\n",
    "churn_by_gender.columns = churn_by_gender.columns.map(lambda index: f'{index[0]}_{index[1]}')\n",
    "churn_by_gender['pct'] = round(churn_by_gender['sum_churn']/churn_by_gender['count_churn']*100, 1)\n",
    "churn_by_gender = churn_by_gender.reset_index()\n",
    "\n",
    "churn_by_gender['gender'] = churn_by_gender['gender'].replace('М', 'M')\n",
    "churn_by_gender['gender'] = churn_by_gender['gender'].replace('Ж', 'F')\n",
    "churn_by_gender = churn_by_gender.set_index('gender')\n",
    "\n",
    "churn_by_gender.sort_values('pct', ascending=False)"
   ]
  },
  {
   "cell_type": "code",
   "execution_count": 41,
   "id": "2f228f76",
   "metadata": {},
   "outputs": [
    {
     "data": {
      "image/png": "[encoded data removed]",
      "text/plain": [
       "<Figure size 1500x1000 with 1 Axes>"
      ]
     },
     "metadata": {},
     "output_type": "display_data"
    }
   ],
   "source": [
    "# churn on gender visualization\n",
    "churn_by_gender['pct'].sort_values(ascending=False).plot(\n",
    "        kind='bar', color='magenta', title='% churn on gender')\n",
    "plt.xticks(rotation=0)\n",
    "plt.xlabel('Gender')\n",
    "plt.ylabel('Number of clients quit')\n",
    "\n",
    "plt.legend('%');"
   ]
  },
  {
   "cell_type": "code",
   "execution_count": 42,
   "id": "94959389",
   "metadata": {},
   "outputs": [
    {
     "data": {
      "text/html": [
       "<div>\n",
       "<style scoped>\n",
       "    .dataframe tbody tr th:only-of-type {\n",
       "        vertical-align: middle;\n",
       "    }\n",
       "\n",
       "    .dataframe tbody tr th {\n",
       "        vertical-align: top;\n",
       "    }\n",
       "\n",
       "    .dataframe thead th {\n",
       "        text-align: right;\n",
       "    }\n",
       "</style>\n",
       "<table border=\"1\" class=\"dataframe\">\n",
       "  <thead>\n",
       "    <tr style=\"text-align: right;\">\n",
       "      <th></th>\n",
       "      <th>sum_churn</th>\n",
       "      <th>count_churn</th>\n",
       "      <th>pct</th>\n",
       "    </tr>\n",
       "    <tr>\n",
       "      <th>credit_card</th>\n",
       "      <th></th>\n",
       "      <th></th>\n",
       "      <th></th>\n",
       "    </tr>\n",
       "  </thead>\n",
       "  <tbody>\n",
       "    <tr>\n",
       "      <th>no card</th>\n",
       "      <td>816</td>\n",
       "      <td>3195</td>\n",
       "      <td>25.5</td>\n",
       "    </tr>\n",
       "    <tr>\n",
       "      <th>with card</th>\n",
       "      <td>1003</td>\n",
       "      <td>6804</td>\n",
       "      <td>14.7</td>\n",
       "    </tr>\n",
       "  </tbody>\n",
       "</table>\n",
       "</div>"
      ],
      "text/plain": [
       "             sum_churn  count_churn   pct\n",
       "credit_card                              \n",
       "no card            816         3195  25.5\n",
       "with card         1003         6804  14.7"
      ]
     },
     "execution_count": 42,
     "metadata": {},
     "output_type": "execute_result"
    }
   ],
   "source": [
    "# churn on credit card\n",
    "churn_by_card = bank.pivot_table(index='credit_card', values='churn', aggfunc=['sum', 'count'])\n",
    "churn_by_card.columns = churn_by_card.columns.map(lambda index: f'{index[0]}_{index[1]}')\n",
    "churn_by_card['pct'] = round(churn_by_card['sum_churn']/churn_by_card['count_churn']*100, 1)\n",
    "\n",
    "churn_by_card = churn_by_card.reset_index()\n",
    "churn_by_card['credit_card'] = churn_by_card['credit_card'].replace(0, 'no card')\n",
    "churn_by_card['credit_card'] = churn_by_card['credit_card'].replace(1, 'with card')\n",
    "churn_by_card = churn_by_card.set_index('credit_card')\n",
    "churn_by_card.sort_values('pct', ascending=False)"
   ]
  },
  {
   "cell_type": "code",
   "execution_count": 43,
   "id": "77cad066",
   "metadata": {},
   "outputs": [
    {
     "data": {
      "image/png": "[encoded data removed]",
      "text/plain": [
       "<Figure size 1500x1000 with 1 Axes>"
      ]
     },
     "metadata": {},
     "output_type": "display_data"
    }
   ],
   "source": [
    "# churn on credit card visualization\n",
    "churn_by_card['pct'].sort_values(ascending=False).plot(\n",
    "        kind='bar', color='magenta', title='% churn on credit card')\n",
    "plt.xticks(rotation=0)\n",
    "plt.xlabel('Credit card')\n",
    "plt.ylabel('Number of clients quit')\n",
    "\n",
    "plt.legend('%');"
   ]
  },
  {
   "cell_type": "code",
   "execution_count": 44,
   "id": "bf3085bb",
   "metadata": {},
   "outputs": [
    {
     "data": {
      "text/html": [
       "<div>\n",
       "<style scoped>\n",
       "    .dataframe tbody tr th:only-of-type {\n",
       "        vertical-align: middle;\n",
       "    }\n",
       "\n",
       "    .dataframe tbody tr th {\n",
       "        vertical-align: top;\n",
       "    }\n",
       "\n",
       "    .dataframe thead th {\n",
       "        text-align: right;\n",
       "    }\n",
       "</style>\n",
       "<table border=\"1\" class=\"dataframe\">\n",
       "  <thead>\n",
       "    <tr style=\"text-align: right;\">\n",
       "      <th></th>\n",
       "      <th>sum_churn</th>\n",
       "      <th>count_churn</th>\n",
       "      <th>pct</th>\n",
       "    </tr>\n",
       "    <tr>\n",
       "      <th>age</th>\n",
       "      <th></th>\n",
       "      <th></th>\n",
       "      <th></th>\n",
       "    </tr>\n",
       "  </thead>\n",
       "  <tbody>\n",
       "    <tr>\n",
       "      <th>54.0</th>\n",
       "      <td>47</td>\n",
       "      <td>139</td>\n",
       "      <td>33.8</td>\n",
       "    </tr>\n",
       "    <tr>\n",
       "      <th>52.0</th>\n",
       "      <td>50</td>\n",
       "      <td>154</td>\n",
       "      <td>32.5</td>\n",
       "    </tr>\n",
       "    <tr>\n",
       "      <th>56.0</th>\n",
       "      <td>47</td>\n",
       "      <td>149</td>\n",
       "      <td>31.5</td>\n",
       "    </tr>\n",
       "    <tr>\n",
       "      <th>27.0</th>\n",
       "      <td>53</td>\n",
       "      <td>171</td>\n",
       "      <td>31.0</td>\n",
       "    </tr>\n",
       "    <tr>\n",
       "      <th>58.0</th>\n",
       "      <td>51</td>\n",
       "      <td>169</td>\n",
       "      <td>30.2</td>\n",
       "    </tr>\n",
       "    <tr>\n",
       "      <th>...</th>\n",
       "      <td>...</td>\n",
       "      <td>...</td>\n",
       "      <td>...</td>\n",
       "    </tr>\n",
       "    <tr>\n",
       "      <th>77.0</th>\n",
       "      <td>0</td>\n",
       "      <td>8</td>\n",
       "      <td>0.0</td>\n",
       "    </tr>\n",
       "    <tr>\n",
       "      <th>76.0</th>\n",
       "      <td>0</td>\n",
       "      <td>13</td>\n",
       "      <td>0.0</td>\n",
       "    </tr>\n",
       "    <tr>\n",
       "      <th>71.0</th>\n",
       "      <td>0</td>\n",
       "      <td>36</td>\n",
       "      <td>0.0</td>\n",
       "    </tr>\n",
       "    <tr>\n",
       "      <th>70.0</th>\n",
       "      <td>0</td>\n",
       "      <td>33</td>\n",
       "      <td>0.0</td>\n",
       "    </tr>\n",
       "    <tr>\n",
       "      <th>86.0</th>\n",
       "      <td>0</td>\n",
       "      <td>2</td>\n",
       "      <td>0.0</td>\n",
       "    </tr>\n",
       "  </tbody>\n",
       "</table>\n",
       "<p>68 rows × 3 columns</p>\n",
       "</div>"
      ],
      "text/plain": [
       "      sum_churn  count_churn   pct\n",
       "age                               \n",
       "54.0         47          139  33.8\n",
       "52.0         50          154  32.5\n",
       "56.0         47          149  31.5\n",
       "27.0         53          171  31.0\n",
       "58.0         51          169  30.2\n",
       "...         ...          ...   ...\n",
       "77.0          0            8   0.0\n",
       "76.0          0           13   0.0\n",
       "71.0          0           36   0.0\n",
       "70.0          0           33   0.0\n",
       "86.0          0            2   0.0\n",
       "\n",
       "[68 rows x 3 columns]"
      ]
     },
     "metadata": {},
     "output_type": "display_data"
    },
    {
     "data": {
      "text/plain": [
       "51.5"
      ]
     },
     "execution_count": 44,
     "metadata": {},
     "output_type": "execute_result"
    }
   ],
   "source": [
    "# churn on age\n",
    "churn_by_age = bank.pivot_table(index='age', values='churn', aggfunc=['sum', 'count'])\n",
    "churn_by_age.columns = churn_by_age.columns.map(lambda index: f'{index[0]}_{index[1]}')\n",
    "churn_by_age['pct'] = round(churn_by_age['sum_churn']/churn_by_age['count_churn']*100, 1)\n",
    "display(churn_by_age.sort_values('pct', ascending=False))\n",
    "round(churn_by_age.reset_index()['age'].mean(), 1)"
   ]
  },
  {
   "cell_type": "code",
   "execution_count": 45,
   "id": "99763bee",
   "metadata": {},
   "outputs": [
    {
     "data": {
      "image/png": "[encoded data removed]",
      "text/plain": [
       "<Figure size 1500x1000 with 1 Axes>"
      ]
     },
     "metadata": {},
     "output_type": "display_data"
    }
   ],
   "source": [
    "# churn on age visualization\n",
    "churn_by_age['pct'].sort_values(ascending=False).plot(\n",
    "        kind='bar', color='magenta', title='% churn on age')\n",
    "plt.xticks(rotation=45)\n",
    "plt.xlabel('Age')\n",
    "plt.ylabel('Number of clients quit')\n",
    "plt.xlim(0, 30)\n",
    "plt.legend('%');"
   ]
  },
  {
   "cell_type": "markdown",
   "id": "ef22024d",
   "metadata": {},
   "source": [
    "Based on the obtained data, let's draw up portraits of outgoing customers.  \n",
    "The most stand-out parameters are:  \n",
    "- By number of products:  \n",
    "    more than 3\n",
    "- by property score:  \n",
    "    more than 5\n",
    "- by activity:  \n",
    "    active\n",
    "- by gender:  \n",
    "    М\n",
    "- by credit card:    \n",
    "    no card\n",
    "- by credit scoring:  \n",
    "    over 641 points\n",
    "- age group:  \n",
    "    40 years of age or older"
   ]
  },
  {
   "cell_type": "code",
   "execution_count": null,
   "id": "da470689",
   "metadata": {},
   "outputs": [],
   "source": []
  },
  {
   "cell_type": "markdown",
   "id": "8b580250",
   "metadata": {},
   "source": [
    "### Let's combine different categories of customers who have left to create portraits of classic churned customers:"
   ]
  },
  {
   "cell_type": "markdown",
   "id": "55417b97",
   "metadata": {},
   "source": [
    "For better illustrative purposes, let's find portraits of customers who quit, making up groups of 500-2000 clients"
   ]
  },
  {
   "cell_type": "code",
   "execution_count": 46,
   "id": "bde43910",
   "metadata": {},
   "outputs": [
    {
     "data": {
      "text/html": [
       "<div>\n",
       "<style scoped>\n",
       "    .dataframe tbody tr th:only-of-type {\n",
       "        vertical-align: middle;\n",
       "    }\n",
       "\n",
       "    .dataframe tbody tr th {\n",
       "        vertical-align: top;\n",
       "    }\n",
       "\n",
       "    .dataframe thead th {\n",
       "        text-align: right;\n",
       "    }\n",
       "</style>\n",
       "<table border=\"1\" class=\"dataframe\">\n",
       "  <thead>\n",
       "    <tr style=\"text-align: right;\">\n",
       "      <th></th>\n",
       "      <th>index_id</th>\n",
       "      <th>user_id</th>\n",
       "      <th>score</th>\n",
       "      <th>city</th>\n",
       "      <th>gender</th>\n",
       "      <th>age</th>\n",
       "      <th>equity</th>\n",
       "      <th>balance</th>\n",
       "      <th>products</th>\n",
       "      <th>credit_card</th>\n",
       "      <th>last_activity</th>\n",
       "      <th>est_salary</th>\n",
       "      <th>churn</th>\n",
       "    </tr>\n",
       "  </thead>\n",
       "  <tbody>\n",
       "    <tr>\n",
       "      <th>4</th>\n",
       "      <td>4</td>\n",
       "      <td>157978</td>\n",
       "      <td>730.0</td>\n",
       "      <td>Ярославль</td>\n",
       "      <td>М</td>\n",
       "      <td>34.0</td>\n",
       "      <td>5</td>\n",
       "      <td>174.00</td>\n",
       "      <td>1</td>\n",
       "      <td>1</td>\n",
       "      <td>0</td>\n",
       "      <td>67353.16</td>\n",
       "      <td>1</td>\n",
       "    </tr>\n",
       "    <tr>\n",
       "      <th>58</th>\n",
       "      <td>58</td>\n",
       "      <td>164676</td>\n",
       "      <td>860.0</td>\n",
       "      <td>Ярославль</td>\n",
       "      <td>М</td>\n",
       "      <td>37.0</td>\n",
       "      <td>5</td>\n",
       "      <td>648594.03</td>\n",
       "      <td>2</td>\n",
       "      <td>1</td>\n",
       "      <td>1</td>\n",
       "      <td>213586.86</td>\n",
       "      <td>1</td>\n",
       "    </tr>\n",
       "    <tr>\n",
       "      <th>72</th>\n",
       "      <td>72</td>\n",
       "      <td>156677</td>\n",
       "      <td>873.0</td>\n",
       "      <td>Ярославль</td>\n",
       "      <td>М</td>\n",
       "      <td>39.0</td>\n",
       "      <td>5</td>\n",
       "      <td>915959.85</td>\n",
       "      <td>3</td>\n",
       "      <td>0</td>\n",
       "      <td>1</td>\n",
       "      <td>154034.62</td>\n",
       "      <td>1</td>\n",
       "    </tr>\n",
       "    <tr>\n",
       "      <th>73</th>\n",
       "      <td>73</td>\n",
       "      <td>155403</td>\n",
       "      <td>859.0</td>\n",
       "      <td>Рыбинск</td>\n",
       "      <td>М</td>\n",
       "      <td>56.0</td>\n",
       "      <td>5</td>\n",
       "      <td>652553.80</td>\n",
       "      <td>2</td>\n",
       "      <td>1</td>\n",
       "      <td>1</td>\n",
       "      <td>60791.77</td>\n",
       "      <td>1</td>\n",
       "    </tr>\n",
       "    <tr>\n",
       "      <th>77</th>\n",
       "      <td>77</td>\n",
       "      <td>191976</td>\n",
       "      <td>937.0</td>\n",
       "      <td>Ярославль</td>\n",
       "      <td>М</td>\n",
       "      <td>33.0</td>\n",
       "      <td>5</td>\n",
       "      <td>2061152.96</td>\n",
       "      <td>2</td>\n",
       "      <td>1</td>\n",
       "      <td>1</td>\n",
       "      <td>280670.62</td>\n",
       "      <td>1</td>\n",
       "    </tr>\n",
       "    <tr>\n",
       "      <th>...</th>\n",
       "      <td>...</td>\n",
       "      <td>...</td>\n",
       "      <td>...</td>\n",
       "      <td>...</td>\n",
       "      <td>...</td>\n",
       "      <td>...</td>\n",
       "      <td>...</td>\n",
       "      <td>...</td>\n",
       "      <td>...</td>\n",
       "      <td>...</td>\n",
       "      <td>...</td>\n",
       "      <td>...</td>\n",
       "      <td>...</td>\n",
       "    </tr>\n",
       "    <tr>\n",
       "      <th>9908</th>\n",
       "      <td>9908</td>\n",
       "      <td>211089</td>\n",
       "      <td>993.0</td>\n",
       "      <td>Рыбинск</td>\n",
       "      <td>М</td>\n",
       "      <td>38.0</td>\n",
       "      <td>6</td>\n",
       "      <td>4542980.70</td>\n",
       "      <td>1</td>\n",
       "      <td>1</td>\n",
       "      <td>1</td>\n",
       "      <td>491609.13</td>\n",
       "      <td>1</td>\n",
       "    </tr>\n",
       "    <tr>\n",
       "      <th>9909</th>\n",
       "      <td>9909</td>\n",
       "      <td>171011</td>\n",
       "      <td>885.0</td>\n",
       "      <td>Ярославль</td>\n",
       "      <td>М</td>\n",
       "      <td>35.0</td>\n",
       "      <td>5</td>\n",
       "      <td>1133520.90</td>\n",
       "      <td>2</td>\n",
       "      <td>0</td>\n",
       "      <td>0</td>\n",
       "      <td>175463.34</td>\n",
       "      <td>1</td>\n",
       "    </tr>\n",
       "    <tr>\n",
       "      <th>9933</th>\n",
       "      <td>9933</td>\n",
       "      <td>197891</td>\n",
       "      <td>899.0</td>\n",
       "      <td>Ярославль</td>\n",
       "      <td>М</td>\n",
       "      <td>37.0</td>\n",
       "      <td>5</td>\n",
       "      <td>1422472.42</td>\n",
       "      <td>2</td>\n",
       "      <td>0</td>\n",
       "      <td>1</td>\n",
       "      <td>231978.68</td>\n",
       "      <td>1</td>\n",
       "    </tr>\n",
       "    <tr>\n",
       "      <th>9981</th>\n",
       "      <td>9981</td>\n",
       "      <td>154871</td>\n",
       "      <td>892.0</td>\n",
       "      <td>Рыбинск</td>\n",
       "      <td>М</td>\n",
       "      <td>39.0</td>\n",
       "      <td>5</td>\n",
       "      <td>636287.72</td>\n",
       "      <td>2</td>\n",
       "      <td>0</td>\n",
       "      <td>1</td>\n",
       "      <td>227288.27</td>\n",
       "      <td>1</td>\n",
       "    </tr>\n",
       "    <tr>\n",
       "      <th>9986</th>\n",
       "      <td>9986</td>\n",
       "      <td>152986</td>\n",
       "      <td>822.0</td>\n",
       "      <td>Ярославль</td>\n",
       "      <td>М</td>\n",
       "      <td>58.0</td>\n",
       "      <td>5</td>\n",
       "      <td>1434857.91</td>\n",
       "      <td>2</td>\n",
       "      <td>0</td>\n",
       "      <td>1</td>\n",
       "      <td>83442.41</td>\n",
       "      <td>1</td>\n",
       "    </tr>\n",
       "  </tbody>\n",
       "</table>\n",
       "<p>464 rows × 13 columns</p>\n",
       "</div>"
      ],
      "text/plain": [
       "      index_id  user_id  score       city gender   age  equity     balance  \\\n",
       "4            4   157978  730.0  Ярославль      М  34.0       5      174.00   \n",
       "58          58   164676  860.0  Ярославль      М  37.0       5   648594.03   \n",
       "72          72   156677  873.0  Ярославль      М  39.0       5   915959.85   \n",
       "73          73   155403  859.0    Рыбинск      М  56.0       5   652553.80   \n",
       "77          77   191976  937.0  Ярославль      М  33.0       5  2061152.96   \n",
       "...        ...      ...    ...        ...    ...   ...     ...         ...   \n",
       "9908      9908   211089  993.0    Рыбинск      М  38.0       6  4542980.70   \n",
       "9909      9909   171011  885.0  Ярославль      М  35.0       5  1133520.90   \n",
       "9933      9933   197891  899.0  Ярославль      М  37.0       5  1422472.42   \n",
       "9981      9981   154871  892.0    Рыбинск      М  39.0       5   636287.72   \n",
       "9986      9986   152986  822.0  Ярославль      М  58.0       5  1434857.91   \n",
       "\n",
       "      products  credit_card  last_activity  est_salary  churn  \n",
       "4            1            1              0    67353.16      1  \n",
       "58           2            1              1   213586.86      1  \n",
       "72           3            0              1   154034.62      1  \n",
       "73           2            1              1    60791.77      1  \n",
       "77           2            1              1   280670.62      1  \n",
       "...        ...          ...            ...         ...    ...  \n",
       "9908         1            1              1   491609.13      1  \n",
       "9909         2            0              0   175463.34      1  \n",
       "9933         2            0              1   231978.68      1  \n",
       "9981         2            0              1   227288.27      1  \n",
       "9986         2            0              1    83442.41      1  \n",
       "\n",
       "[464 rows x 13 columns]"
      ]
     },
     "metadata": {},
     "output_type": "display_data"
    },
    {
     "name": "stdout",
     "output_type": "stream",
     "text": [
      "Portrait 1: male, credir scoring >= 642, equity >= 5\n",
      "Total number of clients in segment 1: 1123\n",
      "Total number of clients quit in segment 1: 464\n",
      "Churn clients share: 41.3%\n"
     ]
    }
   ],
   "source": [
    "# a slice of customers in a segment\n",
    "portrait_1 = bank.query('gender == \"М\" and score >= 642 and equity >= 5')\n",
    "# number of clients in a segment\n",
    "cnt_portrait_1 = portrait_1['index_id'].count()\n",
    "\n",
    "# portrait 1\n",
    "churn_portrait_1 = bank.query('gender == \"М\" and score >= 642 and equity >= 5 and churn == 1')\n",
    "# number of clients quit in a segment\n",
    "cnt_churn_portrait_1 = churn_portrait_1['index_id'].count()\n",
    "\n",
    "display(churn_portrait_1)\n",
    "print('Portrait 1: male, credir scoring >= 642, equity >= 5')\n",
    "print('Total number of clients in segment 1: ' + str(cnt_portrait_1))\n",
    "print('Total number of clients quit in segment 1: ' + str(cnt_churn_portrait_1))\n",
    "print('Churn clients share: ' + str(round(cnt_churn_portrait_1 / cnt_portrait_1 * 100, 1)) + '%')"
   ]
  },
  {
   "cell_type": "markdown",
   "id": "2a996b2a",
   "metadata": {},
   "source": [
    "**Another way to calculate the above:**"
   ]
  },
  {
   "cell_type": "code",
   "execution_count": 47,
   "id": "6f735c3a",
   "metadata": {},
   "outputs": [
    {
     "name": "stdout",
     "output_type": "stream",
     "text": [
      "Portrait 1: male, credir scoring >= 642, equity >= 5\n",
      "Total number of clients in segment 1: 1123\n",
      "Total number of clients quit in segment 1: 464\n",
      "Churn clients share: 41.3%\n"
     ]
    }
   ],
   "source": [
    "# a slice of customers in a segment\n",
    "portrait_1 = bank.query('gender == \"М\" and score >= 642 and equity >= 5')\n",
    "# number of clients in a segment\n",
    "cnt_portrait_1 = portrait_1['index_id'].count()\n",
    "\n",
    "# portrait 1\n",
    "churn_portrait_1 = bank.query('gender == \"М\" and score >= 642 and equity >= 5 and churn == 1')\n",
    "# number of clients quit in a segment\n",
    "cnt_churn_portrait_1 = portrait_1['churn'].sum()\n",
    "\n",
    "#display(churn_portrait_1)\n",
    "print('Portrait 1: male, credir scoring >= 642, equity >= 5')\n",
    "print('Total number of clients in segment 1: ' + str(cnt_portrait_1))\n",
    "print('Total number of clients quit in segment 1: ' + str(cnt_churn_portrait_1))\n",
    "print('Churn clients share: ' + str(round(portrait_1['churn'].mean() * 100, 1)) + '%')"
   ]
  },
  {
   "cell_type": "code",
   "execution_count": 48,
   "id": "39841150",
   "metadata": {},
   "outputs": [
    {
     "data": {
      "text/html": [
       "<div>\n",
       "<style scoped>\n",
       "    .dataframe tbody tr th:only-of-type {\n",
       "        vertical-align: middle;\n",
       "    }\n",
       "\n",
       "    .dataframe tbody tr th {\n",
       "        vertical-align: top;\n",
       "    }\n",
       "\n",
       "    .dataframe thead th {\n",
       "        text-align: right;\n",
       "    }\n",
       "</style>\n",
       "<table border=\"1\" class=\"dataframe\">\n",
       "  <thead>\n",
       "    <tr style=\"text-align: right;\">\n",
       "      <th></th>\n",
       "      <th>index_id</th>\n",
       "      <th>user_id</th>\n",
       "      <th>score</th>\n",
       "      <th>city</th>\n",
       "      <th>gender</th>\n",
       "      <th>age</th>\n",
       "      <th>equity</th>\n",
       "      <th>balance</th>\n",
       "      <th>products</th>\n",
       "      <th>credit_card</th>\n",
       "      <th>last_activity</th>\n",
       "      <th>est_salary</th>\n",
       "      <th>churn</th>\n",
       "    </tr>\n",
       "  </thead>\n",
       "  <tbody>\n",
       "    <tr>\n",
       "      <th>72</th>\n",
       "      <td>72</td>\n",
       "      <td>156677</td>\n",
       "      <td>873.0</td>\n",
       "      <td>Ярославль</td>\n",
       "      <td>М</td>\n",
       "      <td>39.0</td>\n",
       "      <td>5</td>\n",
       "      <td>915959.85</td>\n",
       "      <td>3</td>\n",
       "      <td>0</td>\n",
       "      <td>1</td>\n",
       "      <td>154034.62</td>\n",
       "      <td>1</td>\n",
       "    </tr>\n",
       "    <tr>\n",
       "      <th>81</th>\n",
       "      <td>81</td>\n",
       "      <td>223978</td>\n",
       "      <td>850.0</td>\n",
       "      <td>Рыбинск</td>\n",
       "      <td>М</td>\n",
       "      <td>34.0</td>\n",
       "      <td>5</td>\n",
       "      <td>351583.16</td>\n",
       "      <td>4</td>\n",
       "      <td>0</td>\n",
       "      <td>1</td>\n",
       "      <td>115354.97</td>\n",
       "      <td>1</td>\n",
       "    </tr>\n",
       "    <tr>\n",
       "      <th>160</th>\n",
       "      <td>160</td>\n",
       "      <td>171716</td>\n",
       "      <td>908.0</td>\n",
       "      <td>Рыбинск</td>\n",
       "      <td>М</td>\n",
       "      <td>30.0</td>\n",
       "      <td>3</td>\n",
       "      <td>245237.57</td>\n",
       "      <td>4</td>\n",
       "      <td>1</td>\n",
       "      <td>1</td>\n",
       "      <td>78324.89</td>\n",
       "      <td>1</td>\n",
       "    </tr>\n",
       "    <tr>\n",
       "      <th>177</th>\n",
       "      <td>177</td>\n",
       "      <td>147950</td>\n",
       "      <td>899.0</td>\n",
       "      <td>Ярославль</td>\n",
       "      <td>М</td>\n",
       "      <td>37.0</td>\n",
       "      <td>4</td>\n",
       "      <td>2229215.25</td>\n",
       "      <td>3</td>\n",
       "      <td>0</td>\n",
       "      <td>1</td>\n",
       "      <td>304260.47</td>\n",
       "      <td>1</td>\n",
       "    </tr>\n",
       "    <tr>\n",
       "      <th>208</th>\n",
       "      <td>208</td>\n",
       "      <td>214357</td>\n",
       "      <td>819.0</td>\n",
       "      <td>Ярославль</td>\n",
       "      <td>М</td>\n",
       "      <td>34.0</td>\n",
       "      <td>3</td>\n",
       "      <td>1228101.55</td>\n",
       "      <td>4</td>\n",
       "      <td>1</td>\n",
       "      <td>1</td>\n",
       "      <td>141504.44</td>\n",
       "      <td>1</td>\n",
       "    </tr>\n",
       "    <tr>\n",
       "      <th>...</th>\n",
       "      <td>...</td>\n",
       "      <td>...</td>\n",
       "      <td>...</td>\n",
       "      <td>...</td>\n",
       "      <td>...</td>\n",
       "      <td>...</td>\n",
       "      <td>...</td>\n",
       "      <td>...</td>\n",
       "      <td>...</td>\n",
       "      <td>...</td>\n",
       "      <td>...</td>\n",
       "      <td>...</td>\n",
       "      <td>...</td>\n",
       "    </tr>\n",
       "    <tr>\n",
       "      <th>9872</th>\n",
       "      <td>9872</td>\n",
       "      <td>227649</td>\n",
       "      <td>865.0</td>\n",
       "      <td>Ярославль</td>\n",
       "      <td>М</td>\n",
       "      <td>51.0</td>\n",
       "      <td>6</td>\n",
       "      <td>904732.82</td>\n",
       "      <td>4</td>\n",
       "      <td>1</td>\n",
       "      <td>0</td>\n",
       "      <td>216582.58</td>\n",
       "      <td>1</td>\n",
       "    </tr>\n",
       "    <tr>\n",
       "      <th>9876</th>\n",
       "      <td>9876</td>\n",
       "      <td>190603</td>\n",
       "      <td>822.0</td>\n",
       "      <td>Ярославль</td>\n",
       "      <td>М</td>\n",
       "      <td>35.0</td>\n",
       "      <td>3</td>\n",
       "      <td>310135.19</td>\n",
       "      <td>3</td>\n",
       "      <td>0</td>\n",
       "      <td>1</td>\n",
       "      <td>79289.04</td>\n",
       "      <td>1</td>\n",
       "    </tr>\n",
       "    <tr>\n",
       "      <th>9896</th>\n",
       "      <td>9896</td>\n",
       "      <td>133758</td>\n",
       "      <td>919.0</td>\n",
       "      <td>Ярославль</td>\n",
       "      <td>М</td>\n",
       "      <td>42.0</td>\n",
       "      <td>5</td>\n",
       "      <td>2183175.39</td>\n",
       "      <td>4</td>\n",
       "      <td>1</td>\n",
       "      <td>1</td>\n",
       "      <td>206343.23</td>\n",
       "      <td>1</td>\n",
       "    </tr>\n",
       "    <tr>\n",
       "      <th>9941</th>\n",
       "      <td>9941</td>\n",
       "      <td>223285</td>\n",
       "      <td>862.0</td>\n",
       "      <td>Ростов</td>\n",
       "      <td>М</td>\n",
       "      <td>46.0</td>\n",
       "      <td>3</td>\n",
       "      <td>1784723.84</td>\n",
       "      <td>4</td>\n",
       "      <td>1</td>\n",
       "      <td>1</td>\n",
       "      <td>202524.28</td>\n",
       "      <td>1</td>\n",
       "    </tr>\n",
       "    <tr>\n",
       "      <th>9963</th>\n",
       "      <td>9963</td>\n",
       "      <td>187204</td>\n",
       "      <td>957.0</td>\n",
       "      <td>Ярославль</td>\n",
       "      <td>М</td>\n",
       "      <td>35.0</td>\n",
       "      <td>4</td>\n",
       "      <td>3431029.03</td>\n",
       "      <td>4</td>\n",
       "      <td>1</td>\n",
       "      <td>0</td>\n",
       "      <td>354987.43</td>\n",
       "      <td>1</td>\n",
       "    </tr>\n",
       "  </tbody>\n",
       "</table>\n",
       "<p>376 rows × 13 columns</p>\n",
       "</div>"
      ],
      "text/plain": [
       "      index_id  user_id  score       city gender   age  equity     balance  \\\n",
       "72          72   156677  873.0  Ярославль      М  39.0       5   915959.85   \n",
       "81          81   223978  850.0    Рыбинск      М  34.0       5   351583.16   \n",
       "160        160   171716  908.0    Рыбинск      М  30.0       3   245237.57   \n",
       "177        177   147950  899.0  Ярославль      М  37.0       4  2229215.25   \n",
       "208        208   214357  819.0  Ярославль      М  34.0       3  1228101.55   \n",
       "...        ...      ...    ...        ...    ...   ...     ...         ...   \n",
       "9872      9872   227649  865.0  Ярославль      М  51.0       6   904732.82   \n",
       "9876      9876   190603  822.0  Ярославль      М  35.0       3   310135.19   \n",
       "9896      9896   133758  919.0  Ярославль      М  42.0       5  2183175.39   \n",
       "9941      9941   223285  862.0     Ростов      М  46.0       3  1784723.84   \n",
       "9963      9963   187204  957.0  Ярославль      М  35.0       4  3431029.03   \n",
       "\n",
       "      products  credit_card  last_activity  est_salary  churn  \n",
       "72           3            0              1   154034.62      1  \n",
       "81           4            0              1   115354.97      1  \n",
       "160          4            1              1    78324.89      1  \n",
       "177          3            0              1   304260.47      1  \n",
       "208          4            1              1   141504.44      1  \n",
       "...        ...          ...            ...         ...    ...  \n",
       "9872         4            1              0   216582.58      1  \n",
       "9876         3            0              1    79289.04      1  \n",
       "9896         4            1              1   206343.23      1  \n",
       "9941         4            1              1   202524.28      1  \n",
       "9963         4            1              0   354987.43      1  \n",
       "\n",
       "[376 rows x 13 columns]"
      ]
     },
     "metadata": {},
     "output_type": "display_data"
    },
    {
     "name": "stdout",
     "output_type": "stream",
     "text": [
      "Portrait 2: male, credit scoring >= 642, products >= 3\n",
      "Total number of clients in segment 2: 752\n",
      "Total number of clients quit in segment 2: 376\n",
      "Churn clients share: 50.0%\n"
     ]
    }
   ],
   "source": [
    "# a slice of customers in a segment\n",
    "portrait_2 = bank.query('gender == \"М\" and score >= 642 and products >= 3')\n",
    "# number of clients in a segment\n",
    "cnt_portrait_2 = portrait_2['index_id'].count()\n",
    "\n",
    "# portrait 2\n",
    "churn_portrait_2 = bank.query('gender == \"М\" and score >= 642 and products >= 3 and churn == 1')\n",
    "# number of clients quit in a segment\n",
    "cnt_churn_portrait_2 = churn_portrait_2['index_id'].count()\n",
    "\n",
    "#churn_portrait_1 = bank.query('products >= 3 and equity >= 5 and last_activity == 1 and gender == \"М\" and score >= 642 and age_group == \"46-62\" and churn == 1')\n",
    "display(churn_portrait_2)\n",
    "print('Portrait 2: male, credit scoring >= 642, products >= 3')\n",
    "print('Total number of clients in segment 2: ' + str(cnt_portrait_2))\n",
    "print('Total number of clients quit in segment 2: ' + str(cnt_churn_portrait_2))\n",
    "print('Churn clients share: ' + str(round(cnt_churn_portrait_2 / cnt_portrait_2 * 100, 1)) + '%')"
   ]
  },
  {
   "cell_type": "code",
   "execution_count": 49,
   "id": "570fdf9f",
   "metadata": {},
   "outputs": [
    {
     "data": {
      "text/html": [
       "<div>\n",
       "<style scoped>\n",
       "    .dataframe tbody tr th:only-of-type {\n",
       "        vertical-align: middle;\n",
       "    }\n",
       "\n",
       "    .dataframe tbody tr th {\n",
       "        vertical-align: top;\n",
       "    }\n",
       "\n",
       "    .dataframe thead th {\n",
       "        text-align: right;\n",
       "    }\n",
       "</style>\n",
       "<table border=\"1\" class=\"dataframe\">\n",
       "  <thead>\n",
       "    <tr style=\"text-align: right;\">\n",
       "      <th></th>\n",
       "      <th>index_id</th>\n",
       "      <th>user_id</th>\n",
       "      <th>score</th>\n",
       "      <th>city</th>\n",
       "      <th>gender</th>\n",
       "      <th>age</th>\n",
       "      <th>equity</th>\n",
       "      <th>balance</th>\n",
       "      <th>products</th>\n",
       "      <th>credit_card</th>\n",
       "      <th>last_activity</th>\n",
       "      <th>est_salary</th>\n",
       "      <th>churn</th>\n",
       "    </tr>\n",
       "  </thead>\n",
       "  <tbody>\n",
       "    <tr>\n",
       "      <th>83</th>\n",
       "      <td>83</td>\n",
       "      <td>189395</td>\n",
       "      <td>792.0</td>\n",
       "      <td>Ярославль</td>\n",
       "      <td>Ж</td>\n",
       "      <td>66.0</td>\n",
       "      <td>1</td>\n",
       "      <td>266586.19</td>\n",
       "      <td>3</td>\n",
       "      <td>0</td>\n",
       "      <td>1</td>\n",
       "      <td>51536.94</td>\n",
       "      <td>1</td>\n",
       "    </tr>\n",
       "    <tr>\n",
       "      <th>148</th>\n",
       "      <td>148</td>\n",
       "      <td>122769</td>\n",
       "      <td>868.0</td>\n",
       "      <td>Ростов</td>\n",
       "      <td>Ж</td>\n",
       "      <td>58.0</td>\n",
       "      <td>5</td>\n",
       "      <td>1334745.59</td>\n",
       "      <td>4</td>\n",
       "      <td>0</td>\n",
       "      <td>1</td>\n",
       "      <td>63049.60</td>\n",
       "      <td>1</td>\n",
       "    </tr>\n",
       "    <tr>\n",
       "      <th>237</th>\n",
       "      <td>237</td>\n",
       "      <td>187043</td>\n",
       "      <td>827.0</td>\n",
       "      <td>Ярославль</td>\n",
       "      <td>М</td>\n",
       "      <td>69.0</td>\n",
       "      <td>5</td>\n",
       "      <td>1024786.60</td>\n",
       "      <td>3</td>\n",
       "      <td>0</td>\n",
       "      <td>0</td>\n",
       "      <td>85853.26</td>\n",
       "      <td>1</td>\n",
       "    </tr>\n",
       "    <tr>\n",
       "      <th>283</th>\n",
       "      <td>283</td>\n",
       "      <td>136262</td>\n",
       "      <td>878.0</td>\n",
       "      <td>Ярославль</td>\n",
       "      <td>Ж</td>\n",
       "      <td>44.0</td>\n",
       "      <td>3</td>\n",
       "      <td>1151318.03</td>\n",
       "      <td>4</td>\n",
       "      <td>1</td>\n",
       "      <td>1</td>\n",
       "      <td>222976.85</td>\n",
       "      <td>1</td>\n",
       "    </tr>\n",
       "    <tr>\n",
       "      <th>314</th>\n",
       "      <td>314</td>\n",
       "      <td>220193</td>\n",
       "      <td>987.0</td>\n",
       "      <td>Рыбинск</td>\n",
       "      <td>М</td>\n",
       "      <td>58.0</td>\n",
       "      <td>5</td>\n",
       "      <td>1137747.96</td>\n",
       "      <td>3</td>\n",
       "      <td>0</td>\n",
       "      <td>0</td>\n",
       "      <td>52950.12</td>\n",
       "      <td>1</td>\n",
       "    </tr>\n",
       "    <tr>\n",
       "      <th>...</th>\n",
       "      <td>...</td>\n",
       "      <td>...</td>\n",
       "      <td>...</td>\n",
       "      <td>...</td>\n",
       "      <td>...</td>\n",
       "      <td>...</td>\n",
       "      <td>...</td>\n",
       "      <td>...</td>\n",
       "      <td>...</td>\n",
       "      <td>...</td>\n",
       "      <td>...</td>\n",
       "      <td>...</td>\n",
       "      <td>...</td>\n",
       "    </tr>\n",
       "    <tr>\n",
       "      <th>9861</th>\n",
       "      <td>9861</td>\n",
       "      <td>179288</td>\n",
       "      <td>908.0</td>\n",
       "      <td>Ярославль</td>\n",
       "      <td>Ж</td>\n",
       "      <td>55.0</td>\n",
       "      <td>5</td>\n",
       "      <td>2036988.28</td>\n",
       "      <td>4</td>\n",
       "      <td>1</td>\n",
       "      <td>1</td>\n",
       "      <td>122581.49</td>\n",
       "      <td>1</td>\n",
       "    </tr>\n",
       "    <tr>\n",
       "      <th>9872</th>\n",
       "      <td>9872</td>\n",
       "      <td>227649</td>\n",
       "      <td>865.0</td>\n",
       "      <td>Ярославль</td>\n",
       "      <td>М</td>\n",
       "      <td>51.0</td>\n",
       "      <td>6</td>\n",
       "      <td>904732.82</td>\n",
       "      <td>4</td>\n",
       "      <td>1</td>\n",
       "      <td>0</td>\n",
       "      <td>216582.58</td>\n",
       "      <td>1</td>\n",
       "    </tr>\n",
       "    <tr>\n",
       "      <th>9896</th>\n",
       "      <td>9896</td>\n",
       "      <td>133758</td>\n",
       "      <td>919.0</td>\n",
       "      <td>Ярославль</td>\n",
       "      <td>М</td>\n",
       "      <td>42.0</td>\n",
       "      <td>5</td>\n",
       "      <td>2183175.39</td>\n",
       "      <td>4</td>\n",
       "      <td>1</td>\n",
       "      <td>1</td>\n",
       "      <td>206343.23</td>\n",
       "      <td>1</td>\n",
       "    </tr>\n",
       "    <tr>\n",
       "      <th>9941</th>\n",
       "      <td>9941</td>\n",
       "      <td>223285</td>\n",
       "      <td>862.0</td>\n",
       "      <td>Ростов</td>\n",
       "      <td>М</td>\n",
       "      <td>46.0</td>\n",
       "      <td>3</td>\n",
       "      <td>1784723.84</td>\n",
       "      <td>4</td>\n",
       "      <td>1</td>\n",
       "      <td>1</td>\n",
       "      <td>202524.28</td>\n",
       "      <td>1</td>\n",
       "    </tr>\n",
       "    <tr>\n",
       "      <th>9962</th>\n",
       "      <td>9962</td>\n",
       "      <td>217489</td>\n",
       "      <td>893.0</td>\n",
       "      <td>Ярославль</td>\n",
       "      <td>Ж</td>\n",
       "      <td>49.0</td>\n",
       "      <td>5</td>\n",
       "      <td>1571192.11</td>\n",
       "      <td>4</td>\n",
       "      <td>1</td>\n",
       "      <td>1</td>\n",
       "      <td>151217.99</td>\n",
       "      <td>1</td>\n",
       "    </tr>\n",
       "  </tbody>\n",
       "</table>\n",
       "<p>306 rows × 13 columns</p>\n",
       "</div>"
      ],
      "text/plain": [
       "      index_id  user_id  score       city gender   age  equity     balance  \\\n",
       "83          83   189395  792.0  Ярославль      Ж  66.0       1   266586.19   \n",
       "148        148   122769  868.0     Ростов      Ж  58.0       5  1334745.59   \n",
       "237        237   187043  827.0  Ярославль      М  69.0       5  1024786.60   \n",
       "283        283   136262  878.0  Ярославль      Ж  44.0       3  1151318.03   \n",
       "314        314   220193  987.0    Рыбинск      М  58.0       5  1137747.96   \n",
       "...        ...      ...    ...        ...    ...   ...     ...         ...   \n",
       "9861      9861   179288  908.0  Ярославль      Ж  55.0       5  2036988.28   \n",
       "9872      9872   227649  865.0  Ярославль      М  51.0       6   904732.82   \n",
       "9896      9896   133758  919.0  Ярославль      М  42.0       5  2183175.39   \n",
       "9941      9941   223285  862.0     Ростов      М  46.0       3  1784723.84   \n",
       "9962      9962   217489  893.0  Ярославль      Ж  49.0       5  1571192.11   \n",
       "\n",
       "      products  credit_card  last_activity  est_salary  churn  \n",
       "83           3            0              1    51536.94      1  \n",
       "148          4            0              1    63049.60      1  \n",
       "237          3            0              0    85853.26      1  \n",
       "283          4            1              1   222976.85      1  \n",
       "314          3            0              0    52950.12      1  \n",
       "...        ...          ...            ...         ...    ...  \n",
       "9861         4            1              1   122581.49      1  \n",
       "9872         4            1              0   216582.58      1  \n",
       "9896         4            1              1   206343.23      1  \n",
       "9941         4            1              1   202524.28      1  \n",
       "9962         4            1              1   151217.99      1  \n",
       "\n",
       "[306 rows x 13 columns]"
      ]
     },
     "metadata": {},
     "output_type": "display_data"
    },
    {
     "name": "stdout",
     "output_type": "stream",
     "text": [
      "Portrait 3: products >= 3, age >= 40\n",
      "Total number of clients in segment 3: 820\n",
      "Total number of clients quit in segment 3: 306\n",
      "Churn clients share: 37.3%\n"
     ]
    }
   ],
   "source": [
    "# a slice of customers in a segment\n",
    "portrait_3 = bank.query('products >= 3 and age>=40')\n",
    "# number of clients in a segment\n",
    "cnt_portrait_3 = portrait_3['index_id'].count()\n",
    "\n",
    "# portrait 3\n",
    "churn_portrait_3 = bank.query('products >= 3 and age >= 40 and churn == 1')\n",
    "# number of clients quit in a segment\n",
    "cnt_churn_portrait_3 = churn_portrait_3['index_id'].count()\n",
    "\n",
    "display(churn_portrait_3)\n",
    "print('Portrait 3: products >= 3, age >= 40')\n",
    "print('Total number of clients in segment 3: ' + str(cnt_portrait_3))\n",
    "print('Total number of clients quit in segment 3: ' + str(cnt_churn_portrait_3))\n",
    "print('Churn clients share: ' + str(round(cnt_churn_portrait_3 / cnt_portrait_3 * 100, 1)) + '%')"
   ]
  },
  {
   "cell_type": "code",
   "execution_count": 50,
   "id": "76463918",
   "metadata": {},
   "outputs": [
    {
     "data": {
      "text/html": [
       "<div>\n",
       "<style scoped>\n",
       "    .dataframe tbody tr th:only-of-type {\n",
       "        vertical-align: middle;\n",
       "    }\n",
       "\n",
       "    .dataframe tbody tr th {\n",
       "        vertical-align: top;\n",
       "    }\n",
       "\n",
       "    .dataframe thead th {\n",
       "        text-align: right;\n",
       "    }\n",
       "</style>\n",
       "<table border=\"1\" class=\"dataframe\">\n",
       "  <thead>\n",
       "    <tr style=\"text-align: right;\">\n",
       "      <th></th>\n",
       "      <th>index_id</th>\n",
       "      <th>user_id</th>\n",
       "      <th>score</th>\n",
       "      <th>city</th>\n",
       "      <th>gender</th>\n",
       "      <th>age</th>\n",
       "      <th>equity</th>\n",
       "      <th>balance</th>\n",
       "      <th>products</th>\n",
       "      <th>credit_card</th>\n",
       "      <th>last_activity</th>\n",
       "      <th>est_salary</th>\n",
       "      <th>churn</th>\n",
       "    </tr>\n",
       "  </thead>\n",
       "  <tbody>\n",
       "    <tr>\n",
       "      <th>0</th>\n",
       "      <td>0</td>\n",
       "      <td>183012</td>\n",
       "      <td>850.0</td>\n",
       "      <td>Рыбинск</td>\n",
       "      <td>Ж</td>\n",
       "      <td>25.0</td>\n",
       "      <td>1</td>\n",
       "      <td>59214.82</td>\n",
       "      <td>2</td>\n",
       "      <td>0</td>\n",
       "      <td>1</td>\n",
       "      <td>75719.14</td>\n",
       "      <td>1</td>\n",
       "    </tr>\n",
       "    <tr>\n",
       "      <th>3</th>\n",
       "      <td>3</td>\n",
       "      <td>225363</td>\n",
       "      <td>866.0</td>\n",
       "      <td>Ярославль</td>\n",
       "      <td>Ж</td>\n",
       "      <td>51.0</td>\n",
       "      <td>5</td>\n",
       "      <td>1524746.26</td>\n",
       "      <td>2</td>\n",
       "      <td>0</td>\n",
       "      <td>1</td>\n",
       "      <td>174423.53</td>\n",
       "      <td>1</td>\n",
       "    </tr>\n",
       "    <tr>\n",
       "      <th>61</th>\n",
       "      <td>61</td>\n",
       "      <td>136096</td>\n",
       "      <td>896.0</td>\n",
       "      <td>Ярославль</td>\n",
       "      <td>Ж</td>\n",
       "      <td>39.0</td>\n",
       "      <td>5</td>\n",
       "      <td>657597.09</td>\n",
       "      <td>2</td>\n",
       "      <td>0</td>\n",
       "      <td>1</td>\n",
       "      <td>266033.98</td>\n",
       "      <td>1</td>\n",
       "    </tr>\n",
       "    <tr>\n",
       "      <th>72</th>\n",
       "      <td>72</td>\n",
       "      <td>156677</td>\n",
       "      <td>873.0</td>\n",
       "      <td>Ярославль</td>\n",
       "      <td>М</td>\n",
       "      <td>39.0</td>\n",
       "      <td>5</td>\n",
       "      <td>915959.85</td>\n",
       "      <td>3</td>\n",
       "      <td>0</td>\n",
       "      <td>1</td>\n",
       "      <td>154034.62</td>\n",
       "      <td>1</td>\n",
       "    </tr>\n",
       "    <tr>\n",
       "      <th>81</th>\n",
       "      <td>81</td>\n",
       "      <td>223978</td>\n",
       "      <td>850.0</td>\n",
       "      <td>Рыбинск</td>\n",
       "      <td>М</td>\n",
       "      <td>34.0</td>\n",
       "      <td>5</td>\n",
       "      <td>351583.16</td>\n",
       "      <td>4</td>\n",
       "      <td>0</td>\n",
       "      <td>1</td>\n",
       "      <td>115354.97</td>\n",
       "      <td>1</td>\n",
       "    </tr>\n",
       "    <tr>\n",
       "      <th>...</th>\n",
       "      <td>...</td>\n",
       "      <td>...</td>\n",
       "      <td>...</td>\n",
       "      <td>...</td>\n",
       "      <td>...</td>\n",
       "      <td>...</td>\n",
       "      <td>...</td>\n",
       "      <td>...</td>\n",
       "      <td>...</td>\n",
       "      <td>...</td>\n",
       "      <td>...</td>\n",
       "      <td>...</td>\n",
       "      <td>...</td>\n",
       "    </tr>\n",
       "    <tr>\n",
       "      <th>9891</th>\n",
       "      <td>9891</td>\n",
       "      <td>161917</td>\n",
       "      <td>963.0</td>\n",
       "      <td>Ярославль</td>\n",
       "      <td>М</td>\n",
       "      <td>27.0</td>\n",
       "      <td>4</td>\n",
       "      <td>4028889.42</td>\n",
       "      <td>2</td>\n",
       "      <td>0</td>\n",
       "      <td>1</td>\n",
       "      <td>376158.61</td>\n",
       "      <td>1</td>\n",
       "    </tr>\n",
       "    <tr>\n",
       "      <th>9912</th>\n",
       "      <td>9912</td>\n",
       "      <td>149773</td>\n",
       "      <td>900.0</td>\n",
       "      <td>Ростов</td>\n",
       "      <td>Ж</td>\n",
       "      <td>34.0</td>\n",
       "      <td>2</td>\n",
       "      <td>410240.77</td>\n",
       "      <td>2</td>\n",
       "      <td>0</td>\n",
       "      <td>1</td>\n",
       "      <td>171986.36</td>\n",
       "      <td>1</td>\n",
       "    </tr>\n",
       "    <tr>\n",
       "      <th>9933</th>\n",
       "      <td>9933</td>\n",
       "      <td>197891</td>\n",
       "      <td>899.0</td>\n",
       "      <td>Ярославль</td>\n",
       "      <td>М</td>\n",
       "      <td>37.0</td>\n",
       "      <td>5</td>\n",
       "      <td>1422472.42</td>\n",
       "      <td>2</td>\n",
       "      <td>0</td>\n",
       "      <td>1</td>\n",
       "      <td>231978.68</td>\n",
       "      <td>1</td>\n",
       "    </tr>\n",
       "    <tr>\n",
       "      <th>9981</th>\n",
       "      <td>9981</td>\n",
       "      <td>154871</td>\n",
       "      <td>892.0</td>\n",
       "      <td>Рыбинск</td>\n",
       "      <td>М</td>\n",
       "      <td>39.0</td>\n",
       "      <td>5</td>\n",
       "      <td>636287.72</td>\n",
       "      <td>2</td>\n",
       "      <td>0</td>\n",
       "      <td>1</td>\n",
       "      <td>227288.27</td>\n",
       "      <td>1</td>\n",
       "    </tr>\n",
       "    <tr>\n",
       "      <th>9986</th>\n",
       "      <td>9986</td>\n",
       "      <td>152986</td>\n",
       "      <td>822.0</td>\n",
       "      <td>Ярославль</td>\n",
       "      <td>М</td>\n",
       "      <td>58.0</td>\n",
       "      <td>5</td>\n",
       "      <td>1434857.91</td>\n",
       "      <td>2</td>\n",
       "      <td>0</td>\n",
       "      <td>1</td>\n",
       "      <td>83442.41</td>\n",
       "      <td>1</td>\n",
       "    </tr>\n",
       "  </tbody>\n",
       "</table>\n",
       "<p>613 rows × 13 columns</p>\n",
       "</div>"
      ],
      "text/plain": [
       "      index_id  user_id  score       city gender   age  equity     balance  \\\n",
       "0            0   183012  850.0    Рыбинск      Ж  25.0       1    59214.82   \n",
       "3            3   225363  866.0  Ярославль      Ж  51.0       5  1524746.26   \n",
       "61          61   136096  896.0  Ярославль      Ж  39.0       5   657597.09   \n",
       "72          72   156677  873.0  Ярославль      М  39.0       5   915959.85   \n",
       "81          81   223978  850.0    Рыбинск      М  34.0       5   351583.16   \n",
       "...        ...      ...    ...        ...    ...   ...     ...         ...   \n",
       "9891      9891   161917  963.0  Ярославль      М  27.0       4  4028889.42   \n",
       "9912      9912   149773  900.0     Ростов      Ж  34.0       2   410240.77   \n",
       "9933      9933   197891  899.0  Ярославль      М  37.0       5  1422472.42   \n",
       "9981      9981   154871  892.0    Рыбинск      М  39.0       5   636287.72   \n",
       "9986      9986   152986  822.0  Ярославль      М  58.0       5  1434857.91   \n",
       "\n",
       "      products  credit_card  last_activity  est_salary  churn  \n",
       "0            2            0              1    75719.14      1  \n",
       "3            2            0              1   174423.53      1  \n",
       "61           2            0              1   266033.98      1  \n",
       "72           3            0              1   154034.62      1  \n",
       "81           4            0              1   115354.97      1  \n",
       "...        ...          ...            ...         ...    ...  \n",
       "9891         2            0              1   376158.61      1  \n",
       "9912         2            0              1   171986.36      1  \n",
       "9933         2            0              1   231978.68      1  \n",
       "9981         2            0              1   227288.27      1  \n",
       "9986         2            0              1    83442.41      1  \n",
       "\n",
       "[613 rows x 13 columns]"
      ]
     },
     "metadata": {},
     "output_type": "display_data"
    },
    {
     "name": "stdout",
     "output_type": "stream",
     "text": [
      "Portrait 4: no credit card, active\n",
      "Total number of clients in segment 4: 1751\n",
      "Total number of clients churn in segment 4: 613\n",
      "Churn clients share: 35.0%\n"
     ]
    }
   ],
   "source": [
    "# a slice of customers in a segment\n",
    "portrait_4 = bank.query('credit_card == 0 and last_activity == 1')\n",
    "# number of clients in a segment\n",
    "cnt_portrait_4 = portrait_4['index_id'].count()\n",
    "\n",
    "# portrait 4\n",
    "churn_portrait_4 = bank.query('credit_card == 0 and last_activity == 1 and churn == 1')\n",
    "# number of clients quit in a segment\n",
    "cnt_churn_portrait_4 = churn_portrait_4['index_id'].count()\n",
    "\n",
    "display(churn_portrait_4)\n",
    "print('Portrait 4: no credit card, active')\n",
    "print('Total number of clients in segment 4: ' + str(cnt_portrait_4))\n",
    "print('Total number of clients churn in segment 4: ' + str(cnt_churn_portrait_4))\n",
    "print('Churn clients share: ' + str(round(cnt_churn_portrait_4 / cnt_portrait_4 * 100, 1)) + '%')"
   ]
  },
  {
   "cell_type": "markdown",
   "id": "82901eea",
   "metadata": {},
   "source": [
    "## Statistical hypotheses statement and testing"
   ]
  },
  {
   "cell_type": "markdown",
   "id": "cb81c018",
   "metadata": {},
   "source": [
    "### Let's test the hypothesis of a difference in income between those customers who\n",
    "who left and those who stayed.\n",
    "\n",
    "Let's introduce the null hypothesis and the alternative hypothesis:\n",
    "\n",
    "$\\begin{equation*}\n",
    " \\begin{cases}\n",
    "   H_0 :\\text{The average revenues of the remaining and quitting customers are equal,}\\\\\n",
    "   H_1 :\\text{The average revenues of remaining and quitting customers are different}.\n",
    " \\end{cases}\n",
    "\\end{equation*}$\n",
    "\n",
    "Let's test the hypothesis using t-test:"
   ]
  },
  {
   "cell_type": "code",
   "execution_count": 51,
   "id": "1f8942a3",
   "metadata": {},
   "outputs": [
    {
     "name": "stdout",
     "output_type": "stream",
     "text": [
      "p-value for the comparison of the groups of remaining and quitting customers:  0.8839364433181659\n",
      "Failed to reject the null hypothesis.\n"
     ]
    }
   ],
   "source": [
    "alpha = 0.05 # critical level of statistical significance\n",
    "\n",
    "sample_salary_0 = bank[bank['churn']==0]['est_salary']\n",
    "sample_salary_1 = bank[bank['churn']==1]['est_salary']\n",
    "\n",
    "results = st.ttest_ind(sample_salary_0, sample_salary_1)\n",
    "\n",
    "print('p-value for the comparison of the groups of remaining and quitting customers: ', results.pvalue)\n",
    "\n",
    "if results.pvalue < alpha:\n",
    "    print('Reject the null hypothesis.')\n",
    "else:\n",
    "    print(\n",
    "        'Failed to reject the null hypothesis.'\n",
    "    )"
   ]
  },
  {
   "cell_type": "markdown",
   "id": "fe438258",
   "metadata": {},
   "source": [
    "**Summary:**  \n",
    "Hypothesis testing did not reveal the dependence of customer churn on income.  \n",
    "Thanks to statistical research we also did not reveal any dependence."
   ]
  },
  {
   "cell_type": "markdown",
   "id": "80c51e5c",
   "metadata": {},
   "source": [
    "### Let's test one more hypothesis about the data presented, which will help to clarify the study\n",
    "\n",
    "Let's test the dependence of churn on the number of property scores.\n",
    "Let's state the null and alternative hypotheses:\n",
    "\n",
    "$\\begin{equation*}\n",
    " \\begin{cases}\n",
    "   H_0 :\\text{The average number of ownership points of the remaining and leaving customers is equal,}\\\\\n",
    "   H_1 :\\text{The average number of ownership points of the remaining and leaving customers is different.}\n",
    " \\end{cases}\n",
    "\\end{equation*}$\n",
    "\n",
    "Let's test the hypothesis using t-test:"
   ]
  },
  {
   "cell_type": "code",
   "execution_count": 52,
   "id": "082a7e5b",
   "metadata": {},
   "outputs": [
    {
     "name": "stdout",
     "output_type": "stream",
     "text": [
      "p-value for the comparison of the groups of remaining and quitting customers:  2.6060183523439987e-167\n",
      "Reject the null hypothesis.\n"
     ]
    }
   ],
   "source": [
    "alpha = 0.05 # critical level of statistical significance\n",
    "\n",
    "sample_equity_0 = bank[bank['churn']==0]['equity']\n",
    "sample_equity_1 = bank[bank['churn']==1]['equity']\n",
    "\n",
    "results = st.ttest_ind(sample_equity_0, sample_equity_1)\n",
    "\n",
    "print('p-value for the comparison of the groups of remaining and quitting customers: ', results.pvalue)\n",
    "\n",
    "if results.pvalue < alpha:\n",
    "    print('Reject the null hypothesis.')\n",
    "else:\n",
    "    print(\n",
    "        'Failed to reject the null hypothesis.'\n",
    "    )\n"
   ]
  },
  {
   "cell_type": "markdown",
   "id": "836b3a1d",
   "metadata": {},
   "source": [
    "**Summary:**  \n",
    "With the help of t-test we have concluded that the number of property scores has an effect on churn. This was also observed in the exploratory analysis."
   ]
  },
  {
   "cell_type": "markdown",
   "id": "094d6dda",
   "metadata": {},
   "source": [
    "## General summary:  \n",
    "The exploratory analysis identified the main parameters of users who leave:  \n",
    "- By number of products:  \n",
    "    3 or more\n",
    "- by ownership score:  \n",
    "    from 5\n",
    "- by activity:  \n",
    "    active\n",
    "- by gender:  \n",
    "    М\n",
    "- by credit card availability:    \n",
    "    none\n",
    "- by credit scoring:  \n",
    "    642 points and above\n",
    "- age group:  \n",
    "    40 and over  \n",
    "  \n",
    "By combining different attributes, we have found groups of 500-2000 customers that share common features.   \n",
    "This provides us with additional data, which we can use to avoid customer churn by monitoring and adjusting:  \n",
    "- men with credit scores of 642 and above,  \n",
    "- men with credit scores of 5 and above,  \n",
    "- users aged 40 and over with a credit score of 642,  \n",
    "- active customers who do not have a credit card.\n",
    "\n",
    "**Assumption:**  \n",
    "We can see that, in general, all groups of departing users are connected with credit in one form or another:    \n",
    "- high scoring, indicating good creditworthiness: a male has repaid a loan quickly and on time, and no more credit is needed -- new loans with a more favourable rate can be offered to such men,  \n",
    "- men with high property scores are also more reliable and faster in repaying their obligations, possibly going to another bank with more favourable terms,  \n",
    "- all users with high credit scoring are faster than others to lose the need to remain a customer of a bank if there are more favourable terms at another,  \n",
    "- customers who have no credit cards (i.e. no obligations to the bank) tend to change banks more quickly if there are more favourable terms at competitors.  \n",
    "\n",
    "**Necessary:**  \n",
    "Ask potential quitting customers (from the groups found) what would be interesting, favourable for them, what makes them uncomfortable, why they might leave and other questions."
   ]
  },
  {
   "cell_type": "markdown",
   "id": "88e59e0b",
   "metadata": {},
   "source": [
    "Presentation:  \n",
    "https://drive.google.com/file/d/1FECwnV2pIRI2R4uq80nBkky8Mio77V2u/view?usp=sharing"
   ]
  }
 ],
 "metadata": {
  "ExecuteTimeLog": [
   {
    "duration": 52,
    "start_time": "2023-12-15T09:05:53.658Z"
   },
   {
    "duration": 1061,
    "start_time": "2023-12-15T09:05:53.712Z"
   },
   {
    "duration": 82,
    "start_time": "2023-12-15T09:05:54.774Z"
   },
   {
    "duration": 23,
    "start_time": "2023-12-15T09:05:54.859Z"
   },
   {
    "duration": 16,
    "start_time": "2023-12-15T09:05:54.884Z"
   },
   {
    "duration": 7,
    "start_time": "2023-12-15T09:05:54.901Z"
   },
   {
    "duration": 75,
    "start_time": "2023-12-15T09:05:54.909Z"
   },
   {
    "duration": 4,
    "start_time": "2023-12-15T09:05:54.986Z"
   },
   {
    "duration": 4,
    "start_time": "2023-12-15T09:05:54.991Z"
   },
   {
    "duration": 2,
    "start_time": "2023-12-15T09:05:54.997Z"
   },
   {
    "duration": 4,
    "start_time": "2023-12-15T09:05:55.000Z"
   },
   {
    "duration": 14,
    "start_time": "2023-12-15T09:05:55.005Z"
   },
   {
    "duration": 3,
    "start_time": "2023-12-15T09:05:55.020Z"
   },
   {
    "duration": 45,
    "start_time": "2023-12-15T09:05:55.024Z"
   },
   {
    "duration": 10,
    "start_time": "2023-12-15T09:05:55.070Z"
   },
   {
    "duration": 34,
    "start_time": "2023-12-15T09:05:55.081Z"
   },
   {
    "duration": 4,
    "start_time": "2023-12-15T09:05:55.116Z"
   },
   {
    "duration": 28,
    "start_time": "2023-12-15T09:05:55.122Z"
   },
   {
    "duration": 16,
    "start_time": "2023-12-15T09:05:55.151Z"
   },
   {
    "duration": 4,
    "start_time": "2023-12-15T09:05:55.169Z"
   },
   {
    "duration": 4,
    "start_time": "2023-12-15T09:05:55.175Z"
   },
   {
    "duration": 22,
    "start_time": "2023-12-15T09:05:55.180Z"
   },
   {
    "duration": 15,
    "start_time": "2023-12-15T09:05:55.204Z"
   },
   {
    "duration": 52,
    "start_time": "2023-12-15T09:05:55.221Z"
   },
   {
    "duration": 13,
    "start_time": "2023-12-15T09:05:55.275Z"
   },
   {
    "duration": 6,
    "start_time": "2023-12-15T09:05:55.289Z"
   },
   {
    "duration": 23,
    "start_time": "2023-12-15T09:05:55.296Z"
   },
   {
    "duration": 13,
    "start_time": "2023-12-15T09:05:55.323Z"
   },
   {
    "duration": 28,
    "start_time": "2023-12-15T09:05:55.337Z"
   },
   {
    "duration": 727,
    "start_time": "2023-12-15T09:05:55.366Z"
   },
   {
    "duration": 3,
    "start_time": "2023-12-15T09:05:56.094Z"
   },
   {
    "duration": 18,
    "start_time": "2023-12-15T09:05:56.099Z"
   },
   {
    "duration": 2,
    "start_time": "2023-12-15T09:05:56.119Z"
   },
   {
    "duration": 8,
    "start_time": "2023-12-15T09:05:56.123Z"
   },
   {
    "duration": 2,
    "start_time": "2023-12-15T09:05:56.132Z"
   },
   {
    "duration": 49,
    "start_time": "2023-12-15T09:05:56.136Z"
   },
   {
    "duration": 3,
    "start_time": "2023-12-15T09:05:56.186Z"
   },
   {
    "duration": 53,
    "start_time": "2023-12-15T09:05:56.190Z"
   },
   {
    "duration": 492,
    "start_time": "2023-12-15T09:05:56.245Z"
   },
   {
    "duration": 27,
    "start_time": "2023-12-15T09:05:56.738Z"
   },
   {
    "duration": 133,
    "start_time": "2023-12-15T09:05:56.766Z"
   },
   {
    "duration": 20,
    "start_time": "2023-12-15T09:05:56.901Z"
   },
   {
    "duration": 170,
    "start_time": "2023-12-15T09:05:56.922Z"
   },
   {
    "duration": 22,
    "start_time": "2023-12-15T09:05:57.094Z"
   },
   {
    "duration": 143,
    "start_time": "2023-12-15T09:05:57.117Z"
   },
   {
    "duration": 20,
    "start_time": "2023-12-15T09:05:57.262Z"
   },
   {
    "duration": 114,
    "start_time": "2023-12-15T09:05:57.283Z"
   },
   {
    "duration": 21,
    "start_time": "2023-12-15T09:05:57.399Z"
   },
   {
    "duration": 201,
    "start_time": "2023-12-15T09:05:57.421Z"
   },
   {
    "duration": 51,
    "start_time": "2023-12-15T09:05:57.624Z"
   },
   {
    "duration": 255,
    "start_time": "2023-12-15T09:05:57.677Z"
   },
   {
    "duration": 32,
    "start_time": "2023-12-15T09:05:57.934Z"
   },
   {
    "duration": 128,
    "start_time": "2023-12-15T09:05:57.967Z"
   },
   {
    "duration": 4,
    "start_time": "2023-12-15T09:05:58.097Z"
   },
   {
    "duration": 30,
    "start_time": "2023-12-15T09:05:58.103Z"
   },
   {
    "duration": 38,
    "start_time": "2023-12-15T09:05:58.135Z"
   },
   {
    "duration": 23,
    "start_time": "2023-12-15T09:05:58.175Z"
   },
   {
    "duration": 23,
    "start_time": "2023-12-15T09:05:58.199Z"
   },
   {
    "duration": 77,
    "start_time": "2023-12-15T09:38:48.788Z"
   },
   {
    "duration": 102,
    "start_time": "2023-12-15T09:39:07.024Z"
   },
   {
    "duration": 16,
    "start_time": "2023-12-15T09:39:30.669Z"
   },
   {
    "duration": 12,
    "start_time": "2023-12-15T09:39:58.331Z"
   },
   {
    "duration": 338,
    "start_time": "2023-12-15T09:40:47.178Z"
   },
   {
    "duration": 78,
    "start_time": "2023-12-15T09:43:10.682Z"
   },
   {
    "duration": 4,
    "start_time": "2023-12-15T09:44:02.896Z"
   },
   {
    "duration": 1519,
    "start_time": "2023-12-16T17:35:35.398Z"
   },
   {
    "duration": 3536,
    "start_time": "2023-12-16T17:45:57.948Z"
   },
   {
    "duration": 2383,
    "start_time": "2023-12-16T18:08:38.952Z"
   },
   {
    "duration": 19,
    "start_time": "2023-12-16T18:14:06.698Z"
   },
   {
    "duration": 39,
    "start_time": "2023-12-16T18:14:11.070Z"
   },
   {
    "duration": 2289,
    "start_time": "2023-12-16T18:14:11.111Z"
   },
   {
    "duration": 185,
    "start_time": "2023-12-16T18:14:13.401Z"
   },
   {
    "duration": 23,
    "start_time": "2023-12-16T18:14:13.588Z"
   },
   {
    "duration": 13,
    "start_time": "2023-12-16T18:14:13.612Z"
   },
   {
    "duration": 8,
    "start_time": "2023-12-16T18:14:13.627Z"
   },
   {
    "duration": 82,
    "start_time": "2023-12-16T18:14:13.636Z"
   },
   {
    "duration": 5,
    "start_time": "2023-12-16T18:14:13.720Z"
   },
   {
    "duration": 21,
    "start_time": "2023-12-16T18:14:13.727Z"
   },
   {
    "duration": 13,
    "start_time": "2023-12-16T18:14:13.751Z"
   },
   {
    "duration": 5,
    "start_time": "2023-12-16T18:14:13.765Z"
   },
   {
    "duration": 12,
    "start_time": "2023-12-16T18:14:13.771Z"
   },
   {
    "duration": 2,
    "start_time": "2023-12-16T18:14:13.785Z"
   },
   {
    "duration": 19,
    "start_time": "2023-12-16T18:14:13.788Z"
   },
   {
    "duration": 9,
    "start_time": "2023-12-16T18:14:13.808Z"
   },
   {
    "duration": 48,
    "start_time": "2023-12-16T18:14:13.819Z"
   },
   {
    "duration": 4,
    "start_time": "2023-12-16T18:14:13.869Z"
   },
   {
    "duration": 14,
    "start_time": "2023-12-16T18:14:13.874Z"
   },
   {
    "duration": 14,
    "start_time": "2023-12-16T18:14:13.889Z"
   },
   {
    "duration": 20,
    "start_time": "2023-12-16T18:14:13.905Z"
   },
   {
    "duration": 11,
    "start_time": "2023-12-16T18:14:13.927Z"
   },
   {
    "duration": 20,
    "start_time": "2023-12-16T18:14:13.940Z"
   },
   {
    "duration": 16,
    "start_time": "2023-12-16T18:14:13.962Z"
   },
   {
    "duration": 36,
    "start_time": "2023-12-16T18:14:13.979Z"
   },
   {
    "duration": 11,
    "start_time": "2023-12-16T18:14:14.016Z"
   },
   {
    "duration": 14,
    "start_time": "2023-12-16T18:14:14.029Z"
   },
   {
    "duration": 21,
    "start_time": "2023-12-16T18:14:14.044Z"
   },
   {
    "duration": 13,
    "start_time": "2023-12-16T18:14:14.068Z"
   },
   {
    "duration": 80,
    "start_time": "2023-12-16T18:14:14.083Z"
   },
   {
    "duration": 0,
    "start_time": "2023-12-16T18:14:14.165Z"
   },
   {
    "duration": 0,
    "start_time": "2023-12-16T18:14:14.166Z"
   },
   {
    "duration": 0,
    "start_time": "2023-12-16T18:14:14.167Z"
   },
   {
    "duration": 0,
    "start_time": "2023-12-16T18:14:14.168Z"
   },
   {
    "duration": 0,
    "start_time": "2023-12-16T18:14:14.169Z"
   },
   {
    "duration": 0,
    "start_time": "2023-12-16T18:14:14.170Z"
   },
   {
    "duration": 0,
    "start_time": "2023-12-16T18:14:14.171Z"
   },
   {
    "duration": 0,
    "start_time": "2023-12-16T18:14:14.172Z"
   },
   {
    "duration": 0,
    "start_time": "2023-12-16T18:14:14.173Z"
   },
   {
    "duration": 0,
    "start_time": "2023-12-16T18:14:14.174Z"
   },
   {
    "duration": 0,
    "start_time": "2023-12-16T18:14:14.175Z"
   },
   {
    "duration": 0,
    "start_time": "2023-12-16T18:14:14.176Z"
   },
   {
    "duration": 0,
    "start_time": "2023-12-16T18:14:14.177Z"
   },
   {
    "duration": 0,
    "start_time": "2023-12-16T18:14:14.178Z"
   },
   {
    "duration": 0,
    "start_time": "2023-12-16T18:14:14.179Z"
   },
   {
    "duration": 0,
    "start_time": "2023-12-16T18:14:14.180Z"
   },
   {
    "duration": 0,
    "start_time": "2023-12-16T18:14:14.181Z"
   },
   {
    "duration": 0,
    "start_time": "2023-12-16T18:14:14.182Z"
   },
   {
    "duration": 0,
    "start_time": "2023-12-16T18:14:14.183Z"
   },
   {
    "duration": 0,
    "start_time": "2023-12-16T18:14:14.185Z"
   },
   {
    "duration": 0,
    "start_time": "2023-12-16T18:14:14.186Z"
   },
   {
    "duration": 0,
    "start_time": "2023-12-16T18:14:14.187Z"
   },
   {
    "duration": 0,
    "start_time": "2023-12-16T18:14:14.188Z"
   },
   {
    "duration": 0,
    "start_time": "2023-12-16T18:14:14.189Z"
   },
   {
    "duration": 0,
    "start_time": "2023-12-16T18:14:14.190Z"
   },
   {
    "duration": 0,
    "start_time": "2023-12-16T18:14:14.191Z"
   },
   {
    "duration": 0,
    "start_time": "2023-12-16T18:14:14.192Z"
   },
   {
    "duration": 0,
    "start_time": "2023-12-16T18:14:14.193Z"
   },
   {
    "duration": 0,
    "start_time": "2023-12-16T18:14:14.194Z"
   },
   {
    "duration": 0,
    "start_time": "2023-12-16T18:14:14.195Z"
   },
   {
    "duration": 0,
    "start_time": "2023-12-16T18:14:14.196Z"
   },
   {
    "duration": 0,
    "start_time": "2023-12-16T18:14:14.196Z"
   },
   {
    "duration": 566,
    "start_time": "2023-12-16T18:14:39.876Z"
   },
   {
    "duration": 16,
    "start_time": "2023-12-16T18:14:46.459Z"
   },
   {
    "duration": 700,
    "start_time": "2023-12-16T18:14:46.477Z"
   },
   {
    "duration": 3,
    "start_time": "2023-12-16T18:14:47.179Z"
   },
   {
    "duration": 17,
    "start_time": "2023-12-16T18:14:47.184Z"
   },
   {
    "duration": 2,
    "start_time": "2023-12-16T18:14:47.203Z"
   },
   {
    "duration": 10,
    "start_time": "2023-12-16T18:14:47.207Z"
   },
   {
    "duration": 2,
    "start_time": "2023-12-16T18:14:47.219Z"
   },
   {
    "duration": 58,
    "start_time": "2023-12-16T18:14:47.223Z"
   },
   {
    "duration": 2,
    "start_time": "2023-12-16T18:14:47.283Z"
   },
   {
    "duration": 40,
    "start_time": "2023-12-16T18:14:47.288Z"
   },
   {
    "duration": 588,
    "start_time": "2023-12-16T18:14:47.330Z"
   },
   {
    "duration": 21,
    "start_time": "2023-12-16T18:14:47.920Z"
   },
   {
    "duration": 157,
    "start_time": "2023-12-16T18:14:47.942Z"
   },
   {
    "duration": 24,
    "start_time": "2023-12-16T18:14:48.100Z"
   },
   {
    "duration": 177,
    "start_time": "2023-12-16T18:14:48.126Z"
   },
   {
    "duration": 22,
    "start_time": "2023-12-16T18:14:48.304Z"
   },
   {
    "duration": 129,
    "start_time": "2023-12-16T18:14:48.327Z"
   },
   {
    "duration": 26,
    "start_time": "2023-12-16T18:14:48.457Z"
   },
   {
    "duration": 207,
    "start_time": "2023-12-16T18:14:48.485Z"
   },
   {
    "duration": 22,
    "start_time": "2023-12-16T18:14:48.693Z"
   },
   {
    "duration": 138,
    "start_time": "2023-12-16T18:14:48.717Z"
   },
   {
    "duration": 50,
    "start_time": "2023-12-16T18:14:48.857Z"
   },
   {
    "duration": 286,
    "start_time": "2023-12-16T18:14:48.909Z"
   },
   {
    "duration": 22,
    "start_time": "2023-12-16T18:14:49.196Z"
   },
   {
    "duration": 125,
    "start_time": "2023-12-16T18:14:49.219Z"
   },
   {
    "duration": 5,
    "start_time": "2023-12-16T18:14:49.345Z"
   },
   {
    "duration": 34,
    "start_time": "2023-12-16T18:14:49.352Z"
   },
   {
    "duration": 22,
    "start_time": "2023-12-16T18:14:49.388Z"
   },
   {
    "duration": 22,
    "start_time": "2023-12-16T18:14:49.411Z"
   },
   {
    "duration": 45,
    "start_time": "2023-12-16T18:14:49.435Z"
   },
   {
    "duration": 1710,
    "start_time": "2023-12-16T18:31:22.066Z"
   },
   {
    "duration": 1609,
    "start_time": "2023-12-16T18:31:49.773Z"
   },
   {
    "duration": 21,
    "start_time": "2023-12-16T18:32:50.657Z"
   },
   {
    "duration": 1571,
    "start_time": "2023-12-16T18:33:04.392Z"
   },
   {
    "duration": 1626,
    "start_time": "2023-12-16T18:33:23.716Z"
   },
   {
    "duration": 1547,
    "start_time": "2023-12-16T18:33:36.631Z"
   },
   {
    "duration": 633,
    "start_time": "2023-12-16T18:38:39.806Z"
   },
   {
    "duration": 1736,
    "start_time": "2023-12-16T18:39:01.593Z"
   },
   {
    "duration": 41,
    "start_time": "2023-12-16T18:39:27.138Z"
   },
   {
    "duration": 2404,
    "start_time": "2023-12-16T18:39:27.180Z"
   },
   {
    "duration": 93,
    "start_time": "2023-12-16T18:39:29.587Z"
   },
   {
    "duration": 21,
    "start_time": "2023-12-16T18:39:29.682Z"
   },
   {
    "duration": 12,
    "start_time": "2023-12-16T18:39:29.705Z"
   },
   {
    "duration": 6,
    "start_time": "2023-12-16T18:39:29.719Z"
   },
   {
    "duration": 63,
    "start_time": "2023-12-16T18:39:29.727Z"
   },
   {
    "duration": 5,
    "start_time": "2023-12-16T18:39:29.792Z"
   },
   {
    "duration": 5,
    "start_time": "2023-12-16T18:39:29.799Z"
   },
   {
    "duration": 4,
    "start_time": "2023-12-16T18:39:29.806Z"
   },
   {
    "duration": 3,
    "start_time": "2023-12-16T18:39:29.812Z"
   },
   {
    "duration": 14,
    "start_time": "2023-12-16T18:39:29.816Z"
   },
   {
    "duration": 3,
    "start_time": "2023-12-16T18:39:29.831Z"
   },
   {
    "duration": 27,
    "start_time": "2023-12-16T18:39:29.864Z"
   },
   {
    "duration": 10,
    "start_time": "2023-12-16T18:39:29.893Z"
   },
   {
    "duration": 43,
    "start_time": "2023-12-16T18:39:29.905Z"
   },
   {
    "duration": 5,
    "start_time": "2023-12-16T18:39:29.965Z"
   },
   {
    "duration": 8,
    "start_time": "2023-12-16T18:39:29.971Z"
   },
   {
    "duration": 19,
    "start_time": "2023-12-16T18:39:29.980Z"
   },
   {
    "duration": 45,
    "start_time": "2023-12-16T18:39:30.000Z"
   },
   {
    "duration": 39,
    "start_time": "2023-12-16T18:39:30.046Z"
   },
   {
    "duration": 38,
    "start_time": "2023-12-16T18:39:30.087Z"
   },
   {
    "duration": 25,
    "start_time": "2023-12-16T18:39:30.127Z"
   },
   {
    "duration": 36,
    "start_time": "2023-12-16T18:39:30.154Z"
   },
   {
    "duration": 13,
    "start_time": "2023-12-16T18:39:30.191Z"
   },
   {
    "duration": 25,
    "start_time": "2023-12-16T18:39:30.205Z"
   },
   {
    "duration": 37,
    "start_time": "2023-12-16T18:39:30.232Z"
   },
   {
    "duration": 37,
    "start_time": "2023-12-16T18:39:30.271Z"
   },
   {
    "duration": 104,
    "start_time": "2023-12-16T18:39:30.311Z"
   },
   {
    "duration": 0,
    "start_time": "2023-12-16T18:39:30.417Z"
   },
   {
    "duration": 0,
    "start_time": "2023-12-16T18:39:30.419Z"
   },
   {
    "duration": 0,
    "start_time": "2023-12-16T18:39:30.420Z"
   },
   {
    "duration": 0,
    "start_time": "2023-12-16T18:39:30.421Z"
   },
   {
    "duration": 0,
    "start_time": "2023-12-16T18:39:30.422Z"
   },
   {
    "duration": 0,
    "start_time": "2023-12-16T18:39:30.423Z"
   },
   {
    "duration": 0,
    "start_time": "2023-12-16T18:39:30.424Z"
   },
   {
    "duration": 0,
    "start_time": "2023-12-16T18:39:30.425Z"
   },
   {
    "duration": 0,
    "start_time": "2023-12-16T18:39:30.426Z"
   },
   {
    "duration": 0,
    "start_time": "2023-12-16T18:39:30.427Z"
   },
   {
    "duration": 0,
    "start_time": "2023-12-16T18:39:30.428Z"
   },
   {
    "duration": 0,
    "start_time": "2023-12-16T18:39:30.429Z"
   },
   {
    "duration": 0,
    "start_time": "2023-12-16T18:39:30.430Z"
   },
   {
    "duration": 0,
    "start_time": "2023-12-16T18:39:30.431Z"
   },
   {
    "duration": 0,
    "start_time": "2023-12-16T18:39:30.432Z"
   },
   {
    "duration": 0,
    "start_time": "2023-12-16T18:39:30.433Z"
   },
   {
    "duration": 0,
    "start_time": "2023-12-16T18:39:30.434Z"
   },
   {
    "duration": 0,
    "start_time": "2023-12-16T18:39:30.435Z"
   },
   {
    "duration": 0,
    "start_time": "2023-12-16T18:39:30.436Z"
   },
   {
    "duration": 0,
    "start_time": "2023-12-16T18:39:30.437Z"
   },
   {
    "duration": 0,
    "start_time": "2023-12-16T18:39:30.438Z"
   },
   {
    "duration": 0,
    "start_time": "2023-12-16T18:39:30.439Z"
   },
   {
    "duration": 0,
    "start_time": "2023-12-16T18:39:30.440Z"
   },
   {
    "duration": 0,
    "start_time": "2023-12-16T18:39:30.441Z"
   },
   {
    "duration": 0,
    "start_time": "2023-12-16T18:39:30.442Z"
   },
   {
    "duration": 0,
    "start_time": "2023-12-16T18:39:30.443Z"
   },
   {
    "duration": 0,
    "start_time": "2023-12-16T18:39:30.445Z"
   },
   {
    "duration": 0,
    "start_time": "2023-12-16T18:39:30.446Z"
   },
   {
    "duration": 0,
    "start_time": "2023-12-16T18:39:30.447Z"
   },
   {
    "duration": 0,
    "start_time": "2023-12-16T18:39:30.447Z"
   },
   {
    "duration": 0,
    "start_time": "2023-12-16T18:39:30.449Z"
   },
   {
    "duration": 0,
    "start_time": "2023-12-16T18:39:30.450Z"
   },
   {
    "duration": 11,
    "start_time": "2023-12-16T18:41:44.097Z"
   },
   {
    "duration": 4,
    "start_time": "2023-12-16T18:42:21.482Z"
   },
   {
    "duration": 5,
    "start_time": "2023-12-16T18:42:53.813Z"
   },
   {
    "duration": 43,
    "start_time": "2023-12-16T18:44:41.212Z"
   },
   {
    "duration": 2401,
    "start_time": "2023-12-16T18:44:41.256Z"
   },
   {
    "duration": 78,
    "start_time": "2023-12-16T18:44:43.659Z"
   },
   {
    "duration": 29,
    "start_time": "2023-12-16T18:44:43.739Z"
   },
   {
    "duration": 17,
    "start_time": "2023-12-16T18:44:43.771Z"
   },
   {
    "duration": 7,
    "start_time": "2023-12-16T18:44:43.790Z"
   },
   {
    "duration": 50,
    "start_time": "2023-12-16T18:44:43.798Z"
   },
   {
    "duration": 5,
    "start_time": "2023-12-16T18:44:43.849Z"
   },
   {
    "duration": 12,
    "start_time": "2023-12-16T18:44:43.855Z"
   },
   {
    "duration": 2,
    "start_time": "2023-12-16T18:44:43.869Z"
   },
   {
    "duration": 5,
    "start_time": "2023-12-16T18:44:43.873Z"
   },
   {
    "duration": 11,
    "start_time": "2023-12-16T18:44:43.879Z"
   },
   {
    "duration": 2,
    "start_time": "2023-12-16T18:44:43.892Z"
   },
   {
    "duration": 19,
    "start_time": "2023-12-16T18:44:43.896Z"
   },
   {
    "duration": 9,
    "start_time": "2023-12-16T18:44:43.918Z"
   },
   {
    "duration": 22,
    "start_time": "2023-12-16T18:44:43.965Z"
   },
   {
    "duration": 4,
    "start_time": "2023-12-16T18:44:43.989Z"
   },
   {
    "duration": 10,
    "start_time": "2023-12-16T18:44:43.995Z"
   },
   {
    "duration": 17,
    "start_time": "2023-12-16T18:44:44.006Z"
   },
   {
    "duration": 5,
    "start_time": "2023-12-16T18:44:44.025Z"
   },
   {
    "duration": 5,
    "start_time": "2023-12-16T18:44:44.031Z"
   },
   {
    "duration": 13,
    "start_time": "2023-12-16T18:44:44.065Z"
   },
   {
    "duration": 38,
    "start_time": "2023-12-16T18:44:44.080Z"
   },
   {
    "duration": 32,
    "start_time": "2023-12-16T18:44:44.119Z"
   },
   {
    "duration": 18,
    "start_time": "2023-12-16T18:44:44.152Z"
   },
   {
    "duration": 8,
    "start_time": "2023-12-16T18:44:44.172Z"
   },
   {
    "duration": 12,
    "start_time": "2023-12-16T18:44:44.181Z"
   },
   {
    "duration": 15,
    "start_time": "2023-12-16T18:44:44.195Z"
   },
   {
    "duration": 5,
    "start_time": "2023-12-16T18:44:44.212Z"
   },
   {
    "duration": 393,
    "start_time": "2023-12-16T18:44:44.219Z"
   },
   {
    "duration": 15,
    "start_time": "2023-12-16T18:44:44.613Z"
   },
   {
    "duration": 785,
    "start_time": "2023-12-16T18:44:44.629Z"
   },
   {
    "duration": 3,
    "start_time": "2023-12-16T18:44:45.416Z"
   },
   {
    "duration": 19,
    "start_time": "2023-12-16T18:44:45.420Z"
   },
   {
    "duration": 10,
    "start_time": "2023-12-16T18:44:45.440Z"
   },
   {
    "duration": 19,
    "start_time": "2023-12-16T18:44:45.451Z"
   },
   {
    "duration": 2,
    "start_time": "2023-12-16T18:44:45.472Z"
   },
   {
    "duration": 28,
    "start_time": "2023-12-16T18:44:45.475Z"
   },
   {
    "duration": 2,
    "start_time": "2023-12-16T18:44:45.504Z"
   },
   {
    "duration": 35,
    "start_time": "2023-12-16T18:44:45.508Z"
   },
   {
    "duration": 1491,
    "start_time": "2023-12-16T18:44:45.568Z"
   },
   {
    "duration": 4369,
    "start_time": "2023-12-16T18:44:47.060Z"
   },
   {
    "duration": 20,
    "start_time": "2023-12-16T18:44:51.431Z"
   },
   {
    "duration": 164,
    "start_time": "2023-12-16T18:44:51.453Z"
   },
   {
    "duration": 20,
    "start_time": "2023-12-16T18:44:51.619Z"
   },
   {
    "duration": 173,
    "start_time": "2023-12-16T18:44:51.641Z"
   },
   {
    "duration": 23,
    "start_time": "2023-12-16T18:44:51.816Z"
   },
   {
    "duration": 147,
    "start_time": "2023-12-16T18:44:51.841Z"
   },
   {
    "duration": 21,
    "start_time": "2023-12-16T18:44:51.990Z"
   },
   {
    "duration": 127,
    "start_time": "2023-12-16T18:44:52.012Z"
   },
   {
    "duration": 28,
    "start_time": "2023-12-16T18:44:52.140Z"
   },
   {
    "duration": 130,
    "start_time": "2023-12-16T18:44:52.169Z"
   },
   {
    "duration": 33,
    "start_time": "2023-12-16T18:44:52.300Z"
   },
   {
    "duration": 285,
    "start_time": "2023-12-16T18:44:52.335Z"
   },
   {
    "duration": 29,
    "start_time": "2023-12-16T18:44:52.621Z"
   },
   {
    "duration": 137,
    "start_time": "2023-12-16T18:44:52.652Z"
   },
   {
    "duration": 4,
    "start_time": "2023-12-16T18:44:52.791Z"
   },
   {
    "duration": 26,
    "start_time": "2023-12-16T18:44:52.796Z"
   },
   {
    "duration": 22,
    "start_time": "2023-12-16T18:44:52.823Z"
   },
   {
    "duration": 23,
    "start_time": "2023-12-16T18:44:52.864Z"
   },
   {
    "duration": 23,
    "start_time": "2023-12-16T18:44:52.888Z"
   },
   {
    "duration": 4196,
    "start_time": "2023-12-16T18:45:26.973Z"
   },
   {
    "duration": 4141,
    "start_time": "2023-12-16T18:46:09.297Z"
   },
   {
    "duration": 4044,
    "start_time": "2023-12-16T18:46:38.237Z"
   },
   {
    "duration": 4156,
    "start_time": "2023-12-16T18:46:55.786Z"
   },
   {
    "duration": 4253,
    "start_time": "2023-12-16T18:47:12.009Z"
   },
   {
    "duration": 21,
    "start_time": "2023-12-16T18:49:25.811Z"
   },
   {
    "duration": 147,
    "start_time": "2023-12-16T18:49:40.510Z"
   },
   {
    "duration": 43,
    "start_time": "2023-12-16T18:51:36.488Z"
   },
   {
    "duration": 248,
    "start_time": "2023-12-16T18:52:12.952Z"
   },
   {
    "duration": 5021,
    "start_time": "2023-12-16T20:15:04.251Z"
   },
   {
    "duration": 2397,
    "start_time": "2023-12-16T20:15:09.275Z"
   },
   {
    "duration": 96,
    "start_time": "2023-12-16T20:15:11.674Z"
   },
   {
    "duration": 21,
    "start_time": "2023-12-16T20:15:11.772Z"
   },
   {
    "duration": 11,
    "start_time": "2023-12-16T20:15:11.795Z"
   },
   {
    "duration": 6,
    "start_time": "2023-12-16T20:15:11.808Z"
   },
   {
    "duration": 53,
    "start_time": "2023-12-16T20:15:11.816Z"
   },
   {
    "duration": 5,
    "start_time": "2023-12-16T20:15:11.870Z"
   },
   {
    "duration": 4,
    "start_time": "2023-12-16T20:15:11.876Z"
   },
   {
    "duration": 6,
    "start_time": "2023-12-16T20:15:11.882Z"
   },
   {
    "duration": 3,
    "start_time": "2023-12-16T20:15:11.889Z"
   },
   {
    "duration": 11,
    "start_time": "2023-12-16T20:15:11.893Z"
   },
   {
    "duration": 2,
    "start_time": "2023-12-16T20:15:11.906Z"
   },
   {
    "duration": 18,
    "start_time": "2023-12-16T20:15:11.910Z"
   },
   {
    "duration": 40,
    "start_time": "2023-12-16T20:15:11.930Z"
   },
   {
    "duration": 27,
    "start_time": "2023-12-16T20:15:11.972Z"
   },
   {
    "duration": 4,
    "start_time": "2023-12-16T20:15:12.001Z"
   },
   {
    "duration": 8,
    "start_time": "2023-12-16T20:15:12.006Z"
   },
   {
    "duration": 16,
    "start_time": "2023-12-16T20:15:12.015Z"
   },
   {
    "duration": 8,
    "start_time": "2023-12-16T20:15:12.032Z"
   },
   {
    "duration": 5,
    "start_time": "2023-12-16T20:15:12.065Z"
   },
   {
    "duration": 14,
    "start_time": "2023-12-16T20:15:12.071Z"
   },
   {
    "duration": 15,
    "start_time": "2023-12-16T20:15:12.086Z"
   },
   {
    "duration": 33,
    "start_time": "2023-12-16T20:15:12.103Z"
   },
   {
    "duration": 38,
    "start_time": "2023-12-16T20:15:12.138Z"
   },
   {
    "duration": 9,
    "start_time": "2023-12-16T20:15:12.177Z"
   },
   {
    "duration": 9,
    "start_time": "2023-12-16T20:15:12.187Z"
   },
   {
    "duration": 13,
    "start_time": "2023-12-16T20:15:12.197Z"
   },
   {
    "duration": 12,
    "start_time": "2023-12-16T20:15:12.211Z"
   },
   {
    "duration": 0,
    "start_time": "2023-12-16T20:15:12.224Z"
   },
   {
    "duration": 0,
    "start_time": "2023-12-16T20:15:12.225Z"
   },
   {
    "duration": 0,
    "start_time": "2023-12-16T20:15:12.227Z"
   },
   {
    "duration": 0,
    "start_time": "2023-12-16T20:15:12.228Z"
   },
   {
    "duration": 0,
    "start_time": "2023-12-16T20:15:12.229Z"
   },
   {
    "duration": 0,
    "start_time": "2023-12-16T20:15:12.230Z"
   },
   {
    "duration": 0,
    "start_time": "2023-12-16T20:15:12.232Z"
   },
   {
    "duration": 0,
    "start_time": "2023-12-16T20:15:12.232Z"
   },
   {
    "duration": 0,
    "start_time": "2023-12-16T20:15:12.265Z"
   },
   {
    "duration": 0,
    "start_time": "2023-12-16T20:15:12.266Z"
   },
   {
    "duration": 0,
    "start_time": "2023-12-16T20:15:12.267Z"
   },
   {
    "duration": 0,
    "start_time": "2023-12-16T20:15:12.268Z"
   },
   {
    "duration": 0,
    "start_time": "2023-12-16T20:15:12.269Z"
   },
   {
    "duration": 0,
    "start_time": "2023-12-16T20:15:12.270Z"
   },
   {
    "duration": 0,
    "start_time": "2023-12-16T20:15:12.271Z"
   },
   {
    "duration": 0,
    "start_time": "2023-12-16T20:15:12.272Z"
   },
   {
    "duration": 0,
    "start_time": "2023-12-16T20:15:12.273Z"
   },
   {
    "duration": 0,
    "start_time": "2023-12-16T20:15:12.274Z"
   },
   {
    "duration": 0,
    "start_time": "2023-12-16T20:15:12.275Z"
   },
   {
    "duration": 0,
    "start_time": "2023-12-16T20:15:12.276Z"
   },
   {
    "duration": 0,
    "start_time": "2023-12-16T20:15:12.277Z"
   },
   {
    "duration": 0,
    "start_time": "2023-12-16T20:15:12.278Z"
   },
   {
    "duration": 0,
    "start_time": "2023-12-16T20:15:12.279Z"
   },
   {
    "duration": 69,
    "start_time": "2023-12-16T20:21:17.294Z"
   },
   {
    "duration": 2379,
    "start_time": "2023-12-16T20:21:17.365Z"
   },
   {
    "duration": 92,
    "start_time": "2023-12-16T20:21:19.746Z"
   },
   {
    "duration": 21,
    "start_time": "2023-12-16T20:21:19.839Z"
   },
   {
    "duration": 11,
    "start_time": "2023-12-16T20:21:19.861Z"
   },
   {
    "duration": 6,
    "start_time": "2023-12-16T20:21:19.873Z"
   },
   {
    "duration": 31,
    "start_time": "2023-12-16T20:21:19.881Z"
   },
   {
    "duration": 4,
    "start_time": "2023-12-16T20:21:19.914Z"
   },
   {
    "duration": 15,
    "start_time": "2023-12-16T20:21:19.919Z"
   },
   {
    "duration": 2,
    "start_time": "2023-12-16T20:21:19.936Z"
   },
   {
    "duration": 9,
    "start_time": "2023-12-16T20:21:19.940Z"
   },
   {
    "duration": 24,
    "start_time": "2023-12-16T20:21:19.950Z"
   },
   {
    "duration": 2,
    "start_time": "2023-12-16T20:21:19.975Z"
   },
   {
    "duration": 21,
    "start_time": "2023-12-16T20:21:19.979Z"
   },
   {
    "duration": 9,
    "start_time": "2023-12-16T20:21:20.001Z"
   },
   {
    "duration": 37,
    "start_time": "2023-12-16T20:21:20.012Z"
   },
   {
    "duration": 22,
    "start_time": "2023-12-16T20:21:20.051Z"
   },
   {
    "duration": 8,
    "start_time": "2023-12-16T20:21:20.074Z"
   },
   {
    "duration": 32,
    "start_time": "2023-12-16T20:21:20.084Z"
   },
   {
    "duration": 7,
    "start_time": "2023-12-16T20:21:20.118Z"
   },
   {
    "duration": 8,
    "start_time": "2023-12-16T20:21:20.126Z"
   },
   {
    "duration": 24,
    "start_time": "2023-12-16T20:21:20.135Z"
   },
   {
    "duration": 27,
    "start_time": "2023-12-16T20:21:20.161Z"
   },
   {
    "duration": 42,
    "start_time": "2023-12-16T20:21:20.190Z"
   },
   {
    "duration": 12,
    "start_time": "2023-12-16T20:21:20.234Z"
   },
   {
    "duration": 16,
    "start_time": "2023-12-16T20:21:20.248Z"
   },
   {
    "duration": 24,
    "start_time": "2023-12-16T20:21:20.266Z"
   },
   {
    "duration": 34,
    "start_time": "2023-12-16T20:21:20.293Z"
   },
   {
    "duration": 12,
    "start_time": "2023-12-16T20:21:20.329Z"
   },
   {
    "duration": 0,
    "start_time": "2023-12-16T20:21:20.342Z"
   },
   {
    "duration": 0,
    "start_time": "2023-12-16T20:21:20.344Z"
   },
   {
    "duration": 0,
    "start_time": "2023-12-16T20:21:20.344Z"
   },
   {
    "duration": 0,
    "start_time": "2023-12-16T20:21:20.346Z"
   },
   {
    "duration": 0,
    "start_time": "2023-12-16T20:21:20.347Z"
   },
   {
    "duration": 0,
    "start_time": "2023-12-16T20:21:20.348Z"
   },
   {
    "duration": 0,
    "start_time": "2023-12-16T20:21:20.349Z"
   },
   {
    "duration": 0,
    "start_time": "2023-12-16T20:21:20.350Z"
   },
   {
    "duration": 0,
    "start_time": "2023-12-16T20:21:20.351Z"
   },
   {
    "duration": 0,
    "start_time": "2023-12-16T20:21:20.352Z"
   },
   {
    "duration": 0,
    "start_time": "2023-12-16T20:21:20.354Z"
   },
   {
    "duration": 0,
    "start_time": "2023-12-16T20:21:20.355Z"
   },
   {
    "duration": 0,
    "start_time": "2023-12-16T20:21:20.356Z"
   },
   {
    "duration": 0,
    "start_time": "2023-12-16T20:21:20.357Z"
   },
   {
    "duration": 0,
    "start_time": "2023-12-16T20:21:20.358Z"
   },
   {
    "duration": 0,
    "start_time": "2023-12-16T20:21:20.365Z"
   },
   {
    "duration": 0,
    "start_time": "2023-12-16T20:21:20.366Z"
   },
   {
    "duration": 0,
    "start_time": "2023-12-16T20:21:20.367Z"
   },
   {
    "duration": 0,
    "start_time": "2023-12-16T20:21:20.368Z"
   },
   {
    "duration": 0,
    "start_time": "2023-12-16T20:21:20.369Z"
   },
   {
    "duration": 0,
    "start_time": "2023-12-16T20:21:20.370Z"
   },
   {
    "duration": 0,
    "start_time": "2023-12-16T20:21:20.371Z"
   },
   {
    "duration": 0,
    "start_time": "2023-12-16T20:21:20.373Z"
   },
   {
    "duration": 91,
    "start_time": "2023-12-16T21:46:16.458Z"
   },
   {
    "duration": 2492,
    "start_time": "2023-12-16T21:46:16.551Z"
   },
   {
    "duration": 79,
    "start_time": "2023-12-16T21:46:19.045Z"
   },
   {
    "duration": 23,
    "start_time": "2023-12-16T21:46:19.126Z"
   },
   {
    "duration": 12,
    "start_time": "2023-12-16T21:46:19.151Z"
   },
   {
    "duration": 11,
    "start_time": "2023-12-16T21:46:19.165Z"
   },
   {
    "duration": 37,
    "start_time": "2023-12-16T21:46:19.178Z"
   },
   {
    "duration": 6,
    "start_time": "2023-12-16T21:46:19.216Z"
   },
   {
    "duration": 6,
    "start_time": "2023-12-16T21:46:19.223Z"
   },
   {
    "duration": 2,
    "start_time": "2023-12-16T21:46:19.232Z"
   },
   {
    "duration": 4,
    "start_time": "2023-12-16T21:46:19.235Z"
   },
   {
    "duration": 31,
    "start_time": "2023-12-16T21:46:19.240Z"
   },
   {
    "duration": 2,
    "start_time": "2023-12-16T21:46:19.273Z"
   },
   {
    "duration": 21,
    "start_time": "2023-12-16T21:46:19.276Z"
   },
   {
    "duration": 10,
    "start_time": "2023-12-16T21:46:19.298Z"
   },
   {
    "duration": 22,
    "start_time": "2023-12-16T21:46:19.309Z"
   },
   {
    "duration": 33,
    "start_time": "2023-12-16T21:46:19.333Z"
   },
   {
    "duration": 4,
    "start_time": "2023-12-16T21:46:19.367Z"
   },
   {
    "duration": 14,
    "start_time": "2023-12-16T21:46:19.373Z"
   },
   {
    "duration": 7,
    "start_time": "2023-12-16T21:46:19.389Z"
   },
   {
    "duration": 12,
    "start_time": "2023-12-16T21:46:19.398Z"
   },
   {
    "duration": 13,
    "start_time": "2023-12-16T21:46:19.411Z"
   },
   {
    "duration": 42,
    "start_time": "2023-12-16T21:46:19.425Z"
   },
   {
    "duration": 33,
    "start_time": "2023-12-16T21:46:19.469Z"
   },
   {
    "duration": 13,
    "start_time": "2023-12-16T21:46:19.503Z"
   },
   {
    "duration": 7,
    "start_time": "2023-12-16T21:46:19.518Z"
   },
   {
    "duration": 9,
    "start_time": "2023-12-16T21:46:19.527Z"
   },
   {
    "duration": 13,
    "start_time": "2023-12-16T21:46:19.566Z"
   },
   {
    "duration": 379,
    "start_time": "2023-12-16T21:46:19.581Z"
   },
   {
    "duration": 13,
    "start_time": "2023-12-16T21:46:19.964Z"
   },
   {
    "duration": 567,
    "start_time": "2023-12-16T21:46:19.979Z"
   },
   {
    "duration": 1649,
    "start_time": "2023-12-16T21:46:20.547Z"
   },
   {
    "duration": 20,
    "start_time": "2023-12-16T21:46:22.197Z"
   },
   {
    "duration": 154,
    "start_time": "2023-12-16T21:46:22.219Z"
   },
   {
    "duration": 22,
    "start_time": "2023-12-16T21:46:22.375Z"
   },
   {
    "duration": 146,
    "start_time": "2023-12-16T21:46:22.398Z"
   },
   {
    "duration": 28,
    "start_time": "2023-12-16T21:46:22.546Z"
   },
   {
    "duration": 206,
    "start_time": "2023-12-16T21:46:22.576Z"
   },
   {
    "duration": 33,
    "start_time": "2023-12-16T21:46:22.783Z"
   },
   {
    "duration": 269,
    "start_time": "2023-12-16T21:46:22.818Z"
   },
   {
    "duration": 20,
    "start_time": "2023-12-16T21:46:23.088Z"
   },
   {
    "duration": 125,
    "start_time": "2023-12-16T21:46:23.109Z"
   },
   {
    "duration": 34,
    "start_time": "2023-12-16T21:46:23.236Z"
   },
   {
    "duration": 119,
    "start_time": "2023-12-16T21:46:23.272Z"
   },
   {
    "duration": 19,
    "start_time": "2023-12-16T21:46:23.393Z"
   },
   {
    "duration": 0,
    "start_time": "2023-12-16T21:46:23.413Z"
   },
   {
    "duration": 0,
    "start_time": "2023-12-16T21:46:23.414Z"
   },
   {
    "duration": 0,
    "start_time": "2023-12-16T21:46:23.416Z"
   },
   {
    "duration": 0,
    "start_time": "2023-12-16T21:46:23.416Z"
   },
   {
    "duration": 0,
    "start_time": "2023-12-16T21:46:23.417Z"
   },
   {
    "duration": 0,
    "start_time": "2023-12-16T21:46:23.418Z"
   },
   {
    "duration": 23,
    "start_time": "2023-12-16T21:46:39.710Z"
   },
   {
    "duration": 40,
    "start_time": "2023-12-16T21:46:46.441Z"
   },
   {
    "duration": 2317,
    "start_time": "2023-12-16T21:46:46.483Z"
   },
   {
    "duration": 82,
    "start_time": "2023-12-16T21:46:48.802Z"
   },
   {
    "duration": 22,
    "start_time": "2023-12-16T21:46:48.886Z"
   },
   {
    "duration": 16,
    "start_time": "2023-12-16T21:46:48.910Z"
   },
   {
    "duration": 9,
    "start_time": "2023-12-16T21:46:48.928Z"
   },
   {
    "duration": 56,
    "start_time": "2023-12-16T21:46:48.939Z"
   },
   {
    "duration": 6,
    "start_time": "2023-12-16T21:46:48.997Z"
   },
   {
    "duration": 5,
    "start_time": "2023-12-16T21:46:49.005Z"
   },
   {
    "duration": 6,
    "start_time": "2023-12-16T21:46:49.011Z"
   },
   {
    "duration": 3,
    "start_time": "2023-12-16T21:46:49.018Z"
   },
   {
    "duration": 13,
    "start_time": "2023-12-16T21:46:49.023Z"
   },
   {
    "duration": 28,
    "start_time": "2023-12-16T21:46:49.037Z"
   },
   {
    "duration": 17,
    "start_time": "2023-12-16T21:46:49.067Z"
   },
   {
    "duration": 9,
    "start_time": "2023-12-16T21:46:49.086Z"
   },
   {
    "duration": 26,
    "start_time": "2023-12-16T21:46:49.096Z"
   },
   {
    "duration": 4,
    "start_time": "2023-12-16T21:46:49.124Z"
   },
   {
    "duration": 4,
    "start_time": "2023-12-16T21:46:49.129Z"
   },
   {
    "duration": 40,
    "start_time": "2023-12-16T21:46:49.135Z"
   },
   {
    "duration": 5,
    "start_time": "2023-12-16T21:46:49.177Z"
   },
   {
    "duration": 6,
    "start_time": "2023-12-16T21:46:49.183Z"
   },
   {
    "duration": 19,
    "start_time": "2023-12-16T21:46:49.191Z"
   },
   {
    "duration": 53,
    "start_time": "2023-12-16T21:46:49.212Z"
   },
   {
    "duration": 32,
    "start_time": "2023-12-16T21:46:49.269Z"
   },
   {
    "duration": 12,
    "start_time": "2023-12-16T21:46:49.302Z"
   },
   {
    "duration": 8,
    "start_time": "2023-12-16T21:46:49.316Z"
   },
   {
    "duration": 10,
    "start_time": "2023-12-16T21:46:49.326Z"
   },
   {
    "duration": 40,
    "start_time": "2023-12-16T21:46:49.337Z"
   },
   {
    "duration": 347,
    "start_time": "2023-12-16T21:46:49.379Z"
   },
   {
    "duration": 15,
    "start_time": "2023-12-16T21:46:49.728Z"
   },
   {
    "duration": 587,
    "start_time": "2023-12-16T21:46:49.745Z"
   },
   {
    "duration": 1687,
    "start_time": "2023-12-16T21:46:50.333Z"
   },
   {
    "duration": 20,
    "start_time": "2023-12-16T21:46:52.022Z"
   },
   {
    "duration": 168,
    "start_time": "2023-12-16T21:46:52.043Z"
   },
   {
    "duration": 19,
    "start_time": "2023-12-16T21:46:52.212Z"
   },
   {
    "duration": 145,
    "start_time": "2023-12-16T21:46:52.232Z"
   },
   {
    "duration": 24,
    "start_time": "2023-12-16T21:46:52.378Z"
   },
   {
    "duration": 135,
    "start_time": "2023-12-16T21:46:52.404Z"
   },
   {
    "duration": 43,
    "start_time": "2023-12-16T21:46:52.541Z"
   },
   {
    "duration": 346,
    "start_time": "2023-12-16T21:46:52.586Z"
   },
   {
    "duration": 20,
    "start_time": "2023-12-16T21:46:52.933Z"
   },
   {
    "duration": 119,
    "start_time": "2023-12-16T21:46:52.955Z"
   },
   {
    "duration": 22,
    "start_time": "2023-12-16T21:46:53.076Z"
   },
   {
    "duration": 136,
    "start_time": "2023-12-16T21:46:53.100Z"
   },
   {
    "duration": 30,
    "start_time": "2023-12-16T21:46:53.238Z"
   },
   {
    "duration": 918,
    "start_time": "2023-12-16T21:46:53.270Z"
   },
   {
    "duration": 17,
    "start_time": "2023-12-16T21:46:54.190Z"
   },
   {
    "duration": 0,
    "start_time": "2023-12-16T21:46:54.208Z"
   },
   {
    "duration": 0,
    "start_time": "2023-12-16T21:46:54.209Z"
   },
   {
    "duration": 0,
    "start_time": "2023-12-16T21:46:54.209Z"
   },
   {
    "duration": 0,
    "start_time": "2023-12-16T21:46:54.210Z"
   },
   {
    "duration": 80,
    "start_time": "2023-12-16T21:47:21.561Z"
   },
   {
    "duration": 9,
    "start_time": "2023-12-16T21:47:37.820Z"
   },
   {
    "duration": 1600,
    "start_time": "2023-12-16T21:47:44.574Z"
   },
   {
    "duration": 15,
    "start_time": "2023-12-16T21:50:11.784Z"
   },
   {
    "duration": 13,
    "start_time": "2023-12-16T21:52:54.831Z"
   },
   {
    "duration": 22,
    "start_time": "2023-12-16T21:53:40.644Z"
   },
   {
    "duration": 21,
    "start_time": "2023-12-16T21:55:34.843Z"
   },
   {
    "duration": 28,
    "start_time": "2023-12-16T21:59:59.417Z"
   },
   {
    "duration": 18,
    "start_time": "2023-12-16T22:00:14.866Z"
   },
   {
    "duration": 25,
    "start_time": "2023-12-16T22:00:26.446Z"
   },
   {
    "duration": 41,
    "start_time": "2023-12-16T22:00:37.419Z"
   },
   {
    "duration": 44,
    "start_time": "2023-12-16T22:01:10.249Z"
   },
   {
    "duration": 2352,
    "start_time": "2023-12-16T22:01:10.295Z"
   },
   {
    "duration": 74,
    "start_time": "2023-12-16T22:01:12.649Z"
   },
   {
    "duration": 21,
    "start_time": "2023-12-16T22:01:12.725Z"
   },
   {
    "duration": 14,
    "start_time": "2023-12-16T22:01:12.748Z"
   },
   {
    "duration": 6,
    "start_time": "2023-12-16T22:01:12.764Z"
   },
   {
    "duration": 42,
    "start_time": "2023-12-16T22:01:12.772Z"
   },
   {
    "duration": 7,
    "start_time": "2023-12-16T22:01:12.816Z"
   },
   {
    "duration": 18,
    "start_time": "2023-12-16T22:01:12.824Z"
   },
   {
    "duration": 12,
    "start_time": "2023-12-16T22:01:12.846Z"
   },
   {
    "duration": 6,
    "start_time": "2023-12-16T22:01:12.859Z"
   },
   {
    "duration": 14,
    "start_time": "2023-12-16T22:01:12.867Z"
   },
   {
    "duration": 3,
    "start_time": "2023-12-16T22:01:12.883Z"
   },
   {
    "duration": 24,
    "start_time": "2023-12-16T22:01:12.887Z"
   },
   {
    "duration": 8,
    "start_time": "2023-12-16T22:01:12.912Z"
   },
   {
    "duration": 44,
    "start_time": "2023-12-16T22:01:12.922Z"
   },
   {
    "duration": 4,
    "start_time": "2023-12-16T22:01:12.967Z"
   },
   {
    "duration": 9,
    "start_time": "2023-12-16T22:01:12.973Z"
   },
   {
    "duration": 15,
    "start_time": "2023-12-16T22:01:12.984Z"
   },
   {
    "duration": 6,
    "start_time": "2023-12-16T22:01:13.000Z"
   },
   {
    "duration": 5,
    "start_time": "2023-12-16T22:01:13.007Z"
   },
   {
    "duration": 14,
    "start_time": "2023-12-16T22:01:13.014Z"
   },
   {
    "duration": 46,
    "start_time": "2023-12-16T22:01:13.029Z"
   },
   {
    "duration": 31,
    "start_time": "2023-12-16T22:01:13.077Z"
   },
   {
    "duration": 12,
    "start_time": "2023-12-16T22:01:13.109Z"
   },
   {
    "duration": 5,
    "start_time": "2023-12-16T22:01:13.123Z"
   },
   {
    "duration": 25,
    "start_time": "2023-12-16T22:01:13.129Z"
   },
   {
    "duration": 15,
    "start_time": "2023-12-16T22:01:13.164Z"
   },
   {
    "duration": 42,
    "start_time": "2023-12-16T22:01:13.180Z"
   },
   {
    "duration": 361,
    "start_time": "2023-12-16T22:01:13.224Z"
   },
   {
    "duration": 571,
    "start_time": "2023-12-16T22:01:13.586Z"
   },
   {
    "duration": 1753,
    "start_time": "2023-12-16T22:01:14.159Z"
   },
   {
    "duration": 20,
    "start_time": "2023-12-16T22:01:15.913Z"
   },
   {
    "duration": 162,
    "start_time": "2023-12-16T22:01:15.935Z"
   },
   {
    "duration": 20,
    "start_time": "2023-12-16T22:01:16.098Z"
   },
   {
    "duration": 151,
    "start_time": "2023-12-16T22:01:16.119Z"
   },
   {
    "duration": 22,
    "start_time": "2023-12-16T22:01:16.271Z"
   },
   {
    "duration": 126,
    "start_time": "2023-12-16T22:01:16.294Z"
   },
   {
    "duration": 46,
    "start_time": "2023-12-16T22:01:16.421Z"
   },
   {
    "duration": 248,
    "start_time": "2023-12-16T22:01:16.469Z"
   },
   {
    "duration": 21,
    "start_time": "2023-12-16T22:01:16.718Z"
   },
   {
    "duration": 117,
    "start_time": "2023-12-16T22:01:16.740Z"
   },
   {
    "duration": 29,
    "start_time": "2023-12-16T22:01:16.858Z"
   },
   {
    "duration": 132,
    "start_time": "2023-12-16T22:01:16.889Z"
   },
   {
    "duration": 23,
    "start_time": "2023-12-16T22:01:17.023Z"
   },
   {
    "duration": 923,
    "start_time": "2023-12-16T22:01:17.048Z"
   },
   {
    "duration": 15,
    "start_time": "2023-12-16T22:01:17.973Z"
   },
   {
    "duration": 0,
    "start_time": "2023-12-16T22:01:17.990Z"
   },
   {
    "duration": 0,
    "start_time": "2023-12-16T22:01:17.991Z"
   },
   {
    "duration": 1,
    "start_time": "2023-12-16T22:01:17.992Z"
   },
   {
    "duration": 0,
    "start_time": "2023-12-16T22:01:17.994Z"
   },
   {
    "duration": 40,
    "start_time": "2023-12-16T22:03:15.536Z"
   },
   {
    "duration": 36,
    "start_time": "2023-12-16T22:03:55.680Z"
   },
   {
    "duration": 31,
    "start_time": "2023-12-16T22:05:50.924Z"
   },
   {
    "duration": 15,
    "start_time": "2023-12-16T22:06:06.152Z"
   },
   {
    "duration": 15,
    "start_time": "2023-12-16T22:10:50.685Z"
   },
   {
    "duration": 8,
    "start_time": "2023-12-16T22:14:34.120Z"
   },
   {
    "duration": 20,
    "start_time": "2023-12-16T22:14:45.948Z"
   },
   {
    "duration": 17,
    "start_time": "2023-12-16T22:17:43.881Z"
   },
   {
    "duration": 17,
    "start_time": "2023-12-16T22:19:39.645Z"
   },
   {
    "duration": 16,
    "start_time": "2023-12-16T22:19:53.739Z"
   },
   {
    "duration": 353,
    "start_time": "2023-12-16T22:34:43.612Z"
   },
   {
    "duration": 432,
    "start_time": "2023-12-16T22:38:04.803Z"
   },
   {
    "duration": 5585,
    "start_time": "2023-12-16T22:46:15.384Z"
   },
   {
    "duration": 676,
    "start_time": "2023-12-16T22:46:50.474Z"
   },
   {
    "duration": 5798,
    "start_time": "2023-12-16T22:47:48.986Z"
   },
   {
    "duration": 859,
    "start_time": "2023-12-16T22:48:45.161Z"
   },
   {
    "duration": 649,
    "start_time": "2023-12-16T22:49:40.354Z"
   },
   {
    "duration": 5952,
    "start_time": "2023-12-16T22:49:53.563Z"
   },
   {
    "duration": 346,
    "start_time": "2023-12-16T22:50:00.260Z"
   },
   {
    "duration": 1016,
    "start_time": "2023-12-16T22:50:12.036Z"
   },
   {
    "duration": 660,
    "start_time": "2023-12-16T22:50:28.107Z"
   },
   {
    "duration": 5451,
    "start_time": "2023-12-16T22:56:57.644Z"
   },
   {
    "duration": 5678,
    "start_time": "2023-12-16T22:57:12.502Z"
   },
   {
    "duration": 1096,
    "start_time": "2023-12-16T22:58:12.209Z"
   },
   {
    "duration": 396,
    "start_time": "2023-12-17T09:17:34.847Z"
   },
   {
    "duration": 20,
    "start_time": "2023-12-17T10:14:44.393Z"
   },
   {
    "duration": 17,
    "start_time": "2023-12-17T10:15:02.684Z"
   },
   {
    "duration": 1816,
    "start_time": "2023-12-17T10:23:26.399Z"
   },
   {
    "duration": 1083,
    "start_time": "2023-12-17T10:24:58.283Z"
   },
   {
    "duration": 614,
    "start_time": "2023-12-17T10:25:45.817Z"
   },
   {
    "duration": 845,
    "start_time": "2023-12-17T10:25:54.086Z"
   },
   {
    "duration": 393,
    "start_time": "2023-12-17T10:26:04.496Z"
   },
   {
    "duration": 848,
    "start_time": "2023-12-17T10:26:13.092Z"
   },
   {
    "duration": 2,
    "start_time": "2023-12-17T10:27:30.523Z"
   },
   {
    "duration": 1299,
    "start_time": "2023-12-17T10:38:12.765Z"
   },
   {
    "duration": 22,
    "start_time": "2023-12-17T10:38:54.493Z"
   },
   {
    "duration": 22,
    "start_time": "2023-12-17T10:39:04.306Z"
   },
   {
    "duration": 1336,
    "start_time": "2023-12-17T10:39:22.164Z"
   },
   {
    "duration": 20,
    "start_time": "2023-12-17T10:39:37.085Z"
   },
   {
    "duration": 21,
    "start_time": "2023-12-17T10:39:57.608Z"
   },
   {
    "duration": 27,
    "start_time": "2023-12-17T10:40:08.403Z"
   },
   {
    "duration": 391,
    "start_time": "2023-12-17T10:40:25.607Z"
   },
   {
    "duration": 371,
    "start_time": "2023-12-17T10:40:36.775Z"
   },
   {
    "duration": 49,
    "start_time": "2023-12-17T10:41:50.226Z"
   },
   {
    "duration": 2506,
    "start_time": "2023-12-17T10:41:50.277Z"
   },
   {
    "duration": 89,
    "start_time": "2023-12-17T10:41:52.785Z"
   },
   {
    "duration": 21,
    "start_time": "2023-12-17T10:41:52.876Z"
   },
   {
    "duration": 11,
    "start_time": "2023-12-17T10:41:52.899Z"
   },
   {
    "duration": 8,
    "start_time": "2023-12-17T10:41:52.911Z"
   },
   {
    "duration": 54,
    "start_time": "2023-12-17T10:41:52.920Z"
   },
   {
    "duration": 8,
    "start_time": "2023-12-17T10:41:52.975Z"
   },
   {
    "duration": 15,
    "start_time": "2023-12-17T10:41:52.985Z"
   },
   {
    "duration": 3,
    "start_time": "2023-12-17T10:41:53.001Z"
   },
   {
    "duration": 3,
    "start_time": "2023-12-17T10:41:53.005Z"
   },
   {
    "duration": 13,
    "start_time": "2023-12-17T10:41:53.010Z"
   },
   {
    "duration": 2,
    "start_time": "2023-12-17T10:41:53.024Z"
   },
   {
    "duration": 18,
    "start_time": "2023-12-17T10:41:53.028Z"
   },
   {
    "duration": 14,
    "start_time": "2023-12-17T10:41:53.067Z"
   },
   {
    "duration": 21,
    "start_time": "2023-12-17T10:41:53.083Z"
   },
   {
    "duration": 4,
    "start_time": "2023-12-17T10:41:53.105Z"
   },
   {
    "duration": 7,
    "start_time": "2023-12-17T10:41:53.110Z"
   },
   {
    "duration": 14,
    "start_time": "2023-12-17T10:41:53.119Z"
   },
   {
    "duration": 32,
    "start_time": "2023-12-17T10:41:53.134Z"
   },
   {
    "duration": 17,
    "start_time": "2023-12-17T10:41:53.168Z"
   },
   {
    "duration": 15,
    "start_time": "2023-12-17T10:41:53.186Z"
   },
   {
    "duration": 17,
    "start_time": "2023-12-17T10:41:53.203Z"
   },
   {
    "duration": 55,
    "start_time": "2023-12-17T10:41:53.223Z"
   },
   {
    "duration": 14,
    "start_time": "2023-12-17T10:41:53.280Z"
   },
   {
    "duration": 8,
    "start_time": "2023-12-17T10:41:53.295Z"
   },
   {
    "duration": 14,
    "start_time": "2023-12-17T10:41:53.304Z"
   },
   {
    "duration": 15,
    "start_time": "2023-12-17T10:41:53.319Z"
   },
   {
    "duration": 41,
    "start_time": "2023-12-17T10:41:53.335Z"
   },
   {
    "duration": 358,
    "start_time": "2023-12-17T10:41:53.377Z"
   },
   {
    "duration": 362,
    "start_time": "2023-12-17T10:41:53.736Z"
   },
   {
    "duration": 6148,
    "start_time": "2023-12-17T10:41:54.100Z"
   },
   {
    "duration": 935,
    "start_time": "2023-12-17T10:42:00.250Z"
   },
   {
    "duration": 647,
    "start_time": "2023-12-17T10:42:01.187Z"
   },
   {
    "duration": 1793,
    "start_time": "2023-12-17T10:42:01.836Z"
   },
   {
    "duration": 23,
    "start_time": "2023-12-17T10:42:03.631Z"
   },
   {
    "duration": 177,
    "start_time": "2023-12-17T10:42:03.669Z"
   },
   {
    "duration": 34,
    "start_time": "2023-12-17T10:42:03.848Z"
   },
   {
    "duration": 144,
    "start_time": "2023-12-17T10:42:03.884Z"
   },
   {
    "duration": 22,
    "start_time": "2023-12-17T10:42:04.029Z"
   },
   {
    "duration": 162,
    "start_time": "2023-12-17T10:42:04.052Z"
   },
   {
    "duration": 36,
    "start_time": "2023-12-17T10:42:04.215Z"
   },
   {
    "duration": 271,
    "start_time": "2023-12-17T10:42:04.253Z"
   },
   {
    "duration": 21,
    "start_time": "2023-12-17T10:42:04.526Z"
   },
   {
    "duration": 131,
    "start_time": "2023-12-17T10:42:04.548Z"
   },
   {
    "duration": 24,
    "start_time": "2023-12-17T10:42:04.680Z"
   },
   {
    "duration": 136,
    "start_time": "2023-12-17T10:42:04.705Z"
   },
   {
    "duration": 41,
    "start_time": "2023-12-17T10:42:04.842Z"
   },
   {
    "duration": 360,
    "start_time": "2023-12-17T10:42:04.884Z"
   },
   {
    "duration": 2,
    "start_time": "2023-12-17T10:42:05.246Z"
   },
   {
    "duration": 49,
    "start_time": "2023-12-17T10:42:05.250Z"
   },
   {
    "duration": 27,
    "start_time": "2023-12-17T10:42:05.300Z"
   },
   {
    "duration": 49,
    "start_time": "2023-12-17T10:42:05.329Z"
   },
   {
    "duration": 0,
    "start_time": "2023-12-17T10:42:05.379Z"
   },
   {
    "duration": 115,
    "start_time": "2023-12-17T10:45:26.694Z"
   },
   {
    "duration": 18,
    "start_time": "2023-12-17T10:45:39.379Z"
   },
   {
    "duration": 13,
    "start_time": "2023-12-17T10:46:07.120Z"
   },
   {
    "duration": 15,
    "start_time": "2023-12-17T10:47:24.942Z"
   },
   {
    "duration": 34,
    "start_time": "2023-12-17T10:47:35.953Z"
   },
   {
    "duration": 26,
    "start_time": "2023-12-17T10:48:00.119Z"
   },
   {
    "duration": 34,
    "start_time": "2023-12-17T10:48:47.800Z"
   },
   {
    "duration": 28,
    "start_time": "2023-12-17T10:49:29.180Z"
   },
   {
    "duration": 85,
    "start_time": "2023-12-17T10:51:12.865Z"
   },
   {
    "duration": 88,
    "start_time": "2023-12-17T10:51:38.899Z"
   },
   {
    "duration": 79,
    "start_time": "2023-12-17T10:52:31.290Z"
   },
   {
    "duration": 28,
    "start_time": "2023-12-17T10:53:18.483Z"
   },
   {
    "duration": 29,
    "start_time": "2023-12-17T10:53:30.934Z"
   },
   {
    "duration": 26,
    "start_time": "2023-12-17T10:54:02.442Z"
   },
   {
    "duration": 47,
    "start_time": "2023-12-17T14:35:36.925Z"
   },
   {
    "duration": 31,
    "start_time": "2023-12-17T14:35:52.496Z"
   },
   {
    "duration": 111,
    "start_time": "2023-12-17T14:37:20.004Z"
   },
   {
    "duration": 29,
    "start_time": "2023-12-17T14:37:47.197Z"
   },
   {
    "duration": 29,
    "start_time": "2023-12-17T14:38:21.295Z"
   },
   {
    "duration": 31,
    "start_time": "2023-12-17T14:41:47.958Z"
   },
   {
    "duration": 30,
    "start_time": "2023-12-17T14:42:03.523Z"
   },
   {
    "duration": 31,
    "start_time": "2023-12-17T14:42:17.487Z"
   },
   {
    "duration": 32,
    "start_time": "2023-12-17T14:43:50.375Z"
   },
   {
    "duration": 26,
    "start_time": "2023-12-17T14:45:12.355Z"
   },
   {
    "duration": 29,
    "start_time": "2023-12-17T14:46:06.790Z"
   },
   {
    "duration": 27,
    "start_time": "2023-12-17T14:46:23.705Z"
   },
   {
    "duration": 381,
    "start_time": "2023-12-17T14:48:17.673Z"
   },
   {
    "duration": 27,
    "start_time": "2023-12-17T14:48:39.882Z"
   },
   {
    "duration": 28,
    "start_time": "2023-12-17T14:48:46.683Z"
   },
   {
    "duration": 29,
    "start_time": "2023-12-17T14:48:50.846Z"
   },
   {
    "duration": 27,
    "start_time": "2023-12-17T14:49:07.834Z"
   },
   {
    "duration": 33,
    "start_time": "2023-12-17T14:58:38.932Z"
   },
   {
    "duration": 29,
    "start_time": "2023-12-17T15:04:12.696Z"
   },
   {
    "duration": 16,
    "start_time": "2023-12-17T16:05:12.529Z"
   },
   {
    "duration": 2455,
    "start_time": "2023-12-17T16:05:47.381Z"
   },
   {
    "duration": 11,
    "start_time": "2023-12-17T16:05:57.176Z"
   },
   {
    "duration": 9,
    "start_time": "2023-12-17T16:09:45.628Z"
   },
   {
    "duration": 8,
    "start_time": "2023-12-17T16:14:41.540Z"
   },
   {
    "duration": 11,
    "start_time": "2023-12-17T16:25:46.560Z"
   },
   {
    "duration": 8,
    "start_time": "2023-12-17T16:26:18.609Z"
   },
   {
    "duration": 377,
    "start_time": "2023-12-17T16:38:58.877Z"
   },
   {
    "duration": 182,
    "start_time": "2023-12-17T16:39:03.198Z"
   },
   {
    "duration": 322,
    "start_time": "2023-12-17T16:39:12.606Z"
   },
   {
    "duration": 781,
    "start_time": "2023-12-17T16:48:51.789Z"
   },
   {
    "duration": 337,
    "start_time": "2023-12-17T16:52:09.772Z"
   },
   {
    "duration": 5441,
    "start_time": "2023-12-17T16:52:14.069Z"
   },
   {
    "duration": 656,
    "start_time": "2023-12-17T16:52:24.085Z"
   },
   {
    "duration": 5574,
    "start_time": "2023-12-17T16:52:51.705Z"
   },
   {
    "duration": 5815,
    "start_time": "2023-12-17T16:53:01.461Z"
   },
   {
    "duration": 5831,
    "start_time": "2023-12-17T16:53:14.838Z"
   },
   {
    "duration": 41,
    "start_time": "2023-12-17T17:05:18.247Z"
   },
   {
    "duration": 2385,
    "start_time": "2023-12-17T17:05:18.291Z"
   },
   {
    "duration": 81,
    "start_time": "2023-12-17T17:05:20.678Z"
   },
   {
    "duration": 23,
    "start_time": "2023-12-17T17:05:20.761Z"
   },
   {
    "duration": 25,
    "start_time": "2023-12-17T17:05:20.787Z"
   },
   {
    "duration": 23,
    "start_time": "2023-12-17T17:05:20.814Z"
   },
   {
    "duration": 51,
    "start_time": "2023-12-17T17:05:20.839Z"
   },
   {
    "duration": 5,
    "start_time": "2023-12-17T17:05:20.892Z"
   },
   {
    "duration": 25,
    "start_time": "2023-12-17T17:05:20.899Z"
   },
   {
    "duration": 17,
    "start_time": "2023-12-17T17:05:20.926Z"
   },
   {
    "duration": 28,
    "start_time": "2023-12-17T17:05:20.944Z"
   },
   {
    "duration": 31,
    "start_time": "2023-12-17T17:05:20.973Z"
   },
   {
    "duration": 31,
    "start_time": "2023-12-17T17:05:21.006Z"
   },
   {
    "duration": 39,
    "start_time": "2023-12-17T17:05:21.040Z"
   },
   {
    "duration": 46,
    "start_time": "2023-12-17T17:05:21.080Z"
   },
   {
    "duration": 31,
    "start_time": "2023-12-17T17:05:21.127Z"
   },
   {
    "duration": 26,
    "start_time": "2023-12-17T17:05:21.160Z"
   },
   {
    "duration": 17,
    "start_time": "2023-12-17T17:05:21.188Z"
   },
   {
    "duration": 25,
    "start_time": "2023-12-17T17:05:21.207Z"
   },
   {
    "duration": 45,
    "start_time": "2023-12-17T17:05:21.233Z"
   },
   {
    "duration": 17,
    "start_time": "2023-12-17T17:05:21.280Z"
   },
   {
    "duration": 41,
    "start_time": "2023-12-17T17:05:21.298Z"
   },
   {
    "duration": 29,
    "start_time": "2023-12-17T17:05:21.341Z"
   },
   {
    "duration": 36,
    "start_time": "2023-12-17T17:05:21.372Z"
   },
   {
    "duration": 11,
    "start_time": "2023-12-17T17:05:21.410Z"
   },
   {
    "duration": 22,
    "start_time": "2023-12-17T17:05:21.422Z"
   },
   {
    "duration": 18,
    "start_time": "2023-12-17T17:05:21.446Z"
   },
   {
    "duration": 29,
    "start_time": "2023-12-17T17:05:21.465Z"
   },
   {
    "duration": 81,
    "start_time": "2023-12-17T17:05:21.496Z"
   },
   {
    "duration": 357,
    "start_time": "2023-12-17T17:05:21.579Z"
   },
   {
    "duration": 1001,
    "start_time": "2023-12-17T17:05:21.939Z"
   },
   {
    "duration": 5695,
    "start_time": "2023-12-17T17:05:22.942Z"
   },
   {
    "duration": 727,
    "start_time": "2023-12-17T17:05:28.639Z"
   },
   {
    "duration": 597,
    "start_time": "2023-12-17T17:05:29.368Z"
   },
   {
    "duration": 1625,
    "start_time": "2023-12-17T17:05:29.966Z"
   },
   {
    "duration": 23,
    "start_time": "2023-12-17T17:05:31.593Z"
   },
   {
    "duration": 184,
    "start_time": "2023-12-17T17:05:31.618Z"
   },
   {
    "duration": 20,
    "start_time": "2023-12-17T17:05:31.804Z"
   },
   {
    "duration": 136,
    "start_time": "2023-12-17T17:05:31.826Z"
   },
   {
    "duration": 22,
    "start_time": "2023-12-17T17:05:31.964Z"
   },
   {
    "duration": 130,
    "start_time": "2023-12-17T17:05:31.990Z"
   },
   {
    "duration": 44,
    "start_time": "2023-12-17T17:05:32.121Z"
   },
   {
    "duration": 252,
    "start_time": "2023-12-17T17:05:32.166Z"
   },
   {
    "duration": 22,
    "start_time": "2023-12-17T17:05:32.419Z"
   },
   {
    "duration": 152,
    "start_time": "2023-12-17T17:05:32.443Z"
   },
   {
    "duration": 29,
    "start_time": "2023-12-17T17:05:32.596Z"
   },
   {
    "duration": 131,
    "start_time": "2023-12-17T17:05:32.627Z"
   },
   {
    "duration": 24,
    "start_time": "2023-12-17T17:05:32.764Z"
   },
   {
    "duration": 370,
    "start_time": "2023-12-17T17:05:32.790Z"
   },
   {
    "duration": 4,
    "start_time": "2023-12-17T17:05:33.162Z"
   },
   {
    "duration": 31,
    "start_time": "2023-12-17T17:05:33.167Z"
   },
   {
    "duration": 26,
    "start_time": "2023-12-17T17:05:33.200Z"
   },
   {
    "duration": 48,
    "start_time": "2023-12-17T17:05:33.228Z"
   },
   {
    "duration": 27,
    "start_time": "2023-12-17T17:05:33.277Z"
   },
   {
    "duration": 8,
    "start_time": "2023-12-17T17:05:33.305Z"
   },
   {
    "duration": 7,
    "start_time": "2023-12-17T17:05:33.314Z"
   },
   {
    "duration": 78,
    "start_time": "2023-12-17T17:09:06.219Z"
   },
   {
    "duration": 3599,
    "start_time": "2023-12-17T17:09:06.299Z"
   },
   {
    "duration": 91,
    "start_time": "2023-12-17T17:09:09.900Z"
   },
   {
    "duration": 24,
    "start_time": "2023-12-17T17:09:09.993Z"
   },
   {
    "duration": 76,
    "start_time": "2023-12-17T17:09:10.018Z"
   },
   {
    "duration": 40,
    "start_time": "2023-12-17T17:09:10.096Z"
   },
   {
    "duration": 91,
    "start_time": "2023-12-17T17:09:10.137Z"
   },
   {
    "duration": 4,
    "start_time": "2023-12-17T17:09:10.229Z"
   },
   {
    "duration": 49,
    "start_time": "2023-12-17T17:09:10.235Z"
   },
   {
    "duration": 82,
    "start_time": "2023-12-17T17:09:10.287Z"
   },
   {
    "duration": 39,
    "start_time": "2023-12-17T17:09:10.371Z"
   },
   {
    "duration": 54,
    "start_time": "2023-12-17T17:09:10.411Z"
   },
   {
    "duration": 41,
    "start_time": "2023-12-17T17:09:10.467Z"
   },
   {
    "duration": 49,
    "start_time": "2023-12-17T17:09:10.509Z"
   },
   {
    "duration": 32,
    "start_time": "2023-12-17T17:09:10.560Z"
   },
   {
    "duration": 26,
    "start_time": "2023-12-17T17:09:10.594Z"
   },
   {
    "duration": 4,
    "start_time": "2023-12-17T17:09:10.621Z"
   },
   {
    "duration": 17,
    "start_time": "2023-12-17T17:09:10.626Z"
   },
   {
    "duration": 27,
    "start_time": "2023-12-17T17:09:10.645Z"
   },
   {
    "duration": 24,
    "start_time": "2023-12-17T17:09:10.674Z"
   },
   {
    "duration": 24,
    "start_time": "2023-12-17T17:09:10.699Z"
   },
   {
    "duration": 41,
    "start_time": "2023-12-17T17:09:10.724Z"
   },
   {
    "duration": 36,
    "start_time": "2023-12-17T17:09:10.766Z"
   },
   {
    "duration": 41,
    "start_time": "2023-12-17T17:09:10.804Z"
   },
   {
    "duration": 11,
    "start_time": "2023-12-17T17:09:10.847Z"
   },
   {
    "duration": 33,
    "start_time": "2023-12-17T17:09:10.860Z"
   },
   {
    "duration": 35,
    "start_time": "2023-12-17T17:09:10.895Z"
   },
   {
    "duration": 29,
    "start_time": "2023-12-17T17:09:10.933Z"
   },
   {
    "duration": 57,
    "start_time": "2023-12-17T17:09:10.964Z"
   },
   {
    "duration": 356,
    "start_time": "2023-12-17T17:09:11.023Z"
   },
   {
    "duration": 363,
    "start_time": "2023-12-17T17:09:11.380Z"
   },
   {
    "duration": 5565,
    "start_time": "2023-12-17T17:09:11.745Z"
   },
   {
    "duration": 867,
    "start_time": "2023-12-17T17:09:17.312Z"
   },
   {
    "duration": 621,
    "start_time": "2023-12-17T17:09:18.181Z"
   },
   {
    "duration": 1684,
    "start_time": "2023-12-17T17:09:18.804Z"
   },
   {
    "duration": 21,
    "start_time": "2023-12-17T17:09:20.489Z"
   },
   {
    "duration": 157,
    "start_time": "2023-12-17T17:09:20.511Z"
   },
   {
    "duration": 19,
    "start_time": "2023-12-17T17:09:20.670Z"
   },
   {
    "duration": 139,
    "start_time": "2023-12-17T17:09:20.691Z"
   },
   {
    "duration": 22,
    "start_time": "2023-12-17T17:09:20.832Z"
   },
   {
    "duration": 116,
    "start_time": "2023-12-17T17:09:20.865Z"
   },
   {
    "duration": 35,
    "start_time": "2023-12-17T17:09:20.983Z"
   },
   {
    "duration": 255,
    "start_time": "2023-12-17T17:09:21.019Z"
   },
   {
    "duration": 20,
    "start_time": "2023-12-17T17:09:21.275Z"
   },
   {
    "duration": 123,
    "start_time": "2023-12-17T17:09:21.296Z"
   },
   {
    "duration": 22,
    "start_time": "2023-12-17T17:09:21.421Z"
   },
   {
    "duration": 128,
    "start_time": "2023-12-17T17:09:21.445Z"
   },
   {
    "duration": 26,
    "start_time": "2023-12-17T17:09:21.575Z"
   },
   {
    "duration": 397,
    "start_time": "2023-12-17T17:09:21.602Z"
   },
   {
    "duration": 2,
    "start_time": "2023-12-17T17:09:22.001Z"
   },
   {
    "duration": 29,
    "start_time": "2023-12-17T17:09:22.004Z"
   },
   {
    "duration": 43,
    "start_time": "2023-12-17T17:09:22.035Z"
   },
   {
    "duration": 26,
    "start_time": "2023-12-17T17:09:22.079Z"
   },
   {
    "duration": 27,
    "start_time": "2023-12-17T17:09:22.106Z"
   },
   {
    "duration": 33,
    "start_time": "2023-12-17T17:09:22.134Z"
   },
   {
    "duration": 7,
    "start_time": "2023-12-17T17:09:22.169Z"
   },
   {
    "duration": 46,
    "start_time": "2023-12-17T21:59:44.279Z"
   },
   {
    "duration": 3823,
    "start_time": "2023-12-17T21:59:44.327Z"
   },
   {
    "duration": 52,
    "start_time": "2023-12-17T21:59:48.152Z"
   },
   {
    "duration": 22,
    "start_time": "2023-12-17T21:59:48.205Z"
   },
   {
    "duration": 11,
    "start_time": "2023-12-17T21:59:48.229Z"
   },
   {
    "duration": 11,
    "start_time": "2023-12-17T21:59:48.241Z"
   },
   {
    "duration": 77,
    "start_time": "2023-12-17T21:59:48.253Z"
   },
   {
    "duration": 5,
    "start_time": "2023-12-17T21:59:48.331Z"
   },
   {
    "duration": 11,
    "start_time": "2023-12-17T21:59:48.337Z"
   },
   {
    "duration": 21,
    "start_time": "2023-12-17T21:59:48.350Z"
   },
   {
    "duration": 6,
    "start_time": "2023-12-17T21:59:48.373Z"
   },
   {
    "duration": 11,
    "start_time": "2023-12-17T21:59:48.380Z"
   },
   {
    "duration": 15,
    "start_time": "2023-12-17T21:59:48.393Z"
   },
   {
    "duration": 34,
    "start_time": "2023-12-17T21:59:48.411Z"
   },
   {
    "duration": 9,
    "start_time": "2023-12-17T21:59:48.446Z"
   },
   {
    "duration": 35,
    "start_time": "2023-12-17T21:59:48.457Z"
   },
   {
    "duration": 5,
    "start_time": "2023-12-17T21:59:48.494Z"
   },
   {
    "duration": 11,
    "start_time": "2023-12-17T21:59:48.501Z"
   },
   {
    "duration": 20,
    "start_time": "2023-12-17T21:59:48.514Z"
   },
   {
    "duration": 9,
    "start_time": "2023-12-17T21:59:48.536Z"
   },
   {
    "duration": 6,
    "start_time": "2023-12-17T21:59:48.546Z"
   },
   {
    "duration": 18,
    "start_time": "2023-12-17T21:59:48.553Z"
   },
   {
    "duration": 18,
    "start_time": "2023-12-17T21:59:48.572Z"
   },
   {
    "duration": 54,
    "start_time": "2023-12-17T21:59:48.592Z"
   },
   {
    "duration": 12,
    "start_time": "2023-12-17T21:59:48.648Z"
   },
   {
    "duration": 5,
    "start_time": "2023-12-17T21:59:48.662Z"
   },
   {
    "duration": 10,
    "start_time": "2023-12-17T21:59:48.668Z"
   },
   {
    "duration": 47,
    "start_time": "2023-12-17T21:59:48.679Z"
   },
   {
    "duration": 15,
    "start_time": "2023-12-17T21:59:48.728Z"
   },
   {
    "duration": 368,
    "start_time": "2023-12-17T21:59:48.745Z"
   },
   {
    "duration": 331,
    "start_time": "2023-12-17T21:59:49.114Z"
   },
   {
    "duration": 5396,
    "start_time": "2023-12-17T21:59:49.447Z"
   },
   {
    "duration": 835,
    "start_time": "2023-12-17T21:59:54.844Z"
   },
   {
    "duration": 581,
    "start_time": "2023-12-17T21:59:55.681Z"
   },
   {
    "duration": 1671,
    "start_time": "2023-12-17T21:59:56.264Z"
   },
   {
    "duration": 19,
    "start_time": "2023-12-17T21:59:57.936Z"
   },
   {
    "duration": 161,
    "start_time": "2023-12-17T21:59:57.957Z"
   },
   {
    "duration": 21,
    "start_time": "2023-12-17T21:59:58.119Z"
   },
   {
    "duration": 140,
    "start_time": "2023-12-17T21:59:58.141Z"
   },
   {
    "duration": 34,
    "start_time": "2023-12-17T21:59:58.283Z"
   },
   {
    "duration": 119,
    "start_time": "2023-12-17T21:59:58.321Z"
   },
   {
    "duration": 32,
    "start_time": "2023-12-17T21:59:58.442Z"
   },
   {
    "duration": 252,
    "start_time": "2023-12-17T21:59:58.475Z"
   },
   {
    "duration": 19,
    "start_time": "2023-12-17T21:59:58.728Z"
   },
   {
    "duration": 118,
    "start_time": "2023-12-17T21:59:58.748Z"
   },
   {
    "duration": 21,
    "start_time": "2023-12-17T21:59:58.868Z"
   },
   {
    "duration": 131,
    "start_time": "2023-12-17T21:59:58.890Z"
   },
   {
    "duration": 24,
    "start_time": "2023-12-17T21:59:59.022Z"
   },
   {
    "duration": 374,
    "start_time": "2023-12-17T21:59:59.047Z"
   },
   {
    "duration": 2,
    "start_time": "2023-12-17T21:59:59.423Z"
   },
   {
    "duration": 29,
    "start_time": "2023-12-17T21:59:59.426Z"
   },
   {
    "duration": 26,
    "start_time": "2023-12-17T21:59:59.456Z"
   },
   {
    "duration": 46,
    "start_time": "2023-12-17T21:59:59.483Z"
   },
   {
    "duration": 28,
    "start_time": "2023-12-17T21:59:59.530Z"
   },
   {
    "duration": 7,
    "start_time": "2023-12-17T21:59:59.559Z"
   },
   {
    "duration": 14,
    "start_time": "2023-12-17T21:59:59.568Z"
   },
   {
    "duration": 56,
    "start_time": "2023-12-17T23:19:48.692Z"
   },
   {
    "duration": 3664,
    "start_time": "2023-12-17T23:19:48.749Z"
   },
   {
    "duration": 129,
    "start_time": "2023-12-17T23:19:52.414Z"
   },
   {
    "duration": 23,
    "start_time": "2023-12-17T23:19:52.545Z"
   },
   {
    "duration": 11,
    "start_time": "2023-12-17T23:19:52.569Z"
   },
   {
    "duration": 6,
    "start_time": "2023-12-17T23:19:52.582Z"
   },
   {
    "duration": 74,
    "start_time": "2023-12-17T23:19:52.589Z"
   },
   {
    "duration": 4,
    "start_time": "2023-12-17T23:19:52.665Z"
   },
   {
    "duration": 16,
    "start_time": "2023-12-17T23:19:52.671Z"
   },
   {
    "duration": 11,
    "start_time": "2023-12-17T23:19:52.689Z"
   },
   {
    "duration": 10,
    "start_time": "2023-12-17T23:19:52.701Z"
   },
   {
    "duration": 17,
    "start_time": "2023-12-17T23:19:52.712Z"
   },
   {
    "duration": 2,
    "start_time": "2023-12-17T23:19:52.730Z"
   },
   {
    "duration": 20,
    "start_time": "2023-12-17T23:19:52.734Z"
   },
   {
    "duration": 10,
    "start_time": "2023-12-17T23:19:52.755Z"
   },
   {
    "duration": 28,
    "start_time": "2023-12-17T23:19:52.766Z"
   },
   {
    "duration": 4,
    "start_time": "2023-12-17T23:19:52.795Z"
   },
   {
    "duration": 27,
    "start_time": "2023-12-17T23:19:52.800Z"
   },
   {
    "duration": 31,
    "start_time": "2023-12-17T23:19:52.828Z"
   },
   {
    "duration": 10,
    "start_time": "2023-12-17T23:19:52.861Z"
   },
   {
    "duration": 5,
    "start_time": "2023-12-17T23:19:52.872Z"
   },
   {
    "duration": 14,
    "start_time": "2023-12-17T23:19:52.878Z"
   },
   {
    "duration": 47,
    "start_time": "2023-12-17T23:19:52.893Z"
   },
   {
    "duration": 32,
    "start_time": "2023-12-17T23:19:52.941Z"
   },
   {
    "duration": 12,
    "start_time": "2023-12-17T23:19:52.974Z"
   },
   {
    "duration": 9,
    "start_time": "2023-12-17T23:19:52.987Z"
   },
   {
    "duration": 18,
    "start_time": "2023-12-17T23:19:52.997Z"
   },
   {
    "duration": 14,
    "start_time": "2023-12-17T23:19:53.019Z"
   },
   {
    "duration": 16,
    "start_time": "2023-12-17T23:19:53.034Z"
   },
   {
    "duration": 359,
    "start_time": "2023-12-17T23:19:53.051Z"
   },
   {
    "duration": 346,
    "start_time": "2023-12-17T23:19:53.412Z"
   },
   {
    "duration": 5425,
    "start_time": "2023-12-17T23:19:53.760Z"
   },
   {
    "duration": 794,
    "start_time": "2023-12-17T23:19:59.187Z"
   },
   {
    "duration": 578,
    "start_time": "2023-12-17T23:19:59.982Z"
   },
   {
    "duration": 1694,
    "start_time": "2023-12-17T23:20:00.561Z"
   },
   {
    "duration": 20,
    "start_time": "2023-12-17T23:20:02.256Z"
   },
   {
    "duration": 172,
    "start_time": "2023-12-17T23:20:02.277Z"
   },
   {
    "duration": 18,
    "start_time": "2023-12-17T23:20:02.451Z"
   },
   {
    "duration": 141,
    "start_time": "2023-12-17T23:20:02.470Z"
   },
   {
    "duration": 23,
    "start_time": "2023-12-17T23:20:02.612Z"
   },
   {
    "duration": 124,
    "start_time": "2023-12-17T23:20:02.636Z"
   },
   {
    "duration": 33,
    "start_time": "2023-12-17T23:20:02.762Z"
   },
   {
    "duration": 261,
    "start_time": "2023-12-17T23:20:02.796Z"
   },
   {
    "duration": 22,
    "start_time": "2023-12-17T23:20:03.058Z"
   },
   {
    "duration": 125,
    "start_time": "2023-12-17T23:20:03.081Z"
   },
   {
    "duration": 23,
    "start_time": "2023-12-17T23:20:03.207Z"
   },
   {
    "duration": 124,
    "start_time": "2023-12-17T23:20:03.232Z"
   },
   {
    "duration": 26,
    "start_time": "2023-12-17T23:20:03.357Z"
   },
   {
    "duration": 367,
    "start_time": "2023-12-17T23:20:03.385Z"
   },
   {
    "duration": 3,
    "start_time": "2023-12-17T23:20:03.754Z"
   },
   {
    "duration": 30,
    "start_time": "2023-12-17T23:20:03.758Z"
   },
   {
    "duration": 42,
    "start_time": "2023-12-17T23:20:03.790Z"
   },
   {
    "duration": 24,
    "start_time": "2023-12-17T23:20:03.834Z"
   },
   {
    "duration": 29,
    "start_time": "2023-12-17T23:20:03.860Z"
   },
   {
    "duration": 26,
    "start_time": "2023-12-17T23:20:03.890Z"
   },
   {
    "duration": 8,
    "start_time": "2023-12-17T23:20:03.917Z"
   },
   {
    "duration": 5599,
    "start_time": "2023-12-17T23:20:25.962Z"
   },
   {
    "duration": 5619,
    "start_time": "2023-12-17T23:22:50.646Z"
   },
   {
    "duration": 5846,
    "start_time": "2023-12-17T23:23:08.259Z"
   },
   {
    "duration": 5759,
    "start_time": "2023-12-17T23:23:52.388Z"
   },
   {
    "duration": 5858,
    "start_time": "2023-12-17T23:25:43.710Z"
   },
   {
    "duration": 5787,
    "start_time": "2023-12-17T23:26:10.305Z"
   },
   {
    "duration": 44,
    "start_time": "2023-12-18T13:42:07.264Z"
   },
   {
    "duration": 45,
    "start_time": "2023-12-18T13:42:12.303Z"
   },
   {
    "duration": 4477,
    "start_time": "2023-12-18T13:42:12.350Z"
   },
   {
    "duration": 184,
    "start_time": "2023-12-18T13:42:16.828Z"
   },
   {
    "duration": 24,
    "start_time": "2023-12-18T13:42:17.014Z"
   },
   {
    "duration": 14,
    "start_time": "2023-12-18T13:42:17.040Z"
   },
   {
    "duration": 28,
    "start_time": "2023-12-18T13:42:17.056Z"
   },
   {
    "duration": 78,
    "start_time": "2023-12-18T13:42:17.085Z"
   },
   {
    "duration": 5,
    "start_time": "2023-12-18T13:42:17.164Z"
   },
   {
    "duration": 14,
    "start_time": "2023-12-18T13:42:17.170Z"
   },
   {
    "duration": 17,
    "start_time": "2023-12-18T13:42:17.185Z"
   },
   {
    "duration": 4,
    "start_time": "2023-12-18T13:42:17.203Z"
   },
   {
    "duration": 28,
    "start_time": "2023-12-18T13:42:17.208Z"
   },
   {
    "duration": 16,
    "start_time": "2023-12-18T13:42:17.237Z"
   },
   {
    "duration": 21,
    "start_time": "2023-12-18T13:42:17.256Z"
   },
   {
    "duration": 9,
    "start_time": "2023-12-18T13:42:17.278Z"
   },
   {
    "duration": 21,
    "start_time": "2023-12-18T13:42:17.289Z"
   },
   {
    "duration": 3,
    "start_time": "2023-12-18T13:42:17.312Z"
   },
   {
    "duration": 17,
    "start_time": "2023-12-18T13:42:17.317Z"
   },
   {
    "duration": 28,
    "start_time": "2023-12-18T13:42:17.335Z"
   },
   {
    "duration": 31,
    "start_time": "2023-12-18T13:42:17.364Z"
   },
   {
    "duration": 14,
    "start_time": "2023-12-18T13:42:17.397Z"
   },
   {
    "duration": 13,
    "start_time": "2023-12-18T13:42:17.413Z"
   },
   {
    "duration": 29,
    "start_time": "2023-12-18T13:42:17.427Z"
   },
   {
    "duration": 30,
    "start_time": "2023-12-18T13:42:17.457Z"
   },
   {
    "duration": 11,
    "start_time": "2023-12-18T13:42:17.489Z"
   },
   {
    "duration": 23,
    "start_time": "2023-12-18T13:42:17.501Z"
   },
   {
    "duration": 12,
    "start_time": "2023-12-18T13:42:17.525Z"
   },
   {
    "duration": 16,
    "start_time": "2023-12-18T13:42:17.538Z"
   },
   {
    "duration": 19,
    "start_time": "2023-12-18T13:42:17.555Z"
   },
   {
    "duration": 346,
    "start_time": "2023-12-18T13:42:17.576Z"
   },
   {
    "duration": 332,
    "start_time": "2023-12-18T13:42:17.924Z"
   },
   {
    "duration": 5324,
    "start_time": "2023-12-18T13:42:18.258Z"
   },
   {
    "duration": 820,
    "start_time": "2023-12-18T13:42:23.583Z"
   },
   {
    "duration": 90,
    "start_time": "2023-12-18T13:42:24.405Z"
   },
   {
    "duration": 0,
    "start_time": "2023-12-18T13:42:24.496Z"
   },
   {
    "duration": 0,
    "start_time": "2023-12-18T13:42:24.498Z"
   },
   {
    "duration": 0,
    "start_time": "2023-12-18T13:42:24.498Z"
   },
   {
    "duration": 0,
    "start_time": "2023-12-18T13:42:24.499Z"
   },
   {
    "duration": 0,
    "start_time": "2023-12-18T13:42:24.500Z"
   },
   {
    "duration": 0,
    "start_time": "2023-12-18T13:42:24.501Z"
   },
   {
    "duration": 0,
    "start_time": "2023-12-18T13:42:24.502Z"
   },
   {
    "duration": 0,
    "start_time": "2023-12-18T13:42:24.503Z"
   },
   {
    "duration": 0,
    "start_time": "2023-12-18T13:42:24.504Z"
   },
   {
    "duration": 0,
    "start_time": "2023-12-18T13:42:24.505Z"
   },
   {
    "duration": 0,
    "start_time": "2023-12-18T13:42:24.506Z"
   },
   {
    "duration": 0,
    "start_time": "2023-12-18T13:42:24.507Z"
   },
   {
    "duration": 0,
    "start_time": "2023-12-18T13:42:24.508Z"
   },
   {
    "duration": 0,
    "start_time": "2023-12-18T13:42:24.509Z"
   },
   {
    "duration": 0,
    "start_time": "2023-12-18T13:42:24.510Z"
   },
   {
    "duration": 0,
    "start_time": "2023-12-18T13:42:24.511Z"
   },
   {
    "duration": 0,
    "start_time": "2023-12-18T13:42:24.512Z"
   },
   {
    "duration": 0,
    "start_time": "2023-12-18T13:42:24.513Z"
   },
   {
    "duration": 0,
    "start_time": "2023-12-18T13:42:24.514Z"
   },
   {
    "duration": 0,
    "start_time": "2023-12-18T13:42:24.515Z"
   },
   {
    "duration": 0,
    "start_time": "2023-12-18T13:42:24.516Z"
   },
   {
    "duration": 0,
    "start_time": "2023-12-18T13:42:24.517Z"
   },
   {
    "duration": 0,
    "start_time": "2023-12-18T13:42:24.518Z"
   },
   {
    "duration": 27,
    "start_time": "2023-12-18T13:47:53.801Z"
   },
   {
    "duration": 27,
    "start_time": "2023-12-18T13:48:06.162Z"
   },
   {
    "duration": 565,
    "start_time": "2023-12-18T14:00:16.681Z"
   },
   {
    "duration": 28,
    "start_time": "2023-12-18T14:00:29.298Z"
   },
   {
    "duration": 28,
    "start_time": "2023-12-18T14:02:48.337Z"
   },
   {
    "duration": 30,
    "start_time": "2023-12-18T14:03:10.068Z"
   },
   {
    "duration": 31,
    "start_time": "2023-12-18T14:03:19.807Z"
   },
   {
    "duration": 47,
    "start_time": "2023-12-18T15:37:38.540Z"
   },
   {
    "duration": 3404,
    "start_time": "2023-12-18T15:37:38.589Z"
   },
   {
    "duration": 179,
    "start_time": "2023-12-18T15:37:41.995Z"
   },
   {
    "duration": 21,
    "start_time": "2023-12-18T15:37:42.176Z"
   },
   {
    "duration": 11,
    "start_time": "2023-12-18T15:37:42.199Z"
   },
   {
    "duration": 17,
    "start_time": "2023-12-18T15:37:42.212Z"
   },
   {
    "duration": 86,
    "start_time": "2023-12-18T15:37:42.230Z"
   },
   {
    "duration": 5,
    "start_time": "2023-12-18T15:37:42.317Z"
   },
   {
    "duration": 18,
    "start_time": "2023-12-18T15:37:42.324Z"
   },
   {
    "duration": 32,
    "start_time": "2023-12-18T15:37:42.344Z"
   },
   {
    "duration": 26,
    "start_time": "2023-12-18T15:37:42.377Z"
   },
   {
    "duration": 36,
    "start_time": "2023-12-18T15:37:42.404Z"
   },
   {
    "duration": 53,
    "start_time": "2023-12-18T15:37:42.441Z"
   },
   {
    "duration": 40,
    "start_time": "2023-12-18T15:37:42.497Z"
   },
   {
    "duration": 11,
    "start_time": "2023-12-18T15:37:42.539Z"
   },
   {
    "duration": 47,
    "start_time": "2023-12-18T15:37:42.551Z"
   },
   {
    "duration": 5,
    "start_time": "2023-12-18T15:37:42.600Z"
   },
   {
    "duration": 22,
    "start_time": "2023-12-18T15:37:42.606Z"
   },
   {
    "duration": 36,
    "start_time": "2023-12-18T15:37:42.630Z"
   },
   {
    "duration": 17,
    "start_time": "2023-12-18T15:37:42.668Z"
   },
   {
    "duration": 27,
    "start_time": "2023-12-18T15:37:42.687Z"
   },
   {
    "duration": 22,
    "start_time": "2023-12-18T15:37:42.715Z"
   },
   {
    "duration": 35,
    "start_time": "2023-12-18T15:37:42.739Z"
   },
   {
    "duration": 36,
    "start_time": "2023-12-18T15:37:42.776Z"
   },
   {
    "duration": 11,
    "start_time": "2023-12-18T15:37:42.814Z"
   },
   {
    "duration": 15,
    "start_time": "2023-12-18T15:37:42.827Z"
   },
   {
    "duration": 20,
    "start_time": "2023-12-18T15:37:42.844Z"
   },
   {
    "duration": 31,
    "start_time": "2023-12-18T15:37:42.866Z"
   },
   {
    "duration": 14,
    "start_time": "2023-12-18T15:37:42.899Z"
   },
   {
    "duration": 341,
    "start_time": "2023-12-18T15:37:42.915Z"
   },
   {
    "duration": 324,
    "start_time": "2023-12-18T15:37:43.258Z"
   },
   {
    "duration": 5203,
    "start_time": "2023-12-18T15:37:43.584Z"
   },
   {
    "duration": 784,
    "start_time": "2023-12-18T15:37:48.788Z"
   },
   {
    "duration": 42,
    "start_time": "2023-12-18T15:40:02.856Z"
   },
   {
    "duration": 45,
    "start_time": "2023-12-18T15:40:17.751Z"
   },
   {
    "duration": 3374,
    "start_time": "2023-12-18T15:40:17.797Z"
   },
   {
    "duration": 180,
    "start_time": "2023-12-18T15:40:21.173Z"
   },
   {
    "duration": 23,
    "start_time": "2023-12-18T15:40:21.355Z"
   },
   {
    "duration": 11,
    "start_time": "2023-12-18T15:40:21.379Z"
   },
   {
    "duration": 24,
    "start_time": "2023-12-18T15:40:21.392Z"
   },
   {
    "duration": 73,
    "start_time": "2023-12-18T15:40:21.417Z"
   },
   {
    "duration": 4,
    "start_time": "2023-12-18T15:40:21.492Z"
   },
   {
    "duration": 27,
    "start_time": "2023-12-18T15:40:21.497Z"
   },
   {
    "duration": 15,
    "start_time": "2023-12-18T15:40:21.527Z"
   },
   {
    "duration": 24,
    "start_time": "2023-12-18T15:40:21.544Z"
   },
   {
    "duration": 26,
    "start_time": "2023-12-18T15:40:21.569Z"
   },
   {
    "duration": 4,
    "start_time": "2023-12-18T15:40:21.596Z"
   },
   {
    "duration": 39,
    "start_time": "2023-12-18T15:40:21.601Z"
   },
   {
    "duration": 12,
    "start_time": "2023-12-18T15:40:21.642Z"
   },
   {
    "duration": 44,
    "start_time": "2023-12-18T15:40:21.656Z"
   },
   {
    "duration": 3,
    "start_time": "2023-12-18T15:40:21.702Z"
   },
   {
    "duration": 32,
    "start_time": "2023-12-18T15:40:21.706Z"
   },
   {
    "duration": 29,
    "start_time": "2023-12-18T15:40:21.739Z"
   },
   {
    "duration": 10,
    "start_time": "2023-12-18T15:40:21.769Z"
   },
   {
    "duration": 18,
    "start_time": "2023-12-18T15:40:21.780Z"
   },
   {
    "duration": 31,
    "start_time": "2023-12-18T15:40:21.800Z"
   },
   {
    "duration": 22,
    "start_time": "2023-12-18T15:40:21.832Z"
   },
   {
    "duration": 37,
    "start_time": "2023-12-18T15:40:21.855Z"
   },
   {
    "duration": 12,
    "start_time": "2023-12-18T15:40:21.894Z"
   },
   {
    "duration": 19,
    "start_time": "2023-12-18T15:40:21.907Z"
   },
   {
    "duration": 24,
    "start_time": "2023-12-18T15:40:21.928Z"
   },
   {
    "duration": 20,
    "start_time": "2023-12-18T15:40:21.955Z"
   },
   {
    "duration": 28,
    "start_time": "2023-12-18T15:40:21.976Z"
   },
   {
    "duration": 328,
    "start_time": "2023-12-18T15:40:22.005Z"
   },
   {
    "duration": 348,
    "start_time": "2023-12-18T15:40:22.335Z"
   },
   {
    "duration": 5252,
    "start_time": "2023-12-18T15:40:22.685Z"
   },
   {
    "duration": 795,
    "start_time": "2023-12-18T15:40:27.938Z"
   },
   {
    "duration": 74,
    "start_time": "2023-12-18T15:42:13.959Z"
   },
   {
    "duration": 45,
    "start_time": "2023-12-18T15:43:24.417Z"
   },
   {
    "duration": 87,
    "start_time": "2023-12-18T15:43:24.463Z"
   },
   {
    "duration": 0,
    "start_time": "2023-12-18T15:43:24.552Z"
   },
   {
    "duration": 0,
    "start_time": "2023-12-18T15:43:24.553Z"
   },
   {
    "duration": 0,
    "start_time": "2023-12-18T15:43:24.554Z"
   },
   {
    "duration": 0,
    "start_time": "2023-12-18T15:43:24.554Z"
   },
   {
    "duration": 0,
    "start_time": "2023-12-18T15:43:24.555Z"
   },
   {
    "duration": 0,
    "start_time": "2023-12-18T15:43:24.556Z"
   },
   {
    "duration": 0,
    "start_time": "2023-12-18T15:43:24.557Z"
   },
   {
    "duration": 0,
    "start_time": "2023-12-18T15:43:24.557Z"
   },
   {
    "duration": 0,
    "start_time": "2023-12-18T15:43:24.558Z"
   },
   {
    "duration": 0,
    "start_time": "2023-12-18T15:43:24.559Z"
   },
   {
    "duration": 0,
    "start_time": "2023-12-18T15:43:24.560Z"
   },
   {
    "duration": 0,
    "start_time": "2023-12-18T15:43:24.560Z"
   },
   {
    "duration": 0,
    "start_time": "2023-12-18T15:43:24.561Z"
   },
   {
    "duration": 0,
    "start_time": "2023-12-18T15:43:24.562Z"
   },
   {
    "duration": 0,
    "start_time": "2023-12-18T15:43:24.563Z"
   },
   {
    "duration": 0,
    "start_time": "2023-12-18T15:43:24.564Z"
   },
   {
    "duration": 0,
    "start_time": "2023-12-18T15:43:24.564Z"
   },
   {
    "duration": 0,
    "start_time": "2023-12-18T15:43:24.565Z"
   },
   {
    "duration": 0,
    "start_time": "2023-12-18T15:43:24.566Z"
   },
   {
    "duration": 0,
    "start_time": "2023-12-18T15:43:24.567Z"
   },
   {
    "duration": 0,
    "start_time": "2023-12-18T15:43:24.568Z"
   },
   {
    "duration": 0,
    "start_time": "2023-12-18T15:43:24.569Z"
   },
   {
    "duration": 0,
    "start_time": "2023-12-18T15:43:24.570Z"
   },
   {
    "duration": 0,
    "start_time": "2023-12-18T15:43:24.571Z"
   },
   {
    "duration": 0,
    "start_time": "2023-12-18T15:43:24.572Z"
   },
   {
    "duration": 0,
    "start_time": "2023-12-18T15:43:24.573Z"
   },
   {
    "duration": 0,
    "start_time": "2023-12-18T15:43:24.574Z"
   },
   {
    "duration": 0,
    "start_time": "2023-12-18T15:43:24.574Z"
   },
   {
    "duration": 0,
    "start_time": "2023-12-18T15:43:24.575Z"
   },
   {
    "duration": 0,
    "start_time": "2023-12-18T15:43:24.576Z"
   },
   {
    "duration": 0,
    "start_time": "2023-12-18T15:43:24.577Z"
   },
   {
    "duration": 0,
    "start_time": "2023-12-18T15:43:24.578Z"
   },
   {
    "duration": 0,
    "start_time": "2023-12-18T15:43:24.579Z"
   },
   {
    "duration": 0,
    "start_time": "2023-12-18T15:43:24.580Z"
   },
   {
    "duration": 0,
    "start_time": "2023-12-18T15:43:24.581Z"
   },
   {
    "duration": 98,
    "start_time": "2023-12-18T15:43:24.586Z"
   },
   {
    "duration": 0,
    "start_time": "2023-12-18T15:43:24.686Z"
   },
   {
    "duration": 0,
    "start_time": "2023-12-18T15:43:24.687Z"
   },
   {
    "duration": 0,
    "start_time": "2023-12-18T15:43:24.688Z"
   },
   {
    "duration": 0,
    "start_time": "2023-12-18T15:43:24.689Z"
   },
   {
    "duration": 0,
    "start_time": "2023-12-18T15:43:24.690Z"
   },
   {
    "duration": 0,
    "start_time": "2023-12-18T15:43:24.691Z"
   },
   {
    "duration": 0,
    "start_time": "2023-12-18T15:43:24.692Z"
   },
   {
    "duration": 0,
    "start_time": "2023-12-18T15:43:24.693Z"
   },
   {
    "duration": 0,
    "start_time": "2023-12-18T15:43:24.694Z"
   },
   {
    "duration": 0,
    "start_time": "2023-12-18T15:43:24.695Z"
   },
   {
    "duration": 0,
    "start_time": "2023-12-18T15:43:24.696Z"
   },
   {
    "duration": 0,
    "start_time": "2023-12-18T15:43:24.697Z"
   },
   {
    "duration": 0,
    "start_time": "2023-12-18T15:43:24.698Z"
   },
   {
    "duration": 0,
    "start_time": "2023-12-18T15:43:24.699Z"
   },
   {
    "duration": 0,
    "start_time": "2023-12-18T15:43:24.700Z"
   },
   {
    "duration": 0,
    "start_time": "2023-12-18T15:43:24.701Z"
   },
   {
    "duration": 0,
    "start_time": "2023-12-18T15:43:24.702Z"
   },
   {
    "duration": 0,
    "start_time": "2023-12-18T15:43:24.703Z"
   },
   {
    "duration": 51,
    "start_time": "2023-12-18T17:35:33.712Z"
   },
   {
    "duration": 48,
    "start_time": "2023-12-18T17:35:37.669Z"
   },
   {
    "duration": 98,
    "start_time": "2023-12-18T17:35:37.719Z"
   },
   {
    "duration": 0,
    "start_time": "2023-12-18T17:35:37.821Z"
   },
   {
    "duration": 0,
    "start_time": "2023-12-18T17:35:37.822Z"
   },
   {
    "duration": 0,
    "start_time": "2023-12-18T17:35:37.824Z"
   },
   {
    "duration": 0,
    "start_time": "2023-12-18T17:35:37.825Z"
   },
   {
    "duration": 0,
    "start_time": "2023-12-18T17:35:37.826Z"
   },
   {
    "duration": 0,
    "start_time": "2023-12-18T17:35:37.828Z"
   },
   {
    "duration": 0,
    "start_time": "2023-12-18T17:35:37.829Z"
   },
   {
    "duration": 0,
    "start_time": "2023-12-18T17:35:37.831Z"
   },
   {
    "duration": 0,
    "start_time": "2023-12-18T17:35:37.832Z"
   },
   {
    "duration": 0,
    "start_time": "2023-12-18T17:35:37.833Z"
   },
   {
    "duration": 0,
    "start_time": "2023-12-18T17:35:37.835Z"
   },
   {
    "duration": 0,
    "start_time": "2023-12-18T17:35:37.837Z"
   },
   {
    "duration": 0,
    "start_time": "2023-12-18T17:35:37.838Z"
   },
   {
    "duration": 0,
    "start_time": "2023-12-18T17:35:37.839Z"
   },
   {
    "duration": 0,
    "start_time": "2023-12-18T17:35:37.840Z"
   },
   {
    "duration": 0,
    "start_time": "2023-12-18T17:35:37.841Z"
   },
   {
    "duration": 0,
    "start_time": "2023-12-18T17:35:37.842Z"
   },
   {
    "duration": 0,
    "start_time": "2023-12-18T17:35:37.843Z"
   },
   {
    "duration": 0,
    "start_time": "2023-12-18T17:35:37.844Z"
   },
   {
    "duration": 0,
    "start_time": "2023-12-18T17:35:37.845Z"
   },
   {
    "duration": 0,
    "start_time": "2023-12-18T17:35:37.846Z"
   },
   {
    "duration": 0,
    "start_time": "2023-12-18T17:35:37.847Z"
   },
   {
    "duration": 0,
    "start_time": "2023-12-18T17:35:37.849Z"
   },
   {
    "duration": 0,
    "start_time": "2023-12-18T17:35:37.850Z"
   },
   {
    "duration": 0,
    "start_time": "2023-12-18T17:35:37.851Z"
   },
   {
    "duration": 0,
    "start_time": "2023-12-18T17:35:37.853Z"
   },
   {
    "duration": 0,
    "start_time": "2023-12-18T17:35:37.854Z"
   },
   {
    "duration": 0,
    "start_time": "2023-12-18T17:35:37.855Z"
   },
   {
    "duration": 0,
    "start_time": "2023-12-18T17:35:37.856Z"
   },
   {
    "duration": 0,
    "start_time": "2023-12-18T17:35:37.857Z"
   },
   {
    "duration": 0,
    "start_time": "2023-12-18T17:35:37.858Z"
   },
   {
    "duration": 0,
    "start_time": "2023-12-18T17:35:37.860Z"
   },
   {
    "duration": 0,
    "start_time": "2023-12-18T17:35:37.861Z"
   },
   {
    "duration": 0,
    "start_time": "2023-12-18T17:35:37.862Z"
   },
   {
    "duration": 0,
    "start_time": "2023-12-18T17:35:37.922Z"
   },
   {
    "duration": 0,
    "start_time": "2023-12-18T17:35:37.923Z"
   },
   {
    "duration": 0,
    "start_time": "2023-12-18T17:35:37.924Z"
   },
   {
    "duration": 0,
    "start_time": "2023-12-18T17:35:37.925Z"
   },
   {
    "duration": 0,
    "start_time": "2023-12-18T17:35:37.926Z"
   },
   {
    "duration": 10,
    "start_time": "2023-12-18T17:35:37.931Z"
   },
   {
    "duration": 0,
    "start_time": "2023-12-18T17:35:37.943Z"
   },
   {
    "duration": 0,
    "start_time": "2023-12-18T17:35:37.944Z"
   },
   {
    "duration": 0,
    "start_time": "2023-12-18T17:35:37.945Z"
   },
   {
    "duration": 0,
    "start_time": "2023-12-18T17:35:37.946Z"
   },
   {
    "duration": 0,
    "start_time": "2023-12-18T17:35:37.948Z"
   },
   {
    "duration": 0,
    "start_time": "2023-12-18T17:35:37.949Z"
   },
   {
    "duration": 0,
    "start_time": "2023-12-18T17:35:37.951Z"
   },
   {
    "duration": 0,
    "start_time": "2023-12-18T17:35:37.952Z"
   },
   {
    "duration": 0,
    "start_time": "2023-12-18T17:35:37.954Z"
   },
   {
    "duration": 0,
    "start_time": "2023-12-18T17:35:37.955Z"
   },
   {
    "duration": 0,
    "start_time": "2023-12-18T17:35:37.956Z"
   },
   {
    "duration": 0,
    "start_time": "2023-12-18T17:35:37.958Z"
   },
   {
    "duration": 0,
    "start_time": "2023-12-18T17:35:37.960Z"
   },
   {
    "duration": 0,
    "start_time": "2023-12-18T17:35:38.023Z"
   },
   {
    "duration": 8,
    "start_time": "2023-12-18T17:40:57.826Z"
   },
   {
    "duration": 42,
    "start_time": "2023-12-18T17:41:03.313Z"
   },
   {
    "duration": 79,
    "start_time": "2023-12-18T17:41:03.357Z"
   },
   {
    "duration": 0,
    "start_time": "2023-12-18T17:41:03.439Z"
   },
   {
    "duration": 0,
    "start_time": "2023-12-18T17:41:03.440Z"
   },
   {
    "duration": 0,
    "start_time": "2023-12-18T17:41:03.441Z"
   },
   {
    "duration": 0,
    "start_time": "2023-12-18T17:41:03.442Z"
   },
   {
    "duration": 0,
    "start_time": "2023-12-18T17:41:03.443Z"
   },
   {
    "duration": 0,
    "start_time": "2023-12-18T17:41:03.444Z"
   },
   {
    "duration": 0,
    "start_time": "2023-12-18T17:41:03.445Z"
   },
   {
    "duration": 0,
    "start_time": "2023-12-18T17:41:03.446Z"
   },
   {
    "duration": 0,
    "start_time": "2023-12-18T17:41:03.447Z"
   },
   {
    "duration": 0,
    "start_time": "2023-12-18T17:41:03.449Z"
   },
   {
    "duration": 0,
    "start_time": "2023-12-18T17:41:03.450Z"
   },
   {
    "duration": 0,
    "start_time": "2023-12-18T17:41:03.451Z"
   },
   {
    "duration": 0,
    "start_time": "2023-12-18T17:41:03.452Z"
   },
   {
    "duration": 0,
    "start_time": "2023-12-18T17:41:03.453Z"
   },
   {
    "duration": 0,
    "start_time": "2023-12-18T17:41:03.454Z"
   },
   {
    "duration": 0,
    "start_time": "2023-12-18T17:41:03.455Z"
   },
   {
    "duration": 0,
    "start_time": "2023-12-18T17:41:03.456Z"
   },
   {
    "duration": 0,
    "start_time": "2023-12-18T17:41:03.457Z"
   },
   {
    "duration": 0,
    "start_time": "2023-12-18T17:41:03.458Z"
   },
   {
    "duration": 0,
    "start_time": "2023-12-18T17:41:03.459Z"
   },
   {
    "duration": 0,
    "start_time": "2023-12-18T17:41:03.460Z"
   },
   {
    "duration": 0,
    "start_time": "2023-12-18T17:41:03.461Z"
   },
   {
    "duration": 0,
    "start_time": "2023-12-18T17:41:03.462Z"
   },
   {
    "duration": 0,
    "start_time": "2023-12-18T17:41:03.463Z"
   },
   {
    "duration": 0,
    "start_time": "2023-12-18T17:41:03.464Z"
   },
   {
    "duration": 0,
    "start_time": "2023-12-18T17:41:03.465Z"
   },
   {
    "duration": 0,
    "start_time": "2023-12-18T17:41:03.466Z"
   },
   {
    "duration": 0,
    "start_time": "2023-12-18T17:41:03.467Z"
   },
   {
    "duration": 0,
    "start_time": "2023-12-18T17:41:03.468Z"
   },
   {
    "duration": 0,
    "start_time": "2023-12-18T17:41:03.469Z"
   },
   {
    "duration": 0,
    "start_time": "2023-12-18T17:41:03.471Z"
   },
   {
    "duration": 8,
    "start_time": "2023-12-18T17:41:03.523Z"
   },
   {
    "duration": 0,
    "start_time": "2023-12-18T17:41:03.533Z"
   },
   {
    "duration": 0,
    "start_time": "2023-12-18T17:41:03.534Z"
   },
   {
    "duration": 0,
    "start_time": "2023-12-18T17:41:03.535Z"
   },
   {
    "duration": 0,
    "start_time": "2023-12-18T17:41:03.536Z"
   },
   {
    "duration": 0,
    "start_time": "2023-12-18T17:41:03.537Z"
   },
   {
    "duration": 0,
    "start_time": "2023-12-18T17:41:03.538Z"
   },
   {
    "duration": 0,
    "start_time": "2023-12-18T17:41:03.539Z"
   },
   {
    "duration": 0,
    "start_time": "2023-12-18T17:41:03.540Z"
   },
   {
    "duration": 0,
    "start_time": "2023-12-18T17:41:03.541Z"
   },
   {
    "duration": 0,
    "start_time": "2023-12-18T17:41:03.542Z"
   },
   {
    "duration": 0,
    "start_time": "2023-12-18T17:41:03.543Z"
   },
   {
    "duration": 1,
    "start_time": "2023-12-18T17:41:03.544Z"
   },
   {
    "duration": 1,
    "start_time": "2023-12-18T17:41:03.545Z"
   },
   {
    "duration": 0,
    "start_time": "2023-12-18T17:41:03.547Z"
   },
   {
    "duration": 0,
    "start_time": "2023-12-18T17:41:03.548Z"
   },
   {
    "duration": 0,
    "start_time": "2023-12-18T17:41:03.549Z"
   },
   {
    "duration": 0,
    "start_time": "2023-12-18T17:41:03.550Z"
   },
   {
    "duration": 8,
    "start_time": "2023-12-18T17:41:03.552Z"
   },
   {
    "duration": 0,
    "start_time": "2023-12-18T17:41:03.622Z"
   },
   {
    "duration": 0,
    "start_time": "2023-12-18T17:41:03.624Z"
   },
   {
    "duration": 0,
    "start_time": "2023-12-18T17:41:03.625Z"
   },
   {
    "duration": 0,
    "start_time": "2023-12-18T17:41:03.626Z"
   },
   {
    "duration": 0,
    "start_time": "2023-12-18T17:41:03.627Z"
   },
   {
    "duration": 6,
    "start_time": "2023-12-18T17:41:57.995Z"
   },
   {
    "duration": 38,
    "start_time": "2023-12-18T17:42:24.054Z"
   },
   {
    "duration": 2526,
    "start_time": "2023-12-18T17:42:24.094Z"
   },
   {
    "duration": 182,
    "start_time": "2023-12-18T17:42:26.622Z"
   },
   {
    "duration": 24,
    "start_time": "2023-12-18T17:42:26.806Z"
   },
   {
    "duration": 24,
    "start_time": "2023-12-18T17:42:26.831Z"
   },
   {
    "duration": 12,
    "start_time": "2023-12-18T17:42:26.856Z"
   },
   {
    "duration": 88,
    "start_time": "2023-12-18T17:42:26.870Z"
   },
   {
    "duration": 6,
    "start_time": "2023-12-18T17:42:26.960Z"
   },
   {
    "duration": 14,
    "start_time": "2023-12-18T17:42:26.969Z"
   },
   {
    "duration": 13,
    "start_time": "2023-12-18T17:42:26.984Z"
   },
   {
    "duration": 28,
    "start_time": "2023-12-18T17:42:26.999Z"
   },
   {
    "duration": 26,
    "start_time": "2023-12-18T17:42:27.028Z"
   },
   {
    "duration": 3,
    "start_time": "2023-12-18T17:42:27.056Z"
   },
   {
    "duration": 38,
    "start_time": "2023-12-18T17:42:27.061Z"
   },
   {
    "duration": 11,
    "start_time": "2023-12-18T17:42:27.102Z"
   },
   {
    "duration": 40,
    "start_time": "2023-12-18T17:42:27.115Z"
   },
   {
    "duration": 5,
    "start_time": "2023-12-18T17:42:27.157Z"
   },
   {
    "duration": 14,
    "start_time": "2023-12-18T17:42:27.164Z"
   },
   {
    "duration": 17,
    "start_time": "2023-12-18T17:42:27.180Z"
   },
   {
    "duration": 24,
    "start_time": "2023-12-18T17:42:27.199Z"
   },
   {
    "duration": 38,
    "start_time": "2023-12-18T17:42:27.225Z"
   },
   {
    "duration": 36,
    "start_time": "2023-12-18T17:42:27.265Z"
   },
   {
    "duration": 70,
    "start_time": "2023-12-18T17:42:27.303Z"
   },
   {
    "duration": 38,
    "start_time": "2023-12-18T17:42:27.375Z"
   },
   {
    "duration": 14,
    "start_time": "2023-12-18T17:42:27.415Z"
   },
   {
    "duration": 24,
    "start_time": "2023-12-18T17:42:27.431Z"
   },
   {
    "duration": 19,
    "start_time": "2023-12-18T17:42:27.460Z"
   },
   {
    "duration": 16,
    "start_time": "2023-12-18T17:42:27.481Z"
   },
   {
    "duration": 44,
    "start_time": "2023-12-18T17:42:27.500Z"
   },
   {
    "duration": 405,
    "start_time": "2023-12-18T17:42:27.546Z"
   },
   {
    "duration": 402,
    "start_time": "2023-12-18T17:42:27.953Z"
   },
   {
    "duration": 6063,
    "start_time": "2023-12-18T17:42:28.357Z"
   },
   {
    "duration": 978,
    "start_time": "2023-12-18T17:42:34.422Z"
   },
   {
    "duration": 51,
    "start_time": "2023-12-18T17:43:24.530Z"
   },
   {
    "duration": 6,
    "start_time": "2023-12-18T17:45:25.906Z"
   },
   {
    "duration": 7,
    "start_time": "2023-12-18T17:46:24.933Z"
   },
   {
    "duration": 63,
    "start_time": "2023-12-18T17:54:02.295Z"
   },
   {
    "duration": 2649,
    "start_time": "2023-12-18T17:54:02.359Z"
   },
   {
    "duration": 195,
    "start_time": "2023-12-18T17:54:05.010Z"
   },
   {
    "duration": 26,
    "start_time": "2023-12-18T17:54:05.207Z"
   },
   {
    "duration": 17,
    "start_time": "2023-12-18T17:54:05.235Z"
   },
   {
    "duration": 33,
    "start_time": "2023-12-18T17:54:05.253Z"
   },
   {
    "duration": 93,
    "start_time": "2023-12-18T17:54:05.288Z"
   },
   {
    "duration": 5,
    "start_time": "2023-12-18T17:54:05.383Z"
   },
   {
    "duration": 22,
    "start_time": "2023-12-18T17:54:05.392Z"
   },
   {
    "duration": 23,
    "start_time": "2023-12-18T17:54:05.415Z"
   },
   {
    "duration": 14,
    "start_time": "2023-12-18T17:54:05.440Z"
   },
   {
    "duration": 35,
    "start_time": "2023-12-18T17:54:05.456Z"
   },
   {
    "duration": 11,
    "start_time": "2023-12-18T17:54:05.492Z"
   },
   {
    "duration": 38,
    "start_time": "2023-12-18T17:54:05.505Z"
   },
   {
    "duration": 10,
    "start_time": "2023-12-18T17:54:05.544Z"
   },
   {
    "duration": 48,
    "start_time": "2023-12-18T17:54:05.556Z"
   },
   {
    "duration": 5,
    "start_time": "2023-12-18T17:54:05.605Z"
   },
   {
    "duration": 22,
    "start_time": "2023-12-18T17:54:05.611Z"
   },
   {
    "duration": 47,
    "start_time": "2023-12-18T17:54:05.635Z"
   },
   {
    "duration": 28,
    "start_time": "2023-12-18T17:54:05.684Z"
   },
   {
    "duration": 41,
    "start_time": "2023-12-18T17:54:05.714Z"
   },
   {
    "duration": 37,
    "start_time": "2023-12-18T17:54:05.756Z"
   },
   {
    "duration": 40,
    "start_time": "2023-12-18T17:54:05.795Z"
   },
   {
    "duration": 43,
    "start_time": "2023-12-18T17:54:05.837Z"
   },
   {
    "duration": 13,
    "start_time": "2023-12-18T17:54:05.882Z"
   },
   {
    "duration": 12,
    "start_time": "2023-12-18T17:54:05.897Z"
   },
   {
    "duration": 27,
    "start_time": "2023-12-18T17:54:05.913Z"
   },
   {
    "duration": 37,
    "start_time": "2023-12-18T17:54:05.941Z"
   },
   {
    "duration": 30,
    "start_time": "2023-12-18T17:54:05.980Z"
   },
   {
    "duration": 426,
    "start_time": "2023-12-18T17:54:06.012Z"
   },
   {
    "duration": 382,
    "start_time": "2023-12-18T17:54:06.440Z"
   },
   {
    "duration": 6155,
    "start_time": "2023-12-18T17:54:06.824Z"
   },
   {
    "duration": 970,
    "start_time": "2023-12-18T17:54:12.981Z"
   },
   {
    "duration": 684,
    "start_time": "2023-12-18T17:54:13.953Z"
   },
   {
    "duration": 1906,
    "start_time": "2023-12-18T17:54:14.639Z"
   },
   {
    "duration": 24,
    "start_time": "2023-12-18T17:54:16.547Z"
   },
   {
    "duration": 210,
    "start_time": "2023-12-18T17:54:16.573Z"
   },
   {
    "duration": 24,
    "start_time": "2023-12-18T17:54:16.785Z"
   },
   {
    "duration": 154,
    "start_time": "2023-12-18T17:54:16.822Z"
   },
   {
    "duration": 25,
    "start_time": "2023-12-18T17:54:16.978Z"
   },
   {
    "duration": 147,
    "start_time": "2023-12-18T17:54:17.005Z"
   },
   {
    "duration": 40,
    "start_time": "2023-12-18T17:54:17.154Z"
   },
   {
    "duration": 305,
    "start_time": "2023-12-18T17:54:17.195Z"
   },
   {
    "duration": 33,
    "start_time": "2023-12-18T17:54:17.502Z"
   },
   {
    "duration": 139,
    "start_time": "2023-12-18T17:54:17.536Z"
   },
   {
    "duration": 24,
    "start_time": "2023-12-18T17:54:17.677Z"
   },
   {
    "duration": 158,
    "start_time": "2023-12-18T17:54:17.702Z"
   },
   {
    "duration": 28,
    "start_time": "2023-12-18T17:54:17.862Z"
   },
   {
    "duration": 428,
    "start_time": "2023-12-18T17:54:17.892Z"
   },
   {
    "duration": 3,
    "start_time": "2023-12-18T17:54:18.322Z"
   },
   {
    "duration": 38,
    "start_time": "2023-12-18T17:54:18.327Z"
   },
   {
    "duration": 11,
    "start_time": "2023-12-18T17:54:18.367Z"
   },
   {
    "duration": 54,
    "start_time": "2023-12-18T17:54:18.380Z"
   },
   {
    "duration": 29,
    "start_time": "2023-12-18T17:54:18.436Z"
   },
   {
    "duration": 32,
    "start_time": "2023-12-18T17:54:18.467Z"
   },
   {
    "duration": 10,
    "start_time": "2023-12-18T17:54:18.523Z"
   },
   {
    "duration": 24,
    "start_time": "2023-12-18T17:54:18.536Z"
   },
   {
    "duration": 84,
    "start_time": "2023-12-18T17:55:07.275Z"
   },
   {
    "duration": 17,
    "start_time": "2023-12-18T17:55:39.210Z"
   },
   {
    "duration": 70,
    "start_time": "2023-12-18T17:56:03.742Z"
   },
   {
    "duration": 9,
    "start_time": "2023-12-18T17:56:16.053Z"
   },
   {
    "duration": 69,
    "start_time": "2023-12-18T18:00:25.772Z"
   },
   {
    "duration": 7,
    "start_time": "2023-12-18T18:00:38.020Z"
   },
   {
    "duration": 9,
    "start_time": "2023-12-18T18:00:58.317Z"
   },
   {
    "duration": 45,
    "start_time": "2023-12-18T18:01:02.385Z"
   },
   {
    "duration": 4197,
    "start_time": "2023-12-18T18:01:02.432Z"
   },
   {
    "duration": 221,
    "start_time": "2023-12-18T18:01:06.631Z"
   },
   {
    "duration": 24,
    "start_time": "2023-12-18T18:01:06.854Z"
   },
   {
    "duration": 12,
    "start_time": "2023-12-18T18:01:06.881Z"
   },
   {
    "duration": 6,
    "start_time": "2023-12-18T18:01:06.895Z"
   },
   {
    "duration": 79,
    "start_time": "2023-12-18T18:01:06.902Z"
   },
   {
    "duration": 5,
    "start_time": "2023-12-18T18:01:06.983Z"
   },
   {
    "duration": 24,
    "start_time": "2023-12-18T18:01:06.989Z"
   },
   {
    "duration": 6,
    "start_time": "2023-12-18T18:01:07.015Z"
   },
   {
    "duration": 11,
    "start_time": "2023-12-18T18:01:07.022Z"
   },
   {
    "duration": 19,
    "start_time": "2023-12-18T18:01:07.034Z"
   },
   {
    "duration": 11,
    "start_time": "2023-12-18T18:01:07.054Z"
   },
   {
    "duration": 24,
    "start_time": "2023-12-18T18:01:07.068Z"
   },
   {
    "duration": 10,
    "start_time": "2023-12-18T18:01:07.093Z"
   },
   {
    "duration": 67,
    "start_time": "2023-12-18T18:01:07.105Z"
   },
   {
    "duration": 6,
    "start_time": "2023-12-18T18:01:07.174Z"
   },
   {
    "duration": 18,
    "start_time": "2023-12-18T18:01:07.182Z"
   },
   {
    "duration": 17,
    "start_time": "2023-12-18T18:01:07.203Z"
   },
   {
    "duration": 25,
    "start_time": "2023-12-18T18:01:07.222Z"
   },
   {
    "duration": 26,
    "start_time": "2023-12-18T18:01:07.249Z"
   },
   {
    "duration": 29,
    "start_time": "2023-12-18T18:01:07.276Z"
   },
   {
    "duration": 19,
    "start_time": "2023-12-18T18:01:07.307Z"
   },
   {
    "duration": 36,
    "start_time": "2023-12-18T18:01:07.327Z"
   },
   {
    "duration": 13,
    "start_time": "2023-12-18T18:01:07.365Z"
   },
   {
    "duration": 24,
    "start_time": "2023-12-18T18:01:07.380Z"
   },
   {
    "duration": 19,
    "start_time": "2023-12-18T18:01:07.406Z"
   },
   {
    "duration": 14,
    "start_time": "2023-12-18T18:01:07.427Z"
   },
   {
    "duration": 43,
    "start_time": "2023-12-18T18:01:07.442Z"
   },
   {
    "duration": 400,
    "start_time": "2023-12-18T18:01:07.487Z"
   },
   {
    "duration": 382,
    "start_time": "2023-12-18T18:01:07.889Z"
   },
   {
    "duration": 6157,
    "start_time": "2023-12-18T18:01:08.273Z"
   },
   {
    "duration": 949,
    "start_time": "2023-12-18T18:01:14.432Z"
   },
   {
    "duration": 52,
    "start_time": "2023-12-18T20:05:45.375Z"
   },
   {
    "duration": 43,
    "start_time": "2023-12-18T20:05:48.655Z"
   },
   {
    "duration": 5038,
    "start_time": "2023-12-18T20:05:48.700Z"
   },
   {
    "duration": 193,
    "start_time": "2023-12-18T20:05:53.741Z"
   },
   {
    "duration": 21,
    "start_time": "2023-12-18T20:05:53.936Z"
   },
   {
    "duration": 16,
    "start_time": "2023-12-18T20:05:53.959Z"
   },
   {
    "duration": 9,
    "start_time": "2023-12-18T20:05:53.976Z"
   },
   {
    "duration": 84,
    "start_time": "2023-12-18T20:05:53.987Z"
   },
   {
    "duration": 5,
    "start_time": "2023-12-18T20:05:54.073Z"
   },
   {
    "duration": 24,
    "start_time": "2023-12-18T20:05:54.080Z"
   },
   {
    "duration": 13,
    "start_time": "2023-12-18T20:05:54.107Z"
   },
   {
    "duration": 13,
    "start_time": "2023-12-18T20:05:54.122Z"
   },
   {
    "duration": 19,
    "start_time": "2023-12-18T20:05:54.137Z"
   },
   {
    "duration": 22,
    "start_time": "2023-12-18T20:05:54.157Z"
   },
   {
    "duration": 22,
    "start_time": "2023-12-18T20:05:54.180Z"
   },
   {
    "duration": 15,
    "start_time": "2023-12-18T20:05:54.204Z"
   },
   {
    "duration": 38,
    "start_time": "2023-12-18T20:05:54.221Z"
   },
   {
    "duration": 25,
    "start_time": "2023-12-18T20:05:54.260Z"
   },
   {
    "duration": 19,
    "start_time": "2023-12-18T20:05:54.287Z"
   },
   {
    "duration": 31,
    "start_time": "2023-12-18T20:05:54.308Z"
   },
   {
    "duration": 11,
    "start_time": "2023-12-18T20:05:54.341Z"
   },
   {
    "duration": 17,
    "start_time": "2023-12-18T20:05:54.353Z"
   },
   {
    "duration": 30,
    "start_time": "2023-12-18T20:05:54.372Z"
   },
   {
    "duration": 19,
    "start_time": "2023-12-18T20:05:54.404Z"
   },
   {
    "duration": 35,
    "start_time": "2023-12-18T20:05:54.425Z"
   },
   {
    "duration": 19,
    "start_time": "2023-12-18T20:05:54.461Z"
   },
   {
    "duration": 23,
    "start_time": "2023-12-18T20:05:54.482Z"
   },
   {
    "duration": 16,
    "start_time": "2023-12-18T20:05:54.507Z"
   },
   {
    "duration": 12,
    "start_time": "2023-12-18T20:05:54.526Z"
   },
   {
    "duration": 17,
    "start_time": "2023-12-18T20:05:54.540Z"
   },
   {
    "duration": 368,
    "start_time": "2023-12-18T20:05:54.566Z"
   },
   {
    "duration": 368,
    "start_time": "2023-12-18T20:05:54.935Z"
   },
   {
    "duration": 5690,
    "start_time": "2023-12-18T20:05:55.305Z"
   },
   {
    "duration": 893,
    "start_time": "2023-12-18T20:06:00.997Z"
   },
   {
    "duration": 600,
    "start_time": "2023-12-18T20:06:01.892Z"
   },
   {
    "duration": 1725,
    "start_time": "2023-12-18T20:06:02.494Z"
   },
   {
    "duration": 20,
    "start_time": "2023-12-18T20:06:04.221Z"
   },
   {
    "duration": 182,
    "start_time": "2023-12-18T20:06:04.243Z"
   },
   {
    "duration": 19,
    "start_time": "2023-12-18T20:06:04.427Z"
   },
   {
    "duration": 167,
    "start_time": "2023-12-18T20:06:04.448Z"
   },
   {
    "duration": 23,
    "start_time": "2023-12-18T20:06:04.616Z"
   },
   {
    "duration": 145,
    "start_time": "2023-12-18T20:06:04.641Z"
   },
   {
    "duration": 34,
    "start_time": "2023-12-18T20:06:04.788Z"
   },
   {
    "duration": 260,
    "start_time": "2023-12-18T20:06:04.824Z"
   },
   {
    "duration": 21,
    "start_time": "2023-12-18T20:06:05.086Z"
   },
   {
    "duration": 126,
    "start_time": "2023-12-18T20:06:05.109Z"
   },
   {
    "duration": 34,
    "start_time": "2023-12-18T20:06:05.236Z"
   },
   {
    "duration": 133,
    "start_time": "2023-12-18T20:06:05.272Z"
   },
   {
    "duration": 26,
    "start_time": "2023-12-18T20:06:05.406Z"
   },
   {
    "duration": 426,
    "start_time": "2023-12-18T20:06:05.434Z"
   },
   {
    "duration": 5,
    "start_time": "2023-12-18T20:06:05.862Z"
   },
   {
    "duration": 78,
    "start_time": "2023-12-18T20:06:05.869Z"
   },
   {
    "duration": 34,
    "start_time": "2023-12-18T20:06:05.948Z"
   },
   {
    "duration": 67,
    "start_time": "2023-12-18T20:06:05.984Z"
   },
   {
    "duration": 44,
    "start_time": "2023-12-18T20:06:06.053Z"
   },
   {
    "duration": 45,
    "start_time": "2023-12-18T20:06:06.099Z"
   },
   {
    "duration": 60,
    "start_time": "2023-12-18T20:06:06.146Z"
   },
   {
    "duration": 64,
    "start_time": "2023-12-18T20:06:06.208Z"
   },
   {
    "duration": 491,
    "start_time": "2023-12-18T20:06:45.421Z"
   },
   {
    "duration": 1291,
    "start_time": "2023-12-18T20:06:49.013Z"
   },
   {
    "duration": 44,
    "start_time": "2023-12-18T22:54:01.157Z"
   },
   {
    "duration": 24,
    "start_time": "2023-12-18T22:54:04.270Z"
   },
   {
    "duration": 4357,
    "start_time": "2023-12-18T22:54:04.295Z"
   },
   {
    "duration": 103,
    "start_time": "2023-12-18T22:54:08.653Z"
   },
   {
    "duration": 22,
    "start_time": "2023-12-18T22:54:08.757Z"
   },
   {
    "duration": 11,
    "start_time": "2023-12-18T22:54:08.780Z"
   },
   {
    "duration": 8,
    "start_time": "2023-12-18T22:54:08.793Z"
   },
   {
    "duration": 63,
    "start_time": "2023-12-18T22:54:08.804Z"
   },
   {
    "duration": 4,
    "start_time": "2023-12-18T22:54:08.868Z"
   },
   {
    "duration": 8,
    "start_time": "2023-12-18T22:54:08.873Z"
   },
   {
    "duration": 2,
    "start_time": "2023-12-18T22:54:08.883Z"
   },
   {
    "duration": 2,
    "start_time": "2023-12-18T22:54:08.898Z"
   },
   {
    "duration": 11,
    "start_time": "2023-12-18T22:54:08.901Z"
   },
   {
    "duration": 1,
    "start_time": "2023-12-18T22:54:08.914Z"
   },
   {
    "duration": 17,
    "start_time": "2023-12-18T22:54:08.916Z"
   },
   {
    "duration": 8,
    "start_time": "2023-12-18T22:54:08.934Z"
   },
   {
    "duration": 19,
    "start_time": "2023-12-18T22:54:08.943Z"
   },
   {
    "duration": 4,
    "start_time": "2023-12-18T22:54:08.963Z"
   },
   {
    "duration": 3,
    "start_time": "2023-12-18T22:54:08.999Z"
   },
   {
    "duration": 13,
    "start_time": "2023-12-18T22:54:09.003Z"
   },
   {
    "duration": 6,
    "start_time": "2023-12-18T22:54:09.017Z"
   },
   {
    "duration": 12,
    "start_time": "2023-12-18T22:54:09.025Z"
   },
   {
    "duration": 17,
    "start_time": "2023-12-18T22:54:09.039Z"
   },
   {
    "duration": 15,
    "start_time": "2023-12-18T22:54:09.057Z"
   },
   {
    "duration": 48,
    "start_time": "2023-12-18T22:54:09.073Z"
   },
   {
    "duration": 10,
    "start_time": "2023-12-18T22:54:09.123Z"
   },
   {
    "duration": 4,
    "start_time": "2023-12-18T22:54:09.135Z"
   },
   {
    "duration": 9,
    "start_time": "2023-12-18T22:54:09.140Z"
   },
   {
    "duration": 13,
    "start_time": "2023-12-18T22:54:09.152Z"
   },
   {
    "duration": 50,
    "start_time": "2023-12-18T22:54:09.166Z"
   },
   {
    "duration": 329,
    "start_time": "2023-12-18T22:54:09.218Z"
   },
   {
    "duration": 313,
    "start_time": "2023-12-18T22:54:09.549Z"
   },
   {
    "duration": 4922,
    "start_time": "2023-12-18T22:54:09.864Z"
   },
   {
    "duration": 827,
    "start_time": "2023-12-18T22:54:14.788Z"
   },
   {
    "duration": 382,
    "start_time": "2023-12-18T22:54:15.616Z"
   },
   {
    "duration": 1253,
    "start_time": "2023-12-18T22:54:16.000Z"
   },
   {
    "duration": 20,
    "start_time": "2023-12-18T22:54:17.255Z"
   },
   {
    "duration": 147,
    "start_time": "2023-12-18T22:54:17.276Z"
   },
   {
    "duration": 17,
    "start_time": "2023-12-18T22:54:17.424Z"
   },
   {
    "duration": 128,
    "start_time": "2023-12-18T22:54:17.443Z"
   },
   {
    "duration": 27,
    "start_time": "2023-12-18T22:54:17.573Z"
   },
   {
    "duration": 117,
    "start_time": "2023-12-18T22:54:17.602Z"
   },
   {
    "duration": 32,
    "start_time": "2023-12-18T22:54:17.720Z"
   },
   {
    "duration": 230,
    "start_time": "2023-12-18T22:54:17.754Z"
   },
   {
    "duration": 22,
    "start_time": "2023-12-18T22:54:17.985Z"
   },
   {
    "duration": 108,
    "start_time": "2023-12-18T22:54:18.008Z"
   },
   {
    "duration": 20,
    "start_time": "2023-12-18T22:54:18.118Z"
   },
   {
    "duration": 120,
    "start_time": "2023-12-18T22:54:18.139Z"
   },
   {
    "duration": 25,
    "start_time": "2023-12-18T22:54:18.260Z"
   },
   {
    "duration": 348,
    "start_time": "2023-12-18T22:54:18.299Z"
   },
   {
    "duration": 2,
    "start_time": "2023-12-18T22:54:18.648Z"
   },
   {
    "duration": 29,
    "start_time": "2023-12-18T22:54:18.651Z"
   },
   {
    "duration": 20,
    "start_time": "2023-12-18T22:54:18.681Z"
   },
   {
    "duration": 24,
    "start_time": "2023-12-18T22:54:18.702Z"
   },
   {
    "duration": 22,
    "start_time": "2023-12-18T22:54:18.728Z"
   },
   {
    "duration": 47,
    "start_time": "2023-12-18T22:54:18.752Z"
   },
   {
    "duration": 10,
    "start_time": "2023-12-18T22:54:18.801Z"
   },
   {
    "duration": 28,
    "start_time": "2023-12-18T22:54:18.813Z"
   },
   {
    "duration": 203,
    "start_time": "2023-12-18T22:54:18.842Z"
   }
  ],
  "kernelspec": {
   "display_name": "Python 3 (ipykernel)",
   "language": "python",
   "name": "python3"
  },
  "language_info": {
   "codemirror_mode": {
    "name": "ipython",
    "version": 3
   },
   "file_extension": ".py",
   "mimetype": "text/x-python",
   "name": "python",
   "nbconvert_exporter": "python",
   "pygments_lexer": "ipython3",
   "version": "3.11.5"
  },
  "toc": {
   "base_numbering": 1,
   "nav_menu": {},
   "number_sections": true,
   "sideBar": true,
   "skip_h1_title": true,
   "title_cell": "Table of Contents",
   "title_sidebar": "Contents",
   "toc_cell": false,
   "toc_position": {
    "height": "calc(100% - 180px)",
    "left": "10px",
    "top": "150px",
    "width": "165px"
   },
   "toc_section_display": true,
   "toc_window_display": true
  }
 },
 "nbformat": 4,
 "nbformat_minor": 5
}
