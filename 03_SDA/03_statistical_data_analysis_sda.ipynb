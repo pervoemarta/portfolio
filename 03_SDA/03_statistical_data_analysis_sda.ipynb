{
 "cells": [
  {
   "cell_type": "markdown",
   "id": "2c79a649",
   "metadata": {},
   "source": [
    "# Statistical data analysis"
   ]
  },
  {
   "cell_type": "markdown",
   "id": "b81ca515",
   "metadata": {},
   "source": [
    "This project is carried out to analyse the popular scooter rental service GoFast. Having data about some users from several cities and their rides, let's analyse them and test some hypotheses that can help the business grow."
   ]
  },
  {
   "cell_type": "code",
   "execution_count": 1,
   "id": "72576667",
   "metadata": {},
   "outputs": [],
   "source": [
    "import pandas as pd\n",
    "import matplotlib.pyplot as plt\n",
    "import seaborn as sns\n",
    "import numpy as np\n",
    "import scipy.stats as st\n",
    "from math import factorial"
   ]
  },
  {
   "cell_type": "code",
   "execution_count": 43,
   "id": "c2f0766a",
   "metadata": {},
   "outputs": [
    {
     "data": {
      "text/html": [
       "<style>.container { width:80%; align: left; }</style>"
      ],
      "text/plain": [
       "<IPython.core.display.HTML object>"
      ]
     },
     "metadata": {},
     "output_type": "display_data"
    },
    {
     "data": {
      "text/html": [
       "<style>#toc-wrapper{ position: relative; width: 20%; top: 130px; left: 0px; }</style>"
      ],
      "text/plain": [
       "<IPython.core.display.HTML object>"
      ]
     },
     "metadata": {},
     "output_type": "display_data"
    }
   ],
   "source": [
    "# widening display and returning full TOC\n",
    "from IPython.display import display, HTML\n",
    "display(HTML(\"<style>.container { width:80%; align: left; }</style>\"))\n",
    "display(HTML(\"<style>#toc-wrapper{ position: relative; width: 20%; top: 130px; left: 0px; }</style>\"))"
   ]
  },
  {
   "cell_type": "markdown",
   "id": "c42cbe00",
   "metadata": {},
   "source": [
    "#### Data loading"
   ]
  },
  {
   "cell_type": "markdown",
   "id": "2f5ac0af",
   "metadata": {},
   "source": [
    "Let's open the files and display descriptive information to understand what we are working with, what data the files store:"
   ]
  },
  {
   "cell_type": "markdown",
   "id": "af6c110a",
   "metadata": {},
   "source": [
    "##### Users:"
   ]
  },
  {
   "cell_type": "code",
   "execution_count": 2,
   "id": "556ced69",
   "metadata": {},
   "outputs": [
    {
     "data": {
      "text/html": [
       "<div>\n",
       "<style scoped>\n",
       "    .dataframe tbody tr th:only-of-type {\n",
       "        vertical-align: middle;\n",
       "    }\n",
       "\n",
       "    .dataframe tbody tr th {\n",
       "        vertical-align: top;\n",
       "    }\n",
       "\n",
       "    .dataframe thead th {\n",
       "        text-align: right;\n",
       "    }\n",
       "</style>\n",
       "<table border=\"1\" class=\"dataframe\">\n",
       "  <thead>\n",
       "    <tr style=\"text-align: right;\">\n",
       "      <th></th>\n",
       "      <th>user_id</th>\n",
       "      <th>name</th>\n",
       "      <th>age</th>\n",
       "      <th>city</th>\n",
       "      <th>subscription_type</th>\n",
       "    </tr>\n",
       "  </thead>\n",
       "  <tbody>\n",
       "    <tr>\n",
       "      <th>0</th>\n",
       "      <td>1</td>\n",
       "      <td>Кира</td>\n",
       "      <td>22</td>\n",
       "      <td>Тюмень</td>\n",
       "      <td>ultra</td>\n",
       "    </tr>\n",
       "    <tr>\n",
       "      <th>1</th>\n",
       "      <td>2</td>\n",
       "      <td>Станислав</td>\n",
       "      <td>31</td>\n",
       "      <td>Омск</td>\n",
       "      <td>ultra</td>\n",
       "    </tr>\n",
       "    <tr>\n",
       "      <th>2</th>\n",
       "      <td>3</td>\n",
       "      <td>Алексей</td>\n",
       "      <td>20</td>\n",
       "      <td>Москва</td>\n",
       "      <td>ultra</td>\n",
       "    </tr>\n",
       "    <tr>\n",
       "      <th>3</th>\n",
       "      <td>4</td>\n",
       "      <td>Константин</td>\n",
       "      <td>26</td>\n",
       "      <td>Ростов-на-Дону</td>\n",
       "      <td>ultra</td>\n",
       "    </tr>\n",
       "    <tr>\n",
       "      <th>4</th>\n",
       "      <td>5</td>\n",
       "      <td>Адель</td>\n",
       "      <td>28</td>\n",
       "      <td>Омск</td>\n",
       "      <td>ultra</td>\n",
       "    </tr>\n",
       "  </tbody>\n",
       "</table>\n",
       "</div>"
      ],
      "text/plain": [
       "   user_id        name  age            city subscription_type\n",
       "0        1        Кира   22          Тюмень             ultra\n",
       "1        2   Станислав   31            Омск             ultra\n",
       "2        3     Алексей   20          Москва             ultra\n",
       "3        4  Константин   26  Ростов-на-Дону             ultra\n",
       "4        5       Адель   28            Омск             ultra"
      ]
     },
     "execution_count": 2,
     "metadata": {},
     "output_type": "execute_result"
    }
   ],
   "source": [
    "users = pd.read_csv('https://code.s3.yandex.net/datasets/users_go.csv')\n",
    "users.head()"
   ]
  },
  {
   "cell_type": "code",
   "execution_count": 3,
   "id": "bd2c10f1",
   "metadata": {
    "scrolled": true
   },
   "outputs": [
    {
     "name": "stdout",
     "output_type": "stream",
     "text": [
      "<class 'pandas.core.frame.DataFrame'>\n",
      "RangeIndex: 1565 entries, 0 to 1564\n",
      "Data columns (total 5 columns):\n",
      " #   Column             Non-Null Count  Dtype \n",
      "---  ------             --------------  ----- \n",
      " 0   user_id            1565 non-null   int64 \n",
      " 1   name               1565 non-null   object\n",
      " 2   age                1565 non-null   int64 \n",
      " 3   city               1565 non-null   object\n",
      " 4   subscription_type  1565 non-null   object\n",
      "dtypes: int64(2), object(3)\n",
      "memory usage: 61.3+ KB\n"
     ]
    }
   ],
   "source": [
    "users.info()"
   ]
  },
  {
   "cell_type": "code",
   "execution_count": 4,
   "id": "28fcd761",
   "metadata": {
    "scrolled": true
   },
   "outputs": [
    {
     "data": {
      "text/html": [
       "<div>\n",
       "<style scoped>\n",
       "    .dataframe tbody tr th:only-of-type {\n",
       "        vertical-align: middle;\n",
       "    }\n",
       "\n",
       "    .dataframe tbody tr th {\n",
       "        vertical-align: top;\n",
       "    }\n",
       "\n",
       "    .dataframe thead th {\n",
       "        text-align: right;\n",
       "    }\n",
       "</style>\n",
       "<table border=\"1\" class=\"dataframe\">\n",
       "  <thead>\n",
       "    <tr style=\"text-align: right;\">\n",
       "      <th></th>\n",
       "      <th>user_id</th>\n",
       "      <th>age</th>\n",
       "    </tr>\n",
       "  </thead>\n",
       "  <tbody>\n",
       "    <tr>\n",
       "      <th>count</th>\n",
       "      <td>1565.000000</td>\n",
       "      <td>1565.000000</td>\n",
       "    </tr>\n",
       "    <tr>\n",
       "      <th>mean</th>\n",
       "      <td>762.633866</td>\n",
       "      <td>24.922045</td>\n",
       "    </tr>\n",
       "    <tr>\n",
       "      <th>std</th>\n",
       "      <td>443.260155</td>\n",
       "      <td>4.553496</td>\n",
       "    </tr>\n",
       "    <tr>\n",
       "      <th>min</th>\n",
       "      <td>1.000000</td>\n",
       "      <td>12.000000</td>\n",
       "    </tr>\n",
       "    <tr>\n",
       "      <th>25%</th>\n",
       "      <td>378.000000</td>\n",
       "      <td>22.000000</td>\n",
       "    </tr>\n",
       "    <tr>\n",
       "      <th>50%</th>\n",
       "      <td>762.000000</td>\n",
       "      <td>25.000000</td>\n",
       "    </tr>\n",
       "    <tr>\n",
       "      <th>75%</th>\n",
       "      <td>1146.000000</td>\n",
       "      <td>28.000000</td>\n",
       "    </tr>\n",
       "    <tr>\n",
       "      <th>max</th>\n",
       "      <td>1534.000000</td>\n",
       "      <td>43.000000</td>\n",
       "    </tr>\n",
       "  </tbody>\n",
       "</table>\n",
       "</div>"
      ],
      "text/plain": [
       "           user_id          age\n",
       "count  1565.000000  1565.000000\n",
       "mean    762.633866    24.922045\n",
       "std     443.260155     4.553496\n",
       "min       1.000000    12.000000\n",
       "25%     378.000000    22.000000\n",
       "50%     762.000000    25.000000\n",
       "75%    1146.000000    28.000000\n",
       "max    1534.000000    43.000000"
      ]
     },
     "execution_count": 4,
     "metadata": {},
     "output_type": "execute_result"
    }
   ],
   "source": [
    "users.describe()"
   ]
  },
  {
   "cell_type": "markdown",
   "id": "aec654ac",
   "metadata": {},
   "source": [
    "We see information about 1565 users: name, age, city, subscription type. The data is clean, the data types match."
   ]
  },
  {
   "cell_type": "markdown",
   "id": "723b2ad0",
   "metadata": {},
   "source": [
    "##### Trips:"
   ]
  },
  {
   "cell_type": "code",
   "execution_count": 5,
   "id": "0b8a7df7",
   "metadata": {
    "scrolled": false
   },
   "outputs": [
    {
     "data": {
      "text/html": [
       "<div>\n",
       "<style scoped>\n",
       "    .dataframe tbody tr th:only-of-type {\n",
       "        vertical-align: middle;\n",
       "    }\n",
       "\n",
       "    .dataframe tbody tr th {\n",
       "        vertical-align: top;\n",
       "    }\n",
       "\n",
       "    .dataframe thead th {\n",
       "        text-align: right;\n",
       "    }\n",
       "</style>\n",
       "<table border=\"1\" class=\"dataframe\">\n",
       "  <thead>\n",
       "    <tr style=\"text-align: right;\">\n",
       "      <th></th>\n",
       "      <th>user_id</th>\n",
       "      <th>distance</th>\n",
       "      <th>duration</th>\n",
       "      <th>date</th>\n",
       "    </tr>\n",
       "  </thead>\n",
       "  <tbody>\n",
       "    <tr>\n",
       "      <th>0</th>\n",
       "      <td>1</td>\n",
       "      <td>4409.919140</td>\n",
       "      <td>25.599769</td>\n",
       "      <td>2021-01-01</td>\n",
       "    </tr>\n",
       "    <tr>\n",
       "      <th>1</th>\n",
       "      <td>1</td>\n",
       "      <td>2617.592153</td>\n",
       "      <td>15.816871</td>\n",
       "      <td>2021-01-18</td>\n",
       "    </tr>\n",
       "    <tr>\n",
       "      <th>2</th>\n",
       "      <td>1</td>\n",
       "      <td>754.159807</td>\n",
       "      <td>6.232113</td>\n",
       "      <td>2021-04-20</td>\n",
       "    </tr>\n",
       "    <tr>\n",
       "      <th>3</th>\n",
       "      <td>1</td>\n",
       "      <td>2694.783254</td>\n",
       "      <td>18.511000</td>\n",
       "      <td>2021-08-11</td>\n",
       "    </tr>\n",
       "    <tr>\n",
       "      <th>4</th>\n",
       "      <td>1</td>\n",
       "      <td>4028.687306</td>\n",
       "      <td>26.265803</td>\n",
       "      <td>2021-08-28</td>\n",
       "    </tr>\n",
       "  </tbody>\n",
       "</table>\n",
       "</div>"
      ],
      "text/plain": [
       "   user_id     distance   duration        date\n",
       "0        1  4409.919140  25.599769  2021-01-01\n",
       "1        1  2617.592153  15.816871  2021-01-18\n",
       "2        1   754.159807   6.232113  2021-04-20\n",
       "3        1  2694.783254  18.511000  2021-08-11\n",
       "4        1  4028.687306  26.265803  2021-08-28"
      ]
     },
     "execution_count": 5,
     "metadata": {},
     "output_type": "execute_result"
    }
   ],
   "source": [
    "rides = pd.read_csv('https://code.s3.yandex.net/datasets/rides_go.csv')\n",
    "rides.head()"
   ]
  },
  {
   "cell_type": "code",
   "execution_count": 6,
   "id": "18db8015",
   "metadata": {},
   "outputs": [
    {
     "name": "stdout",
     "output_type": "stream",
     "text": [
      "<class 'pandas.core.frame.DataFrame'>\n",
      "RangeIndex: 18068 entries, 0 to 18067\n",
      "Data columns (total 4 columns):\n",
      " #   Column    Non-Null Count  Dtype  \n",
      "---  ------    --------------  -----  \n",
      " 0   user_id   18068 non-null  int64  \n",
      " 1   distance  18068 non-null  float64\n",
      " 2   duration  18068 non-null  float64\n",
      " 3   date      18068 non-null  object \n",
      "dtypes: float64(2), int64(1), object(1)\n",
      "memory usage: 564.8+ KB\n"
     ]
    }
   ],
   "source": [
    "rides.info()"
   ]
  },
  {
   "cell_type": "code",
   "execution_count": 7,
   "id": "fe8861c9",
   "metadata": {},
   "outputs": [
    {
     "data": {
      "text/html": [
       "<div>\n",
       "<style scoped>\n",
       "    .dataframe tbody tr th:only-of-type {\n",
       "        vertical-align: middle;\n",
       "    }\n",
       "\n",
       "    .dataframe tbody tr th {\n",
       "        vertical-align: top;\n",
       "    }\n",
       "\n",
       "    .dataframe thead th {\n",
       "        text-align: right;\n",
       "    }\n",
       "</style>\n",
       "<table border=\"1\" class=\"dataframe\">\n",
       "  <thead>\n",
       "    <tr style=\"text-align: right;\">\n",
       "      <th></th>\n",
       "      <th>user_id</th>\n",
       "      <th>distance</th>\n",
       "      <th>duration</th>\n",
       "    </tr>\n",
       "  </thead>\n",
       "  <tbody>\n",
       "    <tr>\n",
       "      <th>count</th>\n",
       "      <td>18068.000000</td>\n",
       "      <td>18068.000000</td>\n",
       "      <td>18068.000000</td>\n",
       "    </tr>\n",
       "    <tr>\n",
       "      <th>mean</th>\n",
       "      <td>842.869936</td>\n",
       "      <td>3070.659976</td>\n",
       "      <td>17.805011</td>\n",
       "    </tr>\n",
       "    <tr>\n",
       "      <th>std</th>\n",
       "      <td>434.734317</td>\n",
       "      <td>1116.831209</td>\n",
       "      <td>6.091051</td>\n",
       "    </tr>\n",
       "    <tr>\n",
       "      <th>min</th>\n",
       "      <td>1.000000</td>\n",
       "      <td>0.855683</td>\n",
       "      <td>0.500000</td>\n",
       "    </tr>\n",
       "    <tr>\n",
       "      <th>25%</th>\n",
       "      <td>487.000000</td>\n",
       "      <td>2543.226360</td>\n",
       "      <td>13.597563</td>\n",
       "    </tr>\n",
       "    <tr>\n",
       "      <th>50%</th>\n",
       "      <td>889.000000</td>\n",
       "      <td>3133.609994</td>\n",
       "      <td>17.678395</td>\n",
       "    </tr>\n",
       "    <tr>\n",
       "      <th>75%</th>\n",
       "      <td>1213.250000</td>\n",
       "      <td>3776.222735</td>\n",
       "      <td>21.724800</td>\n",
       "    </tr>\n",
       "    <tr>\n",
       "      <th>max</th>\n",
       "      <td>1534.000000</td>\n",
       "      <td>7211.007745</td>\n",
       "      <td>40.823963</td>\n",
       "    </tr>\n",
       "  </tbody>\n",
       "</table>\n",
       "</div>"
      ],
      "text/plain": [
       "            user_id      distance      duration\n",
       "count  18068.000000  18068.000000  18068.000000\n",
       "mean     842.869936   3070.659976     17.805011\n",
       "std      434.734317   1116.831209      6.091051\n",
       "min        1.000000      0.855683      0.500000\n",
       "25%      487.000000   2543.226360     13.597563\n",
       "50%      889.000000   3133.609994     17.678395\n",
       "75%     1213.250000   3776.222735     21.724800\n",
       "max     1534.000000   7211.007745     40.823963"
      ]
     },
     "execution_count": 7,
     "metadata": {},
     "output_type": "execute_result"
    }
   ],
   "source": [
    "rides.describe()"
   ]
  },
  {
   "cell_type": "markdown",
   "id": "3300c253",
   "metadata": {},
   "source": [
    "The file contains information about rides: distance, duration, date. It is worth changing the data type for date. Otherwise, the data is good."
   ]
  },
  {
   "cell_type": "markdown",
   "id": "b49e81cf",
   "metadata": {},
   "source": [
    "##### Subscriptions:"
   ]
  },
  {
   "cell_type": "code",
   "execution_count": 8,
   "id": "e3e1a222",
   "metadata": {},
   "outputs": [
    {
     "data": {
      "text/html": [
       "<div>\n",
       "<style scoped>\n",
       "    .dataframe tbody tr th:only-of-type {\n",
       "        vertical-align: middle;\n",
       "    }\n",
       "\n",
       "    .dataframe tbody tr th {\n",
       "        vertical-align: top;\n",
       "    }\n",
       "\n",
       "    .dataframe thead th {\n",
       "        text-align: right;\n",
       "    }\n",
       "</style>\n",
       "<table border=\"1\" class=\"dataframe\">\n",
       "  <thead>\n",
       "    <tr style=\"text-align: right;\">\n",
       "      <th></th>\n",
       "      <th>subscription_type</th>\n",
       "      <th>minute_price</th>\n",
       "      <th>start_ride_price</th>\n",
       "      <th>subscription_fee</th>\n",
       "    </tr>\n",
       "  </thead>\n",
       "  <tbody>\n",
       "    <tr>\n",
       "      <th>0</th>\n",
       "      <td>free</td>\n",
       "      <td>8</td>\n",
       "      <td>50</td>\n",
       "      <td>0</td>\n",
       "    </tr>\n",
       "    <tr>\n",
       "      <th>1</th>\n",
       "      <td>ultra</td>\n",
       "      <td>6</td>\n",
       "      <td>0</td>\n",
       "      <td>199</td>\n",
       "    </tr>\n",
       "  </tbody>\n",
       "</table>\n",
       "</div>"
      ],
      "text/plain": [
       "  subscription_type  minute_price  start_ride_price  subscription_fee\n",
       "0              free             8                50                 0\n",
       "1             ultra             6                 0               199"
      ]
     },
     "execution_count": 8,
     "metadata": {},
     "output_type": "execute_result"
    }
   ],
   "source": [
    "subscriptions = pd.read_csv('https://code.s3.yandex.net/datasets/subscriptions_go.csv')\n",
    "subscriptions.head()"
   ]
  },
  {
   "cell_type": "code",
   "execution_count": 9,
   "id": "e25c363c",
   "metadata": {},
   "outputs": [
    {
     "name": "stdout",
     "output_type": "stream",
     "text": [
      "<class 'pandas.core.frame.DataFrame'>\n",
      "RangeIndex: 2 entries, 0 to 1\n",
      "Data columns (total 4 columns):\n",
      " #   Column             Non-Null Count  Dtype \n",
      "---  ------             --------------  ----- \n",
      " 0   subscription_type  2 non-null      object\n",
      " 1   minute_price       2 non-null      int64 \n",
      " 2   start_ride_price   2 non-null      int64 \n",
      " 3   subscription_fee   2 non-null      int64 \n",
      "dtypes: int64(3), object(1)\n",
      "memory usage: 196.0+ bytes\n"
     ]
    }
   ],
   "source": [
    "subscriptions.info()"
   ]
  },
  {
   "cell_type": "code",
   "execution_count": 10,
   "id": "2098d0c9",
   "metadata": {},
   "outputs": [
    {
     "data": {
      "text/html": [
       "<div>\n",
       "<style scoped>\n",
       "    .dataframe tbody tr th:only-of-type {\n",
       "        vertical-align: middle;\n",
       "    }\n",
       "\n",
       "    .dataframe tbody tr th {\n",
       "        vertical-align: top;\n",
       "    }\n",
       "\n",
       "    .dataframe thead th {\n",
       "        text-align: right;\n",
       "    }\n",
       "</style>\n",
       "<table border=\"1\" class=\"dataframe\">\n",
       "  <thead>\n",
       "    <tr style=\"text-align: right;\">\n",
       "      <th></th>\n",
       "      <th>minute_price</th>\n",
       "      <th>start_ride_price</th>\n",
       "      <th>subscription_fee</th>\n",
       "    </tr>\n",
       "  </thead>\n",
       "  <tbody>\n",
       "    <tr>\n",
       "      <th>count</th>\n",
       "      <td>2.000000</td>\n",
       "      <td>2.000000</td>\n",
       "      <td>2.000000</td>\n",
       "    </tr>\n",
       "    <tr>\n",
       "      <th>mean</th>\n",
       "      <td>7.000000</td>\n",
       "      <td>25.000000</td>\n",
       "      <td>99.500000</td>\n",
       "    </tr>\n",
       "    <tr>\n",
       "      <th>std</th>\n",
       "      <td>1.414214</td>\n",
       "      <td>35.355339</td>\n",
       "      <td>140.714249</td>\n",
       "    </tr>\n",
       "    <tr>\n",
       "      <th>min</th>\n",
       "      <td>6.000000</td>\n",
       "      <td>0.000000</td>\n",
       "      <td>0.000000</td>\n",
       "    </tr>\n",
       "    <tr>\n",
       "      <th>25%</th>\n",
       "      <td>6.500000</td>\n",
       "      <td>12.500000</td>\n",
       "      <td>49.750000</td>\n",
       "    </tr>\n",
       "    <tr>\n",
       "      <th>50%</th>\n",
       "      <td>7.000000</td>\n",
       "      <td>25.000000</td>\n",
       "      <td>99.500000</td>\n",
       "    </tr>\n",
       "    <tr>\n",
       "      <th>75%</th>\n",
       "      <td>7.500000</td>\n",
       "      <td>37.500000</td>\n",
       "      <td>149.250000</td>\n",
       "    </tr>\n",
       "    <tr>\n",
       "      <th>max</th>\n",
       "      <td>8.000000</td>\n",
       "      <td>50.000000</td>\n",
       "      <td>199.000000</td>\n",
       "    </tr>\n",
       "  </tbody>\n",
       "</table>\n",
       "</div>"
      ],
      "text/plain": [
       "       minute_price  start_ride_price  subscription_fee\n",
       "count      2.000000          2.000000          2.000000\n",
       "mean       7.000000         25.000000         99.500000\n",
       "std        1.414214         35.355339        140.714249\n",
       "min        6.000000          0.000000          0.000000\n",
       "25%        6.500000         12.500000         49.750000\n",
       "50%        7.000000         25.000000         99.500000\n",
       "75%        7.500000         37.500000        149.250000\n",
       "max        8.000000         50.000000        199.000000"
      ]
     },
     "execution_count": 10,
     "metadata": {},
     "output_type": "execute_result"
    }
   ],
   "source": [
    "subscriptions.describe()"
   ]
  },
  {
   "cell_type": "markdown",
   "id": "2d4258b3",
   "metadata": {},
   "source": [
    "Pricing information on two types of subscriptions. The data has no need to be adjusted."
   ]
  },
  {
   "cell_type": "markdown",
   "id": "fef68492",
   "metadata": {},
   "source": [
    "**Summary:**\n",
    "\n",
    "We checked the data, checked its scope, found errors, data to adjust."
   ]
  },
  {
   "cell_type": "markdown",
   "id": "e95ebca7",
   "metadata": {},
   "source": [
    "#### Pre-processing"
   ]
  },
  {
   "cell_type": "markdown",
   "id": "a27bb3d3",
   "metadata": {},
   "source": [
    "##### Let's convert the date column to the date type in the rides file:"
   ]
  },
  {
   "cell_type": "code",
   "execution_count": 11,
   "id": "e43d544c",
   "metadata": {},
   "outputs": [],
   "source": [
    "rides['date'] = pd.to_datetime(rides['date'], format='%Y-%m-%d')"
   ]
  },
  {
   "cell_type": "code",
   "execution_count": 12,
   "id": "bae2ab2d",
   "metadata": {},
   "outputs": [
    {
     "name": "stdout",
     "output_type": "stream",
     "text": [
      "<class 'pandas.core.frame.DataFrame'>\n",
      "RangeIndex: 18068 entries, 0 to 18067\n",
      "Data columns (total 4 columns):\n",
      " #   Column    Non-Null Count  Dtype         \n",
      "---  ------    --------------  -----         \n",
      " 0   user_id   18068 non-null  int64         \n",
      " 1   distance  18068 non-null  float64       \n",
      " 2   duration  18068 non-null  float64       \n",
      " 3   date      18068 non-null  datetime64[ns]\n",
      "dtypes: datetime64[ns](1), float64(2), int64(1)\n",
      "memory usage: 564.8 KB\n"
     ]
    }
   ],
   "source": [
    "rides.info()"
   ]
  },
  {
   "cell_type": "markdown",
   "id": "e12a673a",
   "metadata": {},
   "source": [
    "##### Let's create a column with the month number based on the date column:"
   ]
  },
  {
   "cell_type": "code",
   "execution_count": 13,
   "id": "ee4666d0",
   "metadata": {},
   "outputs": [
    {
     "data": {
      "text/html": [
       "<div>\n",
       "<style scoped>\n",
       "    .dataframe tbody tr th:only-of-type {\n",
       "        vertical-align: middle;\n",
       "    }\n",
       "\n",
       "    .dataframe tbody tr th {\n",
       "        vertical-align: top;\n",
       "    }\n",
       "\n",
       "    .dataframe thead th {\n",
       "        text-align: right;\n",
       "    }\n",
       "</style>\n",
       "<table border=\"1\" class=\"dataframe\">\n",
       "  <thead>\n",
       "    <tr style=\"text-align: right;\">\n",
       "      <th></th>\n",
       "      <th>user_id</th>\n",
       "      <th>distance</th>\n",
       "      <th>duration</th>\n",
       "      <th>date</th>\n",
       "      <th>month_number</th>\n",
       "    </tr>\n",
       "  </thead>\n",
       "  <tbody>\n",
       "    <tr>\n",
       "      <th>0</th>\n",
       "      <td>1</td>\n",
       "      <td>4409.919140</td>\n",
       "      <td>25.599769</td>\n",
       "      <td>2021-01-01</td>\n",
       "      <td>1</td>\n",
       "    </tr>\n",
       "    <tr>\n",
       "      <th>1</th>\n",
       "      <td>1</td>\n",
       "      <td>2617.592153</td>\n",
       "      <td>15.816871</td>\n",
       "      <td>2021-01-18</td>\n",
       "      <td>1</td>\n",
       "    </tr>\n",
       "    <tr>\n",
       "      <th>2</th>\n",
       "      <td>1</td>\n",
       "      <td>754.159807</td>\n",
       "      <td>6.232113</td>\n",
       "      <td>2021-04-20</td>\n",
       "      <td>4</td>\n",
       "    </tr>\n",
       "    <tr>\n",
       "      <th>3</th>\n",
       "      <td>1</td>\n",
       "      <td>2694.783254</td>\n",
       "      <td>18.511000</td>\n",
       "      <td>2021-08-11</td>\n",
       "      <td>8</td>\n",
       "    </tr>\n",
       "    <tr>\n",
       "      <th>4</th>\n",
       "      <td>1</td>\n",
       "      <td>4028.687306</td>\n",
       "      <td>26.265803</td>\n",
       "      <td>2021-08-28</td>\n",
       "      <td>8</td>\n",
       "    </tr>\n",
       "    <tr>\n",
       "      <th>...</th>\n",
       "      <td>...</td>\n",
       "      <td>...</td>\n",
       "      <td>...</td>\n",
       "      <td>...</td>\n",
       "      <td>...</td>\n",
       "    </tr>\n",
       "    <tr>\n",
       "      <th>18063</th>\n",
       "      <td>1534</td>\n",
       "      <td>3781.098080</td>\n",
       "      <td>19.822962</td>\n",
       "      <td>2021-11-04</td>\n",
       "      <td>11</td>\n",
       "    </tr>\n",
       "    <tr>\n",
       "      <th>18064</th>\n",
       "      <td>1534</td>\n",
       "      <td>2840.423057</td>\n",
       "      <td>21.409799</td>\n",
       "      <td>2021-11-16</td>\n",
       "      <td>11</td>\n",
       "    </tr>\n",
       "    <tr>\n",
       "      <th>18065</th>\n",
       "      <td>1534</td>\n",
       "      <td>3826.185507</td>\n",
       "      <td>18.435051</td>\n",
       "      <td>2021-11-18</td>\n",
       "      <td>11</td>\n",
       "    </tr>\n",
       "    <tr>\n",
       "      <th>18066</th>\n",
       "      <td>1534</td>\n",
       "      <td>2902.308661</td>\n",
       "      <td>16.674362</td>\n",
       "      <td>2021-11-27</td>\n",
       "      <td>11</td>\n",
       "    </tr>\n",
       "    <tr>\n",
       "      <th>18067</th>\n",
       "      <td>1534</td>\n",
       "      <td>2371.711192</td>\n",
       "      <td>15.893917</td>\n",
       "      <td>2021-12-29</td>\n",
       "      <td>12</td>\n",
       "    </tr>\n",
       "  </tbody>\n",
       "</table>\n",
       "<p>18068 rows × 5 columns</p>\n",
       "</div>"
      ],
      "text/plain": [
       "       user_id     distance   duration       date  month_number\n",
       "0            1  4409.919140  25.599769 2021-01-01             1\n",
       "1            1  2617.592153  15.816871 2021-01-18             1\n",
       "2            1   754.159807   6.232113 2021-04-20             4\n",
       "3            1  2694.783254  18.511000 2021-08-11             8\n",
       "4            1  4028.687306  26.265803 2021-08-28             8\n",
       "...        ...          ...        ...        ...           ...\n",
       "18063     1534  3781.098080  19.822962 2021-11-04            11\n",
       "18064     1534  2840.423057  21.409799 2021-11-16            11\n",
       "18065     1534  3826.185507  18.435051 2021-11-18            11\n",
       "18066     1534  2902.308661  16.674362 2021-11-27            11\n",
       "18067     1534  2371.711192  15.893917 2021-12-29            12\n",
       "\n",
       "[18068 rows x 5 columns]"
      ]
     },
     "execution_count": 13,
     "metadata": {},
     "output_type": "execute_result"
    }
   ],
   "source": [
    "rides['month_number'] = rides['date'].dt.month\n",
    "rides"
   ]
  },
  {
   "cell_type": "markdown",
   "id": "2c7bce04",
   "metadata": {},
   "source": [
    "##### Process blanks and duplicates:"
   ]
  },
  {
   "cell_type": "markdown",
   "id": "169d354f",
   "metadata": {},
   "source": [
    "No missing items were found in the tables.\n",
    "Duplicates that may be relevant are in the `users` table, in the `city` and `user_id` columns:"
   ]
  },
  {
   "cell_type": "code",
   "execution_count": 14,
   "id": "6493a64f",
   "metadata": {},
   "outputs": [
    {
     "data": {
      "text/plain": [
       "array(['Екатеринбург', 'Краснодар', 'Москва', 'Омск', 'Пятигорск',\n",
       "       'Ростов-на-Дону', 'Сочи', 'Тюмень'], dtype=object)"
      ]
     },
     "execution_count": 14,
     "metadata": {},
     "output_type": "execute_result"
    }
   ],
   "source": [
    "users['city'].sort_values().unique()"
   ]
  },
  {
   "cell_type": "code",
   "execution_count": 15,
   "id": "3bc52ef4",
   "metadata": {},
   "outputs": [
    {
     "data": {
      "text/plain": [
       "1565"
      ]
     },
     "execution_count": 15,
     "metadata": {},
     "output_type": "execute_result"
    }
   ],
   "source": [
    "users['user_id'].count()"
   ]
  },
  {
   "cell_type": "code",
   "execution_count": 16,
   "id": "2badb7f5",
   "metadata": {},
   "outputs": [
    {
     "data": {
      "text/html": [
       "<div>\n",
       "<style scoped>\n",
       "    .dataframe tbody tr th:only-of-type {\n",
       "        vertical-align: middle;\n",
       "    }\n",
       "\n",
       "    .dataframe tbody tr th {\n",
       "        vertical-align: top;\n",
       "    }\n",
       "\n",
       "    .dataframe thead th {\n",
       "        text-align: right;\n",
       "    }\n",
       "</style>\n",
       "<table border=\"1\" class=\"dataframe\">\n",
       "  <thead>\n",
       "    <tr style=\"text-align: right;\">\n",
       "      <th></th>\n",
       "      <th>user_id</th>\n",
       "      <th>name</th>\n",
       "      <th>age</th>\n",
       "      <th>city</th>\n",
       "      <th>subscription_type</th>\n",
       "    </tr>\n",
       "  </thead>\n",
       "  <tbody>\n",
       "    <tr>\n",
       "      <th>0</th>\n",
       "      <td>1</td>\n",
       "      <td>Кира</td>\n",
       "      <td>22</td>\n",
       "      <td>Тюмень</td>\n",
       "      <td>ultra</td>\n",
       "    </tr>\n",
       "    <tr>\n",
       "      <th>1</th>\n",
       "      <td>2</td>\n",
       "      <td>Станислав</td>\n",
       "      <td>31</td>\n",
       "      <td>Омск</td>\n",
       "      <td>ultra</td>\n",
       "    </tr>\n",
       "    <tr>\n",
       "      <th>2</th>\n",
       "      <td>3</td>\n",
       "      <td>Алексей</td>\n",
       "      <td>20</td>\n",
       "      <td>Москва</td>\n",
       "      <td>ultra</td>\n",
       "    </tr>\n",
       "    <tr>\n",
       "      <th>3</th>\n",
       "      <td>4</td>\n",
       "      <td>Константин</td>\n",
       "      <td>26</td>\n",
       "      <td>Ростов-на-Дону</td>\n",
       "      <td>ultra</td>\n",
       "    </tr>\n",
       "    <tr>\n",
       "      <th>4</th>\n",
       "      <td>5</td>\n",
       "      <td>Адель</td>\n",
       "      <td>28</td>\n",
       "      <td>Омск</td>\n",
       "      <td>ultra</td>\n",
       "    </tr>\n",
       "    <tr>\n",
       "      <th>...</th>\n",
       "      <td>...</td>\n",
       "      <td>...</td>\n",
       "      <td>...</td>\n",
       "      <td>...</td>\n",
       "      <td>...</td>\n",
       "    </tr>\n",
       "    <tr>\n",
       "      <th>1529</th>\n",
       "      <td>1530</td>\n",
       "      <td>Ростислав</td>\n",
       "      <td>29</td>\n",
       "      <td>Сочи</td>\n",
       "      <td>free</td>\n",
       "    </tr>\n",
       "    <tr>\n",
       "      <th>1530</th>\n",
       "      <td>1531</td>\n",
       "      <td>Никита</td>\n",
       "      <td>25</td>\n",
       "      <td>Пятигорск</td>\n",
       "      <td>free</td>\n",
       "    </tr>\n",
       "    <tr>\n",
       "      <th>1531</th>\n",
       "      <td>1532</td>\n",
       "      <td>Алексей</td>\n",
       "      <td>26</td>\n",
       "      <td>Тюмень</td>\n",
       "      <td>free</td>\n",
       "    </tr>\n",
       "    <tr>\n",
       "      <th>1532</th>\n",
       "      <td>1533</td>\n",
       "      <td>Степан</td>\n",
       "      <td>22</td>\n",
       "      <td>Краснодар</td>\n",
       "      <td>free</td>\n",
       "    </tr>\n",
       "    <tr>\n",
       "      <th>1533</th>\n",
       "      <td>1534</td>\n",
       "      <td>Альберт</td>\n",
       "      <td>25</td>\n",
       "      <td>Краснодар</td>\n",
       "      <td>free</td>\n",
       "    </tr>\n",
       "  </tbody>\n",
       "</table>\n",
       "<p>1534 rows × 5 columns</p>\n",
       "</div>"
      ],
      "text/plain": [
       "      user_id        name  age            city subscription_type\n",
       "0           1        Кира   22          Тюмень             ultra\n",
       "1           2   Станислав   31            Омск             ultra\n",
       "2           3     Алексей   20          Москва             ultra\n",
       "3           4  Константин   26  Ростов-на-Дону             ultra\n",
       "4           5       Адель   28            Омск             ultra\n",
       "...       ...         ...  ...             ...               ...\n",
       "1529     1530   Ростислав   29            Сочи              free\n",
       "1530     1531      Никита   25       Пятигорск              free\n",
       "1531     1532     Алексей   26          Тюмень              free\n",
       "1532     1533      Степан   22       Краснодар              free\n",
       "1533     1534     Альберт   25       Краснодар              free\n",
       "\n",
       "[1534 rows x 5 columns]"
      ]
     },
     "execution_count": 16,
     "metadata": {},
     "output_type": "execute_result"
    }
   ],
   "source": [
    "users = users.drop_duplicates(['user_id'])\n",
    "users"
   ]
  },
  {
   "cell_type": "code",
   "execution_count": 17,
   "id": "0cb4d8dd",
   "metadata": {},
   "outputs": [
    {
     "data": {
      "text/plain": [
       "1534"
      ]
     },
     "execution_count": 17,
     "metadata": {},
     "output_type": "execute_result"
    }
   ],
   "source": [
    "users['user_id'].count()"
   ]
  },
  {
   "cell_type": "markdown",
   "id": "9cf4c855",
   "metadata": {},
   "source": [
    "Everything is ok, the cities are correct, but we deleted 31 duplicates in `user_id`."
   ]
  },
  {
   "cell_type": "markdown",
   "id": "7091ca14",
   "metadata": {},
   "source": [
    "**Summary:**  \n",
    "We got rid of duplicates, added the necessary column, changed the data type where necessary. Now the data is comfortable to work with."
   ]
  },
  {
   "cell_type": "markdown",
   "id": "212593c7",
   "metadata": {},
   "source": [
    "#### Exploratory data analysis"
   ]
  },
  {
   "cell_type": "markdown",
   "id": "bd650c06",
   "metadata": {},
   "source": [
    "We'll describe and visualise some of the trips data:"
   ]
  },
  {
   "cell_type": "markdown",
   "id": "4151f62b",
   "metadata": {},
   "source": [
    "##### Frequency of occurrence of cities:"
   ]
  },
  {
   "cell_type": "code",
   "execution_count": 18,
   "id": "c9557003",
   "metadata": {},
   "outputs": [
    {
     "data": {
      "text/html": [
       "<div>\n",
       "<style scoped>\n",
       "    .dataframe tbody tr th:only-of-type {\n",
       "        vertical-align: middle;\n",
       "    }\n",
       "\n",
       "    .dataframe tbody tr th {\n",
       "        vertical-align: top;\n",
       "    }\n",
       "\n",
       "    .dataframe thead th {\n",
       "        text-align: right;\n",
       "    }\n",
       "</style>\n",
       "<table border=\"1\" class=\"dataframe\">\n",
       "  <thead>\n",
       "    <tr style=\"text-align: right;\">\n",
       "      <th></th>\n",
       "      <th>user_id</th>\n",
       "    </tr>\n",
       "    <tr>\n",
       "      <th>city</th>\n",
       "      <th></th>\n",
       "    </tr>\n",
       "  </thead>\n",
       "  <tbody>\n",
       "    <tr>\n",
       "      <th>Пятигорск</th>\n",
       "      <td>219</td>\n",
       "    </tr>\n",
       "    <tr>\n",
       "      <th>Екатеринбург</th>\n",
       "      <td>204</td>\n",
       "    </tr>\n",
       "    <tr>\n",
       "      <th>Ростов-на-Дону</th>\n",
       "      <td>198</td>\n",
       "    </tr>\n",
       "    <tr>\n",
       "      <th>Краснодар</th>\n",
       "      <td>193</td>\n",
       "    </tr>\n",
       "    <tr>\n",
       "      <th>Сочи</th>\n",
       "      <td>189</td>\n",
       "    </tr>\n",
       "    <tr>\n",
       "      <th>Омск</th>\n",
       "      <td>183</td>\n",
       "    </tr>\n",
       "    <tr>\n",
       "      <th>Тюмень</th>\n",
       "      <td>180</td>\n",
       "    </tr>\n",
       "    <tr>\n",
       "      <th>Москва</th>\n",
       "      <td>168</td>\n",
       "    </tr>\n",
       "  </tbody>\n",
       "</table>\n",
       "</div>"
      ],
      "text/plain": [
       "                user_id\n",
       "city                   \n",
       "Пятигорск           219\n",
       "Екатеринбург        204\n",
       "Ростов-на-Дону      198\n",
       "Краснодар           193\n",
       "Сочи                189\n",
       "Омск                183\n",
       "Тюмень              180\n",
       "Москва              168"
      ]
     },
     "execution_count": 18,
     "metadata": {},
     "output_type": "execute_result"
    }
   ],
   "source": [
    "users.pivot_table(index='city', values='user_id', aggfunc='count').sort_values('user_id', ascending=False)"
   ]
  },
  {
   "cell_type": "code",
   "execution_count": 19,
   "id": "630d17d1",
   "metadata": {},
   "outputs": [
    {
     "data": {
      "text/plain": [
       "count      8.000000\n",
       "mean     191.750000\n",
       "std       15.672998\n",
       "min      168.000000\n",
       "25%      182.250000\n",
       "50%      191.000000\n",
       "75%      199.500000\n",
       "max      219.000000\n",
       "Name: count, dtype: float64"
      ]
     },
     "execution_count": 19,
     "metadata": {},
     "output_type": "execute_result"
    },
    {
     "data": {
      "image/png": "[encoded data removed]",
      "text/plain": [
       "<Figure size 500x300 with 1 Axes>"
      ]
     },
     "metadata": {},
     "output_type": "display_data"
    }
   ],
   "source": [
    "users_city = users['city'].value_counts()\n",
    "users_city.plot(kind='bar', grid=True, figsize=(5, 3), color='darkblue', \n",
    "title = 'Frequency of city occurence',\n",
    "xlabel = 'City/town',\n",
    "ylabel = 'Number of users')\n",
    "plt.xticks(rotation=25)\n",
    "users_city.describe()\n",
    "\n"
   ]
  },
  {
   "cell_type": "markdown",
   "id": "a76db345",
   "metadata": {},
   "source": [
    "We see that in 2021 the most users of the service were in Pyatigorsk (Пятигорск) - 219 users, the least in Moscow (Москва) - 168 users."
   ]
  },
  {
   "cell_type": "markdown",
   "id": "7b748879",
   "metadata": {},
   "source": [
    "##### Ratio of users with and without subscription:¶"
   ]
  },
  {
   "cell_type": "code",
   "execution_count": 20,
   "id": "791fb6fa",
   "metadata": {},
   "outputs": [
    {
     "data": {
      "text/html": [
       "<div>\n",
       "<style scoped>\n",
       "    .dataframe tbody tr th:only-of-type {\n",
       "        vertical-align: middle;\n",
       "    }\n",
       "\n",
       "    .dataframe tbody tr th {\n",
       "        vertical-align: top;\n",
       "    }\n",
       "\n",
       "    .dataframe thead th {\n",
       "        text-align: right;\n",
       "    }\n",
       "</style>\n",
       "<table border=\"1\" class=\"dataframe\">\n",
       "  <thead>\n",
       "    <tr style=\"text-align: right;\">\n",
       "      <th></th>\n",
       "      <th>count</th>\n",
       "    </tr>\n",
       "  </thead>\n",
       "  <tbody>\n",
       "    <tr>\n",
       "      <th>count</th>\n",
       "      <td>2.000000</td>\n",
       "    </tr>\n",
       "    <tr>\n",
       "      <th>mean</th>\n",
       "      <td>767.000000</td>\n",
       "    </tr>\n",
       "    <tr>\n",
       "      <th>std</th>\n",
       "      <td>96.166522</td>\n",
       "    </tr>\n",
       "    <tr>\n",
       "      <th>min</th>\n",
       "      <td>699.000000</td>\n",
       "    </tr>\n",
       "    <tr>\n",
       "      <th>25%</th>\n",
       "      <td>733.000000</td>\n",
       "    </tr>\n",
       "    <tr>\n",
       "      <th>50%</th>\n",
       "      <td>767.000000</td>\n",
       "    </tr>\n",
       "    <tr>\n",
       "      <th>75%</th>\n",
       "      <td>801.000000</td>\n",
       "    </tr>\n",
       "    <tr>\n",
       "      <th>max</th>\n",
       "      <td>835.000000</td>\n",
       "    </tr>\n",
       "  </tbody>\n",
       "</table>\n",
       "</div>"
      ],
      "text/plain": [
       "            count\n",
       "count    2.000000\n",
       "mean   767.000000\n",
       "std     96.166522\n",
       "min    699.000000\n",
       "25%    733.000000\n",
       "50%    767.000000\n",
       "75%    801.000000\n",
       "max    835.000000"
      ]
     },
     "execution_count": 20,
     "metadata": {},
     "output_type": "execute_result"
    },
    {
     "data": {
      "image/png": "[encoded data removed]",
      "text/plain": [
       "<Figure size 700x700 with 1 Axes>"
      ]
     },
     "metadata": {},
     "output_type": "display_data"
    }
   ],
   "source": [
    "sub_type = users['subscription_type'].value_counts()\n",
    "sub_type.plot(kind='pie', figsize=(7, 7), autopct='%1.1f%%',\n",
    "title = 'Users ratio',\n",
    "xlabel = 'Subscription type',\n",
    "ylabel = 'Number of users')\n",
    "sub_type.describe().to_frame()"
   ]
  },
  {
   "cell_type": "markdown",
   "id": "a9fb9f2a",
   "metadata": {},
   "source": [
    "We can see that there were slightly more non-subscription users at that time (54.4% vs. 45.6%)."
   ]
  },
  {
   "cell_type": "markdown",
   "id": "19434936",
   "metadata": {},
   "source": [
    "##### Users age:"
   ]
  },
  {
   "cell_type": "code",
   "execution_count": 21,
   "id": "fd3d98b5",
   "metadata": {},
   "outputs": [
    {
     "data": {
      "text/html": [
       "<div>\n",
       "<style scoped>\n",
       "    .dataframe tbody tr th:only-of-type {\n",
       "        vertical-align: middle;\n",
       "    }\n",
       "\n",
       "    .dataframe tbody tr th {\n",
       "        vertical-align: top;\n",
       "    }\n",
       "\n",
       "    .dataframe thead th {\n",
       "        text-align: right;\n",
       "    }\n",
       "</style>\n",
       "<table border=\"1\" class=\"dataframe\">\n",
       "  <thead>\n",
       "    <tr style=\"text-align: right;\">\n",
       "      <th></th>\n",
       "      <th>age</th>\n",
       "    </tr>\n",
       "  </thead>\n",
       "  <tbody>\n",
       "    <tr>\n",
       "      <th>count</th>\n",
       "      <td>1534.000000</td>\n",
       "    </tr>\n",
       "    <tr>\n",
       "      <th>mean</th>\n",
       "      <td>24.903520</td>\n",
       "    </tr>\n",
       "    <tr>\n",
       "      <th>std</th>\n",
       "      <td>4.572367</td>\n",
       "    </tr>\n",
       "    <tr>\n",
       "      <th>min</th>\n",
       "      <td>12.000000</td>\n",
       "    </tr>\n",
       "    <tr>\n",
       "      <th>25%</th>\n",
       "      <td>22.000000</td>\n",
       "    </tr>\n",
       "    <tr>\n",
       "      <th>50%</th>\n",
       "      <td>25.000000</td>\n",
       "    </tr>\n",
       "    <tr>\n",
       "      <th>75%</th>\n",
       "      <td>28.000000</td>\n",
       "    </tr>\n",
       "    <tr>\n",
       "      <th>max</th>\n",
       "      <td>43.000000</td>\n",
       "    </tr>\n",
       "  </tbody>\n",
       "</table>\n",
       "</div>"
      ],
      "text/plain": [
       "               age\n",
       "count  1534.000000\n",
       "mean     24.903520\n",
       "std       4.572367\n",
       "min      12.000000\n",
       "25%      22.000000\n",
       "50%      25.000000\n",
       "75%      28.000000\n",
       "max      43.000000"
      ]
     },
     "execution_count": 21,
     "metadata": {},
     "output_type": "execute_result"
    },
    {
     "data": {
      "image/png": "[encoded data removed]",
      "text/plain": [
       "<Figure size 700x500 with 1 Axes>"
      ]
     },
     "metadata": {},
     "output_type": "display_data"
    }
   ],
   "source": [
    "users.plot(y='age', kind='hist', bins=50, grid=True, range=(0, 50), figsize=(7, 5), color='maroon', ec='white',\n",
    "title = 'Users age',\n",
    "xlabel = 'Age',\n",
    "ylabel = 'Number of users')\n",
    "users['age'].describe().to_frame()"
   ]
  },
  {
   "cell_type": "markdown",
   "id": "463780de",
   "metadata": {},
   "source": [
    "We see an age range of 12-43 years. Normal distribution, with the most frequent age of 25 years."
   ]
  },
  {
   "cell_type": "markdown",
   "id": "5eb9bdc1",
   "metadata": {},
   "source": [
    "##### Distance covered:"
   ]
  },
  {
   "cell_type": "markdown",
   "id": "39f7f1de",
   "metadata": {},
   "source": [
    "Let's convert the distance into kilometres."
   ]
  },
  {
   "cell_type": "code",
   "execution_count": 22,
   "id": "6dc78f1f",
   "metadata": {},
   "outputs": [
    {
     "data": {
      "text/html": [
       "<div>\n",
       "<style scoped>\n",
       "    .dataframe tbody tr th:only-of-type {\n",
       "        vertical-align: middle;\n",
       "    }\n",
       "\n",
       "    .dataframe tbody tr th {\n",
       "        vertical-align: top;\n",
       "    }\n",
       "\n",
       "    .dataframe thead th {\n",
       "        text-align: right;\n",
       "    }\n",
       "</style>\n",
       "<table border=\"1\" class=\"dataframe\">\n",
       "  <thead>\n",
       "    <tr style=\"text-align: right;\">\n",
       "      <th></th>\n",
       "      <th>distance</th>\n",
       "    </tr>\n",
       "  </thead>\n",
       "  <tbody>\n",
       "    <tr>\n",
       "      <th>count</th>\n",
       "      <td>18068.000000</td>\n",
       "    </tr>\n",
       "    <tr>\n",
       "      <th>mean</th>\n",
       "      <td>3.070660</td>\n",
       "    </tr>\n",
       "    <tr>\n",
       "      <th>std</th>\n",
       "      <td>1.116831</td>\n",
       "    </tr>\n",
       "    <tr>\n",
       "      <th>min</th>\n",
       "      <td>0.000856</td>\n",
       "    </tr>\n",
       "    <tr>\n",
       "      <th>25%</th>\n",
       "      <td>2.543226</td>\n",
       "    </tr>\n",
       "    <tr>\n",
       "      <th>50%</th>\n",
       "      <td>3.133610</td>\n",
       "    </tr>\n",
       "    <tr>\n",
       "      <th>75%</th>\n",
       "      <td>3.776223</td>\n",
       "    </tr>\n",
       "    <tr>\n",
       "      <th>max</th>\n",
       "      <td>7.211008</td>\n",
       "    </tr>\n",
       "  </tbody>\n",
       "</table>\n",
       "</div>"
      ],
      "text/plain": [
       "           distance\n",
       "count  18068.000000\n",
       "mean       3.070660\n",
       "std        1.116831\n",
       "min        0.000856\n",
       "25%        2.543226\n",
       "50%        3.133610\n",
       "75%        3.776223\n",
       "max        7.211008"
      ]
     },
     "execution_count": 22,
     "metadata": {},
     "output_type": "execute_result"
    },
    {
     "data": {
      "image/png": "[encoded data removed]",
      "text/plain": [
       "<Figure size 500x300 with 1 Axes>"
      ]
     },
     "metadata": {},
     "output_type": "display_data"
    }
   ],
   "source": [
    "rides_dist = rides['distance'] / 1000\n",
    "rides_dist.plot(y='distance', kind='hist', bins=28, grid=True, range=(0,7), figsize=(5, 3), color='blueviolet', ec='white',\n",
    "title = 'Distance covered',\n",
    "xlabel = 'Distance',\n",
    "ylabel = 'Number of users')\n",
    "rides_dist.describe().to_frame()"
   ]
  },
  {
   "cell_type": "markdown",
   "id": "425151c4",
   "metadata": {},
   "source": [
    "The graph clearly shows that the majority of the journeys covered 2500-3800 metres. \n",
    "A more or less normal distribution is visibleble, the most covered distance per trip was just over 3km."
   ]
  },
  {
   "cell_type": "markdown",
   "id": "4a9b719c",
   "metadata": {},
   "source": [
    "##### Duration of trips:"
   ]
  },
  {
   "cell_type": "code",
   "execution_count": 23,
   "id": "86894191",
   "metadata": {},
   "outputs": [
    {
     "data": {
      "text/html": [
       "<div>\n",
       "<style scoped>\n",
       "    .dataframe tbody tr th:only-of-type {\n",
       "        vertical-align: middle;\n",
       "    }\n",
       "\n",
       "    .dataframe tbody tr th {\n",
       "        vertical-align: top;\n",
       "    }\n",
       "\n",
       "    .dataframe thead th {\n",
       "        text-align: right;\n",
       "    }\n",
       "</style>\n",
       "<table border=\"1\" class=\"dataframe\">\n",
       "  <thead>\n",
       "    <tr style=\"text-align: right;\">\n",
       "      <th></th>\n",
       "      <th>duration</th>\n",
       "    </tr>\n",
       "  </thead>\n",
       "  <tbody>\n",
       "    <tr>\n",
       "      <th>count</th>\n",
       "      <td>18068.000000</td>\n",
       "    </tr>\n",
       "    <tr>\n",
       "      <th>mean</th>\n",
       "      <td>17.805011</td>\n",
       "    </tr>\n",
       "    <tr>\n",
       "      <th>std</th>\n",
       "      <td>6.091051</td>\n",
       "    </tr>\n",
       "    <tr>\n",
       "      <th>min</th>\n",
       "      <td>0.500000</td>\n",
       "    </tr>\n",
       "    <tr>\n",
       "      <th>25%</th>\n",
       "      <td>13.597563</td>\n",
       "    </tr>\n",
       "    <tr>\n",
       "      <th>50%</th>\n",
       "      <td>17.678395</td>\n",
       "    </tr>\n",
       "    <tr>\n",
       "      <th>75%</th>\n",
       "      <td>21.724800</td>\n",
       "    </tr>\n",
       "    <tr>\n",
       "      <th>max</th>\n",
       "      <td>40.823963</td>\n",
       "    </tr>\n",
       "  </tbody>\n",
       "</table>\n",
       "</div>"
      ],
      "text/plain": [
       "           duration\n",
       "count  18068.000000\n",
       "mean      17.805011\n",
       "std        6.091051\n",
       "min        0.500000\n",
       "25%       13.597563\n",
       "50%       17.678395\n",
       "75%       21.724800\n",
       "max       40.823963"
      ]
     },
     "execution_count": 23,
     "metadata": {},
     "output_type": "execute_result"
    },
    {
     "data": {
      "image/png": "[encoded data removed]",
      "text/plain": [
       "<Figure size 500x300 with 1 Axes>"
      ]
     },
     "metadata": {},
     "output_type": "display_data"
    }
   ],
   "source": [
    "rides.plot(y='duration', kind='hist', bins=35, grid=True, range=(0,35), figsize=(5, 3), color='darkblue', ec='white',\n",
    "title = 'Duration of trips',\n",
    "xlabel = 'Duration',\n",
    "ylabel = 'Number of users')\n",
    "rides['duration'].describe().to_frame()"
   ]
  },
  {
   "cell_type": "markdown",
   "id": "06b21159",
   "metadata": {},
   "source": [
    "We also see a normal distribution with a mean of 17.5 min. There were also trips of half a minute, most likely users changed their mind, so these can be ignored."
   ]
  },
  {
   "cell_type": "markdown",
   "id": "4ef51331",
   "metadata": {},
   "source": [
    "#### Merge the data"
   ]
  },
  {
   "cell_type": "markdown",
   "id": "fd1e2adc",
   "metadata": {},
   "source": [
    "##### Checking the shape of the tables first:"
   ]
  },
  {
   "cell_type": "code",
   "execution_count": 24,
   "id": "b9b8fd6d",
   "metadata": {},
   "outputs": [
    {
     "name": "stdout",
     "output_type": "stream",
     "text": [
      "1534\n",
      "18068\n",
      "2\n"
     ]
    }
   ],
   "source": [
    "print(users.shape[0])\n",
    "print(rides.shape[0])\n",
    "print(subscriptions.shape[0])"
   ]
  },
  {
   "cell_type": "markdown",
   "id": "6572a0b1",
   "metadata": {},
   "source": [
    "##### Let's merge 3 dataframes into one using the merge() method:"
   ]
  },
  {
   "cell_type": "code",
   "execution_count": 25,
   "id": "6bf288b5",
   "metadata": {
    "scrolled": true
   },
   "outputs": [
    {
     "data": {
      "text/html": [
       "<div>\n",
       "<style scoped>\n",
       "    .dataframe tbody tr th:only-of-type {\n",
       "        vertical-align: middle;\n",
       "    }\n",
       "\n",
       "    .dataframe tbody tr th {\n",
       "        vertical-align: top;\n",
       "    }\n",
       "\n",
       "    .dataframe thead th {\n",
       "        text-align: right;\n",
       "    }\n",
       "</style>\n",
       "<table border=\"1\" class=\"dataframe\">\n",
       "  <thead>\n",
       "    <tr style=\"text-align: right;\">\n",
       "      <th></th>\n",
       "      <th>user_id</th>\n",
       "      <th>name</th>\n",
       "      <th>age</th>\n",
       "      <th>city</th>\n",
       "      <th>subscription_type</th>\n",
       "      <th>distance</th>\n",
       "      <th>duration</th>\n",
       "      <th>date</th>\n",
       "      <th>month_number</th>\n",
       "      <th>minute_price</th>\n",
       "      <th>start_ride_price</th>\n",
       "      <th>subscription_fee</th>\n",
       "    </tr>\n",
       "  </thead>\n",
       "  <tbody>\n",
       "    <tr>\n",
       "      <th>0</th>\n",
       "      <td>1</td>\n",
       "      <td>Кира</td>\n",
       "      <td>22</td>\n",
       "      <td>Тюмень</td>\n",
       "      <td>ultra</td>\n",
       "      <td>4409.919140</td>\n",
       "      <td>25.599769</td>\n",
       "      <td>2021-01-01</td>\n",
       "      <td>1</td>\n",
       "      <td>6</td>\n",
       "      <td>0</td>\n",
       "      <td>199</td>\n",
       "    </tr>\n",
       "    <tr>\n",
       "      <th>1</th>\n",
       "      <td>1</td>\n",
       "      <td>Кира</td>\n",
       "      <td>22</td>\n",
       "      <td>Тюмень</td>\n",
       "      <td>ultra</td>\n",
       "      <td>2617.592153</td>\n",
       "      <td>15.816871</td>\n",
       "      <td>2021-01-18</td>\n",
       "      <td>1</td>\n",
       "      <td>6</td>\n",
       "      <td>0</td>\n",
       "      <td>199</td>\n",
       "    </tr>\n",
       "    <tr>\n",
       "      <th>2</th>\n",
       "      <td>1</td>\n",
       "      <td>Кира</td>\n",
       "      <td>22</td>\n",
       "      <td>Тюмень</td>\n",
       "      <td>ultra</td>\n",
       "      <td>754.159807</td>\n",
       "      <td>6.232113</td>\n",
       "      <td>2021-04-20</td>\n",
       "      <td>4</td>\n",
       "      <td>6</td>\n",
       "      <td>0</td>\n",
       "      <td>199</td>\n",
       "    </tr>\n",
       "    <tr>\n",
       "      <th>3</th>\n",
       "      <td>1</td>\n",
       "      <td>Кира</td>\n",
       "      <td>22</td>\n",
       "      <td>Тюмень</td>\n",
       "      <td>ultra</td>\n",
       "      <td>2694.783254</td>\n",
       "      <td>18.511000</td>\n",
       "      <td>2021-08-11</td>\n",
       "      <td>8</td>\n",
       "      <td>6</td>\n",
       "      <td>0</td>\n",
       "      <td>199</td>\n",
       "    </tr>\n",
       "    <tr>\n",
       "      <th>4</th>\n",
       "      <td>1</td>\n",
       "      <td>Кира</td>\n",
       "      <td>22</td>\n",
       "      <td>Тюмень</td>\n",
       "      <td>ultra</td>\n",
       "      <td>4028.687306</td>\n",
       "      <td>26.265803</td>\n",
       "      <td>2021-08-28</td>\n",
       "      <td>8</td>\n",
       "      <td>6</td>\n",
       "      <td>0</td>\n",
       "      <td>199</td>\n",
       "    </tr>\n",
       "  </tbody>\n",
       "</table>\n",
       "</div>"
      ],
      "text/plain": [
       "   user_id  name  age    city subscription_type     distance   duration  \\\n",
       "0        1  Кира   22  Тюмень             ultra  4409.919140  25.599769   \n",
       "1        1  Кира   22  Тюмень             ultra  2617.592153  15.816871   \n",
       "2        1  Кира   22  Тюмень             ultra   754.159807   6.232113   \n",
       "3        1  Кира   22  Тюмень             ultra  2694.783254  18.511000   \n",
       "4        1  Кира   22  Тюмень             ultra  4028.687306  26.265803   \n",
       "\n",
       "        date  month_number  minute_price  start_ride_price  subscription_fee  \n",
       "0 2021-01-01             1             6                 0               199  \n",
       "1 2021-01-18             1             6                 0               199  \n",
       "2 2021-04-20             4             6                 0               199  \n",
       "3 2021-08-11             8             6                 0               199  \n",
       "4 2021-08-28             8             6                 0               199  "
      ]
     },
     "execution_count": 25,
     "metadata": {},
     "output_type": "execute_result"
    }
   ],
   "source": [
    "go_df = pd.merge(pd.merge(users, rides, on='user_id'), subscriptions, on='subscription_type')\n",
    "go_df.head()"
   ]
  },
  {
   "cell_type": "markdown",
   "id": "88625db8",
   "metadata": {},
   "source": [
    "Let's see if everything merged properly and if there are any gaps:"
   ]
  },
  {
   "cell_type": "code",
   "execution_count": 26,
   "id": "a4d30fd8",
   "metadata": {
    "scrolled": true
   },
   "outputs": [
    {
     "name": "stdout",
     "output_type": "stream",
     "text": [
      "<class 'pandas.core.frame.DataFrame'>\n",
      "RangeIndex: 18068 entries, 0 to 18067\n",
      "Data columns (total 12 columns):\n",
      " #   Column             Non-Null Count  Dtype         \n",
      "---  ------             --------------  -----         \n",
      " 0   user_id            18068 non-null  int64         \n",
      " 1   name               18068 non-null  object        \n",
      " 2   age                18068 non-null  int64         \n",
      " 3   city               18068 non-null  object        \n",
      " 4   subscription_type  18068 non-null  object        \n",
      " 5   distance           18068 non-null  float64       \n",
      " 6   duration           18068 non-null  float64       \n",
      " 7   date               18068 non-null  datetime64[ns]\n",
      " 8   month_number       18068 non-null  int32         \n",
      " 9   minute_price       18068 non-null  int64         \n",
      " 10  start_ride_price   18068 non-null  int64         \n",
      " 11  subscription_fee   18068 non-null  int64         \n",
      "dtypes: datetime64[ns](1), float64(2), int32(1), int64(5), object(3)\n",
      "memory usage: 1.6+ MB\n"
     ]
    }
   ],
   "source": [
    "go_df.info()"
   ]
  },
  {
   "cell_type": "markdown",
   "id": "a6e97fdb",
   "metadata": {},
   "source": [
    "The tables merged properly, now there are 18068 lines as in the biggest table, data from other tables spread across all the lines."
   ]
  },
  {
   "cell_type": "markdown",
   "id": "c4da507a",
   "metadata": {},
   "source": [
    "##### Let's create dataframes:"
   ]
  },
  {
   "cell_type": "markdown",
   "id": "f294359e",
   "metadata": {},
   "source": [
    "###### With user information without subscription:"
   ]
  },
  {
   "cell_type": "code",
   "execution_count": 27,
   "id": "679dc62b",
   "metadata": {},
   "outputs": [
    {
     "data": {
      "text/html": [
       "<div>\n",
       "<style scoped>\n",
       "    .dataframe tbody tr th:only-of-type {\n",
       "        vertical-align: middle;\n",
       "    }\n",
       "\n",
       "    .dataframe tbody tr th {\n",
       "        vertical-align: top;\n",
       "    }\n",
       "\n",
       "    .dataframe thead th {\n",
       "        text-align: right;\n",
       "    }\n",
       "</style>\n",
       "<table border=\"1\" class=\"dataframe\">\n",
       "  <thead>\n",
       "    <tr style=\"text-align: right;\">\n",
       "      <th></th>\n",
       "      <th>user_id</th>\n",
       "      <th>name</th>\n",
       "      <th>age</th>\n",
       "      <th>city</th>\n",
       "      <th>subscription_type</th>\n",
       "      <th>distance</th>\n",
       "      <th>duration</th>\n",
       "      <th>date</th>\n",
       "      <th>month_number</th>\n",
       "      <th>minute_price</th>\n",
       "      <th>start_ride_price</th>\n",
       "      <th>subscription_fee</th>\n",
       "    </tr>\n",
       "  </thead>\n",
       "  <tbody>\n",
       "    <tr>\n",
       "      <th>6500</th>\n",
       "      <td>700</td>\n",
       "      <td>Айдар</td>\n",
       "      <td>22</td>\n",
       "      <td>Омск</td>\n",
       "      <td>free</td>\n",
       "      <td>2515.690719</td>\n",
       "      <td>14.944286</td>\n",
       "      <td>2021-01-02</td>\n",
       "      <td>1</td>\n",
       "      <td>8</td>\n",
       "      <td>50</td>\n",
       "      <td>0</td>\n",
       "    </tr>\n",
       "    <tr>\n",
       "      <th>6501</th>\n",
       "      <td>700</td>\n",
       "      <td>Айдар</td>\n",
       "      <td>22</td>\n",
       "      <td>Омск</td>\n",
       "      <td>free</td>\n",
       "      <td>846.932642</td>\n",
       "      <td>16.234663</td>\n",
       "      <td>2021-02-01</td>\n",
       "      <td>2</td>\n",
       "      <td>8</td>\n",
       "      <td>50</td>\n",
       "      <td>0</td>\n",
       "    </tr>\n",
       "    <tr>\n",
       "      <th>6502</th>\n",
       "      <td>700</td>\n",
       "      <td>Айдар</td>\n",
       "      <td>22</td>\n",
       "      <td>Омск</td>\n",
       "      <td>free</td>\n",
       "      <td>4004.434142</td>\n",
       "      <td>20.016628</td>\n",
       "      <td>2021-02-04</td>\n",
       "      <td>2</td>\n",
       "      <td>8</td>\n",
       "      <td>50</td>\n",
       "      <td>0</td>\n",
       "    </tr>\n",
       "    <tr>\n",
       "      <th>6503</th>\n",
       "      <td>700</td>\n",
       "      <td>Айдар</td>\n",
       "      <td>22</td>\n",
       "      <td>Омск</td>\n",
       "      <td>free</td>\n",
       "      <td>1205.911290</td>\n",
       "      <td>9.782872</td>\n",
       "      <td>2021-02-10</td>\n",
       "      <td>2</td>\n",
       "      <td>8</td>\n",
       "      <td>50</td>\n",
       "      <td>0</td>\n",
       "    </tr>\n",
       "    <tr>\n",
       "      <th>6504</th>\n",
       "      <td>700</td>\n",
       "      <td>Айдар</td>\n",
       "      <td>22</td>\n",
       "      <td>Омск</td>\n",
       "      <td>free</td>\n",
       "      <td>3047.379435</td>\n",
       "      <td>17.427673</td>\n",
       "      <td>2021-02-14</td>\n",
       "      <td>2</td>\n",
       "      <td>8</td>\n",
       "      <td>50</td>\n",
       "      <td>0</td>\n",
       "    </tr>\n",
       "  </tbody>\n",
       "</table>\n",
       "</div>"
      ],
      "text/plain": [
       "      user_id   name  age  city subscription_type     distance   duration  \\\n",
       "6500      700  Айдар   22  Омск              free  2515.690719  14.944286   \n",
       "6501      700  Айдар   22  Омск              free   846.932642  16.234663   \n",
       "6502      700  Айдар   22  Омск              free  4004.434142  20.016628   \n",
       "6503      700  Айдар   22  Омск              free  1205.911290   9.782872   \n",
       "6504      700  Айдар   22  Омск              free  3047.379435  17.427673   \n",
       "\n",
       "           date  month_number  minute_price  start_ride_price  \\\n",
       "6500 2021-01-02             1             8                50   \n",
       "6501 2021-02-01             2             8                50   \n",
       "6502 2021-02-04             2             8                50   \n",
       "6503 2021-02-10             2             8                50   \n",
       "6504 2021-02-14             2             8                50   \n",
       "\n",
       "      subscription_fee  \n",
       "6500                 0  \n",
       "6501                 0  \n",
       "6502                 0  \n",
       "6503                 0  \n",
       "6504                 0  "
      ]
     },
     "execution_count": 27,
     "metadata": {},
     "output_type": "execute_result"
    }
   ],
   "source": [
    "free_sub_df = go_df.copy()\n",
    "free_sub_df = free_sub_df[free_sub_df.subscription_type == 'free']\n",
    "free_sub_df.head()"
   ]
  },
  {
   "cell_type": "markdown",
   "id": "8a397a70",
   "metadata": {},
   "source": [
    "###### With information about users with subscription:"
   ]
  },
  {
   "cell_type": "code",
   "execution_count": 28,
   "id": "75f5aad3",
   "metadata": {},
   "outputs": [
    {
     "data": {
      "text/html": [
       "<div>\n",
       "<style scoped>\n",
       "    .dataframe tbody tr th:only-of-type {\n",
       "        vertical-align: middle;\n",
       "    }\n",
       "\n",
       "    .dataframe tbody tr th {\n",
       "        vertical-align: top;\n",
       "    }\n",
       "\n",
       "    .dataframe thead th {\n",
       "        text-align: right;\n",
       "    }\n",
       "</style>\n",
       "<table border=\"1\" class=\"dataframe\">\n",
       "  <thead>\n",
       "    <tr style=\"text-align: right;\">\n",
       "      <th></th>\n",
       "      <th>user_id</th>\n",
       "      <th>name</th>\n",
       "      <th>age</th>\n",
       "      <th>city</th>\n",
       "      <th>subscription_type</th>\n",
       "      <th>distance</th>\n",
       "      <th>duration</th>\n",
       "      <th>date</th>\n",
       "      <th>month_number</th>\n",
       "      <th>minute_price</th>\n",
       "      <th>start_ride_price</th>\n",
       "      <th>subscription_fee</th>\n",
       "    </tr>\n",
       "  </thead>\n",
       "  <tbody>\n",
       "    <tr>\n",
       "      <th>0</th>\n",
       "      <td>1</td>\n",
       "      <td>Кира</td>\n",
       "      <td>22</td>\n",
       "      <td>Тюмень</td>\n",
       "      <td>ultra</td>\n",
       "      <td>4409.919140</td>\n",
       "      <td>25.599769</td>\n",
       "      <td>2021-01-01</td>\n",
       "      <td>1</td>\n",
       "      <td>6</td>\n",
       "      <td>0</td>\n",
       "      <td>199</td>\n",
       "    </tr>\n",
       "    <tr>\n",
       "      <th>1</th>\n",
       "      <td>1</td>\n",
       "      <td>Кира</td>\n",
       "      <td>22</td>\n",
       "      <td>Тюмень</td>\n",
       "      <td>ultra</td>\n",
       "      <td>2617.592153</td>\n",
       "      <td>15.816871</td>\n",
       "      <td>2021-01-18</td>\n",
       "      <td>1</td>\n",
       "      <td>6</td>\n",
       "      <td>0</td>\n",
       "      <td>199</td>\n",
       "    </tr>\n",
       "    <tr>\n",
       "      <th>2</th>\n",
       "      <td>1</td>\n",
       "      <td>Кира</td>\n",
       "      <td>22</td>\n",
       "      <td>Тюмень</td>\n",
       "      <td>ultra</td>\n",
       "      <td>754.159807</td>\n",
       "      <td>6.232113</td>\n",
       "      <td>2021-04-20</td>\n",
       "      <td>4</td>\n",
       "      <td>6</td>\n",
       "      <td>0</td>\n",
       "      <td>199</td>\n",
       "    </tr>\n",
       "    <tr>\n",
       "      <th>3</th>\n",
       "      <td>1</td>\n",
       "      <td>Кира</td>\n",
       "      <td>22</td>\n",
       "      <td>Тюмень</td>\n",
       "      <td>ultra</td>\n",
       "      <td>2694.783254</td>\n",
       "      <td>18.511000</td>\n",
       "      <td>2021-08-11</td>\n",
       "      <td>8</td>\n",
       "      <td>6</td>\n",
       "      <td>0</td>\n",
       "      <td>199</td>\n",
       "    </tr>\n",
       "    <tr>\n",
       "      <th>4</th>\n",
       "      <td>1</td>\n",
       "      <td>Кира</td>\n",
       "      <td>22</td>\n",
       "      <td>Тюмень</td>\n",
       "      <td>ultra</td>\n",
       "      <td>4028.687306</td>\n",
       "      <td>26.265803</td>\n",
       "      <td>2021-08-28</td>\n",
       "      <td>8</td>\n",
       "      <td>6</td>\n",
       "      <td>0</td>\n",
       "      <td>199</td>\n",
       "    </tr>\n",
       "  </tbody>\n",
       "</table>\n",
       "</div>"
      ],
      "text/plain": [
       "   user_id  name  age    city subscription_type     distance   duration  \\\n",
       "0        1  Кира   22  Тюмень             ultra  4409.919140  25.599769   \n",
       "1        1  Кира   22  Тюмень             ultra  2617.592153  15.816871   \n",
       "2        1  Кира   22  Тюмень             ultra   754.159807   6.232113   \n",
       "3        1  Кира   22  Тюмень             ultra  2694.783254  18.511000   \n",
       "4        1  Кира   22  Тюмень             ultra  4028.687306  26.265803   \n",
       "\n",
       "        date  month_number  minute_price  start_ride_price  subscription_fee  \n",
       "0 2021-01-01             1             6                 0               199  \n",
       "1 2021-01-18             1             6                 0               199  \n",
       "2 2021-04-20             4             6                 0               199  \n",
       "3 2021-08-11             8             6                 0               199  \n",
       "4 2021-08-28             8             6                 0               199  "
      ]
     },
     "execution_count": 28,
     "metadata": {},
     "output_type": "execute_result"
    }
   ],
   "source": [
    "ultra_sub_df = go_df.copy()\n",
    "ultra_sub_df = ultra_sub_df[ultra_sub_df.subscription_type == 'ultra']\n",
    "ultra_sub_df.head()"
   ]
  },
  {
   "cell_type": "markdown",
   "id": "7f78ef37",
   "metadata": {},
   "source": [
    "##### Let's visualise information about distance and travel times for users by city:"
   ]
  },
  {
   "cell_type": "markdown",
   "id": "df5bb686",
   "metadata": {},
   "source": [
    "###### Users without subscription:"
   ]
  },
  {
   "cell_type": "markdown",
   "id": "36e06387",
   "metadata": {},
   "source": [
    "For a better presentation, let's convert metres into tens of metres, and keep the time in minutes:"
   ]
  },
  {
   "cell_type": "code",
   "execution_count": 29,
   "id": "b13bc284",
   "metadata": {},
   "outputs": [
    {
     "data": {
      "image/png": "[encoded data removed]",
      "text/plain": [
       "<Figure size 640x480 with 1 Axes>"
      ]
     },
     "metadata": {},
     "output_type": "display_data"
    }
   ],
   "source": [
    "free_sub_df['distance'] = free_sub_df['distance'] / 100\n",
    "#free_sub_df['duration'] = free_sub_df['duration'] / 60\n",
    "free_sub_df.pivot_table(index=['city'], values=['distance', 'duration'], aggfunc='sum').plot(kind='bar')\n",
    "plt.xticks(rotation=25);"
   ]
  },
  {
   "cell_type": "markdown",
   "id": "23252d52",
   "metadata": {},
   "source": [
    "###### Users with ultra subscription:"
   ]
  },
  {
   "cell_type": "code",
   "execution_count": 30,
   "id": "c4db59b1",
   "metadata": {
    "scrolled": false
   },
   "outputs": [
    {
     "data": {
      "image/png": "[encoded data removed]",
      "text/plain": [
       "<Figure size 640x480 with 1 Axes>"
      ]
     },
     "metadata": {},
     "output_type": "display_data"
    }
   ],
   "source": [
    "ultra_sub_df['distance'] = ultra_sub_df['distance'] / 100\n",
    "#ultra_sub_df['duration'] = ultra_sub_df['duration'] / 60\n",
    "ultra_sub_df.pivot_table(index=['city'], values=['distance', 'duration'], aggfunc='sum').plot(kind='bar')\n",
    "plt.xticks(rotation=25);"
   ]
  },
  {
   "cell_type": "markdown",
   "id": "ed07929c",
   "metadata": {},
   "source": [
    "We can see that the duration of the journey grows proportionally to the increase in distance - everything is logical. However, we also note that the distance covered with a subscription is almost twice less than without a subscription."
   ]
  },
  {
   "cell_type": "markdown",
   "id": "402d620f",
   "metadata": {},
   "source": [
    "#### Revenue calculation"
   ]
  },
  {
   "cell_type": "markdown",
   "id": "abd809fd",
   "metadata": {},
   "source": [
    "First let's round all `duration` values:"
   ]
  },
  {
   "cell_type": "code",
   "execution_count": 31,
   "id": "a0f08ba7",
   "metadata": {},
   "outputs": [],
   "source": [
    "go_df['duration'] = np.ceil(go_df['duration'])"
   ]
  },
  {
   "cell_type": "markdown",
   "id": "7ab0726e",
   "metadata": {},
   "source": [
    "##### Let's create a dataframe with aggregated data (total distance, number of trips, and total time for each user for each month):¶"
   ]
  },
  {
   "cell_type": "code",
   "execution_count": 32,
   "id": "4b696890",
   "metadata": {
    "scrolled": true
   },
   "outputs": [
    {
     "data": {
      "text/html": [
       "<div>\n",
       "<style scoped>\n",
       "    .dataframe tbody tr th:only-of-type {\n",
       "        vertical-align: middle;\n",
       "    }\n",
       "\n",
       "    .dataframe tbody tr th {\n",
       "        vertical-align: top;\n",
       "    }\n",
       "\n",
       "    .dataframe thead th {\n",
       "        text-align: right;\n",
       "    }\n",
       "</style>\n",
       "<table border=\"1\" class=\"dataframe\">\n",
       "  <thead>\n",
       "    <tr style=\"text-align: right;\">\n",
       "      <th></th>\n",
       "      <th></th>\n",
       "      <th></th>\n",
       "      <th>distance_sum</th>\n",
       "      <th>distance_count</th>\n",
       "      <th>duration_sum</th>\n",
       "      <th>minute_price_sum</th>\n",
       "      <th>start_ride_price</th>\n",
       "      <th>subscription_fee</th>\n",
       "    </tr>\n",
       "    <tr>\n",
       "      <th>user_id</th>\n",
       "      <th>month_number</th>\n",
       "      <th>subscription_type</th>\n",
       "      <th></th>\n",
       "      <th></th>\n",
       "      <th></th>\n",
       "      <th></th>\n",
       "      <th></th>\n",
       "      <th></th>\n",
       "    </tr>\n",
       "  </thead>\n",
       "  <tbody>\n",
       "    <tr>\n",
       "      <th rowspan=\"6\" valign=\"top\">1</th>\n",
       "      <th>1</th>\n",
       "      <th>ultra</th>\n",
       "      <td>7027.511294</td>\n",
       "      <td>2</td>\n",
       "      <td>42.0</td>\n",
       "      <td>6</td>\n",
       "      <td>0</td>\n",
       "      <td>199</td>\n",
       "    </tr>\n",
       "    <tr>\n",
       "      <th>4</th>\n",
       "      <th>ultra</th>\n",
       "      <td>754.159807</td>\n",
       "      <td>1</td>\n",
       "      <td>7.0</td>\n",
       "      <td>6</td>\n",
       "      <td>0</td>\n",
       "      <td>199</td>\n",
       "    </tr>\n",
       "    <tr>\n",
       "      <th>8</th>\n",
       "      <th>ultra</th>\n",
       "      <td>6723.470560</td>\n",
       "      <td>2</td>\n",
       "      <td>46.0</td>\n",
       "      <td>6</td>\n",
       "      <td>0</td>\n",
       "      <td>199</td>\n",
       "    </tr>\n",
       "    <tr>\n",
       "      <th>10</th>\n",
       "      <th>ultra</th>\n",
       "      <td>5809.911100</td>\n",
       "      <td>2</td>\n",
       "      <td>32.0</td>\n",
       "      <td>6</td>\n",
       "      <td>0</td>\n",
       "      <td>199</td>\n",
       "    </tr>\n",
       "    <tr>\n",
       "      <th>11</th>\n",
       "      <th>ultra</th>\n",
       "      <td>7003.499363</td>\n",
       "      <td>3</td>\n",
       "      <td>56.0</td>\n",
       "      <td>6</td>\n",
       "      <td>0</td>\n",
       "      <td>199</td>\n",
       "    </tr>\n",
       "    <tr>\n",
       "      <th>12</th>\n",
       "      <th>ultra</th>\n",
       "      <td>6751.629942</td>\n",
       "      <td>2</td>\n",
       "      <td>28.0</td>\n",
       "      <td>6</td>\n",
       "      <td>0</td>\n",
       "      <td>199</td>\n",
       "    </tr>\n",
       "    <tr>\n",
       "      <th rowspan=\"4\" valign=\"top\">2</th>\n",
       "      <th>3</th>\n",
       "      <th>ultra</th>\n",
       "      <td>10187.723006</td>\n",
       "      <td>3</td>\n",
       "      <td>63.0</td>\n",
       "      <td>6</td>\n",
       "      <td>0</td>\n",
       "      <td>199</td>\n",
       "    </tr>\n",
       "    <tr>\n",
       "      <th>4</th>\n",
       "      <th>ultra</th>\n",
       "      <td>6164.381824</td>\n",
       "      <td>2</td>\n",
       "      <td>40.0</td>\n",
       "      <td>6</td>\n",
       "      <td>0</td>\n",
       "      <td>199</td>\n",
       "    </tr>\n",
       "    <tr>\n",
       "      <th>6</th>\n",
       "      <th>ultra</th>\n",
       "      <td>3255.338202</td>\n",
       "      <td>1</td>\n",
       "      <td>14.0</td>\n",
       "      <td>6</td>\n",
       "      <td>0</td>\n",
       "      <td>199</td>\n",
       "    </tr>\n",
       "    <tr>\n",
       "      <th>7</th>\n",
       "      <th>ultra</th>\n",
       "      <td>6780.722964</td>\n",
       "      <td>2</td>\n",
       "      <td>48.0</td>\n",
       "      <td>6</td>\n",
       "      <td>0</td>\n",
       "      <td>199</td>\n",
       "    </tr>\n",
       "  </tbody>\n",
       "</table>\n",
       "</div>"
      ],
      "text/plain": [
       "                                        distance_sum  distance_count  \\\n",
       "user_id month_number subscription_type                                 \n",
       "1       1            ultra               7027.511294               2   \n",
       "        4            ultra                754.159807               1   \n",
       "        8            ultra               6723.470560               2   \n",
       "        10           ultra               5809.911100               2   \n",
       "        11           ultra               7003.499363               3   \n",
       "        12           ultra               6751.629942               2   \n",
       "2       3            ultra              10187.723006               3   \n",
       "        4            ultra               6164.381824               2   \n",
       "        6            ultra               3255.338202               1   \n",
       "        7            ultra               6780.722964               2   \n",
       "\n",
       "                                        duration_sum  minute_price_sum  \\\n",
       "user_id month_number subscription_type                                   \n",
       "1       1            ultra                      42.0                 6   \n",
       "        4            ultra                       7.0                 6   \n",
       "        8            ultra                      46.0                 6   \n",
       "        10           ultra                      32.0                 6   \n",
       "        11           ultra                      56.0                 6   \n",
       "        12           ultra                      28.0                 6   \n",
       "2       3            ultra                      63.0                 6   \n",
       "        4            ultra                      40.0                 6   \n",
       "        6            ultra                      14.0                 6   \n",
       "        7            ultra                      48.0                 6   \n",
       "\n",
       "                                        start_ride_price  subscription_fee  \n",
       "user_id month_number subscription_type                                      \n",
       "1       1            ultra                             0               199  \n",
       "        4            ultra                             0               199  \n",
       "        8            ultra                             0               199  \n",
       "        10           ultra                             0               199  \n",
       "        11           ultra                             0               199  \n",
       "        12           ultra                             0               199  \n",
       "2       3            ultra                             0               199  \n",
       "        4            ultra                             0               199  \n",
       "        6            ultra                             0               199  \n",
       "        7            ultra                             0               199  "
      ]
     },
     "execution_count": 32,
     "metadata": {},
     "output_type": "execute_result"
    }
   ],
   "source": [
    "pivot_go = go_df.groupby(['user_id', 'month_number', 'subscription_type']).agg({'distance':['sum', 'count'], \n",
    "'duration':'sum', 'minute_price':'first', 'start_ride_price':'first', 'subscription_fee':'first'})\n",
    "\n",
    "pivot_go.columns=['distance_sum', 'distance_count', 'duration_sum', 'minute_price_sum', 'start_ride_price', 'subscription_fee']\n",
    "\n",
    "pivot_go.head(10)"
   ]
  },
  {
   "cell_type": "markdown",
   "id": "f32853b2",
   "metadata": {},
   "source": [
    "##### Let's add a column with monthly revenue from each user without subscription:"
   ]
  },
  {
   "cell_type": "markdown",
   "id": "2b975830",
   "metadata": {},
   "source": [
    "Let's check `pivot_go` for missing values:"
   ]
  },
  {
   "cell_type": "code",
   "execution_count": 33,
   "id": "ee86389f",
   "metadata": {},
   "outputs": [
    {
     "name": "stdout",
     "output_type": "stream",
     "text": [
      "<class 'pandas.core.frame.DataFrame'>\n",
      "MultiIndex: 11331 entries, (1, 1, 'ultra') to (1534, 12, 'free')\n",
      "Data columns (total 6 columns):\n",
      " #   Column            Non-Null Count  Dtype  \n",
      "---  ------            --------------  -----  \n",
      " 0   distance_sum      11331 non-null  float64\n",
      " 1   distance_count    11331 non-null  int64  \n",
      " 2   duration_sum      11331 non-null  float64\n",
      " 3   minute_price_sum  11331 non-null  int64  \n",
      " 4   start_ride_price  11331 non-null  int64  \n",
      " 5   subscription_fee  11331 non-null  int64  \n",
      "dtypes: float64(2), int64(4)\n",
      "memory usage: 587.6+ KB\n"
     ]
    }
   ],
   "source": [
    "pivot_go.info()"
   ]
  },
  {
   "cell_type": "code",
   "execution_count": 34,
   "id": "31b7181b",
   "metadata": {
    "scrolled": false
   },
   "outputs": [
    {
     "data": {
      "text/html": [
       "<div>\n",
       "<style scoped>\n",
       "    .dataframe tbody tr th:only-of-type {\n",
       "        vertical-align: middle;\n",
       "    }\n",
       "\n",
       "    .dataframe tbody tr th {\n",
       "        vertical-align: top;\n",
       "    }\n",
       "\n",
       "    .dataframe thead th {\n",
       "        text-align: right;\n",
       "    }\n",
       "</style>\n",
       "<table border=\"1\" class=\"dataframe\">\n",
       "  <thead>\n",
       "    <tr style=\"text-align: right;\">\n",
       "      <th></th>\n",
       "      <th></th>\n",
       "      <th></th>\n",
       "      <th>distance_sum</th>\n",
       "      <th>distance_count</th>\n",
       "      <th>duration_sum</th>\n",
       "      <th>minute_price_sum</th>\n",
       "      <th>start_ride_price</th>\n",
       "      <th>subscription_fee</th>\n",
       "      <th>monthly_revenue</th>\n",
       "    </tr>\n",
       "    <tr>\n",
       "      <th>user_id</th>\n",
       "      <th>month_number</th>\n",
       "      <th>subscription_type</th>\n",
       "      <th></th>\n",
       "      <th></th>\n",
       "      <th></th>\n",
       "      <th></th>\n",
       "      <th></th>\n",
       "      <th></th>\n",
       "      <th></th>\n",
       "    </tr>\n",
       "  </thead>\n",
       "  <tbody>\n",
       "    <tr>\n",
       "      <th rowspan=\"5\" valign=\"top\">1</th>\n",
       "      <th>1</th>\n",
       "      <th>ultra</th>\n",
       "      <td>7027.511294</td>\n",
       "      <td>2</td>\n",
       "      <td>42.0</td>\n",
       "      <td>6</td>\n",
       "      <td>0</td>\n",
       "      <td>199</td>\n",
       "      <td>453.0</td>\n",
       "    </tr>\n",
       "    <tr>\n",
       "      <th>4</th>\n",
       "      <th>ultra</th>\n",
       "      <td>754.159807</td>\n",
       "      <td>1</td>\n",
       "      <td>7.0</td>\n",
       "      <td>6</td>\n",
       "      <td>0</td>\n",
       "      <td>199</td>\n",
       "      <td>242.0</td>\n",
       "    </tr>\n",
       "    <tr>\n",
       "      <th>8</th>\n",
       "      <th>ultra</th>\n",
       "      <td>6723.470560</td>\n",
       "      <td>2</td>\n",
       "      <td>46.0</td>\n",
       "      <td>6</td>\n",
       "      <td>0</td>\n",
       "      <td>199</td>\n",
       "      <td>477.0</td>\n",
       "    </tr>\n",
       "    <tr>\n",
       "      <th>10</th>\n",
       "      <th>ultra</th>\n",
       "      <td>5809.911100</td>\n",
       "      <td>2</td>\n",
       "      <td>32.0</td>\n",
       "      <td>6</td>\n",
       "      <td>0</td>\n",
       "      <td>199</td>\n",
       "      <td>393.0</td>\n",
       "    </tr>\n",
       "    <tr>\n",
       "      <th>11</th>\n",
       "      <th>ultra</th>\n",
       "      <td>7003.499363</td>\n",
       "      <td>3</td>\n",
       "      <td>56.0</td>\n",
       "      <td>6</td>\n",
       "      <td>0</td>\n",
       "      <td>199</td>\n",
       "      <td>538.0</td>\n",
       "    </tr>\n",
       "    <tr>\n",
       "      <th>...</th>\n",
       "      <th>...</th>\n",
       "      <th>...</th>\n",
       "      <td>...</td>\n",
       "      <td>...</td>\n",
       "      <td>...</td>\n",
       "      <td>...</td>\n",
       "      <td>...</td>\n",
       "      <td>...</td>\n",
       "      <td>...</td>\n",
       "    </tr>\n",
       "    <tr>\n",
       "      <th rowspan=\"5\" valign=\"top\">1534</th>\n",
       "      <th>6</th>\n",
       "      <th>free</th>\n",
       "      <td>3409.468534</td>\n",
       "      <td>2</td>\n",
       "      <td>26.0</td>\n",
       "      <td>8</td>\n",
       "      <td>50</td>\n",
       "      <td>0</td>\n",
       "      <td>260.0</td>\n",
       "    </tr>\n",
       "    <tr>\n",
       "      <th>8</th>\n",
       "      <th>free</th>\n",
       "      <td>7622.453034</td>\n",
       "      <td>2</td>\n",
       "      <td>48.0</td>\n",
       "      <td>8</td>\n",
       "      <td>50</td>\n",
       "      <td>0</td>\n",
       "      <td>436.0</td>\n",
       "    </tr>\n",
       "    <tr>\n",
       "      <th>9</th>\n",
       "      <th>free</th>\n",
       "      <td>4928.173852</td>\n",
       "      <td>1</td>\n",
       "      <td>23.0</td>\n",
       "      <td>8</td>\n",
       "      <td>50</td>\n",
       "      <td>0</td>\n",
       "      <td>235.0</td>\n",
       "    </tr>\n",
       "    <tr>\n",
       "      <th>11</th>\n",
       "      <th>free</th>\n",
       "      <td>13350.015305</td>\n",
       "      <td>4</td>\n",
       "      <td>78.0</td>\n",
       "      <td>8</td>\n",
       "      <td>50</td>\n",
       "      <td>0</td>\n",
       "      <td>678.0</td>\n",
       "    </tr>\n",
       "    <tr>\n",
       "      <th>12</th>\n",
       "      <th>free</th>\n",
       "      <td>2371.711192</td>\n",
       "      <td>1</td>\n",
       "      <td>16.0</td>\n",
       "      <td>8</td>\n",
       "      <td>50</td>\n",
       "      <td>0</td>\n",
       "      <td>179.0</td>\n",
       "    </tr>\n",
       "  </tbody>\n",
       "</table>\n",
       "<p>11331 rows × 7 columns</p>\n",
       "</div>"
      ],
      "text/plain": [
       "                                        distance_sum  distance_count  \\\n",
       "user_id month_number subscription_type                                 \n",
       "1       1            ultra               7027.511294               2   \n",
       "        4            ultra                754.159807               1   \n",
       "        8            ultra               6723.470560               2   \n",
       "        10           ultra               5809.911100               2   \n",
       "        11           ultra               7003.499363               3   \n",
       "...                                              ...             ...   \n",
       "1534    6            free                3409.468534               2   \n",
       "        8            free                7622.453034               2   \n",
       "        9            free                4928.173852               1   \n",
       "        11           free               13350.015305               4   \n",
       "        12           free                2371.711192               1   \n",
       "\n",
       "                                        duration_sum  minute_price_sum  \\\n",
       "user_id month_number subscription_type                                   \n",
       "1       1            ultra                      42.0                 6   \n",
       "        4            ultra                       7.0                 6   \n",
       "        8            ultra                      46.0                 6   \n",
       "        10           ultra                      32.0                 6   \n",
       "        11           ultra                      56.0                 6   \n",
       "...                                              ...               ...   \n",
       "1534    6            free                       26.0                 8   \n",
       "        8            free                       48.0                 8   \n",
       "        9            free                       23.0                 8   \n",
       "        11           free                       78.0                 8   \n",
       "        12           free                       16.0                 8   \n",
       "\n",
       "                                        start_ride_price  subscription_fee  \\\n",
       "user_id month_number subscription_type                                       \n",
       "1       1            ultra                             0               199   \n",
       "        4            ultra                             0               199   \n",
       "        8            ultra                             0               199   \n",
       "        10           ultra                             0               199   \n",
       "        11           ultra                             0               199   \n",
       "...                                                  ...               ...   \n",
       "1534    6            free                             50                 0   \n",
       "        8            free                             50                 0   \n",
       "        9            free                             50                 0   \n",
       "        11           free                             50                 0   \n",
       "        12           free                             50                 0   \n",
       "\n",
       "                                        monthly_revenue  \n",
       "user_id month_number subscription_type                   \n",
       "1       1            ultra                        453.0  \n",
       "        4            ultra                        242.0  \n",
       "        8            ultra                        477.0  \n",
       "        10           ultra                        393.0  \n",
       "        11           ultra                        538.0  \n",
       "...                                                 ...  \n",
       "1534    6            free                         260.0  \n",
       "        8            free                         436.0  \n",
       "        9            free                         235.0  \n",
       "        11           free                         678.0  \n",
       "        12           free                         179.0  \n",
       "\n",
       "[11331 rows x 7 columns]"
      ]
     },
     "execution_count": 34,
     "metadata": {},
     "output_type": "execute_result"
    }
   ],
   "source": [
    "pivot_go['monthly_revenue'] = (pivot_go['start_ride_price'] + pivot_go['distance_count']) + \\\n",
    "(pivot_go['minute_price_sum'] * pivot_go['duration_sum']) + pivot_go['subscription_fee']\n",
    "pivot_go"
   ]
  },
  {
   "cell_type": "markdown",
   "id": "8ae39547",
   "metadata": {},
   "source": [
    "Rounded the data in the trip duration column, calculated the monthly revenue from each user."
   ]
  },
  {
   "cell_type": "markdown",
   "id": "41545ac0",
   "metadata": {},
   "source": [
    "#### Hypothesis testing¶"
   ]
  },
  {
   "cell_type": "markdown",
   "id": "8f7b527f",
   "metadata": {},
   "source": [
    "Let's help product managers increase the number of users with subscriptions:"
   ]
  },
  {
   "cell_type": "markdown",
   "id": "95768685",
   "metadata": {},
   "source": [
    "##### Let's test whether users with subscriptions spend more time on rides:"
   ]
  },
  {
   "cell_type": "markdown",
   "id": "23a7ff2f",
   "metadata": {},
   "source": [
    "We make 2 samples, travel time with and without subscription:"
   ]
  },
  {
   "cell_type": "code",
   "execution_count": 35,
   "id": "2332516d",
   "metadata": {},
   "outputs": [
    {
     "data": {
      "text/plain": [
       "6500     15.0\n",
       "6501     17.0\n",
       "6502     21.0\n",
       "6503     10.0\n",
       "6504     18.0\n",
       "         ... \n",
       "18063    20.0\n",
       "18064    22.0\n",
       "18065    19.0\n",
       "18066    17.0\n",
       "18067    16.0\n",
       "Name: duration, Length: 11568, dtype: float64"
      ]
     },
     "execution_count": 35,
     "metadata": {},
     "output_type": "execute_result"
    }
   ],
   "source": [
    "duration_free = go_df['duration'].loc[(go_df['subscription_type'] == 'free')]\n",
    "duration_free"
   ]
  },
  {
   "cell_type": "code",
   "execution_count": 36,
   "id": "d9faf651",
   "metadata": {
    "scrolled": false
   },
   "outputs": [
    {
     "data": {
      "text/plain": [
       "0       26.0\n",
       "1       16.0\n",
       "2        7.0\n",
       "3       19.0\n",
       "4       27.0\n",
       "        ... \n",
       "6495    25.0\n",
       "6496    16.0\n",
       "6497    15.0\n",
       "6498    16.0\n",
       "6499    26.0\n",
       "Name: duration, Length: 6500, dtype: float64"
      ]
     },
     "execution_count": 36,
     "metadata": {},
     "output_type": "execute_result"
    }
   ],
   "source": [
    "duration_ultra = go_df.loc[go_df['subscription_type'] == 'ultra']['duration']\n",
    "duration_ultra"
   ]
  },
  {
   "cell_type": "markdown",
   "id": "1bd9f16b",
   "metadata": {},
   "source": [
    "We assume that the **null hypothesis** is that the time spent by users with and without subscriptions is equal, and the **alternative hypothesis** is that users with subscriptions spend more time than users without subscriptions."
   ]
  },
  {
   "cell_type": "code",
   "execution_count": 37,
   "id": "4e3310bb",
   "metadata": {},
   "outputs": [
    {
     "name": "stdout",
     "output_type": "stream",
     "text": [
      "p-value: 2.4959453720736625e-34\n",
      "Отвергаем нулевую гипотезу\n"
     ]
    }
   ],
   "source": [
    "alpha = 0.05\n",
    "results = st.ttest_ind(duration_ultra, duration_free, alternative='greater')\n",
    "\n",
    "print(f'p-value: {results.pvalue}')\n",
    "\n",
    "if results.pvalue < alpha:\n",
    "    print('Отвергаем нулевую гипотезу')\n",
    "else:\n",
    "    print('Нет оснований отвергнуть нулевую гипотезу')\n"
   ]
  },
  {
   "cell_type": "markdown",
   "id": "aafd15c3",
   "metadata": {},
   "source": [
    "**Summary:**  \n",
    "The hypothesis that the time spent on trips with and without subscriptions are equal does not apply."
   ]
  },
  {
   "cell_type": "markdown",
   "id": "e6e9cf61",
   "metadata": {},
   "source": [
    "##### Let's check if the distance covered by subscription users per trip does not exceed 3130 metres:"
   ]
  },
  {
   "cell_type": "markdown",
   "id": "299a0c6f",
   "metadata": {},
   "source": [
    "Assume that the **null hypothesis** is that the distance of one trip of a user with subscription = 3130 metres, the **alternative** that > 3130 metres."
   ]
  },
  {
   "cell_type": "code",
   "execution_count": 38,
   "id": "5d09ae79",
   "metadata": {},
   "outputs": [
    {
     "name": "stdout",
     "output_type": "stream",
     "text": [
      "p-value: 0.06703136970271892\n",
      "Do not reject the null hypothesis\n"
     ]
    }
   ],
   "source": [
    "ultra_distance = go_df.loc[go_df['subscription_type'] == 'ultra']['distance']\n",
    "\n",
    "max_distance_ultra = 3131\n",
    "\n",
    "alpha = 0.05 \n",
    "\n",
    "results = st.ttest_1samp(\n",
    "    ultra_distance, \n",
    "    max_distance_ultra,\n",
    "      alternative='less')\n",
    "\n",
    "print('p-value:', results.pvalue)\n",
    "\n",
    "if (results.pvalue < alpha):\n",
    "    print('Reject the null hypothesis')\n",
    "else:\n",
    "    print('Do not reject the null hypothesis')"
   ]
  },
  {
   "cell_type": "markdown",
   "id": "03091bef",
   "metadata": {},
   "source": [
    "We do not reject the null hypothesis that users with subscriptions travelled 3130m."
   ]
  },
  {
   "cell_type": "markdown",
   "id": "205ac580",
   "metadata": {},
   "source": [
    "##### Let's test whether the monthly revenue from users with subscription is higher than the revenue from users without subscription:"
   ]
  },
  {
   "cell_type": "markdown",
   "id": "997571c8",
   "metadata": {},
   "source": [
    "Assume that the **null hypothesis** is that revenue from users with and without subscriptions is equal, the **alternative hypothesis** is that users with subscriptions generate more revenue:"
   ]
  },
  {
   "cell_type": "code",
   "execution_count": 39,
   "id": "4ca51c1a",
   "metadata": {},
   "outputs": [
    {
     "name": "stdout",
     "output_type": "stream",
     "text": [
      "p-value: 1.0859176771749763e-176\n",
      "Reject the null hypothesis\n"
     ]
    }
   ],
   "source": [
    "monthly_rev_ultra = pivot_go.query('subscription_type == \"ultra\"')['monthly_revenue']\n",
    "monthly_rev_free = pivot_go.query('subscription_type == \"free\"')['monthly_revenue']\n",
    "\n",
    "alpha = 0.05\n",
    "results = st.ttest_ind(monthly_rev_ultra, monthly_rev_free, alternative='greater')\n",
    "\n",
    "print(f'p-value: {results.pvalue}')\n",
    "\n",
    "if results.pvalue < alpha:\n",
    "    print('Reject the null hypothesis')\n",
    "else:\n",
    "    print('No reason to reject the null hypothesis')\n"
   ]
  },
  {
   "cell_type": "markdown",
   "id": "e45e4b9d",
   "metadata": {},
   "source": [
    "We reject revenue equality. So as a result of the statistical test, the **null hypothesis** is not confirmed and we can accept the **alternative hypothesis** that the average monthly revenue of Ultra subscription users is higher than the average revenue of Free subscription users."
   ]
  },
  {
   "cell_type": "markdown",
   "id": "18515d2f",
   "metadata": {},
   "source": [
    "##### The service's technical team has upgraded the servers with which the mobile application interacts. They hope that, because of this, the number of calls to technical support has significantly decreased. We have a file which have data for each user about the number of calls before and after the update. What test would you need to test this hypothesis? "
   ]
  },
  {
   "cell_type": "markdown",
   "id": "445fbb0a",
   "metadata": {},
   "source": [
    "Since the new and old population for testing will be paired (dependent), we will pass in scipy.stats.ttest_rel the number of hits before and after. The hypothesis is one-sided, since the technical team hopes that the number of calls to tech support has decreased. The null hypothesis will be rejected if the observed value \"moves away\" too much from the expected value in our case downward."
   ]
  },
  {
   "cell_type": "markdown",
   "id": "6dd5c0a4",
   "metadata": {},
   "source": [
    "**General summary:**\n",
    "\n",
    "In this study, we prepared and processed the data: corrected data types, checked blanks, removed duplicates.\n",
    "\n",
    "We added missing data, merged three tables into one for the convenience of calculations for the set tasks, visualised the received information, answered the set questions, worked out the hypotheses.\n",
    "\n",
    "The main conclusions of the hypotheses testing:\n",
    "\n",
    "Time spent on travelling with and without subscription is different, it is necessary to carry out additional research and find out which trips are more numerous. Also we got the data that the length of the trip is different, we cannot say that 3130 m is the minimum distance. Also in the study we worked out a hypothesis about the revenue from users with and without subscription, the revenues are definitely not equal, users with subscription bring more revenue."
   ]
  }
 ],
 "metadata": {
  "ExecuteTimeLog": [
   {
    "duration": 49,
    "start_time": "2023-08-06T18:00:32.635Z"
   },
   {
    "duration": 411,
    "start_time": "2023-08-06T18:00:36.390Z"
   },
   {
    "duration": 91,
    "start_time": "2023-08-06T18:01:13.271Z"
   },
   {
    "duration": 89,
    "start_time": "2023-08-06T18:01:18.830Z"
   },
   {
    "duration": 61,
    "start_time": "2023-08-06T18:01:19.814Z"
   },
   {
    "duration": 16,
    "start_time": "2023-08-06T18:02:30.454Z"
   },
   {
    "duration": 11,
    "start_time": "2023-08-06T18:02:40.125Z"
   },
   {
    "duration": 12,
    "start_time": "2023-08-06T18:03:29.376Z"
   },
   {
    "duration": 12,
    "start_time": "2023-08-06T18:03:44.274Z"
   },
   {
    "duration": 15,
    "start_time": "2023-08-06T18:04:14.290Z"
   },
   {
    "duration": 20,
    "start_time": "2023-08-06T18:05:15.367Z"
   },
   {
    "duration": 17,
    "start_time": "2023-08-06T18:05:33.086Z"
   },
   {
    "duration": 7,
    "start_time": "2023-08-06T18:25:13.010Z"
   },
   {
    "duration": 12,
    "start_time": "2023-08-06T18:25:38.073Z"
   },
   {
    "duration": 10,
    "start_time": "2023-08-06T18:25:48.173Z"
   },
   {
    "duration": 27,
    "start_time": "2023-08-06T18:30:08.832Z"
   },
   {
    "duration": 8,
    "start_time": "2023-08-06T18:30:43.613Z"
   },
   {
    "duration": 17,
    "start_time": "2023-08-06T18:38:59.410Z"
   },
   {
    "duration": 15,
    "start_time": "2023-08-06T18:39:12.458Z"
   },
   {
    "duration": 43,
    "start_time": "2023-08-06T18:46:32.280Z"
   },
   {
    "duration": 42,
    "start_time": "2023-08-06T18:46:38.869Z"
   },
   {
    "duration": 6,
    "start_time": "2023-08-06T18:49:08.860Z"
   },
   {
    "duration": 11,
    "start_time": "2023-08-06T18:51:13.282Z"
   },
   {
    "duration": 13,
    "start_time": "2023-08-06T18:51:36.676Z"
   },
   {
    "duration": 2,
    "start_time": "2023-08-06T18:51:45.585Z"
   },
   {
    "duration": 60,
    "start_time": "2023-08-06T18:51:45.590Z"
   },
   {
    "duration": 14,
    "start_time": "2023-08-06T18:51:45.652Z"
   },
   {
    "duration": 17,
    "start_time": "2023-08-06T18:51:45.668Z"
   },
   {
    "duration": 32,
    "start_time": "2023-08-06T18:51:45.687Z"
   },
   {
    "duration": 11,
    "start_time": "2023-08-06T18:51:45.721Z"
   },
   {
    "duration": 20,
    "start_time": "2023-08-06T18:51:45.734Z"
   },
   {
    "duration": 20,
    "start_time": "2023-08-06T18:51:45.756Z"
   },
   {
    "duration": 10,
    "start_time": "2023-08-06T18:51:45.778Z"
   },
   {
    "duration": 36,
    "start_time": "2023-08-06T18:51:45.790Z"
   },
   {
    "duration": 11,
    "start_time": "2023-08-06T18:51:45.828Z"
   },
   {
    "duration": 17,
    "start_time": "2023-08-06T18:51:45.841Z"
   },
   {
    "duration": 13,
    "start_time": "2023-08-06T18:51:45.860Z"
   },
   {
    "duration": 11,
    "start_time": "2023-08-06T18:51:45.876Z"
   },
   {
    "duration": 16,
    "start_time": "2023-08-06T18:52:00.630Z"
   },
   {
    "duration": 942,
    "start_time": "2023-08-06T19:04:00.502Z"
   },
   {
    "duration": 44,
    "start_time": "2023-08-06T19:05:43.597Z"
   },
   {
    "duration": 25,
    "start_time": "2023-08-06T19:06:04.057Z"
   },
   {
    "duration": 2,
    "start_time": "2023-08-06T19:06:08.395Z"
   },
   {
    "duration": 37,
    "start_time": "2023-08-06T19:06:08.402Z"
   },
   {
    "duration": 11,
    "start_time": "2023-08-06T19:06:08.441Z"
   },
   {
    "duration": 16,
    "start_time": "2023-08-06T19:06:08.454Z"
   },
   {
    "duration": 32,
    "start_time": "2023-08-06T19:06:08.472Z"
   },
   {
    "duration": 11,
    "start_time": "2023-08-06T19:06:08.506Z"
   },
   {
    "duration": 18,
    "start_time": "2023-08-06T19:06:08.518Z"
   },
   {
    "duration": 20,
    "start_time": "2023-08-06T19:06:08.538Z"
   },
   {
    "duration": 10,
    "start_time": "2023-08-06T19:06:08.561Z"
   },
   {
    "duration": 39,
    "start_time": "2023-08-06T19:06:08.573Z"
   },
   {
    "duration": 9,
    "start_time": "2023-08-06T19:06:08.614Z"
   },
   {
    "duration": 11,
    "start_time": "2023-08-06T19:06:08.625Z"
   },
   {
    "duration": 16,
    "start_time": "2023-08-06T19:06:08.638Z"
   },
   {
    "duration": 7,
    "start_time": "2023-08-06T19:06:08.656Z"
   },
   {
    "duration": 57,
    "start_time": "2023-08-06T19:06:08.665Z"
   },
   {
    "duration": 25,
    "start_time": "2023-08-06T19:07:18.226Z"
   },
   {
    "duration": 1283,
    "start_time": "2023-08-06T19:07:39.427Z"
   },
   {
    "duration": 3,
    "start_time": "2023-08-06T19:07:45.620Z"
   },
   {
    "duration": 126,
    "start_time": "2023-08-06T19:07:45.634Z"
   },
   {
    "duration": 31,
    "start_time": "2023-08-06T19:07:45.762Z"
   },
   {
    "duration": 95,
    "start_time": "2023-08-06T19:07:45.795Z"
   },
   {
    "duration": 62,
    "start_time": "2023-08-06T19:07:45.893Z"
   },
   {
    "duration": 13,
    "start_time": "2023-08-06T19:07:45.957Z"
   },
   {
    "duration": 31,
    "start_time": "2023-08-06T19:07:45.972Z"
   },
   {
    "duration": 27,
    "start_time": "2023-08-06T19:07:46.004Z"
   },
   {
    "duration": 10,
    "start_time": "2023-08-06T19:07:46.032Z"
   },
   {
    "duration": 25,
    "start_time": "2023-08-06T19:07:46.044Z"
   },
   {
    "duration": 22,
    "start_time": "2023-08-06T19:07:46.071Z"
   },
   {
    "duration": 29,
    "start_time": "2023-08-06T19:07:46.094Z"
   },
   {
    "duration": 31,
    "start_time": "2023-08-06T19:07:46.125Z"
   },
   {
    "duration": 41,
    "start_time": "2023-08-06T19:07:46.157Z"
   },
   {
    "duration": 1286,
    "start_time": "2023-08-06T19:07:46.200Z"
   },
   {
    "duration": 1400,
    "start_time": "2023-08-06T19:08:20.401Z"
   },
   {
    "duration": 125,
    "start_time": "2023-08-06T19:08:36.984Z"
   },
   {
    "duration": 4,
    "start_time": "2023-08-06T19:08:54.586Z"
   },
   {
    "duration": 14,
    "start_time": "2023-08-06T19:09:13.788Z"
   },
   {
    "duration": 7,
    "start_time": "2023-08-06T19:09:21.001Z"
   },
   {
    "duration": 127,
    "start_time": "2023-08-06T19:09:53.704Z"
   },
   {
    "duration": 150,
    "start_time": "2023-08-06T19:10:05.785Z"
   },
   {
    "duration": 1484,
    "start_time": "2023-08-06T19:10:14.869Z"
   },
   {
    "duration": 131,
    "start_time": "2023-08-06T19:10:47.821Z"
   },
   {
    "duration": 142,
    "start_time": "2023-08-06T19:11:02.820Z"
   },
   {
    "duration": 229,
    "start_time": "2023-08-06T19:12:21.469Z"
   },
   {
    "duration": 134,
    "start_time": "2023-08-06T19:12:29.667Z"
   },
   {
    "duration": 7,
    "start_time": "2023-08-06T19:14:12.477Z"
   },
   {
    "duration": 6,
    "start_time": "2023-08-06T19:32:45.421Z"
   },
   {
    "duration": 90,
    "start_time": "2023-08-06T19:32:56.537Z"
   },
   {
    "duration": 1286,
    "start_time": "2023-08-06T19:39:47.757Z"
   },
   {
    "duration": 1287,
    "start_time": "2023-08-06T19:39:57.070Z"
   },
   {
    "duration": 18,
    "start_time": "2023-08-06T19:40:05.573Z"
   },
   {
    "duration": 18,
    "start_time": "2023-08-06T19:40:21.410Z"
   },
   {
    "duration": 3,
    "start_time": "2023-08-06T19:40:27.722Z"
   },
   {
    "duration": 39,
    "start_time": "2023-08-06T19:40:27.727Z"
   },
   {
    "duration": 10,
    "start_time": "2023-08-06T19:40:27.768Z"
   },
   {
    "duration": 17,
    "start_time": "2023-08-06T19:40:27.780Z"
   },
   {
    "duration": 32,
    "start_time": "2023-08-06T19:40:27.799Z"
   },
   {
    "duration": 10,
    "start_time": "2023-08-06T19:40:27.833Z"
   },
   {
    "duration": 19,
    "start_time": "2023-08-06T19:40:27.845Z"
   },
   {
    "duration": 20,
    "start_time": "2023-08-06T19:40:27.865Z"
   },
   {
    "duration": 10,
    "start_time": "2023-08-06T19:40:27.886Z"
   },
   {
    "duration": 24,
    "start_time": "2023-08-06T19:40:27.897Z"
   },
   {
    "duration": 12,
    "start_time": "2023-08-06T19:40:27.924Z"
   },
   {
    "duration": 12,
    "start_time": "2023-08-06T19:40:27.937Z"
   },
   {
    "duration": 16,
    "start_time": "2023-08-06T19:40:27.950Z"
   },
   {
    "duration": 6,
    "start_time": "2023-08-06T19:40:27.968Z"
   },
   {
    "duration": 161,
    "start_time": "2023-08-06T19:40:27.976Z"
   },
   {
    "duration": 107,
    "start_time": "2023-08-06T19:40:28.139Z"
   },
   {
    "duration": 17,
    "start_time": "2023-08-06T19:40:28.248Z"
   },
   {
    "duration": 100,
    "start_time": "2023-08-06T19:40:41.772Z"
   },
   {
    "duration": 3,
    "start_time": "2023-08-06T19:52:26.144Z"
   },
   {
    "duration": 64,
    "start_time": "2023-08-06T19:52:26.148Z"
   },
   {
    "duration": 12,
    "start_time": "2023-08-06T19:52:26.214Z"
   },
   {
    "duration": 37,
    "start_time": "2023-08-06T19:52:26.228Z"
   },
   {
    "duration": 44,
    "start_time": "2023-08-06T19:52:26.267Z"
   },
   {
    "duration": 13,
    "start_time": "2023-08-06T19:52:26.313Z"
   },
   {
    "duration": 57,
    "start_time": "2023-08-06T19:52:26.328Z"
   },
   {
    "duration": 20,
    "start_time": "2023-08-06T19:52:26.387Z"
   },
   {
    "duration": 10,
    "start_time": "2023-08-06T19:52:26.410Z"
   },
   {
    "duration": 40,
    "start_time": "2023-08-06T19:52:26.421Z"
   },
   {
    "duration": 22,
    "start_time": "2023-08-06T19:52:26.463Z"
   },
   {
    "duration": 50,
    "start_time": "2023-08-06T19:52:26.487Z"
   },
   {
    "duration": 31,
    "start_time": "2023-08-06T19:52:26.539Z"
   },
   {
    "duration": 9,
    "start_time": "2023-08-06T19:52:26.572Z"
   },
   {
    "duration": 146,
    "start_time": "2023-08-06T19:52:26.583Z"
   },
   {
    "duration": 112,
    "start_time": "2023-08-06T19:52:26.730Z"
   },
   {
    "duration": 0,
    "start_time": "2023-08-06T19:52:47.835Z"
   },
   {
    "duration": 0,
    "start_time": "2023-08-06T19:52:47.836Z"
   },
   {
    "duration": 0,
    "start_time": "2023-08-06T19:52:47.837Z"
   },
   {
    "duration": 0,
    "start_time": "2023-08-06T19:52:47.839Z"
   },
   {
    "duration": 0,
    "start_time": "2023-08-06T19:52:47.840Z"
   },
   {
    "duration": 0,
    "start_time": "2023-08-06T19:52:47.842Z"
   },
   {
    "duration": 0,
    "start_time": "2023-08-06T19:52:47.843Z"
   },
   {
    "duration": 0,
    "start_time": "2023-08-06T19:52:47.844Z"
   },
   {
    "duration": 0,
    "start_time": "2023-08-06T19:52:47.846Z"
   },
   {
    "duration": 0,
    "start_time": "2023-08-06T19:52:47.847Z"
   },
   {
    "duration": 0,
    "start_time": "2023-08-06T19:52:47.848Z"
   },
   {
    "duration": 0,
    "start_time": "2023-08-06T19:52:47.850Z"
   },
   {
    "duration": 0,
    "start_time": "2023-08-06T19:52:47.916Z"
   },
   {
    "duration": 0,
    "start_time": "2023-08-06T19:52:47.917Z"
   },
   {
    "duration": 0,
    "start_time": "2023-08-06T19:52:47.918Z"
   },
   {
    "duration": 0,
    "start_time": "2023-08-06T19:52:47.919Z"
   },
   {
    "duration": 0,
    "start_time": "2023-08-06T19:52:47.921Z"
   },
   {
    "duration": 3,
    "start_time": "2023-08-06T19:53:19.282Z"
   },
   {
    "duration": 50,
    "start_time": "2023-08-06T19:53:19.287Z"
   },
   {
    "duration": 10,
    "start_time": "2023-08-06T19:53:19.338Z"
   },
   {
    "duration": 22,
    "start_time": "2023-08-06T19:53:19.350Z"
   },
   {
    "duration": 58,
    "start_time": "2023-08-06T19:53:19.374Z"
   },
   {
    "duration": 17,
    "start_time": "2023-08-06T19:53:19.434Z"
   },
   {
    "duration": 23,
    "start_time": "2023-08-06T19:53:19.453Z"
   },
   {
    "duration": 20,
    "start_time": "2023-08-06T19:53:19.478Z"
   },
   {
    "duration": 13,
    "start_time": "2023-08-06T19:53:19.500Z"
   },
   {
    "duration": 22,
    "start_time": "2023-08-06T19:53:19.515Z"
   },
   {
    "duration": 18,
    "start_time": "2023-08-06T19:53:19.539Z"
   },
   {
    "duration": 22,
    "start_time": "2023-08-06T19:53:19.559Z"
   },
   {
    "duration": 17,
    "start_time": "2023-08-06T19:53:19.583Z"
   },
   {
    "duration": 6,
    "start_time": "2023-08-06T19:53:19.603Z"
   },
   {
    "duration": 142,
    "start_time": "2023-08-06T19:53:19.611Z"
   },
   {
    "duration": 109,
    "start_time": "2023-08-06T19:53:19.755Z"
   },
   {
    "duration": 10,
    "start_time": "2023-08-06T19:53:19.866Z"
   },
   {
    "duration": 3,
    "start_time": "2023-08-06T19:53:49.682Z"
   },
   {
    "duration": 66,
    "start_time": "2023-08-06T19:53:49.687Z"
   },
   {
    "duration": 10,
    "start_time": "2023-08-06T19:53:49.756Z"
   },
   {
    "duration": 61,
    "start_time": "2023-08-06T19:53:49.768Z"
   },
   {
    "duration": 38,
    "start_time": "2023-08-06T19:53:49.831Z"
   },
   {
    "duration": 10,
    "start_time": "2023-08-06T19:53:49.870Z"
   },
   {
    "duration": 18,
    "start_time": "2023-08-06T19:53:49.882Z"
   },
   {
    "duration": 28,
    "start_time": "2023-08-06T19:53:49.902Z"
   },
   {
    "duration": 9,
    "start_time": "2023-08-06T19:53:49.932Z"
   },
   {
    "duration": 45,
    "start_time": "2023-08-06T19:53:49.942Z"
   },
   {
    "duration": 10,
    "start_time": "2023-08-06T19:53:49.989Z"
   },
   {
    "duration": 12,
    "start_time": "2023-08-06T19:53:50.001Z"
   },
   {
    "duration": 14,
    "start_time": "2023-08-06T19:53:50.015Z"
   },
   {
    "duration": 6,
    "start_time": "2023-08-06T19:53:50.031Z"
   },
   {
    "duration": 151,
    "start_time": "2023-08-06T19:53:50.039Z"
   },
   {
    "duration": 21062,
    "start_time": "2023-08-06T19:54:11.627Z"
   },
   {
    "duration": 2,
    "start_time": "2023-08-06T19:54:33.791Z"
   },
   {
    "duration": 37,
    "start_time": "2023-08-06T19:54:33.795Z"
   },
   {
    "duration": 9,
    "start_time": "2023-08-06T19:54:33.834Z"
   },
   {
    "duration": 19,
    "start_time": "2023-08-06T19:54:33.845Z"
   },
   {
    "duration": 31,
    "start_time": "2023-08-06T19:54:33.865Z"
   },
   {
    "duration": 13,
    "start_time": "2023-08-06T19:54:33.898Z"
   },
   {
    "duration": 24,
    "start_time": "2023-08-06T19:54:33.912Z"
   },
   {
    "duration": 19,
    "start_time": "2023-08-06T19:54:33.938Z"
   },
   {
    "duration": 9,
    "start_time": "2023-08-06T19:54:33.959Z"
   },
   {
    "duration": 21,
    "start_time": "2023-08-06T19:54:33.970Z"
   },
   {
    "duration": 16,
    "start_time": "2023-08-06T19:54:33.993Z"
   },
   {
    "duration": 16,
    "start_time": "2023-08-06T19:54:34.011Z"
   },
   {
    "duration": 18,
    "start_time": "2023-08-06T19:54:34.029Z"
   },
   {
    "duration": 4,
    "start_time": "2023-08-06T19:54:34.049Z"
   },
   {
    "duration": 142,
    "start_time": "2023-08-06T19:54:34.055Z"
   },
   {
    "duration": 95,
    "start_time": "2023-08-06T19:54:34.199Z"
   },
   {
    "duration": 96,
    "start_time": "2023-08-06T20:03:43.691Z"
   },
   {
    "duration": 240,
    "start_time": "2023-08-06T20:04:41.779Z"
   },
   {
    "duration": 144,
    "start_time": "2023-08-06T20:05:05.696Z"
   },
   {
    "duration": 108,
    "start_time": "2023-08-06T20:05:14.584Z"
   },
   {
    "duration": 230,
    "start_time": "2023-08-06T20:05:48.686Z"
   },
   {
    "duration": 240,
    "start_time": "2023-08-06T20:06:03.593Z"
   },
   {
    "duration": 240,
    "start_time": "2023-08-06T20:06:09.833Z"
   },
   {
    "duration": 254,
    "start_time": "2023-08-06T20:06:20.868Z"
   },
   {
    "duration": 242,
    "start_time": "2023-08-06T20:08:57.768Z"
   },
   {
    "duration": 83,
    "start_time": "2023-08-06T20:12:34.665Z"
   },
   {
    "duration": 82,
    "start_time": "2023-08-06T20:13:01.279Z"
   },
   {
    "duration": 271,
    "start_time": "2023-08-06T20:13:11.088Z"
   },
   {
    "duration": 284,
    "start_time": "2023-08-06T20:14:36.284Z"
   },
   {
    "duration": 763,
    "start_time": "2023-08-06T20:14:48.465Z"
   },
   {
    "duration": 4,
    "start_time": "2023-08-06T20:15:17.683Z"
   },
   {
    "duration": 46,
    "start_time": "2023-08-06T20:15:17.689Z"
   },
   {
    "duration": 14,
    "start_time": "2023-08-06T20:15:17.737Z"
   },
   {
    "duration": 25,
    "start_time": "2023-08-06T20:15:17.753Z"
   },
   {
    "duration": 34,
    "start_time": "2023-08-06T20:15:17.781Z"
   },
   {
    "duration": 12,
    "start_time": "2023-08-06T20:15:17.816Z"
   },
   {
    "duration": 20,
    "start_time": "2023-08-06T20:15:17.830Z"
   },
   {
    "duration": 21,
    "start_time": "2023-08-06T20:15:17.851Z"
   },
   {
    "duration": 10,
    "start_time": "2023-08-06T20:15:17.874Z"
   },
   {
    "duration": 34,
    "start_time": "2023-08-06T20:15:17.886Z"
   },
   {
    "duration": 7,
    "start_time": "2023-08-06T20:15:17.925Z"
   },
   {
    "duration": 16,
    "start_time": "2023-08-06T20:15:17.934Z"
   },
   {
    "duration": 15,
    "start_time": "2023-08-06T20:15:17.952Z"
   },
   {
    "duration": 6,
    "start_time": "2023-08-06T20:15:17.969Z"
   },
   {
    "duration": 179,
    "start_time": "2023-08-06T20:15:17.977Z"
   },
   {
    "duration": 111,
    "start_time": "2023-08-06T20:15:18.158Z"
   },
   {
    "duration": 251,
    "start_time": "2023-08-06T20:15:18.271Z"
   },
   {
    "duration": 299,
    "start_time": "2023-08-06T20:15:18.523Z"
   },
   {
    "duration": 300,
    "start_time": "2023-08-06T20:15:28.084Z"
   },
   {
    "duration": 3,
    "start_time": "2023-08-06T20:15:31.203Z"
   },
   {
    "duration": 66,
    "start_time": "2023-08-06T20:15:31.215Z"
   },
   {
    "duration": 21,
    "start_time": "2023-08-06T20:15:31.283Z"
   },
   {
    "duration": 61,
    "start_time": "2023-08-06T20:15:31.306Z"
   },
   {
    "duration": 84,
    "start_time": "2023-08-06T20:15:31.369Z"
   },
   {
    "duration": 44,
    "start_time": "2023-08-06T20:15:31.455Z"
   },
   {
    "duration": 52,
    "start_time": "2023-08-06T20:15:31.502Z"
   },
   {
    "duration": 24,
    "start_time": "2023-08-06T20:15:31.556Z"
   },
   {
    "duration": 11,
    "start_time": "2023-08-06T20:15:31.581Z"
   },
   {
    "duration": 23,
    "start_time": "2023-08-06T20:15:31.594Z"
   },
   {
    "duration": 23,
    "start_time": "2023-08-06T20:15:31.619Z"
   },
   {
    "duration": 19,
    "start_time": "2023-08-06T20:15:31.644Z"
   },
   {
    "duration": 30,
    "start_time": "2023-08-06T20:15:31.665Z"
   },
   {
    "duration": 5,
    "start_time": "2023-08-06T20:15:31.697Z"
   },
   {
    "duration": 154,
    "start_time": "2023-08-06T20:15:31.704Z"
   },
   {
    "duration": 110,
    "start_time": "2023-08-06T20:15:31.860Z"
   },
   {
    "duration": 269,
    "start_time": "2023-08-06T20:15:31.972Z"
   },
   {
    "duration": 339,
    "start_time": "2023-08-06T20:15:32.243Z"
   },
   {
    "duration": 150,
    "start_time": "2023-08-06T20:15:43.725Z"
   },
   {
    "duration": 2,
    "start_time": "2023-08-06T20:15:46.871Z"
   },
   {
    "duration": 65,
    "start_time": "2023-08-06T20:15:46.876Z"
   },
   {
    "duration": 11,
    "start_time": "2023-08-06T20:15:46.943Z"
   },
   {
    "duration": 28,
    "start_time": "2023-08-06T20:15:46.956Z"
   },
   {
    "duration": 33,
    "start_time": "2023-08-06T20:15:46.987Z"
   },
   {
    "duration": 11,
    "start_time": "2023-08-06T20:15:47.022Z"
   },
   {
    "duration": 17,
    "start_time": "2023-08-06T20:15:47.035Z"
   },
   {
    "duration": 20,
    "start_time": "2023-08-06T20:15:47.054Z"
   },
   {
    "duration": 10,
    "start_time": "2023-08-06T20:15:47.076Z"
   },
   {
    "duration": 35,
    "start_time": "2023-08-06T20:15:47.087Z"
   },
   {
    "duration": 43,
    "start_time": "2023-08-06T20:15:47.123Z"
   },
   {
    "duration": 12,
    "start_time": "2023-08-06T20:15:47.168Z"
   },
   {
    "duration": 14,
    "start_time": "2023-08-06T20:15:47.181Z"
   },
   {
    "duration": 5,
    "start_time": "2023-08-06T20:15:47.197Z"
   },
   {
    "duration": 153,
    "start_time": "2023-08-06T20:15:47.204Z"
   },
   {
    "duration": 100,
    "start_time": "2023-08-06T20:15:47.359Z"
   },
   {
    "duration": 260,
    "start_time": "2023-08-06T20:15:47.460Z"
   },
   {
    "duration": 163,
    "start_time": "2023-08-06T20:15:47.722Z"
   },
   {
    "duration": 145,
    "start_time": "2023-08-06T20:16:28.073Z"
   },
   {
    "duration": 3,
    "start_time": "2023-08-06T20:16:39.851Z"
   },
   {
    "duration": 38,
    "start_time": "2023-08-06T20:16:39.856Z"
   },
   {
    "duration": 11,
    "start_time": "2023-08-06T20:16:39.895Z"
   },
   {
    "duration": 19,
    "start_time": "2023-08-06T20:16:39.907Z"
   },
   {
    "duration": 33,
    "start_time": "2023-08-06T20:16:39.928Z"
   },
   {
    "duration": 12,
    "start_time": "2023-08-06T20:16:39.963Z"
   },
   {
    "duration": 25,
    "start_time": "2023-08-06T20:16:39.976Z"
   },
   {
    "duration": 33,
    "start_time": "2023-08-06T20:16:40.003Z"
   },
   {
    "duration": 19,
    "start_time": "2023-08-06T20:16:40.037Z"
   },
   {
    "duration": 22,
    "start_time": "2023-08-06T20:16:40.058Z"
   },
   {
    "duration": 14,
    "start_time": "2023-08-06T20:16:40.082Z"
   },
   {
    "duration": 16,
    "start_time": "2023-08-06T20:16:40.097Z"
   },
   {
    "duration": 37,
    "start_time": "2023-08-06T20:16:40.116Z"
   },
   {
    "duration": 5,
    "start_time": "2023-08-06T20:16:40.155Z"
   },
   {
    "duration": 139,
    "start_time": "2023-08-06T20:16:40.161Z"
   },
   {
    "duration": 112,
    "start_time": "2023-08-06T20:16:40.302Z"
   },
   {
    "duration": 243,
    "start_time": "2023-08-06T20:16:40.415Z"
   },
   {
    "duration": 160,
    "start_time": "2023-08-06T20:16:40.660Z"
   },
   {
    "duration": 1320,
    "start_time": "2023-08-07T07:07:26.165Z"
   },
   {
    "duration": 94,
    "start_time": "2023-08-07T07:07:27.488Z"
   },
   {
    "duration": 12,
    "start_time": "2023-08-07T07:07:27.584Z"
   },
   {
    "duration": 31,
    "start_time": "2023-08-07T07:07:27.598Z"
   },
   {
    "duration": 100,
    "start_time": "2023-08-07T07:07:27.631Z"
   },
   {
    "duration": 12,
    "start_time": "2023-08-07T07:07:27.733Z"
   },
   {
    "duration": 55,
    "start_time": "2023-08-07T07:07:27.747Z"
   },
   {
    "duration": 59,
    "start_time": "2023-08-07T07:07:27.804Z"
   },
   {
    "duration": 13,
    "start_time": "2023-08-07T07:07:27.865Z"
   },
   {
    "duration": 19,
    "start_time": "2023-08-07T07:07:27.881Z"
   },
   {
    "duration": 16,
    "start_time": "2023-08-07T07:07:27.901Z"
   },
   {
    "duration": 16,
    "start_time": "2023-08-07T07:07:27.918Z"
   },
   {
    "duration": 14,
    "start_time": "2023-08-07T07:07:27.936Z"
   },
   {
    "duration": 4,
    "start_time": "2023-08-07T07:07:27.952Z"
   },
   {
    "duration": 160,
    "start_time": "2023-08-07T07:07:27.958Z"
   },
   {
    "duration": 111,
    "start_time": "2023-08-07T07:07:28.120Z"
   },
   {
    "duration": 243,
    "start_time": "2023-08-07T07:07:28.233Z"
   },
   {
    "duration": 178,
    "start_time": "2023-08-07T07:07:28.478Z"
   },
   {
    "duration": 3,
    "start_time": "2023-08-07T07:16:15.891Z"
   },
   {
    "duration": 135,
    "start_time": "2023-08-07T07:16:15.905Z"
   },
   {
    "duration": 10,
    "start_time": "2023-08-07T07:16:16.042Z"
   },
   {
    "duration": 38,
    "start_time": "2023-08-07T07:16:16.054Z"
   },
   {
    "duration": 66,
    "start_time": "2023-08-07T07:16:16.094Z"
   },
   {
    "duration": 12,
    "start_time": "2023-08-07T07:16:16.163Z"
   },
   {
    "duration": 46,
    "start_time": "2023-08-07T07:16:16.177Z"
   },
   {
    "duration": 40,
    "start_time": "2023-08-07T07:16:16.226Z"
   },
   {
    "duration": 102,
    "start_time": "2023-08-07T07:16:16.267Z"
   },
   {
    "duration": 43,
    "start_time": "2023-08-07T07:16:16.371Z"
   },
   {
    "duration": 58,
    "start_time": "2023-08-07T07:16:16.416Z"
   },
   {
    "duration": 18,
    "start_time": "2023-08-07T07:16:16.476Z"
   },
   {
    "duration": 33,
    "start_time": "2023-08-07T07:16:16.495Z"
   },
   {
    "duration": 5,
    "start_time": "2023-08-07T07:16:16.530Z"
   },
   {
    "duration": 166,
    "start_time": "2023-08-07T07:16:16.538Z"
   },
   {
    "duration": 146,
    "start_time": "2023-08-07T07:16:16.706Z"
   },
   {
    "duration": 259,
    "start_time": "2023-08-07T07:16:16.854Z"
   },
   {
    "duration": 253,
    "start_time": "2023-08-07T07:16:17.115Z"
   },
   {
    "duration": 140,
    "start_time": "2023-08-07T07:16:30.839Z"
   },
   {
    "duration": 3,
    "start_time": "2023-08-07T07:16:34.363Z"
   },
   {
    "duration": 53,
    "start_time": "2023-08-07T07:16:34.369Z"
   },
   {
    "duration": 11,
    "start_time": "2023-08-07T07:16:34.423Z"
   },
   {
    "duration": 49,
    "start_time": "2023-08-07T07:16:34.436Z"
   },
   {
    "duration": 56,
    "start_time": "2023-08-07T07:16:34.487Z"
   },
   {
    "duration": 16,
    "start_time": "2023-08-07T07:16:34.544Z"
   },
   {
    "duration": 28,
    "start_time": "2023-08-07T07:16:34.562Z"
   },
   {
    "duration": 52,
    "start_time": "2023-08-07T07:16:34.591Z"
   },
   {
    "duration": 26,
    "start_time": "2023-08-07T07:16:34.645Z"
   },
   {
    "duration": 40,
    "start_time": "2023-08-07T07:16:34.673Z"
   },
   {
    "duration": 42,
    "start_time": "2023-08-07T07:16:34.715Z"
   },
   {
    "duration": 41,
    "start_time": "2023-08-07T07:16:34.760Z"
   },
   {
    "duration": 43,
    "start_time": "2023-08-07T07:16:34.803Z"
   },
   {
    "duration": 13,
    "start_time": "2023-08-07T07:16:34.849Z"
   },
   {
    "duration": 172,
    "start_time": "2023-08-07T07:16:34.864Z"
   },
   {
    "duration": 99,
    "start_time": "2023-08-07T07:16:35.038Z"
   },
   {
    "duration": 280,
    "start_time": "2023-08-07T07:16:35.139Z"
   },
   {
    "duration": 163,
    "start_time": "2023-08-07T07:16:35.420Z"
   },
   {
    "duration": 144,
    "start_time": "2023-08-07T07:16:42.398Z"
   },
   {
    "duration": 4,
    "start_time": "2023-08-07T07:16:45.670Z"
   },
   {
    "duration": 87,
    "start_time": "2023-08-07T07:16:45.676Z"
   },
   {
    "duration": 13,
    "start_time": "2023-08-07T07:16:45.765Z"
   },
   {
    "duration": 39,
    "start_time": "2023-08-07T07:16:45.780Z"
   },
   {
    "duration": 54,
    "start_time": "2023-08-07T07:16:45.821Z"
   },
   {
    "duration": 11,
    "start_time": "2023-08-07T07:16:45.877Z"
   },
   {
    "duration": 42,
    "start_time": "2023-08-07T07:16:45.890Z"
   },
   {
    "duration": 47,
    "start_time": "2023-08-07T07:16:45.934Z"
   },
   {
    "duration": 28,
    "start_time": "2023-08-07T07:16:45.983Z"
   },
   {
    "duration": 61,
    "start_time": "2023-08-07T07:16:46.013Z"
   },
   {
    "duration": 52,
    "start_time": "2023-08-07T07:16:46.076Z"
   },
   {
    "duration": 49,
    "start_time": "2023-08-07T07:16:46.130Z"
   },
   {
    "duration": 37,
    "start_time": "2023-08-07T07:16:46.181Z"
   },
   {
    "duration": 21,
    "start_time": "2023-08-07T07:16:46.220Z"
   },
   {
    "duration": 191,
    "start_time": "2023-08-07T07:16:46.243Z"
   },
   {
    "duration": 100,
    "start_time": "2023-08-07T07:16:46.436Z"
   },
   {
    "duration": 256,
    "start_time": "2023-08-07T07:16:46.538Z"
   },
   {
    "duration": 232,
    "start_time": "2023-08-07T07:16:46.796Z"
   },
   {
    "duration": 271,
    "start_time": "2023-08-07T07:18:00.478Z"
   },
   {
    "duration": 151,
    "start_time": "2023-08-07T07:18:16.513Z"
   },
   {
    "duration": 2,
    "start_time": "2023-08-07T07:18:19.832Z"
   },
   {
    "duration": 58,
    "start_time": "2023-08-07T07:18:19.836Z"
   },
   {
    "duration": 15,
    "start_time": "2023-08-07T07:18:19.896Z"
   },
   {
    "duration": 72,
    "start_time": "2023-08-07T07:18:19.912Z"
   },
   {
    "duration": 43,
    "start_time": "2023-08-07T07:18:19.986Z"
   },
   {
    "duration": 10,
    "start_time": "2023-08-07T07:18:20.031Z"
   },
   {
    "duration": 41,
    "start_time": "2023-08-07T07:18:20.042Z"
   },
   {
    "duration": 68,
    "start_time": "2023-08-07T07:18:20.084Z"
   },
   {
    "duration": 29,
    "start_time": "2023-08-07T07:18:20.154Z"
   },
   {
    "duration": 49,
    "start_time": "2023-08-07T07:18:20.184Z"
   },
   {
    "duration": 34,
    "start_time": "2023-08-07T07:18:20.235Z"
   },
   {
    "duration": 54,
    "start_time": "2023-08-07T07:18:20.270Z"
   },
   {
    "duration": 40,
    "start_time": "2023-08-07T07:18:20.326Z"
   },
   {
    "duration": 43,
    "start_time": "2023-08-07T07:18:20.368Z"
   },
   {
    "duration": 156,
    "start_time": "2023-08-07T07:18:20.413Z"
   },
   {
    "duration": 100,
    "start_time": "2023-08-07T07:18:20.571Z"
   },
   {
    "duration": 255,
    "start_time": "2023-08-07T07:18:20.673Z"
   },
   {
    "duration": 146,
    "start_time": "2023-08-07T07:18:20.930Z"
   },
   {
    "duration": 150,
    "start_time": "2023-08-07T07:18:21.078Z"
   },
   {
    "duration": 192,
    "start_time": "2023-08-07T07:19:53.040Z"
   },
   {
    "duration": 174,
    "start_time": "2023-08-07T07:21:52.521Z"
   },
   {
    "duration": 266,
    "start_time": "2023-08-07T07:22:00.363Z"
   },
   {
    "duration": 90,
    "start_time": "2023-08-07T07:22:13.761Z"
   },
   {
    "duration": 126,
    "start_time": "2023-08-07T07:22:30.557Z"
   },
   {
    "duration": 86,
    "start_time": "2023-08-07T07:22:34.026Z"
   },
   {
    "duration": 92,
    "start_time": "2023-08-07T07:22:40.400Z"
   },
   {
    "duration": 95,
    "start_time": "2023-08-07T07:22:49.780Z"
   },
   {
    "duration": 140,
    "start_time": "2023-08-07T07:39:10.839Z"
   },
   {
    "duration": 3,
    "start_time": "2023-08-07T07:39:15.274Z"
   },
   {
    "duration": 60,
    "start_time": "2023-08-07T07:39:15.280Z"
   },
   {
    "duration": 10,
    "start_time": "2023-08-07T07:39:15.342Z"
   },
   {
    "duration": 60,
    "start_time": "2023-08-07T07:39:15.354Z"
   },
   {
    "duration": 45,
    "start_time": "2023-08-07T07:39:15.416Z"
   },
   {
    "duration": 10,
    "start_time": "2023-08-07T07:39:15.463Z"
   },
   {
    "duration": 63,
    "start_time": "2023-08-07T07:39:15.474Z"
   },
   {
    "duration": 43,
    "start_time": "2023-08-07T07:39:15.538Z"
   },
   {
    "duration": 23,
    "start_time": "2023-08-07T07:39:15.583Z"
   },
   {
    "duration": 34,
    "start_time": "2023-08-07T07:39:15.607Z"
   },
   {
    "duration": 32,
    "start_time": "2023-08-07T07:39:15.643Z"
   },
   {
    "duration": 45,
    "start_time": "2023-08-07T07:39:15.677Z"
   },
   {
    "duration": 57,
    "start_time": "2023-08-07T07:39:15.723Z"
   },
   {
    "duration": 51,
    "start_time": "2023-08-07T07:39:15.781Z"
   },
   {
    "duration": 185,
    "start_time": "2023-08-07T07:39:15.835Z"
   },
   {
    "duration": 114,
    "start_time": "2023-08-07T07:39:16.021Z"
   },
   {
    "duration": 281,
    "start_time": "2023-08-07T07:39:16.137Z"
   },
   {
    "duration": 247,
    "start_time": "2023-08-07T07:39:16.420Z"
   },
   {
    "duration": 202,
    "start_time": "2023-08-07T07:39:16.669Z"
   },
   {
    "duration": 192,
    "start_time": "2023-08-07T07:40:06.018Z"
   },
   {
    "duration": 10,
    "start_time": "2023-08-07T07:58:44.721Z"
   },
   {
    "duration": 29,
    "start_time": "2023-08-07T07:59:10.986Z"
   },
   {
    "duration": 15,
    "start_time": "2023-08-07T08:00:10.210Z"
   },
   {
    "duration": 3,
    "start_time": "2023-08-07T08:00:27.069Z"
   },
   {
    "duration": 36,
    "start_time": "2023-08-07T08:00:27.074Z"
   },
   {
    "duration": 10,
    "start_time": "2023-08-07T08:00:27.112Z"
   },
   {
    "duration": 15,
    "start_time": "2023-08-07T08:00:27.123Z"
   },
   {
    "duration": 31,
    "start_time": "2023-08-07T08:00:27.140Z"
   },
   {
    "duration": 21,
    "start_time": "2023-08-07T08:00:27.172Z"
   },
   {
    "duration": 20,
    "start_time": "2023-08-07T08:00:27.194Z"
   },
   {
    "duration": 20,
    "start_time": "2023-08-07T08:00:27.216Z"
   },
   {
    "duration": 11,
    "start_time": "2023-08-07T08:00:27.237Z"
   },
   {
    "duration": 18,
    "start_time": "2023-08-07T08:00:27.249Z"
   },
   {
    "duration": 21,
    "start_time": "2023-08-07T08:00:27.270Z"
   },
   {
    "duration": 12,
    "start_time": "2023-08-07T08:00:27.293Z"
   },
   {
    "duration": 13,
    "start_time": "2023-08-07T08:00:27.306Z"
   },
   {
    "duration": 5,
    "start_time": "2023-08-07T08:00:27.321Z"
   },
   {
    "duration": 169,
    "start_time": "2023-08-07T08:00:27.328Z"
   },
   {
    "duration": 119,
    "start_time": "2023-08-07T08:00:27.499Z"
   },
   {
    "duration": 279,
    "start_time": "2023-08-07T08:00:27.620Z"
   },
   {
    "duration": 148,
    "start_time": "2023-08-07T08:00:27.900Z"
   },
   {
    "duration": 198,
    "start_time": "2023-08-07T08:00:28.050Z"
   },
   {
    "duration": 15,
    "start_time": "2023-08-07T08:00:28.249Z"
   },
   {
    "duration": 28,
    "start_time": "2023-08-07T08:00:50.325Z"
   },
   {
    "duration": 13,
    "start_time": "2023-08-07T08:01:04.067Z"
   },
   {
    "duration": 3328,
    "start_time": "2023-08-07T08:01:11.186Z"
   },
   {
    "duration": 3205,
    "start_time": "2023-08-07T08:04:20.724Z"
   },
   {
    "duration": 22,
    "start_time": "2023-08-07T08:04:57.127Z"
   },
   {
    "duration": 1285,
    "start_time": "2023-08-07T08:40:14.258Z"
   },
   {
    "duration": 37,
    "start_time": "2023-08-07T08:40:15.545Z"
   },
   {
    "duration": 10,
    "start_time": "2023-08-07T08:40:15.584Z"
   },
   {
    "duration": 56,
    "start_time": "2023-08-07T08:40:15.595Z"
   },
   {
    "duration": 54,
    "start_time": "2023-08-07T08:40:15.653Z"
   },
   {
    "duration": 11,
    "start_time": "2023-08-07T08:40:15.709Z"
   },
   {
    "duration": 55,
    "start_time": "2023-08-07T08:40:15.721Z"
   },
   {
    "duration": 78,
    "start_time": "2023-08-07T08:40:15.777Z"
   },
   {
    "duration": 31,
    "start_time": "2023-08-07T08:40:15.856Z"
   },
   {
    "duration": 84,
    "start_time": "2023-08-07T08:40:15.889Z"
   },
   {
    "duration": 41,
    "start_time": "2023-08-07T08:40:15.974Z"
   },
   {
    "duration": 35,
    "start_time": "2023-08-07T08:40:16.017Z"
   },
   {
    "duration": 37,
    "start_time": "2023-08-07T08:40:16.054Z"
   },
   {
    "duration": 16,
    "start_time": "2023-08-07T08:40:16.093Z"
   },
   {
    "duration": 160,
    "start_time": "2023-08-07T08:40:16.110Z"
   },
   {
    "duration": 100,
    "start_time": "2023-08-07T08:40:16.272Z"
   },
   {
    "duration": 280,
    "start_time": "2023-08-07T08:40:16.373Z"
   },
   {
    "duration": 160,
    "start_time": "2023-08-07T08:40:16.655Z"
   },
   {
    "duration": 226,
    "start_time": "2023-08-07T08:40:16.817Z"
   },
   {
    "duration": 25,
    "start_time": "2023-08-07T08:40:17.044Z"
   },
   {
    "duration": 112,
    "start_time": "2023-08-07T08:40:17.070Z"
   },
   {
    "duration": 4,
    "start_time": "2023-08-07T08:43:41.785Z"
   },
   {
    "duration": 23,
    "start_time": "2023-08-07T08:43:54.933Z"
   },
   {
    "duration": 10,
    "start_time": "2023-08-07T08:46:26.186Z"
   },
   {
    "duration": 28,
    "start_time": "2023-08-07T08:46:36.654Z"
   },
   {
    "duration": 24,
    "start_time": "2023-08-07T08:47:24.288Z"
   },
   {
    "duration": 15,
    "start_time": "2023-08-07T08:47:30.706Z"
   },
   {
    "duration": 26,
    "start_time": "2023-08-07T08:47:40.933Z"
   },
   {
    "duration": 22,
    "start_time": "2023-08-07T08:48:04.841Z"
   },
   {
    "duration": 33,
    "start_time": "2023-08-07T08:48:42.717Z"
   },
   {
    "duration": 19,
    "start_time": "2023-08-07T08:48:51.237Z"
   },
   {
    "duration": 12,
    "start_time": "2023-08-07T08:55:21.723Z"
   },
   {
    "duration": 2919,
    "start_time": "2023-08-07T08:55:28.765Z"
   },
   {
    "duration": 2,
    "start_time": "2023-08-07T08:56:49.210Z"
   },
   {
    "duration": 56,
    "start_time": "2023-08-07T08:56:49.214Z"
   },
   {
    "duration": 15,
    "start_time": "2023-08-07T08:56:49.272Z"
   },
   {
    "duration": 25,
    "start_time": "2023-08-07T08:56:49.288Z"
   },
   {
    "duration": 32,
    "start_time": "2023-08-07T08:56:49.314Z"
   },
   {
    "duration": 11,
    "start_time": "2023-08-07T08:56:49.348Z"
   },
   {
    "duration": 22,
    "start_time": "2023-08-07T08:56:49.360Z"
   },
   {
    "duration": 20,
    "start_time": "2023-08-07T08:56:49.384Z"
   },
   {
    "duration": 10,
    "start_time": "2023-08-07T08:56:49.406Z"
   },
   {
    "duration": 23,
    "start_time": "2023-08-07T08:56:49.417Z"
   },
   {
    "duration": 7,
    "start_time": "2023-08-07T08:56:49.441Z"
   },
   {
    "duration": 13,
    "start_time": "2023-08-07T08:56:49.450Z"
   },
   {
    "duration": 31,
    "start_time": "2023-08-07T08:56:49.464Z"
   },
   {
    "duration": 7,
    "start_time": "2023-08-07T08:56:49.496Z"
   },
   {
    "duration": 163,
    "start_time": "2023-08-07T08:56:49.505Z"
   },
   {
    "duration": 137,
    "start_time": "2023-08-07T08:56:49.670Z"
   },
   {
    "duration": 538,
    "start_time": "2023-08-07T08:56:49.810Z"
   },
   {
    "duration": 152,
    "start_time": "2023-08-07T08:56:50.349Z"
   },
   {
    "duration": 221,
    "start_time": "2023-08-07T08:56:50.503Z"
   },
   {
    "duration": 25,
    "start_time": "2023-08-07T08:56:50.726Z"
   },
   {
    "duration": 16,
    "start_time": "2023-08-07T08:56:50.753Z"
   },
   {
    "duration": 17,
    "start_time": "2023-08-07T08:56:50.787Z"
   },
   {
    "duration": 11526,
    "start_time": "2023-08-07T08:56:50.806Z"
   },
   {
    "duration": 153,
    "start_time": "2023-08-07T08:57:10.905Z"
   },
   {
    "duration": 3,
    "start_time": "2023-08-07T08:58:41.084Z"
   },
   {
    "duration": 41,
    "start_time": "2023-08-07T08:58:41.090Z"
   },
   {
    "duration": 11,
    "start_time": "2023-08-07T08:58:41.133Z"
   },
   {
    "duration": 24,
    "start_time": "2023-08-07T08:58:41.145Z"
   },
   {
    "duration": 39,
    "start_time": "2023-08-07T08:58:41.172Z"
   },
   {
    "duration": 11,
    "start_time": "2023-08-07T08:58:41.212Z"
   },
   {
    "duration": 38,
    "start_time": "2023-08-07T08:58:41.225Z"
   },
   {
    "duration": 19,
    "start_time": "2023-08-07T08:58:41.265Z"
   },
   {
    "duration": 10,
    "start_time": "2023-08-07T08:58:41.286Z"
   },
   {
    "duration": 21,
    "start_time": "2023-08-07T08:58:41.298Z"
   },
   {
    "duration": 17,
    "start_time": "2023-08-07T08:58:41.321Z"
   },
   {
    "duration": 13,
    "start_time": "2023-08-07T08:58:41.340Z"
   },
   {
    "duration": 30,
    "start_time": "2023-08-07T08:58:41.356Z"
   },
   {
    "duration": 6,
    "start_time": "2023-08-07T08:58:41.388Z"
   },
   {
    "duration": 166,
    "start_time": "2023-08-07T08:58:41.395Z"
   },
   {
    "duration": 99,
    "start_time": "2023-08-07T08:58:41.563Z"
   },
   {
    "duration": 273,
    "start_time": "2023-08-07T08:58:41.663Z"
   },
   {
    "duration": 160,
    "start_time": "2023-08-07T08:58:41.938Z"
   },
   {
    "duration": 206,
    "start_time": "2023-08-07T08:58:42.100Z"
   },
   {
    "duration": 26,
    "start_time": "2023-08-07T08:58:42.308Z"
   },
   {
    "duration": 25,
    "start_time": "2023-08-07T08:58:42.335Z"
   },
   {
    "duration": 19,
    "start_time": "2023-08-07T08:58:42.387Z"
   },
   {
    "duration": 534,
    "start_time": "2023-08-07T08:58:42.408Z"
   },
   {
    "duration": 183,
    "start_time": "2023-08-07T09:01:00.571Z"
   },
   {
    "duration": 178,
    "start_time": "2023-08-07T09:01:50.774Z"
   },
   {
    "duration": 172,
    "start_time": "2023-08-07T09:02:28.801Z"
   },
   {
    "duration": 170,
    "start_time": "2023-08-07T09:02:39.221Z"
   },
   {
    "duration": 182,
    "start_time": "2023-08-07T09:05:56.985Z"
   },
   {
    "duration": 3,
    "start_time": "2023-08-07T09:06:06.939Z"
   },
   {
    "duration": 43,
    "start_time": "2023-08-07T09:06:06.945Z"
   },
   {
    "duration": 9,
    "start_time": "2023-08-07T09:06:06.990Z"
   },
   {
    "duration": 14,
    "start_time": "2023-08-07T09:06:07.000Z"
   },
   {
    "duration": 31,
    "start_time": "2023-08-07T09:06:07.016Z"
   },
   {
    "duration": 11,
    "start_time": "2023-08-07T09:06:07.048Z"
   },
   {
    "duration": 28,
    "start_time": "2023-08-07T09:06:07.060Z"
   },
   {
    "duration": 23,
    "start_time": "2023-08-07T09:06:07.089Z"
   },
   {
    "duration": 9,
    "start_time": "2023-08-07T09:06:07.114Z"
   },
   {
    "duration": 15,
    "start_time": "2023-08-07T09:06:07.124Z"
   },
   {
    "duration": 6,
    "start_time": "2023-08-07T09:06:07.141Z"
   },
   {
    "duration": 11,
    "start_time": "2023-08-07T09:06:07.148Z"
   },
   {
    "duration": 28,
    "start_time": "2023-08-07T09:06:07.160Z"
   },
   {
    "duration": 5,
    "start_time": "2023-08-07T09:06:07.190Z"
   },
   {
    "duration": 141,
    "start_time": "2023-08-07T09:06:07.197Z"
   },
   {
    "duration": 98,
    "start_time": "2023-08-07T09:06:07.339Z"
   },
   {
    "duration": 249,
    "start_time": "2023-08-07T09:06:07.439Z"
   },
   {
    "duration": 146,
    "start_time": "2023-08-07T09:06:07.690Z"
   },
   {
    "duration": 191,
    "start_time": "2023-08-07T09:06:07.837Z"
   },
   {
    "duration": 22,
    "start_time": "2023-08-07T09:06:08.029Z"
   },
   {
    "duration": 14,
    "start_time": "2023-08-07T09:06:08.052Z"
   },
   {
    "duration": 34,
    "start_time": "2023-08-07T09:06:08.067Z"
   },
   {
    "duration": 266,
    "start_time": "2023-08-07T09:06:08.103Z"
   },
   {
    "duration": 165,
    "start_time": "2023-08-07T09:07:15.611Z"
   },
   {
    "duration": 137,
    "start_time": "2023-08-07T09:25:19.019Z"
   },
   {
    "duration": 17,
    "start_time": "2023-08-07T09:27:24.405Z"
   },
   {
    "duration": 151,
    "start_time": "2023-08-07T09:27:31.043Z"
   },
   {
    "duration": 2,
    "start_time": "2023-08-07T09:27:38.257Z"
   },
   {
    "duration": 100,
    "start_time": "2023-08-07T09:27:38.270Z"
   },
   {
    "duration": 10,
    "start_time": "2023-08-07T09:27:38.371Z"
   },
   {
    "duration": 21,
    "start_time": "2023-08-07T09:27:38.383Z"
   },
   {
    "duration": 31,
    "start_time": "2023-08-07T09:27:38.406Z"
   },
   {
    "duration": 10,
    "start_time": "2023-08-07T09:27:38.440Z"
   },
   {
    "duration": 21,
    "start_time": "2023-08-07T09:27:38.451Z"
   },
   {
    "duration": 25,
    "start_time": "2023-08-07T09:27:38.473Z"
   },
   {
    "duration": 18,
    "start_time": "2023-08-07T09:27:38.499Z"
   },
   {
    "duration": 32,
    "start_time": "2023-08-07T09:27:38.518Z"
   },
   {
    "duration": 31,
    "start_time": "2023-08-07T09:27:38.551Z"
   },
   {
    "duration": 35,
    "start_time": "2023-08-07T09:27:38.584Z"
   },
   {
    "duration": 30,
    "start_time": "2023-08-07T09:27:38.621Z"
   },
   {
    "duration": 17,
    "start_time": "2023-08-07T09:27:38.653Z"
   },
   {
    "duration": 134,
    "start_time": "2023-08-07T09:27:38.673Z"
   },
   {
    "duration": 99,
    "start_time": "2023-08-07T09:27:38.809Z"
   },
   {
    "duration": 236,
    "start_time": "2023-08-07T09:27:38.909Z"
   },
   {
    "duration": 153,
    "start_time": "2023-08-07T09:27:39.147Z"
   },
   {
    "duration": 181,
    "start_time": "2023-08-07T09:27:39.301Z"
   },
   {
    "duration": 21,
    "start_time": "2023-08-07T09:27:39.486Z"
   },
   {
    "duration": 22,
    "start_time": "2023-08-07T09:27:39.508Z"
   },
   {
    "duration": 16,
    "start_time": "2023-08-07T09:27:39.531Z"
   },
   {
    "duration": 172,
    "start_time": "2023-08-07T09:27:39.548Z"
   },
   {
    "duration": 269,
    "start_time": "2023-08-07T09:31:07.151Z"
   },
   {
    "duration": 165,
    "start_time": "2023-08-07T09:37:02.519Z"
   },
   {
    "duration": 3,
    "start_time": "2023-08-07T09:37:14.128Z"
   },
   {
    "duration": 46,
    "start_time": "2023-08-07T09:37:14.133Z"
   },
   {
    "duration": 9,
    "start_time": "2023-08-07T09:37:14.181Z"
   },
   {
    "duration": 14,
    "start_time": "2023-08-07T09:37:14.192Z"
   },
   {
    "duration": 32,
    "start_time": "2023-08-07T09:37:14.208Z"
   },
   {
    "duration": 11,
    "start_time": "2023-08-07T09:37:14.242Z"
   },
   {
    "duration": 36,
    "start_time": "2023-08-07T09:37:14.255Z"
   },
   {
    "duration": 20,
    "start_time": "2023-08-07T09:37:14.292Z"
   },
   {
    "duration": 10,
    "start_time": "2023-08-07T09:37:14.313Z"
   },
   {
    "duration": 16,
    "start_time": "2023-08-07T09:37:14.325Z"
   },
   {
    "duration": 6,
    "start_time": "2023-08-07T09:37:14.343Z"
   },
   {
    "duration": 12,
    "start_time": "2023-08-07T09:37:14.350Z"
   },
   {
    "duration": 37,
    "start_time": "2023-08-07T09:37:14.363Z"
   },
   {
    "duration": 5,
    "start_time": "2023-08-07T09:37:14.403Z"
   },
   {
    "duration": 148,
    "start_time": "2023-08-07T09:37:14.410Z"
   },
   {
    "duration": 103,
    "start_time": "2023-08-07T09:37:14.560Z"
   },
   {
    "duration": 280,
    "start_time": "2023-08-07T09:37:14.664Z"
   },
   {
    "duration": 191,
    "start_time": "2023-08-07T09:37:14.946Z"
   },
   {
    "duration": 211,
    "start_time": "2023-08-07T09:37:15.140Z"
   },
   {
    "duration": 35,
    "start_time": "2023-08-07T09:37:15.353Z"
   },
   {
    "duration": 18,
    "start_time": "2023-08-07T09:37:15.390Z"
   },
   {
    "duration": 17,
    "start_time": "2023-08-07T09:37:15.409Z"
   },
   {
    "duration": 198,
    "start_time": "2023-08-07T09:37:15.428Z"
   },
   {
    "duration": 169,
    "start_time": "2023-08-07T09:37:15.627Z"
   },
   {
    "duration": 157,
    "start_time": "2023-08-07T09:37:33.361Z"
   },
   {
    "duration": 3,
    "start_time": "2023-08-07T09:37:38.648Z"
   },
   {
    "duration": 83,
    "start_time": "2023-08-07T09:37:38.653Z"
   },
   {
    "duration": 31,
    "start_time": "2023-08-07T09:37:38.738Z"
   },
   {
    "duration": 37,
    "start_time": "2023-08-07T09:37:38.771Z"
   },
   {
    "duration": 32,
    "start_time": "2023-08-07T09:37:38.811Z"
   },
   {
    "duration": 12,
    "start_time": "2023-08-07T09:37:38.844Z"
   },
   {
    "duration": 28,
    "start_time": "2023-08-07T09:37:38.858Z"
   },
   {
    "duration": 53,
    "start_time": "2023-08-07T09:37:38.887Z"
   },
   {
    "duration": 116,
    "start_time": "2023-08-07T09:37:38.943Z"
   },
   {
    "duration": 89,
    "start_time": "2023-08-07T09:37:39.061Z"
   },
   {
    "duration": 28,
    "start_time": "2023-08-07T09:37:39.152Z"
   },
   {
    "duration": 36,
    "start_time": "2023-08-07T09:37:39.181Z"
   },
   {
    "duration": 41,
    "start_time": "2023-08-07T09:37:39.218Z"
   },
   {
    "duration": 30,
    "start_time": "2023-08-07T09:37:39.260Z"
   },
   {
    "duration": 147,
    "start_time": "2023-08-07T09:37:39.291Z"
   },
   {
    "duration": 94,
    "start_time": "2023-08-07T09:37:39.440Z"
   },
   {
    "duration": 247,
    "start_time": "2023-08-07T09:37:39.535Z"
   },
   {
    "duration": 146,
    "start_time": "2023-08-07T09:37:39.787Z"
   },
   {
    "duration": 186,
    "start_time": "2023-08-07T09:37:39.934Z"
   },
   {
    "duration": 22,
    "start_time": "2023-08-07T09:37:40.122Z"
   },
   {
    "duration": 41,
    "start_time": "2023-08-07T09:37:40.146Z"
   },
   {
    "duration": 29,
    "start_time": "2023-08-07T09:37:40.188Z"
   },
   {
    "duration": 184,
    "start_time": "2023-08-07T09:37:40.219Z"
   },
   {
    "duration": 173,
    "start_time": "2023-08-07T09:37:40.406Z"
   },
   {
    "duration": 163,
    "start_time": "2023-08-07T09:38:19.490Z"
   },
   {
    "duration": 3,
    "start_time": "2023-08-07T09:38:24.498Z"
   },
   {
    "duration": 35,
    "start_time": "2023-08-07T09:38:24.504Z"
   },
   {
    "duration": 10,
    "start_time": "2023-08-07T09:38:24.541Z"
   },
   {
    "duration": 22,
    "start_time": "2023-08-07T09:38:24.553Z"
   },
   {
    "duration": 30,
    "start_time": "2023-08-07T09:38:24.577Z"
   },
   {
    "duration": 10,
    "start_time": "2023-08-07T09:38:24.608Z"
   },
   {
    "duration": 20,
    "start_time": "2023-08-07T09:38:24.619Z"
   },
   {
    "duration": 20,
    "start_time": "2023-08-07T09:38:24.640Z"
   },
   {
    "duration": 93,
    "start_time": "2023-08-07T09:38:24.662Z"
   },
   {
    "duration": 40,
    "start_time": "2023-08-07T09:38:24.757Z"
   },
   {
    "duration": 25,
    "start_time": "2023-08-07T09:38:24.800Z"
   },
   {
    "duration": 34,
    "start_time": "2023-08-07T09:38:24.827Z"
   },
   {
    "duration": 23,
    "start_time": "2023-08-07T09:38:24.863Z"
   },
   {
    "duration": 7,
    "start_time": "2023-08-07T09:38:24.888Z"
   },
   {
    "duration": 152,
    "start_time": "2023-08-07T09:38:24.896Z"
   },
   {
    "duration": 101,
    "start_time": "2023-08-07T09:38:25.050Z"
   },
   {
    "duration": 361,
    "start_time": "2023-08-07T09:38:25.152Z"
   },
   {
    "duration": 148,
    "start_time": "2023-08-07T09:38:25.515Z"
   },
   {
    "duration": 212,
    "start_time": "2023-08-07T09:38:25.665Z"
   },
   {
    "duration": 31,
    "start_time": "2023-08-07T09:38:25.880Z"
   },
   {
    "duration": 35,
    "start_time": "2023-08-07T09:38:25.913Z"
   },
   {
    "duration": 16,
    "start_time": "2023-08-07T09:38:25.951Z"
   },
   {
    "duration": 188,
    "start_time": "2023-08-07T09:38:25.969Z"
   },
   {
    "duration": 180,
    "start_time": "2023-08-07T09:38:26.159Z"
   },
   {
    "duration": 202,
    "start_time": "2023-08-07T09:38:34.723Z"
   },
   {
    "duration": 3,
    "start_time": "2023-08-07T09:38:38.652Z"
   },
   {
    "duration": 63,
    "start_time": "2023-08-07T09:38:38.657Z"
   },
   {
    "duration": 10,
    "start_time": "2023-08-07T09:38:38.722Z"
   },
   {
    "duration": 22,
    "start_time": "2023-08-07T09:38:38.734Z"
   },
   {
    "duration": 35,
    "start_time": "2023-08-07T09:38:38.758Z"
   },
   {
    "duration": 14,
    "start_time": "2023-08-07T09:38:38.795Z"
   },
   {
    "duration": 17,
    "start_time": "2023-08-07T09:38:38.811Z"
   },
   {
    "duration": 19,
    "start_time": "2023-08-07T09:38:38.830Z"
   },
   {
    "duration": 10,
    "start_time": "2023-08-07T09:38:38.851Z"
   },
   {
    "duration": 39,
    "start_time": "2023-08-07T09:38:38.863Z"
   },
   {
    "duration": 27,
    "start_time": "2023-08-07T09:38:38.904Z"
   },
   {
    "duration": 51,
    "start_time": "2023-08-07T09:38:38.933Z"
   },
   {
    "duration": 63,
    "start_time": "2023-08-07T09:38:38.986Z"
   },
   {
    "duration": 47,
    "start_time": "2023-08-07T09:38:39.050Z"
   },
   {
    "duration": 138,
    "start_time": "2023-08-07T09:38:39.098Z"
   },
   {
    "duration": 95,
    "start_time": "2023-08-07T09:38:39.238Z"
   },
   {
    "duration": 254,
    "start_time": "2023-08-07T09:38:39.334Z"
   },
   {
    "duration": 153,
    "start_time": "2023-08-07T09:38:39.590Z"
   },
   {
    "duration": 348,
    "start_time": "2023-08-07T09:38:39.745Z"
   },
   {
    "duration": 22,
    "start_time": "2023-08-07T09:38:40.095Z"
   },
   {
    "duration": 28,
    "start_time": "2023-08-07T09:38:40.118Z"
   },
   {
    "duration": 51,
    "start_time": "2023-08-07T09:38:40.148Z"
   },
   {
    "duration": 203,
    "start_time": "2023-08-07T09:38:40.201Z"
   },
   {
    "duration": 171,
    "start_time": "2023-08-07T09:38:40.408Z"
   },
   {
    "duration": 168,
    "start_time": "2023-08-07T09:39:23.454Z"
   },
   {
    "duration": 156,
    "start_time": "2023-08-07T09:56:30.969Z"
   },
   {
    "duration": 3,
    "start_time": "2023-08-07T09:56:34.207Z"
   },
   {
    "duration": 35,
    "start_time": "2023-08-07T09:56:34.212Z"
   },
   {
    "duration": 9,
    "start_time": "2023-08-07T09:56:34.249Z"
   },
   {
    "duration": 21,
    "start_time": "2023-08-07T09:56:34.259Z"
   },
   {
    "duration": 29,
    "start_time": "2023-08-07T09:56:34.282Z"
   },
   {
    "duration": 10,
    "start_time": "2023-08-07T09:56:34.312Z"
   },
   {
    "duration": 16,
    "start_time": "2023-08-07T09:56:34.323Z"
   },
   {
    "duration": 17,
    "start_time": "2023-08-07T09:56:34.341Z"
   },
   {
    "duration": 9,
    "start_time": "2023-08-07T09:56:34.360Z"
   },
   {
    "duration": 24,
    "start_time": "2023-08-07T09:56:34.370Z"
   },
   {
    "duration": 6,
    "start_time": "2023-08-07T09:56:34.395Z"
   },
   {
    "duration": 10,
    "start_time": "2023-08-07T09:56:34.402Z"
   },
   {
    "duration": 18,
    "start_time": "2023-08-07T09:56:34.413Z"
   },
   {
    "duration": 5,
    "start_time": "2023-08-07T09:56:34.433Z"
   },
   {
    "duration": 150,
    "start_time": "2023-08-07T09:56:34.439Z"
   },
   {
    "duration": 105,
    "start_time": "2023-08-07T09:56:34.590Z"
   },
   {
    "duration": 265,
    "start_time": "2023-08-07T09:56:34.696Z"
   },
   {
    "duration": 174,
    "start_time": "2023-08-07T09:56:34.964Z"
   },
   {
    "duration": 187,
    "start_time": "2023-08-07T09:56:35.140Z"
   },
   {
    "duration": 25,
    "start_time": "2023-08-07T09:56:35.329Z"
   },
   {
    "duration": 35,
    "start_time": "2023-08-07T09:56:35.355Z"
   },
   {
    "duration": 16,
    "start_time": "2023-08-07T09:56:35.392Z"
   },
   {
    "duration": 275,
    "start_time": "2023-08-07T09:56:35.409Z"
   },
   {
    "duration": 164,
    "start_time": "2023-08-07T09:56:35.688Z"
   },
   {
    "duration": 3,
    "start_time": "2023-08-07T10:07:34.041Z"
   },
   {
    "duration": 43,
    "start_time": "2023-08-07T10:07:34.048Z"
   },
   {
    "duration": 11,
    "start_time": "2023-08-07T10:07:34.093Z"
   },
   {
    "duration": 85,
    "start_time": "2023-08-07T10:07:34.105Z"
   },
   {
    "duration": 67,
    "start_time": "2023-08-07T10:07:34.192Z"
   },
   {
    "duration": 10,
    "start_time": "2023-08-07T10:07:34.261Z"
   },
   {
    "duration": 33,
    "start_time": "2023-08-07T10:07:34.272Z"
   },
   {
    "duration": 41,
    "start_time": "2023-08-07T10:07:34.306Z"
   },
   {
    "duration": 24,
    "start_time": "2023-08-07T10:07:34.348Z"
   },
   {
    "duration": 48,
    "start_time": "2023-08-07T10:07:34.374Z"
   },
   {
    "duration": 52,
    "start_time": "2023-08-07T10:07:34.423Z"
   },
   {
    "duration": 56,
    "start_time": "2023-08-07T10:07:34.477Z"
   },
   {
    "duration": 28,
    "start_time": "2023-08-07T10:07:34.535Z"
   },
   {
    "duration": 14,
    "start_time": "2023-08-07T10:07:34.565Z"
   },
   {
    "duration": 150,
    "start_time": "2023-08-07T10:07:34.582Z"
   },
   {
    "duration": 127,
    "start_time": "2023-08-07T10:07:34.734Z"
   },
   {
    "duration": 280,
    "start_time": "2023-08-07T10:07:34.863Z"
   },
   {
    "duration": 134,
    "start_time": "2023-08-07T10:07:35.144Z"
   },
   {
    "duration": 203,
    "start_time": "2023-08-07T10:07:35.279Z"
   },
   {
    "duration": 24,
    "start_time": "2023-08-07T10:07:35.486Z"
   },
   {
    "duration": 18,
    "start_time": "2023-08-07T10:07:35.512Z"
   },
   {
    "duration": 18,
    "start_time": "2023-08-07T10:07:35.532Z"
   },
   {
    "duration": 174,
    "start_time": "2023-08-07T10:07:35.551Z"
   },
   {
    "duration": 170,
    "start_time": "2023-08-07T10:07:35.727Z"
   },
   {
    "duration": 4,
    "start_time": "2023-08-07T10:08:02.370Z"
   },
   {
    "duration": 71,
    "start_time": "2023-08-07T10:08:02.375Z"
   },
   {
    "duration": 16,
    "start_time": "2023-08-07T10:08:02.448Z"
   },
   {
    "duration": 47,
    "start_time": "2023-08-07T10:08:02.465Z"
   },
   {
    "duration": 60,
    "start_time": "2023-08-07T10:08:02.514Z"
   },
   {
    "duration": 10,
    "start_time": "2023-08-07T10:08:02.575Z"
   },
   {
    "duration": 66,
    "start_time": "2023-08-07T10:08:02.587Z"
   },
   {
    "duration": 34,
    "start_time": "2023-08-07T10:08:02.655Z"
   },
   {
    "duration": 22,
    "start_time": "2023-08-07T10:08:02.691Z"
   },
   {
    "duration": 51,
    "start_time": "2023-08-07T10:08:02.714Z"
   },
   {
    "duration": 25,
    "start_time": "2023-08-07T10:08:02.767Z"
   },
   {
    "duration": 26,
    "start_time": "2023-08-07T10:08:02.793Z"
   },
   {
    "duration": 40,
    "start_time": "2023-08-07T10:08:02.821Z"
   },
   {
    "duration": 15,
    "start_time": "2023-08-07T10:08:02.865Z"
   },
   {
    "duration": 131,
    "start_time": "2023-08-07T10:08:02.881Z"
   },
   {
    "duration": 202,
    "start_time": "2023-08-07T10:08:03.014Z"
   },
   {
    "duration": 232,
    "start_time": "2023-08-07T10:08:03.218Z"
   },
   {
    "duration": 138,
    "start_time": "2023-08-07T10:08:03.451Z"
   },
   {
    "duration": 187,
    "start_time": "2023-08-07T10:08:03.590Z"
   },
   {
    "duration": 28,
    "start_time": "2023-08-07T10:08:03.778Z"
   },
   {
    "duration": 60,
    "start_time": "2023-08-07T10:08:03.807Z"
   },
   {
    "duration": 35,
    "start_time": "2023-08-07T10:08:03.868Z"
   },
   {
    "duration": 177,
    "start_time": "2023-08-07T10:08:03.904Z"
   },
   {
    "duration": 171,
    "start_time": "2023-08-07T10:08:04.083Z"
   },
   {
    "duration": 157,
    "start_time": "2023-08-07T10:08:18.012Z"
   },
   {
    "duration": 6,
    "start_time": "2023-08-07T10:08:24.742Z"
   },
   {
    "duration": 41,
    "start_time": "2023-08-07T10:08:24.750Z"
   },
   {
    "duration": 12,
    "start_time": "2023-08-07T10:08:24.794Z"
   },
   {
    "duration": 18,
    "start_time": "2023-08-07T10:08:24.808Z"
   },
   {
    "duration": 42,
    "start_time": "2023-08-07T10:08:24.828Z"
   },
   {
    "duration": 27,
    "start_time": "2023-08-07T10:08:24.872Z"
   },
   {
    "duration": 24,
    "start_time": "2023-08-07T10:08:24.901Z"
   },
   {
    "duration": 23,
    "start_time": "2023-08-07T10:08:24.927Z"
   },
   {
    "duration": 12,
    "start_time": "2023-08-07T10:08:24.953Z"
   },
   {
    "duration": 34,
    "start_time": "2023-08-07T10:08:24.967Z"
   },
   {
    "duration": 8,
    "start_time": "2023-08-07T10:08:25.003Z"
   },
   {
    "duration": 27,
    "start_time": "2023-08-07T10:08:25.013Z"
   },
   {
    "duration": 28,
    "start_time": "2023-08-07T10:08:25.041Z"
   },
   {
    "duration": 5,
    "start_time": "2023-08-07T10:08:25.070Z"
   },
   {
    "duration": 134,
    "start_time": "2023-08-07T10:08:25.076Z"
   },
   {
    "duration": 107,
    "start_time": "2023-08-07T10:08:25.212Z"
   },
   {
    "duration": 239,
    "start_time": "2023-08-07T10:08:25.321Z"
   },
   {
    "duration": 247,
    "start_time": "2023-08-07T10:08:25.562Z"
   },
   {
    "duration": 201,
    "start_time": "2023-08-07T10:08:25.811Z"
   },
   {
    "duration": 23,
    "start_time": "2023-08-07T10:08:26.014Z"
   },
   {
    "duration": 67,
    "start_time": "2023-08-07T10:08:26.038Z"
   },
   {
    "duration": 28,
    "start_time": "2023-08-07T10:08:26.107Z"
   },
   {
    "duration": 193,
    "start_time": "2023-08-07T10:08:26.136Z"
   },
   {
    "duration": 166,
    "start_time": "2023-08-07T10:08:26.332Z"
   },
   {
    "duration": 3,
    "start_time": "2023-08-07T10:08:50.032Z"
   },
   {
    "duration": 82,
    "start_time": "2023-08-07T10:08:50.036Z"
   },
   {
    "duration": 19,
    "start_time": "2023-08-07T10:08:50.120Z"
   },
   {
    "duration": 40,
    "start_time": "2023-08-07T10:08:50.141Z"
   },
   {
    "duration": 35,
    "start_time": "2023-08-07T10:08:50.183Z"
   },
   {
    "duration": 9,
    "start_time": "2023-08-07T10:08:50.220Z"
   },
   {
    "duration": 31,
    "start_time": "2023-08-07T10:08:50.230Z"
   },
   {
    "duration": 26,
    "start_time": "2023-08-07T10:08:50.262Z"
   },
   {
    "duration": 21,
    "start_time": "2023-08-07T10:08:50.290Z"
   },
   {
    "duration": 32,
    "start_time": "2023-08-07T10:08:50.313Z"
   },
   {
    "duration": 34,
    "start_time": "2023-08-07T10:08:50.346Z"
   },
   {
    "duration": 26,
    "start_time": "2023-08-07T10:08:50.381Z"
   },
   {
    "duration": 41,
    "start_time": "2023-08-07T10:08:50.408Z"
   },
   {
    "duration": 20,
    "start_time": "2023-08-07T10:08:50.451Z"
   },
   {
    "duration": 174,
    "start_time": "2023-08-07T10:08:50.472Z"
   },
   {
    "duration": 94,
    "start_time": "2023-08-07T10:08:50.648Z"
   },
   {
    "duration": 268,
    "start_time": "2023-08-07T10:08:50.744Z"
   },
   {
    "duration": 150,
    "start_time": "2023-08-07T10:08:51.014Z"
   },
   {
    "duration": 189,
    "start_time": "2023-08-07T10:08:51.165Z"
   },
   {
    "duration": 32,
    "start_time": "2023-08-07T10:08:51.356Z"
   },
   {
    "duration": 16,
    "start_time": "2023-08-07T10:08:51.390Z"
   },
   {
    "duration": 17,
    "start_time": "2023-08-07T10:08:51.408Z"
   },
   {
    "duration": 189,
    "start_time": "2023-08-07T10:08:51.427Z"
   },
   {
    "duration": 271,
    "start_time": "2023-08-07T10:08:51.618Z"
   },
   {
    "duration": 2,
    "start_time": "2023-08-07T10:10:34.666Z"
   },
   {
    "duration": 59,
    "start_time": "2023-08-07T10:10:34.670Z"
   },
   {
    "duration": 10,
    "start_time": "2023-08-07T10:10:34.731Z"
   },
   {
    "duration": 43,
    "start_time": "2023-08-07T10:10:34.743Z"
   },
   {
    "duration": 40,
    "start_time": "2023-08-07T10:10:34.789Z"
   },
   {
    "duration": 13,
    "start_time": "2023-08-07T10:10:34.830Z"
   },
   {
    "duration": 20,
    "start_time": "2023-08-07T10:10:34.845Z"
   },
   {
    "duration": 30,
    "start_time": "2023-08-07T10:10:34.867Z"
   },
   {
    "duration": 34,
    "start_time": "2023-08-07T10:10:34.899Z"
   },
   {
    "duration": 56,
    "start_time": "2023-08-07T10:10:34.936Z"
   },
   {
    "duration": 55,
    "start_time": "2023-08-07T10:10:34.994Z"
   },
   {
    "duration": 34,
    "start_time": "2023-08-07T10:10:35.051Z"
   },
   {
    "duration": 41,
    "start_time": "2023-08-07T10:10:35.089Z"
   },
   {
    "duration": 7,
    "start_time": "2023-08-07T10:10:35.133Z"
   },
   {
    "duration": 167,
    "start_time": "2023-08-07T10:10:35.142Z"
   },
   {
    "duration": 125,
    "start_time": "2023-08-07T10:10:35.311Z"
   },
   {
    "duration": 255,
    "start_time": "2023-08-07T10:10:35.438Z"
   },
   {
    "duration": 144,
    "start_time": "2023-08-07T10:10:35.695Z"
   },
   {
    "duration": 203,
    "start_time": "2023-08-07T10:10:35.840Z"
   },
   {
    "duration": 25,
    "start_time": "2023-08-07T10:10:36.045Z"
   },
   {
    "duration": 27,
    "start_time": "2023-08-07T10:10:36.071Z"
   },
   {
    "duration": 37,
    "start_time": "2023-08-07T10:10:36.100Z"
   },
   {
    "duration": 193,
    "start_time": "2023-08-07T10:10:36.139Z"
   },
   {
    "duration": 183,
    "start_time": "2023-08-07T10:10:36.334Z"
   },
   {
    "duration": 168,
    "start_time": "2023-08-07T10:10:59.441Z"
   },
   {
    "duration": 3,
    "start_time": "2023-08-07T10:11:03.070Z"
   },
   {
    "duration": 119,
    "start_time": "2023-08-07T10:11:03.074Z"
   },
   {
    "duration": 80,
    "start_time": "2023-08-07T10:11:03.195Z"
   },
   {
    "duration": 58,
    "start_time": "2023-08-07T10:11:03.277Z"
   },
   {
    "duration": 78,
    "start_time": "2023-08-07T10:11:03.337Z"
   },
   {
    "duration": 41,
    "start_time": "2023-08-07T10:11:03.417Z"
   },
   {
    "duration": 70,
    "start_time": "2023-08-07T10:11:03.459Z"
   },
   {
    "duration": 34,
    "start_time": "2023-08-07T10:11:03.530Z"
   },
   {
    "duration": 42,
    "start_time": "2023-08-07T10:11:03.565Z"
   },
   {
    "duration": 68,
    "start_time": "2023-08-07T10:11:03.609Z"
   },
   {
    "duration": 57,
    "start_time": "2023-08-07T10:11:03.680Z"
   },
   {
    "duration": 51,
    "start_time": "2023-08-07T10:11:03.739Z"
   },
   {
    "duration": 104,
    "start_time": "2023-08-07T10:11:03.791Z"
   },
   {
    "duration": 21,
    "start_time": "2023-08-07T10:11:03.896Z"
   },
   {
    "duration": 169,
    "start_time": "2023-08-07T10:11:03.919Z"
   },
   {
    "duration": 218,
    "start_time": "2023-08-07T10:11:04.089Z"
   },
   {
    "duration": 256,
    "start_time": "2023-08-07T10:11:04.308Z"
   },
   {
    "duration": 151,
    "start_time": "2023-08-07T10:11:04.566Z"
   },
   {
    "duration": 219,
    "start_time": "2023-08-07T10:11:04.718Z"
   },
   {
    "duration": 28,
    "start_time": "2023-08-07T10:11:04.939Z"
   },
   {
    "duration": 21,
    "start_time": "2023-08-07T10:11:04.987Z"
   },
   {
    "duration": 33,
    "start_time": "2023-08-07T10:11:05.010Z"
   },
   {
    "duration": 182,
    "start_time": "2023-08-07T10:11:05.046Z"
   },
   {
    "duration": 198,
    "start_time": "2023-08-07T10:11:05.231Z"
   },
   {
    "duration": 17,
    "start_time": "2023-08-07T10:50:54.719Z"
   },
   {
    "duration": 15,
    "start_time": "2023-08-07T10:51:15.563Z"
   },
   {
    "duration": 30,
    "start_time": "2023-08-07T10:51:34.664Z"
   },
   {
    "duration": 38,
    "start_time": "2023-08-07T10:52:11.303Z"
   },
   {
    "duration": 57,
    "start_time": "2023-08-07T10:53:37.860Z"
   },
   {
    "duration": 27,
    "start_time": "2023-08-07T10:54:30.282Z"
   },
   {
    "duration": 41,
    "start_time": "2023-08-07T10:55:06.888Z"
   },
   {
    "duration": 293,
    "start_time": "2023-08-07T11:00:17.765Z"
   },
   {
    "duration": 39,
    "start_time": "2023-08-07T11:00:43.982Z"
   },
   {
    "duration": 98,
    "start_time": "2023-08-07T11:08:08.588Z"
   },
   {
    "duration": 210,
    "start_time": "2023-08-07T11:08:32.024Z"
   },
   {
    "duration": 131,
    "start_time": "2023-08-07T11:09:48.388Z"
   },
   {
    "duration": 100,
    "start_time": "2023-08-07T11:16:20.060Z"
   },
   {
    "duration": 224,
    "start_time": "2023-08-07T11:21:59.953Z"
   },
   {
    "duration": 487,
    "start_time": "2023-08-07T11:59:57.881Z"
   },
   {
    "duration": 205,
    "start_time": "2023-08-07T12:00:02.780Z"
   },
   {
    "duration": 590,
    "start_time": "2023-08-07T12:01:35.568Z"
   },
   {
    "duration": 98,
    "start_time": "2023-08-07T12:01:52.969Z"
   },
   {
    "duration": 145,
    "start_time": "2023-08-07T13:04:24.988Z"
   },
   {
    "duration": 20,
    "start_time": "2023-08-07T15:51:15.295Z"
   },
   {
    "duration": 55,
    "start_time": "2023-08-07T15:51:21.595Z"
   },
   {
    "duration": 38,
    "start_time": "2023-08-07T15:52:33.803Z"
   },
   {
    "duration": 51,
    "start_time": "2023-08-07T15:53:15.002Z"
   },
   {
    "duration": 56,
    "start_time": "2023-08-07T15:53:29.142Z"
   },
   {
    "duration": 22,
    "start_time": "2023-08-07T16:07:41.234Z"
   },
   {
    "duration": 33,
    "start_time": "2023-08-07T16:07:51.146Z"
   },
   {
    "duration": 22,
    "start_time": "2023-08-07T16:08:36.727Z"
   },
   {
    "duration": 34,
    "start_time": "2023-08-07T16:10:20.867Z"
   },
   {
    "duration": 46,
    "start_time": "2023-08-07T16:10:54.884Z"
   },
   {
    "duration": 33,
    "start_time": "2023-08-07T16:11:20.153Z"
   },
   {
    "duration": 37,
    "start_time": "2023-08-07T16:11:32.618Z"
   },
   {
    "duration": 31,
    "start_time": "2023-08-07T16:12:20.111Z"
   },
   {
    "duration": 41,
    "start_time": "2023-08-07T16:12:26.185Z"
   },
   {
    "duration": 12,
    "start_time": "2023-08-07T16:27:48.085Z"
   },
   {
    "duration": 5,
    "start_time": "2023-08-07T16:29:32.587Z"
   },
   {
    "duration": 129,
    "start_time": "2023-08-07T16:29:32.595Z"
   },
   {
    "duration": 11,
    "start_time": "2023-08-07T16:29:32.726Z"
   },
   {
    "duration": 36,
    "start_time": "2023-08-07T16:29:32.739Z"
   },
   {
    "duration": 43,
    "start_time": "2023-08-07T16:29:32.778Z"
   },
   {
    "duration": 12,
    "start_time": "2023-08-07T16:29:32.822Z"
   },
   {
    "duration": 46,
    "start_time": "2023-08-07T16:29:32.835Z"
   },
   {
    "duration": 37,
    "start_time": "2023-08-07T16:29:32.882Z"
   },
   {
    "duration": 12,
    "start_time": "2023-08-07T16:29:32.925Z"
   },
   {
    "duration": 30,
    "start_time": "2023-08-07T16:29:32.939Z"
   },
   {
    "duration": 15,
    "start_time": "2023-08-07T16:29:32.972Z"
   },
   {
    "duration": 26,
    "start_time": "2023-08-07T16:29:32.989Z"
   },
   {
    "duration": 36,
    "start_time": "2023-08-07T16:29:33.017Z"
   },
   {
    "duration": 6,
    "start_time": "2023-08-07T16:29:33.055Z"
   },
   {
    "duration": 172,
    "start_time": "2023-08-07T16:29:33.063Z"
   },
   {
    "duration": 115,
    "start_time": "2023-08-07T16:29:33.237Z"
   },
   {
    "duration": 295,
    "start_time": "2023-08-07T16:29:33.354Z"
   },
   {
    "duration": 184,
    "start_time": "2023-08-07T16:29:33.651Z"
   },
   {
    "duration": 399,
    "start_time": "2023-08-07T16:29:33.837Z"
   },
   {
    "duration": 35,
    "start_time": "2023-08-07T16:29:34.238Z"
   },
   {
    "duration": 25,
    "start_time": "2023-08-07T16:29:34.288Z"
   },
   {
    "duration": 16,
    "start_time": "2023-08-07T16:29:34.315Z"
   },
   {
    "duration": 223,
    "start_time": "2023-08-07T16:29:34.333Z"
   },
   {
    "duration": 227,
    "start_time": "2023-08-07T16:29:34.557Z"
   },
   {
    "duration": 48,
    "start_time": "2023-08-07T16:29:34.794Z"
   },
   {
    "duration": 31,
    "start_time": "2023-08-07T16:29:34.844Z"
   },
   {
    "duration": 16,
    "start_time": "2023-08-07T17:03:51.298Z"
   },
   {
    "duration": 14,
    "start_time": "2023-08-07T17:04:08.829Z"
   },
   {
    "duration": 1999,
    "start_time": "2023-08-07T18:25:03.752Z"
   },
   {
    "duration": 45,
    "start_time": "2023-08-07T18:25:15.872Z"
   },
   {
    "duration": 25,
    "start_time": "2023-08-07T18:27:23.095Z"
   },
   {
    "duration": 1431,
    "start_time": "2023-08-09T08:37:32.328Z"
   },
   {
    "duration": 126,
    "start_time": "2023-08-09T08:37:33.762Z"
   },
   {
    "duration": 19,
    "start_time": "2023-08-09T08:37:33.890Z"
   },
   {
    "duration": 31,
    "start_time": "2023-08-09T08:37:33.911Z"
   },
   {
    "duration": 168,
    "start_time": "2023-08-09T08:37:33.944Z"
   },
   {
    "duration": 12,
    "start_time": "2023-08-09T08:37:34.113Z"
   },
   {
    "duration": 21,
    "start_time": "2023-08-09T08:37:34.127Z"
   },
   {
    "duration": 63,
    "start_time": "2023-08-09T08:37:34.149Z"
   },
   {
    "duration": 11,
    "start_time": "2023-08-09T08:37:34.214Z"
   },
   {
    "duration": 30,
    "start_time": "2023-08-09T08:37:34.227Z"
   },
   {
    "duration": 10,
    "start_time": "2023-08-09T08:37:34.259Z"
   },
   {
    "duration": 13,
    "start_time": "2023-08-09T08:37:34.271Z"
   },
   {
    "duration": 15,
    "start_time": "2023-08-09T08:37:34.286Z"
   },
   {
    "duration": 5,
    "start_time": "2023-08-09T08:37:34.304Z"
   },
   {
    "duration": 178,
    "start_time": "2023-08-09T08:37:34.311Z"
   },
   {
    "duration": 112,
    "start_time": "2023-08-09T08:37:34.491Z"
   },
   {
    "duration": 266,
    "start_time": "2023-08-09T08:37:34.604Z"
   },
   {
    "duration": 170,
    "start_time": "2023-08-09T08:37:34.872Z"
   },
   {
    "duration": 214,
    "start_time": "2023-08-09T08:37:35.044Z"
   },
   {
    "duration": 24,
    "start_time": "2023-08-09T08:37:35.260Z"
   },
   {
    "duration": 18,
    "start_time": "2023-08-09T08:37:35.285Z"
   },
   {
    "duration": 16,
    "start_time": "2023-08-09T08:37:35.306Z"
   },
   {
    "duration": 209,
    "start_time": "2023-08-09T08:37:35.324Z"
   },
   {
    "duration": 185,
    "start_time": "2023-08-09T08:37:35.535Z"
   },
   {
    "duration": 36,
    "start_time": "2023-08-09T08:37:35.722Z"
   },
   {
    "duration": 134,
    "start_time": "2023-08-09T08:37:35.759Z"
   },
   {
    "duration": 29,
    "start_time": "2023-08-09T09:19:22.733Z"
   },
   {
    "duration": 1961,
    "start_time": "2023-08-09T09:19:42.982Z"
   },
   {
    "duration": 21,
    "start_time": "2023-08-09T09:19:58.435Z"
   },
   {
    "duration": 48,
    "start_time": "2023-08-09T16:33:00.988Z"
   },
   {
    "duration": 1215,
    "start_time": "2023-08-09T16:33:06.097Z"
   },
   {
    "duration": 80,
    "start_time": "2023-08-09T16:33:07.314Z"
   },
   {
    "duration": 10,
    "start_time": "2023-08-09T16:33:07.395Z"
   },
   {
    "duration": 13,
    "start_time": "2023-08-09T16:33:07.407Z"
   },
   {
    "duration": 72,
    "start_time": "2023-08-09T16:33:07.421Z"
   },
   {
    "duration": 10,
    "start_time": "2023-08-09T16:33:07.494Z"
   },
   {
    "duration": 17,
    "start_time": "2023-08-09T16:33:07.505Z"
   },
   {
    "duration": 54,
    "start_time": "2023-08-09T16:33:07.524Z"
   },
   {
    "duration": 9,
    "start_time": "2023-08-09T16:33:07.579Z"
   },
   {
    "duration": 24,
    "start_time": "2023-08-09T16:33:07.590Z"
   },
   {
    "duration": 6,
    "start_time": "2023-08-09T16:33:07.615Z"
   },
   {
    "duration": 10,
    "start_time": "2023-08-09T16:33:07.622Z"
   },
   {
    "duration": 13,
    "start_time": "2023-08-09T16:33:07.633Z"
   },
   {
    "duration": 4,
    "start_time": "2023-08-09T16:33:07.647Z"
   },
   {
    "duration": 130,
    "start_time": "2023-08-09T16:33:07.653Z"
   },
   {
    "duration": 95,
    "start_time": "2023-08-09T16:33:07.784Z"
   },
   {
    "duration": 222,
    "start_time": "2023-08-09T16:33:07.880Z"
   },
   {
    "duration": 137,
    "start_time": "2023-08-09T16:33:08.104Z"
   },
   {
    "duration": 190,
    "start_time": "2023-08-09T16:33:08.242Z"
   },
   {
    "duration": 26,
    "start_time": "2023-08-09T16:33:08.433Z"
   },
   {
    "duration": 17,
    "start_time": "2023-08-09T16:33:08.461Z"
   },
   {
    "duration": 15,
    "start_time": "2023-08-09T16:33:08.479Z"
   },
   {
    "duration": 183,
    "start_time": "2023-08-09T16:33:08.496Z"
   },
   {
    "duration": 172,
    "start_time": "2023-08-09T16:33:08.681Z"
   },
   {
    "duration": 29,
    "start_time": "2023-08-09T16:33:08.855Z"
   },
   {
    "duration": 90,
    "start_time": "2023-08-09T16:33:08.886Z"
   },
   {
    "duration": 11,
    "start_time": "2023-08-09T16:34:04.618Z"
   },
   {
    "duration": 23,
    "start_time": "2023-08-09T16:34:21.014Z"
   },
   {
    "duration": 30,
    "start_time": "2023-08-09T16:34:34.456Z"
   },
   {
    "duration": 26,
    "start_time": "2023-08-09T16:34:49.188Z"
   },
   {
    "duration": 27,
    "start_time": "2023-08-09T16:34:59.422Z"
   },
   {
    "duration": 22,
    "start_time": "2023-08-09T16:35:10.533Z"
   },
   {
    "duration": 13,
    "start_time": "2023-08-09T16:35:46.575Z"
   },
   {
    "duration": 68,
    "start_time": "2023-08-09T16:37:39.663Z"
   },
   {
    "duration": 8,
    "start_time": "2023-08-09T17:15:40.031Z"
   },
   {
    "duration": 1364,
    "start_time": "2023-08-09T17:16:10.750Z"
   },
   {
    "duration": 1257,
    "start_time": "2023-08-09T17:17:44.051Z"
   },
   {
    "duration": 34,
    "start_time": "2023-08-09T18:25:09.434Z"
   },
   {
    "duration": 34,
    "start_time": "2023-08-09T18:26:38.053Z"
   },
   {
    "duration": 1233,
    "start_time": "2023-08-09T18:32:02.126Z"
   },
   {
    "duration": 1270,
    "start_time": "2023-08-09T18:32:12.796Z"
   },
   {
    "duration": 2,
    "start_time": "2023-08-09T18:32:27.805Z"
   },
   {
    "duration": 37,
    "start_time": "2023-08-09T18:32:27.809Z"
   },
   {
    "duration": 9,
    "start_time": "2023-08-09T18:32:27.847Z"
   },
   {
    "duration": 23,
    "start_time": "2023-08-09T18:32:27.857Z"
   },
   {
    "duration": 41,
    "start_time": "2023-08-09T18:32:27.882Z"
   },
   {
    "duration": 10,
    "start_time": "2023-08-09T18:32:27.925Z"
   },
   {
    "duration": 32,
    "start_time": "2023-08-09T18:32:27.936Z"
   },
   {
    "duration": 18,
    "start_time": "2023-08-09T18:32:27.969Z"
   },
   {
    "duration": 9,
    "start_time": "2023-08-09T18:32:27.989Z"
   },
   {
    "duration": 19,
    "start_time": "2023-08-09T18:32:27.999Z"
   },
   {
    "duration": 16,
    "start_time": "2023-08-09T18:32:28.020Z"
   },
   {
    "duration": 9,
    "start_time": "2023-08-09T18:32:28.037Z"
   },
   {
    "duration": 12,
    "start_time": "2023-08-09T18:32:28.048Z"
   },
   {
    "duration": 5,
    "start_time": "2023-08-09T18:32:28.063Z"
   },
   {
    "duration": 133,
    "start_time": "2023-08-09T18:32:28.069Z"
   },
   {
    "duration": 88,
    "start_time": "2023-08-09T18:32:28.204Z"
   },
   {
    "duration": 211,
    "start_time": "2023-08-09T18:32:28.293Z"
   },
   {
    "duration": 122,
    "start_time": "2023-08-09T18:32:28.505Z"
   },
   {
    "duration": 176,
    "start_time": "2023-08-09T18:32:28.629Z"
   },
   {
    "duration": 31,
    "start_time": "2023-08-09T18:32:28.807Z"
   },
   {
    "duration": 15,
    "start_time": "2023-08-09T18:32:28.840Z"
   },
   {
    "duration": 15,
    "start_time": "2023-08-09T18:32:28.856Z"
   },
   {
    "duration": 160,
    "start_time": "2023-08-09T18:32:28.872Z"
   },
   {
    "duration": 153,
    "start_time": "2023-08-09T18:32:29.037Z"
   },
   {
    "duration": 50,
    "start_time": "2023-08-09T18:32:29.191Z"
   },
   {
    "duration": 1290,
    "start_time": "2023-08-09T18:32:29.242Z"
   },
   {
    "duration": 79,
    "start_time": "2023-08-09T18:34:04.117Z"
   },
   {
    "duration": 1447,
    "start_time": "2023-08-09T18:34:23.580Z"
   },
   {
    "duration": 1266,
    "start_time": "2023-08-09T18:34:34.203Z"
   },
   {
    "duration": 138,
    "start_time": "2023-08-09T19:16:45.079Z"
   },
   {
    "duration": 1374,
    "start_time": "2023-08-09T19:16:50.355Z"
   },
   {
    "duration": 36,
    "start_time": "2023-08-09T19:17:19.886Z"
   },
   {
    "duration": 35,
    "start_time": "2023-08-09T19:18:01.651Z"
   },
   {
    "duration": 34,
    "start_time": "2023-08-09T19:22:16.196Z"
   },
   {
    "duration": 20,
    "start_time": "2023-08-09T19:22:20.439Z"
   },
   {
    "duration": 89,
    "start_time": "2023-08-09T19:32:07.434Z"
   },
   {
    "duration": 112,
    "start_time": "2023-08-09T19:32:14.996Z"
   },
   {
    "duration": 3,
    "start_time": "2023-08-09T19:32:25.292Z"
   },
   {
    "duration": 34,
    "start_time": "2023-08-09T19:32:25.297Z"
   },
   {
    "duration": 9,
    "start_time": "2023-08-09T19:32:25.332Z"
   },
   {
    "duration": 17,
    "start_time": "2023-08-09T19:32:25.343Z"
   },
   {
    "duration": 29,
    "start_time": "2023-08-09T19:32:25.361Z"
   },
   {
    "duration": 9,
    "start_time": "2023-08-09T19:32:25.391Z"
   },
   {
    "duration": 16,
    "start_time": "2023-08-09T19:32:25.402Z"
   },
   {
    "duration": 19,
    "start_time": "2023-08-09T19:32:25.419Z"
   },
   {
    "duration": 8,
    "start_time": "2023-08-09T19:32:25.440Z"
   },
   {
    "duration": 15,
    "start_time": "2023-08-09T19:32:25.449Z"
   },
   {
    "duration": 5,
    "start_time": "2023-08-09T19:32:25.466Z"
   },
   {
    "duration": 10,
    "start_time": "2023-08-09T19:32:25.472Z"
   },
   {
    "duration": 13,
    "start_time": "2023-08-09T19:32:25.484Z"
   },
   {
    "duration": 20,
    "start_time": "2023-08-09T19:32:25.499Z"
   },
   {
    "duration": 76,
    "start_time": "2023-08-09T19:32:25.520Z"
   },
   {
    "duration": 0,
    "start_time": "2023-08-09T19:32:25.598Z"
   },
   {
    "duration": 0,
    "start_time": "2023-08-09T19:32:25.599Z"
   },
   {
    "duration": 0,
    "start_time": "2023-08-09T19:32:25.602Z"
   },
   {
    "duration": 0,
    "start_time": "2023-08-09T19:32:25.603Z"
   },
   {
    "duration": 0,
    "start_time": "2023-08-09T19:32:25.604Z"
   },
   {
    "duration": 0,
    "start_time": "2023-08-09T19:32:25.605Z"
   },
   {
    "duration": 0,
    "start_time": "2023-08-09T19:32:25.606Z"
   },
   {
    "duration": 0,
    "start_time": "2023-08-09T19:32:25.606Z"
   },
   {
    "duration": 0,
    "start_time": "2023-08-09T19:32:25.607Z"
   },
   {
    "duration": 0,
    "start_time": "2023-08-09T19:32:25.608Z"
   },
   {
    "duration": 0,
    "start_time": "2023-08-09T19:32:25.609Z"
   },
   {
    "duration": 3,
    "start_time": "2023-08-09T19:33:07.996Z"
   },
   {
    "duration": 45,
    "start_time": "2023-08-09T19:33:08.001Z"
   },
   {
    "duration": 10,
    "start_time": "2023-08-09T19:33:08.047Z"
   },
   {
    "duration": 15,
    "start_time": "2023-08-09T19:33:08.058Z"
   },
   {
    "duration": 31,
    "start_time": "2023-08-09T19:33:08.074Z"
   },
   {
    "duration": 9,
    "start_time": "2023-08-09T19:33:08.107Z"
   },
   {
    "duration": 32,
    "start_time": "2023-08-09T19:33:08.117Z"
   },
   {
    "duration": 19,
    "start_time": "2023-08-09T19:33:08.150Z"
   },
   {
    "duration": 8,
    "start_time": "2023-08-09T19:33:08.170Z"
   },
   {
    "duration": 30,
    "start_time": "2023-08-09T19:33:08.179Z"
   },
   {
    "duration": 22,
    "start_time": "2023-08-09T19:33:08.210Z"
   },
   {
    "duration": 12,
    "start_time": "2023-08-09T19:33:08.233Z"
   },
   {
    "duration": 25,
    "start_time": "2023-08-09T19:33:08.247Z"
   },
   {
    "duration": 4,
    "start_time": "2023-08-09T19:33:08.274Z"
   },
   {
    "duration": 77,
    "start_time": "2023-08-09T19:33:08.279Z"
   },
   {
    "duration": 0,
    "start_time": "2023-08-09T19:33:08.358Z"
   },
   {
    "duration": 0,
    "start_time": "2023-08-09T19:33:08.359Z"
   },
   {
    "duration": 0,
    "start_time": "2023-08-09T19:33:08.360Z"
   },
   {
    "duration": 0,
    "start_time": "2023-08-09T19:33:08.362Z"
   },
   {
    "duration": 0,
    "start_time": "2023-08-09T19:33:08.363Z"
   },
   {
    "duration": 0,
    "start_time": "2023-08-09T19:33:08.364Z"
   },
   {
    "duration": 0,
    "start_time": "2023-08-09T19:33:08.365Z"
   },
   {
    "duration": 0,
    "start_time": "2023-08-09T19:33:08.366Z"
   },
   {
    "duration": 0,
    "start_time": "2023-08-09T19:33:08.368Z"
   },
   {
    "duration": 0,
    "start_time": "2023-08-09T19:33:08.369Z"
   },
   {
    "duration": 0,
    "start_time": "2023-08-09T19:33:08.370Z"
   },
   {
    "duration": 72,
    "start_time": "2023-08-09T19:33:17.945Z"
   },
   {
    "duration": 79,
    "start_time": "2023-08-09T19:34:43.441Z"
   },
   {
    "duration": 79,
    "start_time": "2023-08-09T19:35:03.907Z"
   },
   {
    "duration": 98,
    "start_time": "2023-08-09T19:35:41.157Z"
   },
   {
    "duration": 129,
    "start_time": "2023-08-09T19:35:55.643Z"
   },
   {
    "duration": 129,
    "start_time": "2023-08-09T19:36:12.536Z"
   },
   {
    "duration": 126,
    "start_time": "2023-08-09T19:36:30.694Z"
   },
   {
    "duration": 2,
    "start_time": "2023-08-09T19:36:44.797Z"
   },
   {
    "duration": 36,
    "start_time": "2023-08-09T19:36:44.805Z"
   },
   {
    "duration": 9,
    "start_time": "2023-08-09T19:36:44.842Z"
   },
   {
    "duration": 13,
    "start_time": "2023-08-09T19:36:44.852Z"
   },
   {
    "duration": 28,
    "start_time": "2023-08-09T19:36:44.866Z"
   },
   {
    "duration": 9,
    "start_time": "2023-08-09T19:36:44.896Z"
   },
   {
    "duration": 32,
    "start_time": "2023-08-09T19:36:44.906Z"
   },
   {
    "duration": 18,
    "start_time": "2023-08-09T19:36:44.939Z"
   },
   {
    "duration": 66,
    "start_time": "2023-08-09T19:36:44.958Z"
   },
   {
    "duration": 36,
    "start_time": "2023-08-09T19:36:45.025Z"
   },
   {
    "duration": 27,
    "start_time": "2023-08-09T19:36:45.063Z"
   },
   {
    "duration": 22,
    "start_time": "2023-08-09T19:36:45.092Z"
   },
   {
    "duration": 17,
    "start_time": "2023-08-09T19:36:45.116Z"
   },
   {
    "duration": 12,
    "start_time": "2023-08-09T19:36:45.134Z"
   },
   {
    "duration": 126,
    "start_time": "2023-08-09T19:36:45.148Z"
   },
   {
    "duration": 89,
    "start_time": "2023-08-09T19:36:45.275Z"
   },
   {
    "duration": 200,
    "start_time": "2023-08-09T19:36:45.365Z"
   },
   {
    "duration": 72,
    "start_time": "2023-08-09T19:36:45.567Z"
   },
   {
    "duration": 0,
    "start_time": "2023-08-09T19:36:45.640Z"
   },
   {
    "duration": 0,
    "start_time": "2023-08-09T19:36:45.641Z"
   },
   {
    "duration": 0,
    "start_time": "2023-08-09T19:36:45.642Z"
   },
   {
    "duration": 0,
    "start_time": "2023-08-09T19:36:45.643Z"
   },
   {
    "duration": 0,
    "start_time": "2023-08-09T19:36:45.644Z"
   },
   {
    "duration": 0,
    "start_time": "2023-08-09T19:36:45.645Z"
   },
   {
    "duration": 1,
    "start_time": "2023-08-09T19:36:45.645Z"
   },
   {
    "duration": 0,
    "start_time": "2023-08-09T19:36:45.646Z"
   },
   {
    "duration": 133,
    "start_time": "2023-08-09T19:37:54.827Z"
   },
   {
    "duration": 110,
    "start_time": "2023-08-09T19:37:58.922Z"
   },
   {
    "duration": 103,
    "start_time": "2023-08-09T19:38:06.863Z"
   },
   {
    "duration": 224,
    "start_time": "2023-08-09T19:38:42.849Z"
   },
   {
    "duration": 140,
    "start_time": "2023-08-09T19:39:33.699Z"
   },
   {
    "duration": 138,
    "start_time": "2023-08-09T19:39:43.136Z"
   },
   {
    "duration": 5,
    "start_time": "2023-08-09T19:39:51.889Z"
   },
   {
    "duration": 58,
    "start_time": "2023-08-09T19:39:51.896Z"
   },
   {
    "duration": 9,
    "start_time": "2023-08-09T19:39:51.956Z"
   },
   {
    "duration": 41,
    "start_time": "2023-08-09T19:39:51.967Z"
   },
   {
    "duration": 39,
    "start_time": "2023-08-09T19:39:52.010Z"
   },
   {
    "duration": 9,
    "start_time": "2023-08-09T19:39:52.051Z"
   },
   {
    "duration": 14,
    "start_time": "2023-08-09T19:39:52.062Z"
   },
   {
    "duration": 18,
    "start_time": "2023-08-09T19:39:52.078Z"
   },
   {
    "duration": 8,
    "start_time": "2023-08-09T19:39:52.097Z"
   },
   {
    "duration": 19,
    "start_time": "2023-08-09T19:39:52.107Z"
   },
   {
    "duration": 6,
    "start_time": "2023-08-09T19:39:52.137Z"
   },
   {
    "duration": 12,
    "start_time": "2023-08-09T19:39:52.145Z"
   },
   {
    "duration": 177,
    "start_time": "2023-08-09T19:39:52.158Z"
   },
   {
    "duration": 5,
    "start_time": "2023-08-09T19:39:52.336Z"
   },
   {
    "duration": 171,
    "start_time": "2023-08-09T19:39:52.342Z"
   },
   {
    "duration": 163,
    "start_time": "2023-08-09T19:39:52.515Z"
   },
   {
    "duration": 231,
    "start_time": "2023-08-09T19:39:52.680Z"
   },
   {
    "duration": 149,
    "start_time": "2023-08-09T19:39:52.912Z"
   },
   {
    "duration": 172,
    "start_time": "2023-08-09T19:39:53.062Z"
   },
   {
    "duration": 22,
    "start_time": "2023-08-09T19:39:53.237Z"
   },
   {
    "duration": 14,
    "start_time": "2023-08-09T19:39:53.260Z"
   },
   {
    "duration": 31,
    "start_time": "2023-08-09T19:39:53.276Z"
   },
   {
    "duration": 152,
    "start_time": "2023-08-09T19:39:53.308Z"
   },
   {
    "duration": 158,
    "start_time": "2023-08-09T19:39:53.461Z"
   },
   {
    "duration": 1223,
    "start_time": "2023-08-09T19:39:53.621Z"
   },
   {
    "duration": 0,
    "start_time": "2023-08-09T19:39:54.845Z"
   },
   {
    "duration": 1005,
    "start_time": "2023-08-09T19:40:32.398Z"
   },
   {
    "duration": 35,
    "start_time": "2023-08-09T19:40:33.405Z"
   },
   {
    "duration": 9,
    "start_time": "2023-08-09T19:40:33.442Z"
   },
   {
    "duration": 21,
    "start_time": "2023-08-09T19:40:33.453Z"
   },
   {
    "duration": 30,
    "start_time": "2023-08-09T19:40:33.476Z"
   },
   {
    "duration": 10,
    "start_time": "2023-08-09T19:40:33.508Z"
   },
   {
    "duration": 15,
    "start_time": "2023-08-09T19:40:33.519Z"
   },
   {
    "duration": 17,
    "start_time": "2023-08-09T19:40:33.538Z"
   },
   {
    "duration": 15,
    "start_time": "2023-08-09T19:40:33.557Z"
   },
   {
    "duration": 50,
    "start_time": "2023-08-09T19:40:33.573Z"
   },
   {
    "duration": 55,
    "start_time": "2023-08-09T19:40:33.624Z"
   },
   {
    "duration": 17,
    "start_time": "2023-08-09T19:40:33.680Z"
   },
   {
    "duration": 22,
    "start_time": "2023-08-09T19:40:33.699Z"
   },
   {
    "duration": 8,
    "start_time": "2023-08-09T19:40:33.723Z"
   },
   {
    "duration": 151,
    "start_time": "2023-08-09T19:40:33.732Z"
   },
   {
    "duration": 105,
    "start_time": "2023-08-09T19:40:33.884Z"
   },
   {
    "duration": 221,
    "start_time": "2023-08-09T19:40:33.991Z"
   },
   {
    "duration": 137,
    "start_time": "2023-08-09T19:40:34.214Z"
   },
   {
    "duration": 170,
    "start_time": "2023-08-09T19:40:34.353Z"
   },
   {
    "duration": 35,
    "start_time": "2023-08-09T19:40:34.525Z"
   },
   {
    "duration": 18,
    "start_time": "2023-08-09T19:40:34.562Z"
   },
   {
    "duration": 19,
    "start_time": "2023-08-09T19:40:34.582Z"
   },
   {
    "duration": 189,
    "start_time": "2023-08-09T19:40:34.602Z"
   },
   {
    "duration": 157,
    "start_time": "2023-08-09T19:40:34.793Z"
   },
   {
    "duration": 107,
    "start_time": "2023-08-09T19:40:34.951Z"
   },
   {
    "duration": 0,
    "start_time": "2023-08-09T19:40:35.060Z"
   },
   {
    "duration": 201,
    "start_time": "2023-08-09T19:41:37.761Z"
   },
   {
    "duration": 143,
    "start_time": "2023-08-09T19:41:48.153Z"
   },
   {
    "duration": 125,
    "start_time": "2023-08-09T19:42:30.008Z"
   },
   {
    "duration": 123,
    "start_time": "2023-08-09T19:42:34.142Z"
   },
   {
    "duration": 1035,
    "start_time": "2023-08-09T19:43:10.172Z"
   },
   {
    "duration": 35,
    "start_time": "2023-08-09T19:43:11.209Z"
   },
   {
    "duration": 10,
    "start_time": "2023-08-09T19:43:11.246Z"
   },
   {
    "duration": 16,
    "start_time": "2023-08-09T19:43:11.258Z"
   },
   {
    "duration": 30,
    "start_time": "2023-08-09T19:43:11.275Z"
   },
   {
    "duration": 10,
    "start_time": "2023-08-09T19:43:11.306Z"
   },
   {
    "duration": 26,
    "start_time": "2023-08-09T19:43:11.317Z"
   },
   {
    "duration": 17,
    "start_time": "2023-08-09T19:43:11.345Z"
   },
   {
    "duration": 8,
    "start_time": "2023-08-09T19:43:11.364Z"
   },
   {
    "duration": 24,
    "start_time": "2023-08-09T19:43:11.374Z"
   },
   {
    "duration": 10,
    "start_time": "2023-08-09T19:43:11.400Z"
   },
   {
    "duration": 10,
    "start_time": "2023-08-09T19:43:11.411Z"
   },
   {
    "duration": 17,
    "start_time": "2023-08-09T19:43:11.422Z"
   },
   {
    "duration": 4,
    "start_time": "2023-08-09T19:43:11.441Z"
   },
   {
    "duration": 158,
    "start_time": "2023-08-09T19:43:11.446Z"
   },
   {
    "duration": 100,
    "start_time": "2023-08-09T19:43:11.605Z"
   },
   {
    "duration": 243,
    "start_time": "2023-08-09T19:43:11.707Z"
   },
   {
    "duration": 135,
    "start_time": "2023-08-09T19:43:11.952Z"
   },
   {
    "duration": 174,
    "start_time": "2023-08-09T19:43:12.088Z"
   },
   {
    "duration": 24,
    "start_time": "2023-08-09T19:43:12.263Z"
   },
   {
    "duration": 14,
    "start_time": "2023-08-09T19:43:12.289Z"
   },
   {
    "duration": 36,
    "start_time": "2023-08-09T19:43:12.304Z"
   },
   {
    "duration": 148,
    "start_time": "2023-08-09T19:43:12.341Z"
   },
   {
    "duration": 151,
    "start_time": "2023-08-09T19:43:12.490Z"
   },
   {
    "duration": 104,
    "start_time": "2023-08-09T19:43:12.643Z"
   },
   {
    "duration": 0,
    "start_time": "2023-08-09T19:43:12.749Z"
   },
   {
    "duration": 245,
    "start_time": "2023-08-09T19:44:12.338Z"
   },
   {
    "duration": 174,
    "start_time": "2023-08-09T19:44:19.090Z"
   },
   {
    "duration": 9,
    "start_time": "2023-08-09T19:44:58.255Z"
   },
   {
    "duration": 33,
    "start_time": "2023-08-09T19:45:24.865Z"
   },
   {
    "duration": 1312,
    "start_time": "2023-08-09T19:45:31.507Z"
   },
   {
    "duration": 3,
    "start_time": "2023-08-09T19:46:29.210Z"
   },
   {
    "duration": 16,
    "start_time": "2023-08-09T19:46:33.314Z"
   },
   {
    "duration": 3,
    "start_time": "2023-08-09T19:47:30.959Z"
   },
   {
    "duration": 31,
    "start_time": "2023-08-09T19:47:32.762Z"
   },
   {
    "duration": 22,
    "start_time": "2023-08-09T19:47:36.039Z"
   },
   {
    "duration": 8,
    "start_time": "2023-08-09T20:32:40.664Z"
   },
   {
    "duration": 8,
    "start_time": "2023-08-09T20:33:28.367Z"
   },
   {
    "duration": 1246,
    "start_time": "2023-08-09T20:33:34.612Z"
   },
   {
    "duration": 20,
    "start_time": "2023-08-09T20:35:21.347Z"
   },
   {
    "duration": 7,
    "start_time": "2023-08-09T20:35:43.739Z"
   },
   {
    "duration": 7,
    "start_time": "2023-08-09T20:36:26.572Z"
   },
   {
    "duration": 8,
    "start_time": "2023-08-09T20:39:06.782Z"
   },
   {
    "duration": 2,
    "start_time": "2023-08-09T20:39:16.496Z"
   },
   {
    "duration": 35,
    "start_time": "2023-08-09T20:39:16.501Z"
   },
   {
    "duration": 10,
    "start_time": "2023-08-09T20:39:16.537Z"
   },
   {
    "duration": 14,
    "start_time": "2023-08-09T20:39:16.549Z"
   },
   {
    "duration": 30,
    "start_time": "2023-08-09T20:39:16.564Z"
   },
   {
    "duration": 11,
    "start_time": "2023-08-09T20:39:16.596Z"
   },
   {
    "duration": 34,
    "start_time": "2023-08-09T20:39:16.608Z"
   },
   {
    "duration": 17,
    "start_time": "2023-08-09T20:39:16.643Z"
   },
   {
    "duration": 8,
    "start_time": "2023-08-09T20:39:16.661Z"
   },
   {
    "duration": 17,
    "start_time": "2023-08-09T20:39:16.670Z"
   },
   {
    "duration": 7,
    "start_time": "2023-08-09T20:39:16.690Z"
   },
   {
    "duration": 15,
    "start_time": "2023-08-09T20:39:16.699Z"
   },
   {
    "duration": 22,
    "start_time": "2023-08-09T20:39:16.716Z"
   },
   {
    "duration": 4,
    "start_time": "2023-08-09T20:39:16.740Z"
   },
   {
    "duration": 146,
    "start_time": "2023-08-09T20:39:16.746Z"
   },
   {
    "duration": 106,
    "start_time": "2023-08-09T20:39:16.894Z"
   },
   {
    "duration": 237,
    "start_time": "2023-08-09T20:39:17.002Z"
   },
   {
    "duration": 135,
    "start_time": "2023-08-09T20:39:17.240Z"
   },
   {
    "duration": 175,
    "start_time": "2023-08-09T20:39:17.377Z"
   },
   {
    "duration": 22,
    "start_time": "2023-08-09T20:39:17.554Z"
   },
   {
    "duration": 15,
    "start_time": "2023-08-09T20:39:17.577Z"
   },
   {
    "duration": 14,
    "start_time": "2023-08-09T20:39:17.593Z"
   },
   {
    "duration": 162,
    "start_time": "2023-08-09T20:39:17.608Z"
   },
   {
    "duration": 154,
    "start_time": "2023-08-09T20:39:17.771Z"
   },
   {
    "duration": 3,
    "start_time": "2023-08-09T20:39:17.926Z"
   },
   {
    "duration": 38,
    "start_time": "2023-08-09T20:39:17.931Z"
   },
   {
    "duration": 18,
    "start_time": "2023-08-09T20:39:17.970Z"
   },
   {
    "duration": 5,
    "start_time": "2023-08-09T20:39:17.991Z"
   },
   {
    "duration": 10,
    "start_time": "2023-08-09T20:39:17.997Z"
   },
   {
    "duration": 10,
    "start_time": "2023-08-09T20:39:18.008Z"
   },
   {
    "duration": 5,
    "start_time": "2023-08-09T21:06:45.067Z"
   },
   {
    "duration": 5,
    "start_time": "2023-08-09T21:06:47.770Z"
   },
   {
    "duration": 7,
    "start_time": "2023-08-09T21:06:57.735Z"
   },
   {
    "duration": 5,
    "start_time": "2023-08-09T21:07:06.607Z"
   },
   {
    "duration": 6,
    "start_time": "2023-08-09T21:07:11.024Z"
   },
   {
    "duration": 5,
    "start_time": "2023-08-09T21:08:35.264Z"
   },
   {
    "duration": 7,
    "start_time": "2023-08-09T21:16:52.468Z"
   },
   {
    "duration": 7,
    "start_time": "2023-08-09T21:16:56.640Z"
   },
   {
    "duration": 9,
    "start_time": "2023-08-09T21:23:20.956Z"
   },
   {
    "duration": 5,
    "start_time": "2023-08-09T21:29:09.643Z"
   },
   {
    "duration": 4,
    "start_time": "2023-08-09T21:29:27.722Z"
   },
   {
    "duration": 5,
    "start_time": "2023-08-09T21:30:05.973Z"
   },
   {
    "duration": 5,
    "start_time": "2023-08-09T21:30:41.472Z"
   },
   {
    "duration": 6,
    "start_time": "2023-08-09T21:40:30.190Z"
   },
   {
    "duration": 4,
    "start_time": "2023-08-09T21:44:41.484Z"
   },
   {
    "duration": 6,
    "start_time": "2023-08-09T21:44:57.690Z"
   },
   {
    "duration": 4,
    "start_time": "2023-08-09T21:47:13.848Z"
   },
   {
    "duration": 4,
    "start_time": "2023-08-09T21:47:46.617Z"
   },
   {
    "duration": 12,
    "start_time": "2023-08-09T21:47:48.817Z"
   },
   {
    "duration": 4,
    "start_time": "2023-08-09T21:48:09.260Z"
   },
   {
    "duration": 13,
    "start_time": "2023-08-09T21:48:15.476Z"
   },
   {
    "duration": 4,
    "start_time": "2023-08-09T21:48:16.640Z"
   },
   {
    "duration": 3,
    "start_time": "2023-08-09T21:48:28.923Z"
   },
   {
    "duration": 44,
    "start_time": "2023-08-09T21:48:28.927Z"
   },
   {
    "duration": 9,
    "start_time": "2023-08-09T21:48:28.972Z"
   },
   {
    "duration": 13,
    "start_time": "2023-08-09T21:48:28.982Z"
   },
   {
    "duration": 27,
    "start_time": "2023-08-09T21:48:28.997Z"
   },
   {
    "duration": 9,
    "start_time": "2023-08-09T21:48:29.025Z"
   },
   {
    "duration": 15,
    "start_time": "2023-08-09T21:48:29.035Z"
   },
   {
    "duration": 18,
    "start_time": "2023-08-09T21:48:29.051Z"
   },
   {
    "duration": 8,
    "start_time": "2023-08-09T21:48:29.070Z"
   },
   {
    "duration": 26,
    "start_time": "2023-08-09T21:48:29.080Z"
   },
   {
    "duration": 18,
    "start_time": "2023-08-09T21:48:29.108Z"
   },
   {
    "duration": 31,
    "start_time": "2023-08-09T21:48:29.127Z"
   },
   {
    "duration": 19,
    "start_time": "2023-08-09T21:48:29.160Z"
   },
   {
    "duration": 4,
    "start_time": "2023-08-09T21:48:29.180Z"
   },
   {
    "duration": 7,
    "start_time": "2023-08-09T21:48:29.185Z"
   },
   {
    "duration": 24,
    "start_time": "2023-08-09T21:48:29.193Z"
   },
   {
    "duration": 3,
    "start_time": "2023-08-09T21:48:29.219Z"
   },
   {
    "duration": 135,
    "start_time": "2023-08-09T21:48:29.223Z"
   },
   {
    "duration": 178,
    "start_time": "2023-08-09T21:48:29.360Z"
   },
   {
    "duration": 220,
    "start_time": "2023-08-09T21:48:29.540Z"
   },
   {
    "duration": 125,
    "start_time": "2023-08-09T21:48:29.762Z"
   },
   {
    "duration": 172,
    "start_time": "2023-08-09T21:48:29.888Z"
   },
   {
    "duration": 21,
    "start_time": "2023-08-09T21:48:30.061Z"
   },
   {
    "duration": 14,
    "start_time": "2023-08-09T21:48:30.083Z"
   },
   {
    "duration": 25,
    "start_time": "2023-08-09T21:48:30.098Z"
   },
   {
    "duration": 157,
    "start_time": "2023-08-09T21:48:30.124Z"
   },
   {
    "duration": 160,
    "start_time": "2023-08-09T21:48:30.282Z"
   },
   {
    "duration": 3,
    "start_time": "2023-08-09T21:48:30.443Z"
   },
   {
    "duration": 65,
    "start_time": "2023-08-09T21:48:30.449Z"
   },
   {
    "duration": 18,
    "start_time": "2023-08-09T21:48:30.515Z"
   },
   {
    "duration": 17,
    "start_time": "2023-08-09T21:48:30.535Z"
   },
   {
    "duration": 15,
    "start_time": "2023-08-09T21:48:30.553Z"
   },
   {
    "duration": 33,
    "start_time": "2023-08-09T21:48:30.569Z"
   },
   {
    "duration": 15,
    "start_time": "2023-08-09T21:49:28.866Z"
   },
   {
    "duration": 4,
    "start_time": "2023-08-09T21:49:32.347Z"
   },
   {
    "duration": 13,
    "start_time": "2023-08-09T21:49:38.714Z"
   },
   {
    "duration": 4,
    "start_time": "2023-08-09T21:49:41.351Z"
   },
   {
    "duration": 13,
    "start_time": "2023-08-09T21:49:43.949Z"
   },
   {
    "duration": 4,
    "start_time": "2023-08-09T21:49:46.530Z"
   },
   {
    "duration": 2,
    "start_time": "2023-08-09T21:51:24.701Z"
   },
   {
    "duration": 32,
    "start_time": "2023-08-09T21:51:24.707Z"
   },
   {
    "duration": 8,
    "start_time": "2023-08-09T21:51:24.741Z"
   },
   {
    "duration": 20,
    "start_time": "2023-08-09T21:51:24.750Z"
   },
   {
    "duration": 28,
    "start_time": "2023-08-09T21:51:24.772Z"
   },
   {
    "duration": 8,
    "start_time": "2023-08-09T21:51:24.802Z"
   },
   {
    "duration": 22,
    "start_time": "2023-08-09T21:51:24.811Z"
   },
   {
    "duration": 18,
    "start_time": "2023-08-09T21:51:24.837Z"
   },
   {
    "duration": 8,
    "start_time": "2023-08-09T21:51:24.857Z"
   },
   {
    "duration": 38,
    "start_time": "2023-08-09T21:51:24.866Z"
   },
   {
    "duration": 6,
    "start_time": "2023-08-09T21:51:24.907Z"
   },
   {
    "duration": 8,
    "start_time": "2023-08-09T21:51:24.914Z"
   },
   {
    "duration": 12,
    "start_time": "2023-08-09T21:51:24.923Z"
   },
   {
    "duration": 5,
    "start_time": "2023-08-09T21:51:24.936Z"
   },
   {
    "duration": 7,
    "start_time": "2023-08-09T21:51:24.942Z"
   },
   {
    "duration": 13,
    "start_time": "2023-08-09T21:51:24.950Z"
   },
   {
    "duration": 134,
    "start_time": "2023-08-09T21:51:24.965Z"
   },
   {
    "duration": 102,
    "start_time": "2023-08-09T21:51:25.101Z"
   },
   {
    "duration": 221,
    "start_time": "2023-08-09T21:51:25.204Z"
   },
   {
    "duration": 184,
    "start_time": "2023-08-09T21:51:25.426Z"
   },
   {
    "duration": 170,
    "start_time": "2023-08-09T21:51:25.611Z"
   },
   {
    "duration": 20,
    "start_time": "2023-08-09T21:51:25.782Z"
   },
   {
    "duration": 14,
    "start_time": "2023-08-09T21:51:25.803Z"
   },
   {
    "duration": 25,
    "start_time": "2023-08-09T21:51:25.818Z"
   },
   {
    "duration": 147,
    "start_time": "2023-08-09T21:51:25.844Z"
   },
   {
    "duration": 153,
    "start_time": "2023-08-09T21:51:25.992Z"
   },
   {
    "duration": 4,
    "start_time": "2023-08-09T21:51:26.146Z"
   },
   {
    "duration": 33,
    "start_time": "2023-08-09T21:51:26.151Z"
   },
   {
    "duration": 18,
    "start_time": "2023-08-09T21:51:26.187Z"
   },
   {
    "duration": 6,
    "start_time": "2023-08-09T21:51:26.206Z"
   },
   {
    "duration": 30,
    "start_time": "2023-08-09T21:51:26.213Z"
   },
   {
    "duration": 5,
    "start_time": "2023-08-09T21:51:26.245Z"
   },
   {
    "duration": 97,
    "start_time": "2023-08-09T21:53:45.499Z"
   },
   {
    "duration": 13,
    "start_time": "2023-08-09T21:53:49.140Z"
   },
   {
    "duration": 13,
    "start_time": "2023-08-09T21:54:24.941Z"
   },
   {
    "duration": 6,
    "start_time": "2023-08-09T21:55:31.856Z"
   },
   {
    "duration": 19,
    "start_time": "2023-08-09T21:55:36.264Z"
   },
   {
    "duration": 4,
    "start_time": "2023-08-09T21:55:59.937Z"
   },
   {
    "duration": 3,
    "start_time": "2023-08-09T21:56:11.688Z"
   },
   {
    "duration": 53,
    "start_time": "2023-08-09T21:56:11.696Z"
   },
   {
    "duration": 13,
    "start_time": "2023-08-09T21:56:11.751Z"
   },
   {
    "duration": 24,
    "start_time": "2023-08-09T21:56:11.766Z"
   },
   {
    "duration": 49,
    "start_time": "2023-08-09T21:56:11.792Z"
   },
   {
    "duration": 12,
    "start_time": "2023-08-09T21:56:11.843Z"
   },
   {
    "duration": 23,
    "start_time": "2023-08-09T21:56:11.858Z"
   },
   {
    "duration": 25,
    "start_time": "2023-08-09T21:56:11.884Z"
   },
   {
    "duration": 11,
    "start_time": "2023-08-09T21:56:11.910Z"
   },
   {
    "duration": 17,
    "start_time": "2023-08-09T21:56:11.937Z"
   },
   {
    "duration": 14,
    "start_time": "2023-08-09T21:56:11.957Z"
   },
   {
    "duration": 19,
    "start_time": "2023-08-09T21:56:11.973Z"
   },
   {
    "duration": 15,
    "start_time": "2023-08-09T21:56:11.994Z"
   },
   {
    "duration": 5,
    "start_time": "2023-08-09T21:56:12.010Z"
   },
   {
    "duration": 4,
    "start_time": "2023-08-09T21:56:12.038Z"
   },
   {
    "duration": 16,
    "start_time": "2023-08-09T21:56:12.044Z"
   },
   {
    "duration": 16,
    "start_time": "2023-08-09T21:56:12.061Z"
   },
   {
    "duration": 187,
    "start_time": "2023-08-09T21:56:12.079Z"
   },
   {
    "duration": 115,
    "start_time": "2023-08-09T21:56:12.268Z"
   },
   {
    "duration": 241,
    "start_time": "2023-08-09T21:56:12.385Z"
   },
   {
    "duration": 147,
    "start_time": "2023-08-09T21:56:12.628Z"
   },
   {
    "duration": 220,
    "start_time": "2023-08-09T21:56:12.777Z"
   },
   {
    "duration": 24,
    "start_time": "2023-08-09T21:56:12.999Z"
   },
   {
    "duration": 17,
    "start_time": "2023-08-09T21:56:13.038Z"
   },
   {
    "duration": 20,
    "start_time": "2023-08-09T21:56:13.057Z"
   },
   {
    "duration": 185,
    "start_time": "2023-08-09T21:56:13.079Z"
   },
   {
    "duration": 241,
    "start_time": "2023-08-09T21:56:13.266Z"
   },
   {
    "duration": 4,
    "start_time": "2023-08-09T21:56:13.509Z"
   },
   {
    "duration": 49,
    "start_time": "2023-08-09T21:56:13.515Z"
   },
   {
    "duration": 19,
    "start_time": "2023-08-09T21:56:13.566Z"
   },
   {
    "duration": 6,
    "start_time": "2023-08-09T21:56:13.587Z"
   },
   {
    "duration": 8,
    "start_time": "2023-08-09T21:56:13.594Z"
   },
   {
    "duration": 6,
    "start_time": "2023-08-09T21:56:13.603Z"
   },
   {
    "duration": 6,
    "start_time": "2023-08-09T22:39:43.379Z"
   },
   {
    "duration": 14,
    "start_time": "2023-08-09T22:44:32.888Z"
   },
   {
    "duration": 1318,
    "start_time": "2023-08-09T22:44:52.985Z"
   },
   {
    "duration": 27,
    "start_time": "2023-08-09T22:45:50.622Z"
   },
   {
    "duration": 28,
    "start_time": "2023-08-09T22:45:54.330Z"
   },
   {
    "duration": 21,
    "start_time": "2023-08-09T22:46:08.787Z"
   },
   {
    "duration": 9,
    "start_time": "2023-08-09T22:51:30.451Z"
   },
   {
    "duration": 6,
    "start_time": "2023-08-09T22:54:29.586Z"
   },
   {
    "duration": 6,
    "start_time": "2023-08-09T22:55:29.586Z"
   },
   {
    "duration": 7,
    "start_time": "2023-08-09T22:56:04.999Z"
   },
   {
    "duration": 6,
    "start_time": "2023-08-09T22:56:08.577Z"
   },
   {
    "duration": 1659,
    "start_time": "2023-08-09T23:00:26.247Z"
   },
   {
    "duration": 1456,
    "start_time": "2023-08-09T23:01:03.867Z"
   },
   {
    "duration": 2,
    "start_time": "2023-08-09T23:01:47.544Z"
   },
   {
    "duration": 34,
    "start_time": "2023-08-09T23:01:47.548Z"
   },
   {
    "duration": 8,
    "start_time": "2023-08-09T23:01:47.583Z"
   },
   {
    "duration": 23,
    "start_time": "2023-08-09T23:01:47.592Z"
   },
   {
    "duration": 31,
    "start_time": "2023-08-09T23:01:47.617Z"
   },
   {
    "duration": 9,
    "start_time": "2023-08-09T23:01:47.650Z"
   },
   {
    "duration": 15,
    "start_time": "2023-08-09T23:01:47.660Z"
   },
   {
    "duration": 17,
    "start_time": "2023-08-09T23:01:47.676Z"
   },
   {
    "duration": 8,
    "start_time": "2023-08-09T23:01:47.695Z"
   },
   {
    "duration": 21,
    "start_time": "2023-08-09T23:01:47.704Z"
   },
   {
    "duration": 6,
    "start_time": "2023-08-09T23:01:47.737Z"
   },
   {
    "duration": 10,
    "start_time": "2023-08-09T23:01:47.744Z"
   },
   {
    "duration": 12,
    "start_time": "2023-08-09T23:01:47.755Z"
   },
   {
    "duration": 4,
    "start_time": "2023-08-09T23:01:47.768Z"
   },
   {
    "duration": 18,
    "start_time": "2023-08-09T23:01:47.773Z"
   },
   {
    "duration": 16,
    "start_time": "2023-08-09T23:01:47.793Z"
   },
   {
    "duration": 3,
    "start_time": "2023-08-09T23:01:47.810Z"
   },
   {
    "duration": 143,
    "start_time": "2023-08-09T23:01:47.814Z"
   },
   {
    "duration": 108,
    "start_time": "2023-08-09T23:01:47.958Z"
   },
   {
    "duration": 219,
    "start_time": "2023-08-09T23:01:48.067Z"
   },
   {
    "duration": 136,
    "start_time": "2023-08-09T23:01:48.287Z"
   },
   {
    "duration": 175,
    "start_time": "2023-08-09T23:01:48.424Z"
   },
   {
    "duration": 22,
    "start_time": "2023-08-09T23:01:48.600Z"
   },
   {
    "duration": 22,
    "start_time": "2023-08-09T23:01:48.623Z"
   },
   {
    "duration": 13,
    "start_time": "2023-08-09T23:01:48.646Z"
   },
   {
    "duration": 169,
    "start_time": "2023-08-09T23:01:48.660Z"
   },
   {
    "duration": 151,
    "start_time": "2023-08-09T23:01:48.831Z"
   },
   {
    "duration": 3,
    "start_time": "2023-08-09T23:01:48.984Z"
   },
   {
    "duration": 50,
    "start_time": "2023-08-09T23:01:48.990Z"
   },
   {
    "duration": 22,
    "start_time": "2023-08-09T23:01:49.041Z"
   },
   {
    "duration": 6,
    "start_time": "2023-08-09T23:01:49.065Z"
   },
   {
    "duration": 13,
    "start_time": "2023-08-09T23:01:49.072Z"
   },
   {
    "duration": 7,
    "start_time": "2023-08-09T23:01:49.087Z"
   },
   {
    "duration": 8,
    "start_time": "2023-08-09T23:01:49.096Z"
   },
   {
    "duration": 1456,
    "start_time": "2023-08-09T23:01:49.106Z"
   },
   {
    "duration": 1257,
    "start_time": "2023-08-09T23:02:38.120Z"
   },
   {
    "duration": 6,
    "start_time": "2023-08-09T23:02:55.799Z"
   },
   {
    "duration": 1522,
    "start_time": "2023-08-09T23:05:41.371Z"
   },
   {
    "duration": 48,
    "start_time": "2023-08-10T08:07:16.517Z"
   },
   {
    "duration": 1380,
    "start_time": "2023-08-10T08:07:26.497Z"
   },
   {
    "duration": 100,
    "start_time": "2023-08-10T08:07:27.879Z"
   },
   {
    "duration": 12,
    "start_time": "2023-08-10T08:07:27.980Z"
   },
   {
    "duration": 17,
    "start_time": "2023-08-10T08:07:27.994Z"
   },
   {
    "duration": 153,
    "start_time": "2023-08-10T08:07:28.012Z"
   },
   {
    "duration": 11,
    "start_time": "2023-08-10T08:07:28.166Z"
   },
   {
    "duration": 24,
    "start_time": "2023-08-10T08:07:28.178Z"
   },
   {
    "duration": 61,
    "start_time": "2023-08-10T08:07:28.203Z"
   },
   {
    "duration": 10,
    "start_time": "2023-08-10T08:07:28.266Z"
   },
   {
    "duration": 30,
    "start_time": "2023-08-10T08:07:28.279Z"
   },
   {
    "duration": 13,
    "start_time": "2023-08-10T08:07:28.312Z"
   },
   {
    "duration": 26,
    "start_time": "2023-08-10T08:07:28.327Z"
   },
   {
    "duration": 16,
    "start_time": "2023-08-10T08:07:28.355Z"
   },
   {
    "duration": 7,
    "start_time": "2023-08-10T08:07:28.373Z"
   },
   {
    "duration": 30,
    "start_time": "2023-08-10T08:07:28.381Z"
   },
   {
    "duration": 26,
    "start_time": "2023-08-10T08:07:28.412Z"
   },
   {
    "duration": 7,
    "start_time": "2023-08-10T08:07:28.440Z"
   },
   {
    "duration": 195,
    "start_time": "2023-08-10T08:07:28.449Z"
   },
   {
    "duration": 122,
    "start_time": "2023-08-10T08:07:28.646Z"
   },
   {
    "duration": 275,
    "start_time": "2023-08-10T08:07:28.770Z"
   },
   {
    "duration": 166,
    "start_time": "2023-08-10T08:07:29.047Z"
   },
   {
    "duration": 225,
    "start_time": "2023-08-10T08:07:29.215Z"
   },
   {
    "duration": 34,
    "start_time": "2023-08-10T08:07:29.442Z"
   },
   {
    "duration": 18,
    "start_time": "2023-08-10T08:07:29.479Z"
   },
   {
    "duration": 18,
    "start_time": "2023-08-10T08:07:29.498Z"
   },
   {
    "duration": 192,
    "start_time": "2023-08-10T08:07:29.518Z"
   },
   {
    "duration": 190,
    "start_time": "2023-08-10T08:07:29.713Z"
   },
   {
    "duration": 4,
    "start_time": "2023-08-10T08:07:29.907Z"
   },
   {
    "duration": 48,
    "start_time": "2023-08-10T08:07:29.912Z"
   },
   {
    "duration": 119,
    "start_time": "2023-08-10T08:07:29.962Z"
   },
   {
    "duration": 9,
    "start_time": "2023-08-10T08:07:30.084Z"
   },
   {
    "duration": 49,
    "start_time": "2023-08-10T08:07:30.094Z"
   },
   {
    "duration": 22,
    "start_time": "2023-08-10T08:07:30.144Z"
   },
   {
    "duration": 55,
    "start_time": "2023-08-10T08:07:30.168Z"
   },
   {
    "duration": 2030,
    "start_time": "2023-08-10T08:07:30.225Z"
   },
   {
    "duration": 15,
    "start_time": "2023-08-10T08:21:51.793Z"
   },
   {
    "duration": 10,
    "start_time": "2023-08-10T08:21:57.397Z"
   },
   {
    "duration": 12,
    "start_time": "2023-08-10T08:25:32.388Z"
   },
   {
    "duration": 10,
    "start_time": "2023-08-10T08:28:49.283Z"
   },
   {
    "duration": 3,
    "start_time": "2023-08-10T08:28:52.522Z"
   },
   {
    "duration": 49,
    "start_time": "2023-08-10T08:28:52.529Z"
   },
   {
    "duration": 12,
    "start_time": "2023-08-10T08:28:52.581Z"
   },
   {
    "duration": 21,
    "start_time": "2023-08-10T08:28:52.594Z"
   },
   {
    "duration": 44,
    "start_time": "2023-08-10T08:28:52.617Z"
   },
   {
    "duration": 14,
    "start_time": "2023-08-10T08:28:52.662Z"
   },
   {
    "duration": 20,
    "start_time": "2023-08-10T08:28:52.677Z"
   },
   {
    "duration": 23,
    "start_time": "2023-08-10T08:28:52.698Z"
   },
   {
    "duration": 11,
    "start_time": "2023-08-10T08:28:52.722Z"
   },
   {
    "duration": 40,
    "start_time": "2023-08-10T08:28:52.734Z"
   },
   {
    "duration": 8,
    "start_time": "2023-08-10T08:28:52.777Z"
   },
   {
    "duration": 14,
    "start_time": "2023-08-10T08:28:52.786Z"
   },
   {
    "duration": 14,
    "start_time": "2023-08-10T08:28:52.802Z"
   },
   {
    "duration": 5,
    "start_time": "2023-08-10T08:28:52.818Z"
   },
   {
    "duration": 9,
    "start_time": "2023-08-10T08:28:52.824Z"
   },
   {
    "duration": 18,
    "start_time": "2023-08-10T08:28:52.861Z"
   },
   {
    "duration": 5,
    "start_time": "2023-08-10T08:28:52.880Z"
   },
   {
    "duration": 183,
    "start_time": "2023-08-10T08:28:52.886Z"
   },
   {
    "duration": 136,
    "start_time": "2023-08-10T08:28:53.071Z"
   },
   {
    "duration": 303,
    "start_time": "2023-08-10T08:28:53.209Z"
   },
   {
    "duration": 168,
    "start_time": "2023-08-10T08:28:53.513Z"
   },
   {
    "duration": 225,
    "start_time": "2023-08-10T08:28:53.683Z"
   },
   {
    "duration": 25,
    "start_time": "2023-08-10T08:28:53.910Z"
   },
   {
    "duration": 36,
    "start_time": "2023-08-10T08:28:53.936Z"
   },
   {
    "duration": 16,
    "start_time": "2023-08-10T08:28:53.974Z"
   },
   {
    "duration": 225,
    "start_time": "2023-08-10T08:28:53.992Z"
   },
   {
    "duration": 218,
    "start_time": "2023-08-10T08:28:54.220Z"
   },
   {
    "duration": 5,
    "start_time": "2023-08-10T08:28:54.440Z"
   },
   {
    "duration": 56,
    "start_time": "2023-08-10T08:28:54.448Z"
   },
   {
    "duration": 22,
    "start_time": "2023-08-10T08:28:54.506Z"
   },
   {
    "duration": 7,
    "start_time": "2023-08-10T08:28:54.530Z"
   },
   {
    "duration": 33,
    "start_time": "2023-08-10T08:28:54.538Z"
   },
   {
    "duration": 14,
    "start_time": "2023-08-10T08:28:54.572Z"
   },
   {
    "duration": 22,
    "start_time": "2023-08-10T08:28:54.587Z"
   },
   {
    "duration": 11,
    "start_time": "2023-08-10T08:28:54.611Z"
   },
   {
    "duration": 9,
    "start_time": "2023-08-10T08:29:19.607Z"
   },
   {
    "duration": 13,
    "start_time": "2023-08-10T08:29:49.780Z"
   },
   {
    "duration": 13,
    "start_time": "2023-08-10T08:33:23.294Z"
   },
   {
    "duration": 11,
    "start_time": "2023-08-10T08:33:37.595Z"
   },
   {
    "duration": 12,
    "start_time": "2023-08-10T08:49:45.338Z"
   },
   {
    "duration": 3,
    "start_time": "2023-08-10T08:50:07.281Z"
   },
   {
    "duration": 3,
    "start_time": "2023-08-10T08:50:09.909Z"
   },
   {
    "duration": 54,
    "start_time": "2023-08-10T08:50:09.916Z"
   },
   {
    "duration": 13,
    "start_time": "2023-08-10T08:50:09.973Z"
   },
   {
    "duration": 24,
    "start_time": "2023-08-10T08:50:09.987Z"
   },
   {
    "duration": 34,
    "start_time": "2023-08-10T08:50:10.013Z"
   },
   {
    "duration": 21,
    "start_time": "2023-08-10T08:50:10.049Z"
   },
   {
    "duration": 24,
    "start_time": "2023-08-10T08:50:10.073Z"
   },
   {
    "duration": 20,
    "start_time": "2023-08-10T08:50:10.099Z"
   },
   {
    "duration": 11,
    "start_time": "2023-08-10T08:50:10.121Z"
   },
   {
    "duration": 36,
    "start_time": "2023-08-10T08:50:10.133Z"
   },
   {
    "duration": 7,
    "start_time": "2023-08-10T08:50:10.171Z"
   },
   {
    "duration": 19,
    "start_time": "2023-08-10T08:50:10.180Z"
   },
   {
    "duration": 18,
    "start_time": "2023-08-10T08:50:10.201Z"
   },
   {
    "duration": 6,
    "start_time": "2023-08-10T08:50:10.220Z"
   },
   {
    "duration": 7,
    "start_time": "2023-08-10T08:50:10.229Z"
   },
   {
    "duration": 41,
    "start_time": "2023-08-10T08:50:10.238Z"
   },
   {
    "duration": 4,
    "start_time": "2023-08-10T08:50:10.280Z"
   },
   {
    "duration": 176,
    "start_time": "2023-08-10T08:50:10.286Z"
   },
   {
    "duration": 126,
    "start_time": "2023-08-10T08:50:10.465Z"
   },
   {
    "duration": 288,
    "start_time": "2023-08-10T08:50:10.592Z"
   },
   {
    "duration": 281,
    "start_time": "2023-08-10T08:50:10.882Z"
   },
   {
    "duration": 235,
    "start_time": "2023-08-10T08:50:11.165Z"
   },
   {
    "duration": 23,
    "start_time": "2023-08-10T08:50:11.402Z"
   },
   {
    "duration": 17,
    "start_time": "2023-08-10T08:50:11.427Z"
   },
   {
    "duration": 21,
    "start_time": "2023-08-10T08:50:11.460Z"
   },
   {
    "duration": 203,
    "start_time": "2023-08-10T08:50:11.482Z"
   },
   {
    "duration": 186,
    "start_time": "2023-08-10T08:50:11.687Z"
   },
   {
    "duration": 4,
    "start_time": "2023-08-10T08:50:11.875Z"
   },
   {
    "duration": 40,
    "start_time": "2023-08-10T08:50:11.880Z"
   },
   {
    "duration": 23,
    "start_time": "2023-08-10T08:50:11.921Z"
   },
   {
    "duration": 14,
    "start_time": "2023-08-10T08:50:11.960Z"
   },
   {
    "duration": 10,
    "start_time": "2023-08-10T08:50:11.976Z"
   },
   {
    "duration": 15,
    "start_time": "2023-08-10T08:50:11.988Z"
   },
   {
    "duration": 17,
    "start_time": "2023-08-10T08:50:12.004Z"
   },
   {
    "duration": 14,
    "start_time": "2023-08-10T08:50:12.022Z"
   },
   {
    "duration": 1587,
    "start_time": "2023-08-10T08:50:12.038Z"
   },
   {
    "duration": 1607,
    "start_time": "2023-08-10T08:50:29.794Z"
   },
   {
    "duration": 202,
    "start_time": "2023-08-10T08:52:42.173Z"
   },
   {
    "duration": 2002,
    "start_time": "2023-08-10T08:52:53.484Z"
   },
   {
    "duration": 1738,
    "start_time": "2023-08-10T08:56:21.837Z"
   },
   {
    "duration": 1666,
    "start_time": "2023-08-10T08:56:34.718Z"
   },
   {
    "duration": 5,
    "start_time": "2023-08-10T09:18:35.406Z"
   },
   {
    "duration": 123,
    "start_time": "2023-08-10T09:18:55.005Z"
   },
   {
    "duration": 1650,
    "start_time": "2023-08-10T09:19:12.240Z"
   },
   {
    "duration": 6,
    "start_time": "2023-08-10T09:19:17.386Z"
   },
   {
    "duration": 52,
    "start_time": "2023-08-10T09:19:34.304Z"
   },
   {
    "duration": 3,
    "start_time": "2023-08-10T09:19:49.994Z"
   },
   {
    "duration": 41,
    "start_time": "2023-08-10T09:19:50.001Z"
   },
   {
    "duration": 14,
    "start_time": "2023-08-10T09:19:50.044Z"
   },
   {
    "duration": 31,
    "start_time": "2023-08-10T09:19:50.060Z"
   },
   {
    "duration": 34,
    "start_time": "2023-08-10T09:19:50.095Z"
   },
   {
    "duration": 12,
    "start_time": "2023-08-10T09:19:50.130Z"
   },
   {
    "duration": 228,
    "start_time": "2023-08-10T09:19:50.144Z"
   },
   {
    "duration": 22,
    "start_time": "2023-08-10T09:19:50.376Z"
   },
   {
    "duration": 11,
    "start_time": "2023-08-10T09:19:50.399Z"
   },
   {
    "duration": 29,
    "start_time": "2023-08-10T09:19:50.411Z"
   },
   {
    "duration": 16,
    "start_time": "2023-08-10T09:19:50.444Z"
   },
   {
    "duration": 15,
    "start_time": "2023-08-10T09:19:50.466Z"
   },
   {
    "duration": 53,
    "start_time": "2023-08-10T09:19:50.483Z"
   },
   {
    "duration": 6,
    "start_time": "2023-08-10T09:19:50.538Z"
   },
   {
    "duration": 10,
    "start_time": "2023-08-10T09:19:50.546Z"
   },
   {
    "duration": 22,
    "start_time": "2023-08-10T09:19:50.558Z"
   },
   {
    "duration": 14,
    "start_time": "2023-08-10T09:19:50.581Z"
   },
   {
    "duration": 185,
    "start_time": "2023-08-10T09:19:50.596Z"
   },
   {
    "duration": 139,
    "start_time": "2023-08-10T09:19:50.783Z"
   },
   {
    "duration": 290,
    "start_time": "2023-08-10T09:19:50.923Z"
   },
   {
    "duration": 179,
    "start_time": "2023-08-10T09:19:51.214Z"
   },
   {
    "duration": 231,
    "start_time": "2023-08-10T09:19:51.394Z"
   },
   {
    "duration": 42,
    "start_time": "2023-08-10T09:19:51.627Z"
   },
   {
    "duration": 25,
    "start_time": "2023-08-10T09:19:51.677Z"
   },
   {
    "duration": 17,
    "start_time": "2023-08-10T09:19:51.705Z"
   },
   {
    "duration": 201,
    "start_time": "2023-08-10T09:19:51.724Z"
   },
   {
    "duration": 214,
    "start_time": "2023-08-10T09:19:51.927Z"
   },
   {
    "duration": 4,
    "start_time": "2023-08-10T09:19:52.143Z"
   },
   {
    "duration": 60,
    "start_time": "2023-08-10T09:19:52.150Z"
   },
   {
    "duration": 29,
    "start_time": "2023-08-10T09:19:52.212Z"
   },
   {
    "duration": 8,
    "start_time": "2023-08-10T09:19:52.243Z"
   },
   {
    "duration": 38,
    "start_time": "2023-08-10T09:19:52.259Z"
   },
   {
    "duration": 10,
    "start_time": "2023-08-10T09:19:52.300Z"
   },
   {
    "duration": 27,
    "start_time": "2023-08-10T09:19:52.313Z"
   },
   {
    "duration": 42,
    "start_time": "2023-08-10T09:19:52.342Z"
   },
   {
    "duration": 1846,
    "start_time": "2023-08-10T09:19:52.386Z"
   },
   {
    "duration": 7,
    "start_time": "2023-08-10T09:19:54.235Z"
   },
   {
    "duration": 79,
    "start_time": "2023-08-10T09:19:54.245Z"
   },
   {
    "duration": 1733,
    "start_time": "2023-08-10T09:20:05.675Z"
   },
   {
    "duration": 43,
    "start_time": "2023-08-10T09:20:12.514Z"
   },
   {
    "duration": 1292,
    "start_time": "2023-08-10T09:31:03.577Z"
   },
   {
    "duration": 96,
    "start_time": "2023-08-10T09:31:04.872Z"
   },
   {
    "duration": 12,
    "start_time": "2023-08-10T09:31:04.969Z"
   },
   {
    "duration": 56,
    "start_time": "2023-08-10T09:31:04.983Z"
   },
   {
    "duration": 100,
    "start_time": "2023-08-10T09:31:05.042Z"
   },
   {
    "duration": 11,
    "start_time": "2023-08-10T09:31:05.143Z"
   },
   {
    "duration": 54,
    "start_time": "2023-08-10T09:31:05.156Z"
   },
   {
    "duration": 120,
    "start_time": "2023-08-10T09:31:05.212Z"
   },
   {
    "duration": 10,
    "start_time": "2023-08-10T09:31:05.334Z"
   },
   {
    "duration": 199,
    "start_time": "2023-08-10T09:31:05.346Z"
   },
   {
    "duration": 97,
    "start_time": "2023-08-10T09:31:05.547Z"
   },
   {
    "duration": 197,
    "start_time": "2023-08-10T09:31:05.646Z"
   },
   {
    "duration": 46,
    "start_time": "2023-08-10T09:31:05.845Z"
   },
   {
    "duration": 37,
    "start_time": "2023-08-10T09:31:05.894Z"
   },
   {
    "duration": 48,
    "start_time": "2023-08-10T09:31:05.933Z"
   },
   {
    "duration": 89,
    "start_time": "2023-08-10T09:31:05.983Z"
   },
   {
    "duration": 16,
    "start_time": "2023-08-10T09:31:06.074Z"
   },
   {
    "duration": 219,
    "start_time": "2023-08-10T09:31:06.091Z"
   },
   {
    "duration": 144,
    "start_time": "2023-08-10T09:31:06.311Z"
   },
   {
    "duration": 283,
    "start_time": "2023-08-10T09:31:06.457Z"
   },
   {
    "duration": 176,
    "start_time": "2023-08-10T09:31:06.742Z"
   },
   {
    "duration": 233,
    "start_time": "2023-08-10T09:31:06.920Z"
   },
   {
    "duration": 29,
    "start_time": "2023-08-10T09:31:07.156Z"
   },
   {
    "duration": 35,
    "start_time": "2023-08-10T09:31:07.188Z"
   },
   {
    "duration": 28,
    "start_time": "2023-08-10T09:31:07.225Z"
   },
   {
    "duration": 188,
    "start_time": "2023-08-10T09:31:07.255Z"
   },
   {
    "duration": 246,
    "start_time": "2023-08-10T09:31:07.445Z"
   },
   {
    "duration": 3,
    "start_time": "2023-08-10T09:31:07.693Z"
   },
   {
    "duration": 71,
    "start_time": "2023-08-10T09:31:07.698Z"
   },
   {
    "duration": 31,
    "start_time": "2023-08-10T09:31:07.771Z"
   },
   {
    "duration": 19,
    "start_time": "2023-08-10T09:31:07.803Z"
   },
   {
    "duration": 31,
    "start_time": "2023-08-10T09:31:07.824Z"
   },
   {
    "duration": 56,
    "start_time": "2023-08-10T09:31:07.856Z"
   },
   {
    "duration": 73,
    "start_time": "2023-08-10T09:31:07.913Z"
   },
   {
    "duration": 54,
    "start_time": "2023-08-10T09:31:07.987Z"
   },
   {
    "duration": 1423,
    "start_time": "2023-08-10T09:31:08.042Z"
   },
   {
    "duration": 5,
    "start_time": "2023-08-10T09:31:09.467Z"
   },
   {
    "duration": 201,
    "start_time": "2023-08-10T09:31:09.474Z"
   },
   {
    "duration": 14,
    "start_time": "2023-08-10T09:50:39.841Z"
   },
   {
    "duration": 63,
    "start_time": "2023-08-10T14:05:05.349Z"
   },
   {
    "duration": 1375,
    "start_time": "2023-08-10T14:05:17.895Z"
   },
   {
    "duration": 87,
    "start_time": "2023-08-10T14:05:19.272Z"
   },
   {
    "duration": 12,
    "start_time": "2023-08-10T14:05:19.361Z"
   },
   {
    "duration": 20,
    "start_time": "2023-08-10T14:05:19.376Z"
   },
   {
    "duration": 82,
    "start_time": "2023-08-10T14:05:19.397Z"
   },
   {
    "duration": 12,
    "start_time": "2023-08-10T14:05:19.481Z"
   },
   {
    "duration": 36,
    "start_time": "2023-08-10T14:05:19.494Z"
   },
   {
    "duration": 60,
    "start_time": "2023-08-10T14:05:19.531Z"
   },
   {
    "duration": 10,
    "start_time": "2023-08-10T14:05:19.592Z"
   },
   {
    "duration": 37,
    "start_time": "2023-08-10T14:05:19.604Z"
   },
   {
    "duration": 12,
    "start_time": "2023-08-10T14:05:19.643Z"
   },
   {
    "duration": 12,
    "start_time": "2023-08-10T14:05:19.657Z"
   },
   {
    "duration": 14,
    "start_time": "2023-08-10T14:05:19.671Z"
   },
   {
    "duration": 5,
    "start_time": "2023-08-10T14:05:19.686Z"
   },
   {
    "duration": 9,
    "start_time": "2023-08-10T14:05:19.693Z"
   },
   {
    "duration": 21,
    "start_time": "2023-08-10T14:05:19.704Z"
   },
   {
    "duration": 4,
    "start_time": "2023-08-10T14:05:19.727Z"
   },
   {
    "duration": 243,
    "start_time": "2023-08-10T14:05:19.733Z"
   },
   {
    "duration": 0,
    "start_time": "2023-08-10T14:05:19.977Z"
   },
   {
    "duration": 0,
    "start_time": "2023-08-10T14:05:19.979Z"
   },
   {
    "duration": 0,
    "start_time": "2023-08-10T14:05:19.980Z"
   },
   {
    "duration": 0,
    "start_time": "2023-08-10T14:05:19.981Z"
   },
   {
    "duration": 0,
    "start_time": "2023-08-10T14:05:19.982Z"
   },
   {
    "duration": 0,
    "start_time": "2023-08-10T14:05:19.983Z"
   },
   {
    "duration": 0,
    "start_time": "2023-08-10T14:05:19.983Z"
   },
   {
    "duration": 0,
    "start_time": "2023-08-10T14:05:19.984Z"
   },
   {
    "duration": 0,
    "start_time": "2023-08-10T14:05:19.985Z"
   },
   {
    "duration": 0,
    "start_time": "2023-08-10T14:05:19.986Z"
   },
   {
    "duration": 0,
    "start_time": "2023-08-10T14:05:19.987Z"
   },
   {
    "duration": 0,
    "start_time": "2023-08-10T14:05:19.988Z"
   },
   {
    "duration": 0,
    "start_time": "2023-08-10T14:05:19.989Z"
   },
   {
    "duration": 0,
    "start_time": "2023-08-10T14:05:19.990Z"
   },
   {
    "duration": 0,
    "start_time": "2023-08-10T14:05:19.991Z"
   },
   {
    "duration": 0,
    "start_time": "2023-08-10T14:05:19.992Z"
   },
   {
    "duration": 0,
    "start_time": "2023-08-10T14:05:19.993Z"
   },
   {
    "duration": 0,
    "start_time": "2023-08-10T14:05:19.994Z"
   },
   {
    "duration": 0,
    "start_time": "2023-08-10T14:05:19.994Z"
   },
   {
    "duration": 0,
    "start_time": "2023-08-10T14:05:19.995Z"
   },
   {
    "duration": 3,
    "start_time": "2023-08-10T14:08:07.603Z"
   },
   {
    "duration": 42,
    "start_time": "2023-08-10T14:08:07.613Z"
   },
   {
    "duration": 11,
    "start_time": "2023-08-10T14:08:07.657Z"
   },
   {
    "duration": 21,
    "start_time": "2023-08-10T14:08:07.669Z"
   },
   {
    "duration": 33,
    "start_time": "2023-08-10T14:08:07.692Z"
   },
   {
    "duration": 10,
    "start_time": "2023-08-10T14:08:07.727Z"
   },
   {
    "duration": 32,
    "start_time": "2023-08-10T14:08:07.739Z"
   },
   {
    "duration": 19,
    "start_time": "2023-08-10T14:08:07.773Z"
   },
   {
    "duration": 10,
    "start_time": "2023-08-10T14:08:07.794Z"
   },
   {
    "duration": 31,
    "start_time": "2023-08-10T14:08:07.805Z"
   },
   {
    "duration": 17,
    "start_time": "2023-08-10T14:08:07.837Z"
   },
   {
    "duration": 17,
    "start_time": "2023-08-10T14:08:07.855Z"
   },
   {
    "duration": 41,
    "start_time": "2023-08-10T14:08:07.873Z"
   },
   {
    "duration": 29,
    "start_time": "2023-08-10T14:08:07.915Z"
   },
   {
    "duration": 32,
    "start_time": "2023-08-10T14:08:07.947Z"
   },
   {
    "duration": 23,
    "start_time": "2023-08-10T14:08:07.981Z"
   },
   {
    "duration": 9,
    "start_time": "2023-08-10T14:08:08.006Z"
   },
   {
    "duration": 174,
    "start_time": "2023-08-10T14:08:08.017Z"
   },
   {
    "duration": 0,
    "start_time": "2023-08-10T14:08:08.193Z"
   },
   {
    "duration": 0,
    "start_time": "2023-08-10T14:08:08.194Z"
   },
   {
    "duration": 1,
    "start_time": "2023-08-10T14:08:08.195Z"
   },
   {
    "duration": 0,
    "start_time": "2023-08-10T14:08:08.197Z"
   },
   {
    "duration": 0,
    "start_time": "2023-08-10T14:08:08.198Z"
   },
   {
    "duration": 0,
    "start_time": "2023-08-10T14:08:08.200Z"
   },
   {
    "duration": 0,
    "start_time": "2023-08-10T14:08:08.201Z"
   },
   {
    "duration": 0,
    "start_time": "2023-08-10T14:08:08.202Z"
   },
   {
    "duration": 0,
    "start_time": "2023-08-10T14:08:08.203Z"
   },
   {
    "duration": 0,
    "start_time": "2023-08-10T14:08:08.206Z"
   },
   {
    "duration": 0,
    "start_time": "2023-08-10T14:08:08.207Z"
   },
   {
    "duration": 0,
    "start_time": "2023-08-10T14:08:08.208Z"
   },
   {
    "duration": 0,
    "start_time": "2023-08-10T14:08:08.208Z"
   },
   {
    "duration": 0,
    "start_time": "2023-08-10T14:08:08.210Z"
   },
   {
    "duration": 0,
    "start_time": "2023-08-10T14:08:08.212Z"
   },
   {
    "duration": 0,
    "start_time": "2023-08-10T14:08:08.214Z"
   },
   {
    "duration": 0,
    "start_time": "2023-08-10T14:08:08.215Z"
   },
   {
    "duration": 0,
    "start_time": "2023-08-10T14:08:08.217Z"
   },
   {
    "duration": 0,
    "start_time": "2023-08-10T14:08:08.218Z"
   },
   {
    "duration": 0,
    "start_time": "2023-08-10T14:08:08.219Z"
   },
   {
    "duration": 164,
    "start_time": "2023-08-10T14:11:00.472Z"
   },
   {
    "duration": 210,
    "start_time": "2023-08-10T14:11:38.356Z"
   },
   {
    "duration": 156,
    "start_time": "2023-08-10T14:11:51.382Z"
   },
   {
    "duration": 161,
    "start_time": "2023-08-10T14:35:48.090Z"
   },
   {
    "duration": 3,
    "start_time": "2023-08-10T14:35:54.772Z"
   },
   {
    "duration": 35,
    "start_time": "2023-08-10T14:35:54.788Z"
   },
   {
    "duration": 12,
    "start_time": "2023-08-10T14:35:54.825Z"
   },
   {
    "duration": 22,
    "start_time": "2023-08-10T14:35:54.838Z"
   },
   {
    "duration": 36,
    "start_time": "2023-08-10T14:35:54.861Z"
   },
   {
    "duration": 12,
    "start_time": "2023-08-10T14:35:54.899Z"
   },
   {
    "duration": 23,
    "start_time": "2023-08-10T14:35:54.914Z"
   },
   {
    "duration": 25,
    "start_time": "2023-08-10T14:35:54.939Z"
   },
   {
    "duration": 12,
    "start_time": "2023-08-10T14:35:54.966Z"
   },
   {
    "duration": 29,
    "start_time": "2023-08-10T14:35:54.980Z"
   },
   {
    "duration": 14,
    "start_time": "2023-08-10T14:35:55.012Z"
   },
   {
    "duration": 39,
    "start_time": "2023-08-10T14:35:55.028Z"
   },
   {
    "duration": 17,
    "start_time": "2023-08-10T14:35:55.069Z"
   },
   {
    "duration": 11,
    "start_time": "2023-08-10T14:35:55.087Z"
   },
   {
    "duration": 18,
    "start_time": "2023-08-10T14:35:55.103Z"
   },
   {
    "duration": 38,
    "start_time": "2023-08-10T14:35:55.123Z"
   },
   {
    "duration": 5,
    "start_time": "2023-08-10T14:35:55.163Z"
   },
   {
    "duration": 197,
    "start_time": "2023-08-10T14:35:55.170Z"
   },
   {
    "duration": 155,
    "start_time": "2023-08-10T14:35:55.369Z"
   },
   {
    "duration": 404,
    "start_time": "2023-08-10T14:35:55.526Z"
   },
   {
    "duration": 190,
    "start_time": "2023-08-10T14:35:55.932Z"
   },
   {
    "duration": 237,
    "start_time": "2023-08-10T14:35:56.124Z"
   },
   {
    "duration": 26,
    "start_time": "2023-08-10T14:35:56.363Z"
   },
   {
    "duration": 21,
    "start_time": "2023-08-10T14:35:56.391Z"
   },
   {
    "duration": 46,
    "start_time": "2023-08-10T14:35:56.414Z"
   },
   {
    "duration": 235,
    "start_time": "2023-08-10T14:35:56.462Z"
   },
   {
    "duration": 220,
    "start_time": "2023-08-10T14:35:56.700Z"
   },
   {
    "duration": 4,
    "start_time": "2023-08-10T14:35:56.922Z"
   },
   {
    "duration": 60,
    "start_time": "2023-08-10T14:35:56.928Z"
   },
   {
    "duration": 35,
    "start_time": "2023-08-10T14:35:56.990Z"
   },
   {
    "duration": 32,
    "start_time": "2023-08-10T14:35:57.029Z"
   },
   {
    "duration": 16,
    "start_time": "2023-08-10T14:35:57.064Z"
   },
   {
    "duration": 7,
    "start_time": "2023-08-10T14:35:57.081Z"
   },
   {
    "duration": 14,
    "start_time": "2023-08-10T14:35:57.090Z"
   },
   {
    "duration": 30,
    "start_time": "2023-08-10T14:35:57.106Z"
   },
   {
    "duration": 1779,
    "start_time": "2023-08-10T14:35:57.159Z"
   },
   {
    "duration": 6,
    "start_time": "2023-08-10T14:35:58.940Z"
   },
   {
    "duration": 76,
    "start_time": "2023-08-10T14:35:58.947Z"
   },
   {
    "duration": 81,
    "start_time": "2023-08-10T14:39:16.181Z"
   },
   {
    "duration": 13,
    "start_time": "2023-08-10T14:39:31.278Z"
   },
   {
    "duration": 180,
    "start_time": "2023-08-10T14:40:17.260Z"
   },
   {
    "duration": 153,
    "start_time": "2023-08-10T14:43:56.664Z"
   },
   {
    "duration": 105,
    "start_time": "2023-08-10T14:44:08.275Z"
   },
   {
    "duration": 127,
    "start_time": "2023-08-10T14:45:36.596Z"
   },
   {
    "duration": 241,
    "start_time": "2023-08-10T14:45:42.751Z"
   },
   {
    "duration": 148,
    "start_time": "2023-08-10T14:46:01.273Z"
   },
   {
    "duration": 101,
    "start_time": "2023-08-10T14:46:08.020Z"
   },
   {
    "duration": 101,
    "start_time": "2023-08-10T14:46:29.509Z"
   },
   {
    "duration": 99,
    "start_time": "2023-08-10T14:46:36.573Z"
   },
   {
    "duration": 20,
    "start_time": "2023-08-10T14:52:32.366Z"
   },
   {
    "duration": 174,
    "start_time": "2023-08-10T14:55:30.558Z"
   },
   {
    "duration": 4,
    "start_time": "2023-08-10T14:59:11.658Z"
   },
   {
    "duration": 213,
    "start_time": "2023-08-10T14:59:17.394Z"
   },
   {
    "duration": 3,
    "start_time": "2023-08-10T14:59:22.119Z"
   },
   {
    "duration": 39,
    "start_time": "2023-08-10T14:59:22.143Z"
   },
   {
    "duration": 12,
    "start_time": "2023-08-10T14:59:22.185Z"
   },
   {
    "duration": 34,
    "start_time": "2023-08-10T14:59:22.199Z"
   },
   {
    "duration": 56,
    "start_time": "2023-08-10T14:59:22.234Z"
   },
   {
    "duration": 12,
    "start_time": "2023-08-10T14:59:22.293Z"
   },
   {
    "duration": 28,
    "start_time": "2023-08-10T14:59:22.307Z"
   },
   {
    "duration": 24,
    "start_time": "2023-08-10T14:59:22.337Z"
   },
   {
    "duration": 12,
    "start_time": "2023-08-10T14:59:22.362Z"
   },
   {
    "duration": 29,
    "start_time": "2023-08-10T14:59:22.375Z"
   },
   {
    "duration": 11,
    "start_time": "2023-08-10T14:59:22.406Z"
   },
   {
    "duration": 13,
    "start_time": "2023-08-10T14:59:22.419Z"
   },
   {
    "duration": 39,
    "start_time": "2023-08-10T14:59:22.434Z"
   },
   {
    "duration": 6,
    "start_time": "2023-08-10T14:59:22.475Z"
   },
   {
    "duration": 17,
    "start_time": "2023-08-10T14:59:22.484Z"
   },
   {
    "duration": 19,
    "start_time": "2023-08-10T14:59:22.503Z"
   },
   {
    "duration": 5,
    "start_time": "2023-08-10T14:59:22.523Z"
   },
   {
    "duration": 32,
    "start_time": "2023-08-10T14:59:22.529Z"
   },
   {
    "duration": 184,
    "start_time": "2023-08-10T14:59:22.563Z"
   },
   {
    "duration": 119,
    "start_time": "2023-08-10T14:59:22.749Z"
   },
   {
    "duration": 224,
    "start_time": "2023-08-10T14:59:22.869Z"
   },
   {
    "duration": 175,
    "start_time": "2023-08-10T14:59:23.095Z"
   },
   {
    "duration": 249,
    "start_time": "2023-08-10T14:59:23.272Z"
   },
   {
    "duration": 38,
    "start_time": "2023-08-10T14:59:23.522Z"
   },
   {
    "duration": 25,
    "start_time": "2023-08-10T14:59:23.563Z"
   },
   {
    "duration": 18,
    "start_time": "2023-08-10T14:59:23.591Z"
   },
   {
    "duration": 309,
    "start_time": "2023-08-10T14:59:23.611Z"
   },
   {
    "duration": 191,
    "start_time": "2023-08-10T14:59:23.922Z"
   },
   {
    "duration": 5,
    "start_time": "2023-08-10T14:59:24.115Z"
   },
   {
    "duration": 75,
    "start_time": "2023-08-10T14:59:24.121Z"
   },
   {
    "duration": 27,
    "start_time": "2023-08-10T14:59:24.198Z"
   },
   {
    "duration": 8,
    "start_time": "2023-08-10T14:59:24.226Z"
   },
   {
    "duration": 32,
    "start_time": "2023-08-10T14:59:24.236Z"
   },
   {
    "duration": 6,
    "start_time": "2023-08-10T14:59:24.270Z"
   },
   {
    "duration": 19,
    "start_time": "2023-08-10T14:59:24.278Z"
   },
   {
    "duration": 24,
    "start_time": "2023-08-10T14:59:24.300Z"
   },
   {
    "duration": 1610,
    "start_time": "2023-08-10T14:59:24.326Z"
   },
   {
    "duration": 6,
    "start_time": "2023-08-10T14:59:25.938Z"
   },
   {
    "duration": 47,
    "start_time": "2023-08-10T14:59:25.959Z"
   },
   {
    "duration": 201,
    "start_time": "2023-08-10T14:59:38.889Z"
   },
   {
    "duration": 194,
    "start_time": "2023-08-10T15:01:25.982Z"
   },
   {
    "duration": 201,
    "start_time": "2023-08-10T15:01:32.858Z"
   },
   {
    "duration": 205,
    "start_time": "2023-08-10T15:01:51.093Z"
   },
   {
    "duration": 158,
    "start_time": "2023-08-10T15:02:37.884Z"
   },
   {
    "duration": 180,
    "start_time": "2023-08-10T15:02:43.744Z"
   },
   {
    "duration": 249,
    "start_time": "2023-08-10T15:02:51.299Z"
   },
   {
    "duration": 159,
    "start_time": "2023-08-10T15:05:57.097Z"
   },
   {
    "duration": 401,
    "start_time": "2023-08-10T15:06:14.258Z"
   },
   {
    "duration": 14,
    "start_time": "2023-08-10T15:09:13.157Z"
   },
   {
    "duration": 14,
    "start_time": "2023-08-10T15:13:56.574Z"
   },
   {
    "duration": 9,
    "start_time": "2023-08-10T15:44:28.479Z"
   },
   {
    "duration": 1047,
    "start_time": "2023-08-10T17:41:01.534Z"
   },
   {
    "duration": 84,
    "start_time": "2023-08-10T17:41:02.583Z"
   },
   {
    "duration": 11,
    "start_time": "2023-08-10T17:41:02.668Z"
   },
   {
    "duration": 39,
    "start_time": "2023-08-10T17:41:02.680Z"
   },
   {
    "duration": 92,
    "start_time": "2023-08-10T17:41:02.721Z"
   },
   {
    "duration": 10,
    "start_time": "2023-08-10T17:41:02.814Z"
   },
   {
    "duration": 37,
    "start_time": "2023-08-10T17:41:02.826Z"
   },
   {
    "duration": 69,
    "start_time": "2023-08-10T17:41:02.865Z"
   },
   {
    "duration": 9,
    "start_time": "2023-08-10T17:41:02.935Z"
   },
   {
    "duration": 40,
    "start_time": "2023-08-10T17:41:02.947Z"
   },
   {
    "duration": 25,
    "start_time": "2023-08-10T17:41:02.989Z"
   },
   {
    "duration": 29,
    "start_time": "2023-08-10T17:41:03.016Z"
   },
   {
    "duration": 35,
    "start_time": "2023-08-10T17:41:03.047Z"
   },
   {
    "duration": 6,
    "start_time": "2023-08-10T17:41:03.083Z"
   },
   {
    "duration": 37,
    "start_time": "2023-08-10T17:41:03.090Z"
   },
   {
    "duration": 41,
    "start_time": "2023-08-10T17:41:03.128Z"
   },
   {
    "duration": 54,
    "start_time": "2023-08-10T17:41:03.171Z"
   },
   {
    "duration": 101,
    "start_time": "2023-08-10T17:41:03.227Z"
   },
   {
    "duration": 144,
    "start_time": "2023-08-10T17:41:03.330Z"
   },
   {
    "duration": 96,
    "start_time": "2023-08-10T17:41:03.475Z"
   },
   {
    "duration": 217,
    "start_time": "2023-08-10T17:41:03.572Z"
   },
   {
    "duration": 156,
    "start_time": "2023-08-10T17:41:03.791Z"
   },
   {
    "duration": 174,
    "start_time": "2023-08-10T17:41:03.949Z"
   },
   {
    "duration": 23,
    "start_time": "2023-08-10T17:41:04.124Z"
   },
   {
    "duration": 11,
    "start_time": "2023-08-10T17:41:04.148Z"
   },
   {
    "duration": 28,
    "start_time": "2023-08-10T17:41:04.160Z"
   },
   {
    "duration": 15,
    "start_time": "2023-08-10T17:41:04.199Z"
   },
   {
    "duration": 160,
    "start_time": "2023-08-10T17:41:04.217Z"
   },
   {
    "duration": 158,
    "start_time": "2023-08-10T17:41:04.378Z"
   },
   {
    "duration": 4,
    "start_time": "2023-08-10T17:41:04.537Z"
   },
   {
    "duration": 42,
    "start_time": "2023-08-10T17:41:04.542Z"
   },
   {
    "duration": 19,
    "start_time": "2023-08-10T17:41:04.586Z"
   },
   {
    "duration": 71,
    "start_time": "2023-08-10T17:41:04.607Z"
   },
   {
    "duration": 21,
    "start_time": "2023-08-10T17:41:04.679Z"
   },
   {
    "duration": 18,
    "start_time": "2023-08-10T17:41:04.702Z"
   },
   {
    "duration": 13,
    "start_time": "2023-08-10T17:41:04.722Z"
   },
   {
    "duration": 30,
    "start_time": "2023-08-10T17:41:04.736Z"
   },
   {
    "duration": 31,
    "start_time": "2023-08-10T17:41:04.768Z"
   },
   {
    "duration": 1177,
    "start_time": "2023-08-10T17:41:04.801Z"
   },
   {
    "duration": 5,
    "start_time": "2023-08-10T17:41:05.980Z"
   },
   {
    "duration": 250,
    "start_time": "2023-08-10T17:41:05.987Z"
   },
   {
    "duration": 5,
    "start_time": "2023-08-10T17:47:21.841Z"
   },
   {
    "duration": 1429,
    "start_time": "2023-09-02T15:21:17.424Z"
   },
   {
    "duration": 86,
    "start_time": "2023-09-02T15:21:18.855Z"
   },
   {
    "duration": 13,
    "start_time": "2023-09-02T15:21:18.944Z"
   },
   {
    "duration": 17,
    "start_time": "2023-09-02T15:21:18.959Z"
   },
   {
    "duration": 94,
    "start_time": "2023-09-02T15:21:18.979Z"
   },
   {
    "duration": 12,
    "start_time": "2023-09-02T15:21:19.076Z"
   },
   {
    "duration": 20,
    "start_time": "2023-09-02T15:21:19.090Z"
   },
   {
    "duration": 59,
    "start_time": "2023-09-02T15:21:19.112Z"
   },
   {
    "duration": 14,
    "start_time": "2023-09-02T15:21:19.173Z"
   },
   {
    "duration": 27,
    "start_time": "2023-09-02T15:21:19.190Z"
   },
   {
    "duration": 11,
    "start_time": "2023-09-02T15:21:19.219Z"
   },
   {
    "duration": 11,
    "start_time": "2023-09-02T15:21:19.232Z"
   },
   {
    "duration": 15,
    "start_time": "2023-09-02T15:21:19.245Z"
   },
   {
    "duration": 14,
    "start_time": "2023-09-02T15:21:19.261Z"
   },
   {
    "duration": 4,
    "start_time": "2023-09-02T15:21:19.277Z"
   },
   {
    "duration": 14,
    "start_time": "2023-09-02T15:21:20.469Z"
   },
   {
    "duration": 67,
    "start_time": "2023-09-02T15:21:20.485Z"
   },
   {
    "duration": 45,
    "start_time": "2023-09-02T15:21:20.553Z"
   },
   {
    "duration": 169,
    "start_time": "2023-09-02T15:21:20.759Z"
   },
   {
    "duration": 6,
    "start_time": "2023-09-02T15:21:20.930Z"
   },
   {
    "duration": 123,
    "start_time": "2023-09-02T15:21:20.937Z"
   },
   {
    "duration": 256,
    "start_time": "2023-09-02T15:21:21.062Z"
   },
   {
    "duration": 196,
    "start_time": "2023-09-02T15:21:21.321Z"
   },
   {
    "duration": 221,
    "start_time": "2023-09-02T15:21:21.991Z"
   },
   {
    "duration": 27,
    "start_time": "2023-09-02T15:21:22.214Z"
   },
   {
    "duration": 14,
    "start_time": "2023-09-02T15:21:22.242Z"
   },
   {
    "duration": 17,
    "start_time": "2023-09-02T15:21:22.257Z"
   },
   {
    "duration": 18,
    "start_time": "2023-09-02T15:21:26.195Z"
   },
   {
    "duration": 196,
    "start_time": "2023-09-02T15:21:26.215Z"
   },
   {
    "duration": 197,
    "start_time": "2023-09-02T15:21:26.672Z"
   },
   {
    "duration": 4,
    "start_time": "2023-09-02T15:21:26.871Z"
   },
   {
    "duration": 52,
    "start_time": "2023-09-02T15:21:26.877Z"
   },
   {
    "duration": 13,
    "start_time": "2023-09-02T15:21:26.931Z"
   },
   {
    "duration": 118,
    "start_time": "2023-09-02T15:21:26.946Z"
   },
   {
    "duration": 8,
    "start_time": "2023-09-02T15:21:27.299Z"
   },
   {
    "duration": 11,
    "start_time": "2023-09-02T15:21:27.309Z"
   },
   {
    "duration": 5,
    "start_time": "2023-09-02T15:21:27.347Z"
   },
   {
    "duration": 9,
    "start_time": "2023-09-02T15:21:27.423Z"
   },
   {
    "duration": 13,
    "start_time": "2023-09-02T15:21:27.434Z"
   },
   {
    "duration": 1550,
    "start_time": "2023-09-02T15:21:27.911Z"
   },
   {
    "duration": 5,
    "start_time": "2023-09-02T15:21:29.463Z"
   },
   {
    "duration": 152,
    "start_time": "2023-09-02T15:21:29.470Z"
   },
   {
    "duration": 71,
    "start_time": "2023-09-02T15:27:01.428Z"
   },
   {
    "duration": 1672,
    "start_time": "2023-09-02T15:27:16.506Z"
   },
   {
    "duration": 5,
    "start_time": "2023-09-02T15:29:25.111Z"
   },
   {
    "duration": 5,
    "start_time": "2023-09-02T15:30:39.306Z"
   },
   {
    "duration": 314,
    "start_time": "2023-09-02T16:31:13.503Z"
   },
   {
    "duration": 308,
    "start_time": "2023-09-02T16:31:20.376Z"
   },
   {
    "duration": 93,
    "start_time": "2023-09-02T16:36:41.003Z"
   },
   {
    "duration": 86,
    "start_time": "2023-09-02T16:36:50.392Z"
   },
   {
    "duration": 6,
    "start_time": "2023-09-02T16:37:07.189Z"
   },
   {
    "duration": 5,
    "start_time": "2023-09-02T16:37:21.525Z"
   },
   {
    "duration": 7,
    "start_time": "2023-09-02T16:37:31.118Z"
   },
   {
    "duration": 7,
    "start_time": "2023-09-02T16:37:37.584Z"
   },
   {
    "duration": 5,
    "start_time": "2023-09-02T16:37:41.944Z"
   },
   {
    "duration": 6,
    "start_time": "2023-09-02T16:37:45.376Z"
   },
   {
    "duration": 5,
    "start_time": "2023-09-02T16:37:49.739Z"
   },
   {
    "duration": 1644,
    "start_time": "2023-09-02T16:38:23.973Z"
   },
   {
    "duration": 1634,
    "start_time": "2023-09-02T16:38:34.100Z"
   },
   {
    "duration": 45,
    "start_time": "2023-09-02T16:38:43.708Z"
   },
   {
    "duration": 1649,
    "start_time": "2023-09-02T16:38:50.088Z"
   },
   {
    "duration": 5,
    "start_time": "2023-09-02T16:39:17.081Z"
   },
   {
    "duration": 6,
    "start_time": "2023-09-02T16:39:50.124Z"
   }
  ],
  "kernelspec": {
   "display_name": "Python 3 (ipykernel)",
   "language": "python",
   "name": "python3"
  },
  "language_info": {
   "codemirror_mode": {
    "name": "ipython",
    "version": 3
   },
   "file_extension": ".py",
   "mimetype": "text/x-python",
   "name": "python",
   "nbconvert_exporter": "python",
   "pygments_lexer": "ipython3",
   "version": "3.11.5"
  },
  "toc": {
   "base_numbering": 1,
   "nav_menu": {},
   "number_sections": true,
   "sideBar": true,
   "skip_h1_title": true,
   "title_cell": "Table of Contents",
   "title_sidebar": "Contents",
   "toc_cell": false,
   "toc_position": {},
   "toc_section_display": true,
   "toc_window_display": true
  }
 },
 "nbformat": 4,
 "nbformat_minor": 5
}
